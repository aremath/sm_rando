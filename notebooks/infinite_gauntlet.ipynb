{
 "cells": [
  {
   "cell_type": "code",
   "execution_count": 1,
   "id": "fe11d186-74b6-4190-bdbc-0c259be38cb9",
   "metadata": {},
   "outputs": [],
   "source": [
    "%load_ext autoreload\n",
    "%autoreload 2"
   ]
  },
  {
   "cell_type": "code",
   "execution_count": 2,
   "id": "caa83731-e051-4d92-8518-95f11a0489db",
   "metadata": {},
   "outputs": [],
   "source": [
    "# Gross\n",
    "import sys\n",
    "sys.path.append(\"..\")"
   ]
  },
  {
   "cell_type": "code",
   "execution_count": 3,
   "id": "9872a81b-48bb-4766-9859-338a5107917a",
   "metadata": {},
   "outputs": [],
   "source": [
    "import random\n",
    "from world_rando import generate\n",
    "from rom_tools.rom_manager import RomManager, region_map_locs\n",
    "from rom_tools import rom_data_structures\n",
    "from world_rando.room_dtypes import convert_rooms\n",
    "from rom_tools.address import Address\n",
    "from encoding import free_space\n",
    "from world_rando import map_viz"
   ]
  },
  {
   "cell_type": "code",
   "execution_count": 4,
   "id": "98da3763-61ca-4956-ad69-a88a6bf40f0f",
   "metadata": {},
   "outputs": [],
   "source": [
    "from rom_tools import rom_edit"
   ]
  },
  {
   "cell_type": "code",
   "execution_count": 5,
   "id": "0a688cd7-75e2-4bc4-b522-a44e2903a53e",
   "metadata": {},
   "outputs": [],
   "source": [
    "rom_m = RomManager(\"../../roms/sm_clean.smc\", \"../../roms/sm_infinite_gauntlet1.smc\")"
   ]
  },
  {
   "cell_type": "code",
   "execution_count": 6,
   "id": "c5e244ca-2270-4229-986d-b0050b75ef4f",
   "metadata": {},
   "outputs": [],
   "source": [
    "a = Address(0x1a03d1)"
   ]
  },
  {
   "cell_type": "code",
   "execution_count": 8,
   "id": "cc6b7f01-cc1a-4028-b9e1-850cdec0b0cc",
   "metadata": {},
   "outputs": [
    {
     "data": {
      "text/plain": [
       "b'\\xbf\\xe6\\x07\\x00\\x7f\\xea\\x07\\x00\\xff\\xff'"
      ]
     },
     "execution_count": 8,
     "metadata": {},
     "output_type": "execute_result"
    }
   ],
   "source": [
    "rom_m.read_from_clean(a, 10)"
   ]
  },
  {
   "cell_type": "code",
   "execution_count": 121,
   "id": "3d217a19-8ed9-43c7-a8a1-7e302234b998",
   "metadata": {},
   "outputs": [
    {
     "name": "stdout",
     "output_type": "stream",
     "text": [
      "Parsing original rooms\n"
     ]
    }
   ],
   "source": [
    "print(\"Parsing original rooms\")\n",
    "parsed_rooms = rom_m.parse()"
   ]
  },
  {
   "cell_type": "code",
   "execution_count": 122,
   "id": "1c5b9197-eeeb-4023-a4a7-2d11141b1e2b",
   "metadata": {},
   "outputs": [],
   "source": [
    "front_of_gauntlet = parsed_rooms[\"room_header_0x792b3\"]\n",
    "back_of_gauntlet = parsed_rooms[\"room_header_0x7965b\"]\n",
    "kraid_save = parsed_rooms[\"room_header_0x7a70b\"]"
   ]
  },
  {
   "cell_type": "code",
   "execution_count": 123,
   "id": "316eb3ed-5072-4875-a353-54b1ce6b5d63",
   "metadata": {},
   "outputs": [],
   "source": [
    "# Here's the plan\n",
    "# Create a new right save point\n",
    "# Put it at the ship save so the game starts there\n",
    "# Create a bunch of ASP gauntlets\n",
    "# Hook them together\n",
    "# ????\n",
    "# Profit\n",
    "# [] [] [] [] [] [] [] [] [] [] [] [] [S]"
   ]
  },
  {
   "cell_type": "code",
   "execution_count": 124,
   "id": "a9944e1f-72d0-4328-92e0-da486b5c347c",
   "metadata": {},
   "outputs": [],
   "source": [
    "#from world_rando.room_dtypes import Room, Door, RoomCopyConverter, convert_room\n",
    "import world_rando.room_dtypes as roomd\n",
    "from world_rando.coord import Coord\n",
    "from world_rando.settings import Region"
   ]
  },
  {
   "cell_type": "code",
   "execution_count": 125,
   "id": "129d2b1d-caf8-4822-9960-6c402beb1e2f",
   "metadata": {},
   "outputs": [],
   "source": [
    "gauntlet_str = \"gauntlet_{}\"\n",
    "gauntlet_door_str = \"{}_to_{}\"\n",
    "crateria = Region(\"Crateria\")\n",
    "save_name = \"save\"\n",
    "back_of_gauntlet_size = 6"
   ]
  },
  {
   "cell_type": "code",
   "execution_count": 126,
   "id": "611ec21b-7b76-4625-9196-c0164665f7f6",
   "metadata": {},
   "outputs": [],
   "source": [
    "def mk_room_copy(room_str, pos, size, rooms, converter):\n",
    "    room = roomd.Room(None, size, room_str, pos, crateria)\n",
    "    room.converter = converter\n",
    "    rooms[room_str] = room\n",
    "    return room"
   ]
  },
  {
   "cell_type": "code",
   "execution_count": 127,
   "id": "9f13f575-3574-4faa-8b9c-3b0f2e02f0a9",
   "metadata": {},
   "outputs": [],
   "source": [
    "from collections import namedtuple\n",
    "GauntletInfo = namedtuple(\"GauntletInfo\", [\"converter\", \"size\", \"original\", \"similarity\"])"
   ]
  },
  {
   "cell_type": "code",
   "execution_count": 128,
   "id": "0811c7b5-b3d7-4b2c-8b5b-ca732fe86d70",
   "metadata": {},
   "outputs": [],
   "source": [
    "fg = \"front_of_gauntlet\"\n",
    "bg = \"back_of_gauntlet\""
   ]
  },
  {
   "cell_type": "code",
   "execution_count": 129,
   "id": "1be0a44c-cfd8-4a40-9d3c-2fc5aa44463f",
   "metadata": {},
   "outputs": [],
   "source": [
    "# 0.03 too low for back of gauntlet.\n",
    "# 0.04 works, but want some more chaos?\n",
    "# 0.035 is a LITTLE too little\n",
    "gauntlet_info = {\n",
    "    fg: GauntletInfo(roomd.RoomCopyConverter(\"room_header_0x792b3\"), Coord(5, 1), front_of_gauntlet, 0.02),\n",
    "    bg: GauntletInfo(roomd.RoomCopyConverter(\"room_header_0x7965b\"), Coord(6, 1), back_of_gauntlet, 0.036)\n",
    "}"
   ]
  },
  {
   "cell_type": "code",
   "execution_count": 130,
   "id": "7605b2cf-1e9c-46df-aafb-561e416de626",
   "metadata": {},
   "outputs": [],
   "source": [
    "# Create rooms"
   ]
  },
  {
   "cell_type": "code",
   "execution_count": 131,
   "id": "f8682235-4ed4-43ac-81aa-246ac38eaf0d",
   "metadata": {},
   "outputs": [],
   "source": [
    "rooms = {}"
   ]
  },
  {
   "cell_type": "code",
   "execution_count": 132,
   "id": "3d934ac2-f03b-4399-b79a-c3f335f79882",
   "metadata": {},
   "outputs": [],
   "source": [
    "# Save Room\n",
    "save_pos = Coord(63, 15)\n",
    "door_s_to_g = roomd.Door(save_pos, Coord(-1, 0), save_name, gauntlet_str.format(0), \"save_to_g0\")"
   ]
  },
  {
   "cell_type": "code",
   "execution_count": 133,
   "id": "61c78e08-c360-4201-a8da-6c5cf769c9eb",
   "metadata": {},
   "outputs": [],
   "source": [
    "#TODO: CMAP\n",
    "save_room = roomd.Room(None, Coord(1,1), save_name, save_pos, crateria)\n",
    "save_room.doors.append(door_s_to_g)\n",
    "save_room.converter = roomd.RoomCopyConverter(\"room_header_0x7a70b\")\n",
    "rooms[save_name] = save_room"
   ]
  },
  {
   "cell_type": "code",
   "execution_count": 134,
   "id": "a5f1d2c2-0fec-44d9-9e51-7c539e7feb2d",
   "metadata": {},
   "outputs": [],
   "source": [
    "#TODO: For now, just add copies of front of gauntlet"
   ]
  },
  {
   "cell_type": "code",
   "execution_count": 135,
   "id": "459be7ea-32f5-494b-93f7-e391449da017",
   "metadata": {},
   "outputs": [
    {
     "name": "stdout",
     "output_type": "stream",
     "text": [
      "c(58,15)\n",
      "c(52,15)\n",
      "c(47,15)\n",
      "c(42,15)\n",
      "c(36,15)\n",
      "c(31,15)\n",
      "c(25,15)\n",
      "c(19,15)\n",
      "c(14,15)\n",
      "c(8,15)\n"
     ]
    }
   ],
   "source": [
    "door_id = 0\n",
    "#gauntlets = [\"front_of_gauntlet\"] * 5\n",
    "gauntlets = [fg, bg, fg, fg, bg, fg, bg, bg, fg, bg]\n",
    "pos = save_pos.copy()\n",
    "for i,g in enumerate(gauntlets):\n",
    "    ginfo = gauntlet_info[g]\n",
    "    room_str = gauntlet_str.format(i)\n",
    "    pos -= Coord(ginfo.size.x, 0)\n",
    "    print(pos)\n",
    "    room = mk_room_copy(room_str, pos, ginfo.size, rooms, ginfo.converter)\n",
    "    # First door is left door\n",
    "    if i == 0:\n",
    "        out_name = save_name\n",
    "    else:\n",
    "        out_name = gauntlet_str.format(i-1)\n",
    "    # Traveling to the right, i.e. backwards\n",
    "    first_door = roomd.Door(pos + Coord(ginfo.size.x - 1, 0), Coord(1, 0), room_str, out_name, f\"door_{gauntlet_str}_{door_id}\")\n",
    "    door_id += 1\n",
    "    room.doors.append(first_door)\n",
    "    # Traveling to the left, i.e. forwards\n",
    "    if i+1 != len(gauntlets):\n",
    "        out_name = gauntlet_str.format(i+1)\n",
    "    else:\n",
    "        out_name = gauntlet_str.format(0) # Loop\n",
    "    second_door = roomd.Door(pos, Coord(-1, 0), room_str, out_name, f\"door_{gauntlet_str}_{door_id}\")\n",
    "    door_id += 1\n",
    "    room.doors.append(second_door)\n"
   ]
  },
  {
   "cell_type": "code",
   "execution_count": 136,
   "id": "3424c5ba-9d68-4d06-aaa5-21c24448521b",
   "metadata": {},
   "outputs": [],
   "source": [
    "#[53, 54, 55, 56, 57,] [58, 59, 60, 61, 62,] [63,]"
   ]
  },
  {
   "cell_type": "code",
   "execution_count": 137,
   "id": "e1193179-9477-4cb3-8c79-e45c77af5eca",
   "metadata": {},
   "outputs": [],
   "source": [
    "# End create rooms"
   ]
  },
  {
   "cell_type": "code",
   "execution_count": 138,
   "id": "96831412-0867-4ca7-80ef-e29b126f9f80",
   "metadata": {},
   "outputs": [
    {
     "data": {
      "text/plain": [
       "[['gauntlet_0'],\n",
       " ['save', 'gauntlet_1'],\n",
       " ['gauntlet_0', 'gauntlet_2'],\n",
       " ['gauntlet_1', 'gauntlet_3'],\n",
       " ['gauntlet_2', 'gauntlet_4'],\n",
       " ['gauntlet_3', 'gauntlet_5'],\n",
       " ['gauntlet_4', 'gauntlet_6'],\n",
       " ['gauntlet_5', 'gauntlet_7'],\n",
       " ['gauntlet_6', 'gauntlet_8'],\n",
       " ['gauntlet_7', 'gauntlet_9'],\n",
       " ['gauntlet_8', 'gauntlet_0']]"
      ]
     },
     "execution_count": 138,
     "metadata": {},
     "output_type": "execute_result"
    }
   ],
   "source": [
    "rooms\n",
    "[[d.destination for d in r.doors] for r in rooms.values()]"
   ]
  },
  {
   "cell_type": "code",
   "execution_count": 139,
   "id": "248b96b6-e1b2-4dc2-8fa8-ee380cd61532",
   "metadata": {},
   "outputs": [],
   "source": [
    "new_obj_names = convert_rooms(rooms, parsed_rooms)"
   ]
  },
  {
   "cell_type": "code",
   "execution_count": 140,
   "id": "3fb76e94-0db0-4eee-93fd-9e64f91fb7cd",
   "metadata": {},
   "outputs": [
    {
     "data": {
      "text/plain": [
       "[room_header_id_0save,\n",
       " room_header_id_0gauntlet_0,\n",
       " room_header_id_0gauntlet_1,\n",
       " room_header_id_0gauntlet_2,\n",
       " room_header_id_0gauntlet_3,\n",
       " room_header_id_0gauntlet_4,\n",
       " room_header_id_0gauntlet_5,\n",
       " room_header_id_0gauntlet_6,\n",
       " room_header_id_0gauntlet_7,\n",
       " room_header_id_0gauntlet_8,\n",
       " room_header_id_0gauntlet_9]"
      ]
     },
     "execution_count": 140,
     "metadata": {},
     "output_type": "execute_result"
    }
   ],
   "source": [
    "[d for d in new_obj_names.values() if type(d) is rom_data_structures.RoomHeader]"
   ]
  },
  {
   "cell_type": "code",
   "execution_count": 141,
   "id": "097cc43a-eb94-4449-82ef-6567e9d1a9c5",
   "metadata": {},
   "outputs": [],
   "source": [
    "header_str = \"room_header_id_0gauntlet_{}\""
   ]
  },
  {
   "cell_type": "code",
   "execution_count": 142,
   "id": "bf356367-1a9f-440d-b631-50a59a7352da",
   "metadata": {},
   "outputs": [
    {
     "data": {
      "text/plain": [
       "[room_header_id_0gauntlet_0, 0, 5, -802, 6, -51, 0, 32768, None]"
      ]
     },
     "execution_count": 142,
     "metadata": {},
     "output_type": "execute_result"
    }
   ],
   "source": [
    "new_obj_names[header_str.format(len(gauntlets)-1)].door_list.l[1].list"
   ]
  },
  {
   "cell_type": "code",
   "execution_count": 143,
   "id": "56334228-f2dd-40fb-ade7-7a3ed42ab0e8",
   "metadata": {},
   "outputs": [],
   "source": [
    "# Special case: Edit the door\n",
    "new_obj_names[header_str.format(len(gauntlets)-1)].door_list.l[1].x_pos_low = 78\n",
    "new_obj_names[header_str.format(len(gauntlets)-1)].door_list.l[1].x_pos_high = gauntlet_info[gauntlets[0]].size.x - 1"
   ]
  },
  {
   "cell_type": "code",
   "execution_count": 144,
   "id": "cff2583c-be18-45f1-8493-c1d3c7279295",
   "metadata": {},
   "outputs": [
    {
     "data": {
      "text/plain": [
       "[[room_header_id_0gauntlet_0, 0, 5, 78, 6, 4, 0, 32768, None],\n",
       " [room_header_id_0save, 0, 4, 1, 6, 0, 0, 32768, None],\n",
       " [room_header_id_0gauntlet_1, 0, 5, 94, 6, 5, 0, 32768, None],\n",
       " [room_header_id_0gauntlet_0, 0, 4, 1, 6, 0, 0, 32768, None],\n",
       " [room_header_id_0gauntlet_2, 0, 5, 78, 6, 4, 0, 32768, None],\n",
       " [room_header_id_0gauntlet_1, 0, 4, 1, 6, 0, 0, 32768, None],\n",
       " [room_header_id_0gauntlet_3, 0, 5, 78, 6, 4, 0, 32768, None],\n",
       " [room_header_id_0gauntlet_2, 0, 4, 1, 6, 0, 0, 32768, None],\n",
       " [room_header_id_0gauntlet_4, 0, 5, 94, 6, 5, 0, 32768, None],\n",
       " [room_header_id_0gauntlet_3, 0, 4, 1, 6, 0, 0, 32768, None],\n",
       " [room_header_id_0gauntlet_5, 0, 5, 78, 6, 4, 0, 32768, None],\n",
       " [room_header_id_0gauntlet_4, 0, 4, 1, 6, 0, 0, 32768, None],\n",
       " [room_header_id_0gauntlet_6, 0, 5, 94, 6, 5, 0, 32768, None],\n",
       " [room_header_id_0gauntlet_5, 0, 4, 1, 6, 0, 0, 32768, None],\n",
       " [room_header_id_0gauntlet_7, 0, 5, 94, 6, 5, 0, 32768, None],\n",
       " [room_header_id_0gauntlet_6, 0, 4, 1, 6, 0, 0, 32768, None],\n",
       " [room_header_id_0gauntlet_8, 0, 5, 78, 6, 4, 0, 32768, None],\n",
       " [room_header_id_0gauntlet_7, 0, 4, 1, 6, 0, 0, 32768, None],\n",
       " [room_header_id_0gauntlet_9, 0, 5, 94, 6, 5, 0, 32768, None],\n",
       " [room_header_id_0gauntlet_8, 0, 4, 1, 6, 0, 0, 32768, None],\n",
       " [room_header_id_0gauntlet_0, 0, 5, 78, 6, 4, 0, 32768, None]]"
      ]
     },
     "execution_count": 144,
     "metadata": {},
     "output_type": "execute_result"
    }
   ],
   "source": [
    "[d.list for d in new_obj_names.values() if type(d) is rom_data_structures.Door]"
   ]
  },
  {
   "cell_type": "code",
   "execution_count": 145,
   "id": "bdbb251a-100a-490e-b4f3-1ac551afd0be",
   "metadata": {},
   "outputs": [
    {
     "data": {
      "text/plain": [
       "save_station_0x44c5"
      ]
     },
     "execution_count": 145,
     "metadata": {},
     "output_type": "execute_result"
    }
   ],
   "source": [
    "# Add the savestation\n",
    "save = new_obj_names[\"room_header_id_0save\"]\n",
    "room_outside_save = save.door_list.l[0].to_room\n",
    "door_to_save = [d for d in room_outside_save.door_list.l if d.to_room is save][0]\n",
    "#['room', 'door', 'door_bts', 'save_x', 'save_y', 'samus_x', 'samus_y']\n",
    "start_replace = [save, door_to_save, 0, 0, 0, 152, 0]\n",
    "new_obj_names.copy_obj(parsed_rooms[\"save_station_0x44c5\"], start_replace)"
   ]
  },
  {
   "cell_type": "code",
   "execution_count": 146,
   "id": "dfa1b038-b964-47e8-bdea-fab6b4491be2",
   "metadata": {
    "tags": []
   },
   "outputs": [],
   "source": [
    "#new_obj_names.d"
   ]
  },
  {
   "cell_type": "code",
   "execution_count": 147,
   "id": "adb449e8-9b67-4ec8-a72d-a679ed3ef4b0",
   "metadata": {},
   "outputs": [
    {
     "data": {
      "text/plain": [
       "115"
      ]
     },
     "execution_count": 147,
     "metadata": {},
     "output_type": "execute_result"
    }
   ],
   "source": [
    "len(new_obj_names)"
   ]
  },
  {
   "cell_type": "code",
   "execution_count": 148,
   "id": "73b08330-2b2b-4fd0-a8be-27af851c889b",
   "metadata": {},
   "outputs": [],
   "source": [
    "#rom_m.memory.banks\n",
    "rom_m.clear_memory()"
   ]
  },
  {
   "cell_type": "code",
   "execution_count": 149,
   "id": "00ea57c0-d405-4cf2-b77b-de13a25d77c0",
   "metadata": {},
   "outputs": [],
   "source": [
    "rom_edit.make_starting_items(\"B MB M5 E499 GS SA SPB Spazer\", rom_m)"
   ]
  },
  {
   "cell_type": "code",
   "execution_count": 150,
   "id": "0b9b868b-ef21-493d-9cbd-2a008924ebb9",
   "metadata": {},
   "outputs": [],
   "source": [
    "#TODO: cmaps\n",
    "#TODO: alter the PLM lists + change the PLM IDs"
   ]
  },
  {
   "cell_type": "code",
   "execution_count": 151,
   "id": "23ce60ac-207b-428b-a89d-72c3018371cd",
   "metadata": {},
   "outputs": [],
   "source": [
    "sys.path.append(\"../../wfc_2019f\")\n",
    "from world_rando import asp_wave_collapse\n",
    "from tqdm.notebook import tqdm"
   ]
  },
  {
   "cell_type": "code",
   "execution_count": 152,
   "id": "3d6cbb79-e308-4bb9-b698-5471aff91de2",
   "metadata": {},
   "outputs": [],
   "source": [
    "import random"
   ]
  },
  {
   "cell_type": "code",
   "execution_count": 153,
   "id": "431ebe56-8fb7-450c-af16-b12a44910b57",
   "metadata": {},
   "outputs": [
    {
     "data": {
      "application/json": {
       "ascii": false,
       "bar_format": null,
       "colour": null,
       "elapsed": 0.015383481979370117,
       "initial": 0,
       "n": 0,
       "ncols": null,
       "nrows": null,
       "postfix": null,
       "prefix": "",
       "rate": null,
       "total": 10,
       "unit": "it",
       "unit_divisor": 1000,
       "unit_scale": false
      },
      "application/vnd.jupyter.widget-view+json": {
       "model_id": "7c1fb77f0d204780ba04d0b80fa3d184",
       "version_major": 2,
       "version_minor": 0
      },
      "text/plain": [
       "  0%|          | 0/10 [00:00<?, ?it/s]"
      ]
     },
     "metadata": {},
     "output_type": "display_data"
    },
    {
     "name": "stdout",
     "output_type": "stream",
     "text": [
      "room_header_0x792b3\n",
      "For rectangle (c(0,0),c(80,16)):\n",
      "Fixed tile ratio: 0.190625\n",
      "\tGetting tile grid\n",
      "\tRect size: (80, 16)\n",
      "\tGetting pattern catalog\n",
      "\tNumber of patterns: 329\n",
      "\tGetting adjacencies\n",
      "\tStarting ASP instance\n",
      "\tGrounding ASP Model\n",
      "\tSolving ASP Model\n",
      "room_header_0x7965b\n",
      "For rectangle (c(0,0),c(96,16)):\n",
      "Fixed tile ratio: 0.18619791666666666\n",
      "\tGetting tile grid\n",
      "\tRect size: (96, 16)\n",
      "\tGetting pattern catalog\n",
      "\tNumber of patterns: 432\n",
      "\tGetting adjacencies\n",
      "\tStarting ASP instance\n",
      "\tGrounding ASP Model\n",
      "\tSolving ASP Model\n",
      "room_header_0x792b3\n",
      "For rectangle (c(0,0),c(80,16)):\n",
      "Fixed tile ratio: 0.190625\n",
      "\tGetting tile grid\n",
      "\tRect size: (80, 16)\n",
      "\tGetting pattern catalog\n",
      "\tNumber of patterns: 329\n",
      "\tGetting adjacencies\n",
      "\tStarting ASP instance\n",
      "\tGrounding ASP Model\n",
      "\tSolving ASP Model\n",
      "room_header_0x792b3\n",
      "For rectangle (c(0,0),c(80,16)):\n",
      "Fixed tile ratio: 0.190625\n",
      "\tGetting tile grid\n",
      "\tRect size: (80, 16)\n",
      "\tGetting pattern catalog\n",
      "\tNumber of patterns: 329\n",
      "\tGetting adjacencies\n",
      "\tStarting ASP instance\n",
      "\tGrounding ASP Model\n",
      "\tSolving ASP Model\n",
      "room_header_0x7965b\n",
      "For rectangle (c(0,0),c(96,16)):\n",
      "Fixed tile ratio: 0.18619791666666666\n",
      "\tGetting tile grid\n",
      "\tRect size: (96, 16)\n",
      "\tGetting pattern catalog\n",
      "\tNumber of patterns: 432\n",
      "\tGetting adjacencies\n",
      "\tStarting ASP instance\n",
      "\tGrounding ASP Model\n",
      "\tSolving ASP Model\n",
      "room_header_0x792b3\n",
      "For rectangle (c(0,0),c(80,16)):\n",
      "Fixed tile ratio: 0.190625\n",
      "\tGetting tile grid\n",
      "\tRect size: (80, 16)\n",
      "\tGetting pattern catalog\n",
      "\tNumber of patterns: 329\n",
      "\tGetting adjacencies\n",
      "\tStarting ASP instance\n",
      "\tGrounding ASP Model\n",
      "\tSolving ASP Model\n",
      "room_header_0x7965b\n",
      "For rectangle (c(0,0),c(96,16)):\n",
      "Fixed tile ratio: 0.18619791666666666\n",
      "\tGetting tile grid\n",
      "\tRect size: (96, 16)\n",
      "\tGetting pattern catalog\n",
      "\tNumber of patterns: 432\n",
      "\tGetting adjacencies\n",
      "\tStarting ASP instance\n",
      "\tGrounding ASP Model\n",
      "\tSolving ASP Model\n",
      "room_header_0x7965b\n",
      "For rectangle (c(0,0),c(96,16)):\n",
      "Fixed tile ratio: 0.18619791666666666\n",
      "\tGetting tile grid\n",
      "\tRect size: (96, 16)\n",
      "\tGetting pattern catalog\n",
      "\tNumber of patterns: 432\n",
      "\tGetting adjacencies\n",
      "\tStarting ASP instance\n",
      "\tGrounding ASP Model\n",
      "\tSolving ASP Model\n",
      "room_header_0x792b3\n",
      "For rectangle (c(0,0),c(80,16)):\n",
      "Fixed tile ratio: 0.190625\n",
      "\tGetting tile grid\n",
      "\tRect size: (80, 16)\n",
      "\tGetting pattern catalog\n",
      "\tNumber of patterns: 329\n",
      "\tGetting adjacencies\n",
      "\tStarting ASP instance\n",
      "\tGrounding ASP Model\n",
      "\tSolving ASP Model\n",
      "room_header_0x7965b\n",
      "For rectangle (c(0,0),c(96,16)):\n",
      "Fixed tile ratio: 0.18619791666666666\n",
      "\tGetting tile grid\n",
      "\tRect size: (96, 16)\n",
      "\tGetting pattern catalog\n",
      "\tNumber of patterns: 432\n",
      "\tGetting adjacencies\n",
      "\tStarting ASP instance\n",
      "\tGrounding ASP Model\n",
      "\tSolving ASP Model\n"
     ]
    }
   ],
   "source": [
    "# Alter the level data\n",
    "#TODO: cache the patterns\n",
    "#TODO: sanity check that each door is in the same BFS component\n",
    "#TODO: Allow accessing enemies as a new layer, then randomize enemy locations as well\n",
    "# (still with some % fixed)\n",
    "#TODO: Save station reload hangs the game?\n",
    "#TODO: Door ASM for fixing scrolls when entering from the left for back_of_gauntlet\n",
    "for i, g in enumerate(tqdm(gauntlets)):\n",
    "    i_header = new_obj_names[header_str.format(i)]\n",
    "    original = gauntlet_info[g].original\n",
    "    # Get the level data using the original\n",
    "    sim = gauntlet_info[g].similarity\n",
    "    level, fns = asp_wave_collapse.wfc_level_data(original, seed=random.random(), extra_similarity=sim)\n",
    "    #print(fns)\n",
    "    # Save the level data to the new level\n",
    "    asp_wave_collapse.create(i_header, level, fns, keep_allocation=False)"
   ]
  },
  {
   "cell_type": "code",
   "execution_count": 154,
   "id": "488a2cb0-2eb4-47af-94b6-0222c28fadae",
   "metadata": {},
   "outputs": [],
   "source": [
    "c = new_obj_names[\"room_header_id_0gauntlet_0\"].state_chooser.conditions[0]\n",
    "c = front_of_gauntlet.state_chooser.conditions[0]"
   ]
  },
  {
   "cell_type": "code",
   "execution_count": 155,
   "id": "7908ebec-f472-4f51-bb99-1845f1bcf679",
   "metadata": {},
   "outputs": [
    {
     "data": {
      "text/plain": [
       "(level_data_0x2156e8, level_data_0x2156e8)"
      ]
     },
     "execution_count": 155,
     "metadata": {},
     "output_type": "execute_result"
    }
   ],
   "source": [
    "c.state.level_data, front_of_gauntlet.state_chooser.default.level_data"
   ]
  },
  {
   "cell_type": "code",
   "execution_count": 156,
   "id": "0617e65c-2eda-4627-9a00-9f72cf0cd1af",
   "metadata": {},
   "outputs": [],
   "source": [
    "# Reset new_obj_names\n",
    "#for d in new_obj_names.values():\n",
    "#    if hasattr(d, \"address\"):\n",
    "#        delattr(d, \"address\")"
   ]
  },
  {
   "cell_type": "code",
   "execution_count": 157,
   "id": "5ea898b3-299a-44d2-86d9-6aa4c673bd16",
   "metadata": {
    "tags": []
   },
   "outputs": [
    {
     "name": "stdout",
     "output_type": "stream",
     "text": [
      "Compiling rooms\n",
      "Saves: [save_station_0x44c5]\n",
      "ALLOCATION\n",
      "Allocating compiled object door_6 of size 12 at 0x1ad70 in 0x83: [($0x1ad7c, 0x5284)]. Old size: None\n",
      "Allocating compiled object door_23 of size 12 at 0x1ad7c in 0x83: [($0x1ad88, 0x5278)]. Old size: None\n",
      "Allocating compiled object door_35 of size 12 at 0x1ad88 in 0x83: [($0x1ad94, 0x526c)]. Old size: None\n",
      "Allocating compiled object door_42 of size 12 at 0x1ad94 in 0x83: [($0x1ada0, 0x5260)]. Old size: None\n",
      "Allocating compiled object door_49 of size 12 at 0x1ada0 in 0x83: [($0x1adac, 0x5254)]. Old size: None\n",
      "Allocating compiled object door_54 of size 12 at 0x1adac in 0x83: [($0x1adb8, 0x5248)]. Old size: None\n",
      "Allocating compiled object door_61 of size 12 at 0x1adb8 in 0x83: [($0x1adc4, 0x523c)]. Old size: None\n",
      "Allocating compiled object door_66 of size 12 at 0x1adc4 in 0x83: [($0x1add0, 0x5230)]. Old size: None\n",
      "Allocating compiled object door_71 of size 12 at 0x1add0 in 0x83: [($0x1addc, 0x5224)]. Old size: None\n",
      "Allocating compiled object door_78 of size 12 at 0x1addc in 0x83: [($0x1ade8, 0x5218)]. Old size: None\n",
      "Allocating compiled object door_79 of size 12 at 0x1ade8 in 0x83: [($0x1adf4, 0x520c)]. Old size: None\n",
      "Allocating compiled object door_list_80 of size 4 at 0x7e99b in 0x8f: [($0x7e99f, 0x1661)]. Old size: None\n",
      "Allocating compiled object level_data_92 of size 967 at 0x27322e in 0xce: [($0x2735f5, 0x4a0b)]. Old size: None\n",
      "Allocating compiled object room_header_id_0gauntlet_9 of size 39 at 0x7e99f in 0x8f: [($0x7e9c6, 0x163a)]. Old size: None\n",
      "Allocating compiled object door_72 of size 12 at 0x1adf4 in 0x83: [($0x1ae00, 0x5200)]. Old size: None\n",
      "Allocating compiled object door_list_73 of size 4 at 0x7e9c6 in 0x8f: [($0x7e9ca, 0x1636)]. Old size: None\n",
      "Allocating compiled object level_data_91 of size 817 at 0x2735f5 in 0xce: [($0x273926, 0x46da)]. Old size: None\n",
      "Allocating compiled object room_header_id_0gauntlet_8 of size 44 at 0x7e9ca in 0x8f: [($0x7e9f6, 0x160a)]. Old size: None\n",
      "Allocating compiled object door_67 of size 12 at 0x1ae00 in 0x83: [($0x1ae0c, 0x51f4)]. Old size: None\n",
      "Allocating compiled object door_list_68 of size 4 at 0x7e9f6 in 0x8f: [($0x7e9fa, 0x1606)]. Old size: None\n",
      "Allocating compiled object level_data_90 of size 988 at 0x273926 in 0xce: [($0x273d02, 0x42fe)]. Old size: None\n",
      "Allocating compiled object room_header_id_0gauntlet_7 of size 39 at 0x7e9fa in 0x8f: [($0x7ea21, 0x15df)]. Old size: None\n",
      "Allocating compiled object door_62 of size 12 at 0x1ae0c in 0x83: [($0x1ae18, 0x51e8)]. Old size: None\n",
      "Allocating compiled object door_list_63 of size 4 at 0x7ea21 in 0x8f: [($0x7ea25, 0x15db)]. Old size: None\n",
      "Allocating compiled object level_data_89 of size 1031 at 0x273d02 in 0xce: [($0x274109, 0x3ef7)]. Old size: None\n",
      "Allocating compiled object room_header_id_0gauntlet_6 of size 39 at 0x7ea25 in 0x8f: [($0x7ea4c, 0x15b4)]. Old size: None\n",
      "Allocating compiled object door_55 of size 12 at 0x1ae18 in 0x83: [($0x1ae24, 0x51dc)]. Old size: None\n",
      "Allocating compiled object door_list_56 of size 4 at 0x7ea4c in 0x8f: [($0x7ea50, 0x15b0)]. Old size: None\n",
      "Allocating compiled object level_data_88 of size 751 at 0x274109 in 0xce: [($0x2743f8, 0x3c08)]. Old size: None\n",
      "Allocating compiled object room_header_id_0gauntlet_5 of size 44 at 0x7ea50 in 0x8f: [($0x7ea7c, 0x1584)]. Old size: None\n",
      "Allocating compiled object door_50 of size 12 at 0x1ae24 in 0x83: [($0x1ae30, 0x51d0)]. Old size: None\n",
      "Allocating compiled object door_list_51 of size 4 at 0x7ea7c in 0x8f: [($0x7ea80, 0x1580)]. Old size: None\n",
      "Allocating compiled object level_data_87 of size 1034 at 0x2743f8 in 0xce: [($0x274802, 0x37fe)]. Old size: None\n",
      "Allocating compiled object room_header_id_0gauntlet_4 of size 39 at 0x7ea80 in 0x8f: [($0x7eaa7, 0x1559)]. Old size: None\n",
      "Allocating compiled object door_43 of size 12 at 0x1ae30 in 0x83: [($0x1ae3c, 0x51c4)]. Old size: None\n",
      "Allocating compiled object door_list_44 of size 4 at 0x7eaa7 in 0x8f: [($0x7eaab, 0x1555)]. Old size: None\n",
      "Allocating compiled object level_data_86 of size 814 at 0x274802 in 0xce: [($0x274b30, 0x34d0)]. Old size: None\n",
      "Allocating compiled object room_header_id_0gauntlet_3 of size 44 at 0x7eaab in 0x8f: [($0x7ead7, 0x1529)]. Old size: None\n",
      "Allocating compiled object door_36 of size 12 at 0x1ae3c in 0x83: [($0x1ae48, 0x51b8)]. Old size: None\n",
      "Allocating compiled object door_list_37 of size 4 at 0x7ead7 in 0x8f: [($0x7eadb, 0x1525)]. Old size: None\n",
      "Allocating compiled object level_data_85 of size 783 at 0x274b30 in 0xce: [($0x274e3f, 0x31c1)]. Old size: None\n",
      "Allocating compiled object room_header_id_0gauntlet_2 of size 44 at 0x7eadb in 0x8f: [($0x7eb07, 0x14f9)]. Old size: None\n",
      "Allocating compiled object door_24 of size 12 at 0x1ae48 in 0x83: [($0x1ae54, 0x51ac)]. Old size: None\n",
      "Allocating compiled object door_list_25 of size 4 at 0x7eb07 in 0x8f: [($0x7eb0b, 0x14f5)]. Old size: None\n",
      "Allocating compiled object level_data_84 of size 1003 at 0x274e3f in 0xce: [($0x27522a, 0x2dd6)]. Old size: None\n",
      "Allocating compiled object room_header_id_0gauntlet_1 of size 39 at 0x7eb0b in 0x8f: [($0x7eb32, 0x14ce)]. Old size: None\n",
      "Allocating compiled object door_7 of size 12 at 0x1ae54 in 0x83: [($0x1ae60, 0x51a0)]. Old size: None\n",
      "Allocating compiled object door_list_8 of size 4 at 0x7eb32 in 0x8f: [($0x7eb36, 0x14ca)]. Old size: None\n",
      "Allocating compiled object level_data_83 of size 790 at 0x27522a in 0xce: [($0x275540, 0x2ac0)]. Old size: None\n",
      "Allocating compiled object room_header_id_0gauntlet_0 of size 44 at 0x7eb36 in 0x8f: [($0x7eb62, 0x149e)]. Old size: None\n",
      "Allocating compiled object door_1 of size 12 at 0x1ae60 in 0x83: [($0x1ae6c, 0x5194)]. Old size: None\n",
      "Allocating compiled object door_list_2 of size 2 at 0x7eb62 in 0x8f: [($0x7eb64, 0x149c)]. Old size: None\n",
      "Allocating compiled object room_header_id_0save of size 39 at 0x7eb64 in 0x8f: [($0x7eb8b, 0x1475)]. Old size: None\n",
      "POINTER RESOLUTION\n",
      "WRITING\n"
     ]
    }
   ],
   "source": [
    "print(\"Compiling rooms\")\n",
    "rom_m.compile(new_obj_names)\n",
    "rom_m.save_and_close()"
   ]
  },
  {
   "cell_type": "code",
   "execution_count": 403,
   "id": "548300df-4546-4d56-83d2-9d25fea95369",
   "metadata": {},
   "outputs": [],
   "source": [
    "door_l = new_obj_names[\"room_header_id_0gauntlet_0\"].door_list.l"
   ]
  },
  {
   "cell_type": "code",
   "execution_count": 272,
   "id": "9b538dc4-80e5-40b4-8141-f00d49373160",
   "metadata": {},
   "outputs": [
    {
     "data": {
      "text/plain": [
       "[door_6, door_7]"
      ]
     },
     "execution_count": 272,
     "metadata": {},
     "output_type": "execute_result"
    }
   ],
   "source": [
    "door_l"
   ]
  },
  {
   "cell_type": "code",
   "execution_count": 267,
   "id": "3bc9e3d3-49ef-4e49-8a09-e2198fef1977",
   "metadata": {},
   "outputs": [
    {
     "data": {
      "text/plain": [
       "[[room_header_id_0save, 0, 4, 1, 6, 0, 0, 32768, None],\n",
       " [room_header_id_0gauntlet_1, 0, 5, 78, 6, 4, 0, 32768, None]]"
      ]
     },
     "execution_count": 267,
     "metadata": {},
     "output_type": "execute_result"
    }
   ],
   "source": [
    "[d.to_room for d in door_l]\n",
    "[d.list for d in door_l]"
   ]
  },
  {
   "cell_type": "code",
   "execution_count": 268,
   "id": "efc24049-9551-4ad4-bcb6-a1db7e077c6b",
   "metadata": {},
   "outputs": [],
   "source": [
    "door_l_2 = new_obj_names[\"room_header_id_0save\"].door_list.l"
   ]
  },
  {
   "cell_type": "code",
   "execution_count": 269,
   "id": "b88538ad-aec5-40a2-890b-8b1a6c5c0ca0",
   "metadata": {},
   "outputs": [
    {
     "data": {
      "text/plain": [
       "room_header_id_0gauntlet_0"
      ]
     },
     "execution_count": 269,
     "metadata": {},
     "output_type": "execute_result"
    }
   ],
   "source": [
    "door_l_2[0].to_room"
   ]
  },
  {
   "cell_type": "code",
   "execution_count": 270,
   "id": "39abbd33-ad63-409b-8ee6-ba9b9fd1301b",
   "metadata": {},
   "outputs": [
    {
     "data": {
      "text/plain": [
       "[room_header_0x7a70b, door_0x19186, 0, 0, 0, 152, 0]"
      ]
     },
     "execution_count": 270,
     "metadata": {},
     "output_type": "execute_result"
    }
   ],
   "source": [
    "parsed_rooms[\"save_station_0x45f9\"].list"
   ]
  },
  {
   "cell_type": "code",
   "execution_count": 271,
   "id": "0f315526-a4c6-42e9-8912-d7e8f413e7ef",
   "metadata": {},
   "outputs": [
    {
     "data": {
      "text/plain": [
       "[[room_header_0x791f8, 0, 4, 1, 38, 0, 2, 32768, placeholder_0x7b997],\n",
       " [room_header_0x7965b, 0, 5, 94, 6, 5, 0, 32768, None]]"
      ]
     },
     "execution_count": 271,
     "metadata": {},
     "output_type": "execute_result"
    }
   ],
   "source": [
    "[d.to_room for d in front_of_gauntlet.door_list.l]\n",
    "[d.list for d in front_of_gauntlet.door_list.l]"
   ]
  },
  {
   "cell_type": "code",
   "execution_count": 275,
   "id": "5512c196-7fc1-48a8-b2ae-b1fa78cfaf5c",
   "metadata": {},
   "outputs": [],
   "source": [
    "rom_m2 = RomManager(\"../../roms/sm_infinite_gauntlet.smc\", \"../../roms/sm_whatever.smc\")"
   ]
  },
  {
   "cell_type": "code",
   "execution_count": 278,
   "id": "8ed60c88-9fce-436f-95a0-c53ad75fd09e",
   "metadata": {},
   "outputs": [],
   "source": [
    "from rom_tools.rom_data_structures import parse_from_savestations"
   ]
  },
  {
   "cell_type": "code",
   "execution_count": 293,
   "id": "f8fc4183-d011-481c-8e72-5b5873a6d283",
   "metadata": {},
   "outputs": [
    {
     "data": {
      "text/plain": [
       "'0x83addc'"
      ]
     },
     "execution_count": 293,
     "metadata": {},
     "output_type": "execute_result"
    }
   ],
   "source": [
    "hex(Address(0x1addc).as_snes)"
   ]
  },
  {
   "cell_type": "code",
   "execution_count": null,
   "id": "03dfc0fc-054d-4283-97c2-2cccee627528",
   "metadata": {},
   "outputs": [],
   "source": []
  },
  {
   "cell_type": "code",
   "execution_count": 302,
   "id": "a9f93ea5-5b7e-4bfe-9ce0-7f465acf3219",
   "metadata": {},
   "outputs": [
    {
     "data": {
      "text/plain": [
       "[(door_1, 'Door', 0x1addc),\n",
       " (door_list_2, 'DoorList', 0x7e9ad),\n",
       " (room_header_id_0save, 'RoomHeader', 0x7a70b),\n",
       " (level_data_0x2715c2, 'LevelData', 0x2715c2),\n",
       " (fx_0x1842c, 'FX', 0x1842c),\n",
       " (enemy_list_0x1093a9, 'EnemyList', 0x1093a9),\n",
       " (enemy_types_0x1a03c7, 'EnemyTypes', 0x1a03c7),\n",
       " (PLM_list_0x78ad2, 'PLMList', 0x78ad2),\n",
       " (placeholder_0x791f4, 'Placeholder', 0x791f4),\n",
       " (door_6, 'Door', 0x1ad70),\n",
       " (door_7, 'Door', 0x1add0),\n",
       " (door_list_8, 'DoorList', 0x7e9a9),\n",
       " (room_header_id_0gauntlet_0, 'RoomHeader', 0x792b3),\n",
       " (room_state_12, 'RoomState', 0x792df),\n",
       " (level_data_0x2156e8, 'LevelData', 0x2156e8),\n",
       " (fx_0x180e0, 'FX', 0x180e0),\n",
       " (enemy_list_0x10847a, 'EnemyList', 0x10847a),\n",
       " (enemy_types_0x1a00a1, 'EnemyTypes', 0x1a00a1),\n",
       " (PLM_list_0x78058, 'PLMList', 0x78058),\n",
       " (placeholder_0x7b899, 'Placeholder', 0x7b899),\n",
       " (placeholder_0x791d3, 'Placeholder', 0x791d3),\n",
       " (door_23, 'Door', 0x1ad7c),\n",
       " (door_24, 'Door', 0x1adc4),\n",
       " (door_list_25, 'DoorList', 0x7e9a5),\n",
       " (room_header_id_0gauntlet_1, 'RoomHeader', 0x792b3),\n",
       " (room_state_29, 'RoomState', 0x792df),\n",
       " (door_30, 'Door', 0x1ad88),\n",
       " (door_31, 'Door', 0x1adb8),\n",
       " (door_list_32, 'DoorList', 0x7e9a1),\n",
       " (room_header_id_0gauntlet_2, 'RoomHeader', 0x792b3),\n",
       " (room_state_36, 'RoomState', 0x792df),\n",
       " (door_37, 'Door', 0x1ad94),\n",
       " (door_38, 'Door', 0x1adac),\n",
       " (door_list_39, 'DoorList', 0x7e99d),\n",
       " (room_header_id_0gauntlet_3, 'RoomHeader', 0x792b3),\n",
       " (room_state_43, 'RoomState', 0x792df),\n",
       " (door_44, 'Door', 0x1ada0),\n",
       " (door_list_45, 'DoorList', 0x7e99b),\n",
       " (room_header_id_0gauntlet_4, 'RoomHeader', 0x792b3),\n",
       " (room_state_49, 'RoomState', 0x792df),\n",
       " (save_station_0x44c5, 'SaveStation', 0x44c5)]"
      ]
     },
     "execution_count": 302,
     "metadata": {},
     "output_type": "execute_result"
    }
   ],
   "source": [
    "[(o, type(o).__name__, o.address) for o in new_obj_names.values() if hasattr(o, \"address\")]"
   ]
  },
  {
   "cell_type": "code",
   "execution_count": 301,
   "id": "9a632ba2-d9bb-4ec4-993b-b9474e281fb2",
   "metadata": {
    "tags": []
   },
   "outputs": [
    {
     "name": "stdout",
     "output_type": "stream",
     "text": [
      "Parsing original rooms\n",
      "Parsing: save_station_0x44c5\n",
      "Using pointer_parser at 0x44c5\n",
      "Pointer to 0x7a70b\n",
      "Parsing: room_header_0x7a70b\n",
      "Using parse_int at 0x7a70b\n",
      "Got: 54, Size: 1 using parse_int at 0x7a70b\n",
      "\n",
      "Using enum_parser at 0x7a70c\n",
      "Got: 0, Size: 1 using enum_parser at 0x7a70c\n",
      "\n",
      "Using parse_int at 0x7a70d\n",
      "Got: 63, Size: 1 using parse_int at 0x7a70d\n",
      "\n",
      "Using parse_int at 0x7a70e\n",
      "Got: 15, Size: 1 using parse_int at 0x7a70e\n",
      "\n",
      "Using parse_int at 0x7a70f\n",
      "Got: 1, Size: 1 using parse_int at 0x7a70f\n",
      "\n",
      "Using parse_int at 0x7a710\n",
      "Got: 1, Size: 1 using parse_int at 0x7a710\n",
      "\n",
      "Using parse_int at 0x7a711\n",
      "Got: 112, Size: 1 using parse_int at 0x7a711\n",
      "\n",
      "Using parse_int at 0x7a712\n",
      "Got: 160, Size: 1 using parse_int at 0x7a712\n",
      "\n",
      "Using enum_parser at 0x7a713\n",
      "Got: set(), Size: 1 using enum_parser at 0x7a713\n",
      "\n",
      "Using pointer_parser at 0x7a714\n",
      "Pointer to 0x7e9ad\n",
      "Parsing: door_list_0x7e9ad\n",
      "Using list_parser at 0x7e9ad\n",
      "Pointer to 0x1addc\n",
      "Parsing: door_0x1addc\n",
      "Using pointer_parser at 0x1addc\n",
      "Pointer to 0x792b3\n",
      "Parsing: room_header_0x792b3\n",
      "Using parse_int at 0x792b3\n",
      "Got: 1, Size: 1 using parse_int at 0x792b3\n",
      "\n",
      "Using enum_parser at 0x792b4\n",
      "Got: 0, Size: 1 using enum_parser at 0x792b4\n",
      "\n",
      "Using parse_int at 0x792b5\n",
      "Got: 38, Size: 1 using parse_int at 0x792b5\n",
      "\n",
      "Using parse_int at 0x792b6\n",
      "Got: 15, Size: 1 using parse_int at 0x792b6\n",
      "\n",
      "Using parse_int at 0x792b7\n",
      "Got: 5, Size: 1 using parse_int at 0x792b7\n",
      "\n",
      "Using parse_int at 0x792b8\n",
      "Got: 1, Size: 1 using parse_int at 0x792b8\n",
      "\n",
      "Using parse_int at 0x792b9\n",
      "Got: 112, Size: 1 using parse_int at 0x792b9\n",
      "\n",
      "Using parse_int at 0x792ba\n",
      "Got: 160, Size: 1 using parse_int at 0x792ba\n",
      "\n",
      "Using enum_parser at 0x792bb\n",
      "Got: set(), Size: 1 using enum_parser at 0x792bb\n",
      "\n",
      "Using pointer_parser at 0x792bc\n",
      "Pointer to 0x7e99b\n",
      "Parsing: door_list_0x7e99b\n",
      "Using list_parser at 0x7e99b\n",
      "Pointer to 0x1ada0\n",
      "Parsing: door_0x1ada0\n",
      "Using pointer_parser at 0x1ada0\n",
      "Pointer to 0x792b3\n",
      "Got: room_header_0x792b3, Size: 2 using pointer_parser at 0x1ada0\n",
      "\n",
      "Using parse_int at 0x1ada2\n",
      "Got: 0, Size: 1 using parse_int at 0x1ada2\n",
      "\n",
      "Using parse_int at 0x1ada3\n",
      "Got: 4, Size: 1 using parse_int at 0x1ada3\n",
      "\n",
      "Using parse_int at 0x1ada4\n",
      "Got: 1, Size: 1 using parse_int at 0x1ada4\n",
      "\n",
      "Using parse_int at 0x1ada5\n",
      "Got: 6, Size: 1 using parse_int at 0x1ada5\n",
      "\n",
      "Using parse_int at 0x1ada6\n",
      "Got: 0, Size: 1 using parse_int at 0x1ada6\n",
      "\n",
      "Using parse_int at 0x1ada7\n",
      "Got: 0, Size: 1 using parse_int at 0x1ada7\n",
      "\n",
      "Using parse_int2 at 0x1ada8\n",
      "Got: 32768, Size: 2 using parse_int2 at 0x1ada8\n",
      "\n",
      "Using pointer_parser at 0x1adaa\n",
      "Got: None, Size: 2 using pointer_parser at 0x1adaa\n",
      "\n",
      "Pointer to 0x1ad94\n",
      "Parsing: door_0x1ad94\n",
      "Using pointer_parser at 0x1ad94\n",
      "Pointer to 0x792b3\n",
      "Got: room_header_0x792b3, Size: 2 using pointer_parser at 0x1ad94\n",
      "\n",
      "Using parse_int at 0x1ad96\n",
      "Got: 0, Size: 1 using parse_int at 0x1ad96\n",
      "\n",
      "Using parse_int at 0x1ad97\n",
      "Got: 4, Size: 1 using parse_int at 0x1ad97\n",
      "\n",
      "Using parse_int at 0x1ad98\n",
      "Got: 1, Size: 1 using parse_int at 0x1ad98\n",
      "\n",
      "Using parse_int at 0x1ad99\n",
      "Got: 6, Size: 1 using parse_int at 0x1ad99\n",
      "\n",
      "Using parse_int at 0x1ad9a\n",
      "Got: 0, Size: 1 using parse_int at 0x1ad9a\n",
      "\n",
      "Using parse_int at 0x1ad9b\n",
      "Got: 0, Size: 1 using parse_int at 0x1ad9b\n",
      "\n",
      "Using parse_int2 at 0x1ad9c\n",
      "Got: 32768, Size: 2 using parse_int2 at 0x1ad9c\n",
      "\n",
      "Using pointer_parser at 0x1ad9e\n",
      "Got: None, Size: 2 using pointer_parser at 0x1ad9e\n",
      "\n",
      "Pointer to 0x1adac\n",
      "Parsing: door_0x1adac\n",
      "Using pointer_parser at 0x1adac\n",
      "Pointer to 0x792b3\n",
      "Got: room_header_0x792b3, Size: 2 using pointer_parser at 0x1adac\n",
      "\n",
      "Using parse_int at 0x1adae\n",
      "Got: 0, Size: 1 using parse_int at 0x1adae\n",
      "\n",
      "Using parse_int at 0x1adaf\n",
      "Got: 5, Size: 1 using parse_int at 0x1adaf\n",
      "\n",
      "Using parse_int at 0x1adb0\n",
      "Got: 78, Size: 1 using parse_int at 0x1adb0\n",
      "\n",
      "Using parse_int at 0x1adb1\n",
      "Got: 6, Size: 1 using parse_int at 0x1adb1\n",
      "\n",
      "Using parse_int at 0x1adb2\n",
      "Got: 4, Size: 1 using parse_int at 0x1adb2\n",
      "\n",
      "Using parse_int at 0x1adb3\n",
      "Got: 0, Size: 1 using parse_int at 0x1adb3\n",
      "\n",
      "Using parse_int2 at 0x1adb4\n",
      "Got: 32768, Size: 2 using parse_int2 at 0x1adb4\n",
      "\n",
      "Using pointer_parser at 0x1adb6\n",
      "Got: None, Size: 2 using pointer_parser at 0x1adb6\n",
      "\n",
      "Pointer to 0x1ad88\n",
      "Parsing: door_0x1ad88\n",
      "Using pointer_parser at 0x1ad88\n",
      "Pointer to 0x792b3\n",
      "Got: room_header_0x792b3, Size: 2 using pointer_parser at 0x1ad88\n",
      "\n",
      "Using parse_int at 0x1ad8a\n",
      "Got: 0, Size: 1 using parse_int at 0x1ad8a\n",
      "\n",
      "Using parse_int at 0x1ad8b\n",
      "Got: 4, Size: 1 using parse_int at 0x1ad8b\n",
      "\n",
      "Using parse_int at 0x1ad8c\n",
      "Got: 1, Size: 1 using parse_int at 0x1ad8c\n",
      "\n",
      "Using parse_int at 0x1ad8d\n",
      "Got: 6, Size: 1 using parse_int at 0x1ad8d\n",
      "\n",
      "Using parse_int at 0x1ad8e\n",
      "Got: 0, Size: 1 using parse_int at 0x1ad8e\n",
      "\n",
      "Using parse_int at 0x1ad8f\n",
      "Got: 0, Size: 1 using parse_int at 0x1ad8f\n",
      "\n",
      "Using parse_int2 at 0x1ad90\n",
      "Got: 32768, Size: 2 using parse_int2 at 0x1ad90\n",
      "\n",
      "Using pointer_parser at 0x1ad92\n",
      "Got: None, Size: 2 using pointer_parser at 0x1ad92\n",
      "\n",
      "Pointer to 0x1adb8\n",
      "Parsing: door_0x1adb8\n",
      "Using pointer_parser at 0x1adb8\n",
      "Pointer to 0x792b3\n",
      "Got: room_header_0x792b3, Size: 2 using pointer_parser at 0x1adb8\n",
      "\n",
      "Using parse_int at 0x1adba\n",
      "Got: 0, Size: 1 using parse_int at 0x1adba\n",
      "\n",
      "Using parse_int at 0x1adbb\n",
      "Got: 5, Size: 1 using parse_int at 0x1adbb\n",
      "\n",
      "Using parse_int at 0x1adbc\n",
      "Got: 78, Size: 1 using parse_int at 0x1adbc\n",
      "\n",
      "Using parse_int at 0x1adbd\n",
      "Got: 6, Size: 1 using parse_int at 0x1adbd\n",
      "\n",
      "Using parse_int at 0x1adbe\n",
      "Got: 4, Size: 1 using parse_int at 0x1adbe\n",
      "\n",
      "Using parse_int at 0x1adbf\n",
      "Got: 0, Size: 1 using parse_int at 0x1adbf\n",
      "\n",
      "Using parse_int2 at 0x1adc0\n",
      "Got: 32768, Size: 2 using parse_int2 at 0x1adc0\n",
      "\n",
      "Using pointer_parser at 0x1adc2\n",
      "Got: None, Size: 2 using pointer_parser at 0x1adc2\n",
      "\n",
      "Pointer to 0x1ad7c\n",
      "Parsing: door_0x1ad7c\n",
      "Using pointer_parser at 0x1ad7c\n",
      "Pointer to 0x792b3\n",
      "Got: room_header_0x792b3, Size: 2 using pointer_parser at 0x1ad7c\n",
      "\n",
      "Using parse_int at 0x1ad7e\n",
      "Got: 0, Size: 1 using parse_int at 0x1ad7e\n",
      "\n",
      "Using parse_int at 0x1ad7f\n",
      "Got: 4, Size: 1 using parse_int at 0x1ad7f\n",
      "\n",
      "Using parse_int at 0x1ad80\n",
      "Got: 1, Size: 1 using parse_int at 0x1ad80\n",
      "\n",
      "Using parse_int at 0x1ad81\n",
      "Got: 6, Size: 1 using parse_int at 0x1ad81\n",
      "\n",
      "Using parse_int at 0x1ad82\n",
      "Got: 0, Size: 1 using parse_int at 0x1ad82\n",
      "\n",
      "Using parse_int at 0x1ad83\n",
      "Got: 0, Size: 1 using parse_int at 0x1ad83\n",
      "\n",
      "Using parse_int2 at 0x1ad84\n",
      "Got: 32768, Size: 2 using parse_int2 at 0x1ad84\n",
      "\n",
      "Using pointer_parser at 0x1ad86\n",
      "Got: None, Size: 2 using pointer_parser at 0x1ad86\n",
      "\n",
      "Pointer to 0x1adc4\n",
      "Parsing: door_0x1adc4\n",
      "Using pointer_parser at 0x1adc4\n",
      "Pointer to 0x792b3\n",
      "Got: room_header_0x792b3, Size: 2 using pointer_parser at 0x1adc4\n",
      "\n",
      "Using parse_int at 0x1adc6\n",
      "Got: 0, Size: 1 using parse_int at 0x1adc6\n",
      "\n",
      "Using parse_int at 0x1adc7\n",
      "Got: 5, Size: 1 using parse_int at 0x1adc7\n",
      "\n",
      "Using parse_int at 0x1adc8\n",
      "Got: 78, Size: 1 using parse_int at 0x1adc8\n",
      "\n",
      "Using parse_int at 0x1adc9\n",
      "Got: 6, Size: 1 using parse_int at 0x1adc9\n",
      "\n",
      "Using parse_int at 0x1adca\n",
      "Got: 4, Size: 1 using parse_int at 0x1adca\n",
      "\n",
      "Using parse_int at 0x1adcb\n",
      "Got: 0, Size: 1 using parse_int at 0x1adcb\n",
      "\n",
      "Using parse_int2 at 0x1adcc\n",
      "Got: 32768, Size: 2 using parse_int2 at 0x1adcc\n",
      "\n",
      "Using pointer_parser at 0x1adce\n",
      "Got: None, Size: 2 using pointer_parser at 0x1adce\n",
      "\n",
      "Pointer to 0x1ad70\n",
      "Parsing: door_0x1ad70\n",
      "Using pointer_parser at 0x1ad70\n",
      "Pointer to 0x7a70b\n",
      "Got: room_header_0x7a70b, Size: 2 using pointer_parser at 0x1ad70\n",
      "\n",
      "Using parse_int at 0x1ad72\n",
      "Got: 0, Size: 1 using parse_int at 0x1ad72\n",
      "\n",
      "Using parse_int at 0x1ad73\n",
      "Got: 4, Size: 1 using parse_int at 0x1ad73\n",
      "\n",
      "Using parse_int at 0x1ad74\n",
      "Got: 1, Size: 1 using parse_int at 0x1ad74\n",
      "\n",
      "Using parse_int at 0x1ad75\n",
      "Got: 6, Size: 1 using parse_int at 0x1ad75\n",
      "\n",
      "Using parse_int at 0x1ad76\n",
      "Got: 0, Size: 1 using parse_int at 0x1ad76\n",
      "\n",
      "Using parse_int at 0x1ad77\n",
      "Got: 0, Size: 1 using parse_int at 0x1ad77\n",
      "\n",
      "Using parse_int2 at 0x1ad78\n",
      "Got: 32768, Size: 2 using parse_int2 at 0x1ad78\n",
      "\n",
      "Using pointer_parser at 0x1ad7a\n",
      "Got: None, Size: 2 using pointer_parser at 0x1ad7a\n",
      "\n",
      "Pointer to 0x1add0\n",
      "Parsing: door_0x1add0\n",
      "Using pointer_parser at 0x1add0\n",
      "Pointer to 0x792b3\n",
      "Got: room_header_0x792b3, Size: 2 using pointer_parser at 0x1add0\n",
      "\n",
      "Using parse_int at 0x1add2\n",
      "Got: 0, Size: 1 using parse_int at 0x1add2\n",
      "\n",
      "Using parse_int at 0x1add3\n",
      "Got: 5, Size: 1 using parse_int at 0x1add3\n",
      "\n",
      "Using parse_int at 0x1add4\n",
      "Got: 78, Size: 1 using parse_int at 0x1add4\n",
      "\n",
      "Using parse_int at 0x1add5\n",
      "Got: 6, Size: 1 using parse_int at 0x1add5\n",
      "\n",
      "Using parse_int at 0x1add6\n",
      "Got: 4, Size: 1 using parse_int at 0x1add6\n",
      "\n",
      "Using parse_int at 0x1add7\n",
      "Got: 0, Size: 1 using parse_int at 0x1add7\n",
      "\n",
      "Using parse_int2 at 0x1add8\n",
      "Got: 32768, Size: 2 using parse_int2 at 0x1add8\n",
      "\n",
      "Using pointer_parser at 0x1adda\n",
      "Got: None, Size: 2 using pointer_parser at 0x1adda\n",
      "\n",
      "Pointer to 0x1addc\n",
      "Pointer to 0x1ffff\n",
      "Parsing: door_0x1ffff\n",
      "Using pointer_parser at 0x1ffff\n",
      "Pointer to 0x7daff\n",
      "Parsing: room_header_0x7daff\n",
      "Using parse_int at 0x7daff\n",
      "Got: 193, Size: 1 using parse_int at 0x7daff\n",
      "\n",
      "Using enum_parser at 0x7db00\n"
     ]
    },
    {
     "ename": "AssertionError",
     "evalue": "No matching enum entry for 193",
     "output_type": "error",
     "traceback": [
      "\u001b[0;31m---------------------------------------------------------------------------\u001b[0m",
      "\u001b[0;31mAssertionError\u001b[0m                            Traceback (most recent call last)",
      "\u001b[0;32m<ipython-input-301-9665c77f277b>\u001b[0m in \u001b[0;36m<module>\u001b[0;34m\u001b[0m\n\u001b[1;32m      1\u001b[0m \u001b[0mprint\u001b[0m\u001b[0;34m(\u001b[0m\u001b[0;34m\"Parsing original rooms\"\u001b[0m\u001b[0;34m)\u001b[0m\u001b[0;34m\u001b[0m\u001b[0;34m\u001b[0m\u001b[0m\n\u001b[0;32m----> 2\u001b[0;31m \u001b[0minf_rooms\u001b[0m \u001b[0;34m=\u001b[0m \u001b[0mparse_from_savestations\u001b[0m\u001b[0;34m(\u001b[0m\u001b[0;34m[\u001b[0m\u001b[0mAddress\u001b[0m\u001b[0;34m(\u001b[0m\u001b[0;36m0x44c5\u001b[0m\u001b[0;34m)\u001b[0m\u001b[0;34m]\u001b[0m\u001b[0;34m,\u001b[0m \u001b[0mrom_m2\u001b[0m\u001b[0;34m)\u001b[0m\u001b[0;34m\u001b[0m\u001b[0;34m\u001b[0m\u001b[0m\n\u001b[0m",
      "\u001b[0;32m/mnt/d/Ross/Programming/sm door rando/sm_rando/rom_tools/rom_data_structures.py\u001b[0m in \u001b[0;36mparse_from_savestations\u001b[0;34m(savestation_addrs, rom)\u001b[0m\n\u001b[1;32m   1170\u001b[0m     \u001b[0mobj_names\u001b[0m \u001b[0;34m=\u001b[0m \u001b[0mObjNames\u001b[0m\u001b[0;34m(\u001b[0m\u001b[0;34m)\u001b[0m\u001b[0;34m\u001b[0m\u001b[0;34m\u001b[0m\u001b[0m\n\u001b[1;32m   1171\u001b[0m     \u001b[0;32mfor\u001b[0m \u001b[0maddr\u001b[0m \u001b[0;32min\u001b[0m \u001b[0msavestation_addrs\u001b[0m\u001b[0;34m:\u001b[0m\u001b[0;34m\u001b[0m\u001b[0;34m\u001b[0m\u001b[0m\n\u001b[0;32m-> 1172\u001b[0;31m         \u001b[0mSaveStation\u001b[0m\u001b[0;34m.\u001b[0m\u001b[0mfns\u001b[0m\u001b[0;34m[\u001b[0m\u001b[0;36m0\u001b[0m\u001b[0;34m]\u001b[0m\u001b[0;34m(\u001b[0m\u001b[0maddr\u001b[0m\u001b[0;34m,\u001b[0m \u001b[0mobj_names\u001b[0m\u001b[0;34m,\u001b[0m \u001b[0mrom\u001b[0m\u001b[0;34m,\u001b[0m \u001b[0;32mNone\u001b[0m\u001b[0;34m)\u001b[0m\u001b[0;34m\u001b[0m\u001b[0;34m\u001b[0m\u001b[0m\n\u001b[0m\u001b[1;32m   1173\u001b[0m     \u001b[0;32mreturn\u001b[0m \u001b[0mobj_names\u001b[0m\u001b[0;34m\u001b[0m\u001b[0;34m\u001b[0m\u001b[0m\n\u001b[1;32m   1174\u001b[0m \u001b[0;34m\u001b[0m\u001b[0m\n",
      "\u001b[0;32m/mnt/d/Ross/Programming/sm door rando/sm_rando/rom_tools/rom_data_structures.py\u001b[0m in \u001b[0;36mwrapper\u001b[0;34m(address, obj_names, rom, data)\u001b[0m\n\u001b[1;32m    325\u001b[0m             \u001b[0mobj_names\u001b[0m\u001b[0;34m[\u001b[0m\u001b[0mname\u001b[0m\u001b[0;34m]\u001b[0m \u001b[0;34m=\u001b[0m \u001b[0;32mNone\u001b[0m\u001b[0;34m\u001b[0m\u001b[0;34m\u001b[0m\u001b[0m\n\u001b[1;32m    326\u001b[0m             \u001b[0mprint\u001b[0m\u001b[0;34m(\u001b[0m\u001b[0;34m\"Parsing: {}\"\u001b[0m\u001b[0;34m.\u001b[0m\u001b[0mformat\u001b[0m\u001b[0;34m(\u001b[0m\u001b[0mname\u001b[0m\u001b[0;34m)\u001b[0m\u001b[0;34m)\u001b[0m\u001b[0;34m\u001b[0m\u001b[0;34m\u001b[0m\u001b[0m\n\u001b[0;32m--> 327\u001b[0;31m             \u001b[0ms_objs\u001b[0m\u001b[0;34m,\u001b[0m \u001b[0msize\u001b[0m \u001b[0;34m=\u001b[0m \u001b[0mfunc\u001b[0m\u001b[0;34m(\u001b[0m\u001b[0maddress\u001b[0m\u001b[0;34m,\u001b[0m \u001b[0mobj_names\u001b[0m\u001b[0;34m,\u001b[0m \u001b[0mrom\u001b[0m\u001b[0;34m,\u001b[0m \u001b[0mdata\u001b[0m\u001b[0;34m)\u001b[0m\u001b[0;34m\u001b[0m\u001b[0;34m\u001b[0m\u001b[0m\n\u001b[0m\u001b[1;32m    328\u001b[0m             \u001b[0;31m#print(constructor)\u001b[0m\u001b[0;34m\u001b[0m\u001b[0;34m\u001b[0m\u001b[0;34m\u001b[0m\u001b[0m\n\u001b[1;32m    329\u001b[0m             \u001b[0;31m#print(s_objs)\u001b[0m\u001b[0;34m\u001b[0m\u001b[0;34m\u001b[0m\u001b[0;34m\u001b[0m\u001b[0m\n",
      "\u001b[0;32m/mnt/d/Ross/Programming/sm door rando/sm_rando/rom_tools/rom_data_structures.py\u001b[0m in \u001b[0;36mparser\u001b[0;34m(address, obj_names, rom, data)\u001b[0m\n\u001b[1;32m    366\u001b[0m     \u001b[0;34m@\u001b[0m\u001b[0mparse_wrapper\u001b[0m\u001b[0;34m(\u001b[0m\u001b[0mconstructor\u001b[0m\u001b[0;34m)\u001b[0m\u001b[0;34m\u001b[0m\u001b[0;34m\u001b[0m\u001b[0m\n\u001b[1;32m    367\u001b[0m     \u001b[0;32mdef\u001b[0m \u001b[0mparser\u001b[0m\u001b[0;34m(\u001b[0m\u001b[0maddress\u001b[0m\u001b[0;34m,\u001b[0m \u001b[0mobj_names\u001b[0m\u001b[0;34m,\u001b[0m \u001b[0mrom\u001b[0m\u001b[0;34m,\u001b[0m \u001b[0mdata\u001b[0m\u001b[0;34m)\u001b[0m\u001b[0;34m:\u001b[0m\u001b[0;34m\u001b[0m\u001b[0;34m\u001b[0m\u001b[0m\n\u001b[0;32m--> 368\u001b[0;31m         \u001b[0;32mreturn\u001b[0m \u001b[0mparse_engine\u001b[0m\u001b[0;34m(\u001b[0m\u001b[0mobj_def\u001b[0m\u001b[0;34m(\u001b[0m\u001b[0;34m)\u001b[0m\u001b[0;34m,\u001b[0m \u001b[0maddress\u001b[0m\u001b[0;34m,\u001b[0m \u001b[0mobj_names\u001b[0m\u001b[0;34m,\u001b[0m \u001b[0mrom\u001b[0m\u001b[0;34m,\u001b[0m \u001b[0mdata\u001b[0m\u001b[0;34m)\u001b[0m\u001b[0;34m\u001b[0m\u001b[0;34m\u001b[0m\u001b[0m\n\u001b[0m\u001b[1;32m    369\u001b[0m \u001b[0;34m\u001b[0m\u001b[0m\n\u001b[1;32m    370\u001b[0m     \u001b[0;34m@\u001b[0m\u001b[0mcompile_wrapper\u001b[0m\u001b[0;34m\u001b[0m\u001b[0;34m\u001b[0m\u001b[0m\n",
      "\u001b[0;32m/mnt/d/Ross/Programming/sm door rando/sm_rando/rom_tools/rom_data_structures.py\u001b[0m in \u001b[0;36mparse_engine\u001b[0;34m(obj_def, address, obj_names, rom, data)\u001b[0m\n\u001b[1;32m    158\u001b[0m             \u001b[0mnew_data\u001b[0m \u001b[0;34m=\u001b[0m \u001b[0;32mNone\u001b[0m\u001b[0;34m\u001b[0m\u001b[0;34m\u001b[0m\u001b[0m\n\u001b[1;32m    159\u001b[0m         \u001b[0mprint\u001b[0m\u001b[0;34m(\u001b[0m\u001b[0;34m\"Using {} at {}\"\u001b[0m\u001b[0;34m.\u001b[0m\u001b[0mformat\u001b[0m\u001b[0;34m(\u001b[0m\u001b[0mparser\u001b[0m\u001b[0;34m.\u001b[0m\u001b[0m__name__\u001b[0m\u001b[0;34m,\u001b[0m \u001b[0maddress\u001b[0m\u001b[0;34m)\u001b[0m\u001b[0;34m)\u001b[0m\u001b[0;34m\u001b[0m\u001b[0;34m\u001b[0m\u001b[0m\n\u001b[0;32m--> 160\u001b[0;31m         \u001b[0mobj\u001b[0m\u001b[0;34m,\u001b[0m \u001b[0msize\u001b[0m \u001b[0;34m=\u001b[0m \u001b[0mparser\u001b[0m\u001b[0;34m(\u001b[0m\u001b[0maddress\u001b[0m\u001b[0;34m,\u001b[0m \u001b[0mobj_names\u001b[0m\u001b[0;34m,\u001b[0m \u001b[0mrom\u001b[0m\u001b[0;34m,\u001b[0m \u001b[0mnew_data\u001b[0m\u001b[0;34m)\u001b[0m\u001b[0;34m\u001b[0m\u001b[0;34m\u001b[0m\u001b[0m\n\u001b[0m\u001b[1;32m    161\u001b[0m         \u001b[0mprint\u001b[0m\u001b[0;34m(\u001b[0m\u001b[0;34m\"Got: {}, Size: {} using {} at {}\\n\"\u001b[0m\u001b[0;34m.\u001b[0m\u001b[0mformat\u001b[0m\u001b[0;34m(\u001b[0m\u001b[0mobj\u001b[0m\u001b[0;34m,\u001b[0m \u001b[0msize\u001b[0m\u001b[0;34m,\u001b[0m \u001b[0mparser\u001b[0m\u001b[0;34m.\u001b[0m\u001b[0m__name__\u001b[0m\u001b[0;34m,\u001b[0m \u001b[0maddress\u001b[0m\u001b[0;34m)\u001b[0m\u001b[0;34m)\u001b[0m\u001b[0;34m\u001b[0m\u001b[0;34m\u001b[0m\u001b[0m\n\u001b[1;32m    162\u001b[0m         \u001b[0mobjs\u001b[0m\u001b[0;34m.\u001b[0m\u001b[0mappend\u001b[0m\u001b[0;34m(\u001b[0m\u001b[0mobj\u001b[0m\u001b[0;34m)\u001b[0m\u001b[0;34m\u001b[0m\u001b[0;34m\u001b[0m\u001b[0m\n",
      "\u001b[0;32m/mnt/d/Ross/Programming/sm door rando/sm_rando/rom_tools/rom_data_structures.py\u001b[0m in \u001b[0;36mpointer_parser\u001b[0;34m(address, obj_names, rom, data)\u001b[0m\n\u001b[1;32m    254\u001b[0m         \u001b[0mprint\u001b[0m\u001b[0;34m(\u001b[0m\u001b[0;34mf\"Pointer to {hex(address.as_pc)}\"\u001b[0m\u001b[0;34m)\u001b[0m\u001b[0;34m\u001b[0m\u001b[0;34m\u001b[0m\u001b[0m\n\u001b[1;32m    255\u001b[0m         \u001b[0mname\u001b[0m \u001b[0;34m=\u001b[0m \u001b[0mconstructor\u001b[0m\u001b[0;34m.\u001b[0m\u001b[0mname_def\u001b[0m\u001b[0;34m.\u001b[0m\u001b[0mformat\u001b[0m\u001b[0;34m(\u001b[0m\u001b[0maddress\u001b[0m\u001b[0;34m)\u001b[0m\u001b[0;34m\u001b[0m\u001b[0;34m\u001b[0m\u001b[0m\n\u001b[0;32m--> 256\u001b[0;31m         \u001b[0mparser\u001b[0m\u001b[0;34m(\u001b[0m\u001b[0maddress\u001b[0m\u001b[0;34m,\u001b[0m \u001b[0mobj_names\u001b[0m\u001b[0;34m,\u001b[0m \u001b[0mrom\u001b[0m\u001b[0;34m,\u001b[0m \u001b[0mdata\u001b[0m\u001b[0;34m)\u001b[0m\u001b[0;34m\u001b[0m\u001b[0;34m\u001b[0m\u001b[0m\n\u001b[0m\u001b[1;32m    257\u001b[0m         \u001b[0;32mreturn\u001b[0m \u001b[0mname\u001b[0m\u001b[0;34m,\u001b[0m \u001b[0mptr_size\u001b[0m\u001b[0;34m\u001b[0m\u001b[0;34m\u001b[0m\u001b[0m\n\u001b[1;32m    258\u001b[0m \u001b[0;34m\u001b[0m\u001b[0m\n",
      "\u001b[0;32m/mnt/d/Ross/Programming/sm door rando/sm_rando/rom_tools/rom_data_structures.py\u001b[0m in \u001b[0;36mwrapper\u001b[0;34m(address, obj_names, rom, data)\u001b[0m\n\u001b[1;32m    325\u001b[0m             \u001b[0mobj_names\u001b[0m\u001b[0;34m[\u001b[0m\u001b[0mname\u001b[0m\u001b[0;34m]\u001b[0m \u001b[0;34m=\u001b[0m \u001b[0;32mNone\u001b[0m\u001b[0;34m\u001b[0m\u001b[0;34m\u001b[0m\u001b[0m\n\u001b[1;32m    326\u001b[0m             \u001b[0mprint\u001b[0m\u001b[0;34m(\u001b[0m\u001b[0;34m\"Parsing: {}\"\u001b[0m\u001b[0;34m.\u001b[0m\u001b[0mformat\u001b[0m\u001b[0;34m(\u001b[0m\u001b[0mname\u001b[0m\u001b[0;34m)\u001b[0m\u001b[0;34m)\u001b[0m\u001b[0;34m\u001b[0m\u001b[0;34m\u001b[0m\u001b[0m\n\u001b[0;32m--> 327\u001b[0;31m             \u001b[0ms_objs\u001b[0m\u001b[0;34m,\u001b[0m \u001b[0msize\u001b[0m \u001b[0;34m=\u001b[0m \u001b[0mfunc\u001b[0m\u001b[0;34m(\u001b[0m\u001b[0maddress\u001b[0m\u001b[0;34m,\u001b[0m \u001b[0mobj_names\u001b[0m\u001b[0;34m,\u001b[0m \u001b[0mrom\u001b[0m\u001b[0;34m,\u001b[0m \u001b[0mdata\u001b[0m\u001b[0;34m)\u001b[0m\u001b[0;34m\u001b[0m\u001b[0;34m\u001b[0m\u001b[0m\n\u001b[0m\u001b[1;32m    328\u001b[0m             \u001b[0;31m#print(constructor)\u001b[0m\u001b[0;34m\u001b[0m\u001b[0;34m\u001b[0m\u001b[0;34m\u001b[0m\u001b[0m\n\u001b[1;32m    329\u001b[0m             \u001b[0;31m#print(s_objs)\u001b[0m\u001b[0;34m\u001b[0m\u001b[0;34m\u001b[0m\u001b[0;34m\u001b[0m\u001b[0m\n",
      "\u001b[0;32m/mnt/d/Ross/Programming/sm door rando/sm_rando/rom_tools/rom_data_structures.py\u001b[0m in \u001b[0;36mparser\u001b[0;34m(address, obj_names, rom, data)\u001b[0m\n\u001b[1;32m    366\u001b[0m     \u001b[0;34m@\u001b[0m\u001b[0mparse_wrapper\u001b[0m\u001b[0;34m(\u001b[0m\u001b[0mconstructor\u001b[0m\u001b[0;34m)\u001b[0m\u001b[0;34m\u001b[0m\u001b[0;34m\u001b[0m\u001b[0m\n\u001b[1;32m    367\u001b[0m     \u001b[0;32mdef\u001b[0m \u001b[0mparser\u001b[0m\u001b[0;34m(\u001b[0m\u001b[0maddress\u001b[0m\u001b[0;34m,\u001b[0m \u001b[0mobj_names\u001b[0m\u001b[0;34m,\u001b[0m \u001b[0mrom\u001b[0m\u001b[0;34m,\u001b[0m \u001b[0mdata\u001b[0m\u001b[0;34m)\u001b[0m\u001b[0;34m:\u001b[0m\u001b[0;34m\u001b[0m\u001b[0;34m\u001b[0m\u001b[0m\n\u001b[0;32m--> 368\u001b[0;31m         \u001b[0;32mreturn\u001b[0m \u001b[0mparse_engine\u001b[0m\u001b[0;34m(\u001b[0m\u001b[0mobj_def\u001b[0m\u001b[0;34m(\u001b[0m\u001b[0;34m)\u001b[0m\u001b[0;34m,\u001b[0m \u001b[0maddress\u001b[0m\u001b[0;34m,\u001b[0m \u001b[0mobj_names\u001b[0m\u001b[0;34m,\u001b[0m \u001b[0mrom\u001b[0m\u001b[0;34m,\u001b[0m \u001b[0mdata\u001b[0m\u001b[0;34m)\u001b[0m\u001b[0;34m\u001b[0m\u001b[0;34m\u001b[0m\u001b[0m\n\u001b[0m\u001b[1;32m    369\u001b[0m \u001b[0;34m\u001b[0m\u001b[0m\n\u001b[1;32m    370\u001b[0m     \u001b[0;34m@\u001b[0m\u001b[0mcompile_wrapper\u001b[0m\u001b[0;34m\u001b[0m\u001b[0;34m\u001b[0m\u001b[0m\n",
      "\u001b[0;32m/mnt/d/Ross/Programming/sm door rando/sm_rando/rom_tools/rom_data_structures.py\u001b[0m in \u001b[0;36mparse_engine\u001b[0;34m(obj_def, address, obj_names, rom, data)\u001b[0m\n\u001b[1;32m    158\u001b[0m             \u001b[0mnew_data\u001b[0m \u001b[0;34m=\u001b[0m \u001b[0;32mNone\u001b[0m\u001b[0;34m\u001b[0m\u001b[0;34m\u001b[0m\u001b[0m\n\u001b[1;32m    159\u001b[0m         \u001b[0mprint\u001b[0m\u001b[0;34m(\u001b[0m\u001b[0;34m\"Using {} at {}\"\u001b[0m\u001b[0;34m.\u001b[0m\u001b[0mformat\u001b[0m\u001b[0;34m(\u001b[0m\u001b[0mparser\u001b[0m\u001b[0;34m.\u001b[0m\u001b[0m__name__\u001b[0m\u001b[0;34m,\u001b[0m \u001b[0maddress\u001b[0m\u001b[0;34m)\u001b[0m\u001b[0;34m)\u001b[0m\u001b[0;34m\u001b[0m\u001b[0;34m\u001b[0m\u001b[0m\n\u001b[0;32m--> 160\u001b[0;31m         \u001b[0mobj\u001b[0m\u001b[0;34m,\u001b[0m \u001b[0msize\u001b[0m \u001b[0;34m=\u001b[0m \u001b[0mparser\u001b[0m\u001b[0;34m(\u001b[0m\u001b[0maddress\u001b[0m\u001b[0;34m,\u001b[0m \u001b[0mobj_names\u001b[0m\u001b[0;34m,\u001b[0m \u001b[0mrom\u001b[0m\u001b[0;34m,\u001b[0m \u001b[0mnew_data\u001b[0m\u001b[0;34m)\u001b[0m\u001b[0;34m\u001b[0m\u001b[0;34m\u001b[0m\u001b[0m\n\u001b[0m\u001b[1;32m    161\u001b[0m         \u001b[0mprint\u001b[0m\u001b[0;34m(\u001b[0m\u001b[0;34m\"Got: {}, Size: {} using {} at {}\\n\"\u001b[0m\u001b[0;34m.\u001b[0m\u001b[0mformat\u001b[0m\u001b[0;34m(\u001b[0m\u001b[0mobj\u001b[0m\u001b[0;34m,\u001b[0m \u001b[0msize\u001b[0m\u001b[0;34m,\u001b[0m \u001b[0mparser\u001b[0m\u001b[0;34m.\u001b[0m\u001b[0m__name__\u001b[0m\u001b[0;34m,\u001b[0m \u001b[0maddress\u001b[0m\u001b[0;34m)\u001b[0m\u001b[0;34m)\u001b[0m\u001b[0;34m\u001b[0m\u001b[0;34m\u001b[0m\u001b[0m\n\u001b[1;32m    162\u001b[0m         \u001b[0mobjs\u001b[0m\u001b[0;34m.\u001b[0m\u001b[0mappend\u001b[0m\u001b[0;34m(\u001b[0m\u001b[0mobj\u001b[0m\u001b[0;34m)\u001b[0m\u001b[0;34m\u001b[0m\u001b[0;34m\u001b[0m\u001b[0m\n",
      "\u001b[0;32m/mnt/d/Ross/Programming/sm door rando/sm_rando/rom_tools/rom_data_structures.py\u001b[0m in \u001b[0;36mpointer_parser\u001b[0;34m(address, obj_names, rom, data)\u001b[0m\n\u001b[1;32m    254\u001b[0m         \u001b[0mprint\u001b[0m\u001b[0;34m(\u001b[0m\u001b[0;34mf\"Pointer to {hex(address.as_pc)}\"\u001b[0m\u001b[0;34m)\u001b[0m\u001b[0;34m\u001b[0m\u001b[0;34m\u001b[0m\u001b[0m\n\u001b[1;32m    255\u001b[0m         \u001b[0mname\u001b[0m \u001b[0;34m=\u001b[0m \u001b[0mconstructor\u001b[0m\u001b[0;34m.\u001b[0m\u001b[0mname_def\u001b[0m\u001b[0;34m.\u001b[0m\u001b[0mformat\u001b[0m\u001b[0;34m(\u001b[0m\u001b[0maddress\u001b[0m\u001b[0;34m)\u001b[0m\u001b[0;34m\u001b[0m\u001b[0;34m\u001b[0m\u001b[0m\n\u001b[0;32m--> 256\u001b[0;31m         \u001b[0mparser\u001b[0m\u001b[0;34m(\u001b[0m\u001b[0maddress\u001b[0m\u001b[0;34m,\u001b[0m \u001b[0mobj_names\u001b[0m\u001b[0;34m,\u001b[0m \u001b[0mrom\u001b[0m\u001b[0;34m,\u001b[0m \u001b[0mdata\u001b[0m\u001b[0;34m)\u001b[0m\u001b[0;34m\u001b[0m\u001b[0;34m\u001b[0m\u001b[0m\n\u001b[0m\u001b[1;32m    257\u001b[0m         \u001b[0;32mreturn\u001b[0m \u001b[0mname\u001b[0m\u001b[0;34m,\u001b[0m \u001b[0mptr_size\u001b[0m\u001b[0;34m\u001b[0m\u001b[0;34m\u001b[0m\u001b[0m\n\u001b[1;32m    258\u001b[0m \u001b[0;34m\u001b[0m\u001b[0m\n",
      "\u001b[0;32m/mnt/d/Ross/Programming/sm door rando/sm_rando/rom_tools/rom_data_structures.py\u001b[0m in \u001b[0;36mwrapper\u001b[0;34m(address, obj_names, rom, data)\u001b[0m\n\u001b[1;32m    325\u001b[0m             \u001b[0mobj_names\u001b[0m\u001b[0;34m[\u001b[0m\u001b[0mname\u001b[0m\u001b[0;34m]\u001b[0m \u001b[0;34m=\u001b[0m \u001b[0;32mNone\u001b[0m\u001b[0;34m\u001b[0m\u001b[0;34m\u001b[0m\u001b[0m\n\u001b[1;32m    326\u001b[0m             \u001b[0mprint\u001b[0m\u001b[0;34m(\u001b[0m\u001b[0;34m\"Parsing: {}\"\u001b[0m\u001b[0;34m.\u001b[0m\u001b[0mformat\u001b[0m\u001b[0;34m(\u001b[0m\u001b[0mname\u001b[0m\u001b[0;34m)\u001b[0m\u001b[0;34m)\u001b[0m\u001b[0;34m\u001b[0m\u001b[0;34m\u001b[0m\u001b[0m\n\u001b[0;32m--> 327\u001b[0;31m             \u001b[0ms_objs\u001b[0m\u001b[0;34m,\u001b[0m \u001b[0msize\u001b[0m \u001b[0;34m=\u001b[0m \u001b[0mfunc\u001b[0m\u001b[0;34m(\u001b[0m\u001b[0maddress\u001b[0m\u001b[0;34m,\u001b[0m \u001b[0mobj_names\u001b[0m\u001b[0;34m,\u001b[0m \u001b[0mrom\u001b[0m\u001b[0;34m,\u001b[0m \u001b[0mdata\u001b[0m\u001b[0;34m)\u001b[0m\u001b[0;34m\u001b[0m\u001b[0;34m\u001b[0m\u001b[0m\n\u001b[0m\u001b[1;32m    328\u001b[0m             \u001b[0;31m#print(constructor)\u001b[0m\u001b[0;34m\u001b[0m\u001b[0;34m\u001b[0m\u001b[0;34m\u001b[0m\u001b[0m\n\u001b[1;32m    329\u001b[0m             \u001b[0;31m#print(s_objs)\u001b[0m\u001b[0;34m\u001b[0m\u001b[0;34m\u001b[0m\u001b[0;34m\u001b[0m\u001b[0m\n",
      "\u001b[0;32m/mnt/d/Ross/Programming/sm door rando/sm_rando/rom_tools/rom_data_structures.py\u001b[0m in \u001b[0;36mparser\u001b[0;34m(address, obj_names, rom, data)\u001b[0m\n\u001b[1;32m    366\u001b[0m     \u001b[0;34m@\u001b[0m\u001b[0mparse_wrapper\u001b[0m\u001b[0;34m(\u001b[0m\u001b[0mconstructor\u001b[0m\u001b[0;34m)\u001b[0m\u001b[0;34m\u001b[0m\u001b[0;34m\u001b[0m\u001b[0m\n\u001b[1;32m    367\u001b[0m     \u001b[0;32mdef\u001b[0m \u001b[0mparser\u001b[0m\u001b[0;34m(\u001b[0m\u001b[0maddress\u001b[0m\u001b[0;34m,\u001b[0m \u001b[0mobj_names\u001b[0m\u001b[0;34m,\u001b[0m \u001b[0mrom\u001b[0m\u001b[0;34m,\u001b[0m \u001b[0mdata\u001b[0m\u001b[0;34m)\u001b[0m\u001b[0;34m:\u001b[0m\u001b[0;34m\u001b[0m\u001b[0;34m\u001b[0m\u001b[0m\n\u001b[0;32m--> 368\u001b[0;31m         \u001b[0;32mreturn\u001b[0m \u001b[0mparse_engine\u001b[0m\u001b[0;34m(\u001b[0m\u001b[0mobj_def\u001b[0m\u001b[0;34m(\u001b[0m\u001b[0;34m)\u001b[0m\u001b[0;34m,\u001b[0m \u001b[0maddress\u001b[0m\u001b[0;34m,\u001b[0m \u001b[0mobj_names\u001b[0m\u001b[0;34m,\u001b[0m \u001b[0mrom\u001b[0m\u001b[0;34m,\u001b[0m \u001b[0mdata\u001b[0m\u001b[0;34m)\u001b[0m\u001b[0;34m\u001b[0m\u001b[0;34m\u001b[0m\u001b[0m\n\u001b[0m\u001b[1;32m    369\u001b[0m \u001b[0;34m\u001b[0m\u001b[0m\n\u001b[1;32m    370\u001b[0m     \u001b[0;34m@\u001b[0m\u001b[0mcompile_wrapper\u001b[0m\u001b[0;34m\u001b[0m\u001b[0;34m\u001b[0m\u001b[0m\n",
      "\u001b[0;32m/mnt/d/Ross/Programming/sm door rando/sm_rando/rom_tools/rom_data_structures.py\u001b[0m in \u001b[0;36mparse_engine\u001b[0;34m(obj_def, address, obj_names, rom, data)\u001b[0m\n\u001b[1;32m    158\u001b[0m             \u001b[0mnew_data\u001b[0m \u001b[0;34m=\u001b[0m \u001b[0;32mNone\u001b[0m\u001b[0;34m\u001b[0m\u001b[0;34m\u001b[0m\u001b[0m\n\u001b[1;32m    159\u001b[0m         \u001b[0mprint\u001b[0m\u001b[0;34m(\u001b[0m\u001b[0;34m\"Using {} at {}\"\u001b[0m\u001b[0;34m.\u001b[0m\u001b[0mformat\u001b[0m\u001b[0;34m(\u001b[0m\u001b[0mparser\u001b[0m\u001b[0;34m.\u001b[0m\u001b[0m__name__\u001b[0m\u001b[0;34m,\u001b[0m \u001b[0maddress\u001b[0m\u001b[0;34m)\u001b[0m\u001b[0;34m)\u001b[0m\u001b[0;34m\u001b[0m\u001b[0;34m\u001b[0m\u001b[0m\n\u001b[0;32m--> 160\u001b[0;31m         \u001b[0mobj\u001b[0m\u001b[0;34m,\u001b[0m \u001b[0msize\u001b[0m \u001b[0;34m=\u001b[0m \u001b[0mparser\u001b[0m\u001b[0;34m(\u001b[0m\u001b[0maddress\u001b[0m\u001b[0;34m,\u001b[0m \u001b[0mobj_names\u001b[0m\u001b[0;34m,\u001b[0m \u001b[0mrom\u001b[0m\u001b[0;34m,\u001b[0m \u001b[0mnew_data\u001b[0m\u001b[0;34m)\u001b[0m\u001b[0;34m\u001b[0m\u001b[0;34m\u001b[0m\u001b[0m\n\u001b[0m\u001b[1;32m    161\u001b[0m         \u001b[0mprint\u001b[0m\u001b[0;34m(\u001b[0m\u001b[0;34m\"Got: {}, Size: {} using {} at {}\\n\"\u001b[0m\u001b[0;34m.\u001b[0m\u001b[0mformat\u001b[0m\u001b[0;34m(\u001b[0m\u001b[0mobj\u001b[0m\u001b[0;34m,\u001b[0m \u001b[0msize\u001b[0m\u001b[0;34m,\u001b[0m \u001b[0mparser\u001b[0m\u001b[0;34m.\u001b[0m\u001b[0m__name__\u001b[0m\u001b[0;34m,\u001b[0m \u001b[0maddress\u001b[0m\u001b[0;34m)\u001b[0m\u001b[0;34m)\u001b[0m\u001b[0;34m\u001b[0m\u001b[0;34m\u001b[0m\u001b[0m\n\u001b[1;32m    162\u001b[0m         \u001b[0mobjs\u001b[0m\u001b[0;34m.\u001b[0m\u001b[0mappend\u001b[0m\u001b[0;34m(\u001b[0m\u001b[0mobj\u001b[0m\u001b[0;34m)\u001b[0m\u001b[0;34m\u001b[0m\u001b[0;34m\u001b[0m\u001b[0m\n",
      "\u001b[0;32m/mnt/d/Ross/Programming/sm door rando/sm_rando/rom_tools/rom_data_structures.py\u001b[0m in \u001b[0;36mlist_parser\u001b[0;34m(address, obj_names, rom, data)\u001b[0m\n\u001b[1;32m    198\u001b[0m         \u001b[0mout_size\u001b[0m \u001b[0;34m=\u001b[0m \u001b[0;36m0\u001b[0m\u001b[0;34m\u001b[0m\u001b[0;34m\u001b[0m\u001b[0m\n\u001b[1;32m    199\u001b[0m         \u001b[0;32mwhile\u001b[0m \u001b[0mterminal_cond\u001b[0m\u001b[0;34m(\u001b[0m\u001b[0maddress\u001b[0m\u001b[0;34m,\u001b[0m \u001b[0mrom\u001b[0m\u001b[0;34m)\u001b[0m\u001b[0;34m:\u001b[0m\u001b[0;34m\u001b[0m\u001b[0;34m\u001b[0m\u001b[0m\n\u001b[0;32m--> 200\u001b[0;31m             \u001b[0mobj\u001b[0m\u001b[0;34m,\u001b[0m \u001b[0msize\u001b[0m \u001b[0;34m=\u001b[0m \u001b[0mparser\u001b[0m\u001b[0;34m(\u001b[0m\u001b[0maddress\u001b[0m\u001b[0;34m,\u001b[0m \u001b[0mobj_names\u001b[0m\u001b[0;34m,\u001b[0m \u001b[0mrom\u001b[0m\u001b[0;34m,\u001b[0m \u001b[0mdata\u001b[0m\u001b[0;34m)\u001b[0m\u001b[0;34m\u001b[0m\u001b[0;34m\u001b[0m\u001b[0m\n\u001b[0m\u001b[1;32m    201\u001b[0m             \u001b[0mout_list\u001b[0m\u001b[0;34m.\u001b[0m\u001b[0mappend\u001b[0m\u001b[0;34m(\u001b[0m\u001b[0mobj\u001b[0m\u001b[0;34m)\u001b[0m\u001b[0;34m\u001b[0m\u001b[0;34m\u001b[0m\u001b[0m\n\u001b[1;32m    202\u001b[0m             \u001b[0mout_size\u001b[0m \u001b[0;34m+=\u001b[0m \u001b[0msize\u001b[0m\u001b[0;34m\u001b[0m\u001b[0;34m\u001b[0m\u001b[0m\n",
      "\u001b[0;32m/mnt/d/Ross/Programming/sm door rando/sm_rando/rom_tools/rom_data_structures.py\u001b[0m in \u001b[0;36mpointer_parser\u001b[0;34m(address, obj_names, rom, data)\u001b[0m\n\u001b[1;32m    254\u001b[0m         \u001b[0mprint\u001b[0m\u001b[0;34m(\u001b[0m\u001b[0;34mf\"Pointer to {hex(address.as_pc)}\"\u001b[0m\u001b[0;34m)\u001b[0m\u001b[0;34m\u001b[0m\u001b[0;34m\u001b[0m\u001b[0m\n\u001b[1;32m    255\u001b[0m         \u001b[0mname\u001b[0m \u001b[0;34m=\u001b[0m \u001b[0mconstructor\u001b[0m\u001b[0;34m.\u001b[0m\u001b[0mname_def\u001b[0m\u001b[0;34m.\u001b[0m\u001b[0mformat\u001b[0m\u001b[0;34m(\u001b[0m\u001b[0maddress\u001b[0m\u001b[0;34m)\u001b[0m\u001b[0;34m\u001b[0m\u001b[0;34m\u001b[0m\u001b[0m\n\u001b[0;32m--> 256\u001b[0;31m         \u001b[0mparser\u001b[0m\u001b[0;34m(\u001b[0m\u001b[0maddress\u001b[0m\u001b[0;34m,\u001b[0m \u001b[0mobj_names\u001b[0m\u001b[0;34m,\u001b[0m \u001b[0mrom\u001b[0m\u001b[0;34m,\u001b[0m \u001b[0mdata\u001b[0m\u001b[0;34m)\u001b[0m\u001b[0;34m\u001b[0m\u001b[0;34m\u001b[0m\u001b[0m\n\u001b[0m\u001b[1;32m    257\u001b[0m         \u001b[0;32mreturn\u001b[0m \u001b[0mname\u001b[0m\u001b[0;34m,\u001b[0m \u001b[0mptr_size\u001b[0m\u001b[0;34m\u001b[0m\u001b[0;34m\u001b[0m\u001b[0m\n\u001b[1;32m    258\u001b[0m \u001b[0;34m\u001b[0m\u001b[0m\n",
      "\u001b[0;32m/mnt/d/Ross/Programming/sm door rando/sm_rando/rom_tools/rom_data_structures.py\u001b[0m in \u001b[0;36mwrapper\u001b[0;34m(address, obj_names, rom, data)\u001b[0m\n\u001b[1;32m    325\u001b[0m             \u001b[0mobj_names\u001b[0m\u001b[0;34m[\u001b[0m\u001b[0mname\u001b[0m\u001b[0;34m]\u001b[0m \u001b[0;34m=\u001b[0m \u001b[0;32mNone\u001b[0m\u001b[0;34m\u001b[0m\u001b[0;34m\u001b[0m\u001b[0m\n\u001b[1;32m    326\u001b[0m             \u001b[0mprint\u001b[0m\u001b[0;34m(\u001b[0m\u001b[0;34m\"Parsing: {}\"\u001b[0m\u001b[0;34m.\u001b[0m\u001b[0mformat\u001b[0m\u001b[0;34m(\u001b[0m\u001b[0mname\u001b[0m\u001b[0;34m)\u001b[0m\u001b[0;34m)\u001b[0m\u001b[0;34m\u001b[0m\u001b[0;34m\u001b[0m\u001b[0m\n\u001b[0;32m--> 327\u001b[0;31m             \u001b[0ms_objs\u001b[0m\u001b[0;34m,\u001b[0m \u001b[0msize\u001b[0m \u001b[0;34m=\u001b[0m \u001b[0mfunc\u001b[0m\u001b[0;34m(\u001b[0m\u001b[0maddress\u001b[0m\u001b[0;34m,\u001b[0m \u001b[0mobj_names\u001b[0m\u001b[0;34m,\u001b[0m \u001b[0mrom\u001b[0m\u001b[0;34m,\u001b[0m \u001b[0mdata\u001b[0m\u001b[0;34m)\u001b[0m\u001b[0;34m\u001b[0m\u001b[0;34m\u001b[0m\u001b[0m\n\u001b[0m\u001b[1;32m    328\u001b[0m             \u001b[0;31m#print(constructor)\u001b[0m\u001b[0;34m\u001b[0m\u001b[0;34m\u001b[0m\u001b[0;34m\u001b[0m\u001b[0m\n\u001b[1;32m    329\u001b[0m             \u001b[0;31m#print(s_objs)\u001b[0m\u001b[0;34m\u001b[0m\u001b[0;34m\u001b[0m\u001b[0;34m\u001b[0m\u001b[0m\n",
      "\u001b[0;32m/mnt/d/Ross/Programming/sm door rando/sm_rando/rom_tools/rom_data_structures.py\u001b[0m in \u001b[0;36mdoor_parser\u001b[0;34m(address, obj_names, rom, data)\u001b[0m\n\u001b[1;32m    876\u001b[0m         \u001b[0;32mreturn\u001b[0m \u001b[0;34m[\u001b[0m\u001b[0;32mNone\u001b[0m\u001b[0;34m]\u001b[0m \u001b[0;34m*\u001b[0m \u001b[0;36m9\u001b[0m\u001b[0;34m,\u001b[0m \u001b[0;36m2\u001b[0m\u001b[0;34m\u001b[0m\u001b[0;34m\u001b[0m\u001b[0m\n\u001b[1;32m    877\u001b[0m     \u001b[0;32melse\u001b[0m\u001b[0;34m:\u001b[0m\u001b[0;34m\u001b[0m\u001b[0;34m\u001b[0m\u001b[0m\n\u001b[0;32m--> 878\u001b[0;31m         \u001b[0;32mreturn\u001b[0m \u001b[0mparse_engine\u001b[0m\u001b[0;34m(\u001b[0m\u001b[0mDoor\u001b[0m\u001b[0;34m.\u001b[0m\u001b[0mparse_definition\u001b[0m\u001b[0;34m(\u001b[0m\u001b[0;34m)\u001b[0m\u001b[0;34m,\u001b[0m \u001b[0maddress\u001b[0m\u001b[0;34m,\u001b[0m \u001b[0mobj_names\u001b[0m\u001b[0;34m,\u001b[0m \u001b[0mrom\u001b[0m\u001b[0;34m,\u001b[0m \u001b[0mdata\u001b[0m\u001b[0;34m)\u001b[0m\u001b[0;34m\u001b[0m\u001b[0;34m\u001b[0m\u001b[0m\n\u001b[0m\u001b[1;32m    879\u001b[0m \u001b[0;34m\u001b[0m\u001b[0m\n\u001b[1;32m    880\u001b[0m \u001b[0;31m#TODO: can combine these pointers!\u001b[0m\u001b[0;34m\u001b[0m\u001b[0;34m\u001b[0m\u001b[0;34m\u001b[0m\u001b[0m\n",
      "\u001b[0;32m/mnt/d/Ross/Programming/sm door rando/sm_rando/rom_tools/rom_data_structures.py\u001b[0m in \u001b[0;36mparse_engine\u001b[0;34m(obj_def, address, obj_names, rom, data)\u001b[0m\n\u001b[1;32m    158\u001b[0m             \u001b[0mnew_data\u001b[0m \u001b[0;34m=\u001b[0m \u001b[0;32mNone\u001b[0m\u001b[0;34m\u001b[0m\u001b[0;34m\u001b[0m\u001b[0m\n\u001b[1;32m    159\u001b[0m         \u001b[0mprint\u001b[0m\u001b[0;34m(\u001b[0m\u001b[0;34m\"Using {} at {}\"\u001b[0m\u001b[0;34m.\u001b[0m\u001b[0mformat\u001b[0m\u001b[0;34m(\u001b[0m\u001b[0mparser\u001b[0m\u001b[0;34m.\u001b[0m\u001b[0m__name__\u001b[0m\u001b[0;34m,\u001b[0m \u001b[0maddress\u001b[0m\u001b[0;34m)\u001b[0m\u001b[0;34m)\u001b[0m\u001b[0;34m\u001b[0m\u001b[0;34m\u001b[0m\u001b[0m\n\u001b[0;32m--> 160\u001b[0;31m         \u001b[0mobj\u001b[0m\u001b[0;34m,\u001b[0m \u001b[0msize\u001b[0m \u001b[0;34m=\u001b[0m \u001b[0mparser\u001b[0m\u001b[0;34m(\u001b[0m\u001b[0maddress\u001b[0m\u001b[0;34m,\u001b[0m \u001b[0mobj_names\u001b[0m\u001b[0;34m,\u001b[0m \u001b[0mrom\u001b[0m\u001b[0;34m,\u001b[0m \u001b[0mnew_data\u001b[0m\u001b[0;34m)\u001b[0m\u001b[0;34m\u001b[0m\u001b[0;34m\u001b[0m\u001b[0m\n\u001b[0m\u001b[1;32m    161\u001b[0m         \u001b[0mprint\u001b[0m\u001b[0;34m(\u001b[0m\u001b[0;34m\"Got: {}, Size: {} using {} at {}\\n\"\u001b[0m\u001b[0;34m.\u001b[0m\u001b[0mformat\u001b[0m\u001b[0;34m(\u001b[0m\u001b[0mobj\u001b[0m\u001b[0;34m,\u001b[0m \u001b[0msize\u001b[0m\u001b[0;34m,\u001b[0m \u001b[0mparser\u001b[0m\u001b[0;34m.\u001b[0m\u001b[0m__name__\u001b[0m\u001b[0;34m,\u001b[0m \u001b[0maddress\u001b[0m\u001b[0;34m)\u001b[0m\u001b[0;34m)\u001b[0m\u001b[0;34m\u001b[0m\u001b[0;34m\u001b[0m\u001b[0m\n\u001b[1;32m    162\u001b[0m         \u001b[0mobjs\u001b[0m\u001b[0;34m.\u001b[0m\u001b[0mappend\u001b[0m\u001b[0;34m(\u001b[0m\u001b[0mobj\u001b[0m\u001b[0;34m)\u001b[0m\u001b[0;34m\u001b[0m\u001b[0;34m\u001b[0m\u001b[0m\n",
      "\u001b[0;32m/mnt/d/Ross/Programming/sm door rando/sm_rando/rom_tools/rom_data_structures.py\u001b[0m in \u001b[0;36mpointer_parser\u001b[0;34m(address, obj_names, rom, data)\u001b[0m\n\u001b[1;32m    254\u001b[0m         \u001b[0mprint\u001b[0m\u001b[0;34m(\u001b[0m\u001b[0;34mf\"Pointer to {hex(address.as_pc)}\"\u001b[0m\u001b[0;34m)\u001b[0m\u001b[0;34m\u001b[0m\u001b[0;34m\u001b[0m\u001b[0m\n\u001b[1;32m    255\u001b[0m         \u001b[0mname\u001b[0m \u001b[0;34m=\u001b[0m \u001b[0mconstructor\u001b[0m\u001b[0;34m.\u001b[0m\u001b[0mname_def\u001b[0m\u001b[0;34m.\u001b[0m\u001b[0mformat\u001b[0m\u001b[0;34m(\u001b[0m\u001b[0maddress\u001b[0m\u001b[0;34m)\u001b[0m\u001b[0;34m\u001b[0m\u001b[0;34m\u001b[0m\u001b[0m\n\u001b[0;32m--> 256\u001b[0;31m         \u001b[0mparser\u001b[0m\u001b[0;34m(\u001b[0m\u001b[0maddress\u001b[0m\u001b[0;34m,\u001b[0m \u001b[0mobj_names\u001b[0m\u001b[0;34m,\u001b[0m \u001b[0mrom\u001b[0m\u001b[0;34m,\u001b[0m \u001b[0mdata\u001b[0m\u001b[0;34m)\u001b[0m\u001b[0;34m\u001b[0m\u001b[0;34m\u001b[0m\u001b[0m\n\u001b[0m\u001b[1;32m    257\u001b[0m         \u001b[0;32mreturn\u001b[0m \u001b[0mname\u001b[0m\u001b[0;34m,\u001b[0m \u001b[0mptr_size\u001b[0m\u001b[0;34m\u001b[0m\u001b[0;34m\u001b[0m\u001b[0m\n\u001b[1;32m    258\u001b[0m \u001b[0;34m\u001b[0m\u001b[0m\n",
      "\u001b[0;32m/mnt/d/Ross/Programming/sm door rando/sm_rando/rom_tools/rom_data_structures.py\u001b[0m in \u001b[0;36mwrapper\u001b[0;34m(address, obj_names, rom, data)\u001b[0m\n\u001b[1;32m    325\u001b[0m             \u001b[0mobj_names\u001b[0m\u001b[0;34m[\u001b[0m\u001b[0mname\u001b[0m\u001b[0;34m]\u001b[0m \u001b[0;34m=\u001b[0m \u001b[0;32mNone\u001b[0m\u001b[0;34m\u001b[0m\u001b[0;34m\u001b[0m\u001b[0m\n\u001b[1;32m    326\u001b[0m             \u001b[0mprint\u001b[0m\u001b[0;34m(\u001b[0m\u001b[0;34m\"Parsing: {}\"\u001b[0m\u001b[0;34m.\u001b[0m\u001b[0mformat\u001b[0m\u001b[0;34m(\u001b[0m\u001b[0mname\u001b[0m\u001b[0;34m)\u001b[0m\u001b[0;34m)\u001b[0m\u001b[0;34m\u001b[0m\u001b[0;34m\u001b[0m\u001b[0m\n\u001b[0;32m--> 327\u001b[0;31m             \u001b[0ms_objs\u001b[0m\u001b[0;34m,\u001b[0m \u001b[0msize\u001b[0m \u001b[0;34m=\u001b[0m \u001b[0mfunc\u001b[0m\u001b[0;34m(\u001b[0m\u001b[0maddress\u001b[0m\u001b[0;34m,\u001b[0m \u001b[0mobj_names\u001b[0m\u001b[0;34m,\u001b[0m \u001b[0mrom\u001b[0m\u001b[0;34m,\u001b[0m \u001b[0mdata\u001b[0m\u001b[0;34m)\u001b[0m\u001b[0;34m\u001b[0m\u001b[0;34m\u001b[0m\u001b[0m\n\u001b[0m\u001b[1;32m    328\u001b[0m             \u001b[0;31m#print(constructor)\u001b[0m\u001b[0;34m\u001b[0m\u001b[0;34m\u001b[0m\u001b[0;34m\u001b[0m\u001b[0m\n\u001b[1;32m    329\u001b[0m             \u001b[0;31m#print(s_objs)\u001b[0m\u001b[0;34m\u001b[0m\u001b[0;34m\u001b[0m\u001b[0;34m\u001b[0m\u001b[0m\n",
      "\u001b[0;32m/mnt/d/Ross/Programming/sm door rando/sm_rando/rom_tools/rom_data_structures.py\u001b[0m in \u001b[0;36mparser\u001b[0;34m(address, obj_names, rom, data)\u001b[0m\n\u001b[1;32m    366\u001b[0m     \u001b[0;34m@\u001b[0m\u001b[0mparse_wrapper\u001b[0m\u001b[0;34m(\u001b[0m\u001b[0mconstructor\u001b[0m\u001b[0;34m)\u001b[0m\u001b[0;34m\u001b[0m\u001b[0;34m\u001b[0m\u001b[0m\n\u001b[1;32m    367\u001b[0m     \u001b[0;32mdef\u001b[0m \u001b[0mparser\u001b[0m\u001b[0;34m(\u001b[0m\u001b[0maddress\u001b[0m\u001b[0;34m,\u001b[0m \u001b[0mobj_names\u001b[0m\u001b[0;34m,\u001b[0m \u001b[0mrom\u001b[0m\u001b[0;34m,\u001b[0m \u001b[0mdata\u001b[0m\u001b[0;34m)\u001b[0m\u001b[0;34m:\u001b[0m\u001b[0;34m\u001b[0m\u001b[0;34m\u001b[0m\u001b[0m\n\u001b[0;32m--> 368\u001b[0;31m         \u001b[0;32mreturn\u001b[0m \u001b[0mparse_engine\u001b[0m\u001b[0;34m(\u001b[0m\u001b[0mobj_def\u001b[0m\u001b[0;34m(\u001b[0m\u001b[0;34m)\u001b[0m\u001b[0;34m,\u001b[0m \u001b[0maddress\u001b[0m\u001b[0;34m,\u001b[0m \u001b[0mobj_names\u001b[0m\u001b[0;34m,\u001b[0m \u001b[0mrom\u001b[0m\u001b[0;34m,\u001b[0m \u001b[0mdata\u001b[0m\u001b[0;34m)\u001b[0m\u001b[0;34m\u001b[0m\u001b[0;34m\u001b[0m\u001b[0m\n\u001b[0m\u001b[1;32m    369\u001b[0m \u001b[0;34m\u001b[0m\u001b[0m\n\u001b[1;32m    370\u001b[0m     \u001b[0;34m@\u001b[0m\u001b[0mcompile_wrapper\u001b[0m\u001b[0;34m\u001b[0m\u001b[0;34m\u001b[0m\u001b[0m\n",
      "\u001b[0;32m/mnt/d/Ross/Programming/sm door rando/sm_rando/rom_tools/rom_data_structures.py\u001b[0m in \u001b[0;36mparse_engine\u001b[0;34m(obj_def, address, obj_names, rom, data)\u001b[0m\n\u001b[1;32m    158\u001b[0m             \u001b[0mnew_data\u001b[0m \u001b[0;34m=\u001b[0m \u001b[0;32mNone\u001b[0m\u001b[0;34m\u001b[0m\u001b[0;34m\u001b[0m\u001b[0m\n\u001b[1;32m    159\u001b[0m         \u001b[0mprint\u001b[0m\u001b[0;34m(\u001b[0m\u001b[0;34m\"Using {} at {}\"\u001b[0m\u001b[0;34m.\u001b[0m\u001b[0mformat\u001b[0m\u001b[0;34m(\u001b[0m\u001b[0mparser\u001b[0m\u001b[0;34m.\u001b[0m\u001b[0m__name__\u001b[0m\u001b[0;34m,\u001b[0m \u001b[0maddress\u001b[0m\u001b[0;34m)\u001b[0m\u001b[0;34m)\u001b[0m\u001b[0;34m\u001b[0m\u001b[0;34m\u001b[0m\u001b[0m\n\u001b[0;32m--> 160\u001b[0;31m         \u001b[0mobj\u001b[0m\u001b[0;34m,\u001b[0m \u001b[0msize\u001b[0m \u001b[0;34m=\u001b[0m \u001b[0mparser\u001b[0m\u001b[0;34m(\u001b[0m\u001b[0maddress\u001b[0m\u001b[0;34m,\u001b[0m \u001b[0mobj_names\u001b[0m\u001b[0;34m,\u001b[0m \u001b[0mrom\u001b[0m\u001b[0;34m,\u001b[0m \u001b[0mnew_data\u001b[0m\u001b[0;34m)\u001b[0m\u001b[0;34m\u001b[0m\u001b[0;34m\u001b[0m\u001b[0m\n\u001b[0m\u001b[1;32m    161\u001b[0m         \u001b[0mprint\u001b[0m\u001b[0;34m(\u001b[0m\u001b[0;34m\"Got: {}, Size: {} using {} at {}\\n\"\u001b[0m\u001b[0;34m.\u001b[0m\u001b[0mformat\u001b[0m\u001b[0;34m(\u001b[0m\u001b[0mobj\u001b[0m\u001b[0;34m,\u001b[0m \u001b[0msize\u001b[0m\u001b[0;34m,\u001b[0m \u001b[0mparser\u001b[0m\u001b[0;34m.\u001b[0m\u001b[0m__name__\u001b[0m\u001b[0;34m,\u001b[0m \u001b[0maddress\u001b[0m\u001b[0;34m)\u001b[0m\u001b[0;34m)\u001b[0m\u001b[0;34m\u001b[0m\u001b[0;34m\u001b[0m\u001b[0m\n\u001b[1;32m    162\u001b[0m         \u001b[0mobjs\u001b[0m\u001b[0;34m.\u001b[0m\u001b[0mappend\u001b[0m\u001b[0;34m(\u001b[0m\u001b[0mobj\u001b[0m\u001b[0;34m)\u001b[0m\u001b[0;34m\u001b[0m\u001b[0;34m\u001b[0m\u001b[0m\n",
      "\u001b[0;32m/mnt/d/Ross/Programming/sm door rando/sm_rando/rom_tools/rom_data_structures.py\u001b[0m in \u001b[0;36mpointer_parser\u001b[0;34m(address, obj_names, rom, data)\u001b[0m\n\u001b[1;32m    254\u001b[0m         \u001b[0mprint\u001b[0m\u001b[0;34m(\u001b[0m\u001b[0;34mf\"Pointer to {hex(address.as_pc)}\"\u001b[0m\u001b[0;34m)\u001b[0m\u001b[0;34m\u001b[0m\u001b[0;34m\u001b[0m\u001b[0m\n\u001b[1;32m    255\u001b[0m         \u001b[0mname\u001b[0m \u001b[0;34m=\u001b[0m \u001b[0mconstructor\u001b[0m\u001b[0;34m.\u001b[0m\u001b[0mname_def\u001b[0m\u001b[0;34m.\u001b[0m\u001b[0mformat\u001b[0m\u001b[0;34m(\u001b[0m\u001b[0maddress\u001b[0m\u001b[0;34m)\u001b[0m\u001b[0;34m\u001b[0m\u001b[0;34m\u001b[0m\u001b[0m\n\u001b[0;32m--> 256\u001b[0;31m         \u001b[0mparser\u001b[0m\u001b[0;34m(\u001b[0m\u001b[0maddress\u001b[0m\u001b[0;34m,\u001b[0m \u001b[0mobj_names\u001b[0m\u001b[0;34m,\u001b[0m \u001b[0mrom\u001b[0m\u001b[0;34m,\u001b[0m \u001b[0mdata\u001b[0m\u001b[0;34m)\u001b[0m\u001b[0;34m\u001b[0m\u001b[0;34m\u001b[0m\u001b[0m\n\u001b[0m\u001b[1;32m    257\u001b[0m         \u001b[0;32mreturn\u001b[0m \u001b[0mname\u001b[0m\u001b[0;34m,\u001b[0m \u001b[0mptr_size\u001b[0m\u001b[0;34m\u001b[0m\u001b[0;34m\u001b[0m\u001b[0m\n\u001b[1;32m    258\u001b[0m \u001b[0;34m\u001b[0m\u001b[0m\n",
      "\u001b[0;32m/mnt/d/Ross/Programming/sm door rando/sm_rando/rom_tools/rom_data_structures.py\u001b[0m in \u001b[0;36mwrapper\u001b[0;34m(address, obj_names, rom, data)\u001b[0m\n\u001b[1;32m    325\u001b[0m             \u001b[0mobj_names\u001b[0m\u001b[0;34m[\u001b[0m\u001b[0mname\u001b[0m\u001b[0;34m]\u001b[0m \u001b[0;34m=\u001b[0m \u001b[0;32mNone\u001b[0m\u001b[0;34m\u001b[0m\u001b[0;34m\u001b[0m\u001b[0m\n\u001b[1;32m    326\u001b[0m             \u001b[0mprint\u001b[0m\u001b[0;34m(\u001b[0m\u001b[0;34m\"Parsing: {}\"\u001b[0m\u001b[0;34m.\u001b[0m\u001b[0mformat\u001b[0m\u001b[0;34m(\u001b[0m\u001b[0mname\u001b[0m\u001b[0;34m)\u001b[0m\u001b[0;34m)\u001b[0m\u001b[0;34m\u001b[0m\u001b[0;34m\u001b[0m\u001b[0m\n\u001b[0;32m--> 327\u001b[0;31m             \u001b[0ms_objs\u001b[0m\u001b[0;34m,\u001b[0m \u001b[0msize\u001b[0m \u001b[0;34m=\u001b[0m \u001b[0mfunc\u001b[0m\u001b[0;34m(\u001b[0m\u001b[0maddress\u001b[0m\u001b[0;34m,\u001b[0m \u001b[0mobj_names\u001b[0m\u001b[0;34m,\u001b[0m \u001b[0mrom\u001b[0m\u001b[0;34m,\u001b[0m \u001b[0mdata\u001b[0m\u001b[0;34m)\u001b[0m\u001b[0;34m\u001b[0m\u001b[0;34m\u001b[0m\u001b[0m\n\u001b[0m\u001b[1;32m    328\u001b[0m             \u001b[0;31m#print(constructor)\u001b[0m\u001b[0;34m\u001b[0m\u001b[0;34m\u001b[0m\u001b[0;34m\u001b[0m\u001b[0m\n\u001b[1;32m    329\u001b[0m             \u001b[0;31m#print(s_objs)\u001b[0m\u001b[0;34m\u001b[0m\u001b[0;34m\u001b[0m\u001b[0;34m\u001b[0m\u001b[0m\n",
      "\u001b[0;32m/mnt/d/Ross/Programming/sm door rando/sm_rando/rom_tools/rom_data_structures.py\u001b[0m in \u001b[0;36mparser\u001b[0;34m(address, obj_names, rom, data)\u001b[0m\n\u001b[1;32m    366\u001b[0m     \u001b[0;34m@\u001b[0m\u001b[0mparse_wrapper\u001b[0m\u001b[0;34m(\u001b[0m\u001b[0mconstructor\u001b[0m\u001b[0;34m)\u001b[0m\u001b[0;34m\u001b[0m\u001b[0;34m\u001b[0m\u001b[0m\n\u001b[1;32m    367\u001b[0m     \u001b[0;32mdef\u001b[0m \u001b[0mparser\u001b[0m\u001b[0;34m(\u001b[0m\u001b[0maddress\u001b[0m\u001b[0;34m,\u001b[0m \u001b[0mobj_names\u001b[0m\u001b[0;34m,\u001b[0m \u001b[0mrom\u001b[0m\u001b[0;34m,\u001b[0m \u001b[0mdata\u001b[0m\u001b[0;34m)\u001b[0m\u001b[0;34m:\u001b[0m\u001b[0;34m\u001b[0m\u001b[0;34m\u001b[0m\u001b[0m\n\u001b[0;32m--> 368\u001b[0;31m         \u001b[0;32mreturn\u001b[0m \u001b[0mparse_engine\u001b[0m\u001b[0;34m(\u001b[0m\u001b[0mobj_def\u001b[0m\u001b[0;34m(\u001b[0m\u001b[0;34m)\u001b[0m\u001b[0;34m,\u001b[0m \u001b[0maddress\u001b[0m\u001b[0;34m,\u001b[0m \u001b[0mobj_names\u001b[0m\u001b[0;34m,\u001b[0m \u001b[0mrom\u001b[0m\u001b[0;34m,\u001b[0m \u001b[0mdata\u001b[0m\u001b[0;34m)\u001b[0m\u001b[0;34m\u001b[0m\u001b[0;34m\u001b[0m\u001b[0m\n\u001b[0m\u001b[1;32m    369\u001b[0m \u001b[0;34m\u001b[0m\u001b[0m\n\u001b[1;32m    370\u001b[0m     \u001b[0;34m@\u001b[0m\u001b[0mcompile_wrapper\u001b[0m\u001b[0;34m\u001b[0m\u001b[0;34m\u001b[0m\u001b[0m\n",
      "\u001b[0;32m/mnt/d/Ross/Programming/sm door rando/sm_rando/rom_tools/rom_data_structures.py\u001b[0m in \u001b[0;36mparse_engine\u001b[0;34m(obj_def, address, obj_names, rom, data)\u001b[0m\n\u001b[1;32m    158\u001b[0m             \u001b[0mnew_data\u001b[0m \u001b[0;34m=\u001b[0m \u001b[0;32mNone\u001b[0m\u001b[0;34m\u001b[0m\u001b[0;34m\u001b[0m\u001b[0m\n\u001b[1;32m    159\u001b[0m         \u001b[0mprint\u001b[0m\u001b[0;34m(\u001b[0m\u001b[0;34m\"Using {} at {}\"\u001b[0m\u001b[0;34m.\u001b[0m\u001b[0mformat\u001b[0m\u001b[0;34m(\u001b[0m\u001b[0mparser\u001b[0m\u001b[0;34m.\u001b[0m\u001b[0m__name__\u001b[0m\u001b[0;34m,\u001b[0m \u001b[0maddress\u001b[0m\u001b[0;34m)\u001b[0m\u001b[0;34m)\u001b[0m\u001b[0;34m\u001b[0m\u001b[0;34m\u001b[0m\u001b[0m\n\u001b[0;32m--> 160\u001b[0;31m         \u001b[0mobj\u001b[0m\u001b[0;34m,\u001b[0m \u001b[0msize\u001b[0m \u001b[0;34m=\u001b[0m \u001b[0mparser\u001b[0m\u001b[0;34m(\u001b[0m\u001b[0maddress\u001b[0m\u001b[0;34m,\u001b[0m \u001b[0mobj_names\u001b[0m\u001b[0;34m,\u001b[0m \u001b[0mrom\u001b[0m\u001b[0;34m,\u001b[0m \u001b[0mnew_data\u001b[0m\u001b[0;34m)\u001b[0m\u001b[0;34m\u001b[0m\u001b[0;34m\u001b[0m\u001b[0m\n\u001b[0m\u001b[1;32m    161\u001b[0m         \u001b[0mprint\u001b[0m\u001b[0;34m(\u001b[0m\u001b[0;34m\"Got: {}, Size: {} using {} at {}\\n\"\u001b[0m\u001b[0;34m.\u001b[0m\u001b[0mformat\u001b[0m\u001b[0;34m(\u001b[0m\u001b[0mobj\u001b[0m\u001b[0;34m,\u001b[0m \u001b[0msize\u001b[0m\u001b[0;34m,\u001b[0m \u001b[0mparser\u001b[0m\u001b[0;34m.\u001b[0m\u001b[0m__name__\u001b[0m\u001b[0;34m,\u001b[0m \u001b[0maddress\u001b[0m\u001b[0;34m)\u001b[0m\u001b[0;34m)\u001b[0m\u001b[0;34m\u001b[0m\u001b[0;34m\u001b[0m\u001b[0m\n\u001b[1;32m    162\u001b[0m         \u001b[0mobjs\u001b[0m\u001b[0;34m.\u001b[0m\u001b[0mappend\u001b[0m\u001b[0;34m(\u001b[0m\u001b[0mobj\u001b[0m\u001b[0;34m)\u001b[0m\u001b[0;34m\u001b[0m\u001b[0;34m\u001b[0m\u001b[0m\n",
      "\u001b[0;32m/mnt/d/Ross/Programming/sm door rando/sm_rando/rom_tools/rom_data_structures.py\u001b[0m in \u001b[0;36mlist_parser\u001b[0;34m(address, obj_names, rom, data)\u001b[0m\n\u001b[1;32m    198\u001b[0m         \u001b[0mout_size\u001b[0m \u001b[0;34m=\u001b[0m \u001b[0;36m0\u001b[0m\u001b[0;34m\u001b[0m\u001b[0;34m\u001b[0m\u001b[0m\n\u001b[1;32m    199\u001b[0m         \u001b[0;32mwhile\u001b[0m \u001b[0mterminal_cond\u001b[0m\u001b[0;34m(\u001b[0m\u001b[0maddress\u001b[0m\u001b[0;34m,\u001b[0m \u001b[0mrom\u001b[0m\u001b[0;34m)\u001b[0m\u001b[0;34m:\u001b[0m\u001b[0;34m\u001b[0m\u001b[0;34m\u001b[0m\u001b[0m\n\u001b[0;32m--> 200\u001b[0;31m             \u001b[0mobj\u001b[0m\u001b[0;34m,\u001b[0m \u001b[0msize\u001b[0m \u001b[0;34m=\u001b[0m \u001b[0mparser\u001b[0m\u001b[0;34m(\u001b[0m\u001b[0maddress\u001b[0m\u001b[0;34m,\u001b[0m \u001b[0mobj_names\u001b[0m\u001b[0;34m,\u001b[0m \u001b[0mrom\u001b[0m\u001b[0;34m,\u001b[0m \u001b[0mdata\u001b[0m\u001b[0;34m)\u001b[0m\u001b[0;34m\u001b[0m\u001b[0;34m\u001b[0m\u001b[0m\n\u001b[0m\u001b[1;32m    201\u001b[0m             \u001b[0mout_list\u001b[0m\u001b[0;34m.\u001b[0m\u001b[0mappend\u001b[0m\u001b[0;34m(\u001b[0m\u001b[0mobj\u001b[0m\u001b[0;34m)\u001b[0m\u001b[0;34m\u001b[0m\u001b[0;34m\u001b[0m\u001b[0m\n\u001b[1;32m    202\u001b[0m             \u001b[0mout_size\u001b[0m \u001b[0;34m+=\u001b[0m \u001b[0msize\u001b[0m\u001b[0;34m\u001b[0m\u001b[0;34m\u001b[0m\u001b[0m\n",
      "\u001b[0;32m/mnt/d/Ross/Programming/sm door rando/sm_rando/rom_tools/rom_data_structures.py\u001b[0m in \u001b[0;36mpointer_parser\u001b[0;34m(address, obj_names, rom, data)\u001b[0m\n\u001b[1;32m    254\u001b[0m         \u001b[0mprint\u001b[0m\u001b[0;34m(\u001b[0m\u001b[0;34mf\"Pointer to {hex(address.as_pc)}\"\u001b[0m\u001b[0;34m)\u001b[0m\u001b[0;34m\u001b[0m\u001b[0;34m\u001b[0m\u001b[0m\n\u001b[1;32m    255\u001b[0m         \u001b[0mname\u001b[0m \u001b[0;34m=\u001b[0m \u001b[0mconstructor\u001b[0m\u001b[0;34m.\u001b[0m\u001b[0mname_def\u001b[0m\u001b[0;34m.\u001b[0m\u001b[0mformat\u001b[0m\u001b[0;34m(\u001b[0m\u001b[0maddress\u001b[0m\u001b[0;34m)\u001b[0m\u001b[0;34m\u001b[0m\u001b[0;34m\u001b[0m\u001b[0m\n\u001b[0;32m--> 256\u001b[0;31m         \u001b[0mparser\u001b[0m\u001b[0;34m(\u001b[0m\u001b[0maddress\u001b[0m\u001b[0;34m,\u001b[0m \u001b[0mobj_names\u001b[0m\u001b[0;34m,\u001b[0m \u001b[0mrom\u001b[0m\u001b[0;34m,\u001b[0m \u001b[0mdata\u001b[0m\u001b[0;34m)\u001b[0m\u001b[0;34m\u001b[0m\u001b[0;34m\u001b[0m\u001b[0m\n\u001b[0m\u001b[1;32m    257\u001b[0m         \u001b[0;32mreturn\u001b[0m \u001b[0mname\u001b[0m\u001b[0;34m,\u001b[0m \u001b[0mptr_size\u001b[0m\u001b[0;34m\u001b[0m\u001b[0;34m\u001b[0m\u001b[0m\n\u001b[1;32m    258\u001b[0m \u001b[0;34m\u001b[0m\u001b[0m\n",
      "\u001b[0;32m/mnt/d/Ross/Programming/sm door rando/sm_rando/rom_tools/rom_data_structures.py\u001b[0m in \u001b[0;36mwrapper\u001b[0;34m(address, obj_names, rom, data)\u001b[0m\n\u001b[1;32m    325\u001b[0m             \u001b[0mobj_names\u001b[0m\u001b[0;34m[\u001b[0m\u001b[0mname\u001b[0m\u001b[0;34m]\u001b[0m \u001b[0;34m=\u001b[0m \u001b[0;32mNone\u001b[0m\u001b[0;34m\u001b[0m\u001b[0;34m\u001b[0m\u001b[0m\n\u001b[1;32m    326\u001b[0m             \u001b[0mprint\u001b[0m\u001b[0;34m(\u001b[0m\u001b[0;34m\"Parsing: {}\"\u001b[0m\u001b[0;34m.\u001b[0m\u001b[0mformat\u001b[0m\u001b[0;34m(\u001b[0m\u001b[0mname\u001b[0m\u001b[0;34m)\u001b[0m\u001b[0;34m)\u001b[0m\u001b[0;34m\u001b[0m\u001b[0;34m\u001b[0m\u001b[0m\n\u001b[0;32m--> 327\u001b[0;31m             \u001b[0ms_objs\u001b[0m\u001b[0;34m,\u001b[0m \u001b[0msize\u001b[0m \u001b[0;34m=\u001b[0m \u001b[0mfunc\u001b[0m\u001b[0;34m(\u001b[0m\u001b[0maddress\u001b[0m\u001b[0;34m,\u001b[0m \u001b[0mobj_names\u001b[0m\u001b[0;34m,\u001b[0m \u001b[0mrom\u001b[0m\u001b[0;34m,\u001b[0m \u001b[0mdata\u001b[0m\u001b[0;34m)\u001b[0m\u001b[0;34m\u001b[0m\u001b[0;34m\u001b[0m\u001b[0m\n\u001b[0m\u001b[1;32m    328\u001b[0m             \u001b[0;31m#print(constructor)\u001b[0m\u001b[0;34m\u001b[0m\u001b[0;34m\u001b[0m\u001b[0;34m\u001b[0m\u001b[0m\n\u001b[1;32m    329\u001b[0m             \u001b[0;31m#print(s_objs)\u001b[0m\u001b[0;34m\u001b[0m\u001b[0;34m\u001b[0m\u001b[0;34m\u001b[0m\u001b[0m\n",
      "\u001b[0;32m/mnt/d/Ross/Programming/sm door rando/sm_rando/rom_tools/rom_data_structures.py\u001b[0m in \u001b[0;36mdoor_parser\u001b[0;34m(address, obj_names, rom, data)\u001b[0m\n\u001b[1;32m    876\u001b[0m         \u001b[0;32mreturn\u001b[0m \u001b[0;34m[\u001b[0m\u001b[0;32mNone\u001b[0m\u001b[0;34m]\u001b[0m \u001b[0;34m*\u001b[0m \u001b[0;36m9\u001b[0m\u001b[0;34m,\u001b[0m \u001b[0;36m2\u001b[0m\u001b[0;34m\u001b[0m\u001b[0;34m\u001b[0m\u001b[0m\n\u001b[1;32m    877\u001b[0m     \u001b[0;32melse\u001b[0m\u001b[0;34m:\u001b[0m\u001b[0;34m\u001b[0m\u001b[0;34m\u001b[0m\u001b[0m\n\u001b[0;32m--> 878\u001b[0;31m         \u001b[0;32mreturn\u001b[0m \u001b[0mparse_engine\u001b[0m\u001b[0;34m(\u001b[0m\u001b[0mDoor\u001b[0m\u001b[0;34m.\u001b[0m\u001b[0mparse_definition\u001b[0m\u001b[0;34m(\u001b[0m\u001b[0;34m)\u001b[0m\u001b[0;34m,\u001b[0m \u001b[0maddress\u001b[0m\u001b[0;34m,\u001b[0m \u001b[0mobj_names\u001b[0m\u001b[0;34m,\u001b[0m \u001b[0mrom\u001b[0m\u001b[0;34m,\u001b[0m \u001b[0mdata\u001b[0m\u001b[0;34m)\u001b[0m\u001b[0;34m\u001b[0m\u001b[0;34m\u001b[0m\u001b[0m\n\u001b[0m\u001b[1;32m    879\u001b[0m \u001b[0;34m\u001b[0m\u001b[0m\n\u001b[1;32m    880\u001b[0m \u001b[0;31m#TODO: can combine these pointers!\u001b[0m\u001b[0;34m\u001b[0m\u001b[0;34m\u001b[0m\u001b[0;34m\u001b[0m\u001b[0m\n",
      "\u001b[0;32m/mnt/d/Ross/Programming/sm door rando/sm_rando/rom_tools/rom_data_structures.py\u001b[0m in \u001b[0;36mparse_engine\u001b[0;34m(obj_def, address, obj_names, rom, data)\u001b[0m\n\u001b[1;32m    158\u001b[0m             \u001b[0mnew_data\u001b[0m \u001b[0;34m=\u001b[0m \u001b[0;32mNone\u001b[0m\u001b[0;34m\u001b[0m\u001b[0;34m\u001b[0m\u001b[0m\n\u001b[1;32m    159\u001b[0m         \u001b[0mprint\u001b[0m\u001b[0;34m(\u001b[0m\u001b[0;34m\"Using {} at {}\"\u001b[0m\u001b[0;34m.\u001b[0m\u001b[0mformat\u001b[0m\u001b[0;34m(\u001b[0m\u001b[0mparser\u001b[0m\u001b[0;34m.\u001b[0m\u001b[0m__name__\u001b[0m\u001b[0;34m,\u001b[0m \u001b[0maddress\u001b[0m\u001b[0;34m)\u001b[0m\u001b[0;34m)\u001b[0m\u001b[0;34m\u001b[0m\u001b[0;34m\u001b[0m\u001b[0m\n\u001b[0;32m--> 160\u001b[0;31m         \u001b[0mobj\u001b[0m\u001b[0;34m,\u001b[0m \u001b[0msize\u001b[0m \u001b[0;34m=\u001b[0m \u001b[0mparser\u001b[0m\u001b[0;34m(\u001b[0m\u001b[0maddress\u001b[0m\u001b[0;34m,\u001b[0m \u001b[0mobj_names\u001b[0m\u001b[0;34m,\u001b[0m \u001b[0mrom\u001b[0m\u001b[0;34m,\u001b[0m \u001b[0mnew_data\u001b[0m\u001b[0;34m)\u001b[0m\u001b[0;34m\u001b[0m\u001b[0;34m\u001b[0m\u001b[0m\n\u001b[0m\u001b[1;32m    161\u001b[0m         \u001b[0mprint\u001b[0m\u001b[0;34m(\u001b[0m\u001b[0;34m\"Got: {}, Size: {} using {} at {}\\n\"\u001b[0m\u001b[0;34m.\u001b[0m\u001b[0mformat\u001b[0m\u001b[0;34m(\u001b[0m\u001b[0mobj\u001b[0m\u001b[0;34m,\u001b[0m \u001b[0msize\u001b[0m\u001b[0;34m,\u001b[0m \u001b[0mparser\u001b[0m\u001b[0;34m.\u001b[0m\u001b[0m__name__\u001b[0m\u001b[0;34m,\u001b[0m \u001b[0maddress\u001b[0m\u001b[0;34m)\u001b[0m\u001b[0;34m)\u001b[0m\u001b[0;34m\u001b[0m\u001b[0;34m\u001b[0m\u001b[0m\n\u001b[1;32m    162\u001b[0m         \u001b[0mobjs\u001b[0m\u001b[0;34m.\u001b[0m\u001b[0mappend\u001b[0m\u001b[0;34m(\u001b[0m\u001b[0mobj\u001b[0m\u001b[0;34m)\u001b[0m\u001b[0;34m\u001b[0m\u001b[0;34m\u001b[0m\u001b[0m\n",
      "\u001b[0;32m/mnt/d/Ross/Programming/sm door rando/sm_rando/rom_tools/rom_data_structures.py\u001b[0m in \u001b[0;36mpointer_parser\u001b[0;34m(address, obj_names, rom, data)\u001b[0m\n\u001b[1;32m    254\u001b[0m         \u001b[0mprint\u001b[0m\u001b[0;34m(\u001b[0m\u001b[0;34mf\"Pointer to {hex(address.as_pc)}\"\u001b[0m\u001b[0;34m)\u001b[0m\u001b[0;34m\u001b[0m\u001b[0;34m\u001b[0m\u001b[0m\n\u001b[1;32m    255\u001b[0m         \u001b[0mname\u001b[0m \u001b[0;34m=\u001b[0m \u001b[0mconstructor\u001b[0m\u001b[0;34m.\u001b[0m\u001b[0mname_def\u001b[0m\u001b[0;34m.\u001b[0m\u001b[0mformat\u001b[0m\u001b[0;34m(\u001b[0m\u001b[0maddress\u001b[0m\u001b[0;34m)\u001b[0m\u001b[0;34m\u001b[0m\u001b[0;34m\u001b[0m\u001b[0m\n\u001b[0;32m--> 256\u001b[0;31m         \u001b[0mparser\u001b[0m\u001b[0;34m(\u001b[0m\u001b[0maddress\u001b[0m\u001b[0;34m,\u001b[0m \u001b[0mobj_names\u001b[0m\u001b[0;34m,\u001b[0m \u001b[0mrom\u001b[0m\u001b[0;34m,\u001b[0m \u001b[0mdata\u001b[0m\u001b[0;34m)\u001b[0m\u001b[0;34m\u001b[0m\u001b[0;34m\u001b[0m\u001b[0m\n\u001b[0m\u001b[1;32m    257\u001b[0m         \u001b[0;32mreturn\u001b[0m \u001b[0mname\u001b[0m\u001b[0;34m,\u001b[0m \u001b[0mptr_size\u001b[0m\u001b[0;34m\u001b[0m\u001b[0;34m\u001b[0m\u001b[0m\n\u001b[1;32m    258\u001b[0m \u001b[0;34m\u001b[0m\u001b[0m\n",
      "\u001b[0;32m/mnt/d/Ross/Programming/sm door rando/sm_rando/rom_tools/rom_data_structures.py\u001b[0m in \u001b[0;36mwrapper\u001b[0;34m(address, obj_names, rom, data)\u001b[0m\n\u001b[1;32m    325\u001b[0m             \u001b[0mobj_names\u001b[0m\u001b[0;34m[\u001b[0m\u001b[0mname\u001b[0m\u001b[0;34m]\u001b[0m \u001b[0;34m=\u001b[0m \u001b[0;32mNone\u001b[0m\u001b[0;34m\u001b[0m\u001b[0;34m\u001b[0m\u001b[0m\n\u001b[1;32m    326\u001b[0m             \u001b[0mprint\u001b[0m\u001b[0;34m(\u001b[0m\u001b[0;34m\"Parsing: {}\"\u001b[0m\u001b[0;34m.\u001b[0m\u001b[0mformat\u001b[0m\u001b[0;34m(\u001b[0m\u001b[0mname\u001b[0m\u001b[0;34m)\u001b[0m\u001b[0;34m)\u001b[0m\u001b[0;34m\u001b[0m\u001b[0;34m\u001b[0m\u001b[0m\n\u001b[0;32m--> 327\u001b[0;31m             \u001b[0ms_objs\u001b[0m\u001b[0;34m,\u001b[0m \u001b[0msize\u001b[0m \u001b[0;34m=\u001b[0m \u001b[0mfunc\u001b[0m\u001b[0;34m(\u001b[0m\u001b[0maddress\u001b[0m\u001b[0;34m,\u001b[0m \u001b[0mobj_names\u001b[0m\u001b[0;34m,\u001b[0m \u001b[0mrom\u001b[0m\u001b[0;34m,\u001b[0m \u001b[0mdata\u001b[0m\u001b[0;34m)\u001b[0m\u001b[0;34m\u001b[0m\u001b[0;34m\u001b[0m\u001b[0m\n\u001b[0m\u001b[1;32m    328\u001b[0m             \u001b[0;31m#print(constructor)\u001b[0m\u001b[0;34m\u001b[0m\u001b[0;34m\u001b[0m\u001b[0;34m\u001b[0m\u001b[0m\n\u001b[1;32m    329\u001b[0m             \u001b[0;31m#print(s_objs)\u001b[0m\u001b[0;34m\u001b[0m\u001b[0;34m\u001b[0m\u001b[0;34m\u001b[0m\u001b[0m\n",
      "\u001b[0;32m/mnt/d/Ross/Programming/sm door rando/sm_rando/rom_tools/rom_data_structures.py\u001b[0m in \u001b[0;36mparser\u001b[0;34m(address, obj_names, rom, data)\u001b[0m\n\u001b[1;32m    366\u001b[0m     \u001b[0;34m@\u001b[0m\u001b[0mparse_wrapper\u001b[0m\u001b[0;34m(\u001b[0m\u001b[0mconstructor\u001b[0m\u001b[0;34m)\u001b[0m\u001b[0;34m\u001b[0m\u001b[0;34m\u001b[0m\u001b[0m\n\u001b[1;32m    367\u001b[0m     \u001b[0;32mdef\u001b[0m \u001b[0mparser\u001b[0m\u001b[0;34m(\u001b[0m\u001b[0maddress\u001b[0m\u001b[0;34m,\u001b[0m \u001b[0mobj_names\u001b[0m\u001b[0;34m,\u001b[0m \u001b[0mrom\u001b[0m\u001b[0;34m,\u001b[0m \u001b[0mdata\u001b[0m\u001b[0;34m)\u001b[0m\u001b[0;34m:\u001b[0m\u001b[0;34m\u001b[0m\u001b[0;34m\u001b[0m\u001b[0m\n\u001b[0;32m--> 368\u001b[0;31m         \u001b[0;32mreturn\u001b[0m \u001b[0mparse_engine\u001b[0m\u001b[0;34m(\u001b[0m\u001b[0mobj_def\u001b[0m\u001b[0;34m(\u001b[0m\u001b[0;34m)\u001b[0m\u001b[0;34m,\u001b[0m \u001b[0maddress\u001b[0m\u001b[0;34m,\u001b[0m \u001b[0mobj_names\u001b[0m\u001b[0;34m,\u001b[0m \u001b[0mrom\u001b[0m\u001b[0;34m,\u001b[0m \u001b[0mdata\u001b[0m\u001b[0;34m)\u001b[0m\u001b[0;34m\u001b[0m\u001b[0;34m\u001b[0m\u001b[0m\n\u001b[0m\u001b[1;32m    369\u001b[0m \u001b[0;34m\u001b[0m\u001b[0m\n\u001b[1;32m    370\u001b[0m     \u001b[0;34m@\u001b[0m\u001b[0mcompile_wrapper\u001b[0m\u001b[0;34m\u001b[0m\u001b[0;34m\u001b[0m\u001b[0m\n",
      "\u001b[0;32m/mnt/d/Ross/Programming/sm door rando/sm_rando/rom_tools/rom_data_structures.py\u001b[0m in \u001b[0;36mparse_engine\u001b[0;34m(obj_def, address, obj_names, rom, data)\u001b[0m\n\u001b[1;32m    158\u001b[0m             \u001b[0mnew_data\u001b[0m \u001b[0;34m=\u001b[0m \u001b[0;32mNone\u001b[0m\u001b[0;34m\u001b[0m\u001b[0;34m\u001b[0m\u001b[0m\n\u001b[1;32m    159\u001b[0m         \u001b[0mprint\u001b[0m\u001b[0;34m(\u001b[0m\u001b[0;34m\"Using {} at {}\"\u001b[0m\u001b[0;34m.\u001b[0m\u001b[0mformat\u001b[0m\u001b[0;34m(\u001b[0m\u001b[0mparser\u001b[0m\u001b[0;34m.\u001b[0m\u001b[0m__name__\u001b[0m\u001b[0;34m,\u001b[0m \u001b[0maddress\u001b[0m\u001b[0;34m)\u001b[0m\u001b[0;34m)\u001b[0m\u001b[0;34m\u001b[0m\u001b[0;34m\u001b[0m\u001b[0m\n\u001b[0;32m--> 160\u001b[0;31m         \u001b[0mobj\u001b[0m\u001b[0;34m,\u001b[0m \u001b[0msize\u001b[0m \u001b[0;34m=\u001b[0m \u001b[0mparser\u001b[0m\u001b[0;34m(\u001b[0m\u001b[0maddress\u001b[0m\u001b[0;34m,\u001b[0m \u001b[0mobj_names\u001b[0m\u001b[0;34m,\u001b[0m \u001b[0mrom\u001b[0m\u001b[0;34m,\u001b[0m \u001b[0mnew_data\u001b[0m\u001b[0;34m)\u001b[0m\u001b[0;34m\u001b[0m\u001b[0;34m\u001b[0m\u001b[0m\n\u001b[0m\u001b[1;32m    161\u001b[0m         \u001b[0mprint\u001b[0m\u001b[0;34m(\u001b[0m\u001b[0;34m\"Got: {}, Size: {} using {} at {}\\n\"\u001b[0m\u001b[0;34m.\u001b[0m\u001b[0mformat\u001b[0m\u001b[0;34m(\u001b[0m\u001b[0mobj\u001b[0m\u001b[0;34m,\u001b[0m \u001b[0msize\u001b[0m\u001b[0;34m,\u001b[0m \u001b[0mparser\u001b[0m\u001b[0;34m.\u001b[0m\u001b[0m__name__\u001b[0m\u001b[0;34m,\u001b[0m \u001b[0maddress\u001b[0m\u001b[0;34m)\u001b[0m\u001b[0;34m)\u001b[0m\u001b[0;34m\u001b[0m\u001b[0;34m\u001b[0m\u001b[0m\n\u001b[1;32m    162\u001b[0m         \u001b[0mobjs\u001b[0m\u001b[0;34m.\u001b[0m\u001b[0mappend\u001b[0m\u001b[0;34m(\u001b[0m\u001b[0mobj\u001b[0m\u001b[0;34m)\u001b[0m\u001b[0;34m\u001b[0m\u001b[0;34m\u001b[0m\u001b[0m\n",
      "\u001b[0;32m/mnt/d/Ross/Programming/sm door rando/sm_rando/rom_tools/rom_data_structures.py\u001b[0m in \u001b[0;36menum_parser\u001b[0;34m(address, obj_names, rom, data)\u001b[0m\n\u001b[1;32m    422\u001b[0m             \u001b[0;32mif\u001b[0m \u001b[0me\u001b[0m \u001b[0;34m==\u001b[0m \u001b[0mp\u001b[0m\u001b[0;34m:\u001b[0m\u001b[0;34m\u001b[0m\u001b[0;34m\u001b[0m\u001b[0m\n\u001b[1;32m    423\u001b[0m                 \u001b[0;32mreturn\u001b[0m \u001b[0me\u001b[0m\u001b[0;34m,\u001b[0m \u001b[0mn\u001b[0m\u001b[0;34m\u001b[0m\u001b[0;34m\u001b[0m\u001b[0m\n\u001b[0;32m--> 424\u001b[0;31m         \u001b[0;32massert\u001b[0m \u001b[0;32mFalse\u001b[0m\u001b[0;34m,\u001b[0m \u001b[0;34mf\"No matching enum entry for {p}\"\u001b[0m\u001b[0;34m\u001b[0m\u001b[0;34m\u001b[0m\u001b[0m\n\u001b[0m\u001b[1;32m    425\u001b[0m     \u001b[0;32mdef\u001b[0m \u001b[0menum_compiler\u001b[0m\u001b[0;34m(\u001b[0m\u001b[0mobj\u001b[0m\u001b[0;34m,\u001b[0m \u001b[0mrom\u001b[0m\u001b[0;34m)\u001b[0m\u001b[0;34m:\u001b[0m\u001b[0;34m\u001b[0m\u001b[0;34m\u001b[0m\u001b[0m\n\u001b[1;32m    426\u001b[0m         \u001b[0;31m# Can simply call the under-parser for an IntEnum\u001b[0m\u001b[0;34m\u001b[0m\u001b[0;34m\u001b[0m\u001b[0;34m\u001b[0m\u001b[0m\n",
      "\u001b[0;31mAssertionError\u001b[0m: No matching enum entry for 193"
     ]
    }
   ],
   "source": [
    "print(\"Parsing original rooms\")\n",
    "inf_rooms = parse_from_savestations([Address(0x44c5)], rom_m2)"
   ]
  },
  {
   "cell_type": "code",
   "execution_count": 289,
   "id": "e23f3f71-b6b3-4718-970d-d5258528885c",
   "metadata": {},
   "outputs": [
    {
     "data": {
      "text/plain": [
       "'Address'"
      ]
     },
     "execution_count": 289,
     "metadata": {},
     "output_type": "execute_result"
    }
   ],
   "source": [
    "f\"{Address.__name__}\""
   ]
  },
  {
   "cell_type": "code",
   "execution_count": null,
   "id": "625d5ae9-cd2f-4b13-94f0-38d3137b6204",
   "metadata": {},
   "outputs": [],
   "source": []
  }
 ],
 "metadata": {
  "kernelspec": {
   "display_name": "Python3.9",
   "language": "python",
   "name": "python3"
  },
  "language_info": {
   "codemirror_mode": {
    "name": "ipython",
    "version": 3
   },
   "file_extension": ".py",
   "mimetype": "text/x-python",
   "name": "python",
   "nbconvert_exporter": "python",
   "pygments_lexer": "ipython3",
   "version": "3.9.2"
  }
 },
 "nbformat": 4,
 "nbformat_minor": 5
}

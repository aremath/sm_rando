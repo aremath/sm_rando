{
 "cells": [
  {
   "cell_type": "code",
   "execution_count": 1,
   "id": "ccc4ab6a-699c-4a23-8334-4fe208696957",
   "metadata": {},
   "outputs": [
    {
     "name": "stdout",
     "output_type": "stream",
     "text": [
      "%pylab is deprecated, use %matplotlib inline and import the required libraries.\n",
      "Populating the interactive namespace from numpy and matplotlib\n"
     ]
    }
   ],
   "source": [
    "%load_ext autoreload\n",
    "%autoreload 2\n",
    "%pylab inline"
   ]
  },
  {
   "cell_type": "code",
   "execution_count": 5,
   "id": "c3d1380a-923d-4f69-9eeb-36d1b53a5abc",
   "metadata": {},
   "outputs": [],
   "source": [
    "import sys\n",
    "sys.path.append(\"../..\")"
   ]
  },
  {
   "cell_type": "code",
   "execution_count": 6,
   "id": "baef4d26-10ac-4b39-92ae-091ad539e97f",
   "metadata": {},
   "outputs": [],
   "source": [
    "from rom_tools.rom_manager import RomManager\n",
    "from world_rando.parse_rules import parse_rules, make_level_from_room\n",
    "from world_rando.coord import Coord"
   ]
  },
  {
   "cell_type": "code",
   "execution_count": 8,
   "id": "2658994c-49fe-491c-8fbb-da6f99cb426e",
   "metadata": {},
   "outputs": [],
   "source": [
    "manager = RomManager(\"../../../roms/sm_clean.smc\", \"../../../roms/sm_junk.smc\")\n",
    "obj_names = manager.parse() # slow"
   ]
  },
  {
   "cell_type": "code",
   "execution_count": 9,
   "id": "3b8a74b5-7f1e-4abf-9207-5adbb97cb898",
   "metadata": {},
   "outputs": [],
   "source": [
    "header = obj_names[\"room_header_0x7a107\"]\n",
    "level = make_level_from_room(header)"
   ]
  },
  {
   "cell_type": "code",
   "execution_count": 10,
   "id": "bc1e39f7-bd09-4288-ad7d-a1624a93898e",
   "metadata": {},
   "outputs": [],
   "source": [
    "from world_rando.parse_rules import parse_rules, make_level_from_room"
   ]
  },
  {
   "cell_type": "code",
   "execution_count": 11,
   "id": "1d4c91b2-4e71-4921-984b-e6390ef7f141",
   "metadata": {},
   "outputs": [],
   "source": [
    "rule_level = make_level_from_room(header)"
   ]
  },
  {
   "cell_type": "code",
   "execution_count": 12,
   "id": "39b6378c-b6f8-4819-ae64-f22a9c2ac658",
   "metadata": {},
   "outputs": [],
   "source": [
    "from world_rando.rules import AbstractTile"
   ]
  },
  {
   "cell_type": "code",
   "execution_count": 35,
   "id": "f632125a-f14d-4692-94b7-76cb7b6af3ef",
   "metadata": {},
   "outputs": [],
   "source": [
    "# Edit to add unknowns\n",
    "rule_level.level.flags.writeable = True\n",
    "for y in range(4,10):\n",
    "    rule_level.level[6,y] = AbstractTile.UNKNOWN"
   ]
  },
  {
   "cell_type": "code",
   "execution_count": 36,
   "id": "fd34a2a0-d7c2-48a2-8e82-36ff315cb47d",
   "metadata": {},
   "outputs": [
    {
     "data": {
      "text/plain": [
       "<matplotlib.image.AxesImage at 0x77c15995b1c0>"
      ]
     },
     "execution_count": 36,
     "metadata": {},
     "output_type": "execute_result"
    },
    {
     "data": {
      "image/png": "[encoded data removed]",
      "text/plain": [
       "<Figure size 480x480 with 1 Axes>"
      ]
     },
     "metadata": {},
     "output_type": "display_data"
    }
   ],
   "source": [
    "matshow(rule_level.level.T)"
   ]
  },
  {
   "cell_type": "code",
   "execution_count": 15,
   "id": "a31ce297-da8f-430f-a4f6-648cb015e611",
   "metadata": {},
   "outputs": [],
   "source": [
    "from bdds.bdd_core import *"
   ]
  },
  {
   "cell_type": "code",
   "execution_count": 16,
   "id": "0a3b60b3-f548-4eb8-8e7e-d070ec076156",
   "metadata": {},
   "outputs": [],
   "source": [
    "context = mk_context()"
   ]
  },
  {
   "cell_type": "code",
   "execution_count": 17,
   "id": "273a8449-b829-40b9-91b1-eb71bf140875",
   "metadata": {},
   "outputs": [],
   "source": [
    "# Add variables to the context\n",
    "new_vs = {}\n",
    "for y in range(4,9):\n",
    "    new_vs[f\"is_solid_6_{y}\"] = (0,1)\n",
    "context.declare(**new_vs)"
   ]
  },
  {
   "cell_type": "code",
   "execution_count": 18,
   "id": "a6317f99-a5fc-436d-875d-540734748417",
   "metadata": {},
   "outputs": [],
   "source": [
    "solids = list(new_vs.keys())"
   ]
  },
  {
   "cell_type": "code",
   "execution_count": 19,
   "id": "76862055-b766-40d0-8ea9-c157ec24a004",
   "metadata": {},
   "outputs": [
    {
     "name": "stderr",
     "output_type": "stream",
     "text": [
      "100%|█████████████████████████████████████████████████████████████████████████████████| 256/256 [00:07<00:00, 32.50it/s]\n"
     ]
    }
   ],
   "source": [
    "dc_trans = mk_trans(header, context, rule_level)"
   ]
  },
  {
   "cell_type": "code",
   "execution_count": 20,
   "id": "e9e4ef3f-2c4c-4c0f-bed8-e681434e8d99",
   "metadata": {},
   "outputs": [
    {
     "data": {
      "text/plain": [
       "7533029039800320.0"
      ]
     },
     "execution_count": 20,
     "metadata": {},
     "output_type": "execute_result"
    }
   ],
   "source": [
    "dc_trans.count()"
   ]
  },
  {
   "cell_type": "code",
   "execution_count": 21,
   "id": "d34a531b-0d8d-4075-890c-3cc49680d780",
   "metadata": {},
   "outputs": [
    {
     "data": {
      "text/plain": [
       "1300"
      ]
     },
     "execution_count": 21,
     "metadata": {},
     "output_type": "execute_result"
    }
   ],
   "source": [
    "dc_trans.dag_size"
   ]
  },
  {
   "cell_type": "code",
   "execution_count": 22,
   "id": "6fe79b2d-fd6d-4650-8daa-94dfec5f36f3",
   "metadata": {},
   "outputs": [],
   "source": [
    "norule_dc_trans = context.exist([\"rule\"], dc_trans)"
   ]
  },
  {
   "cell_type": "code",
   "execution_count": 23,
   "id": "d62bad80-74dc-4119-a7ac-8de8e7ac25f6",
   "metadata": {},
   "outputs": [
    {
     "name": "stdout",
     "output_type": "stream",
     "text": [
      "0 2377\n",
      "1 5657\n",
      "2 17773\n",
      "3 20796\n",
      "4 11445\n",
      "5 11207\n",
      "6 11207\n"
     ]
    }
   ],
   "source": [
    "all_reachable_dc = mk_closure(norule_dc_trans, context)"
   ]
  },
  {
   "cell_type": "code",
   "execution_count": 24,
   "id": "3d5fcc92-6754-435e-94bc-7699d9ab5261",
   "metadata": {},
   "outputs": [],
   "source": [
    "# Restrict to a single starting point\n",
    "reachable_dc = all_reachable_dc & context.add_expr(\"x_prev = 13 & M_prev = 0 & pose_prev = 0\")"
   ]
  },
  {
   "cell_type": "code",
   "execution_count": 25,
   "id": "0d310af0-7b3c-4859-b434-2781fdf2d5d4",
   "metadata": {},
   "outputs": [],
   "source": [
    "# Have missiles with no morph ball\n",
    "goal_womorph_n = context.exist(prevs, reachable_dc & context.add_expr(\"M_next = 1 & MB_next = 0\"))"
   ]
  },
  {
   "cell_type": "code",
   "execution_count": 26,
   "id": "5162cce8-c652-4da8-922f-b8f9ab763d12",
   "metadata": {},
   "outputs": [],
   "source": [
    "# Have missiles with any other conditions\n",
    "goal_any_n = context.exist(prevs, reachable_dc & context.add_expr(\"M_next = 1\"))"
   ]
  },
  {
   "cell_type": "code",
   "execution_count": 27,
   "id": "6b87e20c-3889-4b26-8d66-bc2509b187eb",
   "metadata": {},
   "outputs": [
    {
     "data": {
      "text/plain": [
       "{'room_id_next': 41223,\n",
       " 'x_next': 8,\n",
       " 'y_next': 9,\n",
       " 'pose_next': 1,\n",
       " 'vt_next': 1,\n",
       " 'vh_next': 0,\n",
       " 'vv_next': 0,\n",
       " 'B_next': 0,\n",
       " 'M_next': 1,\n",
       " 'MB_next': 1,\n",
       " 'is_solid_6_4': 0,\n",
       " 'is_solid_6_5': 0,\n",
       " 'is_solid_6_6': 0,\n",
       " 'is_solid_6_7': 0,\n",
       " 'is_solid_6_8': 0}"
      ]
     },
     "execution_count": 27,
     "metadata": {},
     "output_type": "execute_result"
    }
   ],
   "source": [
    "context.pick(goal_any_n & ~goal_womorph_n)"
   ]
  },
  {
   "cell_type": "code",
   "execution_count": 28,
   "id": "8660ac05-0fee-4098-a847-fb4c0d86c97b",
   "metadata": {},
   "outputs": [],
   "source": [
    "sanity = context.add_expr(\"MB_prev = 0 & MB_next = 1\") & reachable_dc"
   ]
  },
  {
   "cell_type": "code",
   "execution_count": 29,
   "id": "7d3c9c24-9e7a-44a1-b325-bcd249a9ab1a",
   "metadata": {},
   "outputs": [
    {
     "data": {
      "text/plain": [
       "0.0"
      ]
     },
     "execution_count": 29,
     "metadata": {},
     "output_type": "execute_result"
    }
   ],
   "source": [
    "sanity.count()"
   ]
  },
  {
   "cell_type": "code",
   "execution_count": 30,
   "id": "32957c2f-d3fc-4018-80d6-ea525ae3ab2b",
   "metadata": {},
   "outputs": [],
   "source": [
    "no_goal_womorph_n = context.forall(nexts, ~goal_womorph_n)"
   ]
  },
  {
   "cell_type": "code",
   "execution_count": 31,
   "id": "44c0559d-318c-442e-bb5a-c3f2e7b00c72",
   "metadata": {},
   "outputs": [],
   "source": [
    "check = ~context.exist(nexts, goal_womorph_n)"
   ]
  },
  {
   "cell_type": "code",
   "execution_count": 32,
   "id": "26002fa5-d559-4de0-a969-dcf1ccb4e25f",
   "metadata": {},
   "outputs": [
    {
     "data": {
      "text/plain": [
       "True"
      ]
     },
     "execution_count": 32,
     "metadata": {},
     "output_type": "execute_result"
    }
   ],
   "source": [
    "check == no_goal_womorph_n"
   ]
  },
  {
   "cell_type": "code",
   "execution_count": 33,
   "id": "127181c3-e238-477a-bda1-d402e2a63594",
   "metadata": {},
   "outputs": [
    {
     "data": {
      "text/plain": [
       "21.0"
      ]
     },
     "execution_count": 33,
     "metadata": {},
     "output_type": "execute_result"
    }
   ],
   "source": [
    "no_goal_womorph_n.count()"
   ]
  },
  {
   "cell_type": "code",
   "execution_count": 34,
   "id": "434e2dd2-31a0-4690-9ec9-14421170ae5c",
   "metadata": {},
   "outputs": [
    {
     "data": {
      "text/plain": [
       "{'room_id_next': 41223,\n",
       " 'x_next': 8,\n",
       " 'y_next': 9,\n",
       " 'pose_next': 1,\n",
       " 'vt_next': 1,\n",
       " 'vh_next': 0,\n",
       " 'vv_next': 0,\n",
       " 'B_next': 0,\n",
       " 'M_next': 1,\n",
       " 'MB_next': 1,\n",
       " 'is_solid_6_4': 1,\n",
       " 'is_solid_6_5': 0,\n",
       " 'is_solid_6_6': 0,\n",
       " 'is_solid_6_7': 0,\n",
       " 'is_solid_6_8': 1}"
      ]
     },
     "execution_count": 34,
     "metadata": {},
     "output_type": "execute_result"
    }
   ],
   "source": [
    "# Proposes a nicely minimal set of tiles to change to solid in order to prevent picking up the missiles without morph\n",
    "context.pick(no_goal_womorph_n & goal_any_n)"
   ]
  },
  {
   "cell_type": "code",
   "execution_count": 36,
   "id": "8f3a0215-e6ad-4439-97ea-2956adf72292",
   "metadata": {},
   "outputs": [],
   "source": [
    "#all_solid = context.assign_from({k:1 for k in solids})"
   ]
  },
  {
   "cell_type": "code",
   "execution_count": 37,
   "id": "1efc4987-3b65-430d-a0eb-bc6a1e157738",
   "metadata": {},
   "outputs": [],
   "source": [
    "#(all_solid & goal_womorph_n).count()"
   ]
  },
  {
   "cell_type": "code",
   "execution_count": 38,
   "id": "9081f9a6-bf42-4e3d-a92a-14fbec83124b",
   "metadata": {},
   "outputs": [],
   "source": [
    "# Okay, now let's go even further"
   ]
  },
  {
   "cell_type": "code",
   "execution_count": null,
   "id": "ba5c2486-a27f-43bc-905b-82370d64a197",
   "metadata": {},
   "outputs": [],
   "source": [
    "rule_level2 = make_level_from_room(header)"
   ]
  },
  {
   "cell_type": "code",
   "execution_count": null,
   "id": "13ec1790-6b10-4faa-a83b-502a15a8d78a",
   "metadata": {},
   "outputs": [],
   "source": [
    "# Edit to add unknowns\n",
    "rule_level2.level.flags.writeable = True\n",
    "for x in range(0, 16):\n",
    "    for y in range(0, 16):\n",
    "        rule_level2.level[x,y] = AbstractTile.UNKNOWN\n",
    "# Add a perimeter box to avoid pesky negatives\n",
    "#TODO: can use the context to figure out whether an unknown has a corresponding variable?\n",
    "for x in range(0, 16):\n",
    "    rule_level2.level[x,0] = AbstractTile.SOLID\n",
    "    rule_level2.level[0,x] = AbstractTile.SOLID\n",
    "    rule_level2.level[x,15] = AbstractTile.SOLID\n",
    "    rule_level2.level[15,x] = AbstractTile.SOLID"
   ]
  },
  {
   "cell_type": "code",
   "execution_count": null,
   "id": "7378a9a9-bad7-4b7c-aee2-842125929681",
   "metadata": {},
   "outputs": [],
   "source": [
    "rule_level2.level"
   ]
  },
  {
   "cell_type": "code",
   "execution_count": 90,
   "id": "7f71c6ce-3e69-49ff-b1f1-c8da3e089bb6",
   "metadata": {},
   "outputs": [],
   "source": [
    "context2 = mk_context()"
   ]
  },
  {
   "cell_type": "code",
   "execution_count": 91,
   "id": "d0fe4478-eace-43ff-ad04-ac8cdbca4905",
   "metadata": {},
   "outputs": [],
   "source": [
    "# Add variables to the context\n",
    "new_vs = {}\n",
    "for x in range(0,16):\n",
    "    for y in range(0,16):\n",
    "        new_vs[f\"is_solid_{x}_{y}\"] = (0,1)\n",
    "context.declare(**new_vs)"
   ]
  },
  {
   "cell_type": "code",
   "execution_count": 93,
   "id": "5d52a5ad-468d-4546-8a36-7f201ea3c0dd",
   "metadata": {},
   "outputs": [
    {
     "name": "stderr",
     "output_type": "stream",
     "text": [
      "100%|█████████████████████████████████████████████████████████████████████████████████| 256/256 [01:16<00:00,  3.36it/s]\n"
     ]
    }
   ],
   "source": [
    "dc_trans2 = mk_trans(header, context, rule_level2)"
   ]
  },
  {
   "cell_type": "code",
   "execution_count": 94,
   "id": "a8a836a2-fd40-49e5-813e-9c1ed8d6f2c1",
   "metadata": {},
   "outputs": [
    {
     "data": {
      "text/plain": [
       "4.8903812434739566e+73"
      ]
     },
     "execution_count": 94,
     "metadata": {},
     "output_type": "execute_result"
    }
   ],
   "source": [
    "dc_trans2.count()"
   ]
  },
  {
   "cell_type": "code",
   "execution_count": 95,
   "id": "4143ba1a-9167-4e9f-b86a-0de3157fe61b",
   "metadata": {},
   "outputs": [
    {
     "data": {
      "text/plain": [
       "738695"
      ]
     },
     "execution_count": 95,
     "metadata": {},
     "output_type": "execute_result"
    }
   ],
   "source": [
    "dc_trans2.dag_size"
   ]
  },
  {
   "cell_type": "code",
   "execution_count": 96,
   "id": "d68fe8f0-f0e5-443c-bcc5-8218f5468e1e",
   "metadata": {},
   "outputs": [],
   "source": [
    "norule_trans2_dc = context.exist([\"rule\"], dc_trans2)"
   ]
  },
  {
   "cell_type": "code",
   "execution_count": null,
   "id": "4cca27b6-afa4-4292-962f-d741b7848701",
   "metadata": {},
   "outputs": [
    {
     "name": "stdout",
     "output_type": "stream",
     "text": [
      "0 3413275\n"
     ]
    }
   ],
   "source": [
    "# Gross - At the moment the first step of this takes ~5 min and produces a BDD with dag size 3413275\n",
    "# It uses iterative squaring, so I guess it takes O(log_2(length_of_longest_path)). In this case, it probably takes ~12 steps?\n",
    "# Seems like based on applying this in the past, the BDD size doubles for the first few stages, meaning we might get a ~200,000,000-node bdd?\n",
    "# Further steps will take longer as well...\n",
    "#all_reachable2_dc = mk_closure(norule_trans2_dc, context)"
   ]
  },
  {
   "cell_type": "code",
   "execution_count": null,
   "id": "d178b338-43b9-402e-81b7-95ef00c99700",
   "metadata": {},
   "outputs": [],
   "source": []
  }
 ],
 "metadata": {
  "kernelspec": {
   "display_name": "Python 3 (ipykernel)",
   "language": "python",
   "name": "python3"
  },
  "language_info": {
   "codemirror_mode": {
    "name": "ipython",
    "version": 3
   },
   "file_extension": ".py",
   "mimetype": "text/x-python",
   "name": "python",
   "nbconvert_exporter": "python",
   "pygments_lexer": "ipython3",
   "version": "3.10.12"
  }
 },
 "nbformat": 4,
 "nbformat_minor": 5
}

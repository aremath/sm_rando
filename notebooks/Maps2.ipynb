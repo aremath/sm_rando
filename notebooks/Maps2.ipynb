{
 "cells": [
  {
   "cell_type": "code",
   "execution_count": 14,
   "id": "0c676540-9920-43e1-9fe8-74e898933c8f",
   "metadata": {},
   "outputs": [
    {
     "name": "stdout",
     "output_type": "stream",
     "text": [
      "The autoreload extension is already loaded. To reload it, use:\n",
      "  %reload_ext autoreload\n",
      "%pylab is deprecated, use %matplotlib inline and import the required libraries.\n",
      "Populating the interactive namespace from numpy and matplotlib\n"
     ]
    },
    {
     "name": "stderr",
     "output_type": "stream",
     "text": [
      "/home/aremath/p38-env/lib/python3.8/site-packages/IPython/core/magics/pylab.py:162: UserWarning: pylab import has clobbered these variables: ['Rectangle', 'Circle', 'copy', 'interactive', 'isnan', 'Button', 'Widget', 'Enum', 'Text', 'Polygon']\n",
      "`%matplotlib` prevents importing * from pylab and numpy\n",
      "  warn(\"pylab import has clobbered these variables: %s\"  % clobbered +\n"
     ]
    }
   ],
   "source": [
    "%load_ext autoreload\n",
    "%autoreload 2\n",
    "%pylab inline"
   ]
  },
  {
   "cell_type": "code",
   "execution_count": 2,
   "id": "fb4c8940-382f-4358-bc04-b40585025ce1",
   "metadata": {},
   "outputs": [],
   "source": [
    "import sys\n",
    "sys.path.append(\"..\")"
   ]
  },
  {
   "cell_type": "code",
   "execution_count": 3,
   "id": "b41f59c5-5269-433a-843f-9c24458b4070",
   "metadata": {},
   "outputs": [],
   "source": [
    "from ipyleaflet import *\n",
    "from ipywidgets import Layout"
   ]
  },
  {
   "cell_type": "code",
   "execution_count": 4,
   "id": "a73689fb-cc0a-4458-9baf-9b17242a6f86",
   "metadata": {},
   "outputs": [],
   "source": [
    "location = ((0,0), (1,1))\n",
    "m = Map(center=(0.5, 0.5), zoom=8, layout=Layout(width=\"500px\", height=\"500px\"))\n",
    "m.clear_layers()\n",
    "len(m.layers)\n",
    "image = ImageOverlay(url=\"https://www.vgmaps.com/Atlas/SuperNES/SuperMetroid-Zebes(In-GameMap).png\", bounds=location)\n",
    "m.add_layer(image)\n",
    "m.fit_bounds(location)"
   ]
  },
  {
   "cell_type": "code",
   "execution_count": 5,
   "id": "dee21672-bea3-42e0-a48a-fdd272613f31",
   "metadata": {},
   "outputs": [],
   "source": [
    "from ipywidgets import *"
   ]
  },
  {
   "cell_type": "code",
   "execution_count": 6,
   "id": "dfe21c57-f2cb-4b90-8928-e27b0cba04ea",
   "metadata": {},
   "outputs": [
    {
     "data": {
      "application/vnd.jupyter.widget-view+json": {
       "model_id": "a86e2a6f85844cfbaa3997dda64b9030",
       "version_major": 2,
       "version_minor": 0
      },
      "text/plain": [
       "Map(center=[0.5, 0.5], controls=(ZoomControl(options=['position', 'zoom_in_text', 'zoom_in_title', 'zoom_out_t…"
      ]
     },
     "execution_count": 6,
     "metadata": {},
     "output_type": "execute_result"
    }
   ],
   "source": [
    "m"
   ]
  },
  {
   "cell_type": "code",
   "execution_count": 48,
   "id": "3ee7ccaf-3718-4fc8-87ac-1fe71b7ed502",
   "metadata": {},
   "outputs": [],
   "source": [
    "circle = CircleMarker()\n",
    "circle.location = (0.5, 0.5)\n",
    "circle.radius = 5\n",
    "circle.color=\"white\"\n",
    "circle.fill_color=\"white\"\n",
    "m.add_layer(circle)"
   ]
  },
  {
   "cell_type": "code",
   "execution_count": 16,
   "id": "3ce64b70-3a7b-4f07-af59-afb220bcd061",
   "metadata": {},
   "outputs": [],
   "source": [
    "import math\n",
    "import time"
   ]
  },
  {
   "cell_type": "code",
   "execution_count": 22,
   "id": "77f32f41-f42e-4b62-9957-f29474fbb036",
   "metadata": {},
   "outputs": [],
   "source": [
    "# Testing moving the circle around\n",
    "n = 1000\n",
    "l = linspace(0, 2*math.pi, n)\n",
    "y = 0.5 * np.sin(l)\n",
    "x = 0.5 * np.cos(l)"
   ]
  },
  {
   "cell_type": "code",
   "execution_count": 23,
   "id": "52d986f8-4543-4af4-afdd-cd18c7bfa423",
   "metadata": {},
   "outputs": [],
   "source": [
    "#for i in range(n):\n",
    "#    circle.location = (x[i] + 0.5, y[i] + 0.5)\n",
    "#    time.sleep(0.03)"
   ]
  },
  {
   "cell_type": "code",
   "execution_count": 24,
   "id": "3878b436-3bd4-4d63-a0ea-8e5d0fc2b545",
   "metadata": {},
   "outputs": [],
   "source": [
    "def mk_color(rgb):\n",
    "    r,g,b = rgb\n",
    "    all_str = \"\"\n",
    "    for c in r, g, b:\n",
    "        assert c >= 0 and c < 256\n",
    "        c_str = hex(c)[2:]\n",
    "        if len(c_str) < 2:\n",
    "            c_str = f\"0{c_str}\"\n",
    "        all_str += c_str\n",
    "    return f\"#{all_str}\""
   ]
  },
  {
   "cell_type": "code",
   "execution_count": 25,
   "id": "66797797-51a5-4d86-a105-a310d7e1c8ec",
   "metadata": {},
   "outputs": [
    {
     "data": {
      "text/plain": [
       "'#b4d455'"
      ]
     },
     "execution_count": 25,
     "metadata": {},
     "output_type": "execute_result"
    }
   ],
   "source": [
    "#B4D455\n",
    "mk_color((0xB4, 0xD4, 0x55))"
   ]
  },
  {
   "cell_type": "code",
   "execution_count": 26,
   "id": "7ac51c27-cce4-473f-b245-03e4f90937fe",
   "metadata": {},
   "outputs": [],
   "source": [
    "#from_emu_path = \"...\"\n",
    "#to_emu_path = \"...\"\n",
    "#from_emu = open(from_emu_path, \"rb\")\n",
    "#to_emu = open(to_emu_path, \"w+\")"
   ]
  },
  {
   "cell_type": "markdown",
   "id": "0b91b8b9-eb54-4a19-942e-397ad5f25ecc",
   "metadata": {},
   "source": [
    "## Determining the map scale"
   ]
  },
  {
   "cell_type": "code",
   "execution_count": 27,
   "id": "7fc9b763-f0de-4532-b48e-3f65ee0e96d9",
   "metadata": {},
   "outputs": [],
   "source": [
    "from world_rando.coord import Coord"
   ]
  },
  {
   "cell_type": "code",
   "execution_count": 28,
   "id": "4ece1711-8677-45b5-b43b-8802d460d326",
   "metadata": {},
   "outputs": [],
   "source": [
    "# Use global position for shared reference point\n",
    "#$079F: Area index\n",
    "#{\n",
    "#    0: Crateria\n",
    "#    1: Brinstar\n",
    "#    2: Norfair\n",
    "#    3: Wrecked Ship\n",
    "#    4: Maridia\n",
    "#    5: Tourian\n",
    "#    6: Ceres\n",
    "#    7: Debug\n",
    "#}\n",
    "area_offsets = {\n",
    "    0: Coord(3, 10),\n",
    "    1: Coord(0, 29),\n",
    "    2: Coord(31, 49),\n",
    "    3: Coord(37, 0),\n",
    "    4: Coord(28, 29),\n",
    "    5: Coord(0, 10),\n",
    "    # Out of bounds\n",
    "    6: Coord(0, -10),\n",
    "    7: Coord(0, 0),\n",
    "}"
   ]
  },
  {
   "cell_type": "code",
   "execution_count": 29,
   "id": "5f33b4a0-81c5-4146-81ae-7d8eb3c85427",
   "metadata": {},
   "outputs": [],
   "source": [
    "# Scale = ???\n",
    "\n",
    "#0.98y\n",
    "def position_transform(emu_p):\n",
    "    cc = Coord(0.01358, 0.01594) * emu_p\n",
    "    return Coord(-cc.y, cc.x) + Coord(1.110, 0)"
   ]
  },
  {
   "cell_type": "code",
   "execution_count": 30,
   "id": "a7054c4b-03f8-4317-9254-fbe0d8aa452d",
   "metadata": {},
   "outputs": [],
   "source": [
    "area_colors = [\"white\", \"green\", \"red\", \"teal\", \"blue\", \"pink\"]"
   ]
  },
  {
   "cell_type": "code",
   "execution_count": 31,
   "id": "65d4d1d9-e3d1-4714-ab8f-bd5e1cb566bd",
   "metadata": {},
   "outputs": [],
   "source": [
    "for i in range(len(area_colors)):\n",
    "    area_start = area_offsets[i]\n",
    "    area_end = area_offsets[i] + Coord(64, 32)\n",
    "    area_rect = Rectangle(bounds=(position_transform(area_start), position_transform(area_end)))\n",
    "    color = area_colors[i]\n",
    "    area_rect.color = color\n",
    "    area_rect.fill_color = color\n",
    "    m.add_layer(area_rect)"
   ]
  },
  {
   "cell_type": "code",
   "execution_count": 32,
   "id": "e5f2fcb6-c1d7-41de-a250-82400655b87c",
   "metadata": {},
   "outputs": [],
   "source": [
    "# Area Rects\n",
    "rect = Rectangle(bounds=((0.985,0.01), (0.89,0.107)))\n",
    "m.add_layer(rect)"
   ]
  },
  {
   "cell_type": "code",
   "execution_count": 33,
   "id": "597c51e4-464f-40d6-8df1-31aed7116fb4",
   "metadata": {},
   "outputs": [
    {
     "data": {
      "text/plain": [
       "0.013571428571428568"
      ]
     },
     "execution_count": 33,
     "metadata": {},
     "output_type": "execute_result"
    }
   ],
   "source": [
    "# Y conversion\n",
    "(0.985 - 0.89) / 7"
   ]
  },
  {
   "cell_type": "code",
   "execution_count": 34,
   "id": "117650a8-ea56-4c54-89eb-77d8e10a0611",
   "metadata": {},
   "outputs": [
    {
     "data": {
      "text/plain": [
       "0.013857142857142858"
      ]
     },
     "execution_count": 34,
     "metadata": {},
     "output_type": "execute_result"
    }
   ],
   "source": [
    "# X conversion\n",
    "(0.107 - 0.01) / 7"
   ]
  },
  {
   "cell_type": "code",
   "execution_count": 35,
   "id": "db51faa4-e210-44d2-99d5-23a61fd37e21",
   "metadata": {},
   "outputs": [],
   "source": [
    "# ~ 1 to 0.0135\n",
    "# With starting point at..."
   ]
  },
  {
   "cell_type": "code",
   "execution_count": 5,
   "id": "91fa64b9-a093-4610-b92d-b58d2a5c19d2",
   "metadata": {
    "id": "XSvgHVj1Bwem"
   },
   "outputs": [],
   "source": [
    "from rom_tools.rom_manager import RomManager\n",
    "from rom_tools.rom_data_structures import RoomHeader"
   ]
  },
  {
   "cell_type": "code",
   "execution_count": 37,
   "id": "a997a6e8-729a-42a1-a725-d31a76d4f35d",
   "metadata": {
    "id": "f4Zr2_MACQHU"
   },
   "outputs": [],
   "source": [
    "rom = RomManager(\"../../roms/sm_clean.sfc\", \"sm_junk.smc\")"
   ]
  },
  {
   "cell_type": "code",
   "execution_count": 38,
   "id": "a9e06979-c6d3-4d5d-a02c-d492c075af04",
   "metadata": {
    "id": "gA6WgNBMCXZD"
   },
   "outputs": [],
   "source": [
    "parsed = rom.parse()"
   ]
  },
  {
   "cell_type": "code",
   "execution_count": 39,
   "id": "b9dd7064-ef0d-4233-9b20-0fc8db1d5bcf",
   "metadata": {},
   "outputs": [],
   "source": [
    "def get_room_position(rh):\n",
    "    return Coord(rh.map_x, rh.map_y) + area_offsets[rh.area_index]"
   ]
  },
  {
   "cell_type": "code",
   "execution_count": 40,
   "id": "eb9de864-9e2b-4b7d-a59c-0f72be5aea0b",
   "metadata": {},
   "outputs": [],
   "source": [
    "rh = [get_room_position(o) for o in parsed.values() if isinstance(o, RoomHeader)]"
   ]
  },
  {
   "cell_type": "code",
   "execution_count": 41,
   "id": "05a1e318-532b-4af4-a927-5f08ef7369b5",
   "metadata": {},
   "outputs": [],
   "source": [
    "all_room_positions = [position_transform(r) for r in rh]"
   ]
  },
  {
   "cell_type": "code",
   "execution_count": 42,
   "id": "e9e1297e-6296-4ac8-bbf4-d67644c146f7",
   "metadata": {},
   "outputs": [],
   "source": [
    "for r in all_room_positions:\n",
    "    circle = Circle()\n",
    "    circle.location = r\n",
    "    circle.radius = 1\n",
    "    circle.color = \"green\"\n",
    "    circle.fill_color = \"green\"\n",
    "    m.add_layer(circle)"
   ]
  },
  {
   "cell_type": "code",
   "execution_count": 43,
   "id": "aae91f7d-d912-4e9b-8595-826e195a178e",
   "metadata": {},
   "outputs": [],
   "source": [
    "from abstraction_validation.abstractify import abstractify_state"
   ]
  },
  {
   "cell_type": "code",
   "execution_count": 135,
   "id": "0e8710af-d85d-40ea-ac5a-c9152c9feab4",
   "metadata": {},
   "outputs": [],
   "source": [
    "def read_state():\n",
    "    ram_data = np.fromfile(\"../../Videogame-Retrieval/ram_snes9x.bin\", dtype=\"int16\")\n",
    "    return abstractify_state(ram_data, global_pos=True)"
   ]
  },
  {
   "cell_type": "code",
   "execution_count": null,
   "id": "43d63a75-3c8d-418b-a8a3-8e1bc3bcb3d8",
   "metadata": {},
   "outputs": [],
   "source": [
    "#ram_data = np.memmap(\"../../Videogame-Retrieval/ram_snes9x.bin\", dtype=\"int16\", mode=\"c\")#.reshape((-1, 0x2000 // 2))\n",
    "while True:\n",
    "    ram_data = np.fromfile(\"../../Videogame-Retrieval/ram_snes9x.bin\", dtype=\"int16\")\n",
    "    #print(ram_data.shape)\n",
    "    time.sleep(0.1)\n",
    "    p = abstractify_state(ram_data, global_pos=True).position\n",
    "    #print(p)\n",
    "    map_tile = Coord(p.x / 16, p.y / 16)\n",
    "    #print(map_tile)\n",
    "    #print(position_transform(map_tile))\n",
    "    circle.location = position_transform(map_tile)"
   ]
  },
  {
   "cell_type": "code",
   "execution_count": null,
   "id": "6802507a-e0f0-414e-88be-019cf8ddca7d",
   "metadata": {},
   "outputs": [],
   "source": [
    "f = open(\"../../Videogame-Retrieval/ram_snes9x.bin\", \"rb\")\n",
    "len(f.read())"
   ]
  },
  {
   "cell_type": "code",
   "execution_count": null,
   "id": "4ab16e3d-c03a-48f8-a9c1-fef64dfd7378",
   "metadata": {},
   "outputs": [],
   "source": [
    "# 3 Threads:\n",
    "# - Location Display\n",
    "# - Direction finding\n",
    "# -> Outputs a Lua Script\n",
    "# Lua script file reads the script and evals the code"
   ]
  },
  {
   "cell_type": "code",
   "execution_count": 77,
   "id": "43c63801-c396-490a-8612-9161023f8619",
   "metadata": {},
   "outputs": [],
   "source": [
    "# Testing Lua injection\n",
    "lua_fn = \"\"\"\n",
    "local px_addr = 0x000AF6\n",
    "local py_addr = 0x000AFA\n",
    "local camx_addr = 0x000911\n",
    "local camy_addr = 0x000915\n",
    "local camx = memory.readword(camx_addr)\n",
    "local camy = memory.readword(camy_addr)\n",
    "local px = memory.readword(px_addr)\n",
    "local py = memory.readword(py_addr)\n",
    "local screen_x = px - camx\n",
    "local screen_y = py - camy\n",
    "local xrad = memory.readbyte(0x7E0AFE)\n",
    "local yrad = memory.readbyte(0x7E0B00)\t\n",
    "gui.box(screen_x + (xrad * -1), screen_y + (yrad * -1), screen_x + xrad, screen_y + yrad,\"#0000FF35\",\"#0000FFFF\")\n",
    "gui.text(screen_x, screen_y, \"{}\", 0xffffffff)\n",
    "gui.text(0, 20, \"{}\", 0xffffffff)\n",
    "\"\"\"\n",
    "ss = \"Hello\""
   ]
  },
  {
   "cell_type": "code",
   "execution_count": 78,
   "id": "dc190c8a-e244-479c-b0ab-f0bb41616b35",
   "metadata": {},
   "outputs": [
    {
     "ename": "KeyboardInterrupt",
     "evalue": "",
     "output_type": "error",
     "traceback": [
      "\u001b[0;31m---------------------------------------------------------------------------\u001b[0m",
      "\u001b[0;31mKeyboardInterrupt\u001b[0m                         Traceback (most recent call last)",
      "Cell \u001b[0;32mIn [78], line 9\u001b[0m\n\u001b[1;32m      7\u001b[0m f\u001b[38;5;241m.\u001b[39mwrite(lua_fn\u001b[38;5;241m.\u001b[39mformat(ss, ss))\n\u001b[1;32m      8\u001b[0m f\u001b[38;5;241m.\u001b[39mclose()\n\u001b[0;32m----> 9\u001b[0m \u001b[43mtime\u001b[49m\u001b[38;5;241;43m.\u001b[39;49m\u001b[43msleep\u001b[49m\u001b[43m(\u001b[49m\u001b[38;5;241;43m1\u001b[39;49m\u001b[43m)\u001b[49m\n",
      "\u001b[0;31mKeyboardInterrupt\u001b[0m: "
     ]
    }
   ],
   "source": [
    "while True:\n",
    "    if ss == \"Hello\":\n",
    "        ss = \"Goodbye\"\n",
    "    else:\n",
    "        ss = \"Hello\"\n",
    "    f = open(\"../../Videogame-Retrieval/snes9x_bridge.lua\", \"w\")\n",
    "    f.write(lua_fn.format(ss, ss))\n",
    "    f.close()\n",
    "    time.sleep(1)"
   ]
  },
  {
   "cell_type": "code",
   "execution_count": 11,
   "id": "e9edea87-af15-4442-8d22-f4874481fd1a",
   "metadata": {},
   "outputs": [],
   "source": [
    "from abstraction_validation.sm_paths import *\n",
    "from encoding.parse_rooms import parse_rooms"
   ]
  },
  {
   "cell_type": "code",
   "execution_count": 6,
   "id": "0ac01cc5-fa03-4e0a-8b84-54fd4ac0baea",
   "metadata": {},
   "outputs": [],
   "source": [
    "rom = RomManager(\"../../roms/sm_clean.sfc\", \"sm_junk.smc\")"
   ]
  },
  {
   "cell_type": "code",
   "execution_count": 7,
   "id": "b9e9064d-d1e8-4eaa-aad3-0927ea16b599",
   "metadata": {},
   "outputs": [],
   "source": [
    "parsed_rom = rom.parse()"
   ]
  },
  {
   "cell_type": "code",
   "execution_count": 12,
   "id": "c183904a-f4a5-427f-bca7-7101e0295852",
   "metadata": {},
   "outputs": [],
   "source": [
    "rooms = parse_rooms(\"../encoding/dsl/rooms_for_alloy.txt\")"
   ]
  },
  {
   "cell_type": "code",
   "execution_count": 13,
   "id": "99a4ec68-a8d9-4505-a6d2-9cf94bfb29c0",
   "metadata": {
    "tags": []
   },
   "outputs": [
    {
     "name": "stdout",
     "output_type": "stream",
     "text": [
      "Landing_Site 0x791f8\n",
      "\t Extra: []\n",
      "\t Missing: ['Landing_Site_Ship']\n",
      "West_Ocean 0x793fe\n",
      "\t Extra: ['West_Ocean_L', 'West_Ocean_R4']\n",
      "\t Missing: ['West_Ocean_L2', 'West_Ocean_R6']\n",
      "Bomb_Torizo 0x79804\n",
      "\t Extra: ['Bomb_Torizo_B']\n",
      "\t Missing: ['Bomb_Torizo_Bombs']\n",
      "Spore_Spawn 0x79dc7\n",
      "\t Extra: []\n",
      "\t Missing: ['Spore_Spawn_Spore_Spawn']\n",
      "Kraid 0x7a59f\n",
      "\t Extra: []\n",
      "\t Missing: ['Kraid_Kraid']\n",
      "Statues 0x7a66a\n",
      "\t Extra: []\n",
      "\t Missing: ['Statues_Statues']\n",
      "Crocomire 0x7a98d\n",
      "\t Extra: []\n",
      "\t Missing: ['Crocomire_Crocomire']\n",
      "Water_Closet 0x7b1e5\n",
      "\t Extra: []\n",
      "\t Missing: ['Water_Closet_Drain']\n",
      "Golden_Torizo 0x7b283\n",
      "\t Extra: []\n",
      "\t Missing: ['Golden_Torizo_Golden_Torizo']\n",
      "Ridley 0x7b32e\n",
      "\t Extra: []\n",
      "\t Missing: ['Ridley_Ridley']\n",
      "Phantoon 0x7cd13\n",
      "\t Extra: []\n",
      "\t Missing: ['Phantoon_Phantoon']\n",
      "West_Sand_Hall 0x7d461\n",
      "\t Extra: []\n",
      "\t Missing: ['West_Sand_Hall_TS']\n",
      "East_Sand_Hall 0x7d4c2\n",
      "\t Extra: []\n",
      "\t Missing: ['East_Sand_Hall_TS']\n",
      "West_Sand_Hole 0x7d4ef\n",
      "\t Extra: []\n",
      "\t Missing: ['West_Sand_Hole_TS']\n",
      "East_Sand_Hole 0x7d51e\n",
      "\t Extra: []\n",
      "\t Missing: ['East_Sand_Hole_TS']\n",
      "West_Sand_Pit 0x7d54d\n",
      "\t Extra: []\n",
      "\t Missing: ['West_Sand_Pit_TS']\n",
      "East_Sand_Pit 0x7d57a\n",
      "\t Extra: []\n",
      "\t Missing: ['East_Sand_Pit_TS']\n",
      "Butterfly_Room 0x7d5ec\n",
      "\t Extra: []\n",
      "\t Missing: ['Butterfly_Room_TS']\n",
      "Botwoon_Energy_Farm 0x7d6fd\n",
      "\t Extra: []\n",
      "\t Missing: ['Botwoon_Energy_Farm_TS1', 'Botwoon_Energy_Farm_TS2']\n",
      "Butterfly_Sand_Pit 0x7d86e\n",
      "\t Extra: []\n",
      "\t Missing: ['Butterfly_Sand_Pit_TS']\n",
      "Botwoon_Energy_Pit 0x7d898\n",
      "\t Extra: []\n",
      "\t Missing: ['Botwoon_Energy_Pit_TS2', 'Botwoon_Energy_Pit_TS1']\n",
      "Shaktool 0x7d8c5\n",
      "\t Extra: []\n",
      "\t Missing: ['Shaktool_Shaktool']\n",
      "Botwoon 0x7d95e\n",
      "\t Extra: []\n",
      "\t Missing: ['Botwoon_Botwoon']\n",
      "Draygon 0x7da60\n",
      "\t Extra: []\n",
      "\t Missing: ['Draygon_Draygon']\n",
      "Mother_Brain 0x7dd58\n",
      "\t Extra: []\n",
      "\t Missing: ['Mother_Brain_L', 'Mother_Brain_Mother_Brain']\n"
     ]
    }
   ],
   "source": [
    "all_posns = all_global_positions(rooms, parsed_rom)"
   ]
  },
  {
   "cell_type": "code",
   "execution_count": 110,
   "id": "b24d8580-42d8-43fe-9eb5-cea40d88535f",
   "metadata": {},
   "outputs": [
    {
     "data": {
      "text/plain": [
       "'Colosseum_R1'"
      ]
     },
     "execution_count": 110,
     "metadata": {},
     "output_type": "execute_result"
    }
   ],
   "source": [
    "# Test node prediction\n",
    "ram_data = np.fromfile(\"../../Videogame-Retrieval/ram_snes9x.bin\", dtype=\"int16\")\n",
    "s = abstractify_state(ram_data, global_pos=True)\n",
    "map_state_to_node(s, all_posns)"
   ]
  },
  {
   "cell_type": "code",
   "execution_count": 161,
   "id": "30c0a1f5-7483-48e9-b963-772534578fa2",
   "metadata": {},
   "outputs": [],
   "source": [
    "# Return the name of the node that Samus should visit next\n",
    "def get_path_advice(state, annotated_path):\n",
    "    if annotated_path is None:\n",
    "        return None\n",
    "    dist, node = map_state_to_node(state, all_posns)\n",
    "    i = annotated_path.index(node, state.items)\n",
    "    if i is None:\n",
    "        return None\n",
    "    if i == len(annotated_path) - 1:\n",
    "        return None\n",
    "    return annotated_path[i+1][0]"
   ]
  },
  {
   "cell_type": "code",
   "execution_count": 25,
   "id": "5d3a6e24-15e4-48c5-a7ef-ba40774352df",
   "metadata": {},
   "outputs": [],
   "source": [
    "advice_fn = \"\"\"\n",
    "area_offsets = {\n",
    "    [0] = {[0] = 3, [1] = 10},\n",
    "    [1] = {[0] = 0, [1] = 29},\n",
    "    [2] = {[0] = 31, [1] = 49},\n",
    "    [3] = {[0] = 37, [1] = 0},\n",
    "    [4] = {[0] = 28, [1] = 29},\n",
    "    [5] = {[0] = 0, [1] = 10},\n",
    "    [6] = {[0] = 0, [1] = -10},\n",
    "    [7] = {[0] = 0, [1] = 0}\n",
    "}\n",
    "local px_addr = 0x000AF6\n",
    "local py_addr = 0x000AFA\n",
    "local camx_addr = 0x000911\n",
    "local camy_addr = 0x000915\n",
    "local area_addr = 0x00079F\n",
    "local mapx_addr = 0x0007A1\n",
    "local mapy_addr = 0x0007A3\n",
    "local camx = memory.readword(camx_addr)\n",
    "local camy = memory.readword(camy_addr)\n",
    "local px = memory.readword(px_addr)\n",
    "local py = memory.readword(py_addr)\n",
    "local screen_x = px - camx\n",
    "local screen_y = py - camy\n",
    "local xrad = memory.readbyte(0x7E0AFE)\n",
    "local yrad = memory.readbyte(0x7E0B00)\n",
    "local area = memory.readbyte(area_addr)\n",
    "local mapx = memory.readbyte(mapx_addr)\n",
    "local mapy = memory.readbyte(mapy_addr)\n",
    "local px_global = 16 * area_offsets[area][0] + 16 * mapx + (px / 16)\n",
    "local py_global = 16 * area_offsets[area][1] + 16 * mapy + (py / 16)\n",
    "\"\"\"\n",
    "advice2 = \"\"\"\n",
    "local go_x = {gox}\n",
    "local go_y = {goy}\n",
    "local to_x = go_x - px_global\n",
    "local to_y = go_y - py_global\n",
    "--print(\"hey\")\n",
    "--print(px_global, py_global)\n",
    "--print(go_x, go_y)\n",
    "--print(to_x, to_y)\n",
    "gui.line(screen_x, screen_y, screen_x + (to_x * 16), screen_y + (to_y * 16), 0xffffffff)\n",
    "local dist = math.sqrt((to_x + to_y) * (to_x + to_y))\n",
    "gui.text(screen_x, screen_y, tostring(math.floor(dist)), 0xffffffff)\n",
    "\"\"\"\n",
    "def mk_advice(x, y):\n",
    "    return advice_fn + advice2.format(gox=x, goy=y)"
   ]
  },
  {
   "cell_type": "code",
   "execution_count": 26,
   "id": "16583ef4-e2dd-4d0f-b61f-4e64975cf51a",
   "metadata": {},
   "outputs": [
    {
     "ename": "KeyboardInterrupt",
     "evalue": "",
     "output_type": "error",
     "traceback": [
      "\u001b[0;31m---------------------------------------------------------------------------\u001b[0m",
      "\u001b[0;31mKeyboardInterrupt\u001b[0m                         Traceback (most recent call last)",
      "Cell \u001b[0;32mIn [26], line 6\u001b[0m\n\u001b[1;32m      4\u001b[0m f\u001b[38;5;241m.\u001b[39mwrite(mk_advice(c\u001b[38;5;241m.\u001b[39mx, c\u001b[38;5;241m.\u001b[39my))\n\u001b[1;32m      5\u001b[0m f\u001b[38;5;241m.\u001b[39mclose()\n\u001b[0;32m----> 6\u001b[0m \u001b[43mtime\u001b[49m\u001b[38;5;241;43m.\u001b[39;49m\u001b[43msleep\u001b[49m\u001b[43m(\u001b[49m\u001b[38;5;241;43m1\u001b[39;49m\u001b[43m)\u001b[49m\n",
      "\u001b[0;31mKeyboardInterrupt\u001b[0m: "
     ]
    }
   ],
   "source": [
    "while True:\n",
    "    f = open(\"../../Videogame-Retrieval/snes9x_bridge.lua\", \"w\")\n",
    "    c = all_posns[\"Colosseum_R2\"]\n",
    "    f.write(mk_advice(c.x, c.y))\n",
    "    f.close()\n",
    "    time.sleep(1)"
   ]
  },
  {
   "cell_type": "code",
   "execution_count": 134,
   "id": "92e75a8d-edf7-4b5f-a87a-d00529a2a079",
   "metadata": {},
   "outputs": [],
   "source": [
    "import multiprocessing"
   ]
  },
  {
   "cell_type": "code",
   "execution_count": 142,
   "id": "77f0c34c-f510-4790-b4fb-2e1c417e685f",
   "metadata": {},
   "outputs": [],
   "source": [
    "prooms = parse_rooms(\"../encoding/dsl/rooms_for_alloy.txt\")\n",
    "pexits = parse_exits(\"../encoding/dsl/exits_for_alloy.txt\")\n",
    "design = dictify_rooms(prooms, pexits)\n",
    "drop_table = get_drop_table(design)\n",
    "ro = "
   ]
  },
  {
   "cell_type": "code",
   "execution_count": 146,
   "id": "602b2d7d-b65e-4b75-bbf5-927d38f75592",
   "metadata": {},
   "outputs": [],
   "source": [
    "from bidict import bidict"
   ]
  },
  {
   "cell_type": "code",
   "execution_count": 147,
   "id": "80284f16-a009-4fe4-a2a2-35f5008b23f8",
   "metadata": {},
   "outputs": [],
   "source": [
    "# Node Name <-> Index\n",
    "node_index_mapping = bidict({})\n",
    "for i,n in enumerate(all_posns):\n",
    "    node_index_mapping[n] = i"
   ]
  },
  {
   "cell_type": "code",
   "execution_count": 163,
   "id": "e0e2bfba-6b42-4eff-a729-175d1bb9e000",
   "metadata": {},
   "outputs": [],
   "source": [
    "def oracle(current_node_index, current_advice_index):\n",
    "    apath = None\n",
    "    while True:\n",
    "        current_node = node_index_mapping.inverse[current_node_index.value]\n",
    "        s = read_state()\n",
    "        dist, node = map_state_to_node(s, all_posns)\n",
    "        if dist < 5:\n",
    "            current_node = node\n",
    "            current_node_index.value = node_index_mapping[current_node]\n",
    "        print(f\"Currently At: {current_node}\")\n",
    "        advice_node = get_path_advice((current_node, s.items), apath)\n",
    "        if advice_node is None:\n",
    "            # Then compute the path\n",
    "            ctx = Context(current_node, s.items, \"Landing_Site_Ship\", ItemSet([\"Mother_Brain\"]), room_name_mapping)\n",
    "            #ctx = Context(\"Landing_Site_Ship\", ItemSet([]), \"Morph_Ball_Room_MB\", ItemSet([\"MB\"]))\n",
    "            path = ctx.solve_path()\n",
    "            ipath = get_intervals(path, drop_table)\n",
    "            apath = get_annotated_path(path, ipath)\n",
    "        advice_node = get_path_advice(s, apath)\n",
    "        if advice_node is not None:\n",
    "            print(f\"You should go to: {advice_node}\")\n",
    "            advice_index.value = node_index_mapping[advice_node]\n",
    "        else:\n",
    "            print(\"No advice!\")\n",
    "        time.sleep(1)"
   ]
  },
  {
   "cell_type": "code",
   "execution_count": 159,
   "id": "10a5cd3d-56ba-4678-b785-aa3d6c01ce10",
   "metadata": {},
   "outputs": [],
   "source": [
    "current_node_index = multiprocessing.Value(\"d\", 0)\n",
    "current_advice_index = multiprocessing.Value(\"d\", 0)"
   ]
  },
  {
   "cell_type": "code",
   "execution_count": 165,
   "id": "8c744ad0-71c9-41d6-bb08-c08bd0cea461",
   "metadata": {},
   "outputs": [
    {
     "name": "stdout",
     "output_type": "stream",
     "text": [
      "Currently At: The_Precious_Room_L1\n"
     ]
    },
    {
     "ename": "TypeError",
     "evalue": "__init__() missing 1 required positional argument: 'room_name_mapping'",
     "output_type": "error",
     "traceback": [
      "\u001b[0;31m---------------------------------------------------------------------------\u001b[0m",
      "\u001b[0;31mTypeError\u001b[0m                                 Traceback (most recent call last)",
      "Cell \u001b[0;32mIn [165], line 3\u001b[0m\n\u001b[1;32m      1\u001b[0m \u001b[38;5;66;03m# The real deal\u001b[39;00m\n\u001b[1;32m      2\u001b[0m p \u001b[38;5;241m=\u001b[39m multiprocessing\u001b[38;5;241m.\u001b[39mProcess(target\u001b[38;5;241m=\u001b[39moracle, args\u001b[38;5;241m=\u001b[39m(current_node_index, current_advice_index))\n\u001b[0;32m----> 3\u001b[0m \u001b[43mp\u001b[49m\u001b[38;5;241;43m.\u001b[39;49m\u001b[43mrun\u001b[49m\u001b[43m(\u001b[49m\u001b[43m)\u001b[49m\n\u001b[1;32m      4\u001b[0m \u001b[38;5;28;01mwhile\u001b[39;00m \u001b[38;5;28;01mTrue\u001b[39;00m:\n\u001b[1;32m      5\u001b[0m     f \u001b[38;5;241m=\u001b[39m \u001b[38;5;28mopen\u001b[39m(\u001b[38;5;124m\"\u001b[39m\u001b[38;5;124m../../Videogame-Retrieval/snes9x_bridge.lua\u001b[39m\u001b[38;5;124m\"\u001b[39m, \u001b[38;5;124m\"\u001b[39m\u001b[38;5;124mw\u001b[39m\u001b[38;5;124m\"\u001b[39m)\n",
      "File \u001b[0;32m/usr/lib/python3.8/multiprocessing/process.py:108\u001b[0m, in \u001b[0;36mBaseProcess.run\u001b[0;34m(self)\u001b[0m\n\u001b[1;32m    104\u001b[0m \u001b[38;5;124;03m'''\u001b[39;00m\n\u001b[1;32m    105\u001b[0m \u001b[38;5;124;03mMethod to be run in sub-process; can be overridden in sub-class\u001b[39;00m\n\u001b[1;32m    106\u001b[0m \u001b[38;5;124;03m'''\u001b[39;00m\n\u001b[1;32m    107\u001b[0m \u001b[38;5;28;01mif\u001b[39;00m \u001b[38;5;28mself\u001b[39m\u001b[38;5;241m.\u001b[39m_target:\n\u001b[0;32m--> 108\u001b[0m     \u001b[38;5;28;43mself\u001b[39;49m\u001b[38;5;241;43m.\u001b[39;49m\u001b[43m_target\u001b[49m\u001b[43m(\u001b[49m\u001b[38;5;241;43m*\u001b[39;49m\u001b[38;5;28;43mself\u001b[39;49m\u001b[38;5;241;43m.\u001b[39;49m\u001b[43m_args\u001b[49m\u001b[43m,\u001b[49m\u001b[43m \u001b[49m\u001b[38;5;241;43m*\u001b[39;49m\u001b[38;5;241;43m*\u001b[39;49m\u001b[38;5;28;43mself\u001b[39;49m\u001b[38;5;241;43m.\u001b[39;49m\u001b[43m_kwargs\u001b[49m\u001b[43m)\u001b[49m\n",
      "Cell \u001b[0;32mIn [163], line 14\u001b[0m, in \u001b[0;36moracle\u001b[0;34m(current_node_index, current_advice_index)\u001b[0m\n\u001b[1;32m     11\u001b[0m advice_node \u001b[38;5;241m=\u001b[39m get_path_advice(s, apath)\n\u001b[1;32m     12\u001b[0m \u001b[38;5;28;01mif\u001b[39;00m advice_node \u001b[38;5;129;01mis\u001b[39;00m \u001b[38;5;28;01mNone\u001b[39;00m:\n\u001b[1;32m     13\u001b[0m     \u001b[38;5;66;03m# Then compute the path\u001b[39;00m\n\u001b[0;32m---> 14\u001b[0m     ctx \u001b[38;5;241m=\u001b[39m \u001b[43mContext\u001b[49m\u001b[43m(\u001b[49m\u001b[43mcurrent_node\u001b[49m\u001b[43m,\u001b[49m\u001b[43m \u001b[49m\u001b[43ms\u001b[49m\u001b[38;5;241;43m.\u001b[39;49m\u001b[43mitems\u001b[49m\u001b[43m,\u001b[49m\u001b[43m \u001b[49m\u001b[38;5;124;43m\"\u001b[39;49m\u001b[38;5;124;43mLanding_Site_Ship\u001b[39;49m\u001b[38;5;124;43m\"\u001b[39;49m\u001b[43m,\u001b[49m\u001b[43m \u001b[49m\u001b[43mItemSet\u001b[49m\u001b[43m(\u001b[49m\u001b[43m[\u001b[49m\u001b[38;5;124;43m\"\u001b[39;49m\u001b[38;5;124;43mMother_Brain\u001b[39;49m\u001b[38;5;124;43m\"\u001b[39;49m\u001b[43m]\u001b[49m\u001b[43m)\u001b[49m\u001b[43m)\u001b[49m\n\u001b[1;32m     15\u001b[0m     \u001b[38;5;66;03m#ctx = Context(\"Landing_Site_Ship\", ItemSet([]), \"Morph_Ball_Room_MB\", ItemSet([\"MB\"]))\u001b[39;00m\n\u001b[1;32m     16\u001b[0m     path \u001b[38;5;241m=\u001b[39m ctx\u001b[38;5;241m.\u001b[39msolve_path()\n",
      "\u001b[0;31mTypeError\u001b[0m: __init__() missing 1 required positional argument: 'room_name_mapping'"
     ]
    }
   ],
   "source": [
    "# The real deal\n",
    "p = multiprocessing.Process(target=oracle, args=(current_node_index, current_advice_index))\n",
    "p.run()\n",
    "while True:\n",
    "    f = open(\"../../Videogame-Retrieval/snes9x_bridge.lua\", \"w\")\n",
    "    a = node_index_mapping.inverse[current_advice_index]\n",
    "    c = all_posns[a]\n",
    "    f.write(mk_advice(c.x, c.y))\n",
    "    f.close()\n",
    "    time.sleep(1)"
   ]
  },
  {
   "cell_type": "code",
   "execution_count": null,
   "id": "2681093b-8ede-46c2-9595-52375a88801f",
   "metadata": {},
   "outputs": [],
   "source": [
    "# Where have you been?\n",
    "# Don't update the plan in certain circumstances"
   ]
  }
 ],
 "metadata": {
  "kernelspec": {
   "display_name": "p38-env",
   "language": "python",
   "name": "p38-env"
  },
  "language_info": {
   "codemirror_mode": {
    "name": "ipython",
    "version": 3
   },
   "file_extension": ".py",
   "mimetype": "text/x-python",
   "name": "python",
   "nbconvert_exporter": "python",
   "pygments_lexer": "ipython3",
   "version": "3.8.15"
  }
 },
 "nbformat": 4,
 "nbformat_minor": 5
}

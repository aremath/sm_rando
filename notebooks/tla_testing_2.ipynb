{
 "cells": [
  {
   "cell_type": "code",
   "execution_count": 3,
   "id": "d207267c-0078-4822-933e-a484f8f9ab27",
   "metadata": {},
   "outputs": [
    {
     "name": "stdout",
     "output_type": "stream",
     "text": [
      "%pylab is deprecated, use %matplotlib inline and import the required libraries.\n",
      "Populating the interactive namespace from numpy and matplotlib\n"
     ]
    }
   ],
   "source": [
    "%load_ext autoreload\n",
    "%autoreload 2\n",
    "%pylab inline"
   ]
  },
  {
   "cell_type": "code",
   "execution_count": 4,
   "id": "7883fef6-c36d-4b63-8b58-cafdf0505cf7",
   "metadata": {},
   "outputs": [],
   "source": [
    "import sys\n",
    "sys.path.append(\"..\")"
   ]
  },
  {
   "cell_type": "code",
   "execution_count": 5,
   "id": "72975f21-2a86-4aa8-bdc7-4d54d1fb6151",
   "metadata": {},
   "outputs": [],
   "source": [
    "from rom_tools.rom_manager import RomManager\n",
    "from world_rando.parse_rules import parse_rules, make_level_from_room\n",
    "from world_rando.coord import Coord"
   ]
  },
  {
   "cell_type": "code",
   "execution_count": 6,
   "id": "4cdd2a74-af4c-4485-8d49-67169c39e2eb",
   "metadata": {},
   "outputs": [],
   "source": [
    "manager = RomManager(\"../../roms/sm_clean.smc\", \"../../roms/sm_junk.smc\")\n",
    "obj_names = manager.parse() # slow\n",
    "header = obj_names[\"room_header_0x79e9f\"]\n",
    "level = make_level_from_room(header)"
   ]
  },
  {
   "cell_type": "code",
   "execution_count": 7,
   "id": "3f986fd9-d782-486e-aaba-383264f98eba",
   "metadata": {},
   "outputs": [
    {
     "data": {
      "image/png": "[encoded data removed]",
      "text/plain": [
       "<Figure size 1000x1000 with 1 Axes>"
      ]
     },
     "metadata": {},
     "output_type": "display_data"
    }
   ],
   "source": [
    "figure(figsize=(10,10));\n",
    "imshow(level.level.T);"
   ]
  },
  {
   "cell_type": "code",
   "execution_count": 8,
   "id": "dd879d49-fbf0-4cb8-8d07-50cbae040a39",
   "metadata": {},
   "outputs": [],
   "source": [
    "from bdds.bdd_core import *"
   ]
  },
  {
   "cell_type": "code",
   "execution_count": 9,
   "id": "dd67b02f-dc0f-45da-b18c-1388471699d1",
   "metadata": {},
   "outputs": [],
   "source": [
    "context = mk_context()"
   ]
  },
  {
   "cell_type": "code",
   "execution_count": 10,
   "id": "ed4c7087-bea2-488f-abf8-dfed10a86ed8",
   "metadata": {},
   "outputs": [
    {
     "data": {
      "text/plain": [
       "{'B_goal_0',\n",
       " 'B_next_0',\n",
       " 'B_prev_0',\n",
       " 'B_temp_0',\n",
       " 'Bomb_Torizo_goal_0',\n",
       " 'Bomb_Torizo_next_0',\n",
       " 'Bomb_Torizo_prev_0',\n",
       " 'Bomb_Torizo_temp_0',\n",
       " 'Botwoon_goal_0',\n",
       " 'Botwoon_next_0',\n",
       " 'Botwoon_prev_0',\n",
       " 'Botwoon_temp_0',\n",
       " 'CB_goal_0',\n",
       " 'CB_next_0',\n",
       " 'CB_prev_0',\n",
       " 'CB_temp_0',\n",
       " 'Ceres_Ridley_goal_0',\n",
       " 'Ceres_Ridley_next_0',\n",
       " 'Ceres_Ridley_prev_0',\n",
       " 'Ceres_Ridley_temp_0',\n",
       " 'Crocomire_goal_0',\n",
       " 'Crocomire_next_0',\n",
       " 'Crocomire_prev_0',\n",
       " 'Crocomire_temp_0',\n",
       " 'Drain_goal_0',\n",
       " 'Drain_next_0',\n",
       " 'Drain_prev_0',\n",
       " 'Drain_temp_0',\n",
       " 'Draygon_goal_0',\n",
       " 'Draygon_next_0',\n",
       " 'Draygon_prev_0',\n",
       " 'Draygon_temp_0',\n",
       " 'E_goal_0',\n",
       " 'E_next_0',\n",
       " 'E_prev_0',\n",
       " 'E_temp_0',\n",
       " 'GS_goal_0',\n",
       " 'GS_next_0',\n",
       " 'GS_prev_0',\n",
       " 'GS_temp_0',\n",
       " 'G_goal_0',\n",
       " 'G_next_0',\n",
       " 'G_prev_0',\n",
       " 'G_temp_0',\n",
       " 'Golden_Torizo_goal_0',\n",
       " 'Golden_Torizo_next_0',\n",
       " 'Golden_Torizo_prev_0',\n",
       " 'Golden_Torizo_temp_0',\n",
       " 'HJ_goal_0',\n",
       " 'HJ_next_0',\n",
       " 'HJ_prev_0',\n",
       " 'HJ_temp_0',\n",
       " 'IB_goal_0',\n",
       " 'IB_next_0',\n",
       " 'IB_prev_0',\n",
       " 'IB_temp_0',\n",
       " 'Kraid_goal_0',\n",
       " 'Kraid_next_0',\n",
       " 'Kraid_prev_0',\n",
       " 'Kraid_temp_0',\n",
       " 'MB_goal_0',\n",
       " 'MB_next_0',\n",
       " 'MB_prev_0',\n",
       " 'MB_temp_0',\n",
       " 'M_goal_0',\n",
       " 'M_next_0',\n",
       " 'M_prev_0',\n",
       " 'M_temp_0',\n",
       " 'Mother_Brain_goal_0',\n",
       " 'Mother_Brain_next_0',\n",
       " 'Mother_Brain_prev_0',\n",
       " 'Mother_Brain_temp_0',\n",
       " 'PB_goal_0',\n",
       " 'PB_next_0',\n",
       " 'PB_prev_0',\n",
       " 'PB_temp_0',\n",
       " 'PLB_goal_0',\n",
       " 'PLB_next_0',\n",
       " 'PLB_prev_0',\n",
       " 'PLB_temp_0',\n",
       " 'Phantoon_goal_0',\n",
       " 'Phantoon_next_0',\n",
       " 'Phantoon_prev_0',\n",
       " 'Phantoon_temp_0',\n",
       " 'RT_goal_0',\n",
       " 'RT_next_0',\n",
       " 'RT_prev_0',\n",
       " 'RT_temp_0',\n",
       " 'Ridley_goal_0',\n",
       " 'Ridley_next_0',\n",
       " 'Ridley_prev_0',\n",
       " 'Ridley_temp_0',\n",
       " 'SA_goal_0',\n",
       " 'SA_next_0',\n",
       " 'SA_prev_0',\n",
       " 'SA_temp_0',\n",
       " 'SB_goal_0',\n",
       " 'SB_next_0',\n",
       " 'SB_prev_0',\n",
       " 'SB_temp_0',\n",
       " 'SJ_goal_0',\n",
       " 'SJ_next_0',\n",
       " 'SJ_prev_0',\n",
       " 'SJ_temp_0',\n",
       " 'SPB_goal_0',\n",
       " 'SPB_next_0',\n",
       " 'SPB_prev_0',\n",
       " 'SPB_temp_0',\n",
       " 'START_goal_0',\n",
       " 'START_next_0',\n",
       " 'START_prev_0',\n",
       " 'START_temp_0',\n",
       " 'S_goal_0',\n",
       " 'S_next_0',\n",
       " 'S_prev_0',\n",
       " 'S_temp_0',\n",
       " 'Shaktool_goal_0',\n",
       " 'Shaktool_next_0',\n",
       " 'Shaktool_prev_0',\n",
       " 'Shaktool_temp_0',\n",
       " 'Spazer_goal_0',\n",
       " 'Spazer_next_0',\n",
       " 'Spazer_prev_0',\n",
       " 'Spazer_temp_0',\n",
       " 'Spore_Spawn_goal_0',\n",
       " 'Spore_Spawn_next_0',\n",
       " 'Spore_Spawn_prev_0',\n",
       " 'Spore_Spawn_temp_0',\n",
       " 'Statues_goal_0',\n",
       " 'Statues_next_0',\n",
       " 'Statues_prev_0',\n",
       " 'Statues_temp_0',\n",
       " 'V_goal_0',\n",
       " 'V_next_0',\n",
       " 'V_prev_0',\n",
       " 'V_temp_0',\n",
       " 'WB_goal_0',\n",
       " 'WB_next_0',\n",
       " 'WB_prev_0',\n",
       " 'WB_temp_0',\n",
       " 'XR_goal_0',\n",
       " 'XR_next_0',\n",
       " 'XR_prev_0',\n",
       " 'XR_temp_0',\n",
       " 'granularity_0',\n",
       " 'pose_goal_0',\n",
       " 'pose_goal_1',\n",
       " 'pose_next_0',\n",
       " 'pose_next_1',\n",
       " 'pose_prev_0',\n",
       " 'pose_prev_1',\n",
       " 'pose_temp_0',\n",
       " 'pose_temp_1',\n",
       " 'room_id_goal_0',\n",
       " 'room_id_goal_1',\n",
       " 'room_id_goal_10',\n",
       " 'room_id_goal_11',\n",
       " 'room_id_goal_12',\n",
       " 'room_id_goal_13',\n",
       " 'room_id_goal_14',\n",
       " 'room_id_goal_15',\n",
       " 'room_id_goal_2',\n",
       " 'room_id_goal_3',\n",
       " 'room_id_goal_4',\n",
       " 'room_id_goal_5',\n",
       " 'room_id_goal_6',\n",
       " 'room_id_goal_7',\n",
       " 'room_id_goal_8',\n",
       " 'room_id_goal_9',\n",
       " 'room_id_next_0',\n",
       " 'room_id_next_1',\n",
       " 'room_id_next_10',\n",
       " 'room_id_next_11',\n",
       " 'room_id_next_12',\n",
       " 'room_id_next_13',\n",
       " 'room_id_next_14',\n",
       " 'room_id_next_15',\n",
       " 'room_id_next_2',\n",
       " 'room_id_next_3',\n",
       " 'room_id_next_4',\n",
       " 'room_id_next_5',\n",
       " 'room_id_next_6',\n",
       " 'room_id_next_7',\n",
       " 'room_id_next_8',\n",
       " 'room_id_next_9',\n",
       " 'room_id_prev_0',\n",
       " 'room_id_prev_1',\n",
       " 'room_id_prev_10',\n",
       " 'room_id_prev_11',\n",
       " 'room_id_prev_12',\n",
       " 'room_id_prev_13',\n",
       " 'room_id_prev_14',\n",
       " 'room_id_prev_15',\n",
       " 'room_id_prev_2',\n",
       " 'room_id_prev_3',\n",
       " 'room_id_prev_4',\n",
       " 'room_id_prev_5',\n",
       " 'room_id_prev_6',\n",
       " 'room_id_prev_7',\n",
       " 'room_id_prev_8',\n",
       " 'room_id_prev_9',\n",
       " 'room_id_temp_0',\n",
       " 'room_id_temp_1',\n",
       " 'room_id_temp_10',\n",
       " 'room_id_temp_11',\n",
       " 'room_id_temp_12',\n",
       " 'room_id_temp_13',\n",
       " 'room_id_temp_14',\n",
       " 'room_id_temp_15',\n",
       " 'room_id_temp_2',\n",
       " 'room_id_temp_3',\n",
       " 'room_id_temp_4',\n",
       " 'room_id_temp_5',\n",
       " 'room_id_temp_6',\n",
       " 'room_id_temp_7',\n",
       " 'room_id_temp_8',\n",
       " 'room_id_temp_9',\n",
       " 'rule_0',\n",
       " 'rule_1',\n",
       " 'rule_2',\n",
       " 'rule_3',\n",
       " 'rule_4',\n",
       " 'rule_5',\n",
       " 'vh_goal_0',\n",
       " 'vh_goal_1',\n",
       " 'vh_goal_2',\n",
       " 'vh_goal_3',\n",
       " 'vh_goal_4',\n",
       " 'vh_goal_5',\n",
       " 'vh_next_0',\n",
       " 'vh_next_1',\n",
       " 'vh_next_2',\n",
       " 'vh_next_3',\n",
       " 'vh_next_4',\n",
       " 'vh_next_5',\n",
       " 'vh_prev_0',\n",
       " 'vh_prev_1',\n",
       " 'vh_prev_2',\n",
       " 'vh_prev_3',\n",
       " 'vh_prev_4',\n",
       " 'vh_prev_5',\n",
       " 'vh_temp_0',\n",
       " 'vh_temp_1',\n",
       " 'vh_temp_2',\n",
       " 'vh_temp_3',\n",
       " 'vh_temp_4',\n",
       " 'vh_temp_5',\n",
       " 'vt_goal_0',\n",
       " 'vt_goal_1',\n",
       " 'vt_next_0',\n",
       " 'vt_next_1',\n",
       " 'vt_prev_0',\n",
       " 'vt_prev_1',\n",
       " 'vt_temp_0',\n",
       " 'vt_temp_1',\n",
       " 'vv_goal_0',\n",
       " 'vv_goal_1',\n",
       " 'vv_goal_2',\n",
       " 'vv_goal_3',\n",
       " 'vv_goal_4',\n",
       " 'vv_next_0',\n",
       " 'vv_next_1',\n",
       " 'vv_next_2',\n",
       " 'vv_next_3',\n",
       " 'vv_next_4',\n",
       " 'vv_prev_0',\n",
       " 'vv_prev_1',\n",
       " 'vv_prev_2',\n",
       " 'vv_prev_3',\n",
       " 'vv_prev_4',\n",
       " 'vv_temp_0',\n",
       " 'vv_temp_1',\n",
       " 'vv_temp_2',\n",
       " 'vv_temp_3',\n",
       " 'vv_temp_4',\n",
       " 'x_goal_0',\n",
       " 'x_goal_1',\n",
       " 'x_goal_2',\n",
       " 'x_goal_3',\n",
       " 'x_goal_4',\n",
       " 'x_goal_5',\n",
       " 'x_goal_6',\n",
       " 'x_goal_7',\n",
       " 'x_goal_8',\n",
       " 'x_next_0',\n",
       " 'x_next_1',\n",
       " 'x_next_2',\n",
       " 'x_next_3',\n",
       " 'x_next_4',\n",
       " 'x_next_5',\n",
       " 'x_next_6',\n",
       " 'x_next_7',\n",
       " 'x_next_8',\n",
       " 'x_prev_0',\n",
       " 'x_prev_1',\n",
       " 'x_prev_2',\n",
       " 'x_prev_3',\n",
       " 'x_prev_4',\n",
       " 'x_prev_5',\n",
       " 'x_prev_6',\n",
       " 'x_prev_7',\n",
       " 'x_prev_8',\n",
       " 'x_temp_0',\n",
       " 'x_temp_1',\n",
       " 'x_temp_2',\n",
       " 'x_temp_3',\n",
       " 'x_temp_4',\n",
       " 'x_temp_5',\n",
       " 'x_temp_6',\n",
       " 'x_temp_7',\n",
       " 'x_temp_8',\n",
       " 'y_goal_0',\n",
       " 'y_goal_1',\n",
       " 'y_goal_2',\n",
       " 'y_goal_3',\n",
       " 'y_goal_4',\n",
       " 'y_goal_5',\n",
       " 'y_goal_6',\n",
       " 'y_goal_7',\n",
       " 'y_goal_8',\n",
       " 'y_next_0',\n",
       " 'y_next_1',\n",
       " 'y_next_2',\n",
       " 'y_next_3',\n",
       " 'y_next_4',\n",
       " 'y_next_5',\n",
       " 'y_next_6',\n",
       " 'y_next_7',\n",
       " 'y_next_8',\n",
       " 'y_prev_0',\n",
       " 'y_prev_1',\n",
       " 'y_prev_2',\n",
       " 'y_prev_3',\n",
       " 'y_prev_4',\n",
       " 'y_prev_5',\n",
       " 'y_prev_6',\n",
       " 'y_prev_7',\n",
       " 'y_prev_8',\n",
       " 'y_temp_0',\n",
       " 'y_temp_1',\n",
       " 'y_temp_2',\n",
       " 'y_temp_3',\n",
       " 'y_temp_4',\n",
       " 'y_temp_5',\n",
       " 'y_temp_6',\n",
       " 'y_temp_7',\n",
       " 'y_temp_8'}"
      ]
     },
     "execution_count": 10,
     "metadata": {},
     "output_type": "execute_result"
    }
   ],
   "source": [
    "context.bdd.vars"
   ]
  },
  {
   "cell_type": "code",
   "execution_count": 15,
   "id": "8a8e966e-ff71-4540-9d01-20e21772c251",
   "metadata": {},
   "outputs": [
    {
     "data": {
      "text/plain": [
       "85.0"
      ]
     },
     "execution_count": 15,
     "metadata": {},
     "output_type": "execute_result"
    }
   ],
   "source": [
    "(len(context.bdd.vars)-7) / 4"
   ]
  },
  {
   "cell_type": "code",
   "execution_count": 13,
   "id": "89e082bf-554f-446b-8cd3-436af1bbeb09",
   "metadata": {},
   "outputs": [
    {
     "data": {
      "text/plain": [
       "85"
      ]
     },
     "execution_count": 13,
     "metadata": {},
     "output_type": "execute_result"
    }
   ],
   "source": [
    "len([v for v in context.bdd.vars if \"prev\" in v])"
   ]
  },
  {
   "cell_type": "code",
   "execution_count": 9,
   "id": "b20dd3d0-3a12-4afc-84dc-937e42e4fcbc",
   "metadata": {},
   "outputs": [],
   "source": [
    "#mk_trans(obj_names[\"room_header_0x79e9f\"])"
   ]
  },
  {
   "cell_type": "code",
   "execution_count": 10,
   "id": "6b98bf0e-7eef-45d5-8e09-f4355efbf66f",
   "metadata": {},
   "outputs": [],
   "source": [
    "from functools import reduce"
   ]
  },
  {
   "cell_type": "code",
   "execution_count": 11,
   "id": "d5cf00db-fb25-4541-88f4-ac2059e98350",
   "metadata": {},
   "outputs": [],
   "source": [
    "def build_big_policy(compute_rooms):\n",
    "    print(\"Building local transes...\")\n",
    "    transes = [mk_trans(r) for r in compute_rooms]\n",
    "    norule_transes = [context.exist([\"rule\"], trans) for trans in transes]\n",
    "    print(\"Building local policies...\")\n",
    "    policies = [mk_policy(nrt) for nrt in norule_transes]\n",
    "    # Should be the same as transitive closure\n",
    "    room_summary_transes = [context.let(goal_to_next, context.exist(nexts, p)) for p in policies]\n",
    "    print(\"Parsing door trans\")\n",
    "    door_trans = mk_door_trans(\"../output/tla/doors.tla\")\n",
    "    door_trans2 = mk_door_trans_for_rooms(door_trans, compute_rooms)\n",
    "    # Compute global tranistion\n",
    "    # Room -> Door -> Room -> Door -> ... etc.\n",
    "    print(\"Building global policy...\")\n",
    "    all_trans = context.false\n",
    "    for trans in room_summary_transes:\n",
    "        all_trans |= trans\n",
    "    all_trans |= door_trans2\n",
    "    door_policy = mk_policy(all_trans)\n",
    "    print(\"Putting it all together...\")\n",
    "    big_policy = context.false\n",
    "    g0 = context.add_expr(\"granularity = 0\")\n",
    "    g1 = context.add_expr(\"granularity = 1\")\n",
    "    high_level = g0 & door_policy\n",
    "    low_level = reduce(lambda x,y: x | y, [g1 & p for p in policies], context.false)\n",
    "    return high_level | low_level"
   ]
  },
  {
   "cell_type": "code",
   "execution_count": 12,
   "id": "2e1e625e-1c1c-488c-a009-973e6342d479",
   "metadata": {},
   "outputs": [],
   "source": [
    "morph_room = obj_names[\"room_header_0x79e9f\"]\n",
    "construction_zone = obj_names[\"room_header_0x79e9f\"].door_list.l[1].to_room\n",
    "missiles_room = construction_zone.door_list.l[2].to_room"
   ]
  },
  {
   "cell_type": "code",
   "execution_count": 13,
   "id": "6b5056dd-bcd3-4afc-9671-b894644b5624",
   "metadata": {},
   "outputs": [
    {
     "data": {
      "text/plain": [
       "(room_header_0x79e9f, room_header_0x79f11, room_header_0x7a107)"
      ]
     },
     "execution_count": 13,
     "metadata": {},
     "output_type": "execute_result"
    }
   ],
   "source": [
    "morph_room, construction_zone, missiles_room"
   ]
  },
  {
   "cell_type": "code",
   "execution_count": 14,
   "id": "f552d4f4-359f-4ebf-9ec8-d744d143eeea",
   "metadata": {},
   "outputs": [],
   "source": [
    "compute_rooms = [morph_room, construction_zone, missiles_room]"
   ]
  },
  {
   "cell_type": "code",
   "execution_count": 15,
   "id": "0a875201-c858-4cb4-a797-c0917d07e949",
   "metadata": {},
   "outputs": [
    {
     "name": "stdout",
     "output_type": "stream",
     "text": [
      "Building local transes...\n"
     ]
    },
    {
     "name": "stderr",
     "output_type": "stream",
     "text": [
      " 32%|█████████████████████████▏                                                     | 1959/6144 [00:21<00:44, 93.14it/s]\n"
     ]
    },
    {
     "ename": "KeyboardInterrupt",
     "evalue": "",
     "output_type": "error",
     "traceback": [
      "\u001b[0;31m---------------------------------------------------------------------------\u001b[0m",
      "\u001b[0;31mKeyboardInterrupt\u001b[0m                         Traceback (most recent call last)",
      "Cell \u001b[0;32mIn[15], line 2\u001b[0m\n\u001b[1;32m      1\u001b[0m \u001b[38;5;28mprint\u001b[39m(\u001b[38;5;124m\"\u001b[39m\u001b[38;5;124mBuilding local transes...\u001b[39m\u001b[38;5;124m\"\u001b[39m)\n\u001b[0;32m----> 2\u001b[0m transes \u001b[38;5;241m=\u001b[39m [mk_trans(r, context) \u001b[38;5;28;01mfor\u001b[39;00m r \u001b[38;5;129;01min\u001b[39;00m compute_rooms]\n\u001b[1;32m      3\u001b[0m norule_transes \u001b[38;5;241m=\u001b[39m [context\u001b[38;5;241m.\u001b[39mexist([\u001b[38;5;124m\"\u001b[39m\u001b[38;5;124mrule\u001b[39m\u001b[38;5;124m\"\u001b[39m], trans) \u001b[38;5;28;01mfor\u001b[39;00m trans \u001b[38;5;129;01min\u001b[39;00m transes]\n",
      "Cell \u001b[0;32mIn[15], line 2\u001b[0m, in \u001b[0;36m<listcomp>\u001b[0;34m(.0)\u001b[0m\n\u001b[1;32m      1\u001b[0m \u001b[38;5;28mprint\u001b[39m(\u001b[38;5;124m\"\u001b[39m\u001b[38;5;124mBuilding local transes...\u001b[39m\u001b[38;5;124m\"\u001b[39m)\n\u001b[0;32m----> 2\u001b[0m transes \u001b[38;5;241m=\u001b[39m [\u001b[43mmk_trans\u001b[49m\u001b[43m(\u001b[49m\u001b[43mr\u001b[49m\u001b[43m,\u001b[49m\u001b[43m \u001b[49m\u001b[43mcontext\u001b[49m\u001b[43m)\u001b[49m \u001b[38;5;28;01mfor\u001b[39;00m r \u001b[38;5;129;01min\u001b[39;00m compute_rooms]\n\u001b[1;32m      3\u001b[0m norule_transes \u001b[38;5;241m=\u001b[39m [context\u001b[38;5;241m.\u001b[39mexist([\u001b[38;5;124m\"\u001b[39m\u001b[38;5;124mrule\u001b[39m\u001b[38;5;124m\"\u001b[39m], trans) \u001b[38;5;28;01mfor\u001b[39;00m trans \u001b[38;5;129;01min\u001b[39;00m transes]\n",
      "File \u001b[0;32m/mnt/c/Users/rmawh/Programming/sm door rando/sm_rando/notebooks/../bdds/bdd_core.py:113\u001b[0m, in \u001b[0;36mmk_trans\u001b[0;34m(room_header, context)\u001b[0m\n\u001b[1;32m    107\u001b[0m expr \u001b[38;5;241m=\u001b[39m rule\u001b[38;5;241m.\u001b[39mlevel_transition\u001b[38;5;241m.\u001b[39mas_tla(c, level)\n\u001b[1;32m    108\u001b[0m \u001b[38;5;28;01mif\u001b[39;00m expr:\n\u001b[1;32m    109\u001b[0m     \u001b[38;5;66;03m#print(c, name)\u001b[39;00m\n\u001b[1;32m    110\u001b[0m     \u001b[38;5;66;03m#print(expr)\u001b[39;00m\n\u001b[1;32m    111\u001b[0m     \u001b[38;5;66;03m#TODO: context.define(items_unchanged)\u001b[39;00m\n\u001b[1;32m    112\u001b[0m     \u001b[38;5;66;03m#TODO: pass context to as_tla and produce a BDD\u001b[39;00m\n\u001b[0;32m--> 113\u001b[0m     expr_bdd \u001b[38;5;241m=\u001b[39m \u001b[43mcontext\u001b[49m\u001b[38;5;241;43m.\u001b[39;49m\u001b[43madd_expr\u001b[49m\u001b[43m(\u001b[49m\u001b[43mexpr\u001b[49m\u001b[43m,\u001b[49m\u001b[43m \u001b[49m\u001b[43mwith_ops\u001b[49m\u001b[38;5;241;43m=\u001b[39;49m\u001b[38;5;28;43;01mTrue\u001b[39;49;00m\u001b[43m)\u001b[49m\n\u001b[1;32m    114\u001b[0m     \u001b[38;5;66;03m#print(f\"Expr: {expr_bdd.count()}\")\u001b[39;00m\n\u001b[1;32m    115\u001b[0m     \u001b[38;5;66;03m#print(f\"Room Same: {room_same.count()}\")\u001b[39;00m\n\u001b[1;32m    116\u001b[0m     \u001b[38;5;66;03m#print(f\"Combined: {(expr_bdd & room_same).count()}\")\u001b[39;00m\n\u001b[1;32m    117\u001b[0m     trans \u001b[38;5;241m|\u001b[39m\u001b[38;5;241m=\u001b[39m (expr_bdd \u001b[38;5;241m&\u001b[39m room_same)\n",
      "File \u001b[0;32m~/.local/lib/python3.10/site-packages/omega/symbolic/fol.py:318\u001b[0m, in \u001b[0;36mContext.add_expr\u001b[0;34m(self, e, with_ops)\u001b[0m\n\u001b[1;32m    316\u001b[0m \u001b[38;5;28;01melse\u001b[39;00m:\n\u001b[1;32m    317\u001b[0m     defs \u001b[38;5;241m=\u001b[39m \u001b[38;5;28;01mNone\u001b[39;00m\n\u001b[0;32m--> 318\u001b[0m s \u001b[38;5;241m=\u001b[39m \u001b[43mbv\u001b[49m\u001b[38;5;241;43m.\u001b[39;49m\u001b[43mbitblast\u001b[49m\u001b[43m(\u001b[49m\u001b[43me\u001b[49m\u001b[43m,\u001b[49m\u001b[43m \u001b[49m\u001b[43mvrs\u001b[49m\u001b[38;5;241;43m=\u001b[39;49m\u001b[38;5;28;43mself\u001b[39;49m\u001b[38;5;241;43m.\u001b[39;49m\u001b[43mvars\u001b[49m\u001b[43m,\u001b[49m\u001b[43m \u001b[49m\u001b[43mdefs\u001b[49m\u001b[38;5;241;43m=\u001b[39;49m\u001b[43mdefs\u001b[49m\u001b[43m)\u001b[49m\n\u001b[1;32m    319\u001b[0m \u001b[38;5;28;01massert\u001b[39;00m stx\u001b[38;5;241m.\u001b[39misinstance_str(s), s  \u001b[38;5;66;03m# was `e` a predicate ?\u001b[39;00m\n\u001b[1;32m    320\u001b[0m \u001b[38;5;28;01mreturn\u001b[39;00m sym_bdd\u001b[38;5;241m.\u001b[39madd_expr(s, \u001b[38;5;28mself\u001b[39m\u001b[38;5;241m.\u001b[39mbdd)\n",
      "File \u001b[0;32m~/.local/lib/python3.10/site-packages/omega/logic/bitvector.py:48\u001b[0m, in \u001b[0;36mbitblast\u001b[0;34m(f, vrs, defs)\u001b[0m\n\u001b[1;32m     46\u001b[0m tree \u001b[38;5;241m=\u001b[39m _parser\u001b[38;5;241m.\u001b[39mparse(f)\n\u001b[1;32m     47\u001b[0m defs \u001b[38;5;241m=\u001b[39m {k: _parser\u001b[38;5;241m.\u001b[39mparse(v) \u001b[38;5;28;01mfor\u001b[39;00m k, v \u001b[38;5;129;01min\u001b[39;00m defs\u001b[38;5;241m.\u001b[39mitems()}\n\u001b[0;32m---> 48\u001b[0m \u001b[38;5;28;01mreturn\u001b[39;00m \u001b[43mtree\u001b[49m\u001b[38;5;241;43m.\u001b[39;49m\u001b[43mflatten\u001b[49m\u001b[43m(\u001b[49m\u001b[43mt\u001b[49m\u001b[38;5;241;43m=\u001b[39;49m\u001b[43mvrs\u001b[49m\u001b[43m,\u001b[49m\u001b[43m \u001b[49m\u001b[43mdefs\u001b[49m\u001b[38;5;241;43m=\u001b[39;49m\u001b[43mdefs\u001b[49m\u001b[43m)\u001b[49m\n",
      "File \u001b[0;32m~/.local/lib/python3.10/site-packages/omega/logic/bitvector.py:514\u001b[0m, in \u001b[0;36mNodes.Binary.flatten\u001b[0;34m(self, *arg, **kw)\u001b[0m\n\u001b[1;32m    512\u001b[0m     defs[name] \u001b[38;5;241m=\u001b[39m y\n\u001b[1;32m    513\u001b[0m     \u001b[38;5;28;01mreturn\u001b[39;00m\n\u001b[0;32m--> 514\u001b[0m x \u001b[38;5;241m=\u001b[39m \u001b[43mx\u001b[49m\u001b[38;5;241;43m.\u001b[39;49m\u001b[43mflatten\u001b[49m\u001b[43m(\u001b[49m\u001b[38;5;241;43m*\u001b[39;49m\u001b[43marg\u001b[49m\u001b[43m,\u001b[49m\u001b[43m \u001b[49m\u001b[38;5;241;43m*\u001b[39;49m\u001b[38;5;241;43m*\u001b[39;49m\u001b[43mkw\u001b[49m\u001b[43m)\u001b[49m\n\u001b[1;32m    515\u001b[0m y \u001b[38;5;241m=\u001b[39m y\u001b[38;5;241m.\u001b[39mflatten(\u001b[38;5;241m*\u001b[39marg, \u001b[38;5;241m*\u001b[39m\u001b[38;5;241m*\u001b[39mkw)\n\u001b[1;32m    516\u001b[0m \u001b[38;5;28;01mif\u001b[39;00m op \u001b[38;5;241m==\u001b[39m \u001b[38;5;124m'\u001b[39m\u001b[38;5;124m..\u001b[39m\u001b[38;5;124m'\u001b[39m:\n",
      "File \u001b[0;32m~/.local/lib/python3.10/site-packages/omega/logic/bitvector.py:515\u001b[0m, in \u001b[0;36mNodes.Binary.flatten\u001b[0;34m(self, *arg, **kw)\u001b[0m\n\u001b[1;32m    513\u001b[0m     \u001b[38;5;28;01mreturn\u001b[39;00m\n\u001b[1;32m    514\u001b[0m x \u001b[38;5;241m=\u001b[39m x\u001b[38;5;241m.\u001b[39mflatten(\u001b[38;5;241m*\u001b[39marg, \u001b[38;5;241m*\u001b[39m\u001b[38;5;241m*\u001b[39mkw)\n\u001b[0;32m--> 515\u001b[0m y \u001b[38;5;241m=\u001b[39m \u001b[43my\u001b[49m\u001b[38;5;241;43m.\u001b[39;49m\u001b[43mflatten\u001b[49m\u001b[43m(\u001b[49m\u001b[38;5;241;43m*\u001b[39;49m\u001b[43marg\u001b[49m\u001b[43m,\u001b[49m\u001b[43m \u001b[49m\u001b[38;5;241;43m*\u001b[39;49m\u001b[38;5;241;43m*\u001b[39;49m\u001b[43mkw\u001b[49m\u001b[43m)\u001b[49m\n\u001b[1;32m    516\u001b[0m \u001b[38;5;28;01mif\u001b[39;00m op \u001b[38;5;241m==\u001b[39m \u001b[38;5;124m'\u001b[39m\u001b[38;5;124m..\u001b[39m\u001b[38;5;124m'\u001b[39m:\n\u001b[1;32m    517\u001b[0m     \u001b[38;5;28;01mreturn\u001b[39;00m (x, y)\n",
      "File \u001b[0;32m~/.local/lib/python3.10/site-packages/omega/logic/bitvector.py:546\u001b[0m, in \u001b[0;36mNodes.Var.flatten\u001b[0;34m(self, prime, mem, t, defs, *arg, **kw)\u001b[0m\n\u001b[1;32m    544\u001b[0m         \u001b[38;5;28;01mreturn\u001b[39;00m u\n\u001b[1;32m    545\u001b[0m     \u001b[38;5;66;03m# ast\u001b[39;00m\n\u001b[0;32m--> 546\u001b[0m     \u001b[38;5;28;01mreturn\u001b[39;00m \u001b[43mu\u001b[49m\u001b[38;5;241;43m.\u001b[39;49m\u001b[43mflatten\u001b[49m\u001b[43m(\u001b[49m\n\u001b[1;32m    547\u001b[0m \u001b[43m        \u001b[49m\u001b[43mprime\u001b[49m\u001b[38;5;241;43m=\u001b[39;49m\u001b[43mprime\u001b[49m\u001b[43m,\u001b[49m\u001b[43m \u001b[49m\u001b[43mmem\u001b[49m\u001b[38;5;241;43m=\u001b[39;49m\u001b[43mmem\u001b[49m\u001b[43m,\u001b[49m\u001b[43m \u001b[49m\u001b[43mt\u001b[49m\u001b[38;5;241;43m=\u001b[39;49m\u001b[43mt\u001b[49m\u001b[43m,\u001b[49m\u001b[43m \u001b[49m\u001b[43mdefs\u001b[49m\u001b[38;5;241;43m=\u001b[39;49m\u001b[43mdefs\u001b[49m\u001b[43m,\u001b[49m\n\u001b[1;32m    548\u001b[0m \u001b[43m        \u001b[49m\u001b[38;5;241;43m*\u001b[39;49m\u001b[43marg\u001b[49m\u001b[43m,\u001b[49m\u001b[43m \u001b[49m\u001b[38;5;241;43m*\u001b[39;49m\u001b[38;5;241;43m*\u001b[39;49m\u001b[43mkw\u001b[49m\u001b[43m)\u001b[49m\n\u001b[1;32m    549\u001b[0m \u001b[38;5;28;01mif\u001b[39;00m _is_bool_var(name, t):\n\u001b[1;32m    550\u001b[0m     \u001b[38;5;66;03m# Boolean scope ?\u001b[39;00m\n\u001b[1;32m    551\u001b[0m     \u001b[38;5;28;01mif\u001b[39;00m name \u001b[38;5;129;01min\u001b[39;00m t:\n",
      "File \u001b[0;32m~/.local/lib/python3.10/site-packages/omega/logic/bitvector.py:514\u001b[0m, in \u001b[0;36mNodes.Binary.flatten\u001b[0;34m(self, *arg, **kw)\u001b[0m\n\u001b[1;32m    512\u001b[0m     defs[name] \u001b[38;5;241m=\u001b[39m y\n\u001b[1;32m    513\u001b[0m     \u001b[38;5;28;01mreturn\u001b[39;00m\n\u001b[0;32m--> 514\u001b[0m x \u001b[38;5;241m=\u001b[39m \u001b[43mx\u001b[49m\u001b[38;5;241;43m.\u001b[39;49m\u001b[43mflatten\u001b[49m\u001b[43m(\u001b[49m\u001b[38;5;241;43m*\u001b[39;49m\u001b[43marg\u001b[49m\u001b[43m,\u001b[49m\u001b[43m \u001b[49m\u001b[38;5;241;43m*\u001b[39;49m\u001b[38;5;241;43m*\u001b[39;49m\u001b[43mkw\u001b[49m\u001b[43m)\u001b[49m\n\u001b[1;32m    515\u001b[0m y \u001b[38;5;241m=\u001b[39m y\u001b[38;5;241m.\u001b[39mflatten(\u001b[38;5;241m*\u001b[39marg, \u001b[38;5;241m*\u001b[39m\u001b[38;5;241m*\u001b[39mkw)\n\u001b[1;32m    516\u001b[0m \u001b[38;5;28;01mif\u001b[39;00m op \u001b[38;5;241m==\u001b[39m \u001b[38;5;124m'\u001b[39m\u001b[38;5;124m..\u001b[39m\u001b[38;5;124m'\u001b[39m:\n",
      "File \u001b[0;32m~/.local/lib/python3.10/site-packages/omega/logic/bitvector.py:514\u001b[0m, in \u001b[0;36mNodes.Binary.flatten\u001b[0;34m(self, *arg, **kw)\u001b[0m\n\u001b[1;32m    512\u001b[0m     defs[name] \u001b[38;5;241m=\u001b[39m y\n\u001b[1;32m    513\u001b[0m     \u001b[38;5;28;01mreturn\u001b[39;00m\n\u001b[0;32m--> 514\u001b[0m x \u001b[38;5;241m=\u001b[39m \u001b[43mx\u001b[49m\u001b[38;5;241;43m.\u001b[39;49m\u001b[43mflatten\u001b[49m\u001b[43m(\u001b[49m\u001b[38;5;241;43m*\u001b[39;49m\u001b[43marg\u001b[49m\u001b[43m,\u001b[49m\u001b[43m \u001b[49m\u001b[38;5;241;43m*\u001b[39;49m\u001b[38;5;241;43m*\u001b[39;49m\u001b[43mkw\u001b[49m\u001b[43m)\u001b[49m\n\u001b[1;32m    515\u001b[0m y \u001b[38;5;241m=\u001b[39m y\u001b[38;5;241m.\u001b[39mflatten(\u001b[38;5;241m*\u001b[39marg, \u001b[38;5;241m*\u001b[39m\u001b[38;5;241m*\u001b[39mkw)\n\u001b[1;32m    516\u001b[0m \u001b[38;5;28;01mif\u001b[39;00m op \u001b[38;5;241m==\u001b[39m \u001b[38;5;124m'\u001b[39m\u001b[38;5;124m..\u001b[39m\u001b[38;5;124m'\u001b[39m:\n",
      "    \u001b[0;31m[... skipping similar frames: Nodes.Binary.flatten at line 514 (30 times)]\u001b[0m\n",
      "File \u001b[0;32m~/.local/lib/python3.10/site-packages/omega/logic/bitvector.py:514\u001b[0m, in \u001b[0;36mNodes.Binary.flatten\u001b[0;34m(self, *arg, **kw)\u001b[0m\n\u001b[1;32m    512\u001b[0m     defs[name] \u001b[38;5;241m=\u001b[39m y\n\u001b[1;32m    513\u001b[0m     \u001b[38;5;28;01mreturn\u001b[39;00m\n\u001b[0;32m--> 514\u001b[0m x \u001b[38;5;241m=\u001b[39m \u001b[43mx\u001b[49m\u001b[38;5;241;43m.\u001b[39;49m\u001b[43mflatten\u001b[49m\u001b[43m(\u001b[49m\u001b[38;5;241;43m*\u001b[39;49m\u001b[43marg\u001b[49m\u001b[43m,\u001b[49m\u001b[43m \u001b[49m\u001b[38;5;241;43m*\u001b[39;49m\u001b[38;5;241;43m*\u001b[39;49m\u001b[43mkw\u001b[49m\u001b[43m)\u001b[49m\n\u001b[1;32m    515\u001b[0m y \u001b[38;5;241m=\u001b[39m y\u001b[38;5;241m.\u001b[39mflatten(\u001b[38;5;241m*\u001b[39marg, \u001b[38;5;241m*\u001b[39m\u001b[38;5;241m*\u001b[39mkw)\n\u001b[1;32m    516\u001b[0m \u001b[38;5;28;01mif\u001b[39;00m op \u001b[38;5;241m==\u001b[39m \u001b[38;5;124m'\u001b[39m\u001b[38;5;124m..\u001b[39m\u001b[38;5;124m'\u001b[39m:\n",
      "File \u001b[0;32m~/.local/lib/python3.10/site-packages/omega/logic/bitvector.py:515\u001b[0m, in \u001b[0;36mNodes.Binary.flatten\u001b[0;34m(self, *arg, **kw)\u001b[0m\n\u001b[1;32m    513\u001b[0m     \u001b[38;5;28;01mreturn\u001b[39;00m\n\u001b[1;32m    514\u001b[0m x \u001b[38;5;241m=\u001b[39m x\u001b[38;5;241m.\u001b[39mflatten(\u001b[38;5;241m*\u001b[39marg, \u001b[38;5;241m*\u001b[39m\u001b[38;5;241m*\u001b[39mkw)\n\u001b[0;32m--> 515\u001b[0m y \u001b[38;5;241m=\u001b[39m \u001b[43my\u001b[49m\u001b[38;5;241;43m.\u001b[39;49m\u001b[43mflatten\u001b[49m\u001b[43m(\u001b[49m\u001b[38;5;241;43m*\u001b[39;49m\u001b[43marg\u001b[49m\u001b[43m,\u001b[49m\u001b[43m \u001b[49m\u001b[38;5;241;43m*\u001b[39;49m\u001b[38;5;241;43m*\u001b[39;49m\u001b[43mkw\u001b[49m\u001b[43m)\u001b[49m\n\u001b[1;32m    516\u001b[0m \u001b[38;5;28;01mif\u001b[39;00m op \u001b[38;5;241m==\u001b[39m \u001b[38;5;124m'\u001b[39m\u001b[38;5;124m..\u001b[39m\u001b[38;5;124m'\u001b[39m:\n\u001b[1;32m    517\u001b[0m     \u001b[38;5;28;01mreturn\u001b[39;00m (x, y)\n",
      "File \u001b[0;32m~/.local/lib/python3.10/site-packages/omega/logic/bitvector.py:585\u001b[0m, in \u001b[0;36mNodes.Comparator.flatten\u001b[0;34m(self, mem, *arg, **kw)\u001b[0m\n\u001b[1;32m    583\u001b[0m mem \u001b[38;5;241m=\u001b[39m \u001b[38;5;28mlist\u001b[39m()\n\u001b[1;32m    584\u001b[0m p \u001b[38;5;241m=\u001b[39m \u001b[38;5;28mself\u001b[39m\u001b[38;5;241m.\u001b[39moperands[\u001b[38;5;241m0\u001b[39m]\u001b[38;5;241m.\u001b[39mflatten(mem\u001b[38;5;241m=\u001b[39mmem, \u001b[38;5;241m*\u001b[39marg, \u001b[38;5;241m*\u001b[39m\u001b[38;5;241m*\u001b[39mkw)\n\u001b[0;32m--> 585\u001b[0m q \u001b[38;5;241m=\u001b[39m \u001b[38;5;28;43mself\u001b[39;49m\u001b[38;5;241;43m.\u001b[39;49m\u001b[43moperands\u001b[49m\u001b[43m[\u001b[49m\u001b[38;5;241;43m1\u001b[39;49m\u001b[43m]\u001b[49m\u001b[38;5;241;43m.\u001b[39;49m\u001b[43mflatten\u001b[49m\u001b[43m(\u001b[49m\u001b[43mmem\u001b[49m\u001b[38;5;241;43m=\u001b[39;49m\u001b[43mmem\u001b[49m\u001b[43m,\u001b[49m\u001b[43m \u001b[49m\u001b[38;5;241;43m*\u001b[39;49m\u001b[43marg\u001b[49m\u001b[43m,\u001b[49m\u001b[43m \u001b[49m\u001b[38;5;241;43m*\u001b[39;49m\u001b[38;5;241;43m*\u001b[39;49m\u001b[43mkw\u001b[49m\u001b[43m)\u001b[49m\n\u001b[1;32m    586\u001b[0m \u001b[38;5;28;01mreturn\u001b[39;00m flatten_comparator(\u001b[38;5;28mself\u001b[39m\u001b[38;5;241m.\u001b[39moperator, p, q, mem)\n",
      "File \u001b[0;32m~/.local/lib/python3.10/site-packages/omega/logic/bitvector.py:534\u001b[0m, in \u001b[0;36mNodes.Var.flatten\u001b[0;34m(self, prime, mem, t, defs, *arg, **kw)\u001b[0m\n\u001b[1;32m    532\u001b[0m \u001b[38;5;28;01mdef\u001b[39;00m \u001b[38;5;21mflatten\u001b[39m(\u001b[38;5;28mself\u001b[39m, prime\u001b[38;5;241m=\u001b[39m\u001b[38;5;28;01mNone\u001b[39;00m, mem\u001b[38;5;241m=\u001b[39m\u001b[38;5;28;01mNone\u001b[39;00m,\n\u001b[1;32m    533\u001b[0m             t\u001b[38;5;241m=\u001b[39m\u001b[38;5;28;01mNone\u001b[39;00m, defs\u001b[38;5;241m=\u001b[39m\u001b[38;5;28;01mNone\u001b[39;00m, \u001b[38;5;241m*\u001b[39marg, \u001b[38;5;241m*\u001b[39m\u001b[38;5;241m*\u001b[39mkw):\n\u001b[0;32m--> 534\u001b[0m     logger\u001b[38;5;241m.\u001b[39minfo(\u001b[38;5;124m'\u001b[39m\u001b[38;5;124mflatten \u001b[39m\u001b[38;5;124m\"\u001b[39m\u001b[38;5;132;01m{s}\u001b[39;00m\u001b[38;5;124m\"\u001b[39m\u001b[38;5;124m'\u001b[39m\u001b[38;5;241m.\u001b[39mformat(s\u001b[38;5;241m=\u001b[39m\u001b[38;5;28;43mrepr\u001b[39;49m\u001b[43m(\u001b[49m\u001b[38;5;28;43mself\u001b[39;49m\u001b[43m)\u001b[49m))\n\u001b[1;32m    535\u001b[0m     name \u001b[38;5;241m=\u001b[39m \u001b[38;5;28mself\u001b[39m\u001b[38;5;241m.\u001b[39mvalue\n\u001b[1;32m    536\u001b[0m     \u001b[38;5;66;03m# operator definition ?\u001b[39;00m\n",
      "File \u001b[0;32m~/.local/lib/python3.10/site-packages/astutils/ast.py:30\u001b[0m, in \u001b[0;36mTerminal.__repr__\u001b[0;34m(self)\u001b[0m\n\u001b[1;32m     27\u001b[0m \u001b[38;5;28;01mdef\u001b[39;00m \u001b[38;5;21m__repr__\u001b[39m(\u001b[38;5;28mself\u001b[39m):\n\u001b[1;32m     28\u001b[0m     \u001b[38;5;28;01mreturn\u001b[39;00m \u001b[38;5;124m'\u001b[39m\u001b[38;5;132;01m{cls}\u001b[39;00m\u001b[38;5;124m(\u001b[39m\u001b[38;5;132;01m{v}\u001b[39;00m\u001b[38;5;124m, \u001b[39m\u001b[38;5;132;01m{t}\u001b[39;00m\u001b[38;5;124m)\u001b[39m\u001b[38;5;124m'\u001b[39m\u001b[38;5;241m.\u001b[39mformat(\n\u001b[1;32m     29\u001b[0m         \u001b[38;5;28mcls\u001b[39m\u001b[38;5;241m=\u001b[39m\u001b[38;5;28mtype\u001b[39m(\u001b[38;5;28mself\u001b[39m)\u001b[38;5;241m.\u001b[39m\u001b[38;5;18m__name__\u001b[39m,\n\u001b[0;32m---> 30\u001b[0m         t\u001b[38;5;241m=\u001b[39m\u001b[38;5;28;43mrepr\u001b[39;49m\u001b[43m(\u001b[49m\u001b[38;5;28;43mself\u001b[39;49m\u001b[38;5;241;43m.\u001b[39;49m\u001b[43mtype\u001b[49m\u001b[43m)\u001b[49m,\n\u001b[1;32m     31\u001b[0m         v\u001b[38;5;241m=\u001b[39m\u001b[38;5;28mrepr\u001b[39m(\u001b[38;5;28mself\u001b[39m\u001b[38;5;241m.\u001b[39mvalue))\n",
      "\u001b[0;31mKeyboardInterrupt\u001b[0m: "
     ]
    }
   ],
   "source": [
    "print(\"Building local transes...\")\n",
    "transes = [mk_trans(r, context) for r in compute_rooms]\n",
    "norule_transes = [context.exist([\"rule\"], trans) for trans in transes]"
   ]
  },
  {
   "cell_type": "code",
   "execution_count": 42,
   "id": "c72c71b9-6285-4fe4-afbd-f8bfbb8af694",
   "metadata": {},
   "outputs": [
    {
     "name": "stdout",
     "output_type": "stream",
     "text": [
      "Building local policies...\n",
      "0 47003 25666 47003\n",
      "1 51229 35280 78577\n",
      "2 58918 43148 96659\n",
      "3 66992 48801 112704\n",
      "4 73600 53556 126246\n",
      "5 79810 57272 138327\n",
      "6 84141 60238 149753\n",
      "7 87218 62869 158967\n",
      "8 91013 65200 167159\n",
      "9 93475 67367 175380\n",
      "10 92075 69230 181330\n",
      "11 91601 70609 184714\n",
      "12 89810 71731 187247\n",
      "13 88076 72418 188440\n",
      "14 86066 72766 188603\n",
      "15 84764 73091 189037\n",
      "16 83762 72998 189173\n",
      "17 82394 72617 189129\n",
      "18 80870 72081 188573\n",
      "19 79154 71537 187897\n",
      "20 77144 71023 187150\n",
      "21 75530 70659 186421\n",
      "22 74029 70444 185833\n",
      "23 72687 70336 185271\n",
      "24 71547 70266 184560\n",
      "25 70507 70155 183641\n",
      "26 69678 70072 182667\n",
      "27 69099 70082 182100\n",
      "28 68814 70081 181642\n",
      "29 68878 70047 181236\n",
      "30 68776 70058 181117\n",
      "31 68601 70043 181240\n",
      "32 68271 70052 181199\n",
      "33 67849 70057 180948\n",
      "34 67352 70112 180695\n",
      "35 66702 70158 180504\n",
      "36 66099 70181 180219\n",
      "37 65327 70206 180310\n",
      "38 64644 70237 180525\n",
      "39 64127 70278 181045\n",
      "40 63958 70288 181783\n",
      "41 63779 70404 182432\n",
      "42 63696 70615 183014\n",
      "43 63515 70812 183590\n",
      "44 63242 70989 184184\n",
      "45 62955 71116 184818\n",
      "46 62670 71254 185333\n",
      "47 62285 71232 185555\n",
      "48 61731 71138 185305\n",
      "49 60963 70942 184652\n",
      "50 60151 70752 184088\n",
      "51 59473 70638 183704\n",
      "52 58991 70532 183655\n",
      "53 58497 70439 183615\n",
      "54 57986 70251 183557\n",
      "55 57507 70164 183412\n",
      "56 57109 70076 183241\n",
      "57 56608 69982 183114\n",
      "58 56055 69885 182867\n",
      "59 55500 69874 182610\n",
      "60 55020 69822 182190\n",
      "61 54501 69787 181633\n",
      "62 53843 69706 181114\n",
      "63 53212 69608 180762\n",
      "64 52604 69457 180476\n",
      "65 51881 69318 180286\n",
      "66 51139 69103 180089\n",
      "67 50382 68956 179954\n",
      "68 49694 68789 179962\n",
      "69 48944 68615 179994\n",
      "70 48103 68444 179902\n",
      "71 47267 68360 179722\n",
      "72 46638 68306 179715\n",
      "73 46120 68242 179737\n",
      "74 45636 68166 179605\n",
      "75 45054 68162 179482\n",
      "76 44566 68067 179347\n",
      "77 44038 67953 179221\n",
      "78 43475 67737 178915\n",
      "79 42580 67473 178417\n",
      "80 41672 67230 177862\n",
      "81 40780 67060 177337\n",
      "82 39898 66870 176877\n",
      "83 39106 66740 176487\n",
      "84 38420 66566 176102\n",
      "85 37737 66365 175694\n",
      "86 37141 66163 175371\n",
      "87 36605 65962 175039\n",
      "88 36091 65737 174743\n",
      "89 35607 65546 174438\n",
      "90 35023 65250 174028\n",
      "91 34376 64968 173523\n",
      "92 33742 64623 172930\n",
      "93 33158 64352 172299\n",
      "94 32672 64023 171657\n",
      "95 32245 63711 171085\n",
      "96 31792 63424 170469\n",
      "97 31375 63108 169885\n",
      "98 30918 62748 169236\n",
      "99 30394 62346 168579\n",
      "100 29853 62020 167864\n",
      "101 29283 61712 167200\n",
      "102 28698 61357 166528\n",
      "103 28098 61033 165811\n",
      "104 27538 60642 165029\n",
      "105 26955 60323 164231\n",
      "106 26321 59966 163498\n",
      "107 25787 59633 162700\n",
      "108 25185 59321 161901\n",
      "109 24650 59074 161223\n",
      "110 24156 58752 160601\n",
      "111 23624 58422 159999\n",
      "112 23080 58054 159294\n",
      "113 22493 57712 158551\n",
      "114 21908 57395 157881\n",
      "115 21452 57097 157161\n",
      "116 20969 56814 156468\n",
      "117 20587 56551 155757\n",
      "118 20190 56284 155033\n",
      "119 19780 56006 154277\n",
      "120 19325 55705 153398\n",
      "121 18860 55436 152460\n",
      "122 18385 55126 151503\n",
      "123 17864 54854 150676\n",
      "124 17352 54606 149923\n",
      "125 16891 54388 149259\n",
      "126 16405 54138 148614\n",
      "127 15923 53869 147875\n",
      "128 15430 53555 147018\n",
      "129 14918 53281 146149\n",
      "130 14362 52987 145334\n",
      "131 13781 52695 144558\n",
      "132 13168 52393 143819\n",
      "133 12533 52116 143207\n",
      "134 11987 51865 142715\n",
      "135 11438 51591 142241\n",
      "136 10888 51378 141811\n",
      "137 10348 51168 141323\n",
      "138 9766 50890 140726\n",
      "139 9167 50614 139925\n",
      "140 8503 50324 138999\n",
      "141 7839 50047 138197\n",
      "142 7187 49827 137540\n",
      "143 6606 49641 137054\n",
      "144 6013 49480 136665\n",
      "145 5563 49316 136302\n",
      "146 5149 49147 135932\n",
      "147 4719 48986 135571\n",
      "148 4294 48835 135195\n",
      "149 3878 48671 134856\n",
      "150 3406 48545 134555\n",
      "151 2999 48407 134260\n",
      "152 2599 48284 133989\n",
      "153 2237 48180 133745\n",
      "154 1936 48085 133545\n",
      "155 1717 48005 133355\n",
      "156 1514 47938 133224\n",
      "157 1372 47881 133097\n",
      "158 1224 47810 132962\n",
      "159 1068 47750 132817\n",
      "160 881 47683 132668\n",
      "161 691 47631 132544\n",
      "162 456 47601 132471\n",
      "163 338 47588 132444\n",
      "164 1 47588 132444\n",
      "0 20840 16370 20840\n",
      "1 22707 20847 34309\n",
      "2 27425 24988 42989\n",
      "3 34168 28346 52410\n",
      "4 39663 31636 62006\n",
      "5 45199 34594 70949\n",
      "6 48990 37251 79117\n",
      "7 51325 39265 86116\n",
      "8 52278 40362 91316\n",
      "9 53080 41386 95804\n",
      "10 53886 42273 99327\n",
      "11 54364 42932 101920\n",
      "12 54613 43197 103727\n",
      "13 53834 42960 105495\n",
      "14 52337 42529 106293\n",
      "15 50227 41724 106134\n",
      "16 47697 40755 105468\n",
      "17 44566 39835 104235\n",
      "18 41410 38673 102661\n",
      "19 38082 37526 100768\n",
      "20 35416 36478 98520\n",
      "21 32449 35439 95957\n",
      "22 29856 34214 93614\n",
      "23 27291 33003 90884\n",
      "24 24567 31721 87889\n",
      "25 21444 30569 85031\n",
      "26 18714 29509 82406\n",
      "27 16104 28513 80140\n",
      "28 13652 27658 77935\n",
      "29 11424 26926 76251\n",
      "30 9530 26308 74877\n",
      "31 7973 25786 73784\n",
      "32 6714 25325 72833\n",
      "33 5655 24927 72092\n",
      "34 4744 24654 71507\n",
      "35 3876 24378 70910\n",
      "36 2998 24141 70377\n",
      "37 2175 23945 69918\n",
      "38 1475 23780 69557\n",
      "39 911 23678 69359\n",
      "40 504 23651 69314\n",
      "41 1 23651 69314\n",
      "0 8584 12090 8584\n",
      "1 7788 13471 12528\n",
      "2 8813 14518 14869\n",
      "3 9996 15202 17378\n",
      "4 11115 15746 19582\n",
      "5 12293 16016 21470\n",
      "6 12811 16239 22917\n",
      "7 13062 16474 24170\n",
      "8 13015 16722 25271\n",
      "9 13031 16831 26143\n",
      "10 12976 16998 26974\n",
      "11 12929 17093 27643\n",
      "12 12861 17180 28030\n",
      "13 12523 17078 28225\n",
      "14 11865 17013 28186\n",
      "15 11088 16811 27972\n",
      "16 10205 16610 27613\n",
      "17 9210 16315 26996\n",
      "18 8079 16107 26361\n",
      "19 7078 15858 25715\n",
      "20 6112 15579 25077\n",
      "21 5132 15188 24298\n",
      "22 4192 14915 23547\n",
      "23 3432 14643 22720\n",
      "24 2762 14432 22033\n",
      "25 2148 14226 21420\n",
      "26 1666 14070 20793\n",
      "27 1288 13945 20373\n",
      "28 971 13836 20114\n",
      "29 635 13793 19950\n",
      "30 538 13765 19777\n",
      "31 433 13728 19627\n",
      "32 1 13728 19627\n",
      "CPU times: user 41.3 s, sys: 140 ms, total: 41.5 s\n",
      "Wall time: 41.4 s\n"
     ]
    }
   ],
   "source": [
    "%%time\n",
    "print(\"Building local policies...\")\n",
    "policies = [mk_policy(nrt, context) for nrt in norule_transes]"
   ]
  },
  {
   "cell_type": "code",
   "execution_count": 40,
   "id": "13d1ee2d-1a6d-453c-9ad8-1d9889dcf6bd",
   "metadata": {},
   "outputs": [
    {
     "name": "stdout",
     "output_type": "stream",
     "text": [
      "Parsing door trans\n"
     ]
    }
   ],
   "source": [
    "print(\"Parsing door trans\")\n",
    "door_trans = mk_door_trans(\"../output/tla/doors.tla\", context)\n",
    "door_trans2 = mk_door_trans_for_rooms(door_trans, compute_rooms, context)"
   ]
  },
  {
   "cell_type": "code",
   "execution_count": 19,
   "id": "e986b6f6-7b22-4593-a41c-ae7a641d9701",
   "metadata": {},
   "outputs": [
    {
     "name": "stdout",
     "output_type": "stream",
     "text": [
      "Building global policy...\n",
      "transing\n",
      "transing\n",
      "transing\n",
      "transing2\n"
     ]
    }
   ],
   "source": [
    "room_summary_transes = [context.let(goal_to_next, context.exist(nexts, p)) for p in policies]\n",
    "print(\"Building global policy...\")\n",
    "all_trans = context.false\n",
    "for trans in room_summary_transes:\n",
    "    all_trans |= trans\n",
    "    print(\"transing\")\n",
    "all_trans |= door_trans2\n",
    "print(\"transing2\")"
   ]
  },
  {
   "cell_type": "code",
   "execution_count": 23,
   "id": "9082bfd3-f7cd-40c8-a5c6-e664fdb49b4d",
   "metadata": {},
   "outputs": [
    {
     "data": {
      "text/plain": [
       "57356"
      ]
     },
     "execution_count": 23,
     "metadata": {},
     "output_type": "execute_result"
    }
   ],
   "source": [
    "all_trans.dag_size"
   ]
  },
  {
   "cell_type": "code",
   "execution_count": 76,
   "id": "24bcd327-abd2-4313-9de3-416662eb42c9",
   "metadata": {},
   "outputs": [
    {
     "data": {
      "text/plain": [
       "1034821527591458963456"
      ]
     },
     "execution_count": 76,
     "metadata": {},
     "output_type": "execute_result"
    }
   ],
   "source": [
    "int(all_trans.count())\n",
    "# 1,034,821,527,591,458,963,456"
   ]
  },
  {
   "cell_type": "code",
   "execution_count": 79,
   "id": "a44342b9-c915-45d9-b70f-0644da1e0667",
   "metadata": {},
   "outputs": [
    {
     "data": {
      "text/plain": [
       "1.034821527591459e+21"
      ]
     },
     "execution_count": 79,
     "metadata": {},
     "output_type": "execute_result"
    }
   ],
   "source": [
    "all_trans.count()"
   ]
  },
  {
   "cell_type": "code",
   "execution_count": 81,
   "id": "650f088b-3bff-43a8-9724-52ca7bcce6b4",
   "metadata": {},
   "outputs": [
    {
     "data": {
      "text/plain": [
       "{'B_next',\n",
       " 'B_prev',\n",
       " 'Bomb_Torizo_next',\n",
       " 'Bomb_Torizo_prev',\n",
       " 'Botwoon_next',\n",
       " 'Botwoon_prev',\n",
       " 'CB_next',\n",
       " 'CB_prev',\n",
       " 'Ceres_Ridley_next',\n",
       " 'Ceres_Ridley_prev',\n",
       " 'Crocomire_next',\n",
       " 'Crocomire_prev',\n",
       " 'Drain_next',\n",
       " 'Drain_prev',\n",
       " 'Draygon_next',\n",
       " 'Draygon_prev',\n",
       " 'E_next',\n",
       " 'E_prev',\n",
       " 'GS_next',\n",
       " 'GS_prev',\n",
       " 'G_next',\n",
       " 'G_prev',\n",
       " 'Golden_Torizo_next',\n",
       " 'Golden_Torizo_prev',\n",
       " 'HJ_next',\n",
       " 'HJ_prev',\n",
       " 'IB_next',\n",
       " 'IB_prev',\n",
       " 'Kraid_next',\n",
       " 'Kraid_prev',\n",
       " 'MB_next',\n",
       " 'MB_prev',\n",
       " 'M_next',\n",
       " 'M_prev',\n",
       " 'Mother_Brain_next',\n",
       " 'Mother_Brain_prev',\n",
       " 'PB_next',\n",
       " 'PB_prev',\n",
       " 'PLB_next',\n",
       " 'PLB_prev',\n",
       " 'Phantoon_next',\n",
       " 'Phantoon_prev',\n",
       " 'RT_next',\n",
       " 'RT_prev',\n",
       " 'Ridley_next',\n",
       " 'Ridley_prev',\n",
       " 'SA_next',\n",
       " 'SA_prev',\n",
       " 'SB_next',\n",
       " 'SB_prev',\n",
       " 'SJ_next',\n",
       " 'SJ_prev',\n",
       " 'SPB_next',\n",
       " 'SPB_prev',\n",
       " 'START_next',\n",
       " 'START_prev',\n",
       " 'S_next',\n",
       " 'S_prev',\n",
       " 'Shaktool_next',\n",
       " 'Shaktool_prev',\n",
       " 'Spazer_next',\n",
       " 'Spazer_prev',\n",
       " 'Spore_Spawn_next',\n",
       " 'Spore_Spawn_prev',\n",
       " 'Statues_next',\n",
       " 'Statues_prev',\n",
       " 'V_next',\n",
       " 'V_prev',\n",
       " 'WB_next',\n",
       " 'WB_prev',\n",
       " 'XR_next',\n",
       " 'XR_prev',\n",
       " 'pose_next',\n",
       " 'pose_prev',\n",
       " 'room_id_next',\n",
       " 'room_id_prev',\n",
       " 'vh_next',\n",
       " 'vh_prev',\n",
       " 'vt_next',\n",
       " 'vt_prev',\n",
       " 'vv_next',\n",
       " 'vv_prev',\n",
       " 'x_next',\n",
       " 'x_prev',\n",
       " 'y_next',\n",
       " 'y_prev'}"
      ]
     },
     "execution_count": 81,
     "metadata": {},
     "output_type": "execute_result"
    }
   ],
   "source": [
    "context.support(all_trans)"
   ]
  },
  {
   "cell_type": "code",
   "execution_count": 78,
   "id": "de1994d3-33ca-4284-95b7-2b72fd1356eb",
   "metadata": {},
   "outputs": [
    {
     "data": {
      "text/plain": [
       "15872518921680.0"
      ]
     },
     "execution_count": 78,
     "metadata": {},
     "output_type": "execute_result"
    }
   ],
   "source": [
    "context.exist(nexts, all_trans).count() * context.exist(prevs, all_trans).count()"
   ]
  },
  {
   "cell_type": "code",
   "execution_count": 71,
   "id": "f8d40272-5c29-4877-b4c5-e27a39c667e4",
   "metadata": {},
   "outputs": [],
   "source": [
    "import sys"
   ]
  },
  {
   "cell_type": "code",
   "execution_count": 75,
   "id": "4a5a9c03-aa20-49e4-b4b9-9d9cf4a8d994",
   "metadata": {},
   "outputs": [],
   "source": [
    "context.bdd.dump(\"../output/all_trans.json\", [all_trans])"
   ]
  },
  {
   "cell_type": "code",
   "execution_count": 66,
   "id": "d3797e9f-fd3f-441b-98a8-b0ea0de2b6ed",
   "metadata": {},
   "outputs": [
    {
     "data": {
      "text/plain": [
       "17588629454400.0"
      ]
     },
     "execution_count": 66,
     "metadata": {},
     "output_type": "execute_result"
    }
   ],
   "source": [
    "4193880.0 ** 2"
   ]
  },
  {
   "cell_type": "code",
   "execution_count": 35,
   "id": "bb56f74a-69e5-453d-99f1-81ff2e49c1f0",
   "metadata": {},
   "outputs": [
    {
     "name": "stdout",
     "output_type": "stream",
     "text": [
      "0 162006 64297 162006\n",
      "1 9839 69386 171791\n",
      "2 31137 85370 203258\n",
      "3 30871 94630 244301\n",
      "4 30771 99813 261553\n",
      "5 18804 100439 269522\n",
      "6 24621 99381 280727\n",
      "7 12790 98558 285284\n",
      "8 16914 96652 285097\n",
      "9 8552 95451 283960\n",
      "10 9250 93608 283079\n",
      "11 5336 92277 281949\n",
      "12 1020 92130 281721\n",
      "13 1 92130 281721\n",
      "CPU times: user 1.64 s, sys: 38 µs, total: 1.64 s\n",
      "Wall time: 1.64 s\n"
     ]
    }
   ],
   "source": [
    "%%time\n",
    "door_policy = mk_policy(all_trans, context)"
   ]
  },
  {
   "cell_type": "code",
   "execution_count": 43,
   "id": "9be9832b-bd4f-4aa2-a72a-35c91964a40e",
   "metadata": {},
   "outputs": [
    {
     "name": "stdout",
     "output_type": "stream",
     "text": [
      "Putting it all together...\n",
      "CPU times: user 669 µs, sys: 3 µs, total: 672 µs\n",
      "Wall time: 627 µs\n"
     ]
    }
   ],
   "source": [
    "print(\"Putting it all together...\")\n",
    "big_policy = context.false\n",
    "g0 = context.add_expr(\"granularity = 0\")\n",
    "g1 = context.add_expr(\"granularity = 1\")\n",
    "high_level = g0 & door_policy\n",
    "low_level = reduce(lambda x,y: x | y, [g1 & p for p in policies], context.false)\n",
    "big_policy = high_level | low_level"
   ]
  },
  {
   "cell_type": "code",
   "execution_count": null,
   "id": "28f28d64-ff75-4a9f-8c05-17399730d3ca",
   "metadata": {},
   "outputs": [],
   "source": [
    "#big_policy = build_big_policy(compute_rooms)"
   ]
  },
  {
   "cell_type": "code",
   "execution_count": 27,
   "id": "b51bfd14-1562-4fc1-acd4-bb3e842f720c",
   "metadata": {},
   "outputs": [
    {
     "data": {
      "text/plain": [
       "488619"
      ]
     },
     "execution_count": 27,
     "metadata": {},
     "output_type": "execute_result"
    }
   ],
   "source": [
    "big_policy.dag_size"
   ]
  },
  {
   "cell_type": "code",
   "execution_count": 86,
   "id": "770d1979-f84a-481b-bd92-12e8f8afab53",
   "metadata": {},
   "outputs": [
    {
     "data": {
      "text/plain": [
       "4718512.0"
      ]
     },
     "execution_count": 86,
     "metadata": {},
     "output_type": "execute_result"
    }
   ],
   "source": [
    "context.exist(nexts + goals, big_policy).count()"
   ]
  },
  {
   "cell_type": "code",
   "execution_count": 95,
   "id": "e9e11723-3c9d-4551-a208-7de0310a3957",
   "metadata": {},
   "outputs": [],
   "source": [
    "a = context.exist(nexts + goals, big_policy)"
   ]
  },
  {
   "cell_type": "code",
   "execution_count": 96,
   "id": "1b13d29f-bd2e-40c9-af1e-58fcca24c311",
   "metadata": {},
   "outputs": [
    {
     "data": {
      "text/plain": [
       "{'B_prev',\n",
       " 'MB_prev',\n",
       " 'M_prev',\n",
       " 'PB_prev',\n",
       " 'granularity',\n",
       " 'pose_prev',\n",
       " 'room_id_prev',\n",
       " 'vh_prev',\n",
       " 'vt_prev',\n",
       " 'vv_prev',\n",
       " 'x_prev',\n",
       " 'y_prev'}"
      ]
     },
     "execution_count": 96,
     "metadata": {},
     "output_type": "execute_result"
    }
   ],
   "source": [
    "context.support(a)"
   ]
  },
  {
   "cell_type": "code",
   "execution_count": 103,
   "id": "2d669f12-7fd6-4342-9d7a-8327d0d34b8d",
   "metadata": {},
   "outputs": [],
   "source": [
    "aa = 2 ** len(set(prevs) - context.support(a))"
   ]
  },
  {
   "cell_type": "code",
   "execution_count": 136,
   "id": "b05eff00-6a47-4f29-b812-94211876f764",
   "metadata": {},
   "outputs": [
    {
     "data": {
      "text/plain": [
       "20265854725783552"
      ]
     },
     "execution_count": 136,
     "metadata": {},
     "output_type": "execute_result"
    }
   ],
   "source": [
    "context.count(a) * aa\n",
    "# 20,265,854,725,783,552\n",
    "# 16,749,942,957,670,400"
   ]
  },
  {
   "cell_type": "code",
   "execution_count": 105,
   "id": "ff8ee42a-4339-41b0-9255-aee9a8902908",
   "metadata": {},
   "outputs": [],
   "source": [
    "b = context.exist(nexts + prevs, big_policy)"
   ]
  },
  {
   "cell_type": "code",
   "execution_count": 138,
   "id": "6c789032-6bb9-4adb-965c-ac488ca395a0",
   "metadata": {},
   "outputs": [
    {
     "data": {
      "text/plain": [
       "32"
      ]
     },
     "execution_count": 138,
     "metadata": {},
     "output_type": "execute_result"
    }
   ],
   "source": [
    "len(set(goals) - context.support(b))"
   ]
  },
  {
   "cell_type": "code",
   "execution_count": 106,
   "id": "dd3aa88a-271e-4007-9117-ece02a7cd6f4",
   "metadata": {},
   "outputs": [],
   "source": [
    "bb = 2 ** len(set(goals) - context.support(b))"
   ]
  },
  {
   "cell_type": "code",
   "execution_count": 107,
   "id": "da73cd0f-21d0-47a6-921d-fe4530ae0450",
   "metadata": {},
   "outputs": [
    {
     "data": {
      "text/plain": [
       "16749942957670400"
      ]
     },
     "execution_count": 107,
     "metadata": {},
     "output_type": "execute_result"
    }
   ],
   "source": [
    "context.count(b) * bb"
   ]
  },
  {
   "cell_type": "code",
   "execution_count": 137,
   "id": "c530797f-b063-4f42-a9de-70e7a935b3a0",
   "metadata": {},
   "outputs": [
    {
     "data": {
      "text/plain": [
       "3.394519106453096e+32"
      ]
     },
     "execution_count": 137,
     "metadata": {},
     "output_type": "execute_result"
    }
   ],
   "source": [
    "float(339451910645309602137008557260800)"
   ]
  },
  {
   "cell_type": "code",
   "execution_count": 139,
   "id": "4fa80ae5-173a-4b86-92a9-1e12debce60b",
   "metadata": {},
   "outputs": [
    {
     "data": {
      "text/plain": [
       "18401724948800"
      ]
     },
     "execution_count": 139,
     "metadata": {},
     "output_type": "execute_result"
    }
   ],
   "source": [
    "context.count(a) * context.count(b)"
   ]
  },
  {
   "cell_type": "code",
   "execution_count": 131,
   "id": "8c151e0d-4ad4-46c9-885e-d2e147cd95e1",
   "metadata": {},
   "outputs": [
    {
     "data": {
      "text/plain": [
       "339451910645309602137008557260800"
      ]
     },
     "execution_count": 131,
     "metadata": {},
     "output_type": "execute_result"
    }
   ],
   "source": [
    "context.count(a) * aa * context.count(b) * bb"
   ]
  },
  {
   "cell_type": "code",
   "execution_count": 117,
   "id": "6ab7a720-d4fe-4b2e-a025-7b394d2c7be7",
   "metadata": {},
   "outputs": [
    {
     "data": {
      "text/plain": [
       "(4294967296, 4294967296)"
      ]
     },
     "execution_count": 117,
     "metadata": {},
     "output_type": "execute_result"
    }
   ],
   "source": [
    "aa, bb"
   ]
  },
  {
   "cell_type": "code",
   "execution_count": 111,
   "id": "288112fe-19f3-45ce-80db-ee146de5d00f",
   "metadata": {},
   "outputs": [],
   "source": [
    "c = context.exist(nexts, big_policy)"
   ]
  },
  {
   "cell_type": "code",
   "execution_count": 113,
   "id": "dfc7621f-5200-426c-8cfa-79b47275cef6",
   "metadata": {},
   "outputs": [],
   "source": [
    "cc = 2 ** len(set(goals + prevs) - context.support(c))"
   ]
  },
  {
   "cell_type": "code",
   "execution_count": null,
   "id": "88dfdc78-c660-414e-bab8-151ce9829052",
   "metadata": {},
   "outputs": [],
   "source": [
    "# 6,012,462,171,247,079,325,696"
   ]
  },
  {
   "cell_type": "code",
   "execution_count": 141,
   "id": "f1f480b4-052c-4c02-9a71-228ca714dde8",
   "metadata": {},
   "outputs": [
    {
     "data": {
      "text/plain": [
       "26303.020572461402"
      ]
     },
     "execution_count": 141,
     "metadata": {},
     "output_type": "execute_result"
    }
   ],
   "source": [
    "158145916181457869673070592 / 6012462171247079325696"
   ]
  },
  {
   "cell_type": "code",
   "execution_count": 143,
   "id": "ac607d2a-6b1a-44de-bddc-b287a812b8b6",
   "metadata": {},
   "outputs": [
    {
     "data": {
      "text/plain": [
       "set()"
      ]
     },
     "execution_count": 143,
     "metadata": {},
     "output_type": "execute_result"
    }
   ],
   "source": [
    "context.support(context.exist(prevs + nexts + goals, big_policy))"
   ]
  },
  {
   "cell_type": "code",
   "execution_count": 114,
   "id": "4365b5d6-35ce-4000-a71c-2d3e39860372",
   "metadata": {},
   "outputs": [
    {
     "data": {
      "text/plain": [
       "6012462171247079325696"
      ]
     },
     "execution_count": 114,
     "metadata": {},
     "output_type": "execute_result"
    }
   ],
   "source": [
    "context.count(c) * cc"
   ]
  },
  {
   "cell_type": "code",
   "execution_count": 134,
   "id": "dbde8f94-e5bb-4b7e-bfae-8de64c098d95",
   "metadata": {},
   "outputs": [
    {
     "data": {
      "text/plain": [
       "1.7712264926767343e-11"
      ]
     },
     "execution_count": 134,
     "metadata": {},
     "output_type": "execute_result"
    }
   ],
   "source": [
    "6012462171247079325696 / 339451910645309602137008557260800"
   ]
  },
  {
   "cell_type": "code",
   "execution_count": 91,
   "id": "c80b6ea6-ff0c-46c1-b925-7cc1cc23c10a",
   "metadata": {},
   "outputs": [],
   "source": [
    "context.bdd.dump(\"../output/big_policy.json\", [big_policy])"
   ]
  },
  {
   "cell_type": "code",
   "execution_count": 78,
   "id": "0f0eef9b-64b7-4db0-9606-6570e124def6",
   "metadata": {},
   "outputs": [
    {
     "data": {
      "text/plain": [
       "3.286541444851958e+17"
      ]
     },
     "execution_count": 78,
     "metadata": {},
     "output_type": "execute_result"
    }
   ],
   "source": [
    "(low_level & context.add_expr(\"room_id_prev = 40721\") & g1).count()"
   ]
  },
  {
   "cell_type": "code",
   "execution_count": 79,
   "id": "72bf3db7-b33c-44a0-b85d-daad50943558",
   "metadata": {},
   "outputs": [
    {
     "data": {
      "text/plain": [
       "3.285753919648563e+16"
      ]
     },
     "execution_count": 79,
     "metadata": {},
     "output_type": "execute_result"
    }
   ],
   "source": [
    "(low_level & context.add_expr(\"room_id_prev = 41223\") & g1).count()"
   ]
  },
  {
   "cell_type": "code",
   "execution_count": 82,
   "id": "eca54667-b499-4810-83d7-f1e42d8d3bf6",
   "metadata": {},
   "outputs": [
    {
     "data": {
      "text/plain": [
       "0.0"
      ]
     },
     "execution_count": 82,
     "metadata": {},
     "output_type": "execute_result"
    }
   ],
   "source": [
    "(low_level & context.add_expr(\"room_id_prev != room_id_next\") & g1).count()"
   ]
  },
  {
   "cell_type": "code",
   "execution_count": null,
   "id": "9a9e2030-0f87-4543-ae66-e4262fed9277",
   "metadata": {},
   "outputs": [],
   "source": [
    "## Find a path"
   ]
  },
  {
   "cell_type": "code",
   "execution_count": 46,
   "id": "623087fb-7cff-4b57-bc89-8fb0351001a6",
   "metadata": {},
   "outputs": [],
   "source": [
    "#TODO: given a task condition, resolve goal conditions to good goals...\n",
    "# BFS from prev -> next until nexts & goal is true, then nexts & goal is the optimal set of goals\n",
    "task_expr = context.add_expr(\"M_prev < M_goal & room_id_prev = 40721 & room_id_goal = 40721 & x_prev = 12\")\n",
    "# Concrete task\n",
    "task = context.exist(nexts + [\"granularity\"], big_policy & task_expr).pick()\n",
    "task_bdd = context.bdd.cube(task)"
   ]
  },
  {
   "cell_type": "code",
   "execution_count": 55,
   "id": "c4b7467e-c8fd-46ff-9020-bc6012939739",
   "metadata": {},
   "outputs": [
    {
     "name": "stdout",
     "output_type": "stream",
     "text": [
      "CPU times: user 9 µs, sys: 0 ns, total: 9 µs\n",
      "Wall time: 10.3 µs\n"
     ]
    },
    {
     "data": {
      "text/plain": [
       "Function (DdNode) with var index: 0, ref count: 3, int repr: 464543555"
      ]
     },
     "execution_count": 55,
     "metadata": {},
     "output_type": "execute_result"
    }
   ],
   "source": [
    "%%time\n",
    "task_bdd & big_policy"
   ]
  },
  {
   "cell_type": "code",
   "execution_count": 47,
   "id": "72215eb1-00ea-4f9b-8e66-cf587f4e343a",
   "metadata": {},
   "outputs": [],
   "source": [
    "# resolve_goal(current_state, underspecified_goal):\n",
    "# output is dict from each state parameter to the value\n",
    "#  which can be passed to get_policy_advice\n",
    "\n",
    "# Distance Oracle - prevs -> goals -> dist"
   ]
  },
  {
   "cell_type": "markdown",
   "id": "9dbe8f48-da24-449e-a046-eab7852e717c",
   "metadata": {},
   "source": [
    "## Construct a high-level and low-level path simultaneously"
   ]
  },
  {
   "cell_type": "code",
   "execution_count": 48,
   "id": "b248d554-65af-412f-b856-2e6ded1542d4",
   "metadata": {},
   "outputs": [],
   "source": [
    "def get_policy_advice(current_state, goal_state, granularity):\n",
    "    current_state_p = context.assign_from(current_state)\n",
    "    goal_bdd_g = context.assign_from(goal_state)\n",
    "    gn = context.add_expr(f\"granularity = {granularity}\")\n",
    "    return context.pick(context.exist(prevs + goals + [\"granularity\"], current_state_p & gn & big_policy & goal_bdd_g))"
   ]
  },
  {
   "cell_type": "code",
   "execution_count": 63,
   "id": "98314d91-b65a-4acc-9dec-583ce9ca1268",
   "metadata": {},
   "outputs": [
    {
     "name": "stdout",
     "output_type": "stream",
     "text": [
      "CPU times: user 7.65 ms, sys: 0 ns, total: 7.65 ms\n",
      "Wall time: 7.56 ms\n"
     ]
    },
    {
     "data": {
      "text/plain": [
       "{'room_id_next': 40721,\n",
       " 'x_next': 0,\n",
       " 'y_next': 23,\n",
       " 'pose_next': 0,\n",
       " 'vt_next': 1,\n",
       " 'vh_next': 0,\n",
       " 'vv_next': 0,\n",
       " 'B_next': 0,\n",
       " 'PB_next': 0,\n",
       " 'SPB_next': 0,\n",
       " 'S_next': 0,\n",
       " 'M_next': 0,\n",
       " 'G_next': 0,\n",
       " 'SA_next': 0,\n",
       " 'V_next': 0,\n",
       " 'GS_next': 0,\n",
       " 'SB_next': 0,\n",
       " 'HJ_next': 0,\n",
       " 'MB_next': 1,\n",
       " 'CB_next': 0,\n",
       " 'WB_next': 0,\n",
       " 'E_next': 0,\n",
       " 'PLB_next': 0,\n",
       " 'Spazer_next': 0,\n",
       " 'RT_next': 0,\n",
       " 'XR_next': 0,\n",
       " 'IB_next': 0,\n",
       " 'SJ_next': 0,\n",
       " 'Kraid_next': 0,\n",
       " 'Phantoon_next': 0,\n",
       " 'Draygon_next': 0,\n",
       " 'Ridley_next': 0,\n",
       " 'Botwoon_next': 0,\n",
       " 'Spore_Spawn_next': 0,\n",
       " 'Golden_Torizo_next': 0,\n",
       " 'Bomb_Torizo_next': 0,\n",
       " 'Mother_Brain_next': 0,\n",
       " 'Crocomire_next': 0,\n",
       " 'Drain_next': 0,\n",
       " 'Shaktool_next': 0,\n",
       " 'START_next': 0,\n",
       " 'Statues_next': 0}"
      ]
     },
     "execution_count": 63,
     "metadata": {},
     "output_type": "execute_result"
    }
   ],
   "source": [
    "%%time\n",
    "get_policy_advice(context.pick(context.exist(goals, task_bdd)), context.pick(context.exist(prevs, task_bdd)), 0)"
   ]
  },
  {
   "cell_type": "code",
   "execution_count": 51,
   "id": "467d1cf5-5359-4bdb-b1d2-c1a89132198f",
   "metadata": {},
   "outputs": [
    {
     "name": "stdout",
     "output_type": "stream",
     "text": [
      "{'room_id_prev': 40721, 'x_prev': 0, 'y_prev': 23, 'M_prev': 0}\n",
      "{'room_id_next': 40721, 'x_next': 0, 'y_next': 23, 'M_next': 0}\n",
      "{'room_id_prev': 40721, 'x_prev': 0, 'y_prev': 23, 'M_prev': 0}\n",
      "{'room_id_next': 41223, 'x_next': 15, 'y_next': 7, 'M_next': 0}\n",
      "{'room_id_prev': 41223, 'x_prev': 15, 'y_prev': 7, 'M_prev': 1}\n",
      "{'room_id_next': 41223, 'x_next': 15, 'y_next': 7, 'M_next': 1}\n",
      "{'room_id_prev': 41223, 'x_prev': 15, 'y_prev': 7, 'M_prev': 1}\n",
      "{'room_id_next': 40721, 'x_next': 0, 'y_next': 23, 'M_next': 1}\n",
      "{'room_id_prev': 40721, 'x_prev': 0, 'y_prev': 7, 'M_prev': 1}\n",
      "{'room_id_next': 40721, 'x_next': 0, 'y_next': 7, 'M_next': 1}\n",
      "{'room_id_prev': 40721, 'x_prev': 0, 'y_prev': 7, 'M_prev': 1}\n",
      "{'room_id_next': 40607, 'x_next': 127, 'y_next': 39, 'M_next': 1}\n",
      "{'room_id_prev': 40607, 'x_prev': 127, 'y_prev': 39, 'M_prev': 1}\n",
      "{'room_id_next': 40721, 'x_next': 0, 'y_next': 7, 'M_next': 1}\n",
      "CPU times: user 860 ms, sys: 0 ns, total: 860 ms\n",
      "Wall time: 859 ms\n"
     ]
    }
   ],
   "source": [
    "# TODO: make this into a function\n",
    "# TODO: make a dict-only version\n",
    "# TODO: add hungarian notation to bdd_core.py\n",
    "keep_vars = [\"x_prev\", \"y_prev\", \"room_id_prev\", \"x_next\", \"y_next\", \"room_id_next\", \"M_prev\", \"M_next\"]\n",
    "keep_vars2 = [\"x_goal\", \"y_goal\", \"room_id_goal\", \"M_goal\"]\n",
    "exist_vars = list(filter(lambda x: x not in keep_vars, context.vars.keys()))\n",
    "exist_vars2 = list(filter(lambda x: x not in keep_vars2, context.vars.keys()))\n",
    "current_state_p = context.exist(goals, task_bdd)\n",
    "goal_bdd_g = context.exist(prevs, task_bdd)\n",
    "goal_satisfied_ng = mk_goal_satisfied(context)\n",
    "next_to_goal = mk_replace(context, \"next\", \"goal\")\n",
    "node_posns = []\n",
    "room_posns = []\n",
    "while True:\n",
    "    #print()\n",
    "    # If you want to reason about complex goal spaces...\n",
    "    #next_state_bdd_n = context.assign_from(context.pick(context.exist(prevs + goals + [\"granularity\"], current_state_p & g0 & big_policy & goal_bdd_g)))\n",
    "    next_state_bdd_n = context.assign_from(get_policy_advice(context.pick(current_state_p), context.pick(goal_bdd_g), 0))\n",
    "    # Within room\n",
    "    within_room_goal_g = context.let(next_to_goal, context.exist(goals, next_state_bdd_n))\n",
    "    #print(within_room_goal_g.count())\n",
    "    #print(context.pick(context.exist(exist_vars2, within_room_goal_g)))\n",
    "    #v = (current_state_p & g1 & big_policy & within_room_goal_g).count()\n",
    "    v = get_policy_advice(context.pick(current_state_p), context.pick(within_room_goal_g), 1)\n",
    "    if v:\n",
    "        #print(f\"room stuff: {v=}\")\n",
    "        #current_state_p = current_state_p\n",
    "        while True:\n",
    "            #next_state_bdd_n = context.assign_from(context.pick(context.exist(prevs + goals + [\"granularity\"], current_state_p & g1 & big_policy & within_room_goal_g)))\n",
    "            next_state_bdd_n = context.assign_from(get_policy_advice(context.pick(current_state_p), context.pick(within_room_goal_g), 1))\n",
    "            current_state_p = context.let(next_to_prev, next_state_bdd_n)\n",
    "            current_node = context.pick(context.exist(exist_vars, current_state_p))\n",
    "            node_posns.append(current_node)\n",
    "            #print(current_node)\n",
    "            if (goal_satisfied_ng & next_state_bdd_n & within_room_goal_g).count() > 0:\n",
    "                break\n",
    "    current_node = context.pick(context.exist(exist_vars, current_state_p))\n",
    "    node_posns.append(current_node)\n",
    "    print(current_node)\n",
    "    print(context.pick(context.exist(exist_vars, next_state_bdd_n)))\n",
    "    current_state_p = context.let(next_to_prev, next_state_bdd_n)\n",
    "    if (goal_satisfied_ng & next_state_bdd_n & goal_bdd_g).count() > 0:\n",
    "        break"
   ]
  },
  {
   "cell_type": "code",
   "execution_count": 52,
   "id": "1b680370-5f85-4e8a-8f1d-bc99ec44fbd6",
   "metadata": {},
   "outputs": [
    {
     "data": {
      "text/plain": [
       "95"
      ]
     },
     "execution_count": 52,
     "metadata": {},
     "output_type": "execute_result"
    }
   ],
   "source": [
    "len(node_posns)"
   ]
  },
  {
   "cell_type": "code",
   "execution_count": 50,
   "id": "65944dcc-879a-4d23-bde1-4dd0fc51b062",
   "metadata": {},
   "outputs": [
    {
     "data": {
      "text/plain": [
       "<matplotlib.collections.PathCollection at 0x7f6703676320>"
      ]
     },
     "execution_count": 50,
     "metadata": {},
     "output_type": "execute_result"
    },
    {
     "data": {
      "image/png": "[encoded data removed]",
      "text/plain": [
       "<Figure size 640x480 with 1 Axes>"
      ]
     },
     "metadata": {},
     "output_type": "display_data"
    }
   ],
   "source": [
    "xs = [p[\"x_prev\"] for p in node_posns]\n",
    "ys = [-p[\"y_prev\"] for p in node_posns]\n",
    "scatter(xs, ys)"
   ]
  },
  {
   "cell_type": "code",
   "execution_count": 151,
   "id": "24afd92e-f184-4079-8e5c-dcde25e76bec",
   "metadata": {},
   "outputs": [],
   "source": [
    "start = context.assign_from({'room_id_prev': 40721, 'x_prev': 12, 'y_prev': 3, 'M_prev': 0})\n",
    "end = context.assign_from({'room_id_goal': 40721, 'x_goal': 0, 'y_goal': 23, 'M_goal': 0})"
   ]
  },
  {
   "cell_type": "code",
   "execution_count": 157,
   "id": "6fb0048f-aef5-4d43-9473-14e4effb8f3f",
   "metadata": {},
   "outputs": [
    {
     "data": {
      "text/plain": [
       "4.0"
      ]
     },
     "execution_count": 157,
     "metadata": {},
     "output_type": "execute_result"
    }
   ],
   "source": [
    "(current_state_p & within_room_goal_g & policies[0]).count()"
   ]
  },
  {
   "cell_type": "code",
   "execution_count": 171,
   "id": "8cd18637-d662-49f8-ae3a-ab3a4f3b6c43",
   "metadata": {},
   "outputs": [
    {
     "data": {
      "text/plain": [
       "4.0"
      ]
     },
     "execution_count": 171,
     "metadata": {},
     "output_type": "execute_result"
    }
   ],
   "source": [
    "(current_state_p & within_room_goal_g & context.exist([\"granularity\"], big_policy & g1)).count()"
   ]
  },
  {
   "cell_type": "code",
   "execution_count": 111,
   "id": "05fbda32-0fd6-47b7-b29b-4bd328c6dd86",
   "metadata": {},
   "outputs": [],
   "source": [
    "h = obj_names[\"room_header_0x79f11\"]\n",
    "level_h = make_level_from_room(h)"
   ]
  },
  {
   "cell_type": "code",
   "execution_count": 125,
   "id": "f3045951-48c0-4650-85ae-d42b42389f63",
   "metadata": {},
   "outputs": [
    {
     "data": {
      "image/png": "[encoded data removed]",
      "text/plain": [
       "<Figure size 1000x1000 with 1 Axes>"
      ]
     },
     "metadata": {},
     "output_type": "display_data"
    }
   ],
   "source": [
    "figure(figsize=(10,10));\n",
    "scatter(12, 3)\n",
    "scatter(0, 23)\n",
    "scatter(8, 23)\n",
    "imshow(level_h.level.T);"
   ]
  },
  {
   "cell_type": "code",
   "execution_count": 1,
   "id": "e3d08727-6d34-408b-af76-9180ca21eba5",
   "metadata": {},
   "outputs": [],
   "source": [
    "# Distance Oracle"
   ]
  },
  {
   "cell_type": "code",
   "execution_count": 32,
   "id": "aa6bdc16-94c7-4274-ab48-c6caf816e998",
   "metadata": {},
   "outputs": [],
   "source": [
    "context.declare(**{\"dist\": (0, 65535)})"
   ]
  },
  {
   "cell_type": "code",
   "execution_count": 33,
   "id": "edebaad1-a044-475a-9779-972b86122172",
   "metadata": {},
   "outputs": [
    {
     "name": "stderr",
     "output_type": "stream",
     "text": [
      "100%|█████████████████████████████████████████████████████████████████████████████████| 256/256 [00:14<00:00, 17.67it/s]\n"
     ]
    }
   ],
   "source": [
    "missiles_trans_pn = mk_trans(missiles_room, context)"
   ]
  },
  {
   "cell_type": "code",
   "execution_count": 102,
   "id": "6bb11f0b-d6b5-4b06-9cef-73d6292762ba",
   "metadata": {},
   "outputs": [],
   "source": [
    "def mk_cost(trans_pn, context):\n",
    "    n = 1\n",
    "    # prev, next, goal\n",
    "    covered_ng = mk_goal_satisfied(context)\n",
    "    cost_pgd = context.let(next_to_prev, covered_ng) & context.add_expr(\"dist = 0\")\n",
    "    covered_last_ng = context.false\n",
    "    while covered_ng != covered_last_ng:\n",
    "        # States with edges into a covered state\n",
    "        covered_last_ng = covered_ng\n",
    "        covered_temp_pg = context.exist(nexts, trans_pn & covered_ng)\n",
    "        covered_temp_ng = context.let(prev_to_next, covered_temp_pg)\n",
    "        # policy(prev, next, goal) = trans(prev, next) & covered(next, goal) & ~covered(prev, goal)\n",
    "        covered_pg = context.let(next_to_prev, covered_ng)\n",
    "        cost_pgd |= context.exist(nexts, trans_pn & covered_ng & ~covered_pg) & context.add_expr(f\"dist = {n}\")\n",
    "        # Find a state in covered that the fringe state transitions to\n",
    "        covered_ng |= covered_temp_ng\n",
    "        print(n, covered_temp_ng.dag_size, covered_ng.dag_size, cost_pgd.dag_size)\n",
    "        n += 1\n",
    "    return cost_pgd"
   ]
  },
  {
   "cell_type": "code",
   "execution_count": 103,
   "id": "e87c1adc-8ce8-4374-a626-2f655b3758eb",
   "metadata": {},
   "outputs": [
    {
     "name": "stdout",
     "output_type": "stream",
     "text": [
      "1 1277 1989 6159\n",
      "2 1900 2659 6985\n",
      "3 2716 3552 7825\n",
      "4 3532 4435 10071\n",
      "5 4105 5058 10760\n",
      "6 4542 5563 11588\n",
      "7 4860 5927 11703\n",
      "8 5177 6255 14350\n",
      "9 5425 6521 14577\n",
      "10 5669 6770 15065\n",
      "11 5926 7049 14251\n",
      "12 6068 7193 16670\n",
      "13 6167 7297 16769\n",
      "14 6256 7387 17151\n",
      "15 6364 7495 15913\n",
      "16 6413 7544 18376\n",
      "17 6373 7504 18367\n",
      "18 6180 7311 18549\n",
      "19 5868 6999 17407\n",
      "20 5499 6630 19027\n",
      "21 5020 6151 18908\n",
      "22 4548 5679 18915\n",
      "23 4158 5289 18272\n",
      "24 3810 4941 18920\n",
      "25 3537 4668 18830\n",
      "26 3271 4402 18800\n",
      "27 3110 4241 18587\n",
      "28 2980 4111 18743\n",
      "29 2853 3984 18702\n",
      "30 2796 3927 18681\n",
      "31 2758 3889 18641\n",
      "32 2719 3850 18692\n",
      "33 2719 3850 18692\n"
     ]
    }
   ],
   "source": [
    "cost = mk_cost(missiles_trans_pn, context)"
   ]
  },
  {
   "cell_type": "code",
   "execution_count": 104,
   "id": "035fe302-0c0a-4e8e-91f4-6466ecdacfdc",
   "metadata": {},
   "outputs": [],
   "source": [
    "task_expr = context.add_expr(\"M_prev < M_goal & x_prev = 12 & x_goal = 12\")\n",
    "# Concrete task\n",
    "task = context.exist(nexts + [\"granularity\"], cost & task_expr).pick()\n",
    "task_bdd = context.exist([\"dist\"], context.bdd.cube(task))"
   ]
  },
  {
   "cell_type": "code",
   "execution_count": 105,
   "id": "f73102e3-77f6-4073-b0b0-cd06ae1badf8",
   "metadata": {},
   "outputs": [
    {
     "data": {
      "text/plain": [
       "1.0"
      ]
     },
     "execution_count": 105,
     "metadata": {},
     "output_type": "execute_result"
    }
   ],
   "source": [
    "task_bdd.count()"
   ]
  },
  {
   "cell_type": "code",
   "execution_count": 106,
   "id": "686286a1-7f15-49ce-9245-95767b741a9c",
   "metadata": {},
   "outputs": [
    {
     "data": {
      "text/plain": [
       "15"
      ]
     },
     "execution_count": 106,
     "metadata": {},
     "output_type": "execute_result"
    }
   ],
   "source": [
    "context.pick((task_bdd & cost))[\"dist\"]\n",
    "# Find the min using binary search, or iterative refinement!\n",
    "#TODO: make the cost oracle also be hierarchical"
   ]
  },
  {
   "cell_type": "code",
   "execution_count": 107,
   "id": "00a13332-cb1a-4898-ba5e-a3b50a121c67",
   "metadata": {},
   "outputs": [],
   "source": [
    "def concretify_task(task_bdd, cost):\n",
    "    lower = 0\n",
    "    upper = context.pick(task_bdd & cost)[\"dist\"]\n",
    "    while lower < upper:\n",
    "        guess = (lower + upper) // 2\n",
    "        print(guess, lower, upper)\n",
    "        d_expr = context.add_expr(f\"dist < {guess}\")\n",
    "        if (task_bdd & cost & d_expr).count() > 0:\n",
    "            upper = context.pick(task_bdd & cost & d_expr)[\"dist\"]\n",
    "        else:\n",
    "            lower = guess + 1\n",
    "    final_d = context.add_expr(f\"dist = {upper}\")\n",
    "    return context.pick(task_bdd & cost & final_d)"
   ]
  },
  {
   "cell_type": "code",
   "execution_count": 110,
   "id": "4eefc5e3-1b63-48f1-99a2-737e5c4a0a9e",
   "metadata": {},
   "outputs": [],
   "source": [
    "#task_expr = context.add_expr(\"M_prev < M_goal & x_prev = 12\")\n",
    "task_expr = context.add_expr(\"(x_goal = 4 | x_goal = 9) & x_prev = 6\")"
   ]
  },
  {
   "cell_type": "code",
   "execution_count": 111,
   "id": "7528b303-48cd-4610-8c20-c34f1baf306d",
   "metadata": {},
   "outputs": [
    {
     "name": "stdout",
     "output_type": "stream",
     "text": [
      "1 0 3\n",
      "2 2 3\n"
     ]
    },
    {
     "data": {
      "text/plain": [
       "{'room_id_prev': 41223,\n",
       " 'room_id_goal': 41223,\n",
       " 'x_prev': 6,\n",
       " 'x_goal': 4,\n",
       " 'y_prev': 7,\n",
       " 'y_goal': 4,\n",
       " 'pose_prev': 0,\n",
       " 'pose_goal': 2,\n",
       " 'vt_prev': 1,\n",
       " 'vt_goal': 1,\n",
       " 'vh_prev': 0,\n",
       " 'vh_goal': 0,\n",
       " 'vv_prev': 0,\n",
       " 'vv_goal': 1,\n",
       " 'B_prev': 0,\n",
       " 'B_goal': 0,\n",
       " 'PB_prev': 0,\n",
       " 'PB_goal': 0,\n",
       " 'SPB_prev': 0,\n",
       " 'SPB_goal': 0,\n",
       " 'S_prev': 0,\n",
       " 'S_goal': 0,\n",
       " 'M_prev': 0,\n",
       " 'M_goal': 0,\n",
       " 'G_prev': 0,\n",
       " 'G_goal': 0,\n",
       " 'SA_prev': 0,\n",
       " 'SA_goal': 0,\n",
       " 'V_prev': 0,\n",
       " 'V_goal': 0,\n",
       " 'GS_prev': 0,\n",
       " 'GS_goal': 0,\n",
       " 'SB_prev': 0,\n",
       " 'SB_goal': 0,\n",
       " 'HJ_prev': 0,\n",
       " 'HJ_goal': 0,\n",
       " 'MB_prev': 0,\n",
       " 'MB_goal': 0,\n",
       " 'CB_prev': 0,\n",
       " 'CB_goal': 0,\n",
       " 'WB_prev': 0,\n",
       " 'WB_goal': 0,\n",
       " 'E_prev': 0,\n",
       " 'E_goal': 0,\n",
       " 'PLB_prev': 0,\n",
       " 'PLB_goal': 0,\n",
       " 'Spazer_prev': 0,\n",
       " 'Spazer_goal': 0,\n",
       " 'RT_prev': 0,\n",
       " 'RT_goal': 0,\n",
       " 'XR_prev': 0,\n",
       " 'XR_goal': 0,\n",
       " 'IB_prev': 0,\n",
       " 'IB_goal': 0,\n",
       " 'SJ_prev': 0,\n",
       " 'SJ_goal': 0,\n",
       " 'Kraid_prev': 0,\n",
       " 'Kraid_goal': 0,\n",
       " 'Phantoon_prev': 0,\n",
       " 'Phantoon_goal': 0,\n",
       " 'Draygon_prev': 0,\n",
       " 'Draygon_goal': 0,\n",
       " 'Ridley_prev': 0,\n",
       " 'Ridley_goal': 0,\n",
       " 'Botwoon_prev': 0,\n",
       " 'Botwoon_goal': 0,\n",
       " 'Spore_Spawn_prev': 0,\n",
       " 'Spore_Spawn_goal': 0,\n",
       " 'Golden_Torizo_prev': 0,\n",
       " 'Golden_Torizo_goal': 0,\n",
       " 'Bomb_Torizo_prev': 0,\n",
       " 'Bomb_Torizo_goal': 0,\n",
       " 'Mother_Brain_prev': 0,\n",
       " 'Mother_Brain_goal': 0,\n",
       " 'Crocomire_prev': 0,\n",
       " 'Crocomire_goal': 0,\n",
       " 'Ceres_Ridley_prev': 0,\n",
       " 'Ceres_Ridley_goal': 0,\n",
       " 'Drain_prev': 0,\n",
       " 'Drain_goal': 0,\n",
       " 'Shaktool_prev': 0,\n",
       " 'Shaktool_goal': 0,\n",
       " 'START_prev': 0,\n",
       " 'START_goal': 0,\n",
       " 'Statues_prev': 0,\n",
       " 'Statues_goal': 0,\n",
       " 'dist': 3}"
      ]
     },
     "execution_count": 111,
     "metadata": {},
     "output_type": "execute_result"
    }
   ],
   "source": [
    "concretify_task(task_expr, cost)"
   ]
  },
  {
   "cell_type": "code",
   "execution_count": null,
   "id": "f5f07320-67ce-422a-97f0-2945035f62f1",
   "metadata": {},
   "outputs": [],
   "source": [
    "def build_distance_oracle(compute_rooms):\n",
    "    print(\"Building local transes...\")\n",
    "    transes = [mk_trans(r) for r in compute_rooms]\n",
    "    norule_transes = [context.exist([\"rule\"], trans) for trans in transes]\n",
    "    print(\"Building local policies...\")\n",
    "    policies = [mk_policy(nrt) for nrt in norule_transes]\n",
    "    # Should be the same as transitive closure\n",
    "    room_summary_transes = [context.let(goal_to_next, context.exist(nexts, p)) for p in policies]\n",
    "    print(\"Parsing door trans\")\n",
    "    door_trans = mk_door_trans(\"../output/tla/doors.tla\")\n",
    "    door_trans2 = mk_door_trans_for_rooms(door_trans, compute_rooms)\n",
    "    # Compute global tranistion\n",
    "    # Room -> Door -> Room -> Door -> ... etc.\n",
    "    print(\"Building global policy...\")\n",
    "    all_trans = context.false\n",
    "    for trans in room_summary_transes:\n",
    "        all_trans |= trans\n",
    "    all_trans |= door_trans2\n",
    "    door_policy = mk_policy(all_trans)\n",
    "    print(\"Putting it all together...\")\n",
    "    big_policy = context.false\n",
    "    g0 = context.add_expr(\"granularity = 0\")\n",
    "    g1 = context.add_expr(\"granularity = 1\")\n",
    "    high_level = g0 & door_policy\n",
    "    low_level = reduce(lambda x,y: x | y, [g1 & p for p in policies], context.false)\n",
    "    return high_level | low_level"
   ]
  }
 ],
 "metadata": {
  "kernelspec": {
   "display_name": "Python 3 (ipykernel)",
   "language": "python",
   "name": "python3"
  },
  "language_info": {
   "codemirror_mode": {
    "name": "ipython",
    "version": 3
   },
   "file_extension": ".py",
   "mimetype": "text/x-python",
   "name": "python",
   "nbconvert_exporter": "python",
   "pygments_lexer": "ipython3",
   "version": "3.10.12"
  }
 },
 "nbformat": 4,
 "nbformat_minor": 5
}

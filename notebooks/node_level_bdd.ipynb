{
 "cells": [
  {
   "cell_type": "code",
   "execution_count": 1,
   "id": "adfd9043-0bb2-4a70-96b2-43fac88ca761",
   "metadata": {},
   "outputs": [
    {
     "name": "stdout",
     "output_type": "stream",
     "text": [
      "%pylab is deprecated, use %matplotlib inline and import the required libraries.\n",
      "Populating the interactive namespace from numpy and matplotlib\n"
     ]
    }
   ],
   "source": [
    "%load_ext autoreload\n",
    "%autoreload 2\n",
    "%pylab inline"
   ]
  },
  {
   "cell_type": "code",
   "execution_count": 2,
   "id": "dd29bc68-0aa7-48dd-bac4-704b5a7cbc4f",
   "metadata": {},
   "outputs": [],
   "source": [
    "import sys\n",
    "sys.path.append(\"..\")"
   ]
  },
  {
   "cell_type": "code",
   "execution_count": 3,
   "id": "a610b132-adf6-4338-9d66-dfe1028abb39",
   "metadata": {},
   "outputs": [],
   "source": [
    "from encoding.parse_rooms import parse_rooms, parse_exits, dictify_rooms"
   ]
  },
  {
   "cell_type": "code",
   "execution_count": 4,
   "id": "9fa218e2-8f29-4682-9013-ee90351e6604",
   "metadata": {},
   "outputs": [],
   "source": [
    "rooms = parse_rooms(\"../encoding/dsl/rooms_for_alloy.txt\")\n",
    "exits = parse_exits(\"../encoding/dsl/exits_for_alloy.txt\")\n",
    "design = dictify_rooms(rooms, exits)"
   ]
  },
  {
   "cell_type": "code",
   "execution_count": 5,
   "id": "1b515036-2690-4a17-bf7f-c0373d16f585",
   "metadata": {},
   "outputs": [],
   "source": [
    "from rom_tools.rom_manager import RomManager\n",
    "from abstraction_validation.sm_paths import *"
   ]
  },
  {
   "cell_type": "code",
   "execution_count": 6,
   "id": "b9b2cde6-f057-4c14-b7cb-67d1561b4b3f",
   "metadata": {},
   "outputs": [],
   "source": [
    "from bdds.bdd_core import *"
   ]
  },
  {
   "cell_type": "code",
   "execution_count": 7,
   "id": "d632df36-977a-4ce8-9d55-c59bf1e0e3e2",
   "metadata": {},
   "outputs": [],
   "source": [
    "from functools import reduce"
   ]
  },
  {
   "cell_type": "code",
   "execution_count": 8,
   "id": "e707d395-553b-4bdf-98f9-5994d2ca798b",
   "metadata": {},
   "outputs": [],
   "source": [
    "all_nodes = []\n",
    "for r, room in rooms.items():\n",
    "    for node in room.graph.name_node.keys():\n",
    "        all_nodes.append(node)\n",
    "node_ids = {n:i for i,n in enumerate(all_nodes)}"
   ]
  },
  {
   "cell_type": "code",
   "execution_count": 9,
   "id": "d4b94330-fb28-4950-9438-14a356e7cbed",
   "metadata": {},
   "outputs": [],
   "source": [
    "# Issue with design translation via chopping off the last _\n",
    "node_ids[\"Spore_Spawn_Spawn\"] = node_ids[\"Spore_Spawn_Spore_Spawn\"]\n",
    "node_ids[\"Golden_Torizo_Torizo\"] = node_ids[\"Golden_Torizo_Golden_Torizo\"]\n",
    "node_ids[\"Mother_Brain_Brain\"] = node_ids[\"Mother_Brain_Mother_Brain\"]"
   ]
  },
  {
   "cell_type": "code",
   "execution_count": 10,
   "id": "9a333f34-3d11-480f-9d12-3985be270dcd",
   "metadata": {},
   "outputs": [],
   "source": [
    "def combine_bdd_group(bdds):\n",
    "    return reduce(lambda x,y: x|y, bdds, context_id.false)"
   ]
  },
  {
   "cell_type": "code",
   "execution_count": 11,
   "id": "9156d99d-0627-4ee7-b915-676dba22a1c4",
   "metadata": {},
   "outputs": [],
   "source": [
    "def loc_id(room_name, node_name, when=\"prev\"):\n",
    "    node_id = node_ids[f\"{room_name}_{node_name}\"]\n",
    "    return f\"node_id_{when} = {node_id}\""
   ]
  },
  {
   "cell_type": "code",
   "execution_count": 12,
   "id": "b7d1dd19-e6b0-4145-8b9a-29a909c00b22",
   "metadata": {},
   "outputs": [],
   "source": [
    "def item_transitions(item_gained=None):\n",
    "    if item_gained is None:\n",
    "        return \"(items_unchanged)\"\n",
    "    clauses = []\n",
    "    for i in design[\"Items\"] | design[\"Bosses\"]:\n",
    "        if i == item_gained:\n",
    "            clause = f\"{i}_prev < {i}_next\"\n",
    "        else:\n",
    "            clause = f\"{i}_prev = {i}_next\"\n",
    "        clauses.append(clause)\n",
    "    return \" & \".join(clauses)\n",
    "\n",
    "\n",
    "def itemset_to_str(itemset):\n",
    "    if len(itemset) == 0:\n",
    "        return \"TRUE\"\n",
    "    else:\n",
    "        return \" & \".join([f\"{item}_prev = 1\" for item in itemset])\n",
    "\n",
    "def required_itemsets(itemsets):\n",
    "    return \"(\" + \" | \".join([itemset_to_str(itemset) for itemset in itemsets]) + \")\""
   ]
  },
  {
   "cell_type": "code",
   "execution_count": 13,
   "id": "84aea02c-82c0-4e78-a62b-6fe28fcb0011",
   "metadata": {},
   "outputs": [],
   "source": [
    "# Only encode node_id and items\n",
    "def mk_context_id():\n",
    "    context = Context()\n",
    "    context.declare(\n",
    "        node_id_prev = (0,len(node_ids)),\n",
    "        node_id_next = (0,len(node_ids)),\n",
    "        node_id_goal = (0,len(node_ids)),\n",
    "        node_id_temp = (0,len(node_ids)),\n",
    "    )\n",
    "    # Try to get a favorable variable ordering\n",
    "    shared_dict = {}\n",
    "    for i in item_mapping:\n",
    "        shared_dict[f\"{i}_prev\"] = (0,1)\n",
    "        shared_dict[f\"{i}_next\"] = (0,1)\n",
    "        shared_dict[f\"{i}_goal\"] = (0,1)\n",
    "        shared_dict[f\"{i}_temp\"] = (0,1)\n",
    "    context.declare(**shared_dict)\n",
    "    context.define(mk_items_unchanged())\n",
    "    return context"
   ]
  },
  {
   "cell_type": "code",
   "execution_count": 14,
   "id": "bd7018a8-33c5-483f-bd45-7b25fb65503e",
   "metadata": {},
   "outputs": [],
   "source": [
    "context_id = mk_context_id()"
   ]
  },
  {
   "cell_type": "code",
   "execution_count": 15,
   "id": "260582c2-35e5-4ed1-94e0-596272516da8",
   "metadata": {},
   "outputs": [],
   "source": [
    "def mk_goal_satisfied_id(context):\n",
    "    # Expression that holds when the goal is satisfied (for all possible goals)\n",
    "    goal_satisfied = context.true\n",
    "    for v1, v2 in zip(nexts, goals):\n",
    "        sat = context.add_expr(f\"{v1} = {v2}\")\n",
    "        #print(sat.dag_size)\n",
    "        #print(goal_satisfied.dag_size)\n",
    "        goal_satisfied &= sat\n",
    "    return goal_satisfied"
   ]
  },
  {
   "cell_type": "code",
   "execution_count": 16,
   "id": "44d43a86-702a-445b-a437-f16d82688927",
   "metadata": {},
   "outputs": [],
   "source": [
    "# Have to refine some stuff from bdd_core for the new context\n",
    "prev_to_temp = mk_replace(context_id, \"prev\", \"temp\")\n",
    "next_to_temp = mk_replace(context_id, \"next\", \"temp\")\n",
    "goal_to_next = mk_replace(context_id, \"goal\", \"next\")\n",
    "prev_to_next = mk_replace(context_id, \"prev\", \"next\")\n",
    "next_to_prev = mk_replace(context_id, \"next\", \"prev\")\n",
    "temps = [k for k in context_id.vars.keys() if k.endswith(\"_temp\")]\n",
    "nexts = [k for k in context_id.vars.keys() if k.endswith(\"_next\")]\n",
    "prevs = [k for k in context_id.vars.keys() if k.endswith(\"_prev\")]\n",
    "goals = [k for k in context_id.vars.keys() if k.endswith(\"_goal\")]\n",
    "\n",
    "def mk_goal_satisfied_id(context):\n",
    "    # Expression that holds when the goal is satisfied (for all possible goals)\n",
    "    goal_satisfied = context.true\n",
    "    for v1, v2 in zip(nexts, goals):\n",
    "        sat = context.add_expr(f\"{v1} = {v2}\")\n",
    "        #print(sat.dag_size)\n",
    "        #print(goal_satisfied.dag_size)\n",
    "        goal_satisfied &= sat\n",
    "    return goal_satisfied\n",
    "\n",
    "def mk_policy_id(trans_norule, context, goal_bdd=None):\n",
    "    n = 0\n",
    "    # prev, next, goal\n",
    "    policy = context.false\n",
    "    covered = mk_goal_satisfied_id(context)\n",
    "    if goal_bdd:\n",
    "        covered &= goal_bdd\n",
    "    covered_last = context.false\n",
    "    while covered != covered_last:\n",
    "        # States with edges into a covered state\n",
    "        covered_last = covered\n",
    "        covered_temp = context.exist(nexts, trans_norule & covered)\n",
    "        covered_temp = context.let(prev_to_next, covered_temp)\n",
    "        # policy(prev, next, goal) = trans(prev, next) & covered(next, goal) & ~covered(prev, goal)\n",
    "        covered_prev_goal = context.let(next_to_prev, covered)\n",
    "        policy |= trans_norule & covered & ~covered_prev_goal\n",
    "        # Find a state in covered that the fringe state transitions to\n",
    "        covered |= covered_temp\n",
    "        print(n, covered_temp.dag_size, covered.dag_size, policy.dag_size)\n",
    "        n += 1\n",
    "    return policy\n",
    "\n",
    "def mk_policy_id2(trans_pn, context, goal_bdd=None, maxn=None):\n",
    "    n = 0\n",
    "    if maxn is None:\n",
    "        maxn = float(\"inf\")\n",
    "    # prev, next, goal\n",
    "    policy_png = context.false\n",
    "    covered_ng = mk_goal_satisfied_id(context)\n",
    "    if goal_bdd:\n",
    "        covered_ng &= goal_bdd\n",
    "    print(covered_ng.count())\n",
    "    covered_last_ng = context.false\n",
    "    while covered_ng != covered_last_ng and n < maxn:\n",
    "        # States with edges into a covered state\n",
    "        covered_last_ng = covered_ng\n",
    "        fringe_pg = context.exist(nexts, trans_pn & covered_ng)\n",
    "        fringe_ng = context.let(prev_to_next, fringe_pg) & ~covered_ng\n",
    "        print(fringe_ng.count())\n",
    "        print(context.exist(nonidns, fringe_ng).count())\n",
    "        print(list(context.pick_iter(context.exist(nonidns, fringe_ng))))\n",
    "        # policy(prev, next, goal) = trans(prev, next) & fringe(next, goal) & ~covered(prev, goal)\n",
    "        policy_png |= trans_pn & fringe_ng\n",
    "        # Find a state in covered that the fringe state transitions to\n",
    "        covered_ng |= fringe_ng\n",
    "        print(n, fringe_ng.dag_size, covered_ng.dag_size, policy_png.dag_size)\n",
    "        n += 1\n",
    "    return policy_png"
   ]
  },
  {
   "cell_type": "code",
   "execution_count": 17,
   "id": "ec3ab25c-09c8-4764-88d1-b4dced3e7414",
   "metadata": {},
   "outputs": [],
   "source": [
    "def mk_policy_id3(trans_pn, context, goal_bdd=None, maxn=None):\n",
    "    n = 0\n",
    "    if maxn is None:\n",
    "        maxn = float(\"inf\")\n",
    "    # prev, next, goal\n",
    "    policy_png = context.false\n",
    "    covered_ng = mk_goal_satisfied_id(context)\n",
    "    if goal_bdd:\n",
    "        covered_ng &= goal_bdd\n",
    "    covered_last_ng = context.false\n",
    "    while covered_ng != covered_last_ng and n < maxn:\n",
    "        # States with edges into a covered state\n",
    "        covered_last_ng = covered_ng\n",
    "        covered_pg = context.let(next_to_prev, covered_ng)\n",
    "        fringe_png = trans_pn & covered_ng & ~covered_pg\n",
    "        # TODO: consider gluing the fringes together later?\n",
    "        policy_png |= fringe_png\n",
    "        #print(fringe_png.count())\n",
    "        #print(context.exist(nonidns, fringe_png).count())\n",
    "        #print(list(context.pick_iter(context.exist(nonidns, fringe_png))))\n",
    "        # Update covered to include the prevs of fringe\n",
    "        covered_ng |= context.let(prev_to_next, context.exist(nexts, fringe_png))\n",
    "        print(n, fringe_png.dag_size, covered_ng.dag_size, policy_png.dag_size)\n",
    "        n += 1\n",
    "    return policy_png"
   ]
  },
  {
   "cell_type": "code",
   "execution_count": 18,
   "id": "9adec1df-8fc1-45a1-a67c-2b034d5e1044",
   "metadata": {},
   "outputs": [
    {
     "name": "stderr",
     "output_type": "stream",
     "text": [
      "100%|█████████████████████████████████████████████████████████████████████████████████| 255/255 [00:11<00:00, 21.48it/s]\n"
     ]
    }
   ],
   "source": [
    "# Build individual BDDs\n",
    "room_bdds = []\n",
    "door_bdds = []\n",
    "for room_name, room in tqdm(design['Rooms'].items()):\n",
    "    links = []\n",
    "    for node_name in room['Nodes']:\n",
    "        s = loc_id(room_name, node_name) + \" & \" + loc_id(room_name, node_name, when=\"next\") + \" & \" + item_transitions()\n",
    "        links.append(context_id.add_expr(s, with_ops=True))\n",
    "        if node_name in room['Drops']:\n",
    "            s = loc_id(room_name, node_name) + \" & \" + loc_id(room_name, node_name, when=\"next\") + \" & \" + item_transitions(room['Drops'][node_name])\n",
    "            links.append(context_id.add_expr(s, with_ops=True))\n",
    "    for node_name, door in room['Doors'].items():\n",
    "        d = loc_id(room_name, node_name) + \" & \" + loc_id(door['Room'], door['Node'], when=\"next\") + \" & \" + item_transitions()\n",
    "        door_bdds.append(context_id.add_expr(d, with_ops=True))\n",
    "    for node_name, edges in room['Edges'].items():\n",
    "        for edge in edges:\n",
    "            other_node_name = edge['Terminal']\n",
    "            s = loc_id(room_name, node_name) + \" & \" + loc_id(room_name, other_node_name, when=\"next\") + \" & \" + required_itemsets(edge['Requirements']) + \" & \" + item_transitions()\n",
    "            links.append(context_id.add_expr(s, with_ops=True))\n",
    "    room_bdd = combine_bdd_group(links)\n",
    "    #print(room_bdd.count())\n",
    "    room_bdds.append(room_bdd)"
   ]
  },
  {
   "cell_type": "code",
   "execution_count": 19,
   "id": "ada637c4-0bab-4712-8df4-a4e565812f2c",
   "metadata": {},
   "outputs": [],
   "source": [
    "doors_bdd = combine_bdd_group(door_bdds)\n",
    "rooms_bdd = combine_bdd_group(room_bdds)\n",
    "all_bdd = doors_bdd | rooms_bdd"
   ]
  },
  {
   "cell_type": "code",
   "execution_count": 20,
   "id": "893b79d0-5ed8-49fe-8865-ac05cb95406e",
   "metadata": {},
   "outputs": [
    {
     "data": {
      "text/plain": [
       "11314"
      ]
     },
     "execution_count": 20,
     "metadata": {},
     "output_type": "execute_result"
    }
   ],
   "source": [
    "all_bdd.dag_size # 11K"
   ]
  },
  {
   "cell_type": "code",
   "execution_count": 21,
   "id": "60761457-d517-4a6d-89b3-2e1c9f8885d3",
   "metadata": {},
   "outputs": [],
   "source": [
    "context_id.bdd.dump(\"../output/all_bdd.json\", [all_bdd])"
   ]
  },
  {
   "cell_type": "code",
   "execution_count": 22,
   "id": "f38c86e9-6883-4725-80e3-ad45aedebafa",
   "metadata": {},
   "outputs": [
    {
     "data": {
      "text/plain": [
       "158211025928192.0"
      ]
     },
     "execution_count": 22,
     "metadata": {},
     "output_type": "execute_result"
    }
   ],
   "source": [
    "all_bdd.count()\n",
    "# 158,211,025,928,192"
   ]
  },
  {
   "cell_type": "code",
   "execution_count": 23,
   "id": "422f9d1f-db4c-4c59-921b-369047fd1146",
   "metadata": {},
   "outputs": [
    {
     "data": {
      "text/plain": [
       "['__new__',\n",
       " '__repr__',\n",
       " '__hash__',\n",
       " '__str__',\n",
       " '__lt__',\n",
       " '__le__',\n",
       " '__eq__',\n",
       " '__ne__',\n",
       " '__gt__',\n",
       " '__ge__',\n",
       " '__invert__',\n",
       " '__and__',\n",
       " '__rand__',\n",
       " '__or__',\n",
       " '__ror__',\n",
       " '__int__',\n",
       " '__len__',\n",
       " 'implies',\n",
       " 'equiv',\n",
       " 'let',\n",
       " 'exist',\n",
       " 'forall',\n",
       " 'pick',\n",
       " 'count',\n",
       " '_index',\n",
       " 'var',\n",
       " 'level',\n",
       " 'ref',\n",
       " 'low',\n",
       " 'high',\n",
       " 'negated',\n",
       " 'support',\n",
       " 'dag_size',\n",
       " 'bdd',\n",
       " '_ref',\n",
       " '__doc__',\n",
       " '__pyx_vtable__',\n",
       " '__reduce__',\n",
       " '__setstate__',\n",
       " '__getattribute__',\n",
       " '__setattr__',\n",
       " '__delattr__',\n",
       " '__init__',\n",
       " '__reduce_ex__',\n",
       " '__subclasshook__',\n",
       " '__init_subclass__',\n",
       " '__format__',\n",
       " '__sizeof__',\n",
       " '__dir__',\n",
       " '__class__']"
      ]
     },
     "execution_count": 23,
     "metadata": {},
     "output_type": "execute_result"
    }
   ],
   "source": [
    "all_bdd.__dir__()"
   ]
  },
  {
   "cell_type": "code",
   "execution_count": 24,
   "id": "6242ac95-9816-4991-a30c-d01abe34ff77",
   "metadata": {},
   "outputs": [],
   "source": [
    "a = context_id.exist(nexts, all_bdd)"
   ]
  },
  {
   "cell_type": "code",
   "execution_count": 25,
   "id": "bbcc6137-5bf6-4a71-b622-caa7b22c9c90",
   "metadata": {},
   "outputs": [
    {
     "data": {
      "text/plain": [
       "47897475284992.0"
      ]
     },
     "execution_count": 25,
     "metadata": {},
     "output_type": "execute_result"
    }
   ],
   "source": [
    "a.count() * 2 ** len(set(prevs) - context_id.support(a))"
   ]
  },
  {
   "cell_type": "code",
   "execution_count": 26,
   "id": "cfa3e3f6-d417-456c-955b-485eb188a9c5",
   "metadata": {},
   "outputs": [
    {
     "data": {
      "text/plain": [
       "158211025928192"
      ]
     },
     "execution_count": 26,
     "metadata": {},
     "output_type": "execute_result"
    }
   ],
   "source": [
    "context_id.count(all_bdd)"
   ]
  },
  {
   "cell_type": "code",
   "execution_count": 27,
   "id": "42ace1bd-2e03-4040-93c2-5a01225706ec",
   "metadata": {},
   "outputs": [
    {
     "data": {
      "text/plain": [
       "3.303118274748924"
      ]
     },
     "execution_count": 27,
     "metadata": {},
     "output_type": "execute_result"
    }
   ],
   "source": [
    "158211025928192 / 47897475284992.0"
   ]
  },
  {
   "cell_type": "code",
   "execution_count": 28,
   "id": "d0396734-aee6-4e9e-9940-762aecff224e",
   "metadata": {},
   "outputs": [
    {
     "data": {
      "text/plain": [
       "93549756416.0"
      ]
     },
     "execution_count": 28,
     "metadata": {},
     "output_type": "execute_result"
    }
   ],
   "source": [
    "context_id.bdd.count(context_id.exist(nexts, all_bdd), len(prevs))"
   ]
  },
  {
   "cell_type": "code",
   "execution_count": 29,
   "id": "4325d267-8541-4521-b9b9-972894f9db66",
   "metadata": {},
   "outputs": [],
   "source": [
    "from data_types import item_set"
   ]
  },
  {
   "cell_type": "code",
   "execution_count": 30,
   "id": "a6c52276-7bd5-4581-94af-1ff007a58005",
   "metadata": {},
   "outputs": [],
   "source": [
    "def mk_itemset_expr(itemset, when=\"prev\"):\n",
    "    clauses = []\n",
    "    for i in item_mapping:\n",
    "        if i in itemset:\n",
    "            clause = f\"{i}_{when} = 1\"\n",
    "        else:\n",
    "            clause = f\"{i}_{when} = 0\"\n",
    "        clauses.append(clause)\n",
    "    return \" & \".join(clauses)"
   ]
  },
  {
   "cell_type": "code",
   "execution_count": 31,
   "id": "165752dc-57d5-4201-8f7e-42ca30004778",
   "metadata": {},
   "outputs": [],
   "source": [
    "def get_reachable_id(trans_norule, context, start_bdd):\n",
    "    n = 0\n",
    "    covered_p = start_bdd\n",
    "    covered_last_p = context.false\n",
    "    while covered_p != covered_last_p:\n",
    "        covered_last_p = covered_p\n",
    "        fringe_n = context.exist(prevs, covered_p & trans_norule)\n",
    "        covered_p |= context.let(next_to_prev, fringe_n)\n",
    "        print(n, covered_p.dag_size)\n",
    "        n+=1\n",
    "    return covered_p"
   ]
  },
  {
   "cell_type": "code",
   "execution_count": 32,
   "id": "f7a5db85-d0c0-4910-ac7a-e9375123a743",
   "metadata": {},
   "outputs": [],
   "source": [
    "start_bdd = context_id.add_expr(\"node_id_prev = 2 & \" + mk_itemset_expr(item_set.ItemSet()))"
   ]
  },
  {
   "cell_type": "code",
   "execution_count": 33,
   "id": "d3ff3768-3740-4f18-9a34-8705ba90d604",
   "metadata": {},
   "outputs": [],
   "source": [
    "%%capture\n",
    "all_reachable_p = get_reachable_id(all_bdd, context_id, start_bdd)"
   ]
  },
  {
   "cell_type": "code",
   "execution_count": 34,
   "id": "30507184-8b71-43d6-b405-9722eb9a95dc",
   "metadata": {},
   "outputs": [],
   "source": [
    "feasible_trans = all_bdd & all_reachable_p"
   ]
  },
  {
   "cell_type": "code",
   "execution_count": 35,
   "id": "46425fc5-ea1d-4242-bccf-d42e72fa0758",
   "metadata": {},
   "outputs": [],
   "source": [
    "wincon_p = context_id.add_expr(\"node_id_prev = 2 & Mother_Brain_prev = 1\")"
   ]
  },
  {
   "cell_type": "code",
   "execution_count": 36,
   "id": "9f675d24-6cea-41c6-8066-0fcf934e900b",
   "metadata": {},
   "outputs": [],
   "source": [
    "wincon = context_id.add_expr(\"node_id_goal = 2 & Mother_Brain_goal = 1\")"
   ]
  },
  {
   "cell_type": "code",
   "execution_count": 37,
   "id": "e65f27ef-e8be-4b9d-ad21-fbfb3bc16057",
   "metadata": {},
   "outputs": [
    {
     "data": {
      "text/plain": [
       "48840562.0"
      ]
     },
     "execution_count": 37,
     "metadata": {},
     "output_type": "execute_result"
    }
   ],
   "source": [
    "feasible_trans.count()"
   ]
  },
  {
   "cell_type": "code",
   "execution_count": 41,
   "id": "14aac5d2-db41-4d0b-b935-1959c01d1e0d",
   "metadata": {},
   "outputs": [],
   "source": [
    "import json"
   ]
  },
  {
   "cell_type": "code",
   "execution_count": 42,
   "id": "ad826d56-99a2-4021-834b-5f57ec66e0ef",
   "metadata": {},
   "outputs": [
    {
     "data": {
      "text/plain": [
       "{'reordering': True,\n",
       " 'garbage_collection': True,\n",
       " 'max_memory': 18446744073709551615,\n",
       " 'loose_up_to': 6710886,\n",
       " 'max_cache_soft': 411648,\n",
       " 'max_cache_hard': 4294967295,\n",
       " 'min_hit': 30,\n",
       " 'max_growth': 1.2,\n",
       " 'max_swaps': 2000000,\n",
       " 'max_vars': 1000}"
      ]
     },
     "execution_count": 42,
     "metadata": {},
     "output_type": "execute_result"
    }
   ],
   "source": [
    "with open(\"../output/context_id_order.json\", \"r\") as f:\n",
    "    context_id.bdd.reorder(json.load(f))\n",
    "context_id.bdd.configure(reordering=False)"
   ]
  },
  {
   "cell_type": "code",
   "execution_count": 43,
   "id": "6c07a414-b6b1-4e76-9fc6-04592441af4e",
   "metadata": {},
   "outputs": [
    {
     "name": "stdout",
     "output_type": "stream",
     "text": [
      "0 177 1981 177\n",
      "1 197 1985 202\n",
      "2 221 1998 239\n",
      "3 216 1998 273\n",
      "4 259 2012 335\n",
      "5 259 2008 380\n",
      "6 245 2015 399\n",
      "7 258 2017 420\n",
      "8 266 2025 446\n",
      "9 318 2048 501\n",
      "10 448 2122 690\n",
      "11 489 2146 890\n",
      "12 568 2161 1052\n",
      "13 722 2211 1262\n",
      "14 807 2260 1536\n",
      "15 777 2266 1753\n",
      "16 858 2277 1847\n",
      "17 944 2358 2038\n",
      "18 960 2358 2302\n",
      "19 970 2425 2535\n",
      "20 1022 2508 2762\n",
      "21 1185 2605 2919\n",
      "22 1342 2647 3217\n",
      "23 1320 2646 3492\n",
      "24 1303 2686 3742\n",
      "25 1302 2791 3864\n",
      "26 1448 2913 4237\n",
      "27 1665 3101 4788\n",
      "28 1657 3109 5179\n",
      "29 1885 3241 5462\n",
      "30 1990 3301 6062\n",
      "31 2303 3431 6650\n",
      "32 2582 3613 7243\n",
      "33 2575 3833 8126\n",
      "34 2902 3995 9012\n",
      "35 2933 4228 9641\n",
      "36 3177 4436 10041\n",
      "37 3664 4530 10962\n",
      "38 3869 4899 12148\n",
      "39 4098 4965 12953\n",
      "40 4305 5132 13476\n",
      "41 4841 5502 14410\n",
      "42 4796 5751 14702\n",
      "43 5505 5958 15854\n",
      "44 5593 6521 16680\n",
      "45 6343 6929 17979\n",
      "46 6402 7191 19029\n",
      "47 7635 7765 20642\n",
      "48 8131 8524 23263\n",
      "49 8576 9271 25253\n",
      "50 9067 9767 26477\n",
      "51 9276 10316 27189\n",
      "52 9787 10502 28993\n",
      "53 10141 10972 30191\n",
      "54 10348 11534 31075\n",
      "55 11328 11850 33207\n",
      "56 11732 12519 34554\n",
      "57 12684 12944 36577\n",
      "58 13596 13278 36480\n",
      "59 14263 14190 38360\n",
      "60 14489 14518 40179\n",
      "61 14873 14498 41504\n",
      "62 15866 14934 42600\n",
      "63 15992 15675 44033\n",
      "64 17491 16700 45511\n",
      "65 18327 16927 46620\n",
      "66 19403 17915 48648\n",
      "67 19803 18564 50335\n",
      "68 21263 18971 51665\n",
      "69 21817 18878 53983\n",
      "70 22720 19547 55289\n",
      "71 23284 19659 56683\n",
      "72 23760 20217 57762\n",
      "73 24664 20629 59046\n",
      "74 25459 21026 60930\n",
      "75 26235 21483 61926\n",
      "76 27244 22026 64204\n",
      "77 27736 22472 65566\n",
      "78 29164 23399 66991\n",
      "79 29758 23605 67451\n",
      "80 31588 24205 69748\n",
      "81 31769 24332 70568\n",
      "82 32615 24841 72688\n",
      "83 32583 24810 72419\n",
      "84 33703 25492 74677\n",
      "85 34065 25891 75434\n",
      "86 35835 26873 78270\n",
      "87 36880 27179 78915\n",
      "88 38536 28231 81465\n",
      "89 39373 28504 82171\n",
      "90 40876 29757 85162\n",
      "91 41719 29801 86534\n",
      "92 43044 30926 89824\n",
      "93 43655 31408 90862\n",
      "94 45908 32762 93986\n",
      "95 46200 33011 96006\n",
      "96 47872 34284 98946\n",
      "97 48693 34464 100516\n",
      "98 50705 36134 104332\n",
      "99 51429 35945 105035\n",
      "100 52356 37555 108907\n",
      "101 53354 37644 109970\n",
      "102 54601 39455 114030\n",
      "103 54716 39439 114717\n",
      "104 57042 41277 118741\n",
      "105 58055 41446 120973\n",
      "106 59388 43135 124966\n",
      "107 60308 43461 126716\n",
      "108 62589 45322 130264\n",
      "109 63356 45138 130197\n",
      "110 65248 46942 134451\n",
      "111 66233 47081 135611\n",
      "112 68258 48817 139528\n",
      "113 68573 48744 140310\n",
      "114 71010 50822 145381\n",
      "115 71260 51061 146702\n",
      "116 74006 53111 151386\n",
      "117 74816 53630 152862\n",
      "118 77395 55471 157283\n",
      "119 77529 55448 157571\n",
      "120 80458 56659 161863\n",
      "121 80307 57134 161912\n",
      "122 82487 58490 166076\n",
      "123 82407 58812 166621\n",
      "124 85010 60229 171589\n",
      "125 85264 60587 171998\n",
      "126 87780 62127 176312\n",
      "127 87747 62324 176567\n",
      "128 90124 63797 181553\n",
      "129 90575 63574 181040\n",
      "130 93206 64991 186139\n",
      "131 93241 64958 185194\n",
      "132 95561 66307 190103\n",
      "133 95407 66687 189726\n",
      "134 98644 67956 193697\n",
      "135 98687 68054 193955\n",
      "136 101038 69828 198773\n",
      "137 101428 69466 198183\n",
      "138 103827 71362 202997\n",
      "139 103625 70801 203453\n",
      "140 106245 72292 207614\n",
      "141 105489 71637 206757\n",
      "142 107638 73258 211341\n",
      "143 107705 72843 211073\n",
      "144 109921 74337 215606\n",
      "145 109565 73626 214739\n",
      "146 111936 75269 219149\n",
      "147 111150 74533 218019\n",
      "148 114100 76306 222501\n",
      "149 113246 75720 222278\n",
      "150 115664 76861 226265\n",
      "151 114588 76171 225478\n",
      "152 116546 77661 229307\n",
      "153 115947 76963 228515\n",
      "154 118581 78518 232193\n",
      "155 117853 77398 231285\n",
      "156 120344 79022 234827\n",
      "157 118848 77873 234198\n",
      "158 120903 79119 236696\n",
      "159 119999 78372 236390\n",
      "160 122439 79577 239106\n",
      "161 121720 78596 238436\n",
      "162 123356 79660 240493\n",
      "163 122430 78868 240071\n",
      "164 125145 79893 242564\n",
      "165 123607 79170 242131\n",
      "166 125936 80123 244355\n",
      "167 124652 79333 242696\n",
      "168 126642 80321 244740\n",
      "169 125013 79616 244291\n",
      "170 127042 80841 246315\n",
      "171 126543 79844 245980\n",
      "172 128247 81243 248181\n",
      "173 127230 80475 247190\n",
      "174 130130 81732 249074\n",
      "175 127869 81123 248207\n",
      "176 131092 82260 250375\n",
      "177 130094 81592 249463\n",
      "178 131985 82761 251810\n",
      "179 130874 82074 251396\n",
      "180 133812 83167 253704\n",
      "181 132063 82468 252376\n",
      "182 134457 83385 254597\n",
      "183 132857 82955 253725\n",
      "184 135136 84069 255603\n",
      "185 133646 83605 254552\n",
      "186 136067 84523 255851\n",
      "187 134665 83900 254932\n",
      "188 136710 84606 256018\n",
      "189 135243 84140 255073\n",
      "190 138173 84634 256675\n",
      "191 135925 84000 255734\n",
      "192 137752 84343 256696\n",
      "193 135910 83182 255179\n",
      "194 137422 84057 256531\n",
      "195 135520 82888 254606\n",
      "196 137531 83835 256080\n",
      "197 135797 82691 254588\n",
      "198 137884 83684 255844\n",
      "199 136304 82478 253660\n",
      "200 138091 83366 254612\n",
      "201 136659 82203 252867\n",
      "202 138408 83051 253909\n",
      "203 136915 81891 252339\n",
      "204 138494 82953 253625\n",
      "205 137065 81410 251630\n",
      "206 137960 82402 253217\n",
      "207 136475 80770 250833\n",
      "208 137764 81756 252348\n",
      "209 136435 80607 250167\n",
      "210 137373 81557 251406\n",
      "211 136572 80105 249373\n",
      "212 137712 81236 251059\n",
      "213 136491 79699 248880\n",
      "214 137517 80545 250386\n",
      "215 135710 79519 248272\n",
      "216 137009 80187 249232\n",
      "217 135901 78721 247093\n",
      "218 135934 79562 247821\n",
      "219 134888 77916 245686\n",
      "220 135186 78840 246885\n",
      "221 133690 77500 244494\n",
      "222 134974 78021 246285\n",
      "223 133944 76573 243864\n",
      "224 134682 77273 245458\n",
      "225 133855 75313 242880\n",
      "226 134164 76363 244462\n",
      "227 133192 74642 241868\n",
      "228 133803 75448 243271\n",
      "229 132419 74039 240748\n",
      "230 133514 74989 242337\n",
      "231 132760 73357 239952\n",
      "232 133147 74671 241386\n",
      "233 132410 73203 239056\n",
      "234 132790 74271 240874\n",
      "235 132000 72798 238333\n",
      "236 132751 73777 239897\n",
      "237 132167 72460 237920\n",
      "238 132847 73752 239297\n",
      "239 132428 72387 237311\n",
      "240 132917 73639 239219\n",
      "241 132575 72430 237277\n",
      "242 133202 73714 238878\n",
      "243 132592 72657 236888\n",
      "244 132815 73979 238510\n",
      "245 132186 72942 236417\n",
      "246 132626 74491 238614\n",
      "247 131701 73643 237031\n",
      "248 132393 74997 238828\n",
      "249 131853 74026 237267\n",
      "250 132522 75165 238947\n",
      "251 131753 74417 237558\n",
      "252 132463 75738 239168\n",
      "253 131399 75017 237380\n",
      "254 131949 76207 238930\n",
      "255 130967 75449 236931\n",
      "256 131409 76471 238045\n",
      "257 130750 75867 237041\n",
      "258 131103 76976 238219\n",
      "259 130100 76341 236908\n",
      "260 130522 77385 237666\n",
      "261 129647 76622 236200\n",
      "262 129567 77259 236438\n",
      "263 128328 76375 234835\n",
      "264 127961 76916 234873\n",
      "265 126467 76108 233259\n",
      "266 126166 76447 233122\n",
      "267 124845 75652 231630\n",
      "268 124504 75923 231467\n",
      "269 122930 75151 229640\n",
      "270 122628 75384 229614\n",
      "271 121007 74476 227709\n",
      "272 120768 74654 227273\n",
      "273 119276 73712 225430\n",
      "274 118569 73853 224689\n",
      "275 116855 73078 222615\n",
      "276 115929 72978 221730\n",
      "277 114487 71928 219742\n",
      "278 113535 71652 218692\n",
      "279 111972 70472 217193\n",
      "280 110841 70193 215800\n",
      "281 109190 69290 213879\n",
      "282 108234 68866 212457\n",
      "283 106448 67731 210421\n",
      "284 105152 67049 208876\n",
      "285 103269 65824 206922\n",
      "286 102184 65227 205473\n",
      "287 100494 64242 203339\n",
      "288 99504 63551 201903\n",
      "289 97810 62305 199848\n",
      "290 96456 61420 198220\n",
      "291 94590 60315 196230\n",
      "292 93304 59464 194557\n",
      "293 91656 58342 192549\n",
      "294 90271 57583 191000\n",
      "295 88923 56337 189135\n",
      "296 87744 55422 187385\n",
      "297 86204 54191 185424\n",
      "298 84824 53249 183601\n",
      "299 83057 51937 181662\n",
      "300 81619 50869 179784\n",
      "301 79958 49596 177824\n",
      "302 78514 48600 175840\n",
      "303 77000 47402 173822\n",
      "304 75606 46303 171976\n",
      "305 73910 44855 169825\n",
      "306 72482 43702 168031\n",
      "307 70764 42526 166152\n",
      "308 69386 41540 164346\n",
      "309 67818 40409 162440\n",
      "310 66214 39363 160457\n",
      "311 64514 38064 158491\n",
      "312 62921 36937 156525\n",
      "313 61163 35773 154768\n",
      "314 59740 34704 152992\n",
      "315 57964 33713 151270\n",
      "316 56562 32876 149488\n",
      "317 55136 31919 147976\n",
      "318 53842 31053 146423\n",
      "319 52474 30050 144832\n",
      "320 51151 29110 143260\n",
      "321 49577 28325 141832\n",
      "322 48472 27634 140396\n",
      "323 47200 26879 139010\n",
      "324 45821 26214 137687\n",
      "325 44742 25539 136409\n",
      "326 43890 24803 135142\n",
      "327 42785 24193 134125\n",
      "328 41941 23689 133187\n",
      "329 41095 23208 132394\n",
      "330 40244 22732 131536\n",
      "331 39522 22316 130840\n",
      "332 39030 21853 130201\n",
      "333 38558 21414 129651\n",
      "334 38088 21002 129095\n",
      "335 37439 20564 128641\n",
      "336 36799 20131 128089\n",
      "337 36326 19804 127617\n",
      "338 36047 19395 127284\n",
      "339 35708 19046 126932\n",
      "340 35504 18637 126687\n",
      "341 35230 18277 126511\n",
      "342 34806 17985 126364\n",
      "343 34502 17677 126099\n",
      "344 34424 17411 125909\n",
      "345 34236 17162 125628\n",
      "346 34014 16933 125521\n",
      "347 33840 16777 125526\n",
      "348 33873 16683 125605\n",
      "349 34046 16612 125810\n",
      "350 34224 16574 125985\n",
      "351 34464 16513 126255\n",
      "352 34515 16476 126427\n",
      "353 34650 16455 126754\n",
      "354 34853 16478 126992\n",
      "355 35040 16386 127225\n",
      "356 35129 16392 127258\n",
      "357 35111 16323 127506\n",
      "358 35133 16273 127725\n",
      "359 35337 16295 128104\n",
      "360 35557 16448 128433\n",
      "361 35832 16589 128789\n",
      "362 36104 16794 129049\n",
      "363 36254 16930 129501\n",
      "364 36404 17165 129818\n",
      "365 36847 17424 130384\n",
      "366 37470 17879 130919\n",
      "367 38290 18334 131769\n",
      "368 39060 18897 132459\n",
      "369 39674 19334 133269\n",
      "370 40428 19907 133906\n",
      "371 41138 20412 134871\n",
      "372 42160 21065 135736\n",
      "373 43111 21591 136852\n",
      "374 44068 22224 137739\n",
      "375 44920 22714 138858\n",
      "376 45742 23154 139615\n",
      "377 46542 23585 140474\n",
      "378 47459 23983 141041\n",
      "379 48093 24339 141856\n",
      "380 48716 24728 142422\n",
      "381 49284 24998 143101\n",
      "382 49641 25234 143359\n",
      "383 49871 25466 143881\n",
      "384 50262 25752 144198\n",
      "385 50523 25988 144759\n",
      "386 50934 26312 145180\n",
      "387 51276 26537 145741\n",
      "388 51614 26760 146122\n",
      "389 51927 26965 146691\n",
      "390 52259 27291 146964\n",
      "391 52433 27592 147468\n",
      "392 52939 27895 147907\n",
      "393 53255 28169 148478\n",
      "394 53794 28406 148916\n",
      "395 54252 28705 149588\n",
      "396 54771 29065 150084\n",
      "397 54995 29369 150608\n",
      "398 55284 29571 150848\n",
      "399 55416 29727 151322\n",
      "400 55714 29807 151571\n",
      "401 55922 29873 151954\n",
      "402 56062 29951 152099\n",
      "403 55973 29997 152325\n",
      "404 55931 30031 152322\n",
      "405 55821 30000 152284\n",
      "406 55644 30004 152122\n",
      "407 55342 29946 151998\n",
      "408 55125 29915 151976\n",
      "409 54807 29851 151935\n",
      "410 54452 29721 151829\n",
      "411 53957 29533 151656\n",
      "412 53565 29424 151440\n",
      "413 53014 29259 151076\n",
      "414 52740 29154 150799\n",
      "415 52075 28926 150392\n",
      "416 51661 28710 149938\n",
      "417 51004 28418 149312\n",
      "418 50274 28258 148911\n",
      "419 49635 28113 148424\n",
      "420 49269 28015 148061\n",
      "421 48685 27802 147584\n",
      "422 48303 27668 147206\n",
      "423 47827 27468 146727\n",
      "424 47386 27380 146402\n",
      "425 46899 27232 146053\n",
      "426 46540 27232 145764\n",
      "427 46094 27141 145350\n",
      "428 45641 27199 144893\n",
      "429 45213 27048 144499\n",
      "430 44863 27006 144163\n",
      "431 44535 26814 143747\n",
      "432 44074 26687 143345\n",
      "433 43519 26490 142879\n",
      "434 43071 26412 142412\n",
      "435 42703 26181 142046\n",
      "436 42392 25980 141679\n",
      "437 42045 25699 141232\n",
      "438 41544 25484 140811\n",
      "439 40888 25257 140345\n",
      "440 40355 25142 139868\n",
      "441 39876 25010 139446\n",
      "442 39466 24836 138912\n",
      "443 39040 24593 138506\n",
      "444 38547 24285 137873\n",
      "445 37945 24013 137465\n",
      "446 37329 23786 136983\n",
      "447 36804 23560 136619\n",
      "448 36136 23284 136181\n",
      "449 35673 23054 135839\n",
      "450 35091 22800 135346\n",
      "451 34628 22602 135151\n",
      "452 34377 22413 134898\n",
      "453 34184 22257 134721\n",
      "454 33844 22049 134470\n",
      "455 33360 21912 134128\n",
      "456 32777 21725 133722\n",
      "457 32442 21667 133487\n",
      "458 32258 21589 133335\n",
      "459 32331 21514 133275\n",
      "460 32348 21370 133176\n",
      "461 32216 21346 133081\n",
      "462 32060 21300 132978\n",
      "463 31883 21329 132938\n",
      "464 31758 21278 132788\n",
      "465 31709 21182 132612\n",
      "466 31503 21032 132460\n",
      "467 31330 20991 132322\n",
      "468 31170 20915 132212\n",
      "469 31006 20846 132190\n",
      "470 30829 20678 131972\n",
      "471 30531 20492 131788\n",
      "472 30189 20321 131539\n",
      "473 30020 20235 131471\n",
      "474 29871 20064 131167\n",
      "475 29649 19876 131022\n",
      "476 29470 19696 130711\n",
      "477 29130 19535 130502\n",
      "478 28896 19421 130307\n",
      "479 28743 19285 130223\n",
      "480 28535 19118 129992\n",
      "481 28345 18926 129883\n",
      "482 28162 18786 129634\n",
      "483 27966 18688 129505\n",
      "484 27736 18665 129329\n",
      "485 27595 18653 129161\n",
      "486 27329 18650 128897\n",
      "487 27173 18586 128846\n",
      "488 27054 18537 128602\n",
      "489 26959 18507 128560\n",
      "490 26863 18515 128391\n",
      "491 26764 18436 128292\n",
      "492 26646 18368 128059\n",
      "493 26517 18163 127822\n",
      "494 26329 18063 127596\n",
      "495 26138 17848 127338\n",
      "496 25898 17708 126893\n",
      "497 25558 17499 126578\n",
      "498 25270 17382 126164\n",
      "499 25001 17181 125777\n",
      "500 24634 17038 125379\n",
      "501 24399 16829 125199\n",
      "502 24128 16662 124944\n",
      "503 23843 16466 124732\n",
      "504 23614 16373 124438\n",
      "505 23370 16243 124224\n",
      "506 23192 16173 123867\n",
      "507 23055 16076 123762\n",
      "508 22928 16029 123557\n",
      "509 22739 15901 123425\n",
      "510 22628 15868 123178\n",
      "511 22432 15788 122997\n",
      "512 22314 15706 122672\n",
      "513 22126 15572 122518\n",
      "514 21946 15484 122213\n",
      "515 21697 15353 122041\n",
      "516 21534 15307 121691\n",
      "517 21195 15193 121504\n",
      "518 21010 15062 121095\n",
      "519 20612 14951 120894\n",
      "520 20429 14845 120588\n",
      "521 20167 14731 120371\n",
      "522 19996 14599 120083\n",
      "523 19744 14441 119896\n",
      "524 19506 14294 119535\n",
      "525 19119 14119 119259\n",
      "526 18908 13938 118870\n",
      "527 18477 13745 118635\n",
      "528 18215 13566 118299\n",
      "529 17771 13356 118035\n",
      "530 17437 13192 117702\n",
      "531 16985 12913 117397\n",
      "532 16638 12687 117003\n",
      "533 16018 12384 116625\n",
      "534 15536 12120 116135\n",
      "535 14992 11831 115632\n",
      "536 14502 11610 115165\n",
      "537 14034 11394 114725\n",
      "538 13611 11203 114238\n",
      "539 13067 11037 113913\n",
      "540 12676 10841 113440\n",
      "541 12141 10631 113029\n",
      "542 11702 10377 112594\n",
      "543 11164 10117 112156\n",
      "544 10798 9855 111738\n",
      "545 10267 9594 111275\n",
      "546 9854 9402 110794\n",
      "547 9296 9229 110463\n",
      "548 9021 9042 110030\n",
      "549 8481 8901 109711\n",
      "550 8234 8692 109380\n",
      "551 7875 8556 109126\n",
      "552 7639 8380 108786\n",
      "553 7332 8223 108545\n",
      "554 7094 8041 108256\n",
      "555 6816 7911 108128\n",
      "556 6679 7760 107940\n",
      "557 6496 7623 107823\n",
      "558 6359 7482 107648\n",
      "559 6109 7379 107463\n",
      "560 5859 7262 107227\n",
      "561 5562 7140 107055\n",
      "562 5390 7022 106863\n",
      "563 5148 6900 106748\n",
      "564 5000 6788 106597\n",
      "565 4843 6697 106476\n",
      "566 4709 6626 106318\n",
      "567 4560 6521 106120\n",
      "568 4417 6431 105927\n",
      "569 4211 6312 105787\n",
      "570 4043 6228 105635\n",
      "571 3912 6141 105489\n",
      "572 3778 6059 105318\n",
      "573 3606 5955 105126\n",
      "574 3439 5883 105059\n",
      "575 3342 5770 104946\n",
      "576 3207 5661 104840\n",
      "577 3089 5575 104757\n",
      "578 2993 5499 104658\n",
      "579 2877 5424 104544\n",
      "580 2754 5374 104414\n",
      "581 2604 5311 104312\n",
      "582 2487 5242 104233\n",
      "583 2395 5150 104116\n",
      "584 2282 5056 103998\n",
      "585 2141 4912 103833\n",
      "586 1954 4860 103681\n",
      "587 1749 4798 103587\n",
      "588 1664 4730 103474\n",
      "589 1557 4684 103368\n",
      "590 1469 4618 103264\n",
      "591 1356 4530 103127\n",
      "592 1222 4460 102992\n",
      "593 1020 4411 102853\n",
      "594 936 4361 102756\n",
      "595 824 4323 102663\n",
      "596 744 4289 102593\n",
      "597 681 4251 102490\n",
      "598 600 4203 102408\n",
      "599 523 4145 102242\n",
      "600 410 4084 102154\n",
      "601 294 4040 102048\n",
      "602 200 4013 102026\n",
      "603 138 3968 101955\n",
      "604 1 3968 101955\n",
      "CPU times: user 59.7 s, sys: 370 ms, total: 1min\n",
      "Wall time: 60 s\n"
     ]
    }
   ],
   "source": [
    "%%time\n",
    "#TODOs\n",
    "# Goal BDD x\n",
    "#   More restrictive goal_bdd using pick w/ transitive closure\n",
    "#   Forward & backward feasibility restrictions\n",
    "# ~covered_prev_goal earlier\n",
    "# Shattergate\n",
    "all_policy = mk_policy_id3(feasible_trans, context_id, wincon)"
   ]
  },
  {
   "cell_type": "code",
   "execution_count": 40,
   "id": "304fe7e3-a38a-44f3-a331-653008f73c99",
   "metadata": {},
   "outputs": [],
   "source": [
    "# 6:55 - 7:01 - ~6min finished on iteration 604\n",
    "# Final size 411245 ~ 14MB"
   ]
  },
  {
   "cell_type": "code",
   "execution_count": 50,
   "id": "22354595-628f-4a29-a9bc-c8b9b98a0367",
   "metadata": {},
   "outputs": [
    {
     "data": {
      "text/plain": [
       "101955"
      ]
     },
     "execution_count": 50,
     "metadata": {},
     "output_type": "execute_result"
    }
   ],
   "source": [
    "all_policy.dag_size"
   ]
  },
  {
   "cell_type": "code",
   "execution_count": 51,
   "id": "625a65ac-faec-4fc6-8566-dcfa48961081",
   "metadata": {},
   "outputs": [
    {
     "data": {
      "text/plain": [
       "9.0"
      ]
     },
     "execution_count": 51,
     "metadata": {},
     "output_type": "execute_result"
    }
   ],
   "source": [
    "context_id.exist(nexts + prevs, all_policy).count()"
   ]
  },
  {
   "cell_type": "code",
   "execution_count": 56,
   "id": "50b8ffe4-6aa3-4113-82f6-229f96260ba6",
   "metadata": {},
   "outputs": [],
   "source": [
    "with open(\"../output/context_id_order.json\", \"w\") as f:\n",
    "    json.dump(context_id.bdd.var_levels, f)"
   ]
  },
  {
   "cell_type": "code",
   "execution_count": 43,
   "id": "4b008a37-bb11-4e16-a9b0-15e5ec6797b9",
   "metadata": {},
   "outputs": [],
   "source": [
    "all_policy = context_id.bdd.load(\"../output/policy_id.json\")[0]"
   ]
  },
  {
   "cell_type": "code",
   "execution_count": 44,
   "id": "51117668-3e6a-4d6d-8616-38e9ee9163c2",
   "metadata": {},
   "outputs": [],
   "source": [
    "#context_id.bdd.dump(\"../output/policy_id.dddmp\", [all_policy])"
   ]
  },
  {
   "cell_type": "code",
   "execution_count": 34,
   "id": "ec4ca66c-b093-4476-a7c7-65e279dbb78e",
   "metadata": {},
   "outputs": [],
   "source": [
    "goal_satisfied_id = mk_goal_satisfied_id(context_id)"
   ]
  },
  {
   "cell_type": "code",
   "execution_count": 35,
   "id": "b4c0b776-cc4a-4521-8530-c69a3ec92aa3",
   "metadata": {},
   "outputs": [],
   "source": [
    "rev_node_ids = {v:k for k,v in node_ids.items()}"
   ]
  },
  {
   "cell_type": "code",
   "execution_count": 36,
   "id": "ff7c2d9c-1179-463c-8e0c-ae28e408e262",
   "metadata": {},
   "outputs": [],
   "source": [
    "# task_bdd is built by first creating a task expr, then existing off the nexts, then picking and cubing it.\n",
    "def get_path_concrete_id(policy, task_bdd, context):\n",
    "    # Get a concrete path\n",
    "    current = context.pick(task_bdd)\n",
    "    path = [current]\n",
    "    n = 0\n",
    "    while True:\n",
    "        #print(n, current[\"node_id_prev\"])\n",
    "        #print(n, rev_node_ids[current[\"node_id_prev\"]])\n",
    "        #print(current[\"node_id_prev\"])\n",
    "        #print(current)\n",
    "        n += 1\n",
    "        #current_bdd = context.bdd.cube(current)\n",
    "        current_bdd = context.assign_from(current)\n",
    "        next_temp = context.exist(prevs, current_bdd & policy)\n",
    "        advice = context.let(next_to_prev, next_temp)\n",
    "        #print(advice.count())\n",
    "        current = context.pick(advice)\n",
    "        # Check whether the goal is satisfied in the state given by the advice.\n",
    "        if (next_temp & goal_satisfied_id).pick():\n",
    "            break\n",
    "        path.append(current)\n",
    "    return path\n",
    "\n",
    "# is cube() faster?\n",
    "def get_path_concrete_id2(policy, task_bdd, context):\n",
    "    # Get a concrete path\n",
    "    current = task_bdd.pick()\n",
    "    path = [current]\n",
    "    while True:\n",
    "        #print(current)\n",
    "        current_bdd = context.bdd.cube(current)\n",
    "        next_temp = context.exist(prevs, current_bdd & policy)\n",
    "        advice = context.let(next_to_prev, next_temp)\n",
    "        #print(advice.count())\n",
    "        current = advice.pick()\n",
    "        # Check whether the goal is satisfied in the state given by the advice.\n",
    "        if (next_temp & goal_satisfied_id).pick():\n",
    "            break\n",
    "        path.append(current)\n",
    "    return path\n",
    "\n",
    "def get_first_step(policy, task_dict, context):\n",
    "    # Get a concrete path\n",
    "    task_bdd = context.assign_from(task_dict)\n",
    "    return context.pick(task_bdd & policy)"
   ]
  },
  {
   "cell_type": "code",
   "execution_count": 37,
   "id": "c8e877e3-daf4-4420-9a6e-009d2bc55627",
   "metadata": {},
   "outputs": [],
   "source": [
    "#task_expr = context_id.add_expr(\"Mother_Brain_prev < Mother_Brain_goal & node_id_prev = 2 & node_id_goal = 2\")\n",
    "task_expr = context_id.add_expr(\"M_prev < M_goal & node_id_prev = 2 & node_id_goal = 2\")\n",
    "# Concrete task\n",
    "task = context_id.pick(context_id.exist(nexts, all_policy & task_expr))\n",
    "task_bdd = context_id.assign_from(task)"
   ]
  },
  {
   "cell_type": "code",
   "execution_count": 38,
   "id": "7287bad4-e282-4531-b822-3d5c5405b522",
   "metadata": {},
   "outputs": [],
   "source": [
    "#cc = context_id.exist(prevs, all_bdd & context_id.add_expr(\"node_id_prev = 2\"))\n",
    "#cc = context_id.exist(prevs, all_bdd & task_bdd)\n",
    "t2 = task.copy()\n",
    "t2[\"node_id_prev\"] = node_ids[\"Landing_Site_Ship\"]\n",
    "t2_bdd = context_id.assign_from(t2)\n",
    "cc = context_id.exist(prevs, all_policy & t2_bdd)"
   ]
  },
  {
   "cell_type": "code",
   "execution_count": 39,
   "id": "eefa8d44-b4b7-47b7-895e-e48fd78e0911",
   "metadata": {},
   "outputs": [],
   "source": [
    "nonidns = [k for k in context_id.vars.keys() if k != \"node_id_next\"]"
   ]
  },
  {
   "cell_type": "code",
   "execution_count": 40,
   "id": "f292870b-0c96-434f-9f7c-745c6b5a3bed",
   "metadata": {},
   "outputs": [
    {
     "name": "stdout",
     "output_type": "stream",
     "text": [
      "Landing_Site_L2\n"
     ]
    }
   ],
   "source": [
    "for i in context_id.pick_iter(context_id.exist(nonidns, cc)):\n",
    "    print(rev_node_ids[i[\"node_id_next\"]])"
   ]
  },
  {
   "cell_type": "code",
   "execution_count": null,
   "id": "72c359d1-c3ae-4329-8444-ca176d992c38",
   "metadata": {},
   "outputs": [],
   "source": []
  },
  {
   "cell_type": "code",
   "execution_count": 41,
   "id": "7b4cd93b-2ebf-4606-a803-0c50473323d8",
   "metadata": {},
   "outputs": [],
   "source": [
    "# 1.94s concrete1\n",
    "# 0.233s concrete2"
   ]
  },
  {
   "cell_type": "code",
   "execution_count": 42,
   "id": "ab44e8f7-e6e5-437c-9073-4e0d000269b7",
   "metadata": {},
   "outputs": [
    {
     "name": "stdout",
     "output_type": "stream",
     "text": [
      "CPU times: user 476 ms, sys: 14 µs, total: 476 ms\n",
      "Wall time: 476 ms\n"
     ]
    }
   ],
   "source": [
    "%%time\n",
    "x = get_path_concrete_id2(all_policy, t2_bdd, context_id)"
   ]
  },
  {
   "cell_type": "code",
   "execution_count": 45,
   "id": "f488660f-c8ad-4a5a-b79a-e7f49fede055",
   "metadata": {},
   "outputs": [
    {
     "name": "stdout",
     "output_type": "stream",
     "text": [
      "CPU times: user 486 ms, sys: 32 µs, total: 486 ms\n",
      "Wall time: 486 ms\n"
     ]
    }
   ],
   "source": [
    "%%time\n",
    "x = get_path_concrete_id2(all_policy, task_bdd, context_id)"
   ]
  },
  {
   "cell_type": "code",
   "execution_count": 46,
   "id": "8235f827-dd9a-4d30-b0e6-8bb04e6a98f4",
   "metadata": {},
   "outputs": [
    {
     "data": {
      "text/plain": [
       "567"
      ]
     },
     "execution_count": 46,
     "metadata": {},
     "output_type": "execute_result"
    }
   ],
   "source": [
    "len(x)"
   ]
  },
  {
   "cell_type": "code",
   "execution_count": 1,
   "id": "50d6dac8-9473-4d62-9b48-334b0dc386c4",
   "metadata": {},
   "outputs": [
    {
     "ename": "NameError",
     "evalue": "name 'get_first_step' is not defined",
     "output_type": "error",
     "traceback": [
      "\u001b[0;31m---------------------------------------------------------------------------\u001b[0m",
      "\u001b[0;31mNameError\u001b[0m                                 Traceback (most recent call last)",
      "File \u001b[0;32m<timed exec>:1\u001b[0m\n",
      "\u001b[0;31mNameError\u001b[0m: name 'get_first_step' is not defined"
     ]
    }
   ],
   "source": [
    "%%time\n",
    "step = get_first_step(all_policy, task, context_id)"
   ]
  },
  {
   "cell_type": "code",
   "execution_count": 262,
   "id": "939ff661-c906-45b7-982a-9e0aace9723a",
   "metadata": {},
   "outputs": [
    {
     "name": "stdout",
     "output_type": "stream",
     "text": [
      "CPU times: user 1.89 ms, sys: 103 µs, total: 2 ms\n",
      "Wall time: 2.01 ms\n"
     ]
    },
    {
     "data": {
      "text/plain": [
       "Function (DdNode) with var index: 4, ref count: 2, int repr: 480166083"
      ]
     },
     "execution_count": 262,
     "metadata": {},
     "output_type": "execute_result"
    }
   ],
   "source": [
    "%%time\n",
    "context_id.assign_from(task)\n",
    "#task_bdd & all_policy"
   ]
  },
  {
   "cell_type": "code",
   "execution_count": 236,
   "id": "2c19c08f-2c00-4094-8418-c1fa7506429d",
   "metadata": {},
   "outputs": [
    {
     "data": {
      "text/plain": [
       "2"
      ]
     },
     "execution_count": 236,
     "metadata": {},
     "output_type": "execute_result"
    }
   ],
   "source": [
    "len(x)"
   ]
  },
  {
   "cell_type": "code",
   "execution_count": null,
   "id": "0aa67be5-f7f1-4e12-acab-be638997649c",
   "metadata": {},
   "outputs": [],
   "source": []
  }
 ],
 "metadata": {
  "kernelspec": {
   "display_name": "Python 3 (ipykernel)",
   "language": "python",
   "name": "python3"
  },
  "language_info": {
   "codemirror_mode": {
    "name": "ipython",
    "version": 3
   },
   "file_extension": ".py",
   "mimetype": "text/x-python",
   "name": "python",
   "nbconvert_exporter": "python",
   "pygments_lexer": "ipython3",
   "version": "3.10.12"
  }
 },
 "nbformat": 4,
 "nbformat_minor": 5
}

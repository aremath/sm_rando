{
 "cells": [
  {
   "cell_type": "code",
   "execution_count": 1,
   "id": "2160cd2a-eea1-4519-abee-2810aa36f86a",
   "metadata": {},
   "outputs": [],
   "source": [
    "# If these things haven't been precomputed:\n",
    "# - Run maps_data.ipynb to generate all_rooms.json\n",
    "# - Run node_level_tla.ipynb to generate policy_id.ddmp\n",
    "\n",
    "# Instructions for use (awful):\n",
    "# Any order:\n",
    "# - Run this notebook up to the while True cell\n",
    "#   - Run the while True cell\n",
    "# - In a terminal open in ./notebooks, run python3 server.py\n",
    "#   - Open a browser (firefox) tab to localhost:8000/smmaps.html\n",
    "# - Open snes9x-rr and load sm_clean.smc\n",
    "#   - File -> Lua Scripting -> New Lua Script Window\n",
    "#   - Browse and open ./notebooks/state_snes9x.lua\n",
    "#   - Play through Ceres station or load the implicit save from after Ceres\n",
    "#   - Walk to the left door of the Landing Site\n",
    "# - Run the while True cell in this notebook"
   ]
  },
  {
   "cell_type": "code",
   "execution_count": 2,
   "id": "3b17e770-e110-45f5-874e-5a8a1ee13906",
   "metadata": {},
   "outputs": [],
   "source": [
    "#TODO: move all_rooms.json, lines.json, and player_pos.json to output"
   ]
  },
  {
   "cell_type": "code",
   "execution_count": 3,
   "id": "d71e1285-b0bd-40d8-af53-53e1a1d768b1",
   "metadata": {},
   "outputs": [
    {
     "name": "stdout",
     "output_type": "stream",
     "text": [
      "%pylab is deprecated, use %matplotlib inline and import the required libraries.\n",
      "Populating the interactive namespace from numpy and matplotlib\n"
     ]
    }
   ],
   "source": [
    "%load_ext autoreload\n",
    "%autoreload 2\n",
    "%pylab inline"
   ]
  },
  {
   "cell_type": "code",
   "execution_count": 4,
   "id": "1de73e85-02a6-4441-b1c8-bd4d22aae7b8",
   "metadata": {},
   "outputs": [],
   "source": [
    "import sys\n",
    "sys.path.append(\"..\")"
   ]
  },
  {
   "cell_type": "code",
   "execution_count": 5,
   "id": "5e43f5ad-3c6d-4fbe-a91b-48d852534bb4",
   "metadata": {},
   "outputs": [],
   "source": [
    "import time\n",
    "import json"
   ]
  },
  {
   "cell_type": "code",
   "execution_count": 6,
   "id": "80ff0425-cf66-4234-b451-5246758721f3",
   "metadata": {},
   "outputs": [],
   "source": [
    "advice_fn = \"\"\"\n",
    "area_offsets = {\n",
    "    [0] = {[0] = 3, [1] = 10},\n",
    "    [1] = {[0] = 0, [1] = 29},\n",
    "    [2] = {[0] = 31, [1] = 49},\n",
    "    [3] = {[0] = 37, [1] = 0},\n",
    "    [4] = {[0] = 28, [1] = 29},\n",
    "    [5] = {[0] = 0, [1] = 10},\n",
    "    [6] = {[0] = 0, [1] = -10},\n",
    "    [7] = {[0] = 0, [1] = 0}\n",
    "}\n",
    "local px_addr = 0x000AF6\n",
    "local py_addr = 0x000AFA\n",
    "local camx_addr = 0x000911\n",
    "local camy_addr = 0x000915\n",
    "local area_addr = 0x00079F\n",
    "local mapx_addr = 0x0007A1\n",
    "local mapy_addr = 0x0007A3\n",
    "local camx = memory.readword(camx_addr)\n",
    "local camy = memory.readword(camy_addr)\n",
    "local px = memory.readword(px_addr)\n",
    "local py = memory.readword(py_addr)\n",
    "local screen_x = px - camx\n",
    "local screen_y = py - camy\n",
    "local xrad = memory.readbyte(0x7E0AFE)\n",
    "local yrad = memory.readbyte(0x7E0B00)\n",
    "local area = memory.readbyte(area_addr)\n",
    "local mapx = memory.readbyte(mapx_addr)\n",
    "local mapy = memory.readbyte(mapy_addr)\n",
    "local px_global = 16 * area_offsets[area][0] + 16 * mapx + (px / 16)\n",
    "local py_global = 16 * area_offsets[area][1] + 16 * mapy + (py / 16)\n",
    "\"\"\"\n",
    "advice2 = \"\"\"\n",
    "local go_x = {gox}\n",
    "local go_y = {goy}\n",
    "local to_x = go_x - px_global\n",
    "local to_y = go_y - py_global\n",
    "--print(\"hey\")\n",
    "--print(px_global, py_global)\n",
    "--print(go_x, go_y)\n",
    "--print(to_x, to_y)\n",
    "gui.line(screen_x, screen_y, screen_x + (to_x * 16), screen_y + (to_y * 16), 0xffffffff)\n",
    "local dist = math.sqrt((to_x * to_x + to_y * to_y))\n",
    "gui.text(screen_x, screen_y, tostring(math.floor(dist)), 0xffffffff)\n",
    "gui.text(0, 0, \"Node Inference: {nit} ms\", 0xffffffff)\n",
    "gui.text(0, 10, \"Path Inference: {pit} ms\", 0xffffffff)\n",
    "\"\"\"\n",
    "def mk_advice(x, y, nit, pit):\n",
    "    return advice_fn + advice2.format(gox=x, goy=y, nit=nit, pit=pit)"
   ]
  },
  {
   "cell_type": "code",
   "execution_count": 7,
   "id": "fc084162-43b4-4bb3-a533-efab9045b5f5",
   "metadata": {},
   "outputs": [],
   "source": [
    "from bdds.node_bdds import MapsInfo\n",
    "from rom_tools.rom_manager import RomManager"
   ]
  },
  {
   "cell_type": "code",
   "execution_count": 8,
   "id": "7f31efe0-2596-4737-b4ac-395701368aa9",
   "metadata": {},
   "outputs": [],
   "source": [
    "rom = RomManager(\"../../roms/sm_clean.sfc\", \"sm_junk.smc\")"
   ]
  },
  {
   "cell_type": "code",
   "execution_count": 9,
   "id": "8b65ee2d-aa48-4074-9e0c-392f79bf7d8e",
   "metadata": {},
   "outputs": [
    {
     "name": "stdout",
     "output_type": "stream",
     "text": [
      "Parsing ROM...\n",
      "Building Dicts...\n",
      "West_Ocean 0x793fe\n",
      "\t Extra: ['West_Ocean_R4', 'West_Ocean_L']\n",
      "\t Missing: []\n",
      "Bomb_Torizo 0x79804\n",
      "\t Extra: ['Bomb_Torizo_B']\n",
      "\t Missing: []\n"
     ]
    }
   ],
   "source": [
    "map_info = MapsInfo(\"../encoding/dsl/rooms_for_alloy.txt\", \\\n",
    "                   \"../encoding/dsl/exits_for_alloy.txt\",\n",
    "                   \"../output/ram_snes9x.bin\",\n",
    "                   rom)"
   ]
  },
  {
   "cell_type": "code",
   "execution_count": 10,
   "id": "d56cebe2-c68a-4c7c-a754-8fa38f339efd",
   "metadata": {},
   "outputs": [
    {
     "data": {
      "text/plain": [
       "{'West_Ocean_L', 'West_Ocean_R4'}"
      ]
     },
     "execution_count": 10,
     "metadata": {},
     "output_type": "execute_result"
    }
   ],
   "source": [
    "#TODO: There will be an issue with West Ocean since the naming scheme isn't exact\n",
    "# Keys in all_posns that don't have a corresponding node_id\n",
    "set(map_info.all_posns.keys()) - set(map_info.node_ids.keys())"
   ]
  },
  {
   "cell_type": "code",
   "execution_count": 11,
   "id": "4280a52e-d2f1-4778-9d9f-823a163858db",
   "metadata": {},
   "outputs": [
    {
     "data": {
      "text/plain": [
       "set()"
      ]
     },
     "execution_count": 11,
     "metadata": {},
     "output_type": "execute_result"
    }
   ],
   "source": [
    "# Node_ids that don't have a corresponding key in all_posns\n",
    "set(map_info.node_ids.keys()) - set(map_info.all_posns.keys())"
   ]
  },
  {
   "cell_type": "code",
   "execution_count": 12,
   "id": "dcaa9e06-9d28-4354-9b1b-eaa476b5ed28",
   "metadata": {},
   "outputs": [
    {
     "data": {
      "text/plain": [
       "0"
      ]
     },
     "execution_count": 12,
     "metadata": {},
     "output_type": "execute_result"
    }
   ],
   "source": [
    "map_info.node_ids[\"Landing_Site_Ship\"]"
   ]
  },
  {
   "cell_type": "code",
   "execution_count": 13,
   "id": "fa1f7639-084d-4eb0-8c7a-f1b4e17fa67e",
   "metadata": {},
   "outputs": [
    {
     "data": {
      "text/plain": [
       "c(416.0,231.5)"
      ]
     },
     "execution_count": 13,
     "metadata": {},
     "output_type": "execute_result"
    }
   ],
   "source": [
    "map_info.all_posns[\"Landing_Site_L2\"]"
   ]
  },
  {
   "cell_type": "code",
   "execution_count": 14,
   "id": "22ef7f65-d36d-46af-89df-777c171827dd",
   "metadata": {},
   "outputs": [
    {
     "data": {
      "text/plain": [
       "c(559.0,231.5)"
      ]
     },
     "execution_count": 14,
     "metadata": {},
     "output_type": "execute_result"
    }
   ],
   "source": [
    "map_info.all_posns[\"Landing_Site_R2\"]"
   ]
  },
  {
   "cell_type": "code",
   "execution_count": 15,
   "id": "8dc6e12b-e3c5-489e-b68d-363a5efa917e",
   "metadata": {},
   "outputs": [],
   "source": [
    "from world_rando.coord import Coord"
   ]
  },
  {
   "cell_type": "code",
   "execution_count": 16,
   "id": "5255b1a3-0070-4aea-bbe7-d137a7459d7f",
   "metadata": {},
   "outputs": [],
   "source": [
    "# Custom coords:\n",
    "#TODO: need to do this for all_posns2 as well / instead\n",
    "map_info.all_posns[\"Landing_Site_Ship\"] = map_info.all_posns[\"Landing_Site_L2\"] + Coord(71, 231.5)\n",
    "map_info.all_posns[\"Landing_Site_End\"] = map_info.all_posns[\"Landing_Site_L2\"] + Coord(81, 231.5)"
   ]
  },
  {
   "cell_type": "code",
   "execution_count": 17,
   "id": "fc801472-e690-4647-8ad0-79086e12c071",
   "metadata": {},
   "outputs": [],
   "source": [
    "#with open(\"../output/policy_id.json\", \"r\") as f:\n",
    "#    var_levels = json.load(f)[\"level_of_var\"]"
   ]
  },
  {
   "cell_type": "code",
   "execution_count": 18,
   "id": "cb7e3680-7968-4669-84ab-80949f77b27e",
   "metadata": {},
   "outputs": [],
   "source": [
    "#map_info.context.bdd.reorder(var_levels)\n",
    "#map_info.context.bdd.configure(reordering=False)"
   ]
  },
  {
   "cell_type": "code",
   "execution_count": 19,
   "id": "c6d83231-d63b-4eb6-bb44-ddeae6e6b1b4",
   "metadata": {},
   "outputs": [],
   "source": [
    "#TODO: save var order and recall\n",
    "# context1.bdd.reorder(context2.bdd.var_levels)\n",
    "#policy_id = map_info.context.bdd.load(\"../output/policy_id.dddmp\")[0]\n",
    "policy_id = map_info.context.bdd.load(\"../output/node_policy_det.dddmp\")[0]"
   ]
  },
  {
   "cell_type": "code",
   "execution_count": 20,
   "id": "8395920f-eeb3-4b6e-991c-3972675ede3f",
   "metadata": {},
   "outputs": [
    {
     "data": {
      "text/plain": [
       "Function (DdNode) with var index: 29, ref count: 1, int repr: 94752479048451"
      ]
     },
     "execution_count": 20,
     "metadata": {},
     "output_type": "execute_result"
    }
   ],
   "source": [
    "policy_id"
   ]
  },
  {
   "cell_type": "code",
   "execution_count": 21,
   "id": "8a3fef83-1426-4398-b156-3ea11699684c",
   "metadata": {},
   "outputs": [
    {
     "data": {
      "text/plain": [
       "234782"
      ]
     },
     "execution_count": 21,
     "metadata": {},
     "output_type": "execute_result"
    }
   ],
   "source": [
    "policy_id.dag_size"
   ]
  },
  {
   "cell_type": "code",
   "execution_count": 22,
   "id": "fc7e9caa-996c-4434-9871-a4313680120e",
   "metadata": {},
   "outputs": [],
   "source": [
    "from data_types.item_set import ItemSet"
   ]
  },
  {
   "cell_type": "code",
   "execution_count": 23,
   "id": "7af9a947-0e81-4821-8244-9ec79fca2eb7",
   "metadata": {},
   "outputs": [],
   "source": [
    "# For passing player pos to the HTML interface\n",
    "posd = {\n",
    "    \"X\": None,\n",
    "    \"Y\": None\n",
    "}"
   ]
  },
  {
   "cell_type": "code",
   "execution_count": 24,
   "id": "dfda27bc-83cb-4c72-97ec-e463dfad6274",
   "metadata": {},
   "outputs": [],
   "source": [
    "from abstraction_validation.abstractify import abstractify_pos_global\n",
    "from world_rando.coord import Coord"
   ]
  },
  {
   "cell_type": "code",
   "execution_count": 25,
   "id": "6e813e03-bb80-4581-a0b4-9b95354cf51c",
   "metadata": {},
   "outputs": [],
   "source": [
    "# The map on the website from bin0al uses a slightly different coordinate system\n",
    "# These are the offsets for bin0al's map\n",
    "map_area_offsets = {\n",
    "0: Coord(3, 10),\n",
    "1: Coord(0, 28),\n",
    "2: Coord(31, 48),\n",
    "3: Coord(37, 0),\n",
    "4: Coord(28, 28),\n",
    "5: Coord(0, 10),\n",
    "#Out of bounds\n",
    "6: Coord(0, -10),\n",
    "7: Coord(0, 0),\n",
    "};"
   ]
  },
  {
   "cell_type": "code",
   "execution_count": 26,
   "id": "1efe7ce9-79a3-4c79-b8e8-8f9225602980",
   "metadata": {},
   "outputs": [],
   "source": [
    "def get_onmap_pos():\n",
    "    ram_data = np.fromfile(\"../output/ram_snes9x.bin\", dtype=\"int16\")\n",
    "    return abstractify_pos_global(ram_data, map_area_offsets)"
   ]
  },
  {
   "cell_type": "code",
   "execution_count": 27,
   "id": "66e8ed53-ad8e-433e-80ff-0e7bbf0c2226",
   "metadata": {},
   "outputs": [],
   "source": [
    "from data_types.constraintgraph import Item, Boss"
   ]
  },
  {
   "cell_type": "code",
   "execution_count": 28,
   "id": "8a6c278e-5deb-4732-8693-bcb3088fba52",
   "metadata": {},
   "outputs": [],
   "source": [
    "item_nodes = set([])\n",
    "for r, room in map_info.rooms.items():\n",
    "    for node in room.graph.name_node.keys():\n",
    "        n = room.graph.name_node[node].data\n",
    "        if isinstance(n, Item) or isinstance(n, Boss):\n",
    "            item_nodes.add(node)"
   ]
  },
  {
   "cell_type": "code",
   "execution_count": 29,
   "id": "6448c23f-81fc-42d7-8a81-bfae335329cc",
   "metadata": {},
   "outputs": [],
   "source": [
    "from itertools import pairwise"
   ]
  },
  {
   "cell_type": "code",
   "execution_count": 30,
   "id": "6cee84a9-f3e6-4fe9-b628-ba8e3b6e07ed",
   "metadata": {},
   "outputs": [],
   "source": [
    "#TODO: Gross fix for the fact that map coords from bin0al don't match what I used...\n",
    "#TODO: Croc speedway abstract nodes aren't matched correctly"
   ]
  },
  {
   "cell_type": "code",
   "execution_count": 31,
   "id": "3237804c-d527-4e94-ac36-01cffc54e23d",
   "metadata": {},
   "outputs": [],
   "source": [
    "from abstraction_validation.sm_paths import all_global_positions"
   ]
  },
  {
   "cell_type": "code",
   "execution_count": 32,
   "id": "7cf4de75-445d-43ea-92ef-e410d733b177",
   "metadata": {},
   "outputs": [],
   "source": [
    "%%capture\n",
    "all_posns2 = all_global_positions(map_info.rooms, map_info.parsed_rom, map_area_offsets);"
   ]
  },
  {
   "cell_type": "code",
   "execution_count": 33,
   "id": "9bb8051a-924e-415b-bc7e-5b0f2892e237",
   "metadata": {},
   "outputs": [],
   "source": [
    "# Produce node list for html display\n",
    "posn_info = {k: (v.x, v.y) for k,v in all_posns2.items()}\n",
    "all_nodes = json.dumps(posn_info)\n",
    "with open(\"all_nodes.json\", \"w\") as f:\n",
    "    f.write(all_nodes)"
   ]
  },
  {
   "cell_type": "code",
   "execution_count": 34,
   "id": "765443a1-bbc2-4ad5-8f0e-23b1bbab8f8c",
   "metadata": {},
   "outputs": [
    {
     "data": {
      "text/plain": [
       "(c(423.5,576.0), c(423.5,592.0))"
      ]
     },
     "execution_count": 34,
     "metadata": {},
     "output_type": "execute_result"
    }
   ],
   "source": [
    "all_posns2[\"Morph_Ball_Room_EB\"], map_info.all_posns[\"Morph_Ball_Room_EB\"]"
   ]
  },
  {
   "cell_type": "code",
   "execution_count": 35,
   "id": "6344f88b-2a80-4ad3-b60c-b1aeca789f45",
   "metadata": {},
   "outputs": [],
   "source": [
    "# Yellow: current segment\n",
    "# Green: segment up to the next item\n",
    "# Grey: rest of the lines\n",
    "def get_path(edges):\n",
    "    if len(edges) < 2:\n",
    "        return None\n",
    "    node_ids = [edges[0][1]] + [e[2] for e in edges]\n",
    "    nodes = [map_info.node_ids_rev[i] for i in node_ids]\n",
    "    return nodes\n",
    "\n",
    "def path_helper(state_estimate, policy):\n",
    "    return map_info.get_path_advice(state_estimate, policy)\n",
    "\n",
    "def generate_lines(path):\n",
    "    out = {\n",
    "        \"next_step\": [],\n",
    "        \"next_item\": [],\n",
    "        \"remaining_path\": [],\n",
    "    }\n",
    "    # The \"path\" only makes sense if there's at least two locations\n",
    "    if path is None or len(path) < 2:\n",
    "        return out\n",
    "    else:\n",
    "        # Filter down to nodes that we know the location of\n",
    "        #TODO: this has issues if there's an item node with an unknown location (e.g. a boss)\n",
    "        path_locs = [(p, all_posns2[p]) for p in path if p in all_posns2]\n",
    "        # Also a possibility if path is long enough but we don't know where enough of the locs are\n",
    "        if len(path_locs) < 2:\n",
    "            return out\n",
    "        which_current = \"next_step\"\n",
    "        which_next = \"next_step\"\n",
    "        for (node, loc) in path_locs:\n",
    "            which_current = which_next\n",
    "            out[which_current].append(loc)\n",
    "            # [a, b]\n",
    "            # [b, c, ... e]\n",
    "            # [e, ...]\n",
    "            # Desired behavior: if the next node is an item node, next_item should be empty.\n",
    "            if which_current == \"next_step\" and len(out[\"next_step\"]) == 2:\n",
    "                which_next = \"next_item\"\n",
    "            if which_current == \"next_item\" and node in item_nodes:\n",
    "                which_next = \"remaining_path\"\n",
    "            if which_next != which_current:\n",
    "                out[which_next].append(loc)\n",
    "        return out"
   ]
  },
  {
   "cell_type": "code",
   "execution_count": 36,
   "id": "c5d93781-16f3-4c14-8faf-95dd898cb6a3",
   "metadata": {},
   "outputs": [],
   "source": [
    "import json"
   ]
  },
  {
   "cell_type": "code",
   "execution_count": 37,
   "id": "941172aa-a796-4ed7-b4cc-2c84ec87d3d5",
   "metadata": {},
   "outputs": [],
   "source": [
    "import time"
   ]
  },
  {
   "cell_type": "code",
   "execution_count": 38,
   "id": "f2e0849c-e96d-4752-8f95-16152a59b21c",
   "metadata": {},
   "outputs": [],
   "source": [
    "current_goal_node = \"Landing_Site_End\""
   ]
  },
  {
   "cell_type": "code",
   "execution_count": 46,
   "id": "5f2871f3-5a6a-40fd-a9ae-860e9c30db17",
   "metadata": {},
   "outputs": [],
   "source": [
    "map_info.estimate_state()"
   ]
  },
  {
   "cell_type": "code",
   "execution_count": 47,
   "id": "39d72fd7-6fd7-41e8-9d8e-44b83eb64733",
   "metadata": {},
   "outputs": [
    {
     "data": {
      "text/plain": [
       "('Landing_Site_L2', ISet([]))"
      ]
     },
     "execution_count": 47,
     "metadata": {},
     "output_type": "execute_result"
    }
   ],
   "source": [
    "current_estimate"
   ]
  },
  {
   "cell_type": "code",
   "execution_count": null,
   "id": "42d9d250-56be-40a5-8e08-084cf056a6c0",
   "metadata": {},
   "outputs": [
    {
     "name": "stdout",
     "output_type": "stream",
     "text": [
      "Player at new node: Parlor_R3\n",
      "Player has new goal: Landing_Site_End\n",
      "Player at new node: Parlor_R3\n",
      "Player at new node: Parlor_R3\n",
      "Player at new node: Parlor_R3\n",
      "Player at new node: Parlor_R3\n",
      "Player at new node: Parlor_R3\n",
      "Player at new node: Parlor_R3\n",
      "Player at new node: Parlor_R3\n",
      "Player at new node: Parlor_R3\n",
      "Player at new node: Parlor_R3\n",
      "Player at new node: Parlor_R3\n",
      "Player at new node: Parlor_R3\n",
      "Player at new node: Parlor_R3\n",
      "Player at new node: Parlor_R3\n",
      "Player at new node: Parlor_R3\n",
      "Player at new node: Parlor_R3\n",
      "Player at new node: Parlor_R3\n",
      "Player at new node: Parlor_R3\n",
      "Player at new node: Parlor_R3\n",
      "Player at new node: Parlor_R3\n",
      "Player at new node: Parlor_R3\n",
      "Player at new node: Parlor_R3\n",
      "Player at new node: Parlor_R3\n",
      "Player at new node: Parlor_R3\n",
      "Player at new node: Parlor_R3\n",
      "Player at new node: Parlor_R3\n",
      "Player at new node: Parlor_R3\n",
      "Player at new node: Parlor_R3\n",
      "Player at new node: Parlor_R3\n",
      "Player at new node: Parlor_R3\n",
      "Player at new node: Parlor_R3\n",
      "Player at new node: Parlor_R3\n",
      "Player at new node: Parlor_R3\n",
      "Player at new node: Parlor_R3\n",
      "Player at new node: Parlor_R3\n",
      "Player at new node: Parlor_R3\n",
      "Player at new node: Parlor_B\n",
      "Next Node: Climb_Room_T\n",
      "Player at new node: Climb_Room_T\n",
      "Next Node: Climb_Room_R3\n",
      "Player at new node: Climb_Room_R3\n",
      "Next Node: Old_Mother_Brain_L\n",
      "Player at new node: Old_Mother_Brain_L\n",
      "Next Node: Old_Mother_Brain_R\n",
      "Player at new node: Old_Mother_Brain_R\n",
      "Next Node: Blue_Brinstar_Elevator_L\n",
      "Player at new node: Blue_Brinstar_Elevator_L\n",
      "Next Node: Blue_Brinstar_Elevator_ET\n",
      "Player at new node: Blue_Brinstar_Elevator_ET\n",
      "Next Node: Morph_Ball_Room_EB\n",
      "Player at new node: Morph_Ball_Room_EB\n",
      "Next Node: Morph_Ball_Room_MB\n",
      "Player at new node: Morph_Ball_Room_MB\n",
      "Next Node: Morph_Ball_Room_MB\n",
      "Player got new item: ISet(['MB'])\n",
      "Next Node: Morph_Ball_Room_R\n",
      "Player at new node: Morph_Ball_Room_R\n",
      "Next Node: Construction_Zone_L1\n"
     ]
    }
   ],
   "source": [
    "# X Only update position on door transition\n",
    "# ? Abstraction is room-aware\n",
    "# X Only update position when you're close to the node\n",
    "# Abstractify can handle bosses\n",
    "node_inference_time_ms = \"No Clue\"\n",
    "path_inference_time_ms = \"No Clue\"\n",
    "\n",
    "current_node = \"Landing_Site_L2\"\n",
    "current_goal = \"Landing_Site_L2\"\n",
    "map_info.current_goal_node = current_goal\n",
    "current_itemset = ItemSet()\n",
    "update = False\n",
    "while True:\n",
    "    # Check our current state estimate and track whether it changed\n",
    "    current_estimate = map_info.estimate_state()\n",
    "    if current_estimate is not None:\n",
    "        temp_node, temp_itemset = current_estimate\n",
    "        # New itemset info\n",
    "        if temp_itemset != current_itemset:\n",
    "            print(f\"Player got new item: {temp_itemset}\")\n",
    "            update = True\n",
    "        # New node info\n",
    "        if temp_node != current_node:\n",
    "                print(f\"Player at new node: {temp_node}\")\n",
    "                update = True\n",
    "    # Process and update the goal and track whether it changed\n",
    "    with open(\"./goal.json\", \"r\") as f:\n",
    "        temp_goal = json.loads(f.read())[\"goal\"]\n",
    "    if temp_goal != map_info.current_goal_node and temp_goal in map_info.node_ids:\n",
    "        print(f\"Player has new goal: {temp_goal}\")\n",
    "        map_info.current_goal_node = temp_goal\n",
    "        update = True\n",
    "        \n",
    "        #TODO: New goal\n",
    "    if update:\n",
    "        if current_estimate is None:\n",
    "            current_estimate = (current_node, current_itemset)\n",
    "            #print(current_estimate)\n",
    "        update = False\n",
    "        t0 = time.time()\n",
    "        next_node = map_info.get_step_advice(current_estimate, policy_id)\n",
    "        t1 = time.time()\n",
    "        node_inference_time_ms = int((t1-t0) * 1000)\n",
    "        if next_node is not None:\n",
    "            current_node = temp_node\n",
    "            current_itemset = temp_itemset\n",
    "            print(f\"Next Node: {next_node}\")\n",
    "            # Write out the new advice\n",
    "            if next_node in map_info.all_posns:\n",
    "                next_node_pos = map_info.all_posns[next_node]\n",
    "                advice = mk_advice(next_node_pos.x, next_node_pos.y, node_inference_time_ms, path_inference_time_ms)\n",
    "                f = open(\"../output/snes9x_bridge.lua\", \"w\")\n",
    "                f.write(advice)\n",
    "                f.close()\n",
    "            else:\n",
    "                print(f\"I don't know where {temp_node} is\")\n",
    "            # Write out the new line data\n",
    "            edges = map_info.get_edge_advice2((current_node, current_itemset), policy_id)\n",
    "            t0 = time.time()\n",
    "            lines = generate_lines(get_path(edges))\n",
    "            t1 = time.time()\n",
    "            path_inference_time_ms = int((t1-t0) * 1000)\n",
    "            lstr = json.dumps(lines)\n",
    "            with open(\"lines.json\", \"w\") as f:\n",
    "                f.write(lstr)\n",
    "        else:\n",
    "            #print(\"Decided not to gaslight you into believing you were at {next_node}\")\n",
    "            pass\n",
    "    # Update the position tracking file\n",
    "    pos = get_onmap_pos()\n",
    "    posd[\"X\"] = int(pos.x)\n",
    "    posd[\"Y\"] = int(pos.y)\n",
    "    dstr = json.dumps(posd)\n",
    "    with open(\"player_pos.json\", \"w\") as f:\n",
    "        f.write(dstr)\n",
    "    time.sleep(0.1)\n",
    "\n",
    "#TODO: Add node names - Go from A to B + inference time to the UI\n",
    "#TODO: Path file JSON? -> show on some kind of map\n",
    "#TOOD: bio-64 and bio-128 / 1024?\n",
    "\n",
    "# TODO: \"skilled\" advice using impossible items\n",
    "# ~50% of within-room edges unguarded"
   ]
  },
  {
   "cell_type": "code",
   "execution_count": 62,
   "id": "54a8cfa8-6f1a-46fa-a61d-edb88c33dabc",
   "metadata": {},
   "outputs": [
    {
     "name": "stdout",
     "output_type": "stream",
     "text": [
      "c(419,231)\n"
     ]
    }
   ],
   "source": [
    "print(map_info.read_state().position)"
   ]
  },
  {
   "cell_type": "code",
   "execution_count": 116,
   "id": "d6f6dde3-de19-477b-b1a9-b52f1e9ad1bc",
   "metadata": {},
   "outputs": [
    {
     "data": {
      "text/plain": [
       "('Big_Pink_M2', ISet(['B', 'M', 'MB', 'CB', 'E']))"
      ]
     },
     "execution_count": 116,
     "metadata": {},
     "output_type": "execute_result"
    }
   ],
   "source": [
    "(current_node, current_itemset)"
   ]
  },
  {
   "cell_type": "code",
   "execution_count": 154,
   "id": "c3605b4d-8d27-40b1-8d39-addc66d52c5e",
   "metadata": {},
   "outputs": [
    {
     "name": "stdout",
     "output_type": "stream",
     "text": [
      "['Big_Pink_M2', 'Big_Pink_R1', 'PreSpore_Kihunters_L', 'PreSpore_Kihunters_T', 'Spore_Spawn_B', 'Spore_Spawn_Spore_Spawn', 'Spore_Spawn_R', 'Spore_Spawn_Supers_L1', 'Spore_Spawn_Supers_S', 'Spore_Spawn_Supers_S', 'Spore_Spawn_Supers_L2', 'Spore_Spawn_Farm_R', 'Spore_Spawn_Farm_L', 'Big_Pink_R3', 'Big_Pink_R4', 'Green_Hill_Zone_L', 'Green_Hill_Zone_R2', 'Noob_Bridge_L', 'Noob_Bridge_R', 'Red_Tower_L1', 'Red_Tower_R2', 'Bat_Room_L', 'Bat_Room_R', 'Spazer_Troll_L', 'Spazer_Troll_R1', 'Spazer_L', 'Spazer_Spazer', 'Spazer_Spazer', 'Spazer_L', 'Spazer_Troll_R1', 'Spazer_Troll_R2', 'West_Tunnel_L', 'West_Tunnel_R', 'Glass_Tunnel_L', 'Glass_Tunnel_R1', 'East_Tunnel_L', 'East_Tunnel_R2', 'Warehouse_Entrance_L', 'Warehouse_Entrance_R', 'Warehouse_Zeelas_L1', 'Warehouse_Zeelas_T', 'Warehouse_Kihunters_B', 'Warehouse_Kihunters_R2', 'Baby_Kraid_L', 'Baby_Kraid_R', 'Kraid_Eye_Door_L', 'Kraid_Eye_Door_R2', 'Kraid_L', 'Kraid_Kraid', 'Kraid_Kraid', 'Kraid_R', 'Varia_Suit_L', 'Varia_Suit_V', 'Varia_Suit_V', 'Varia_Suit_L', 'Kraid_R', 'Kraid_L', 'Kraid_Eye_Door_R2', 'Kraid_Eye_Door_L', 'Baby_Kraid_R', 'Baby_Kraid_L', 'Warehouse_Kihunters_R2', 'Warehouse_Kihunters_B', 'Warehouse_Zeelas_T', 'Warehouse_Zeelas_L1', 'Warehouse_Entrance_R', 'Warehouse_Entrance_ET', 'Business_Center_EB', 'Business_Center_L3', 'Hi_Jump_Energy_R', 'Hi_Jump_Energy_L', 'Hi_Jump_R', 'Hi_Jump_HJ', 'Hi_Jump_HJ', 'Hi_Jump_R', 'Hi_Jump_Energy_L', 'Hi_Jump_Energy_R', 'Business_Center_L3', 'Business_Center_R1', 'Cathedral_Entrance_L', 'Cathedral_Entrance_R', 'Cathedral_L', 'Cathedral_R', 'Rising_Tide_L', 'Rising_Tide_R', 'Bubble_Mountain_L3', 'Bubble_Mountain_R1', 'Bat_Cave_L', 'Bat_Cave_R', 'Go_Fast_L', 'Go_Fast_R', 'Speed_Booster_L', 'Speed_Booster_SB', 'Speed_Booster_SB', 'Speed_Booster_L', 'Go_Fast_R', 'Go_Fast_L', 'Bat_Cave_R', 'Bat_Cave_L', 'Bubble_Mountain_R1', 'Bubble_Mountain_L3', 'Upper_Norfair_Farm_R', 'Upper_Norfair_Farm_L1', 'Frog_Speedway_R', 'Frog_Speedway_L', 'Business_Save_R', 'Business_Save_L', 'Business_Center_R2', 'Business_Center_L1', 'Ice_Beam_Gate_R', 'Ice_Beam_Gate_L2', 'Ice_Beam_Acid_R', 'Ice_Beam_Acid_L', 'Ice_Beam_Snakes_R3', 'Ice_Beam_Snakes_R2', 'Ice_Beam_L', 'Ice_Beam_IB', 'Ice_Beam_IB', 'Ice_Beam_L', 'Ice_Beam_Snakes_R2', 'Ice_Beam_Snakes_R1', 'Ice_Beam_Tutorial_L', 'Ice_Beam_Tutorial_R', 'Ice_Beam_Gate_L1', 'Ice_Beam_Gate_R', 'Business_Center_L1', 'Business_Center_EB', 'Warehouse_Entrance_ET', 'Warehouse_Entrance_L', 'East_Tunnel_R2', 'East_Tunnel_L', 'Glass_Tunnel_R1', 'Glass_Tunnel_L', 'West_Tunnel_R', 'West_Tunnel_L', 'Spazer_Troll_R2', 'Spazer_Troll_L', 'Bat_Room_R', 'Bat_Room_L', 'Red_Tower_R2', 'Red_Tower_R1', 'Hellway_L', 'Hellway_R', 'Caterpillar_Room_L2', 'Caterpillar_Room_L3', 'Alpha_Power_Bombs_R', 'Alpha_Power_Bombs_PB', 'Alpha_Power_Bombs_PB', 'Alpha_Power_Bombs_R', 'Caterpillar_Room_L3', 'Caterpillar_Room_L2', 'Hellway_R', 'Hellway_L', 'Red_Tower_R1', 'Red_Tower_R2', 'Bat_Room_L', 'Bat_Room_R', 'Spazer_Troll_L', 'Spazer_Troll_R2', 'West_Tunnel_L', 'West_Tunnel_R', 'Glass_Tunnel_L', 'Glass_Tunnel_R1', 'East_Tunnel_L', 'East_Tunnel_R2', 'Warehouse_Entrance_L', 'Warehouse_Entrance_ET', 'Business_Center_EB', 'Business_Center_L1', 'Ice_Beam_Gate_R', 'Ice_Beam_Gate_L3', 'Crumble_Shaft_R1', 'Crumble_Shaft_R2', 'Crocomire_Speedway_L2', 'Crocomire_Speedway_B', 'Crocomire_T', 'Crocomire_Crocomire', 'Crocomire_Crocomire', 'Crocomire_L', 'Crocomire_Farm_R1', 'Crocomire_Farm_B', 'PostCroc_Shaft_T', 'PostCroc_Shaft_B', 'Grapple_Yump_T', 'Grapple_Yump_L', 'Grapple_R2', 'Grapple_G', 'Grapple_G', 'Grapple_R2', 'Grapple_Yump_L', 'Grapple_Yump_T', 'PostCroc_Shaft_B', 'PostCroc_Shaft_T', 'Crocomire_Farm_B', 'Crocomire_Farm_R1', 'Crocomire_L', 'Crocomire_T', 'Crocomire_Speedway_B', 'Crocomire_Speedway_L1', 'Crocomire_Escape_R', 'Crocomire_Escape_L', 'Business_Center_R3', 'Business_Center_EB', 'Warehouse_Entrance_ET', 'Warehouse_Entrance_L', 'East_Tunnel_R2', 'East_Tunnel_L', 'Glass_Tunnel_R1', 'Glass_Tunnel_L', 'West_Tunnel_R', 'West_Tunnel_L', 'Spazer_Troll_R2', 'Spazer_Troll_L', 'Bat_Room_R', 'Bat_Room_L', 'Red_Tower_R2', 'Red_Tower_L2', 'Red_Brinstar_Firefleas_R', 'Red_Brinstar_Firefleas_L', 'XRay_R', 'XRay_XR', 'XRay_XR', 'XRay_R', 'Red_Brinstar_Firefleas_L', 'Red_Brinstar_Firefleas_R', 'Red_Tower_L2', 'Red_Tower_R1', 'Hellway_L', 'Hellway_R', 'Caterpillar_Room_L2', 'Caterpillar_Room_EB', 'Caterpillar_Elevator_ET', 'Caterpillar_Elevator_T', 'Crateria_Kihunters_B', 'Crateria_Kihunters_R', 'Moat_L', 'Moat_R', 'West_Ocean_L2', 'West_Ocean_R6', 'Wrecked_Ship_Entrance_L', 'Wrecked_Ship_Entrance_R', 'Wrecked_Ship_Main_L1', 'Wrecked_Ship_Main_B', 'Basement_T', 'Basement_R', 'Phantoon_L', 'Phantoon_Phantoon', 'Phantoon_Phantoon', 'Phantoon_L', 'Basement_R', 'Basement_T', 'Wrecked_Ship_Main_B', 'Wrecked_Ship_Main_T', 'Attic_B', 'Attic_L', 'West_Ocean_R1', 'West_Ocean_R3', 'Bowling_Path_L', 'Bowling_Path_R', 'Ocean_Ship_Trans_L', 'Ocean_Ship_Trans_R', 'Bowling_Alley_L2', 'Bowling_Alley_L3', 'Gravity_R', 'Gravity_GS', 'Gravity_GS', 'Gravity_L', 'West_Ocean_R5', 'West_Ocean_L2', 'Moat_R', 'Moat_L', 'Crateria_Kihunters_R', 'Crateria_Kihunters_B', 'Caterpillar_Elevator_T', 'Caterpillar_Elevator_ET', 'Caterpillar_Room_EB', 'Caterpillar_Room_L2', 'Hellway_R', 'Hellway_L', 'Red_Tower_R1', 'Red_Tower_R2', 'Bat_Room_L', 'Bat_Room_R', 'Spazer_Troll_L', 'Spazer_Troll_R2', 'West_Tunnel_L', 'West_Tunnel_R', 'Glass_Tunnel_L', 'Glass_Tunnel_T', 'Main_Street_B', 'Main_Street_R1', 'Mount_Everest_L1', 'Mount_Everest_R', 'Crab_Shaft_L', 'Crab_Shaft_R', 'Aqueduct_L1', 'Aqueduct_T', 'Botwoon_Hallway_B', 'Botwoon_Hallway_R', 'Botwoon_L', 'Botwoon_Botwoon', 'Botwoon_R', 'Botwoon_Energy_L', 'Botwoon_Energy_R', 'Halfie_Climb_L2', 'Halfie_Climb_R1', 'Colosseum_L', 'Colosseum_R2', 'The_Precious_Room_L1', 'The_Precious_Room_L2', 'Draygon_R', 'Draygon_Draygon', 'Draygon_Draygon', 'Draygon_L', 'Space_Jump_R', 'Space_Jump_SJ', 'Space_Jump_SJ', 'Space_Jump_R', 'Draygon_L', 'Draygon_R', 'The_Precious_Room_L2', 'The_Precious_Room_L1', 'Colosseum_R2', 'Colosseum_L', 'Halfie_Climb_R1', 'Halfie_Climb_L1', 'Cactus_Alley_R', 'Cactus_Alley_L', 'Cactus_Hallway_R', 'Cactus_Hallway_L', 'Butterfly_Room_R', 'Butterfly_Room_L', 'Plasma_Spark_R3', 'Plasma_Spark_R1', 'Kassiuz_L', 'Kassiuz_R', 'Plasma_Tutorial_L', 'Plasma_Tutorial_R', 'Plasma_L', 'Plasma_PLB', 'Plasma_PLB', 'Plasma_L', 'Plasma_Tutorial_R', 'Plasma_Tutorial_L', 'Kassiuz_R', 'Kassiuz_L', 'Plasma_Spark_R1', 'Plasma_Spark_B', 'Zip_Tube_T', 'Zip_Tube_B', 'Oasis_T', 'Oasis_L', 'West_Sand_Hall_R', 'West_Sand_Hall_L', 'Tiny_Crab_R', 'Tiny_Crab_L', 'Crab_Hole_R1', 'Crab_Hole_L2', 'East_Tunnel_R1', 'East_Tunnel_R2', 'Warehouse_Entrance_L', 'Warehouse_Entrance_ET', 'Business_Center_EB', 'Business_Center_R1', 'Cathedral_Entrance_L', 'Cathedral_Entrance_R', 'Cathedral_L', 'Cathedral_R', 'Rising_Tide_L', 'Rising_Tide_R', 'Bubble_Mountain_L3', 'Bubble_Mountain_B', 'Purple_Shaft_T', 'Purple_Shaft_R2', 'Magdollite_Tunnel_L', 'Magdollite_Tunnel_R', 'Kronic_Boost_L1', 'Kronic_Boost_L3', 'Lava_Dive_R', 'Lava_Dive_L', 'Lower_Elevator_R', 'Lower_Elevator_ET', 'Main_Hall_EB', 'Main_Hall_L', 'Water_Closet_R1', 'Water_Closet_Drain', 'Water_Closet_Drain', 'Water_Closet_R1', 'Main_Hall_L', 'Main_Hall_R', 'Fast_Pillars_Setup_L1', 'Fast_Pillars_Setup_R2', 'Pillars_L', 'Pillars_R', 'The_Worst_Room_in_the_Game_L2', 'The_Worst_Room_in_the_Game_R', 'Amphitheatre_L', 'Amphitheatre_R', 'Red_Kihunter_Shaft_L', 'Red_Kihunter_Shaft_B', 'Wasteland_T', 'Wasteland_L', 'Metal_Pirates_R', 'Metal_Pirates_L', 'Plowerhouse_R', 'Plowerhouse_L', 'Lower_Norfair_Farm_R', 'Lower_Norfair_Farm_L', 'Ridley_R', 'Ridley_Ridley', 'Ridley_Ridley', 'Ridley_R', 'Lower_Norfair_Farm_L', 'Lower_Norfair_Farm_R', 'Plowerhouse_L', 'Plowerhouse_R', 'Metal_Pirates_L', 'Metal_Pirates_R', 'Wasteland_L', 'Wasteland_T', 'Red_Kihunter_Shaft_B', 'Red_Kihunter_Shaft_R1', 'Lower_Firefleas_L2', 'Lower_Firefleas_L1', 'Hotarubi_R', 'Hotarubi_L', 'Three_Musketeers_R', 'Three_Musketeers_L', 'Single_Chamber_R1', 'Single_Chamber_L', 'Bubble_Mountain_R2', 'Bubble_Mountain_L3', 'Upper_Norfair_Farm_R', 'Upper_Norfair_Farm_L1', 'Frog_Speedway_R', 'Frog_Speedway_L', 'Business_Save_R', 'Business_Save_L', 'Business_Center_R2', 'Business_Center_EB', 'Warehouse_Entrance_ET', 'Warehouse_Entrance_L', 'East_Tunnel_R2', 'East_Tunnel_L', 'Glass_Tunnel_R1', 'Glass_Tunnel_T', 'Main_Street_B', 'Main_Street_R1', 'Mount_Everest_L1', 'Mount_Everest_T', 'McElligots_Pool_B', 'McElligots_Pool_L', 'Caterpillar_Room_R1', 'Caterpillar_Room_EB', 'Caterpillar_Elevator_ET', 'Caterpillar_Elevator_T', 'Crateria_Kihunters_B', 'Crateria_Kihunters_L', 'Crateria_Tube_R', 'Crateria_Tube_L', 'Landing_Site_R2', 'Landing_Site_L1', 'Gauntlet_Entrance_R', 'Gauntlet_Entrance_L', 'Gauntlet_R', 'Gauntlet_L', 'Green_Pirates_Shaft_R1', 'Green_Pirates_Shaft_R3', 'Statue_Corridor_L', 'Statue_Corridor_R', 'Statues_L', 'Statues_ET', 'Tourian_Elevator_EB', 'Tourian_Elevator_L', 'Metroid_1_R', 'Metroid_1_L', 'Metroid_2_R1', 'Metroid_2_R2', 'Metroid_3_L', 'Metroid_3_R', 'Metroid_4_L', 'Metroid_4_B', 'Blue_Hoppers_T', 'Blue_Hoppers_L', 'RIP_Torizo_R', 'RIP_Torizo_L', 'Metroid_Skip_R', 'Metroid_Skip_L', 'Seaweed_Room_R1', 'Seaweed_Room_R2', 'Tourian_Eye_Door_L', 'Tourian_Eye_Door_R', 'Rinka_Shaft_L1', 'Rinka_Shaft_L3', 'Mother_Brain_R', 'Mother_Brain_Mother_Brain', 'Mother_Brain_Mother_Brain', 'Mother_Brain_L', 'Escape_1_R', 'Escape_1_B', 'Escape_2_T', 'Escape_2_R', 'Escape_3_L', 'Escape_3_R', 'Escape_4_L', 'Escape_4_R', 'Climb_Room_L', 'Climb_Room_T', 'Parlor_B', 'Parlor_R1']\n",
      "CPU times: user 346 ms, sys: 0 ns, total: 346 ms\n",
      "Wall time: 346 ms\n"
     ]
    },
    {
     "data": {
      "text/plain": [
       "{'next_step': [(c(274,631), c(303.0,535.5))],\n",
       " 'next_item': [(c(303.0,535.5), c(304.0,535.5)),\n",
       "  (c(304.0,535.5), c(359.5,528.0)),\n",
       "  (c(359.5,528.0), c(359.5,527.0)),\n",
       "  (c(359.5,527.0), c(367.0,487.5)),\n",
       "  (c(367.0,487.5), c(368.0,487.5)),\n",
       "  (c(368.0,487.5), c(394,615))],\n",
       " 'remaining_path': [(c(394,615), c(394,615)),\n",
       "  (c(394,615), c(368.0,615.5)),\n",
       "  (c(368.0,615.5), c(367.0,615.5)),\n",
       "  (c(367.0,615.5), c(320.0,615.5)),\n",
       "  (c(320.0,615.5), c(319.0,615.5)),\n",
       "  (c(319.0,615.5), c(303.0,631.5)),\n",
       "  (c(303.0,631.5), c(304.0,631.5)),\n",
       "  (c(304.0,631.5), c(431.0,679.5)),\n",
       "  (c(431.0,679.5), c(432.0,679.5)),\n",
       "  (c(432.0,679.5), c(527.0,679.5)),\n",
       "  (c(527.0,679.5), c(528.0,679.5)),\n",
       "  (c(528.0,679.5), c(543.0,759.5)),\n",
       "  (c(543.0,759.5), c(544.0,759.5)),\n",
       "  (c(544.0,759.5), c(575.0,759.5)),\n",
       "  (c(575.0,759.5), c(576.0,759.5)),\n",
       "  (c(576.0,759.5), c(607.0,743.5)),\n",
       "  (c(607.0,743.5), c(608.0,743.5)),\n",
       "  (c(608.0,743.5), c(619,745)),\n",
       "  (c(619,745), c(619,745)),\n",
       "  (c(619,745), c(608.0,743.5)),\n",
       "  (c(608.0,743.5), c(607.0,743.5)),\n",
       "  (c(607.0,743.5), c(607.0,759.5)),\n",
       "  (c(607.0,759.5), c(608.0,759.5)),\n",
       "  (c(608.0,759.5), c(623.0,759.5)),\n",
       "  (c(623.0,759.5), c(624.0,759.5)),\n",
       "  (c(624.0,759.5), c(639.0,759.5)),\n",
       "  (c(639.0,759.5), c(640.0,759.5)),\n",
       "  (c(640.0,759.5), c(655.0,759.5)),\n",
       "  (c(655.0,759.5), c(656.0,759.5)),\n",
       "  (c(656.0,759.5), c(703.0,759.5)),\n",
       "  (c(703.0,759.5), c(704.0,759.5)),\n",
       "  (c(704.0,759.5), c(727.5,768.0)),\n",
       "  (c(727.5,768.0), c(727.5,767.0)),\n",
       "  (c(727.5,767.0), c(751.0,775.5)),\n",
       "  (c(751.0,775.5), c(752.0,775.5)),\n",
       "  (c(752.0,775.5), c(847.0,775.5)),\n",
       "  (c(847.0,775.5), c(848.0,775.5)),\n",
       "  (c(848.0,775.5), c(879.0,775.5)),\n",
       "  (c(879.0,775.5), c(880.0,775.5)),\n",
       "  (c(880.0,775.5), c(911.0,775.5)),\n",
       "  (c(911.0,775.5), c(912.0,775.5)),\n",
       "  (c(912.0,775.5), c(919,777)),\n",
       "  (c(919,777), c(919,777)),\n",
       "  (c(919,777), c(912.0,775.5)),\n",
       "  (c(912.0,775.5), c(911.0,775.5)),\n",
       "  (c(911.0,775.5), c(880.0,775.5)),\n",
       "  (c(880.0,775.5), c(879.0,775.5)),\n",
       "  (c(879.0,775.5), c(848.0,775.5)),\n",
       "  (c(848.0,775.5), c(847.0,775.5)),\n",
       "  (c(847.0,775.5), c(752.0,775.5)),\n",
       "  (c(752.0,775.5), c(751.0,775.5)),\n",
       "  (c(751.0,775.5), c(727.5,767.0)),\n",
       "  (c(727.5,767.0), c(727.5,768.0)),\n",
       "  (c(727.5,768.0), c(704.0,759.5)),\n",
       "  (c(704.0,759.5), c(703.0,759.5)),\n",
       "  (c(703.0,759.5), c(663.5,767.0)),\n",
       "  (c(663.5,767.0), c(663.5,784.0)),\n",
       "  (c(663.5,784.0), c(656.0,871.5)),\n",
       "  (c(656.0,871.5), c(655.0,871.5)),\n",
       "  (c(655.0,871.5), c(624.0,887.5)),\n",
       "  (c(624.0,887.5), c(623.0,887.5)),\n",
       "  (c(623.0,887.5), c(611,890)),\n",
       "  (c(611,890), c(611,890)),\n",
       "  (c(611,890), c(623.0,887.5)),\n",
       "  (c(623.0,887.5), c(624.0,887.5)),\n",
       "  (c(624.0,887.5), c(655.0,871.5)),\n",
       "  (c(655.0,871.5), c(656.0,871.5)),\n",
       "  (c(656.0,871.5), c(671.0,839.5)),\n",
       "  (c(671.0,839.5), c(672.0,839.5)),\n",
       "  (c(672.0,839.5), c(719.0,839.5)),\n",
       "  (c(719.0,839.5), c(720.0,839.5)),\n",
       "  (c(720.0,839.5), c(767.0,855.5)),\n",
       "  (c(767.0,855.5), c(768.0,855.5)),\n",
       "  (c(768.0,855.5), c(847.0,855.5)),\n",
       "  (c(847.0,855.5), c(848.0,855.5)),\n",
       "  (c(848.0,855.5), c(879.0,823.5)),\n",
       "  (c(879.0,823.5), c(880.0,823.5)),\n",
       "  (c(880.0,823.5), c(895.0,807.5)),\n",
       "  (c(895.0,807.5), c(896.0,807.5)),\n",
       "  (c(896.0,807.5), c(1087.0,823.5)),\n",
       "  (c(1087.0,823.5), c(1088.0,823.5)),\n",
       "  (c(1088.0,823.5), c(1099,822)),\n",
       "  (c(1099,822), c(1099,822)),\n",
       "  (c(1099,822), c(1088.0,823.5)),\n",
       "  (c(1088.0,823.5), c(1087.0,823.5)),\n",
       "  (c(1087.0,823.5), c(896.0,807.5)),\n",
       "  (c(896.0,807.5), c(895.0,807.5)),\n",
       "  (c(895.0,807.5), c(880.0,823.5)),\n",
       "  (c(880.0,823.5), c(879.0,823.5)),\n",
       "  (c(879.0,823.5), c(848.0,855.5)),\n",
       "  (c(848.0,855.5), c(847.0,871.5)),\n",
       "  (c(847.0,871.5), c(816.0,871.5)),\n",
       "  (c(816.0,871.5), c(815.0,871.5)),\n",
       "  (c(815.0,871.5), c(688.0,871.5)),\n",
       "  (c(688.0,871.5), c(687.0,871.5)),\n",
       "  (c(687.0,871.5), c(672.0,871.5)),\n",
       "  (c(672.0,871.5), c(671.0,871.5)),\n",
       "  (c(671.0,871.5), c(656.0,839.5)),\n",
       "  (c(656.0,839.5), c(655.0,839.5)),\n",
       "  (c(655.0,839.5), c(592.0,839.5)),\n",
       "  (c(592.0,839.5), c(591.0,839.5)),\n",
       "  (c(591.0,839.5), c(560.0,839.5)),\n",
       "  (c(560.0,839.5), c(559.0,839.5)),\n",
       "  (c(559.0,839.5), c(575.0,823.5)),\n",
       "  (c(575.0,823.5), c(576.0,823.5)),\n",
       "  (c(576.0,823.5), c(588,823)),\n",
       "  (c(588,823), c(588,823)),\n",
       "  (c(588,823), c(576.0,823.5)),\n",
       "  (c(576.0,823.5), c(575.0,823.5)),\n",
       "  (c(575.0,823.5), c(559.0,807.5)),\n",
       "  (c(559.0,807.5), c(560.0,807.5)),\n",
       "  (c(560.0,807.5), c(591.0,807.5)),\n",
       "  (c(591.0,807.5), c(592.0,807.5)),\n",
       "  (c(592.0,807.5), c(655.0,839.5)),\n",
       "  (c(655.0,839.5), c(656.0,839.5)),\n",
       "  (c(656.0,839.5), c(663.5,784.0)),\n",
       "  (c(663.5,784.0), c(663.5,767.0)),\n",
       "  (c(663.5,767.0), c(656.0,759.5)),\n",
       "  (c(656.0,759.5), c(655.0,759.5)),\n",
       "  (c(655.0,759.5), c(640.0,759.5)),\n",
       "  (c(640.0,759.5), c(639.0,759.5)),\n",
       "  (c(639.0,759.5), c(624.0,759.5)),\n",
       "  (c(624.0,759.5), c(623.0,759.5)),\n",
       "  (c(623.0,759.5), c(608.0,759.5)),\n",
       "  (c(608.0,759.5), c(607.0,759.5)),\n",
       "  (c(607.0,759.5), c(576.0,759.5)),\n",
       "  (c(576.0,759.5), c(575.0,759.5)),\n",
       "  (c(575.0,759.5), c(544.0,759.5)),\n",
       "  (c(544.0,759.5), c(543.0,759.5)),\n",
       "  (c(543.0,759.5), c(543.0,615.5)),\n",
       "  (c(543.0,615.5), c(544.0,615.5)),\n",
       "  (c(544.0,615.5), c(591.0,615.5)),\n",
       "  (c(591.0,615.5), c(592.0,615.5)),\n",
       "  (c(592.0,615.5), c(592.0,647.5)),\n",
       "  (c(592.0,647.5), c(591.0,647.5)),\n",
       "  (c(591.0,647.5), c(564,649)),\n",
       "  (c(564,649), c(564,649)),\n",
       "  (c(564,649), c(591.0,647.5)),\n",
       "  (c(591.0,647.5), c(592.0,647.5)),\n",
       "  (c(592.0,647.5), c(592.0,615.5)),\n",
       "  (c(592.0,615.5), c(591.0,615.5)),\n",
       "  (c(591.0,615.5), c(544.0,615.5)),\n",
       "  (c(544.0,615.5), c(543.0,615.5)),\n",
       "  (c(543.0,615.5), c(543.0,759.5)),\n",
       "  (c(543.0,759.5), c(544.0,759.5)),\n",
       "  (c(544.0,759.5), c(575.0,759.5)),\n",
       "  (c(575.0,759.5), c(576.0,759.5)),\n",
       "  (c(576.0,759.5), c(607.0,759.5)),\n",
       "  (c(607.0,759.5), c(608.0,759.5)),\n",
       "  (c(608.0,759.5), c(623.0,759.5)),\n",
       "  (c(623.0,759.5), c(624.0,759.5)),\n",
       "  (c(624.0,759.5), c(639.0,759.5)),\n",
       "  (c(639.0,759.5), c(640.0,759.5)),\n",
       "  (c(640.0,759.5), c(655.0,759.5)),\n",
       "  (c(655.0,759.5), c(656.0,759.5)),\n",
       "  (c(656.0,759.5), c(663.5,767.0)),\n",
       "  (c(663.5,767.0), c(663.5,784.0)),\n",
       "  (c(663.5,784.0), c(656.0,839.5)),\n",
       "  (c(656.0,839.5), c(655.0,839.5)),\n",
       "  (c(655.0,839.5), c(544.0,855.5)),\n",
       "  (c(544.0,855.5), c(543.0,855.5)),\n",
       "  (c(543.0,855.5), c(543.0,903.5)),\n",
       "  (c(543.0,903.5), c(736.0,903.5)),\n",
       "  (c(736.0,903.5), c(743.5,943.0)),\n",
       "  (c(743.5,943.0), c(743.5,944.0)),\n",
       "  (c(743.5,944.0), c(688.0,951.5)),\n",
       "  (c(688.0,951.5), c(687.0,951.5)),\n",
       "  (c(687.0,951.5), c(663.5,975.0)),\n",
       "  (c(663.5,975.0), c(663.5,976.0)),\n",
       "  (c(663.5,976.0), c(663.5,1055.0)),\n",
       "  (c(663.5,1055.0), c(663.5,1056.0)),\n",
       "  (c(663.5,1056.0), c(560.0,1047.5)),\n",
       "  (c(560.0,1047.5), c(559.0,1047.5)),\n",
       "  (c(559.0,1047.5), c(548,1047)),\n",
       "  (c(548,1047), c(548,1047)),\n",
       "  (c(548,1047), c(559.0,1047.5)),\n",
       "  (c(559.0,1047.5), c(560.0,1047.5)),\n",
       "  (c(560.0,1047.5), c(663.5,1056.0)),\n",
       "  (c(663.5,1056.0), c(663.5,1055.0)),\n",
       "  (c(663.5,1055.0), c(663.5,976.0)),\n",
       "  (c(663.5,976.0), c(663.5,975.0)),\n",
       "  (c(663.5,975.0), c(687.0,951.5)),\n",
       "  (c(687.0,951.5), c(688.0,951.5)),\n",
       "  (c(688.0,951.5), c(743.5,944.0)),\n",
       "  (c(743.5,944.0), c(743.5,943.0)),\n",
       "  (c(743.5,943.0), c(544.0,903.5)),\n",
       "  (c(544.0,903.5), c(735.0,903.5)),\n",
       "  (c(735.0,903.5), c(672.0,887.5)),\n",
       "  (c(672.0,887.5), c(671.0,887.5)),\n",
       "  (c(671.0,887.5), c(663.5,784.0)),\n",
       "  (c(663.5,784.0), c(663.5,767.0)),\n",
       "  (c(663.5,767.0), c(656.0,759.5)),\n",
       "  (c(656.0,759.5), c(655.0,759.5)),\n",
       "  (c(655.0,759.5), c(640.0,759.5)),\n",
       "  (c(640.0,759.5), c(639.0,759.5)),\n",
       "  (c(639.0,759.5), c(624.0,759.5)),\n",
       "  (c(624.0,759.5), c(623.0,759.5)),\n",
       "  (c(623.0,759.5), c(608.0,759.5)),\n",
       "  (c(608.0,759.5), c(607.0,759.5)),\n",
       "  (c(607.0,759.5), c(576.0,759.5)),\n",
       "  (c(576.0,759.5), c(575.0,759.5)),\n",
       "  (c(575.0,759.5), c(544.0,759.5)),\n",
       "  (c(544.0,759.5), c(543.0,759.5)),\n",
       "  (c(543.0,759.5), c(528.0,711.5)),\n",
       "  (c(528.0,711.5), c(527.0,711.5)),\n",
       "  (c(527.0,711.5), c(400.0,711.5)),\n",
       "  (c(400.0,711.5), c(399.0,711.5)),\n",
       "  (c(399.0,711.5), c(373,711)),\n",
       "  (c(373,711), c(373,711)),\n",
       "  (c(373,711), c(399.0,711.5)),\n",
       "  (c(399.0,711.5), c(400.0,711.5)),\n",
       "  (c(400.0,711.5), c(527.0,711.5)),\n",
       "  (c(527.0,711.5), c(528.0,711.5)),\n",
       "  (c(528.0,711.5), c(543.0,615.5)),\n",
       "  (c(543.0,615.5), c(544.0,615.5)),\n",
       "  (c(544.0,615.5), c(591.0,615.5)),\n",
       "  (c(591.0,615.5), c(592.0,615.5)),\n",
       "  (c(592.0,615.5), c(599.5,528.0)),\n",
       "  (c(599.5,528.0), c(599.5,287.0)),\n",
       "  (c(599.5,287.0), c(599.5,272.0)),\n",
       "  (c(599.5,272.0), c(599.5,271.0)),\n",
       "  (c(599.5,271.0), c(623.0,231.5)),\n",
       "  (c(623.0,231.5), c(624.0,231.5)),\n",
       "  (c(624.0,231.5), c(655.0,231.5)),\n",
       "  (c(655.0,231.5), c(784.0,231.5)),\n",
       "  (c(784.0,231.5), c(847.0,231.5)),\n",
       "  (c(847.0,231.5), c(848.0,231.5)),\n",
       "  (c(848.0,231.5), c(855.5,303.0)),\n",
       "  (c(855.5,303.0), c(855.5,304.0)),\n",
       "  (c(855.5,304.0), c(895.0,311.5)),\n",
       "  (c(895.0,311.5), c(896.0,311.5)),\n",
       "  (c(896.0,311.5), c(896.0,311.5)),\n",
       "  (c(896.0,311.5), c(895.0,311.5)),\n",
       "  (c(895.0,311.5), c(855.5,304.0)),\n",
       "  (c(855.5,304.0), c(855.5,303.0)),\n",
       "  (c(855.5,303.0), c(855.5,176.0)),\n",
       "  (c(855.5,176.0), c(855.5,175.0)),\n",
       "  (c(855.5,175.0), c(784.0,167.5)),\n",
       "  (c(784.0,167.5), c(783.0,167.5)),\n",
       "  (c(783.0,167.5), c(703.0,199.5)),\n",
       "  (c(703.0,199.5), c(704.0,199.5)),\n",
       "  (c(704.0,199.5), c(735.0,199.5)),\n",
       "  (c(735.0,199.5), c(736.0,199.5)),\n",
       "  (c(736.0,199.5), c(751.0,199.5)),\n",
       "  (c(751.0,199.5), c(752.0,199.5)),\n",
       "  (c(752.0,199.5), c(768.0,215.5)),\n",
       "  (c(768.0,215.5), c(767.0,215.5)),\n",
       "  (c(767.0,215.5), c(759,217)),\n",
       "  (c(759,217), c(759,217)),\n",
       "  (c(759,217), c(752.0,215.5)),\n",
       "  (c(752.0,215.5), c(783.0,231.5)),\n",
       "  (c(783.0,231.5), c(655.0,231.5)),\n",
       "  (c(655.0,231.5), c(624.0,231.5)),\n",
       "  (c(624.0,231.5), c(623.0,231.5)),\n",
       "  (c(623.0,231.5), c(599.5,271.0)),\n",
       "  (c(599.5,271.0), c(599.5,272.0)),\n",
       "  (c(599.5,272.0), c(599.5,287.0)),\n",
       "  (c(599.5,287.0), c(599.5,528.0)),\n",
       "  (c(599.5,528.0), c(592.0,615.5)),\n",
       "  (c(592.0,615.5), c(591.0,615.5)),\n",
       "  (c(591.0,615.5), c(544.0,615.5)),\n",
       "  (c(544.0,615.5), c(543.0,615.5)),\n",
       "  (c(543.0,615.5), c(543.0,759.5)),\n",
       "  (c(543.0,759.5), c(544.0,759.5)),\n",
       "  (c(544.0,759.5), c(575.0,759.5)),\n",
       "  (c(575.0,759.5), c(576.0,759.5)),\n",
       "  (c(576.0,759.5), c(607.0,759.5)),\n",
       "  (c(607.0,759.5), c(608.0,759.5)),\n",
       "  (c(608.0,759.5), c(623.0,759.5)),\n",
       "  (c(623.0,759.5), c(624.0,759.5)),\n",
       "  (c(624.0,759.5), c(631.5,736.0)),\n",
       "  (c(631.5,736.0), c(631.5,735.0)),\n",
       "  (c(631.5,735.0), c(639.0,615.5)),\n",
       "  (c(639.0,615.5), c(640.0,615.5)),\n",
       "  (c(640.0,615.5), c(735.0,615.5)),\n",
       "  (c(735.0,615.5), c(736.0,615.5)),\n",
       "  (c(736.0,615.5), c(767.0,631.5)),\n",
       "  (c(767.0,631.5), c(768.0,631.5)),\n",
       "  (c(768.0,631.5), c(775.5,608.0)),\n",
       "  (c(775.5,608.0), c(775.5,607.0)),\n",
       "  (c(775.5,607.0), c(831.0,599.5)),\n",
       "  (c(831.0,599.5), c(832.0,599.5)),\n",
       "  (c(832.0,599.5), c(863.0,599.5)),\n",
       "  (c(863.0,599.5), c(864.0,599.5)),\n",
       "  (c(864.0,599.5), c(975.0,599.5)),\n",
       "  (c(975.0,599.5), c(976.0,599.5)),\n",
       "  (c(976.0,599.5), c(991.0,567.5)),\n",
       "  (c(991.0,567.5), c(992.0,567.5)),\n",
       "  (c(992.0,567.5), c(1103.0,583.5)),\n",
       "  (c(1103.0,583.5), c(1104.0,583.5)),\n",
       "  (c(1104.0,583.5), c(1104.0,615.5)),\n",
       "  (c(1104.0,615.5), c(1103.0,615.5)),\n",
       "  (c(1103.0,615.5), c(1072.0,631.5)),\n",
       "  (c(1072.0,631.5), c(1071.0,631.5)),\n",
       "  (c(1071.0,631.5), c(1060,632)),\n",
       "  (c(1060,632), c(1060,632)),\n",
       "  (c(1060,632), c(1071.0,631.5)),\n",
       "  (c(1071.0,631.5), c(1072.0,631.5)),\n",
       "  (c(1072.0,631.5), c(1103.0,615.5)),\n",
       "  (c(1103.0,615.5), c(1104.0,615.5)),\n",
       "  (c(1104.0,615.5), c(1104.0,583.5)),\n",
       "  (c(1104.0,583.5), c(1103.0,583.5)),\n",
       "  (c(1103.0,583.5), c(992.0,567.5)),\n",
       "  (c(992.0,567.5), c(991.0,567.5)),\n",
       "  (c(991.0,567.5), c(976.0,583.5)),\n",
       "  (c(976.0,583.5), c(975.0,583.5)),\n",
       "  (c(975.0,583.5), c(896.0,567.5)),\n",
       "  (c(896.0,567.5), c(895.0,567.5)),\n",
       "  (c(895.0,567.5), c(880.0,583.5)),\n",
       "  (c(880.0,583.5), c(879.0,583.5)),\n",
       "  (c(879.0,583.5), c(864.0,583.5)),\n",
       "  (c(864.0,583.5), c(863.0,583.5)),\n",
       "  (c(863.0,583.5), c(847.0,519.5)),\n",
       "  (c(847.0,519.5), c(848.0,519.5)),\n",
       "  (c(848.0,519.5), c(863.0,471.5)),\n",
       "  (c(863.0,471.5), c(864.0,471.5)),\n",
       "  (c(864.0,471.5), c(879.0,471.5)),\n",
       "  (c(879.0,471.5), c(880.0,471.5)),\n",
       "  (c(880.0,471.5), c(905,502)),\n",
       "  (c(905,502), c(905,502)),\n",
       "  (c(905,502), c(880.0,471.5)),\n",
       "  (c(880.0,471.5), c(879.0,471.5)),\n",
       "  (c(879.0,471.5), c(864.0,471.5)),\n",
       "  (c(864.0,471.5), c(863.0,471.5)),\n",
       "  (c(863.0,471.5), c(848.0,519.5)),\n",
       "  (c(848.0,519.5), c(847.0,519.5)),\n",
       "  (c(847.0,519.5), c(807.5,543.0)),\n",
       "  (c(807.5,543.0), c(807.5,544.0)),\n",
       "  (c(807.5,544.0), c(807.5,703.0)),\n",
       "  (c(807.5,703.0), c(807.5,704.0)),\n",
       "  (c(807.5,704.0), c(800.0,727.5)),\n",
       "  (c(800.0,727.5), c(799.0,727.5)),\n",
       "  (c(799.0,727.5), c(736.0,727.5)),\n",
       "  (c(736.0,727.5), c(735.0,727.5)),\n",
       "  (c(735.0,727.5), c(720.0,727.5)),\n",
       "  (c(720.0,727.5), c(719.0,727.5)),\n",
       "  (c(719.0,727.5), c(704.0,743.5)),\n",
       "  (c(704.0,743.5), c(703.0,743.5)),\n",
       "  (c(703.0,743.5), c(655.0,759.5)),\n",
       "  (c(655.0,759.5), c(656.0,759.5)),\n",
       "  (c(656.0,759.5), c(663.5,767.0)),\n",
       "  (c(663.5,767.0), c(663.5,784.0)),\n",
       "  (c(663.5,784.0), c(671.0,839.5)),\n",
       "  (c(671.0,839.5), c(672.0,839.5)),\n",
       "  (c(672.0,839.5), c(719.0,839.5)),\n",
       "  (c(719.0,839.5), c(720.0,839.5)),\n",
       "  (c(720.0,839.5), c(767.0,855.5)),\n",
       "  (c(767.0,855.5), c(768.0,855.5)),\n",
       "  (c(768.0,855.5), c(847.0,855.5)),\n",
       "  (c(847.0,855.5), c(848.0,855.5)),\n",
       "  (c(848.0,855.5), c(855.5,879.0)),\n",
       "  (c(855.5,879.0), c(855.5,880.0)),\n",
       "  (c(855.5,880.0), c(863.0,919.5)),\n",
       "  (c(863.0,919.5), c(864.0,919.5)),\n",
       "  (c(864.0,919.5), c(911.0,919.5)),\n",
       "  (c(911.0,919.5), c(912.0,919.5)),\n",
       "  (c(912.0,919.5), c(912.0,951.5)),\n",
       "  (c(912.0,951.5), c(911.0,951.5)),\n",
       "  (c(911.0,951.5), c(848.0,951.5)),\n",
       "  (c(848.0,951.5), c(847.0,951.5)),\n",
       "  (c(847.0,951.5), c(839.5,959.0)),\n",
       "  (c(839.5,959.0), c(839.5,960.0)),\n",
       "  (c(839.5,960.0), c(768.0,999.5)),\n",
       "  (c(768.0,999.5), c(767.0,999.5)),\n",
       "  (c(767.0,999.5), c(767.0,999.5)),\n",
       "  (c(767.0,999.5), c(768.0,999.5)),\n",
       "  (c(768.0,999.5), c(895.0,999.5)),\n",
       "  (c(895.0,999.5), c(896.0,999.5)),\n",
       "  (c(896.0,999.5), c(911.0,1015.5)),\n",
       "  (c(911.0,1015.5), c(912.0,1015.5)),\n",
       "  (c(912.0,1015.5), c(975.0,1015.5)),\n",
       "  (c(975.0,1015.5), c(976.0,1015.5)),\n",
       "  (c(976.0,1015.5), c(991.0,951.5)),\n",
       "  (c(991.0,951.5), c(992.0,951.5)),\n",
       "  (c(992.0,951.5), c(1055.0,935.5)),\n",
       "  (c(1055.0,935.5), c(1056.0,935.5)),\n",
       "  (c(1056.0,935.5), c(1095.5,1007.0)),\n",
       "  (c(1095.5,1007.0), c(1095.5,1008.0)),\n",
       "  (c(1095.5,1008.0), c(1024.0,1047.5)),\n",
       "  (c(1024.0,1047.5), c(1023.0,1047.5)),\n",
       "  (c(1023.0,1047.5), c(976.0,1047.5)),\n",
       "  (c(976.0,1047.5), c(975.0,1047.5)),\n",
       "  (c(975.0,1047.5), c(928.0,1047.5)),\n",
       "  (c(928.0,1047.5), c(927.0,1047.5)),\n",
       "  (c(927.0,1047.5), c(880.0,1047.5)),\n",
       "  (c(880.0,1047.5), c(879.0,1047.5)),\n",
       "  (c(879.0,1047.5), c(879.0,1047.5)),\n",
       "  (c(879.0,1047.5), c(880.0,1047.5)),\n",
       "  (c(880.0,1047.5), c(927.0,1047.5)),\n",
       "  (c(927.0,1047.5), c(928.0,1047.5)),\n",
       "  (c(928.0,1047.5), c(975.0,1047.5)),\n",
       "  (c(975.0,1047.5), c(976.0,1047.5)),\n",
       "  (c(976.0,1047.5), c(1023.0,1047.5)),\n",
       "  (c(1023.0,1047.5), c(1024.0,1047.5)),\n",
       "  (c(1024.0,1047.5), c(1095.5,1008.0)),\n",
       "  (c(1095.5,1008.0), c(1095.5,1007.0)),\n",
       "  (c(1095.5,1007.0), c(1071.0,935.5)),\n",
       "  (c(1071.0,935.5), c(1072.0,935.5)),\n",
       "  (c(1072.0,935.5), c(1056.0,887.5)),\n",
       "  (c(1056.0,887.5), c(1055.0,887.5)),\n",
       "  (c(1055.0,887.5), c(1024.0,871.5)),\n",
       "  (c(1024.0,871.5), c(1023.0,871.5)),\n",
       "  (c(1023.0,871.5), c(976.0,839.5)),\n",
       "  (c(976.0,839.5), c(975.0,839.5)),\n",
       "  (c(975.0,839.5), c(880.0,839.5)),\n",
       "  (c(880.0,839.5), c(879.0,839.5)),\n",
       "  (c(879.0,839.5), c(848.0,855.5)),\n",
       "  (c(848.0,855.5), c(847.0,871.5)),\n",
       "  (c(847.0,871.5), c(816.0,871.5)),\n",
       "  (c(816.0,871.5), c(815.0,871.5)),\n",
       "  (c(815.0,871.5), c(688.0,871.5)),\n",
       "  (c(688.0,871.5), c(687.0,871.5)),\n",
       "  (c(687.0,871.5), c(672.0,871.5)),\n",
       "  (c(672.0,871.5), c(671.0,871.5)),\n",
       "  (c(671.0,871.5), c(663.5,784.0)),\n",
       "  (c(663.5,784.0), c(663.5,767.0)),\n",
       "  (c(663.5,767.0), c(656.0,759.5)),\n",
       "  (c(656.0,759.5), c(655.0,759.5)),\n",
       "  (c(655.0,759.5), c(640.0,759.5)),\n",
       "  (c(640.0,759.5), c(639.0,759.5)),\n",
       "  (c(639.0,759.5), c(631.5,736.0)),\n",
       "  (c(631.5,736.0), c(631.5,735.0)),\n",
       "  (c(631.5,735.0), c(639.0,615.5)),\n",
       "  (c(639.0,615.5), c(640.0,615.5)),\n",
       "  (c(640.0,615.5), c(679.5,608.0)),\n",
       "  (c(679.5,608.0), c(679.5,607.0)),\n",
       "  (c(679.5,607.0), c(640.0,583.5)),\n",
       "  (c(640.0,583.5), c(639.0,583.5)),\n",
       "  (c(639.0,583.5), c(599.5,528.0)),\n",
       "  (c(599.5,528.0), c(599.5,287.0)),\n",
       "  (c(599.5,287.0), c(599.5,272.0)),\n",
       "  (c(599.5,272.0), c(599.5,271.0)),\n",
       "  (c(599.5,271.0), c(576.0,231.5)),\n",
       "  (c(576.0,231.5), c(575.0,231.5)),\n",
       "  (c(575.0,231.5), c(560.0,231.5)),\n",
       "  (c(560.0,231.5), c(559.0,231.5)),\n",
       "  (c(559.0,231.5), c(416.0,199.5)),\n",
       "  (c(416.0,199.5), c(415.0,199.5)),\n",
       "  (c(415.0,199.5), c(336.0,199.5)),\n",
       "  (c(336.0,199.5), c(335.0,199.5)),\n",
       "  (c(335.0,199.5), c(240.0,199.5)),\n",
       "  (c(240.0,199.5), c(239.0,199.5)),\n",
       "  (c(239.0,199.5), c(239.0,295.5)),\n",
       "  (c(239.0,295.5), c(240.0,295.5)),\n",
       "  (c(240.0,295.5), c(319.0,295.5)),\n",
       "  (c(319.0,295.5), c(320.0,295.5)),\n",
       "  (c(320.0,295.5), c(327.5,319.0)),\n",
       "  (c(327.5,319.0), c(327.5,304.0)),\n",
       "  (c(327.5,304.0), c(320.0,359.5)),\n",
       "  (c(320.0,359.5), c(319.0,359.5)),\n",
       "  (c(319.0,359.5), c(224.0,359.5)),\n",
       "  (c(224.0,359.5), c(223.0,359.5)),\n",
       "  (c(223.0,359.5), c(223.0,375.5)),\n",
       "  (c(223.0,375.5), c(224.0,375.5)),\n",
       "  (c(224.0,375.5), c(319.0,375.5)),\n",
       "  (c(319.0,375.5), c(320.0,375.5)),\n",
       "  (c(320.0,375.5), c(327.5,399.0)),\n",
       "  (c(327.5,399.0), c(327.5,400.0)),\n",
       "  (c(327.5,400.0), c(304.0,407.5)),\n",
       "  (c(304.0,407.5), c(303.0,407.5)),\n",
       "  (c(303.0,407.5), c(272.0,407.5)),\n",
       "  (c(272.0,407.5), c(271.0,407.5)),\n",
       "  (c(271.0,407.5), c(208.0,407.5)),\n",
       "  (c(208.0,407.5), c(207.0,407.5)),\n",
       "  (c(207.0,407.5), c(207.0,423.5)),\n",
       "  (c(207.0,423.5), c(208.0,423.5)),\n",
       "  (c(208.0,423.5), c(271.0,423.5)),\n",
       "  (c(271.0,423.5), c(272.0,423.5)),\n",
       "  (c(272.0,423.5), c(272.0,455.5)),\n",
       "  (c(272.0,455.5), c(271.0,455.5)),\n",
       "  (c(271.0,455.5), c(207.0,455.5)),\n",
       "  (c(207.0,455.5), c(183.5,463.0)),\n",
       "  (c(183.5,463.0), c(183.5,464.0)),\n",
       "  (c(183.5,464.0), c(191.0,487.5)),\n",
       "  (c(191.0,487.5), c(192.0,487.5)),\n",
       "  (c(192.0,487.5), c(287.0,471.5)),\n",
       "  (c(287.0,471.5), c(288.0,471.5)),\n",
       "  (c(288.0,471.5), c(335.0,439.5)),\n",
       "  (c(335.0,439.5), c(336.0,439.5)),\n",
       "  (c(336.0,439.5), c(359.5,304.0)),\n",
       "  (c(359.5,304.0), c(359.5,303.0)),\n",
       "  (c(359.5,303.0), c(415.0,231.5))]}"
      ]
     },
     "execution_count": 154,
     "metadata": {},
     "output_type": "execute_result"
    }
   ],
   "source": [
    "%%time\n",
    "generate_lines((current_node, current_itemset), policy_id)"
   ]
  },
  {
   "cell_type": "code",
   "execution_count": null,
   "id": "b1f43e96-b843-43d0-926c-aa38ef242033",
   "metadata": {},
   "outputs": [],
   "source": []
  }
 ],
 "metadata": {
  "kernelspec": {
   "display_name": "Python 3 (ipykernel)",
   "language": "python",
   "name": "python3"
  },
  "language_info": {
   "codemirror_mode": {
    "name": "ipython",
    "version": 3
   },
   "file_extension": ".py",
   "mimetype": "text/x-python",
   "name": "python",
   "nbconvert_exporter": "python",
   "pygments_lexer": "ipython3",
   "version": "3.10.12"
  }
 },
 "nbformat": 4,
 "nbformat_minor": 5
}

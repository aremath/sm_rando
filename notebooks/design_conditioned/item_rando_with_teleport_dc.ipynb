{
 "cells": [
  {
   "cell_type": "code",
   "execution_count": 1,
   "id": "652276fe-779e-43d5-b8df-af7da7f3af48",
   "metadata": {},
   "outputs": [
    {
     "name": "stdout",
     "output_type": "stream",
     "text": [
      "%pylab is deprecated, use %matplotlib inline and import the required libraries.\n",
      "Populating the interactive namespace from numpy and matplotlib\n"
     ]
    }
   ],
   "source": [
    "%load_ext autoreload\n",
    "%autoreload 2\n",
    "%pylab inline"
   ]
  },
  {
   "cell_type": "code",
   "execution_count": 2,
   "id": "2e25c9a9-273d-48e7-b10c-75f158018c5a",
   "metadata": {},
   "outputs": [],
   "source": [
    "# Item Rando:\n",
    "# 26 'randomizeable' items\n",
    "# 100 'randomizeable' drop locations\n",
    "# idea 1: location : item_id\n",
    "# ~ 500 bits (locations * log(items))\n",
    "# idea 2: item : location_id\n",
    "# ~ 700 bits (locations * log(locations))\n",
    "# idea 3: location : common_item_id\n",
    "# major_item : location_id\n",
    "# 300 bits + 126 bits"
   ]
  },
  {
   "cell_type": "code",
   "execution_count": 3,
   "id": "3b7b83e9-a366-40d5-b795-a0f8eda87234",
   "metadata": {},
   "outputs": [],
   "source": [
    "# Door Rando:\n",
    "# ~550 doors\n",
    "# idea 1: door: door_id\n",
    "# 550 * log(550) = 5500 bits\n",
    "# idea 2: left_door : right_door_id\n",
    "# top_door : bottom_door_id\n",
    "# 225 * log(225) = 2040\n",
    "# idea 3:\n",
    "# X, Y\n",
    "# overworld is ~ 128 x 128\n",
    "# 14 bits per room * 255 rooms = 3570"
   ]
  },
  {
   "cell_type": "code",
   "execution_count": 4,
   "id": "10c76f6a-ba00-4ed3-bcf7-e54f02a0ac1d",
   "metadata": {},
   "outputs": [],
   "source": [
    "import sys\n",
    "sys.path.append(\"../..\")"
   ]
  },
  {
   "cell_type": "code",
   "execution_count": 5,
   "id": "50344397-d052-4305-b397-449326bdb6f3",
   "metadata": {},
   "outputs": [],
   "source": [
    "from encoding.parse_rooms import parse_rooms, parse_exits, dictify_rooms"
   ]
  },
  {
   "cell_type": "code",
   "execution_count": 6,
   "id": "6c89599b-a365-4b29-9526-29f7b4b6e480",
   "metadata": {},
   "outputs": [],
   "source": [
    "from functools import cache\n",
    "from itertools import combinations"
   ]
  },
  {
   "cell_type": "code",
   "execution_count": 7,
   "id": "a0a71659-082e-4c55-b02a-12263024482a",
   "metadata": {},
   "outputs": [],
   "source": [
    "rooms = parse_rooms(\"../../encoding/dsl/rooms_for_alloy.txt\")\n",
    "exits = parse_exits(\"../../encoding/dsl/exits_for_alloy.txt\")\n",
    "design = dictify_rooms(rooms, exits)"
   ]
  },
  {
   "cell_type": "code",
   "execution_count": 8,
   "id": "9bbff8b7-adfd-4d80-80bb-5bc5a5cc482d",
   "metadata": {},
   "outputs": [],
   "source": [
    "from rom_tools.rom_manager import RomManager\n",
    "from abstraction_validation.sm_paths import *"
   ]
  },
  {
   "cell_type": "code",
   "execution_count": 9,
   "id": "47526107-52bd-4589-8a4b-a2fad98dc46f",
   "metadata": {},
   "outputs": [],
   "source": [
    "from bdds.bdd_core import *\n",
    "from bdds.node_bdds import *"
   ]
  },
  {
   "cell_type": "code",
   "execution_count": 10,
   "id": "40f049e7-2035-404a-a957-126bb2ba98bb",
   "metadata": {},
   "outputs": [],
   "source": [
    "from functools import reduce"
   ]
  },
  {
   "cell_type": "code",
   "execution_count": 11,
   "id": "913e8077-b16b-4dd8-835d-31d3a679a812",
   "metadata": {},
   "outputs": [],
   "source": [
    "all_nodes = []\n",
    "for r, room in rooms.items():\n",
    "    for node in room.graph.name_node.keys():\n",
    "        all_nodes.append(node)\n",
    "node_ids = {n:i for i,n in enumerate(all_nodes)}"
   ]
  },
  {
   "cell_type": "code",
   "execution_count": 12,
   "id": "5559b3de-f065-44d6-aa07-62443b32ee9e",
   "metadata": {},
   "outputs": [],
   "source": [
    "# Issue with design translation via chopping off the last _\n",
    "node_ids[\"Spore_Spawn_Spawn\"] = node_ids[\"Spore_Spawn_Spore_Spawn\"]\n",
    "node_ids[\"Golden_Torizo_Torizo\"] = node_ids[\"Golden_Torizo_Golden_Torizo\"]\n",
    "node_ids[\"Mother_Brain_Brain\"] = node_ids[\"Mother_Brain_Mother_Brain\"]"
   ]
  },
  {
   "cell_type": "code",
   "execution_count": 13,
   "id": "e781bd57-0184-43b7-a504-37693737f7ec",
   "metadata": {},
   "outputs": [],
   "source": [
    "major_items = [\"MB\", \"B\", \"SPB\", \"G\", \"SA\", \"V\", \"GS\", \"SB\", \"HJ\", \"CB\", \"WB\", \"PLB\", \"Spazer\", \"XR\", \"IB\", \"SJ\"]\n",
    "minor_items = [\"M\", \"S\", \"PB\", \"E\", \"RT\"]\n",
    "rando_items = [\"B\", \"MB\", \"PB\", \"SPB\", \"S\", \"M\", \"G\", \"SA\", \"V\", \"GS\", \"SB\", \"HJ\", \"CB\", \"WB\", \"E\", \"PLB\", \"Spazer\", \"RT\", \"XR\", \"IB\", \"SJ\"]\n",
    "assert set(rando_items) == set(major_items) | set(minor_items)"
   ]
  },
  {
   "cell_type": "code",
   "execution_count": 14,
   "id": "518c012a-1eaf-455b-8282-200003dafd34",
   "metadata": {},
   "outputs": [],
   "source": [
    "context = mk_context_id(node_ids)"
   ]
  },
  {
   "cell_type": "code",
   "execution_count": 15,
   "id": "584a8a8f-fb4f-4b20-80ff-05726f7ab3bb",
   "metadata": {},
   "outputs": [],
   "source": [
    "from functools import reduce"
   ]
  },
  {
   "cell_type": "code",
   "execution_count": 16,
   "id": "c06e9f7f-7875-4566-bcf1-910d8ff64608",
   "metadata": {},
   "outputs": [],
   "source": [
    "def reduce_and(clauses):\n",
    "    return reduce(lambda x, y: x & y, clauses, context.true)\n",
    "\n",
    "def reduce_or(clauses):\n",
    "    return reduce(lambda x, y: x | y, clauses, context.false)"
   ]
  },
  {
   "cell_type": "code",
   "execution_count": 17,
   "id": "b4326b40-72f9-41d7-93fd-53555a750242",
   "metadata": {},
   "outputs": [],
   "source": [
    "def loc_id(room_name, node_name, when=\"prev\"):\n",
    "    node_id = node_ids[f\"{room_name}_{node_name}\"]\n",
    "    return context.add_expr(f\"node_id_{when} = {node_id}\")\n",
    "\n",
    "@cache\n",
    "def item_transitions(item_gained=None):\n",
    "    if item_gained is None:\n",
    "        return context.add_expr(\"(items_unchanged)\", with_ops = True)\n",
    "    clauses = []\n",
    "    for i in design[\"Items\"] | design[\"Bosses\"]:\n",
    "        if i == item_gained:\n",
    "            clause = context.add_expr(f\"{i}_prev < {i}_next\")\n",
    "        else:\n",
    "            clause = context.add_expr(f\"{i}_prev = {i}_next\")\n",
    "        clauses.append(clause)\n",
    "    return reduce_and(clauses)\n",
    "\n",
    "def itemset_to_bdd(itemset):\n",
    "    if len(itemset) == 0:\n",
    "        return context.true\n",
    "    else:\n",
    "        return reduce_and([context.add_expr(f\"{item}_prev = 1\") for item in itemset])\n",
    "\n",
    "def required_itemsets(itemsets):\n",
    "    return reduce_or([itemset_to_bdd(itemset) for itemset in itemsets])\n",
    "\n",
    "def rando_transitions(room_name, node_name, family, possible_items):\n",
    "    t = context.false\n",
    "    node_name = room_name + \"_\" + node_name\n",
    "    drop_name = f\"{family}_drop_{node_name}\"\n",
    "    for i,item in enumerate(possible_items):\n",
    "        t |= context.add_expr(f\"{drop_name} = {i}\") & item_transitions(item)\n",
    "    return t"
   ]
  },
  {
   "cell_type": "code",
   "execution_count": 18,
   "id": "4e6616e1-98d6-4641-a350-87ecd4b37984",
   "metadata": {},
   "outputs": [],
   "source": [
    "major_nodes = []\n",
    "minor_nodes = []\n",
    "other_drop_nodes = []\n",
    "for room_name, room in design[\"Rooms\"].items():\n",
    "    for node_name, d in room[\"Drops\"].items():\n",
    "        node_str = room_name + \"_\" + node_name\n",
    "        if d in major_items:\n",
    "            major_nodes.append(node_str)\n",
    "        elif d in minor_items:\n",
    "            minor_nodes.append(node_str)\n",
    "        else:\n",
    "            other_drop_nodes.append(node_str)"
   ]
  },
  {
   "cell_type": "code",
   "execution_count": 19,
   "id": "134d7534-d5d2-473c-88cb-23a2a6175edc",
   "metadata": {},
   "outputs": [],
   "source": [
    "assert len(major_nodes) == len(major_items)\n",
    "assert len(minor_nodes) == 100 - len(major_nodes)"
   ]
  },
  {
   "cell_type": "code",
   "execution_count": 20,
   "id": "47af38ea-4846-4bea-9873-c4b5cb7231e2",
   "metadata": {},
   "outputs": [],
   "source": [
    "drop_nodes = []\n",
    "for room_name, room in design[\"Rooms\"].items():\n",
    "    for node_name, d in room[\"Drops\"].items():\n",
    "        if d in rando_items:\n",
    "            drop_nodes.append(room_name + \"_\" + node_name)"
   ]
  },
  {
   "cell_type": "code",
   "execution_count": 21,
   "id": "562e39af-844e-4106-8d1d-925541a408be",
   "metadata": {},
   "outputs": [],
   "source": [
    "assert len(drop_nodes) == 100"
   ]
  },
  {
   "cell_type": "code",
   "execution_count": 22,
   "id": "bf106ed0-ba28-4901-9b5d-417813bff1e0",
   "metadata": {},
   "outputs": [],
   "source": [
    "major_item_nodes = []\n",
    "for room_name, room in design[\"Rooms\"].items():\n",
    "    for node_name, d in room[\"Drops\"].items():\n",
    "        if d in rando_items:\n",
    "            drop_nodes.append(room_name + \"_\" + node_name)"
   ]
  },
  {
   "cell_type": "code",
   "execution_count": 23,
   "id": "bc39b82a-5a28-44f9-82b6-6ebaa16ea741",
   "metadata": {},
   "outputs": [],
   "source": [
    "#limit design freedom by setting a limited number of locations\n",
    "#drop_nodes = [\"Bomb_Torizo_Bombs\", \"Big_Pink_M2\"]\n",
    "n_major_rando = 16\n",
    "n_minor_rando = 0\n",
    "major_drop_nodes = major_nodes[:n_major_rando]\n",
    "minor_drop_nodes = minor_nodes[:n_minor_rando]\n",
    "#drop_nodes = []"
   ]
  },
  {
   "cell_type": "code",
   "execution_count": 24,
   "id": "05998923-6817-495c-8e83-e1f0b26633f4",
   "metadata": {},
   "outputs": [],
   "source": [
    "design_vars = {\n",
    "    **{ f\"major_drop_{node}\": (0,len(major_items)-1) for node in major_drop_nodes },\n",
    "    **{ f\"minor_drop_{node}\": (0,len(minor_items)-1) for node in minor_drop_nodes }\n",
    "}"
   ]
  },
  {
   "cell_type": "code",
   "execution_count": 25,
   "id": "2ea3d531-33c6-4fc5-aad3-115b4dccaa21",
   "metadata": {},
   "outputs": [],
   "source": [
    "if len(design_vars) > 0:\n",
    "    context.declare(**design_vars)"
   ]
  },
  {
   "cell_type": "code",
   "execution_count": 26,
   "id": "08dec845-f866-4eae-82f1-578b74612f4f",
   "metadata": {},
   "outputs": [],
   "source": [
    "# Ensure uniqueness and validity\n",
    "validity = context.true\n",
    "for node in major_drop_nodes:\n",
    "    validity &= context.add_expr(f\"major_drop_{node} < {len(major_items)}\")\n",
    "for node in minor_drop_nodes:\n",
    "    validity &= context.add_expr(f\"minor_drop_{node} < {len(major_items)}\")\n",
    "\n",
    "# Only drop one thing\n",
    "# Sum is faster to compute than O(n^2) !=s\n",
    "uniqueness = context.true\n",
    "for i,item in enumerate(major_items):\n",
    "    uniqueness &= context.add_expr(\" + \".join([f\"ite(major_drop_{node} = {i},1,0)\" for node in major_drop_nodes] + [\"0\"]) + \" <= 1\")\n",
    "\n",
    "valid_design = validity & uniqueness"
   ]
  },
  {
   "cell_type": "code",
   "execution_count": 27,
   "id": "2c32a08a-cd27-4dbe-93ba-ae28b339d0ef",
   "metadata": {},
   "outputs": [],
   "source": [
    "original_design = context.true\n",
    "for room_name, room in design[\"Rooms\"].items():\n",
    "    for node_name, d in room[\"Drops\"].items():\n",
    "        name = room_name + \"_\" + node_name\n",
    "        if d in major_items:\n",
    "            if name in major_drop_nodes:\n",
    "                original_design &= context.add_expr(f\"major_drop_{name} = {major_items.index(d)}\")\n",
    "        if d in minor_items:\n",
    "            if name in minor_drop_nodes:\n",
    "                original_design &= context.add_expr(f\"minor_drop_{name} = {minor_items.index(d)}\")"
   ]
  },
  {
   "cell_type": "code",
   "execution_count": 28,
   "id": "74322bff-60b5-431a-84c0-1553fa783379",
   "metadata": {},
   "outputs": [],
   "source": [
    "edits = []\n",
    "for room_name, room in design[\"Rooms\"].items():\n",
    "    for node_name, d in room[\"Drops\"].items():\n",
    "        name = room_name + \"_\" + node_name\n",
    "        if d in major_items:\n",
    "            if name in major_drop_nodes:\n",
    "                edits.append(f\"ite(major_drop_{name} = {major_items.index(d)},0,1)\")\n",
    "        if d in minor_items:\n",
    "            if name in minor_drop_nodes:\n",
    "                edits.append(f\"ite(minor_drop_{name} = {minor_items.index(d)},0,1)\")\n",
    "all_edits = \" + \".join(edits)\n",
    "max_distance = 4\n",
    "edit_distance = context.add_expr(all_edits + f\" <= {max_distance}\")\n",
    "edit_distance_equal = context.add_expr(all_edits + f\" = {max_distance}\")"
   ]
  },
  {
   "cell_type": "code",
   "execution_count": 29,
   "id": "0026e7dd-2cc6-4bbb-a91b-0c99960235aa",
   "metadata": {},
   "outputs": [],
   "source": [
    "#TODO: minor items\n",
    "def show_design(pick):\n",
    "    for v,id in pick.items():\n",
    "        print(f\"{v}: {major_items[id]}\")"
   ]
  },
  {
   "cell_type": "code",
   "execution_count": 30,
   "id": "26e48e22-52b4-4b14-9030-e0a2be90c083",
   "metadata": {},
   "outputs": [],
   "source": [
    "from tqdm import tqdm"
   ]
  },
  {
   "cell_type": "code",
   "execution_count": 31,
   "id": "d1336e16-0a44-4231-b192-0c917b8ddba4",
   "metadata": {},
   "outputs": [
    {
     "name": "stderr",
     "output_type": "stream",
     "text": [
      "100%|████████████████████████████████████████████████████████████████████████████████| 255/255 [00:01<00:00, 197.28it/s]\n"
     ]
    }
   ],
   "source": [
    "# Build individual BDDs\n",
    "room_bdds = []\n",
    "door_bdds = []\n",
    "for room_name, room in tqdm(design['Rooms'].items()):\n",
    "    links = []\n",
    "    for node_name in room['Nodes']:\n",
    "        s = loc_id(room_name, node_name) & loc_id(room_name, node_name, when=\"next\") & item_transitions()\n",
    "        links.append(s)\n",
    "        if node_name in room['Drops']:\n",
    "            if room_name + \"_\" + node_name in major_drop_nodes:\n",
    "                s = loc_id(room_name, node_name) & loc_id(room_name, node_name, when=\"next\") & rando_transitions(room_name, node_name, \"major\", major_items)\n",
    "            elif room_name + \"_\" + node_name in minor_drop_nodes:\n",
    "                s = loc_id(room_name, node_name) & loc_id(room_name, node_name, when=\"next\") & rando_transitions(room_name, node_name, \"minor\", minor_items)\n",
    "            else:\n",
    "                s = loc_id(room_name, node_name) & loc_id(room_name, node_name, when=\"next\") & item_transitions(room['Drops'][node_name])\n",
    "            links.append(s)\n",
    "    for node_name, door in room['Doors'].items():\n",
    "        d = loc_id(room_name, node_name) & loc_id(door['Room'], door['Node'], when=\"next\") & item_transitions()\n",
    "        door_bdds.append(d)\n",
    "    for node_name, edges in room['Edges'].items():\n",
    "        for edge in edges:\n",
    "            other_node_name = edge['Terminal']\n",
    "            s = loc_id(room_name, node_name) & loc_id(room_name, other_node_name, when=\"next\") & required_itemsets(edge['Requirements']) & item_transitions()\n",
    "            links.append(s)\n",
    "    room_bdd = reduce_or(links)\n",
    "    #print(room_bdd.count())\n",
    "    room_bdds.append(room_bdd)"
   ]
  },
  {
   "cell_type": "code",
   "execution_count": 32,
   "id": "3c2d0dfa-1cb4-4da7-83f3-85cb50fd54c5",
   "metadata": {},
   "outputs": [],
   "source": [
    "doors_bdd = reduce_or(door_bdds)\n",
    "rooms_bdd = reduce_or(room_bdds)\n",
    "trans = doors_bdd | rooms_bdd"
   ]
  },
  {
   "cell_type": "code",
   "execution_count": 33,
   "id": "f1525edd-2962-436e-89a9-3754edd5a02e",
   "metadata": {},
   "outputs": [],
   "source": [
    "# Compute the design UNCONDITIONAL item-item reachability transes"
   ]
  },
  {
   "cell_type": "code",
   "execution_count": 34,
   "id": "faee82be-c717-437c-8c0c-67ded1732eb0",
   "metadata": {},
   "outputs": [],
   "source": [
    "items_unchanged = context.add_expr(\"items_unchanged\", with_ops=True)\n",
    "item_nexts = [k for k in item_vars if k.endswith(\"_next\")]\n",
    "item_prevs = [k for k in item_vars if k.endswith(\"_prev\")]"
   ]
  },
  {
   "cell_type": "code",
   "execution_count": 35,
   "id": "a9bc1796-401b-4022-90e7-11d30ffe73e4",
   "metadata": {},
   "outputs": [],
   "source": [
    "# Find items that do not affect reachability:\n",
    "bad_items = [\n",
    "    # 'Implied' items\n",
    "    \"Botwoon\",\n",
    "    \"Spore_Spawn\",\n",
    "    \"Golden_Torizo\",\n",
    "    \"Drain\",\n",
    "    \"Shaktool\",\n",
    "    # Items that don't impact reachability\n",
    "    \"Spazer\",\n",
    "    \"XR\",\n",
    "    \"RT\",\n",
    "]\n",
    "nuisances = [f\"{i}_prev\" for i in bad_items] + [f\"{i}_next\" for i in bad_items]\n",
    "#bad_items = []\n",
    "#for i in design[\"Items\"] | design[\"Bosses\"]:\n",
    "#    istr = f\"{i}_prev\"\n",
    "#    i_without = context.add_expr(f\"{istr} = 0\")\n",
    "#    i_with = context.add_expr(f\"{istr} = 1\")\n",
    "#    if context.exist([istr], (trans & i_without)) == context.exist([istr], (trans & i_with)):\n",
    "#        bad_items.append(i)"
   ]
  },
  {
   "cell_type": "code",
   "execution_count": 36,
   "id": "8b02f30e-a28f-4c10-ae55-c639b40209a2",
   "metadata": {},
   "outputs": [],
   "source": [
    "trans = context.exist(nuisances, trans)"
   ]
  },
  {
   "cell_type": "code",
   "execution_count": 39,
   "id": "e40dde56-da9b-4345-8697-2f72beb83911",
   "metadata": {},
   "outputs": [
    {
     "data": {
      "text/plain": [
       "['major_drop_Bomb_Torizo_Bombs',\n",
       " 'major_drop_Big_Pink_CB',\n",
       " 'major_drop_Morph_Ball_Room_MB',\n",
       " 'major_drop_XRay_XR',\n",
       " 'major_drop_Spazer_Spazer',\n",
       " 'major_drop_Varia_Suit_V',\n",
       " 'major_drop_Ice_Beam_IB',\n",
       " 'major_drop_Hi_Jump_HJ',\n",
       " 'major_drop_Grapple_G',\n",
       " 'major_drop_Speed_Booster_SB',\n",
       " 'major_drop_Wave_Beam_WB',\n",
       " 'major_drop_Screw_Attack_SA',\n",
       " 'major_drop_Gravity_GS',\n",
       " 'major_drop_Plasma_PLB',\n",
       " 'major_drop_Spring_Ball_SPB',\n",
       " 'major_drop_Space_Jump_SJ']"
      ]
     },
     "execution_count": 39,
     "metadata": {},
     "output_type": "execute_result"
    }
   ],
   "source": [
    "list(design_vars.keys())"
   ]
  },
  {
   "cell_type": "code",
   "execution_count": 54,
   "id": "5d8e160c-3f3a-4020-945f-72205fadc2ee",
   "metadata": {},
   "outputs": [],
   "source": [
    "duc_trans = context.forall(design_vars.keys(), trans)"
   ]
  },
  {
   "cell_type": "code",
   "execution_count": 55,
   "id": "278243ec-6f1a-4ea6-b4d2-942b4548cd45",
   "metadata": {},
   "outputs": [],
   "source": [
    "dc_trans = context.exist(design_vars.keys(), trans) & ~design_unconditional_trans"
   ]
  },
  {
   "cell_type": "code",
   "execution_count": 59,
   "id": "dc8548ce-ac3a-43e6-b8ff-eef20cd59c84",
   "metadata": {},
   "outputs": [
    {
     "data": {
      "text/plain": [
       "(10928, 354, 22139)"
      ]
     },
     "execution_count": 59,
     "metadata": {},
     "output_type": "execute_result"
    }
   ],
   "source": [
    "duc_trans.dag_size, dc_trans.dag_size, trans.dag_size"
   ]
  },
  {
   "cell_type": "code",
   "execution_count": 61,
   "id": "56cfe63e-bc15-4d48-967e-fcf18dd4ca22",
   "metadata": {},
   "outputs": [],
   "source": [
    "def find_closure_sbfs(trans, start_bdd):\n",
    "    n = 0\n",
    "    closure = start_bdd & trans\n",
    "    closure_last = context.false\n",
    "    trans_tn = context.let(prev_to_temp, trans)\n",
    "    while closure != closure_last:\n",
    "        closure_last = closure\n",
    "        closure |= context.exist(temps, context.let(next_to_temp, closure) & trans_tn)\n",
    "        print(n, closure.dag_size)\n",
    "        n += 1\n",
    "    return closure"
   ]
  },
  {
   "cell_type": "code",
   "execution_count": 63,
   "id": "c1d95c6f-c547-4fec-ae41-e7d4d1ff94f4",
   "metadata": {
    "scrolled": true
   },
   "outputs": [
    {
     "name": "stdout",
     "output_type": "stream",
     "text": [
      "0 21402\n",
      "1 38028\n",
      "2 53745\n",
      "3 75897\n",
      "4 97355\n",
      "5 131531\n",
      "6 164662\n",
      "7 223805\n",
      "8 268501\n",
      "9 355430\n",
      "10 418518\n",
      "11 523933\n",
      "12 607748\n",
      "13 757849\n",
      "14 863021\n",
      "15 1060127\n"
     ]
    },
    {
     "ename": "KeyboardInterrupt",
     "evalue": "",
     "output_type": "error",
     "traceback": [
      "\u001b[0;31m---------------------------------------------------------------------------\u001b[0m",
      "\u001b[0;31mKeyboardInterrupt\u001b[0m                         Traceback (most recent call last)",
      "File \u001b[0;32m<timed exec>:2\u001b[0m\n",
      "Cell \u001b[0;32mIn[61], line 8\u001b[0m, in \u001b[0;36mfind_closure_sbfs\u001b[0;34m(trans, start_bdd)\u001b[0m\n\u001b[1;32m      6\u001b[0m \u001b[38;5;28;01mwhile\u001b[39;00m closure \u001b[38;5;241m!=\u001b[39m closure_last:\n\u001b[1;32m      7\u001b[0m     closure_last \u001b[38;5;241m=\u001b[39m closure\n\u001b[0;32m----> 8\u001b[0m     closure \u001b[38;5;241m|\u001b[39m\u001b[38;5;241m=\u001b[39m context\u001b[38;5;241m.\u001b[39mexist(temps, \u001b[43mcontext\u001b[49m\u001b[38;5;241;43m.\u001b[39;49m\u001b[43mlet\u001b[49m\u001b[43m(\u001b[49m\u001b[43mnext_to_temp\u001b[49m\u001b[43m,\u001b[49m\u001b[43m \u001b[49m\u001b[43mclosure\u001b[49m\u001b[43m)\u001b[49m \u001b[38;5;241m&\u001b[39m trans_tn)\n\u001b[1;32m      9\u001b[0m     \u001b[38;5;28mprint\u001b[39m(n, closure\u001b[38;5;241m.\u001b[39mdag_size)\n\u001b[1;32m     10\u001b[0m     n \u001b[38;5;241m+\u001b[39m\u001b[38;5;241m=\u001b[39m \u001b[38;5;241m1\u001b[39m\n",
      "File \u001b[0;32m~/.local/lib/python3.10/site-packages/omega/symbolic/fol.py:171\u001b[0m, in \u001b[0;36mContext.let\u001b[0;34m(self, defs, u)\u001b[0m\n\u001b[1;32m    163\u001b[0m \u001b[38;5;28;01mdef\u001b[39;00m \u001b[38;5;21mlet\u001b[39m(\u001b[38;5;28mself\u001b[39m, defs, u):\n\u001b[1;32m    164\u001b[0m \u001b[38;5;250m    \u001b[39m\u001b[38;5;124;03m\"\"\"Return substitution using `defs` in `u`.\u001b[39;00m\n\u001b[1;32m    165\u001b[0m \n\u001b[1;32m    166\u001b[0m \u001b[38;5;124;03m    @param defs: `dict` that maps variable names to BDD operators\u001b[39;00m\n\u001b[0;32m   (...)\u001b[0m\n\u001b[1;32m    169\u001b[0m \u001b[38;5;124;03m    @return: BDD operator\u001b[39;00m\n\u001b[1;32m    170\u001b[0m \u001b[38;5;124;03m    \"\"\"\u001b[39;00m\n\u001b[0;32m--> 171\u001b[0m     \u001b[38;5;28;01mreturn\u001b[39;00m \u001b[38;5;28;43mself\u001b[39;49m\u001b[38;5;241;43m.\u001b[39;49m\u001b[43mreplace\u001b[49m\u001b[43m(\u001b[49m\u001b[43mu\u001b[49m\u001b[43m,\u001b[49m\u001b[43m \u001b[49m\u001b[43mdefs\u001b[49m\u001b[43m)\u001b[49m\n",
      "File \u001b[0;32m~/.local/lib/python3.10/site-packages/omega/symbolic/fol.py:189\u001b[0m, in \u001b[0;36mContext.replace\u001b[0;34m(self, u, vars_to_new)\u001b[0m\n\u001b[1;32m    187\u001b[0m \u001b[38;5;28;01melse\u001b[39;00m:\n\u001b[1;32m    188\u001b[0m     d \u001b[38;5;241m=\u001b[39m _refine_assignment(vars_to_new, \u001b[38;5;28mself\u001b[39m\u001b[38;5;241m.\u001b[39mvars)\n\u001b[0;32m--> 189\u001b[0m \u001b[38;5;28;01mreturn\u001b[39;00m \u001b[38;5;28;43mself\u001b[39;49m\u001b[38;5;241;43m.\u001b[39;49m\u001b[43mbdd\u001b[49m\u001b[38;5;241;43m.\u001b[39;49m\u001b[43mlet\u001b[49m\u001b[43m(\u001b[49m\u001b[43md\u001b[49m\u001b[43m,\u001b[49m\u001b[43m \u001b[49m\u001b[43mu\u001b[49m\u001b[43m)\u001b[49m\n",
      "\u001b[0;31mKeyboardInterrupt\u001b[0m: "
     ]
    }
   ],
   "source": [
    "%%time\n",
    "# Restrict endpoints to only important nodes\n",
    "trans_important = find_closure_sbfs(duc_trans, important_prev) & context.let(prev_to_next, important_prev)"
   ]
  },
  {
   "cell_type": "code",
   "execution_count": 47,
   "id": "d3f6577e-8a29-48f2-8567-fee2292e6493",
   "metadata": {},
   "outputs": [],
   "source": [
    "def find_reachable_sbfs(trans, start_bdd):\n",
    "    n = 0\n",
    "    reachable = start_bdd\n",
    "    reachable_last = context.false\n",
    "    while reachable != reachable_last:\n",
    "        reachable_last = reachable\n",
    "        reachable |= context.let(next_to_prev, context.exist(prevs, reachable & trans))\n",
    "        print(n, reachable.dag_size)\n",
    "        n += 1\n",
    "    return reachable"
   ]
  },
  {
   "cell_type": "code",
   "execution_count": 48,
   "id": "7d3affaa-464e-4095-8f90-53f9bb939958",
   "metadata": {},
   "outputs": [],
   "source": [
    "from data_types import item_set"
   ]
  },
  {
   "cell_type": "code",
   "execution_count": 49,
   "id": "1d0db9ad-8ac9-4e9a-a120-911c0e1a417f",
   "metadata": {},
   "outputs": [],
   "source": [
    "def mk_itemset_expr(itemset, when=\"prev\"):\n",
    "    clauses = []\n",
    "    for i in item_mapping:\n",
    "        if i in itemset:\n",
    "            clause = context.add_expr(f\"{i}_{when} = 1\")\n",
    "        else:\n",
    "            clause = context.add_expr(f\"{i}_{when} = 0\")\n",
    "        clauses.append(clause)\n",
    "    return reduce_and(clauses)"
   ]
  },
  {
   "cell_type": "code",
   "execution_count": 50,
   "id": "d8a83cad-6913-47d1-95db-f4b53f5f997b",
   "metadata": {},
   "outputs": [],
   "source": [
    "def find_reachable_special(start_bdd):\n",
    "    n = 0\n",
    "    reachable = start_bdd\n",
    "    reachable_last = context.false\n",
    "    while reachable != reachable_last:\n",
    "        reachable_last = reachable\n",
    "        # one teleport step\n",
    "        reachable |= context.let(next_to_prev, context.exist(prevs, reachable & trans_important))\n",
    "        # one item step\n",
    "        reachable |= context.let(next_to_prev, context.exist(prevs, reachable & trans_item))\n",
    "        print(n, reachable.dag_size)\n",
    "        n += 1\n",
    "    return reachable"
   ]
  },
  {
   "cell_type": "code",
   "execution_count": 51,
   "id": "186f32e1-9498-43eb-ba2c-3bec885d8d6b",
   "metadata": {},
   "outputs": [],
   "source": [
    "item_next_to_prev = {k:v for k,v in next_to_prev.items() if k != \"node_id_next\"}"
   ]
  },
  {
   "cell_type": "code",
   "execution_count": 71,
   "id": "df772a22-c973-41cb-9cd6-91ef2cb82ff5",
   "metadata": {},
   "outputs": [],
   "source": [
    "def find_reachable_special2(start_bdd):\n",
    "    n = 0\n",
    "    trans_important_partial = context.exist(item_nexts, trans_important)\n",
    "    trans_item_partial = context.exist([\"node_id_next\"], trans_item)\n",
    "    reachable = start_bdd\n",
    "    reachable_last = context.false\n",
    "    while reachable != reachable_last:\n",
    "        reachable_last = reachable\n",
    "        # one teleport step\n",
    "        reachable |= context.let({\"node_id_next\": \"node_id_prev\"}, context.exist([\"node_id_prev\"], reachable & trans_important_partial))\n",
    "        # one item step\n",
    "        reachable |= context.let(item_next_to_prev, context.exist(item_prevs, reachable & trans_item_partial))\n",
    "        print(n, reachable.dag_size)\n",
    "        n += 1\n",
    "    return reachable"
   ]
  },
  {
   "cell_type": "code",
   "execution_count": 90,
   "id": "e35d48e1-3a3f-479a-933e-fe80187e865a",
   "metadata": {},
   "outputs": [],
   "source": [
    "#TODO: figure out a principled stopping condition\n",
    "def find_completable_bidirectional(start_bdd, end_bdd, max_iterations):\n",
    "    reachable_forward = start_bdd\n",
    "    reachable_backward = end_bdd\n",
    "    for t in range(max_iterations):\n",
    "        reachable_forward |= context.let(next_to_prev, context.exist(prevs, reachable_forward & teleport_trans))\n",
    "        reachable_backward |= context.let(prev_to_next, context.exist(nexts, reachable_backward & teleport_trans))\n",
    "        print(t, reachable_forward.dag_size, reachable_backward.dag_size)\n",
    "    return reachable_forward & context.let(next_to_prev, reachable_backward)"
   ]
  },
  {
   "cell_type": "code",
   "execution_count": 72,
   "id": "dae110ce-5840-405f-acf1-017980ef942e",
   "metadata": {},
   "outputs": [],
   "source": [
    "start_bdd = context.add_expr(\"node_id_prev = 0\") & mk_itemset_expr(item_set.ItemSet())"
   ]
  },
  {
   "cell_type": "code",
   "execution_count": 88,
   "id": "3ce61283-ce02-43b4-bfa6-2509172b7e44",
   "metadata": {},
   "outputs": [],
   "source": [
    "end_bdd = context.add_expr(\"node_id_next = 1\")"
   ]
  },
  {
   "cell_type": "code",
   "execution_count": 93,
   "id": "f2dd44f7-b49b-4755-aa2a-9142bd081250",
   "metadata": {
    "scrolled": true
   },
   "outputs": [
    {
     "name": "stdout",
     "output_type": "stream",
     "text": [
      "0 54 2016\n",
      "1 392 4676\n",
      "2 412 53281\n",
      "3 424 192465\n",
      "4 458 353001\n",
      "5 746 2137110\n",
      "6 744 2050716\n"
     ]
    },
    {
     "ename": "KeyboardInterrupt",
     "evalue": "",
     "output_type": "error",
     "traceback": [
      "\u001b[0;31m---------------------------------------------------------------------------\u001b[0m",
      "\u001b[0;31mKeyboardInterrupt\u001b[0m                         Traceback (most recent call last)",
      "File \u001b[0;32m<timed exec>:3\u001b[0m\n",
      "Cell \u001b[0;32mIn[90], line 7\u001b[0m, in \u001b[0;36mfind_completable_bidirectional\u001b[0;34m(start_bdd, end_bdd, max_iterations)\u001b[0m\n\u001b[1;32m      5\u001b[0m \u001b[38;5;28;01mfor\u001b[39;00m t \u001b[38;5;129;01min\u001b[39;00m \u001b[38;5;28mrange\u001b[39m(max_iterations):\n\u001b[1;32m      6\u001b[0m     reachable_forward \u001b[38;5;241m|\u001b[39m\u001b[38;5;241m=\u001b[39m context\u001b[38;5;241m.\u001b[39mlet(next_to_prev, context\u001b[38;5;241m.\u001b[39mexist(prevs, reachable_forward \u001b[38;5;241m&\u001b[39m teleport_trans))\n\u001b[0;32m----> 7\u001b[0m     reachable_backward \u001b[38;5;241m|\u001b[39m\u001b[38;5;241m=\u001b[39m context\u001b[38;5;241m.\u001b[39mlet(prev_to_next, \u001b[43mcontext\u001b[49m\u001b[38;5;241;43m.\u001b[39;49m\u001b[43mexist\u001b[49m\u001b[43m(\u001b[49m\u001b[43mnexts\u001b[49m\u001b[43m,\u001b[49m\u001b[43m \u001b[49m\u001b[43mreachable_backward\u001b[49m\u001b[43m \u001b[49m\u001b[38;5;241;43m&\u001b[39;49m\u001b[43m \u001b[49m\u001b[43mteleport_trans\u001b[49m\u001b[43m)\u001b[49m)\n\u001b[1;32m      8\u001b[0m     \u001b[38;5;28mprint\u001b[39m(t, reachable_forward\u001b[38;5;241m.\u001b[39mdag_size, reachable_backward\u001b[38;5;241m.\u001b[39mdag_size)\n\u001b[1;32m      9\u001b[0m \u001b[38;5;28;01mreturn\u001b[39;00m reachable_forward \u001b[38;5;241m&\u001b[39m context\u001b[38;5;241m.\u001b[39mlet(next_to_prev, reachable_backward)\n",
      "File \u001b[0;32m~/.local/lib/python3.10/site-packages/omega/symbolic/fol.py:203\u001b[0m, in \u001b[0;36mContext.exist\u001b[0;34m(self, qvars, u)\u001b[0m\n\u001b[1;32m    200\u001b[0m     r \u001b[38;5;241m=\u001b[39m \u001b[38;5;28mself\u001b[39m\u001b[38;5;241m.\u001b[39mapply(\u001b[38;5;124m'\u001b[39m\u001b[38;5;124mnot\u001b[39m\u001b[38;5;124m'\u001b[39m, r)\n\u001b[1;32m    201\u001b[0m     \u001b[38;5;28;01mreturn\u001b[39;00m r\n\u001b[0;32m--> 203\u001b[0m \u001b[38;5;28;01mdef\u001b[39;00m \u001b[38;5;21mexist\u001b[39m(\u001b[38;5;28mself\u001b[39m, qvars, u):\n\u001b[1;32m    204\u001b[0m \u001b[38;5;250m    \u001b[39m\u001b[38;5;124;03m\"\"\"Existentially quantify `qvars` in `u`.\"\"\"\u001b[39;00m\n\u001b[1;32m    205\u001b[0m     \u001b[38;5;28;01mif\u001b[39;00m \u001b[38;5;28mlen\u001b[39m(qvars) \u001b[38;5;241m==\u001b[39m \u001b[38;5;241m0\u001b[39m:\n",
      "\u001b[0;31mKeyboardInterrupt\u001b[0m: "
     ]
    }
   ],
   "source": [
    "%%time\n",
    "#reachable = find_reachable_sbfs(teleport_trans, start_bdd)\n",
    "#reachable = find_reachable_special2(start_bdd & valid_design & edit_distance)\n",
    "reachable = find_completable_bidirectional(start_bdd, end_bdd, 17)"
   ]
  },
  {
   "cell_type": "code",
   "execution_count": 82,
   "id": "5d858942-40c7-42de-ae66-2b4fd9674f1b",
   "metadata": {},
   "outputs": [],
   "source": [
    "end_reachable = context.add_expr(\"node_id_prev = 1\")"
   ]
  },
  {
   "cell_type": "code",
   "execution_count": 83,
   "id": "5ecdc9ff-d112-4641-bb2d-6e84cc8930bc",
   "metadata": {},
   "outputs": [],
   "source": [
    "designs = context.exist(nexts + prevs, reachable)"
   ]
  },
  {
   "cell_type": "code",
   "execution_count": 84,
   "id": "edf9537b-6b2c-4ba5-a4f4-d4039fb57716",
   "metadata": {},
   "outputs": [
    {
     "data": {
      "text/plain": [
       "2331933.0"
      ]
     },
     "execution_count": 84,
     "metadata": {},
     "output_type": "execute_result"
    }
   ],
   "source": [
    "designs.count()"
   ]
  },
  {
   "cell_type": "code",
   "execution_count": 85,
   "id": "76e76526-6033-4d6c-a818-0c3cdcc0cefe",
   "metadata": {},
   "outputs": [],
   "source": [
    "good_designs = context.exist(nexts + prevs, reachable & end_reachable)"
   ]
  },
  {
   "cell_type": "code",
   "execution_count": 86,
   "id": "4f8b7ebb-998c-4b46-88ff-f1aebe3650c5",
   "metadata": {},
   "outputs": [
    {
     "data": {
      "text/plain": [
       "76325.0"
      ]
     },
     "execution_count": 86,
     "metadata": {},
     "output_type": "execute_result"
    }
   ],
   "source": [
    "good_designs.count()"
   ]
  },
  {
   "cell_type": "code",
   "execution_count": 60,
   "id": "f35dab25-75bc-4613-a77d-0dbf0f6fd78c",
   "metadata": {},
   "outputs": [
    {
     "data": {
      "text/plain": [
       "{'major_drop_Big_Pink_CB',\n",
       " 'major_drop_Bomb_Torizo_Bombs',\n",
       " 'major_drop_Grapple_G',\n",
       " 'major_drop_Gravity_GS',\n",
       " 'major_drop_Hi_Jump_HJ',\n",
       " 'major_drop_Ice_Beam_IB',\n",
       " 'major_drop_Morph_Ball_Room_MB',\n",
       " 'major_drop_Plasma_PLB',\n",
       " 'major_drop_Screw_Attack_SA',\n",
       " 'major_drop_Space_Jump_SJ',\n",
       " 'major_drop_Spazer_Spazer',\n",
       " 'major_drop_Speed_Booster_SB',\n",
       " 'major_drop_Spring_Ball_SPB',\n",
       " 'major_drop_Varia_Suit_V',\n",
       " 'major_drop_Wave_Beam_WB',\n",
       " 'major_drop_XRay_XR'}"
      ]
     },
     "execution_count": 60,
     "metadata": {},
     "output_type": "execute_result"
    }
   ],
   "source": [
    "context.support(good_designs)"
   ]
  },
  {
   "cell_type": "code",
   "execution_count": null,
   "id": "34d449f7-87be-49c1-95bc-ef1718a114cc",
   "metadata": {},
   "outputs": [],
   "source": []
  }
 ],
 "metadata": {
  "kernelspec": {
   "display_name": "Python 3 (ipykernel)",
   "language": "python",
   "name": "python3"
  },
  "language_info": {
   "codemirror_mode": {
    "name": "ipython",
    "version": 3
   },
   "file_extension": ".py",
   "mimetype": "text/x-python",
   "name": "python",
   "nbconvert_exporter": "python",
   "pygments_lexer": "ipython3",
   "version": "3.10.12"
  }
 },
 "nbformat": 4,
 "nbformat_minor": 5
}

{
 "cells": [
  {
   "cell_type": "code",
   "execution_count": null,
   "metadata": {},
   "outputs": [],
   "source": [
    "%load_ext autoreload\n",
    "%autoreload 2"
   ]
  },
  {
   "cell_type": "code",
   "execution_count": null,
   "metadata": {},
   "outputs": [],
   "source": [
    "from rom_tools import rom_manager"
   ]
  },
  {
   "cell_type": "code",
   "execution_count": null,
   "metadata": {},
   "outputs": [],
   "source": [
    "rom = rom_manager.RomManager(\"../roms/sm_clean_2.smc\", \"../roms/sm_jank.smc\")"
   ]
  },
  {
   "cell_type": "code",
   "execution_count": null,
   "metadata": {
    "scrolled": true
   },
   "outputs": [],
   "source": [
    "obj_names = rom.parse()"
   ]
  },
  {
   "cell_type": "code",
   "execution_count": null,
   "metadata": {},
   "outputs": [],
   "source": [
    "for key,value in obj_names.items():\n",
    "    print(key)\n",
    "    print(value)"
   ]
  },
  {
   "cell_type": "code",
   "execution_count": null,
   "metadata": {},
   "outputs": [],
   "source": [
    "enemy_list_92b3 = obj_names[\"room_header_0x792b3\"].state_chooser.default.enemy_list.enemies"
   ]
  },
  {
   "cell_type": "code",
   "execution_count": null,
   "metadata": {},
   "outputs": [],
   "source": [
    "for e_p in enemy_list_92b3:\n",
    "    e = obj_names[e_p]\n",
    "    print(e.x_pos/16, e.y_pos/16)\n",
    "    print(e.x_pos//16, e.y_pos//16)"
   ]
  },
  {
   "cell_type": "code",
   "execution_count": null,
   "metadata": {},
   "outputs": [],
   "source": [
    "import numpy as np"
   ]
  },
  {
   "cell_type": "code",
   "execution_count": null,
   "metadata": {},
   "outputs": [],
   "source": [
    "def get_fixed_tiles(room_header):\n",
    "    fixed_tiles = set()\n",
    "    all_states = [s.state for s in room_header.state_chooser.conditions] + [room_header.state_chooser.default]\n",
    "    shapes = [state.level_data.level_array.layer1.shape for state in all_states]\n",
    "    # Hopefully all level datas have the same shape...\n",
    "    assert len(set(shapes)) == 1\n",
    "    for state in all_states:\n",
    "        # Add doors\n",
    "        layer1 = state.level_data.level_array.layer1\n",
    "        it = np.nditer(layer1, flags=[\"multi_index\", \"refs_ok\"])\n",
    "        for tile in it:\n",
    "            tile = tile.item()\n",
    "            if tile.tile_type == 9:\n",
    "                fixed_tiles.add(it.multi_index)\n",
    "        # Add all enemy positions\n",
    "        #TODO: Some enemies may take up more than one tile...\n",
    "        for enemy in state.enemy_list.enemies:\n",
    "            e_pos = (enemy.x_pos//16, enemy.y_pos//16)\n",
    "            fixed_tiles.add(e_pos)\n",
    "        # Add PLM positions\n",
    "        for plm in state.plms.l:\n",
    "            plm_pos = (plm.x_pos//16, plm.y_pos//16)\n",
    "            fixed_tiles.add(plm_pos)\n",
    "        # Add screens that are either fully solid or fully air\n",
    "        for x in range(layer1.shape[0] // 16):\n",
    "            for y in range(layer1.shape[1] // 16):\n",
    "                screen_x = x * 16\n",
    "                screen_y = y * 16\n",
    "                screen = layer1[screen_x:screen_x+16,screen_y:screen_y+16]\n",
    "                test_solid = np.vectorize(lambda x: x.tile_type == 8)\n",
    "                #print(test_solid(screen))\n",
    "                test_air = np.vectorize(lambda x: x.tile_type == 0)\n",
    "                if np.all(test_solid(screen)) or np.all(test_air(screen)):\n",
    "                    for x_sub in range(16):\n",
    "                        for y_sub in range(16):\n",
    "                            fixed_tiles.add((screen_x + x_sub, screen_y + y_sub))\n",
    "    return fixed_tiles"
   ]
  },
  {
   "cell_type": "code",
   "execution_count": null,
   "metadata": {},
   "outputs": [],
   "source": [
    "room_header = obj_names[\"room_header_0x791f8\"]\n",
    "sc = room_header.state_chooser\n",
    "len(get_fixed_tiles(room_header))"
   ]
  },
  {
   "cell_type": "code",
   "execution_count": null,
   "metadata": {},
   "outputs": [],
   "source": [
    "room_header.state_chooser.conditions[0].state.level_data is room_header.state_chooser.default.level_data"
   ]
  },
  {
   "cell_type": "code",
   "execution_count": null,
   "metadata": {},
   "outputs": [],
   "source": [
    "import pickle"
   ]
  },
  {
   "cell_type": "code",
   "execution_count": null,
   "metadata": {},
   "outputs": [],
   "source": [
    "with open(\"output/obj_names.pickle\", \"wb\") as f:\n",
    "    pickle.dump(obj_names, f)"
   ]
  },
  {
   "cell_type": "code",
   "execution_count": null,
   "metadata": {},
   "outputs": [],
   "source": [
    "with open(\"output/obj_names.pickle\", \"rb\") as f:\n",
    "    obj_names2 = pickle.load(f)"
   ]
  },
  {
   "cell_type": "code",
   "execution_count": null,
   "metadata": {},
   "outputs": [],
   "source": [
    "rom.compile(obj_names2)"
   ]
  },
  {
   "cell_type": "code",
   "execution_count": null,
   "metadata": {},
   "outputs": [],
   "source": [
    "rom.save_and_close()"
   ]
  },
  {
   "cell_type": "code",
   "execution_count": null,
   "metadata": {},
   "outputs": [],
   "source": [
    "room_header = obj_names2[\"room_header_0x797b5\"]\n",
    "state_chooser = room_header.state_chooser\n",
    "state_choice = obj_names2[state_chooser.conditions[0]]\n",
    "state = state_choice.state\n",
    "print(state.level_data.address.as_snes_bytes(3))\n",
    "print(state.list)\n",
    "print(state.bytes)\n",
    "print(state.bytes[0].size)\n",
    "print(state.true_bytes)\n",
    "print(state.bytes[0].resolve())\n",
    "state.address"
   ]
  },
  {
   "cell_type": "code",
   "execution_count": null,
   "metadata": {},
   "outputs": [],
   "source": [
    "from rom_tools.compress import decompress\n",
    "from rom_tools.address import Address"
   ]
  },
  {
   "cell_type": "code",
   "execution_count": null,
   "metadata": {},
   "outputs": [],
   "source": [
    "problem_bytes = rom.read_from_clean(Address(0x23FF02), 10000)"
   ]
  },
  {
   "cell_type": "code",
   "execution_count": null,
   "metadata": {},
   "outputs": [],
   "source": [
    "problem_level, size = decompress.decompress_with_size(problem_bytes, debug=True)"
   ]
  },
  {
   "cell_type": "code",
   "execution_count": null,
   "metadata": {},
   "outputs": [],
   "source": [
    "960 * 16 + 2"
   ]
  },
  {
   "cell_type": "code",
   "execution_count": null,
   "metadata": {},
   "outputs": [],
   "source": [
    "len(problem_level)"
   ]
  },
  {
   "cell_type": "code",
   "execution_count": null,
   "metadata": {},
   "outputs": [],
   "source": [
    "6144 * 2.5"
   ]
  },
  {
   "cell_type": "code",
   "execution_count": null,
   "metadata": {},
   "outputs": [],
   "source": [
    "rom = rom_manager.RomManager(\"../roms/sm_asp_1.smc\", \"../roms/sm_foo.smc\")\n",
    "rom_clean = rom_manager.RomManager(\"../roms/sm_clean.smc\", \"../roms/sm_foo2\")"
   ]
  },
  {
   "cell_type": "code",
   "execution_count": null,
   "metadata": {},
   "outputs": [],
   "source": [
    "from rom_tools.compress import decompress\n",
    "from rom_tools.address import Address"
   ]
  },
  {
   "cell_type": "code",
   "execution_count": null,
   "metadata": {},
   "outputs": [],
   "source": [
    "a = Address(0x27322e)\n",
    "raw_data = rom.read_from_clean(a, 10000)"
   ]
  },
  {
   "cell_type": "code",
   "execution_count": null,
   "metadata": {},
   "outputs": [],
   "source": [
    "data = decompress.decompress(data)"
   ]
  },
  {
   "cell_type": "code",
   "execution_count": null,
   "metadata": {},
   "outputs": [],
   "source": [
    "raw_data_clean = rom_clean.read_from_clean(a, 10000)"
   ]
  },
  {
   "cell_type": "code",
   "execution_count": null,
   "metadata": {},
   "outputs": [],
   "source": [
    "data_clean = decompress.decompress(data_clean)"
   ]
  },
  {
   "cell_type": "code",
   "execution_count": null,
   "metadata": {},
   "outputs": [],
   "source": [
    "len(data_clean)"
   ]
  },
  {
   "cell_type": "code",
   "execution_count": null,
   "metadata": {},
   "outputs": [],
   "source": [
    "levelsize = int.from_bytes(data_clean[0:2], byteorder=\"little\")\n",
    "print(levelsize)\n",
    "data_layer2 = data[int(2 + 1.5 * levelsize):]\n",
    "data_clean_layer2 = data_clean[int(2 + 1.5 * levelsize):]"
   ]
  },
  {
   "cell_type": "code",
   "execution_count": null,
   "metadata": {},
   "outputs": [],
   "source": [
    "len(data_clean_layer2)"
   ]
  },
  {
   "cell_type": "code",
   "execution_count": null,
   "metadata": {},
   "outputs": [],
   "source": [
    "for i in range(len(data_layer2)):\n",
    "    if data_layer2[i] != data_clean_layer2[i]:\n",
    "        print(i, data_layer2[i], data_clean_layer2[i])"
   ]
  },
  {
   "cell_type": "code",
   "execution_count": null,
   "metadata": {},
   "outputs": [],
   "source": [
    "from rom_tools.leveldata_utils import *"
   ]
  },
  {
   "cell_type": "code",
   "execution_count": null,
   "metadata": {},
   "outputs": [],
   "source": [
    "bit_clean = bit_array_from_bytes(data_clean, Coord(48,48))"
   ]
  },
  {
   "cell_type": "code",
   "execution_count": null,
   "metadata": {},
   "outputs": [],
   "source": [
    "re_bytes = bytes_from_bit_array(bit_clean)"
   ]
  },
  {
   "cell_type": "code",
   "execution_count": null,
   "metadata": {},
   "outputs": [],
   "source": [
    "for i in range(len(re_bytes)):\n",
    "    if data_clean[i] != re_bytes[i]:\n",
    "        print(i, data_clean[i], re_bytes[i])"
   ]
  },
  {
   "cell_type": "code",
   "execution_count": null,
   "metadata": {},
   "outputs": [],
   "source": [
    "rom.save_and_close()\n",
    "rom_clean.save_and_close()"
   ]
  },
  {
   "cell_type": "code",
   "execution_count": null,
   "metadata": {},
   "outputs": [],
   "source": []
  }
 ],
 "metadata": {
  "kernelspec": {
   "display_name": "Python3.9",
   "language": "python",
   "name": "python3"
  },
  "language_info": {
   "codemirror_mode": {
    "name": "ipython",
    "version": 3
   },
   "file_extension": ".py",
   "mimetype": "text/x-python",
   "name": "python",
   "nbconvert_exporter": "python",
   "pygments_lexer": "ipython3",
   "version": "3.9.5"
  }
 },
 "nbformat": 4,
 "nbformat_minor": 4
}

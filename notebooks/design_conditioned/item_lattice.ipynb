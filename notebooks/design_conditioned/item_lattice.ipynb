{
 "cells": [
  {
   "cell_type": "code",
   "execution_count": 1,
   "id": "cbaf26e4-3779-4d2a-9619-7bde9cb2297a",
   "metadata": {},
   "outputs": [
    {
     "name": "stdout",
     "output_type": "stream",
     "text": [
      "%pylab is deprecated, use %matplotlib inline and import the required libraries.\n",
      "Populating the interactive namespace from numpy and matplotlib\n"
     ]
    }
   ],
   "source": [
    "%load_ext autoreload\n",
    "%autoreload 2\n",
    "%pylab inline"
   ]
  },
  {
   "cell_type": "code",
   "execution_count": 2,
   "id": "761ce19e-4511-4839-a4d3-4cf19d3d0158",
   "metadata": {},
   "outputs": [],
   "source": [
    "from itertools import permutations\n",
    "from collections import defaultdict"
   ]
  },
  {
   "cell_type": "code",
   "execution_count": 3,
   "id": "f5b51610-cd4f-4755-ad82-61bf1786aaac",
   "metadata": {},
   "outputs": [],
   "source": [
    "import sys\n",
    "sys.path.append(\"../..\")"
   ]
  },
  {
   "cell_type": "code",
   "execution_count": 4,
   "id": "3689cabd-7061-4a34-b58b-e8de0e20b726",
   "metadata": {},
   "outputs": [],
   "source": [
    "from bdds.bdd_core import *\n",
    "from bdds.node_bdds import *\n",
    "from bdds.design_conditioned import *"
   ]
  },
  {
   "cell_type": "code",
   "execution_count": 5,
   "id": "818bdae1-d0f5-4e24-adcf-dd7795938b11",
   "metadata": {},
   "outputs": [],
   "source": [
    "from data_types import item_set"
   ]
  },
  {
   "cell_type": "code",
   "execution_count": 6,
   "id": "39037054-e2bc-4a78-bf12-817d0035b4e3",
   "metadata": {},
   "outputs": [],
   "source": [
    "#helper = DesignInfo(\"../../encoding/dsl/rooms_for_alloy.txt\", \"../../encoding/dsl/exits_for_alloy.txt\", \"../../output/important_closure.dddmp\")"
   ]
  },
  {
   "cell_type": "code",
   "execution_count": 7,
   "id": "ebbbf6fa-b1e7-4063-943a-925791f22f58",
   "metadata": {},
   "outputs": [],
   "source": [
    "import time"
   ]
  },
  {
   "cell_type": "code",
   "execution_count": 8,
   "id": "d4367411-93d8-4e51-8090-14bb0baff1f0",
   "metadata": {},
   "outputs": [],
   "source": [
    "timea = time.time()"
   ]
  },
  {
   "cell_type": "code",
   "execution_count": 9,
   "id": "97e9f635-b80f-46d1-858e-392860cc6742",
   "metadata": {},
   "outputs": [],
   "source": [
    "helper = NodeEnv(\"../../encoding/dsl/rooms_for_alloy.txt\", \"../../encoding/dsl/exits_for_alloy.txt\")"
   ]
  },
  {
   "cell_type": "code",
   "execution_count": 10,
   "id": "6f97bfda-8138-49fa-8029-cd2ab5b93b73",
   "metadata": {},
   "outputs": [],
   "source": [
    "start_bdd = helper.context.add_expr(\"node_id_prev = 0\") & helper.mk_itemset_expr(item_set.ItemSet())"
   ]
  },
  {
   "cell_type": "code",
   "execution_count": 11,
   "id": "07e13efd-f26c-4cb3-9efe-a4cc417fe55d",
   "metadata": {},
   "outputs": [],
   "source": [
    "trans = helper.mk_trans()"
   ]
  },
  {
   "cell_type": "code",
   "execution_count": 12,
   "id": "c69a4d24-bfdb-4a44-a1ac-58a98c9427d4",
   "metadata": {},
   "outputs": [
    {
     "data": {
      "text/plain": [
       "158241627570176.0"
      ]
     },
     "execution_count": 12,
     "metadata": {},
     "output_type": "execute_result"
    }
   ],
   "source": [
    "trans.count()"
   ]
  },
  {
   "cell_type": "code",
   "execution_count": 13,
   "id": "e2d83c56-9c9f-40a9-9252-0b8c8f4746c6",
   "metadata": {},
   "outputs": [],
   "source": [
    "%%capture\n",
    "all_reachable_p = get_reachable_id(trans, helper.context, start_bdd)"
   ]
  },
  {
   "cell_type": "code",
   "execution_count": 14,
   "id": "b7376e5c-e787-4594-8ce3-013689827ff0",
   "metadata": {},
   "outputs": [],
   "source": [
    "# Feasible transitions only go between pairs of reachable nodes\n",
    "trans_feasible = trans & all_reachable_p & (helper.context.let(prev_to_next, all_reachable_p))"
   ]
  },
  {
   "cell_type": "code",
   "execution_count": 15,
   "id": "f39ba517-f8ca-423a-8ed7-49a2eeaf4193",
   "metadata": {},
   "outputs": [
    {
     "data": {
      "text/plain": [
       "7305430.0"
      ]
     },
     "execution_count": 15,
     "metadata": {},
     "output_type": "execute_result"
    }
   ],
   "source": [
    "trans_feasible.count()"
   ]
  },
  {
   "cell_type": "code",
   "execution_count": 16,
   "id": "b1ddd9a1-7458-4a59-8a3b-7458a711251d",
   "metadata": {},
   "outputs": [],
   "source": [
    "# I don't think we need this...\n",
    "#all_pairs_reachable = helper.mk_closure(trans_feasible)"
   ]
  },
  {
   "cell_type": "code",
   "execution_count": 17,
   "id": "6c34ffeb-69d8-43aa-8c49-7fb9f9612237",
   "metadata": {},
   "outputs": [],
   "source": [
    "get_E = helper.context.add_expr(f\"E_prev = 0 & E_next = 1\")\n",
    "get_without_PB = helper.context.add_expr(f\"PB_prev = 0\") & get_E"
   ]
  },
  {
   "cell_type": "code",
   "execution_count": 18,
   "id": "dae2b779-df6a-4b24-8165-3bccdf861db8",
   "metadata": {},
   "outputs": [],
   "source": [
    "itemset_lattice = helper.context.exist(pos_vars, trans_feasible)"
   ]
  },
  {
   "cell_type": "code",
   "execution_count": 19,
   "id": "9d69b747-9a34-4e35-8e7e-4fe28a447496",
   "metadata": {},
   "outputs": [
    {
     "data": {
      "text/plain": [
       "Function (DdNode) with var index: 19, ref count: 1, int repr: 96245159485379"
      ]
     },
     "execution_count": 19,
     "metadata": {},
     "output_type": "execute_result"
    }
   ],
   "source": [
    "trans_feasible"
   ]
  },
  {
   "cell_type": "code",
   "execution_count": 20,
   "id": "3f4312dd-a7a9-4d03-9f76-826d3715c71d",
   "metadata": {},
   "outputs": [],
   "source": [
    "#test = trans_feasible & helper.context.add_expr(\"Crocomire_prev = 0 & PB_prev = 0 & PB_next = 1\")"
   ]
  },
  {
   "cell_type": "code",
   "execution_count": 21,
   "id": "a54574e1-c608-4fcb-9b98-ff23969e7919",
   "metadata": {},
   "outputs": [],
   "source": [
    "#helper.context.pick(test)"
   ]
  },
  {
   "cell_type": "code",
   "execution_count": 22,
   "id": "2c4053cf-c7c3-46e7-a8bf-262d4aa7de02",
   "metadata": {},
   "outputs": [
    {
     "data": {
      "text/plain": [
       "0.0"
      ]
     },
     "execution_count": 22,
     "metadata": {},
     "output_type": "execute_result"
    }
   ],
   "source": [
    "(trans_feasible & helper.context.add_expr(\"Crocomire_prev = 0 & IB_prev = 0 & PB_next = 1\")).count()"
   ]
  },
  {
   "cell_type": "code",
   "execution_count": 23,
   "id": "914d782d-5727-4449-bc58-99e8a85eb348",
   "metadata": {},
   "outputs": [
    {
     "data": {
      "text/plain": [
       "396.0"
      ]
     },
     "execution_count": 23,
     "metadata": {},
     "output_type": "execute_result"
    }
   ],
   "source": [
    "(trans_feasible & helper.context.add_expr(\"IB_prev = 0 & IB_next = 1\")).count()"
   ]
  },
  {
   "cell_type": "code",
   "execution_count": 24,
   "id": "89316fe0-cf2e-4b0a-af08-496dc6ab0024",
   "metadata": {},
   "outputs": [],
   "source": [
    "context = helper.context"
   ]
  },
  {
   "cell_type": "code",
   "execution_count": 25,
   "id": "95751b26-2553-4758-a2d4-9f8ce98698e4",
   "metadata": {},
   "outputs": [],
   "source": [
    "get_pb = context.add_expr(f\"PB_prev = 0 & PB_next = 1\") & itemset_lattice"
   ]
  },
  {
   "cell_type": "code",
   "execution_count": 26,
   "id": "b9a72a7f-1799-4aeb-a83d-5a4623420cdd",
   "metadata": {},
   "outputs": [],
   "source": [
    "get_pb2 = context.let(prev_to_temp, get_pb)"
   ]
  },
  {
   "cell_type": "code",
   "execution_count": 27,
   "id": "02d909ee-e9cc-482e-ab95-38e45d7a63c2",
   "metadata": {},
   "outputs": [],
   "source": [
    "# Compute the GTE relation on the sets\n",
    "set_gte = context.true\n",
    "for i in item_mapping:\n",
    "    set_gte &= context.add_expr(f\"{i}_temp >= {i}_prev\")"
   ]
  },
  {
   "cell_type": "code",
   "execution_count": 28,
   "id": "05fb299d-c92e-48a7-8b0f-1a960820efe6",
   "metadata": {},
   "outputs": [],
   "source": [
    "set_eq = context.true\n",
    "for i in item_mapping:\n",
    "    set_eq &= context.add_expr(f\"{i}_temp = {i}_prev\")\n",
    "set_ne = ~set_eq"
   ]
  },
  {
   "cell_type": "code",
   "execution_count": 29,
   "id": "bb760fde-ff9b-4aa6-ad1f-71bb6c695b80",
   "metadata": {},
   "outputs": [],
   "source": [
    "set_lte = context.true\n",
    "for i in item_mapping:\n",
    "    set_lte &= context.add_expr(f\"{i}_temp <= {i}_prev\")\n",
    "set_lt = set_lte & set_ne"
   ]
  },
  {
   "cell_type": "code",
   "execution_count": 30,
   "id": "a5f08c45-68da-47ba-9915-7da4b8c20c3a",
   "metadata": {},
   "outputs": [],
   "source": [
    "def to_var(i, when=\"prev\"):\n",
    "    return context.add_expr(f\"{i}_{when} = 1\")"
   ]
  },
  {
   "cell_type": "code",
   "execution_count": 31,
   "id": "0d833656-1437-484f-b49e-8a1b388c443d",
   "metadata": {},
   "outputs": [],
   "source": [
    "# Item restrictions in Super Metroid are monotone. This means that if item set A => item B reachable, then {C : C > A} => B reachable.\n",
    "# This function computes a BDD which is equivalent to the input BDD, but it is monotonic over the prevs\n",
    "def compute_non_monotonic(bdd):\n",
    "    # Compute the set of non-monotonic edges\n",
    "    # Use temp as the 'superset'\n",
    "    bdd2 = context.let(prev_to_temp, bdd)\n",
    "    # The set of all edges that are not usable with a larger set of items\n",
    "    return context.let(temp_to_prev, context.exist(prevs, bdd & set_gte & ~bdd2))\n",
    "\n",
    "def monotonize(bdd):\n",
    "    non_mon = compute_non_monotonic(bdd)\n",
    "    return bdd | non_mon\n",
    "\n",
    "def count_items(bdd):\n",
    "    counts = {}\n",
    "    print(prevs)\n",
    "    print(context.support(bdd))\n",
    "    for i in context.support(bdd) & set(prevs):\n",
    "        val = context.count(bdd & context.add_expr(f\"{i} = 1\"))\n",
    "        if val != 0:\n",
    "            counts[i] = val\n",
    "    return counts\n",
    "\n",
    "# Computes a CNF of a set of sets iff the set is monotone\n",
    "# Update: Monotone Boolean Equivalence is co-NP Complete\n",
    "# This function does not work as advertised.\n",
    "def monotone_cnf(bdd):\n",
    "    # List of lists\n",
    "    # [[a,b],[c,d]] means [a or b] and [c or d]\n",
    "    current_cnf = []\n",
    "    no_nexts = context.exist(nexts, bdd)\n",
    "    current_bdd = no_nexts\n",
    "    current_cnf_bdd = context.true\n",
    "    while current_cnf_bdd & current_bdd != current_cnf_bdd:\n",
    "        current_count_outer = context.count(current_cnf_bdd & current_bdd)\n",
    "        print(context.pick(current_cnf_bdd))\n",
    "        print(current_count_outer)\n",
    "        current_clause = []\n",
    "        current_clause_bdd = context.false\n",
    "        clause_cover = current_clause_bdd & current_bdd\n",
    "        while clause_cover != current_bdd:\n",
    "            current_count = context.count(clause_cover)\n",
    "            print(current_count)\n",
    "            print(context.support(current_bdd & ~current_clause_bdd) & set(prevs))\n",
    "            item_counts = count_items(current_bdd & ~current_clause_bdd)\n",
    "            print(item_counts)\n",
    "            if len(item_counts) == 0:\n",
    "                break\n",
    "            i = max(item_counts, key = lambda x: item_counts[x])\n",
    "            print(f\"Choosing {i}\")\n",
    "            current_clause.append(i)\n",
    "            current_clause_bdd |= context.add_expr(f\"{i} = 1\")\n",
    "            clause_cover = current_clause_bdd & current_bdd\n",
    "            next_count = context.count(clause_cover)\n",
    "            print(next_count)\n",
    "            print(f\"Clause: {current_clause}\")\n",
    "        current_cnf.append(current_clause)\n",
    "        current_cnf_bdd &= current_clause_bdd\n",
    "        current_bdd = context.exist(current_clause, current_bdd)\n",
    "        next_count_outer = context.count(current_cnf_bdd & current_bdd)\n",
    "        print(context.support(current_bdd) & set(prevs))\n",
    "        print(\"Outer:\", next_count_outer)\n",
    "        #assert(next_count_outer < current_count_outer)\n",
    "        print(f\"CNF: {current_cnf}\")\n",
    "    #assert current_cnf_bdd == no_nexts, \"BDD was not monotone!\"\n",
    "    return current_cnf, current_cnf_bdd"
   ]
  },
  {
   "cell_type": "code",
   "execution_count": 32,
   "id": "38e5097e-df6c-4e56-8d6a-c4d2603851eb",
   "metadata": {},
   "outputs": [],
   "source": [
    "prev_to_item = {f\"{i}_prev\": i for i in item_mapping}"
   ]
  },
  {
   "cell_type": "code",
   "execution_count": 33,
   "id": "40edd124-8305-4836-9c1d-2ecfa2ed36e1",
   "metadata": {},
   "outputs": [],
   "source": [
    "def mk_set_eq(vars):\n",
    "    eq = context.true\n",
    "    for v in vars:\n",
    "        eq &= context.add_expr(f\"{v} = {prev_to_temp[v]}\")\n",
    "    return eq\n",
    "\n",
    "def mk_set_lte(vars):\n",
    "    lte = context.true\n",
    "    for v in vars:\n",
    "        lte &= context.add_expr(f\"{v} <= {prev_to_temp[v]}\")\n",
    "    return lte\n",
    "\n",
    "def mk_set_lt(vars):\n",
    "    eq = mk_set_eq(vars)\n",
    "    lte = mk_set_lte(vars)\n",
    "    return lte & (~eq)\n",
    "\n",
    "def minimize(bdd):\n",
    "    bdd2 = context.let(prev_to_temp, bdd)\n",
    "    lt = mk_set_lt(context.support(bdd))\n",
    "    # All sets which are strict subsets of another set\n",
    "    supers = context.let(temp_to_prev, context.exist(prevs, bdd & bdd2 & lt))\n",
    "    return bdd & ~supers\n",
    "\n",
    "# BDD should be prevs-only\n",
    "# Requirements is a mapping from frozensets to frozensets\n",
    "def mk_requirements(item, requirements):\n",
    "    bdd = context.add_expr(f\"{item}_prev = 0 & {item}_next = 1\") & itemset_lattice\n",
    "    bdd_p = context.exist(nexts, bdd)\n",
    "    mins = minimize(monotonize(bdd_p))\n",
    "    # Compute the conjunctive part - items required in every solution\n",
    "    conj = set()\n",
    "    for i in item_mapping:\n",
    "        ibdd = context.add_expr(f\"{i}_prev = 0\")\n",
    "        if (ibdd & mins).count() == 0:\n",
    "            conj.add(i)\n",
    "    #print(conj)\n",
    "    # Compute the disjunctive part\n",
    "    exists = [f\"{c}_prev\" for c in conj]\n",
    "    mins2 = context.exist(exists, mins)\n",
    "    n_disjs = context.count(mins2)\n",
    "    #print(item, n_disjs)\n",
    "    if n_disjs == 0:\n",
    "        requirements[item] = frozenset()\n",
    "        return\n",
    "    # If there's more than one disj, then we have to make a disjunctive node\n",
    "    if context.count(mins2) != 1:\n",
    "        disj = set()\n",
    "        # Make a node for each disjunctive solution\n",
    "        for d in context.pick_iter(mins2):\n",
    "            # We only care about required items\n",
    "            dd = {k: v for k,v in d.items() if v == 1}\n",
    "            # If the disj only has one node, that node can be a direct requirement\n",
    "            if len(dd) == 1:\n",
    "                [(k,v)] = list(dd.items())\n",
    "                v == 1\n",
    "                disj.add(prev_to_item[k])\n",
    "            # Otherwise, we need to make a (potentially new) node for the combination\n",
    "            #TODO: can potentially remove some things from the core if all disjunctive sets would require them\n",
    "            # Conjunction over minimize(monotonize()) of the sets\n",
    "            else:\n",
    "                soln_i = set()\n",
    "                for k,v in dd.items():\n",
    "                    # If the item was needed\n",
    "                    if v == 1:\n",
    "                        soln_i.add(prev_to_item[k])\n",
    "                fsoln_i = frozenset(soln_i)\n",
    "                assert len(fsoln_i) > 1, f\"{dd},  {len(dd)}\"\n",
    "                fname = frozenset(soln_i | set([\"&\"]))\n",
    "                disj.add(fname)\n",
    "                # Create a new node if needed\n",
    "                if fname not in requirements:\n",
    "                    requirements[fname] = fsoln_i\n",
    "        # Make a disjunctive node for the disjunction\n",
    "        fdisj = frozenset(disj)\n",
    "        dname = frozenset(disj | set([\"|\"]))\n",
    "        #print(item, dname)\n",
    "        if dname not in requirements:\n",
    "            requirements[dname] = fdisj\n",
    "        requirements[item].add(dname)\n",
    "    # Conj is the core; conj items are required by the current item\n",
    "    requirements[item] = requirements[item] | conj"
   ]
  },
  {
   "cell_type": "code",
   "execution_count": 34,
   "id": "a25c2570-1eaf-45e7-8e36-d1e3101be8dc",
   "metadata": {},
   "outputs": [],
   "source": [
    "requirements = defaultdict(set)"
   ]
  },
  {
   "cell_type": "code",
   "execution_count": 35,
   "id": "d4fd8065-e4a1-41b1-8cb0-16aca61a083f",
   "metadata": {},
   "outputs": [],
   "source": [
    "mk_requirements(\"B\", requirements)"
   ]
  },
  {
   "cell_type": "code",
   "execution_count": 36,
   "id": "eba32f31-c45f-46d5-8cbb-f4867e7c2f45",
   "metadata": {},
   "outputs": [
    {
     "data": {
      "text/plain": [
       "defaultdict(set, {'B': {'M', 'MB'}})"
      ]
     },
     "execution_count": 36,
     "metadata": {},
     "output_type": "execute_result"
    }
   ],
   "source": [
    "requirements"
   ]
  },
  {
   "cell_type": "code",
   "execution_count": 37,
   "id": "2436b5cf-830e-4a31-9c4e-f132349d5dc3",
   "metadata": {},
   "outputs": [],
   "source": [
    "def compute_requirements():\n",
    "    # Compute the item requirements\n",
    "    requirements = defaultdict(set)\n",
    "    # For item_a to be required for item_b, we need two conditions:\n",
    "        # - There is a reachable edge where the player has item_a and gets item_b\n",
    "        # - There is no edge where the player does not have item_a and gets item_b\n",
    "    for item_a, item_b in permutations(item_mapping.keys(), 2):\n",
    "        get_b = helper.context.add_expr(f\"{item_b}_prev = 0 & {item_b}_next = 1\")\n",
    "        get_with = helper.context.add_expr(f\"{item_a}_prev = 1\") & get_b\n",
    "        get_without = helper.context.add_expr(f\"{item_a}_prev = 0\") & get_b\n",
    "        if (trans_feasible & get_with).count() > 0 and (trans_feasible & get_without).count() == 0:\n",
    "            # B requires A\n",
    "            requirements[item_b].add(item_a)\n",
    "    return requirements"
   ]
  },
  {
   "cell_type": "code",
   "execution_count": 38,
   "id": "303eac47-2c81-4dac-9399-eed7305274e3",
   "metadata": {},
   "outputs": [],
   "source": [
    "def compute_requirements_dnf():\n",
    "    requirements = defaultdict(set)\n",
    "    for i in item_mapping:\n",
    "        mk_requirements(i, requirements)\n",
    "    return requirements"
   ]
  },
  {
   "cell_type": "code",
   "execution_count": 39,
   "id": "ba050d48-898d-43d3-9c81-2a894da85d28",
   "metadata": {},
   "outputs": [],
   "source": [
    "def simplify(requirements):\n",
    "    requirements2 = defaultdict(set)\n",
    "    for item_b, s in requirements.items():\n",
    "        removes = set()\n",
    "        for item_a in s:\n",
    "            # item_a is not required if there exists another required item that also requires item_a\n",
    "            for item_c in s:\n",
    "                if item_c != item_a:\n",
    "                    if item_c in requirements and item_a in requirements[item_c]:\n",
    "                        removes.add(item_a)\n",
    "        requirements2[item_b] = requirements[item_b] - removes\n",
    "    return requirements2\n",
    "\n",
    "# Prunes unnecessary \"&\" nodes (nodes with a single child after simplification)\n",
    "def prune_ands(requirements):\n",
    "    sfd = []\n",
    "    for k,v in requirements.items():\n",
    "        if \"&\" in k and len(v) == 1:\n",
    "            print(f\"Removing {k}\")\n",
    "            sfd.append(k)\n",
    "            child = list(v)[0]\n",
    "            # Find the parents and fix their requirements\n",
    "            for k2, v2 in requirements.items():\n",
    "                if k in v2:\n",
    "                    v2 = v2 - frozenset({k})\n",
    "                    v2 = v2 | frozenset({child})\n",
    "                requirements[k2] = v2\n",
    "    # Remove the nodes\n",
    "    for k in sfd:\n",
    "        del requirements[k]\n",
    "\n",
    "#TODO: this is very inefficient since many sets will be compared repeatedly\n",
    "def dnf_superset(dnf_a, dnf_b):\n",
    "    id = \"|\"\n",
    "    #print(f\"Comparing {dnf_a} with {dnf_b}\")\n",
    "    assert id in dnf_a and id in dnf_b\n",
    "    solns_a = dnf_a - set([id])\n",
    "    solns_b = dnf_b - set([id])\n",
    "    # A >= B if for each soln in A, there is a corresponding soln in B which is larger (requires at least as many items)\n",
    "    for s_a in solns_a:\n",
    "        if type(s_a) == str:\n",
    "            s_a = set([s_a])\n",
    "        found = False\n",
    "        for s_b in solns_b:\n",
    "            if type(s_b) == str:\n",
    "                s_b = set([s_b])\n",
    "            if s_a <= s_b:\n",
    "                found = True\n",
    "                continue\n",
    "        if not found:\n",
    "            return False\n",
    "    return True\n",
    "\n",
    "def in_reqs(item, requirements):\n",
    "    id = \"|\"\n",
    "    for k in requirements:\n",
    "        if item == k:\n",
    "            return True\n",
    "        # If item >= req, then it is in the set (there is a more restrictive set)\n",
    "        if type(item) == frozenset and id in item and type(k) == frozenset and id in k:\n",
    "            return dnf_superset(item, k)\n",
    "\n",
    "# Repeatedly remove unnecessary disjunctive nodes (dnodes without any forward edges) until a fixpoint\n",
    "def prune_dnodes(requirements):\n",
    "    removed = True\n",
    "    while removed:\n",
    "        removed = False\n",
    "        sfd = []\n",
    "        for k, v in requirements.items():\n",
    "            # Only target disjunctive nodes\n",
    "            if \"|\" in k or \"&\" in k:\n",
    "                found = False\n",
    "                # Find a node that requires k\n",
    "                for k2, v2 in requirements.items():\n",
    "                    if k in v2:\n",
    "                        found = True\n",
    "                if not found:\n",
    "                    sfd.append(k)\n",
    "        for k in sfd:\n",
    "            del requirements[k]\n",
    "        if len(sfd) > 0:\n",
    "            removed = True\n",
    "\n",
    "def simplify_dnf(requirements):\n",
    "    requirements2 = defaultdict(set)\n",
    "    for item_b, s in requirements.items():\n",
    "        removes = set()\n",
    "        for item_a in s:\n",
    "            # item_a is not required if there exists another required item that also requires item_a\n",
    "            for item_c in s:\n",
    "                if item_c != item_a:\n",
    "                    #if item_c in requirements and item_a in requirements[item_c]:\n",
    "                    if in_reqs(item_c, requirements) and in_reqs(item_a, requirements[item_c]):\n",
    "                        removes.add(item_a)\n",
    "        requirements2[item_b] = requirements[item_b] - removes\n",
    "    # Now remove unnecessary &s\n",
    "    prune_ands(requirements2)\n",
    "    prune_dnodes(requirements2)\n",
    "    return requirements2"
   ]
  },
  {
   "cell_type": "code",
   "execution_count": 40,
   "id": "9ac5fc54-4414-445c-94d0-83e030dcbd6c",
   "metadata": {},
   "outputs": [],
   "source": [
    "import graphviz"
   ]
  },
  {
   "cell_type": "code",
   "execution_count": 41,
   "id": "7a3dadbb-7ce4-449c-b0ce-bf80f4ac799d",
   "metadata": {},
   "outputs": [],
   "source": [
    "#requirements = compute_requirements()\n",
    "#requirements = simplift(requirements)\n",
    "#for i in item_mapping:\n",
    "#    lattice.node(i) \n",
    "#for k,vs in requirements.items():\n",
    "#    for v in vs:\n",
    "#        lattice.edge(v, k)\n",
    "#lattice.render(\"../../output/item_lattice\")"
   ]
  },
  {
   "cell_type": "code",
   "execution_count": 47,
   "id": "af199ccc-f398-4b8f-a81d-5d80d85b9014",
   "metadata": {},
   "outputs": [
    {
     "name": "stdout",
     "output_type": "stream",
     "text": [
      "Removing frozenset({'&', 'SB', 'IB'})\n"
     ]
    }
   ],
   "source": [
    "requirements = compute_requirements_dnf()\n",
    "requirements = simplify_dnf(requirements)"
   ]
  },
  {
   "cell_type": "code",
   "execution_count": 48,
   "id": "b8f75412-fe0d-48f1-8617-cd37dcafe1ab",
   "metadata": {},
   "outputs": [],
   "source": [
    "# Clean up the requirements table\n",
    "del requirements[\"Ceres_Ridley\"]\n",
    "del requirements[\"Bomb_Torizo\"]\n",
    "requirements[\"MB\"] = frozenset([\"START\"])"
   ]
  },
  {
   "cell_type": "code",
   "execution_count": 50,
   "id": "80d2fcd8-d0f2-4f23-8e27-73c6d145006a",
   "metadata": {},
   "outputs": [],
   "source": [
    "from encoding import sm_global"
   ]
  },
  {
   "cell_type": "code",
   "execution_count": 52,
   "id": "24bd8843-1cdf-4af9-93dd-08f0001056d2",
   "metadata": {},
   "outputs": [],
   "source": [
    "itr = sm_global.item_translate"
   ]
  },
  {
   "cell_type": "code",
   "execution_count": 53,
   "id": "98af6d2c-255e-45e7-84aa-f2f408076e09",
   "metadata": {},
   "outputs": [
    {
     "data": {
      "text/plain": [
       "'../../output/item_lattice.pdf'"
      ]
     },
     "execution_count": 53,
     "metadata": {},
     "output_type": "execute_result"
    }
   ],
   "source": [
    "# Build the graph\n",
    "lattice = graphviz.Digraph()\n",
    "for k in requirements.keys():\n",
    "    if type(k) == frozenset:\n",
    "        assert not (set([\"|\", \"&\"]) < k), \"Weird Node!\"\n",
    "        if \"|\" in k:\n",
    "            lattice.node(str(k), label=\"|\")\n",
    "        elif \"&\" in k:\n",
    "            lattice.node(str(k), label=\"&\")\n",
    "    elif k == \"START\":\n",
    "        lattice.node(\"START\", \"START\", color=\"blue\", style=\"filled\", shape=\"doubleoctagon\")\n",
    "    else:\n",
    "        lattice.node(itr[k])\n",
    "for k,vs in requirements.items():\n",
    "    for v in vs:\n",
    "        if k in itr:\n",
    "            ks = sm_global.item_translate[str(k)]\n",
    "        else:\n",
    "            ks = str(k)\n",
    "        if v in itr:\n",
    "            vs = sm_global.item_translate[str(v)]\n",
    "        else:\n",
    "            vs = str(v)\n",
    "        if \"|\" in k:\n",
    "            lattice.edge(vs, ks, style=\"dashed\")\n",
    "        else:\n",
    "            lattice.edge(vs, ks)\n",
    "lattice.render(\"../../output/item_lattice\")"
   ]
  },
  {
   "cell_type": "code",
   "execution_count": 45,
   "id": "362d2c88-6e05-43a7-ab21-0f261d7bf7a7",
   "metadata": {},
   "outputs": [],
   "source": [
    "timeb = time.time()"
   ]
  },
  {
   "cell_type": "code",
   "execution_count": 50,
   "id": "2b6ffa7f-ce3f-4402-a5a9-45f31103efca",
   "metadata": {},
   "outputs": [
    {
     "data": {
      "text/plain": [
       "8.51942777633667"
      ]
     },
     "execution_count": 50,
     "metadata": {},
     "output_type": "execute_result"
    }
   ],
   "source": [
    "timeb - timea"
   ]
  },
  {
   "cell_type": "code",
   "execution_count": 46,
   "id": "400964c1-b5a9-4caf-b27c-6bb8a09d11d5",
   "metadata": {},
   "outputs": [],
   "source": [
    "#TODO compute requirements for every minor item using trans_feasible!\n",
    "#TODO: dotted edges for | requirements\n",
    "#TODO: what is going on with reserve tank requiring Varia?\n",
    "#TODO: "
   ]
  },
  {
   "cell_type": "code",
   "execution_count": 47,
   "id": "72f7f6ef-62f1-4371-ab9c-86f5cf6c8afd",
   "metadata": {},
   "outputs": [],
   "source": [
    "def convert(d):\n",
    "    s = set()\n",
    "    for k, v in d.items():\n",
    "        if v == 1:\n",
    "            s.add(k)\n",
    "    return frozenset(s)"
   ]
  },
  {
   "cell_type": "code",
   "execution_count": 48,
   "id": "d62027bf-e869-4dee-8e45-5f03ea6ab235",
   "metadata": {},
   "outputs": [
    {
     "ename": "NameError",
     "evalue": "name 'solns' is not defined",
     "output_type": "error",
     "traceback": [
      "\u001b[0;31m---------------------------------------------------------------------------\u001b[0m",
      "\u001b[0;31mNameError\u001b[0m                                 Traceback (most recent call last)",
      "Cell \u001b[0;32mIn[48], line 1\u001b[0m\n\u001b[0;32m----> 1\u001b[0m solns_s \u001b[38;5;241m=\u001b[39m \u001b[38;5;28mset\u001b[39m([convert(d) \u001b[38;5;28;01mfor\u001b[39;00m d \u001b[38;5;129;01min\u001b[39;00m \u001b[43msolns\u001b[49m])\n\u001b[1;32m      2\u001b[0m solns2_s \u001b[38;5;241m=\u001b[39m \u001b[38;5;28mset\u001b[39m([convert(d) \u001b[38;5;28;01mfor\u001b[39;00m d \u001b[38;5;129;01min\u001b[39;00m solns2])\n\u001b[1;32m      3\u001b[0m solns3_s \u001b[38;5;241m=\u001b[39m \u001b[38;5;28mset\u001b[39m([convert(d) \u001b[38;5;28;01mfor\u001b[39;00m d \u001b[38;5;129;01min\u001b[39;00m solns3])\n",
      "\u001b[0;31mNameError\u001b[0m: name 'solns' is not defined"
     ]
    }
   ],
   "source": [
    "solns_s = set([convert(d) for d in solns])\n",
    "solns2_s = set([convert(d) for d in solns2])\n",
    "solns3_s = set([convert(d) for d in solns3])"
   ]
  },
  {
   "cell_type": "code",
   "execution_count": null,
   "id": "0404abf0-6b29-47b4-a389-48422b0d2609",
   "metadata": {},
   "outputs": [],
   "source": [
    "extra = solns_s - solns2_s\n",
    "extra"
   ]
  },
  {
   "cell_type": "code",
   "execution_count": null,
   "id": "16e44340-25ab-407b-a39a-4b0e360b2f42",
   "metadata": {},
   "outputs": [],
   "source": [
    "for e in extra:\n",
    "    for s in solns2_s:\n",
    "        if e < s:\n",
    "            print(\"LT\")\n",
    "            print(e)\n",
    "            print(s)\n",
    "            break"
   ]
  },
  {
   "cell_type": "code",
   "execution_count": null,
   "id": "708ee406-aa0b-4c56-9bba-8ac465809a82",
   "metadata": {},
   "outputs": [],
   "source": [
    "from itertools import combinations"
   ]
  },
  {
   "cell_type": "code",
   "execution_count": null,
   "id": "5e425a2b-876a-4efc-8bc7-3ad381375388",
   "metadata": {},
   "outputs": [],
   "source": [
    "def minimize_non_bdd(sets):\n",
    "    sfd = set()\n",
    "    sfdi = set()\n",
    "    indices = set(range(len(sets)))\n",
    "    for (i1, s1), (i2, s2) in combinations(enumerate(sets), 2):\n",
    "        print(i1, i2)\n",
    "        if s1 < s2:\n",
    "            print(f\"Removing set {i2}\")\n",
    "            print(s2 - s1)\n",
    "            sfd.add(s2)\n",
    "            sfdi.add(i2)\n",
    "        if s2 < s1:\n",
    "            print(f\"Removing set {i1}\")\n",
    "            print(s1 - s2)\n",
    "            sfd.add(s1)\n",
    "            sfdi.add(i1)\n",
    "    return sets - sfd, indices - sfdi"
   ]
  },
  {
   "cell_type": "code",
   "execution_count": null,
   "id": "301f83c4-16cd-49e1-9f19-0642d425cd96",
   "metadata": {},
   "outputs": [],
   "source": [
    "#len(minimize_non_bdd(solns_s))"
   ]
  },
  {
   "cell_type": "code",
   "execution_count": null,
   "id": "ee431523-97b8-4589-b6b3-a00ab1dae642",
   "metadata": {},
   "outputs": [],
   "source": [
    "minimize_non_bdd(solns_s)"
   ]
  },
  {
   "cell_type": "code",
   "execution_count": null,
   "id": "eafa01c1-a2de-43d4-a055-5b05bc618940",
   "metadata": {},
   "outputs": [],
   "source": [
    "q = convert(context.pick(m_p & to_var(\"WB\") & ~to_var(\"SB\") & to_var(\"Crocomire\")))\n",
    "#q = convert(context.pick(m_p & ~to_var(\"IB\") & to_var(\"SB\") & ~to_var(\"WB\") & to_var(\"Crocomire\")))"
   ]
  },
  {
   "cell_type": "code",
   "execution_count": null,
   "id": "6c6fc2cc-a4c7-4318-b1dc-95ece6ee70eb",
   "metadata": {},
   "outputs": [],
   "source": [
    "context.count(trans_feasible & ~to_var(\"IB\") & to_var(\"SB\") & ~to_var(\"WB\") & to_var(\"Crocomire\"))"
   ]
  },
  {
   "cell_type": "code",
   "execution_count": null,
   "id": "ebcb0c28-d2de-4302-8d48-3be6687e5d9b",
   "metadata": {},
   "outputs": [],
   "source": [
    "q"
   ]
  },
  {
   "cell_type": "code",
   "execution_count": null,
   "id": "de5ea694-4657-438f-82ab-00d88bfd3721",
   "metadata": {},
   "outputs": [],
   "source": [
    "for i, s in enumerate(solns_s):\n",
    "    if s == q:\n",
    "        print(i)"
   ]
  },
  {
   "cell_type": "code",
   "execution_count": null,
   "id": "23515a2a-0a73-4c80-a3eb-357b2a748452",
   "metadata": {},
   "outputs": [],
   "source": []
  }
 ],
 "metadata": {
  "kernelspec": {
   "display_name": "Python 3 (ipykernel)",
   "language": "python",
   "name": "python3"
  },
  "language_info": {
   "codemirror_mode": {
    "name": "ipython",
    "version": 3
   },
   "file_extension": ".py",
   "mimetype": "text/x-python",
   "name": "python",
   "nbconvert_exporter": "python",
   "pygments_lexer": "ipython3",
   "version": "3.10.12"
  }
 },
 "nbformat": 4,
 "nbformat_minor": 5
}

{
 "cells": [
  {
   "cell_type": "code",
   "execution_count": 2,
   "id": "adfd9043-0bb2-4a70-96b2-43fac88ca761",
   "metadata": {},
   "outputs": [
    {
     "name": "stdout",
     "output_type": "stream",
     "text": [
      "%pylab is deprecated, use %matplotlib inline and import the required libraries.\n",
      "Populating the interactive namespace from numpy and matplotlib\n"
     ]
    }
   ],
   "source": [
    "%load_ext autoreload\n",
    "%autoreload 2\n",
    "%pylab inline"
   ]
  },
  {
   "cell_type": "code",
   "execution_count": 3,
   "id": "dd29bc68-0aa7-48dd-bac4-704b5a7cbc4f",
   "metadata": {},
   "outputs": [],
   "source": [
    "import sys\n",
    "sys.path.append(\"..\")"
   ]
  },
  {
   "cell_type": "code",
   "execution_count": 4,
   "id": "bd85b63d-f724-49ac-852b-4c485b79e76e",
   "metadata": {},
   "outputs": [],
   "source": [
    "import functools"
   ]
  },
  {
   "cell_type": "code",
   "execution_count": 5,
   "id": "a610b132-adf6-4338-9d66-dfe1028abb39",
   "metadata": {},
   "outputs": [],
   "source": [
    "from encoding.parse_rooms import parse_rooms, parse_exits, dictify_rooms"
   ]
  },
  {
   "cell_type": "code",
   "execution_count": 6,
   "id": "9fa218e2-8f29-4682-9013-ee90351e6604",
   "metadata": {},
   "outputs": [],
   "source": [
    "rooms = parse_rooms(\"../encoding/dsl/rooms_for_alloy.txt\")\n",
    "exits = parse_exits(\"../encoding/dsl/exits_for_alloy.txt\")\n",
    "design = dictify_rooms(rooms, exits)"
   ]
  },
  {
   "cell_type": "code",
   "execution_count": 51,
   "id": "a09067e6-1a8c-48c0-8199-06caff994f6f",
   "metadata": {},
   "outputs": [
    {
     "data": {
      "text/plain": [
       "255"
      ]
     },
     "execution_count": 51,
     "metadata": {},
     "output_type": "execute_result"
    }
   ],
   "source": [
    "len(design[\"Rooms\"])"
   ]
  },
  {
   "cell_type": "code",
   "execution_count": 7,
   "id": "1b515036-2690-4a17-bf7f-c0373d16f585",
   "metadata": {},
   "outputs": [],
   "source": [
    "from rom_tools.rom_manager import RomManager\n",
    "from abstraction_validation.sm_paths import *"
   ]
  },
  {
   "cell_type": "code",
   "execution_count": 8,
   "id": "b9b2cde6-f057-4c14-b7cb-67d1561b4b3f",
   "metadata": {},
   "outputs": [],
   "source": [
    "from bdds.bdd_core import *"
   ]
  },
  {
   "cell_type": "code",
   "execution_count": 9,
   "id": "d632df36-977a-4ce8-9d55-c59bf1e0e3e2",
   "metadata": {},
   "outputs": [],
   "source": [
    "from functools import reduce"
   ]
  },
  {
   "cell_type": "code",
   "execution_count": 10,
   "id": "e707d395-553b-4bdf-98f9-5994d2ca798b",
   "metadata": {},
   "outputs": [],
   "source": [
    "all_nodes = []\n",
    "for r, room in rooms.items():\n",
    "    for node in room.graph.name_node.keys():\n",
    "        all_nodes.append(node)\n",
    "node_ids = {n:i for i,n in enumerate(all_nodes)}"
   ]
  },
  {
   "cell_type": "code",
   "execution_count": 11,
   "id": "f6b80b60-fe2b-4cbc-a38e-bd0e3caee767",
   "metadata": {
    "scrolled": true
   },
   "outputs": [
    {
     "data": {
      "text/plain": [
       "{'Landing_Site_Ship': 0,\n",
       " 'Landing_Site_End': 1,\n",
       " 'Landing_Site_L1': 2,\n",
       " 'Landing_Site_L2': 3,\n",
       " 'Landing_Site_R1': 4,\n",
       " 'Landing_Site_R2': 5,\n",
       " 'Gauntlet_Entrance_L': 6,\n",
       " 'Gauntlet_Entrance_R': 7,\n",
       " 'Parlor_L1': 8,\n",
       " 'Parlor_L2': 9,\n",
       " 'Parlor_L3': 10,\n",
       " 'Parlor_B': 11,\n",
       " 'Parlor_R1': 12,\n",
       " 'Parlor_R2': 13,\n",
       " 'Parlor_R3': 14,\n",
       " 'Crateria_Power_Bombs_L': 15,\n",
       " 'Crateria_Power_Bombs_PB': 16,\n",
       " 'Parlor_Save_Room_R': 17,\n",
       " 'West_Ocean_L2': 18,\n",
       " 'West_Ocean_R1': 19,\n",
       " 'West_Ocean_R2': 20,\n",
       " 'West_Ocean_R3': 21,\n",
       " 'West_Ocean_R5': 22,\n",
       " 'West_Ocean_R6': 23,\n",
       " 'West_Ocean_M1': 24,\n",
       " 'West_Ocean_M2': 25,\n",
       " 'West_Ocean_M3': 26,\n",
       " 'Bowling_Path_L': 27,\n",
       " 'Bowling_Path_R': 28,\n",
       " 'Crateria_Kihunters_L': 29,\n",
       " 'Crateria_Kihunters_R': 30,\n",
       " 'Crateria_Kihunters_B': 31,\n",
       " 'Crateria_Maridia_Shaft_T': 32,\n",
       " 'Crateria_Maridia_Shaft_ET': 33,\n",
       " 'East_Ocean_L': 34,\n",
       " 'East_Ocean_R': 35,\n",
       " 'Forgotten_Highway_L': 36,\n",
       " 'Forgotten_Highway_B': 37,\n",
       " 'Crab_Maze_T': 38,\n",
       " 'Crab_Maze_L': 39,\n",
       " 'Crateria_Power_Door_R': 40,\n",
       " 'Crateria_Power_Door_B': 41,\n",
       " 'Crateria_Tube_L': 42,\n",
       " 'Crateria_Tube_R': 43,\n",
       " 'Moat_L': 44,\n",
       " 'Moat_R': 45,\n",
       " 'Moat_M': 46,\n",
       " 'Caterpillar_Elevator_T': 47,\n",
       " 'Caterpillar_Elevator_ET': 48,\n",
       " 'Gauntlet_L': 49,\n",
       " 'Gauntlet_R': 50,\n",
       " 'Gauntlet_E': 51,\n",
       " 'Ocean_Ship_Trans_L': 52,\n",
       " 'Ocean_Ship_Trans_R': 53,\n",
       " 'Climb_Room_T': 54,\n",
       " 'Climb_Room_R1': 55,\n",
       " 'Climb_Room_R2': 56,\n",
       " 'Climb_Room_R3': 57,\n",
       " 'Climb_Room_L': 58,\n",
       " 'Old_Mother_Brain_L': 59,\n",
       " 'Old_Mother_Brain_R': 60,\n",
       " 'Old_Mother_Brain_M': 61,\n",
       " 'Blue_Brinstar_Elevator_L': 62,\n",
       " 'Blue_Brinstar_Elevator_ET': 63,\n",
       " 'Bomb_Torizo_L': 64,\n",
       " 'Bomb_Torizo_Bombs': 65,\n",
       " 'BT_Flyway_L': 66,\n",
       " 'BT_Flyway_R': 67,\n",
       " 'Map_Flyway_L': 68,\n",
       " 'Map_Flyway_R': 69,\n",
       " 'Terminator_Room_L': 70,\n",
       " 'Terminator_Room_R': 71,\n",
       " 'Terminator_Room_E': 72,\n",
       " 'Brinstar_Elevator_R': 73,\n",
       " 'Brinstar_Elevator_ET': 74,\n",
       " 'Kago_Room_L': 75,\n",
       " 'Kago_Room_R': 76,\n",
       " 'Crateria_Map_L': 77,\n",
       " 'Green_Pirates_Shaft_R1': 78,\n",
       " 'Green_Pirates_Shaft_R2': 79,\n",
       " 'Green_Pirates_Shaft_R3': 80,\n",
       " 'Green_Pirates_Shaft_L': 81,\n",
       " 'Green_Pirates_Shaft_M1': 82,\n",
       " 'Green_Pirates_Shaft_M2': 83,\n",
       " 'Crateria_Supers_L1': 84,\n",
       " 'Crateria_Supers_L2': 85,\n",
       " 'Crateria_Supers_S': 86,\n",
       " 'Final_Missile_Bombway_L': 87,\n",
       " 'Final_Missile_Bombway_R': 88,\n",
       " 'Final_Missile_R': 89,\n",
       " 'Final_Missile_M': 90,\n",
       " 'Brinstar_Entrance_EB': 91,\n",
       " 'Brinstar_Entrance_L1': 92,\n",
       " 'Brinstar_Entrance_L2': 93,\n",
       " 'Brinstar_Entrance_L3': 94,\n",
       " 'Brinstar_Entrance_L4': 95,\n",
       " 'Brinstar_Entrance_L5': 96,\n",
       " 'Brinstar_Entrance_L6': 97,\n",
       " 'Brinstar_Entrance_R1': 98,\n",
       " 'Brinstar_Entrance_R2': 99,\n",
       " 'Brinstar_Entrance_R3': 100,\n",
       " 'Brinstar_Entrance_PB': 101,\n",
       " 'Spore_Spawn_Supers_L1': 102,\n",
       " 'Spore_Spawn_Supers_L2': 103,\n",
       " 'Spore_Spawn_Supers_S': 104,\n",
       " 'Brinstar_Map_Entrance_L': 105,\n",
       " 'Brinstar_Map_Entrance_R': 106,\n",
       " 'Early_Supers_L': 107,\n",
       " 'Early_Supers_R': 108,\n",
       " 'Early_Supers_S': 109,\n",
       " 'Early_Supers_M': 110,\n",
       " 'Brinstar_Reserve_L': 111,\n",
       " 'Brinstar_Reserve_RT': 112,\n",
       " 'Brinstar_Reserve_M1': 113,\n",
       " 'Brinstar_Reserve_M2': 114,\n",
       " 'Brinstar_Map_R': 115,\n",
       " 'Brinstar_Firefleas_L': 116,\n",
       " 'Brinstar_Firefleas_R': 117,\n",
       " 'Brinstar_Missile_Refill_R': 118,\n",
       " 'Dachora_Room_L1': 119,\n",
       " 'Dachora_Room_L2': 120,\n",
       " 'Dachora_Room_R': 121,\n",
       " 'Big_Pink_L1': 122,\n",
       " 'Big_Pink_L2': 123,\n",
       " 'Big_Pink_L3': 124,\n",
       " 'Big_Pink_L4': 125,\n",
       " 'Big_Pink_L5': 126,\n",
       " 'Big_Pink_R1': 127,\n",
       " 'Big_Pink_R2': 128,\n",
       " 'Big_Pink_R3': 129,\n",
       " 'Big_Pink_R4': 130,\n",
       " 'Big_Pink_M1': 131,\n",
       " 'Big_Pink_M2': 132,\n",
       " 'Big_Pink_CB': 133,\n",
       " 'PreSpore_Kihunters_L': 134,\n",
       " 'PreSpore_Kihunters_T': 135,\n",
       " 'Spore_Spawn_B': 136,\n",
       " 'Spore_Spawn_R': 137,\n",
       " 'Spore_Spawn_Spore_Spawn': 138,\n",
       " 'Pink_Power_Bombs_R1': 139,\n",
       " 'Pink_Power_Bombs_R2': 140,\n",
       " 'Pink_Power_Bombs_PB': 141,\n",
       " 'Green_Hill_Zone_L': 142,\n",
       " 'Green_Hill_Zone_R1': 143,\n",
       " 'Green_Hill_Zone_R2': 144,\n",
       " 'Green_Hill_Zone_M': 145,\n",
       " 'Morph_Ball_Room_L': 146,\n",
       " 'Morph_Ball_Room_R': 147,\n",
       " 'Morph_Ball_Room_EB': 148,\n",
       " 'Morph_Ball_Room_MB': 149,\n",
       " 'Morph_Ball_Room_PB': 150,\n",
       " 'Construction_Zone_L1': 151,\n",
       " 'Construction_Zone_L2': 152,\n",
       " 'Construction_Zone_R': 153,\n",
       " 'Blue_Brinstar_Energy_L1': 154,\n",
       " 'Blue_Brinstar_Energy_L2': 155,\n",
       " 'Blue_Brinstar_Energy_E': 156,\n",
       " 'Blue_Brinstar_Energy_M': 157,\n",
       " 'Noob_Bridge_L': 158,\n",
       " 'Noob_Bridge_R': 159,\n",
       " 'Green_Brinstar_Beetoms_L': 160,\n",
       " 'Green_Brinstar_Beetoms_R': 161,\n",
       " 'Green_Brinstar_Energy_L1': 162,\n",
       " 'Green_Brinstar_Energy_L2': 163,\n",
       " 'Green_Brinstar_Energy_R1': 164,\n",
       " 'Green_Brinstar_Energy_R2': 165,\n",
       " 'Green_Brinstar_Energy_E': 166,\n",
       " 'Etecoon_Supers_R': 167,\n",
       " 'Etecoon_Supers_S': 168,\n",
       " 'Brinstar_Refill_R': 169,\n",
       " 'Spore_Spawn_Farm_L': 170,\n",
       " 'Spore_Spawn_Farm_R': 171,\n",
       " 'Waterway_Energy_R': 172,\n",
       " 'Waterway_Energy_E': 173,\n",
       " 'First_Missile_R': 174,\n",
       " 'First_Missile_M': 175,\n",
       " 'Pink_Hoppers_L': 176,\n",
       " 'Pink_Hoppers_R': 177,\n",
       " 'Hopper_Energy_L': 178,\n",
       " 'Hopper_Energy_E': 179,\n",
       " 'Pink_Save_R': 180,\n",
       " 'Blue_Brinstar_Boulders_L': 181,\n",
       " 'Blue_Brinstar_Boulders_R': 182,\n",
       " 'Billy_Mays_R': 183,\n",
       " 'Billy_Mays_M1': 184,\n",
       " 'Billy_Mays_M2': 185,\n",
       " 'Green_Entrance_Save_R': 186,\n",
       " 'Green_Beetom_Save_R': 187,\n",
       " 'Red_Tower_L1': 188,\n",
       " 'Red_Tower_L2': 189,\n",
       " 'Red_Tower_L3': 190,\n",
       " 'Red_Tower_R1': 191,\n",
       " 'Red_Tower_R2': 192,\n",
       " 'Red_Brinstar_Firefleas_L': 193,\n",
       " 'Red_Brinstar_Firefleas_R': 194,\n",
       " 'XRay_R': 195,\n",
       " 'XRay_XR': 196,\n",
       " 'Hellway_L': 197,\n",
       " 'Hellway_R': 198,\n",
       " 'Caterpillar_Room_L1': 199,\n",
       " 'Caterpillar_Room_L2': 200,\n",
       " 'Caterpillar_Room_L3': 201,\n",
       " 'Caterpillar_Room_R1': 202,\n",
       " 'Caterpillar_Room_R2': 203,\n",
       " 'Caterpillar_Room_EB': 204,\n",
       " 'Beta_Power_Bombs_R': 205,\n",
       " 'Beta_Power_Bombs_PB': 206,\n",
       " 'Alpha_Power_Bombs_R': 207,\n",
       " 'Alpha_Power_Bombs_PB': 208,\n",
       " 'Alpha_Power_Bombs_M': 209,\n",
       " 'Bat_Room_L': 210,\n",
       " 'Bat_Room_R': 211,\n",
       " 'Spazer_Troll_L': 212,\n",
       " 'Spazer_Troll_R1': 213,\n",
       " 'Spazer_Troll_R2': 214,\n",
       " 'Spazer_L': 215,\n",
       " 'Spazer_Spazer': 216,\n",
       " 'Warehouse_Zeelas_L1': 217,\n",
       " 'Warehouse_Zeelas_L2': 218,\n",
       " 'Warehouse_Zeelas_T': 219,\n",
       " 'Warehouse_Energy_R': 220,\n",
       " 'Warehouse_Energy_E': 221,\n",
       " 'Warehouse_Kihunters_B': 222,\n",
       " 'Warehouse_Kihunters_R1': 223,\n",
       " 'Warehouse_Kihunters_R2': 224,\n",
       " 'Warehouse_Kihunters_M': 225,\n",
       " 'Baby_Kraid_L': 226,\n",
       " 'Baby_Kraid_R': 227,\n",
       " 'Kraid_Eye_Door_L': 228,\n",
       " 'Kraid_Eye_Door_R1': 229,\n",
       " 'Kraid_Eye_Door_R2': 230,\n",
       " 'Kraid_L': 231,\n",
       " 'Kraid_R': 232,\n",
       " 'Kraid_Kraid': 233,\n",
       " 'Statue_Corridor_L': 234,\n",
       " 'Statue_Corridor_R': 235,\n",
       " 'Red_Tower_Refill_R': 236,\n",
       " 'Kraid_Refill_L': 237,\n",
       " 'Statues_L': 238,\n",
       " 'Statues_ET': 239,\n",
       " 'Statues_Statues': 240,\n",
       " 'Warehouse_Entrance_L': 241,\n",
       " 'Warehouse_Entrance_R': 242,\n",
       " 'Warehouse_Entrance_ET': 243,\n",
       " 'Varia_Suit_L': 244,\n",
       " 'Varia_Suit_V': 245,\n",
       " 'Kraid_Save_L': 246,\n",
       " 'Caterpillar_Save_L': 247,\n",
       " 'Ice_Beam_Acid_L': 248,\n",
       " 'Ice_Beam_Acid_R': 249,\n",
       " 'Cathedral_L': 250,\n",
       " 'Cathedral_R': 251,\n",
       " 'Cathedral_M': 252,\n",
       " 'Cathedral_Entrance_L': 253,\n",
       " 'Cathedral_Entrance_R': 254,\n",
       " 'Business_Center_L1': 255,\n",
       " 'Business_Center_L2': 256,\n",
       " 'Business_Center_L3': 257,\n",
       " 'Business_Center_R1': 258,\n",
       " 'Business_Center_R2': 259,\n",
       " 'Business_Center_R3': 260,\n",
       " 'Business_Center_EB': 261,\n",
       " 'Ice_Beam_Gate_L1': 262,\n",
       " 'Ice_Beam_Gate_L2': 263,\n",
       " 'Ice_Beam_Gate_L3': 264,\n",
       " 'Ice_Beam_Gate_R': 265,\n",
       " 'Ice_Beam_Tutorial_L': 266,\n",
       " 'Ice_Beam_Tutorial_R': 267,\n",
       " 'Ice_Beam_L': 268,\n",
       " 'Ice_Beam_IB': 269,\n",
       " 'Ice_Beam_Snakes_R1': 270,\n",
       " 'Ice_Beam_Snakes_R2': 271,\n",
       " 'Ice_Beam_Snakes_R3': 272,\n",
       " 'Crumble_Shaft_R1': 273,\n",
       " 'Crumble_Shaft_R2': 274,\n",
       " 'Crumble_Shaft_M': 275,\n",
       " 'Crocomire_Speedway_L1': 276,\n",
       " 'Crocomire_Speedway_L2': 277,\n",
       " 'Crocomire_Speedway_R1': 278,\n",
       " 'Crocomire_Speedway_R2': 279,\n",
       " 'Crocomire_Speedway_B': 280,\n",
       " 'Crocomire_T': 281,\n",
       " 'Crocomire_L': 282,\n",
       " 'Crocomire_E': 283,\n",
       " 'Crocomire_Crocomire': 284,\n",
       " 'Hi_Jump_R': 285,\n",
       " 'Hi_Jump_HJ': 286,\n",
       " 'Crocomire_Escape_L': 287,\n",
       " 'Crocomire_Escape_R': 288,\n",
       " 'Crocomire_Escape_M': 289,\n",
       " 'Hi_Jump_Energy_L': 290,\n",
       " 'Hi_Jump_Energy_R': 291,\n",
       " 'Hi_Jump_Energy_M': 292,\n",
       " 'Hi_Jump_Energy_E': 293,\n",
       " 'Crocomire_Farm_L': 294,\n",
       " 'Crocomire_Farm_R1': 295,\n",
       " 'Crocomire_Farm_R2': 296,\n",
       " 'Crocomire_Farm_B': 297,\n",
       " 'PostCroc_Save_L': 298,\n",
       " 'PostCroc_Power_Bombs_R': 299,\n",
       " 'PostCroc_Power_Bombs_PB': 300,\n",
       " 'PostCroc_Shaft_T': 301,\n",
       " 'PostCroc_Shaft_L': 302,\n",
       " 'PostCroc_Shaft_R': 303,\n",
       " 'PostCroc_Shaft_B': 304,\n",
       " 'Cosine_Room_L': 305,\n",
       " 'Cosine_Room_M': 306,\n",
       " 'Grapple_Hardest_L': 307,\n",
       " 'Grapple_Hardest_R': 308,\n",
       " 'Grapple_Yump_T': 309,\n",
       " 'Grapple_Yump_L': 310,\n",
       " 'Grapple_Yump_M': 311,\n",
       " 'Grapple_Harder_L': 312,\n",
       " 'Grapple_Harder_R': 313,\n",
       " 'Grapple_Hard_L': 314,\n",
       " 'Grapple_Hard_R': 315,\n",
       " 'Grapple_R1': 316,\n",
       " 'Grapple_R2': 317,\n",
       " 'Grapple_G': 318,\n",
       " 'Bubble_Reserve_R': 319,\n",
       " 'Bubble_Reserve_RT': 320,\n",
       " 'Bubble_Reserve_M': 321,\n",
       " 'Bubble_Missiles_L': 322,\n",
       " 'Bubble_Missiles_R': 323,\n",
       " 'Bubble_Missiles_M': 324,\n",
       " 'Bubble_Mountain_L1': 325,\n",
       " 'Bubble_Mountain_L2': 326,\n",
       " 'Bubble_Mountain_L3': 327,\n",
       " 'Bubble_Mountain_L4': 328,\n",
       " 'Bubble_Mountain_R1': 329,\n",
       " 'Bubble_Mountain_R2': 330,\n",
       " 'Bubble_Mountain_B': 331,\n",
       " 'Bubble_Mountain_M': 332,\n",
       " 'Go_Fast_L': 333,\n",
       " 'Go_Fast_R': 334,\n",
       " 'Go_Fast_M': 335,\n",
       " 'Speed_Booster_L': 336,\n",
       " 'Speed_Booster_SB': 337,\n",
       " 'Single_Chamber_L': 338,\n",
       " 'Single_Chamber_R1': 339,\n",
       " 'Single_Chamber_R2': 340,\n",
       " 'Single_Chamber_R3': 341,\n",
       " 'Single_Chamber_R4': 342,\n",
       " 'Double_Chamber_L1': 343,\n",
       " 'Double_Chamber_L2': 344,\n",
       " 'Double_Chamber_R': 345,\n",
       " 'Double_Chamber_M': 346,\n",
       " 'Wave_Beam_L': 347,\n",
       " 'Wave_Beam_WB': 348,\n",
       " 'Spiky_Platforms_L': 349,\n",
       " 'Spiky_Platforms_R': 350,\n",
       " 'Volcano_Room_L1': 351,\n",
       " 'Volcano_Room_L2': 352,\n",
       " 'Kronic_Boost_L1': 353,\n",
       " 'Kronic_Boost_L2': 354,\n",
       " 'Kronic_Boost_L3': 355,\n",
       " 'Kronic_Boost_R': 356,\n",
       " 'Magdollite_Tunnel_L': 357,\n",
       " 'Magdollite_Tunnel_R': 358,\n",
       " 'Purple_Shaft_T': 359,\n",
       " 'Purple_Shaft_R1': 360,\n",
       " 'Purple_Shaft_R2': 361,\n",
       " 'Lava_Dive_L': 362,\n",
       " 'Lava_Dive_R': 363,\n",
       " 'Lower_Elevator_L': 364,\n",
       " 'Lower_Elevator_R': 365,\n",
       " 'Lower_Elevator_ET': 366,\n",
       " 'Upper_Norfair_Farm_L1': 367,\n",
       " 'Upper_Norfair_Farm_L2': 368,\n",
       " 'Upper_Norfair_Farm_R': 369,\n",
       " 'Rising_Tide_L': 370,\n",
       " 'Rising_Tide_R': 371,\n",
       " 'Acid_Snakes_L': 372,\n",
       " 'Acid_Snakes_T': 373,\n",
       " 'Acid_Snakes_R': 374,\n",
       " 'Spiky_Acid_Snakes_L': 375,\n",
       " 'Spiky_Acid_Snakes_R': 376,\n",
       " 'Croc_Recharge_L': 377,\n",
       " 'Croc_Recharge_R': 378,\n",
       " 'Purple_Farm_L': 379,\n",
       " 'Bat_Cave_L': 380,\n",
       " 'Bat_Cave_R': 381,\n",
       " 'Norfair_Map_R': 382,\n",
       " 'Bubble_Save_R': 383,\n",
       " 'Frog_Speedway_L': 384,\n",
       " 'Frog_Speedway_R': 385,\n",
       " 'Red_Pirates_Shaft_R': 386,\n",
       " 'Red_Pirates_Shaft_B': 387,\n",
       " 'Business_Save_L': 388,\n",
       " 'Business_Save_R': 389,\n",
       " 'Crocomire_Save_L': 390,\n",
       " 'Lower_Elevator_Save_R': 391,\n",
       " 'Water_Closet_R1': 392,\n",
       " 'Water_Closet_R2': 393,\n",
       " 'Water_Closet_Drain': 394,\n",
       " 'Main_Hall_L': 395,\n",
       " 'Main_Hall_R': 396,\n",
       " 'Main_Hall_EB': 397,\n",
       " 'Golden_Torizo_L': 398,\n",
       " 'Golden_Torizo_R': 399,\n",
       " 'Golden_Torizo_S': 400,\n",
       " 'Golden_Torizo_M': 401,\n",
       " 'Golden_Torizo_Golden_Torizo': 402,\n",
       " 'Fast_Rippers_L': 403,\n",
       " 'Fast_Rippers_R': 404,\n",
       " 'Golden_Recharge_L': 405,\n",
       " 'Ridley_L': 406,\n",
       " 'Ridley_R': 407,\n",
       " 'Ridley_Ridley': 408,\n",
       " 'Lower_Norfair_Farm_L': 409,\n",
       " 'Lower_Norfair_Farm_R': 410,\n",
       " 'Fast_Pillars_Setup_L1': 411,\n",
       " 'Fast_Pillars_Setup_L2': 412,\n",
       " 'Fast_Pillars_Setup_R1': 413,\n",
       " 'Fast_Pillars_Setup_R2': 414,\n",
       " 'Mickey_Mouse_L': 415,\n",
       " 'Mickey_Mouse_R': 416,\n",
       " 'Mickey_Mouse_M': 417,\n",
       " 'Pillars_L': 418,\n",
       " 'Pillars_R': 419,\n",
       " 'Plowerhouse_L': 420,\n",
       " 'Plowerhouse_R': 421,\n",
       " 'The_Worst_Room_in_the_Game_L1': 422,\n",
       " 'The_Worst_Room_in_the_Game_L2': 423,\n",
       " 'The_Worst_Room_in_the_Game_R': 424,\n",
       " 'Amphitheatre_L': 425,\n",
       " 'Amphitheatre_R': 426,\n",
       " 'Hotarubi_L': 427,\n",
       " 'Hotarubi_R': 428,\n",
       " 'Hotarubi_B': 429,\n",
       " 'Hotarubi_M': 430,\n",
       " 'Escape_Power_Bombs_L': 431,\n",
       " 'Escape_Power_Bombs_T': 432,\n",
       " 'Escape_Power_Bombs_PB': 433,\n",
       " 'Red_Kihunter_Shaft_L': 434,\n",
       " 'Red_Kihunter_Shaft_R1': 435,\n",
       " 'Red_Kihunter_Shaft_R2': 436,\n",
       " 'Red_Kihunter_Shaft_B': 437,\n",
       " 'Wasteland_T': 438,\n",
       " 'Wasteland_PB': 439,\n",
       " 'Wasteland_L': 440,\n",
       " 'Metal_Pirates_L': 441,\n",
       " 'Metal_Pirates_R': 442,\n",
       " 'Three_Musketeers_L': 443,\n",
       " 'Three_Musketeers_R': 444,\n",
       " 'Three_Musketeers_M': 445,\n",
       " 'Ridley_Energy_R': 446,\n",
       " 'Ridley_Energy_E': 447,\n",
       " 'Screw_Attack_L': 448,\n",
       " 'Screw_Attack_R1': 449,\n",
       " 'Screw_Attack_R2': 450,\n",
       " 'Screw_Attack_SA': 451,\n",
       " 'Lower_Firefleas_L1': 452,\n",
       " 'Lower_Firefleas_L2': 453,\n",
       " 'Lower_Firefleas_R': 454,\n",
       " 'Lower_Firefleas_E': 455,\n",
       " 'Red_Kihunter_Save_L': 456,\n",
       " 'Bowling_Alley_L1': 457,\n",
       " 'Bowling_Alley_L2': 458,\n",
       " 'Bowling_Alley_L3': 459,\n",
       " 'Bowling_Alley_RT': 460,\n",
       " 'Bowling_Alley_M': 461,\n",
       " 'Wrecked_Ship_Entrance_L': 462,\n",
       " 'Wrecked_Ship_Entrance_R': 463,\n",
       " 'Attic_L': 464,\n",
       " 'Attic_R': 465,\n",
       " 'Attic_B': 466,\n",
       " 'Beep_Boop_L': 467,\n",
       " 'Beep_Boop_M': 468,\n",
       " 'Wrecked_Ship_Main_T': 469,\n",
       " 'Wrecked_Ship_Main_L1': 470,\n",
       " 'Wrecked_Ship_Main_L2': 471,\n",
       " 'Wrecked_Ship_Main_R1': 472,\n",
       " 'Wrecked_Ship_Main_R2': 473,\n",
       " 'Wrecked_Ship_Main_R3': 474,\n",
       " 'Wrecked_Ship_Main_B': 475,\n",
       " 'Wrecked_Ship_Main_M': 476,\n",
       " 'Spiky_Room_of_Death_L': 477,\n",
       " 'Spiky_Room_of_Death_R': 478,\n",
       " 'Electric_Room_of_Death_L1': 479,\n",
       " 'Electric_Room_of_Death_L2': 480,\n",
       " 'Electric_Room_of_Death_R': 481,\n",
       " 'Wrecked_Ship_Energy_R': 482,\n",
       " 'Wrecked_Ship_Energy_E': 483,\n",
       " 'Basement_L': 484,\n",
       " 'Basement_T': 485,\n",
       " 'Basement_R': 486,\n",
       " 'Wrecked_Ship_Map_R': 487,\n",
       " 'Phantoon_L': 488,\n",
       " 'Phantoon_Phantoon': 489,\n",
       " 'Sponge_Bath_L': 490,\n",
       " 'Sponge_Bath_R': 491,\n",
       " 'Wrecked_Ship_Supers_R': 492,\n",
       " 'Wrecked_Ship_Supers_S': 493,\n",
       " 'Beep_Boop_Supers_L': 494,\n",
       " 'Beep_Boop_Supers_S': 495,\n",
       " 'Gravity_L': 496,\n",
       " 'Gravity_R': 497,\n",
       " 'Gravity_GS': 498,\n",
       " 'Wrecked_Save_L': 499,\n",
       " 'Glass_Tunnel_Save_L': 500,\n",
       " 'Glass_Tunnel_T': 501,\n",
       " 'Glass_Tunnel_L': 502,\n",
       " 'Glass_Tunnel_R1': 503,\n",
       " 'Glass_Tunnel_R2': 504,\n",
       " 'West_Tunnel_L': 505,\n",
       " 'West_Tunnel_R': 506,\n",
       " 'East_Tunnel_L': 507,\n",
       " 'East_Tunnel_R1': 508,\n",
       " 'East_Tunnel_R2': 509,\n",
       " 'Main_Street_R1': 510,\n",
       " 'Main_Street_RMB2': 511,\n",
       " 'Main_Street_R3': 512,\n",
       " 'Main_Street_R4': 513,\n",
       " 'Main_Street_B': 514,\n",
       " 'Main_Street_M': 515,\n",
       " 'Main_Street_S': 516,\n",
       " 'Fish_Tank_L': 517,\n",
       " 'Fish_Tank_R': 518,\n",
       " 'Fish_Tank_T1': 519,\n",
       " 'Fish_Tank_T2': 520,\n",
       " 'Mama_Turtle_L': 521,\n",
       " 'Mama_Turtle_E': 522,\n",
       " 'Mama_Turtle_M': 523,\n",
       " 'Crab_Tunnel_L': 524,\n",
       " 'Crab_Tunnel_R': 525,\n",
       " 'Mount_Everest_L1': 526,\n",
       " 'Mount_Everest_LMB2': 527,\n",
       " 'Mount_Everest_T': 528,\n",
       " 'Mount_Everest_R': 529,\n",
       " 'Mount_Everest_B1': 530,\n",
       " 'Mount_Everest_B2': 531,\n",
       " 'McElligots_Pool_L': 532,\n",
       " 'McElligots_Pool_B': 533,\n",
       " 'Watering_Hole_R': 534,\n",
       " 'Watering_Hole_S': 535,\n",
       " 'Watering_Hole_M': 536,\n",
       " 'Bug_Room_L': 537,\n",
       " 'Bug_Room_R': 538,\n",
       " 'Crab_Shaft_L': 539,\n",
       " 'Crab_Shaft_T': 540,\n",
       " 'Crab_Shaft_R': 541,\n",
       " 'Pseudo_Plasma_Spark_L': 542,\n",
       " 'Pseudo_Plasma_Spark_B': 543,\n",
       " 'Pseudo_Plasma_Spark_M': 544,\n",
       " 'Crab_Hole_L1': 545,\n",
       " 'Crab_Hole_L2': 546,\n",
       " 'Crab_Hole_R1': 547,\n",
       " 'Crab_Hole_R2': 548,\n",
       " 'Tiny_Crab_L': 549,\n",
       " 'Tiny_Crab_R': 550,\n",
       " 'Plasma_Tutorial_L': 551,\n",
       " 'Plasma_Tutorial_R': 552,\n",
       " 'Plasma_L': 553,\n",
       " 'Plasma_PLB': 554,\n",
       " 'Thread_The_Needle_L': 555,\n",
       " 'Thread_The_Needle_R': 556,\n",
       " 'Maridia_Elevator_EB': 557,\n",
       " 'Maridia_Elevator_L': 558,\n",
       " 'Maridia_Elevator_R': 559,\n",
       " 'Plasma_Spark_R1': 560,\n",
       " 'Plasma_Spark_R2': 561,\n",
       " 'Plasma_Spark_R3': 562,\n",
       " 'Plasma_Spark_B': 563,\n",
       " 'Kassiuz_L': 564,\n",
       " 'Kassiuz_R': 565,\n",
       " 'Maridia_Map_L': 566,\n",
       " 'Maridia_First_Save_L': 567,\n",
       " 'Zip_Tube_T': 568,\n",
       " 'Zip_Tube_B': 569,\n",
       " 'Grabber_Hole_L': 570,\n",
       " 'Grabber_Hole_R': 571,\n",
       " 'Grabber_Hole_BS': 572,\n",
       " 'West_Sand_Hall_L': 573,\n",
       " 'West_Sand_Hall_R': 574,\n",
       " 'West_Sand_Hall_TS': 575,\n",
       " 'Oasis_L': 576,\n",
       " 'Oasis_R': 577,\n",
       " 'Oasis_T': 578,\n",
       " 'East_Sand_Hall_L': 579,\n",
       " 'East_Sand_Hall_R': 580,\n",
       " 'East_Sand_Hall_TS': 581,\n",
       " 'West_Sand_Hole_TS': 582,\n",
       " 'West_Sand_Hole_BS': 583,\n",
       " 'West_Sand_Hole_M': 584,\n",
       " 'West_Sand_Hole_RT': 585,\n",
       " 'East_Sand_Hole_TS': 586,\n",
       " 'East_Sand_Hole_BS': 587,\n",
       " 'East_Sand_Hole_M': 588,\n",
       " 'East_Sand_Hole_PB': 589,\n",
       " 'West_Sand_Pit_TS': 590,\n",
       " 'West_Sand_Pit_BS': 591,\n",
       " 'East_Sand_Pit_TS': 592,\n",
       " 'East_Sand_Pit_BS': 593,\n",
       " 'Aqueduct_T': 594,\n",
       " 'Aqueduct_L1': 595,\n",
       " 'Aqueduct_L2': 596,\n",
       " 'Aqueduct_R': 597,\n",
       " 'Aqueduct_BS1': 598,\n",
       " 'Aqueduct_BS2': 599,\n",
       " 'Aqueduct_M': 600,\n",
       " 'Aqueduct_S': 601,\n",
       " 'Butterfly_Room_TS': 602,\n",
       " 'Butterfly_Room_L': 603,\n",
       " 'Butterfly_Room_R': 604,\n",
       " 'Botwoon_Hallway_B': 605,\n",
       " 'Botwoon_Hallway_R': 606,\n",
       " 'Pants_L1': 607,\n",
       " 'Pants_L2': 608,\n",
       " 'Pants_R1': 609,\n",
       " 'Pants_R2': 610,\n",
       " 'Pants_Right_L': 611,\n",
       " 'Pants_Right_R': 612,\n",
       " 'Spring_Ball_L': 613,\n",
       " 'Spring_Ball_SPB': 614,\n",
       " 'Botwoon_Energy_Farm_L': 615,\n",
       " 'Botwoon_Energy_Farm_TS1': 616,\n",
       " 'Botwoon_Energy_Farm_TS2': 617,\n",
       " 'Colosseum_L': 618,\n",
       " 'Colosseum_R1': 619,\n",
       " 'Colosseum_R2': 620,\n",
       " 'Aqueduct_Save_R': 621,\n",
       " 'The_Precious_Room_L1': 622,\n",
       " 'The_Precious_Room_L2': 623,\n",
       " 'The_Precious_Room_M': 624,\n",
       " 'Botwoon_Energy_L': 625,\n",
       " 'Botwoon_Energy_R': 626,\n",
       " 'Botwoon_Energy_E': 627,\n",
       " 'Botwoon_Energy_BS1': 628,\n",
       " 'Botwoon_Energy_BS2': 629,\n",
       " 'Draygon_Save_L': 630,\n",
       " 'Draygon_Save_R': 631,\n",
       " 'Halfie_Refill_L': 632,\n",
       " 'Butterfly_Sand_Pit_BS': 633,\n",
       " 'Butterfly_Sand_Pit_TS': 634,\n",
       " 'Botwoon_Energy_Pit_TS1': 635,\n",
       " 'Botwoon_Energy_Pit_TS2': 636,\n",
       " 'Botwoon_Energy_Pit_BS1': 637,\n",
       " 'Botwoon_Energy_Pit_BS2': 638,\n",
       " 'Shaktool_L': 639,\n",
       " 'Shaktool_R': 640,\n",
       " 'Shaktool_Shaktool': 641,\n",
       " 'Halfie_Climb_L1': 642,\n",
       " 'Halfie_Climb_L2': 643,\n",
       " 'Halfie_Climb_R1': 644,\n",
       " 'Halfie_Climb_R2': 645,\n",
       " 'Botwoon_L': 646,\n",
       " 'Botwoon_R': 647,\n",
       " 'Botwoon_Botwoon': 648,\n",
       " 'Space_Jump_R': 649,\n",
       " 'Space_Jump_SJ': 650,\n",
       " 'Draygon_Recharge_L': 651,\n",
       " 'Cactus_Hallway_L': 652,\n",
       " 'Cactus_Hallway_R': 653,\n",
       " 'Cactus_Alley_L': 654,\n",
       " 'Cactus_Alley_R': 655,\n",
       " 'Draygon_L': 656,\n",
       " 'Draygon_R': 657,\n",
       " 'Draygon_Draygon': 658,\n",
       " 'Tourian_Elevator_EB': 659,\n",
       " 'Tourian_Elevator_L': 660,\n",
       " 'Tourian_Elevator_R': 661,\n",
       " 'Metroid_1_L': 662,\n",
       " 'Metroid_1_R': 663,\n",
       " 'Metroid_2_R1': 664,\n",
       " 'Metroid_2_R2': 665,\n",
       " 'Metroid_3_L': 666,\n",
       " 'Metroid_3_R': 667,\n",
       " 'Metroid_4_L': 668,\n",
       " 'Metroid_4_B': 669,\n",
       " 'Blue_Hoppers_T': 670,\n",
       " 'Blue_Hoppers_L': 671,\n",
       " 'RIP_Torizo_L': 672,\n",
       " 'RIP_Torizo_R': 673,\n",
       " 'Metroid_Skip_L': 674,\n",
       " 'Metroid_Skip_R': 675,\n",
       " 'Seaweed_Room_L': 676,\n",
       " 'Seaweed_Room_R1': 677,\n",
       " 'Seaweed_Room_R2': 678,\n",
       " 'Tourian_Refill_R': 679,\n",
       " 'Mother_Brain_L': 680,\n",
       " 'Mother_Brain_R': 681,\n",
       " 'Mother_Brain_Mother_Brain': 682,\n",
       " 'Tourian_Eye_Door_L': 683,\n",
       " 'Tourian_Eye_Door_R': 684,\n",
       " 'Rinka_Shaft_L1': 685,\n",
       " 'Rinka_Shaft_L2': 686,\n",
       " 'Rinka_Shaft_L3': 687,\n",
       " 'Mother_Brain_Save_R': 688,\n",
       " 'Escape_1_R': 689,\n",
       " 'Escape_1_B': 690,\n",
       " 'Escape_2_T': 691,\n",
       " 'Escape_2_R': 692,\n",
       " 'Escape_3_L': 693,\n",
       " 'Escape_3_R': 694,\n",
       " 'Escape_4_L': 695,\n",
       " 'Escape_4_R': 696,\n",
       " 'Tourian_Save_L': 697}"
      ]
     },
     "execution_count": 11,
     "metadata": {},
     "output_type": "execute_result"
    }
   ],
   "source": [
    "node_ids"
   ]
  },
  {
   "cell_type": "code",
   "execution_count": 12,
   "id": "d4b94330-fb28-4950-9438-14a356e7cbed",
   "metadata": {},
   "outputs": [],
   "source": [
    "# Issue with design translation via chopping off the last _\n",
    "node_ids[\"Spore_Spawn_Spawn\"] = node_ids[\"Spore_Spawn_Spore_Spawn\"]\n",
    "node_ids[\"Golden_Torizo_Torizo\"] = node_ids[\"Golden_Torizo_Golden_Torizo\"]\n",
    "node_ids[\"Mother_Brain_Brain\"] = node_ids[\"Mother_Brain_Mother_Brain\"]"
   ]
  },
  {
   "cell_type": "code",
   "execution_count": 13,
   "id": "9a333f34-3d11-480f-9d12-3985be270dcd",
   "metadata": {},
   "outputs": [],
   "source": [
    "def combine_bdd_group(bdds):\n",
    "    return reduce(lambda x,y: x|y, bdds, context_id.false)"
   ]
  },
  {
   "cell_type": "code",
   "execution_count": 14,
   "id": "9156d99d-0627-4ee7-b915-676dba22a1c4",
   "metadata": {},
   "outputs": [],
   "source": [
    "def loc_id(room_name, node_name, when=\"prev\"):\n",
    "    node_id = node_ids[f\"{room_name}_{node_name}\"]\n",
    "    return f\"node_id_{when} = {node_id}\""
   ]
  },
  {
   "cell_type": "code",
   "execution_count": 15,
   "id": "b7d1dd19-e6b0-4145-8b9a-29a909c00b22",
   "metadata": {},
   "outputs": [],
   "source": [
    "def item_transitions(item_gained=None):\n",
    "    if item_gained is None:\n",
    "        return \"(items_unchanged)\"\n",
    "    clauses = []\n",
    "    for i in design[\"Items\"] | design[\"Bosses\"]:\n",
    "        if i == item_gained:\n",
    "            clause = f\"{i}_prev < {i}_next\"\n",
    "        else:\n",
    "            clause = f\"{i}_prev = {i}_next\"\n",
    "        clauses.append(clause)\n",
    "    return \" & \".join(clauses)\n",
    "\n",
    "def itemset_to_str(itemset):\n",
    "    if len(itemset) == 0:\n",
    "        return \"TRUE\"\n",
    "    else:\n",
    "        return \" & \".join([f\"{item}_prev = 1\" for item in itemset])\n",
    "\n",
    "def required_itemsets(itemsets):\n",
    "    return \"(\" + \" | \".join([itemset_to_str(itemset) for itemset in itemsets]) + \")\""
   ]
  },
  {
   "cell_type": "code",
   "execution_count": 16,
   "id": "ee2be20a-9d2b-43e9-949d-0f357ef5779a",
   "metadata": {},
   "outputs": [],
   "source": [
    "from bdds.node_bdds import *"
   ]
  },
  {
   "cell_type": "code",
   "execution_count": 17,
   "id": "bd7018a8-33c5-483f-bd45-7b25fb65503e",
   "metadata": {},
   "outputs": [],
   "source": [
    "context_id = mk_context_id(node_ids)"
   ]
  },
  {
   "cell_type": "code",
   "execution_count": 58,
   "id": "13ea1f42-8d52-4eae-b81d-6ebb76a57e75",
   "metadata": {},
   "outputs": [
    {
     "data": {
      "text/plain": [
       "46.0"
      ]
     },
     "execution_count": 58,
     "metadata": {},
     "output_type": "execute_result"
    }
   ],
   "source": [
    "len(context_id.bdd.vars) / 4"
   ]
  },
  {
   "cell_type": "code",
   "execution_count": 18,
   "id": "9adec1df-8fc1-45a1-a67c-2b034d5e1044",
   "metadata": {},
   "outputs": [
    {
     "name": "stderr",
     "output_type": "stream",
     "text": [
      "100%|█████████████████████████████████████████████████████████████████████████████████| 255/255 [00:11<00:00, 21.26it/s]\n"
     ]
    }
   ],
   "source": [
    "# Build individual BDDs\n",
    "room_bdds = []\n",
    "door_bdds = []\n",
    "for room_name, room in tqdm(design['Rooms'].items()):\n",
    "    links = []\n",
    "    for node_name in room['Nodes']:\n",
    "        s = loc_id(room_name, node_name) + \" & \" + loc_id(room_name, node_name, when=\"next\") + \" & \" + item_transitions()\n",
    "        links.append(context_id.add_expr(s, with_ops=True))\n",
    "        if node_name in room['Drops']:\n",
    "            s = loc_id(room_name, node_name) + \" & \" + loc_id(room_name, node_name, when=\"next\") + \" & \" + item_transitions(room['Drops'][node_name])\n",
    "            links.append(context_id.add_expr(s, with_ops=True))\n",
    "    for node_name, door in room['Doors'].items():\n",
    "        d = loc_id(room_name, node_name) + \" & \" + loc_id(door['Room'], door['Node'], when=\"next\") + \" & \" + item_transitions()\n",
    "        door_bdds.append(context_id.add_expr(d, with_ops=True))\n",
    "    for node_name, edges in room['Edges'].items():\n",
    "        for edge in edges:\n",
    "            other_node_name = edge['Terminal']\n",
    "            s = loc_id(room_name, node_name) + \" & \" + loc_id(room_name, other_node_name, when=\"next\") + \" & \" + required_itemsets(edge['Requirements']) + \" & \" + item_transitions()\n",
    "            links.append(context_id.add_expr(s, with_ops=True))\n",
    "    room_bdd = combine_bdd_group(links)\n",
    "    #print(room_bdd.count())\n",
    "    room_bdds.append(room_bdd)"
   ]
  },
  {
   "cell_type": "code",
   "execution_count": 19,
   "id": "ada637c4-0bab-4712-8df4-a4e565812f2c",
   "metadata": {},
   "outputs": [],
   "source": [
    "doors_bdd = combine_bdd_group(door_bdds)\n",
    "rooms_bdd = combine_bdd_group(room_bdds)\n",
    "all_bdd = doors_bdd | rooms_bdd"
   ]
  },
  {
   "cell_type": "code",
   "execution_count": 20,
   "id": "893b79d0-5ed8-49fe-8865-ac05cb95406e",
   "metadata": {},
   "outputs": [
    {
     "data": {
      "text/plain": [
       "15347"
      ]
     },
     "execution_count": 20,
     "metadata": {},
     "output_type": "execute_result"
    }
   ],
   "source": [
    "all_bdd.dag_size # 11K"
   ]
  },
  {
   "cell_type": "code",
   "execution_count": 21,
   "id": "60761457-d517-4a6d-89b3-2e1c9f8885d3",
   "metadata": {},
   "outputs": [],
   "source": [
    "context_id.bdd.dump(\"../output/all_bdd.json\", [all_bdd])"
   ]
  },
  {
   "cell_type": "code",
   "execution_count": 22,
   "id": "f38c86e9-6883-4725-80e3-ad45aedebafa",
   "metadata": {},
   "outputs": [
    {
     "data": {
      "text/plain": [
       "158658239397888.0"
      ]
     },
     "execution_count": 22,
     "metadata": {},
     "output_type": "execute_result"
    }
   ],
   "source": [
    "all_bdd.count()\n",
    "# 158,211,025,928,192"
   ]
  },
  {
   "cell_type": "code",
   "execution_count": 23,
   "id": "422f9d1f-db4c-4c59-921b-369047fd1146",
   "metadata": {},
   "outputs": [
    {
     "data": {
      "text/plain": [
       "['__new__',\n",
       " '__repr__',\n",
       " '__hash__',\n",
       " '__str__',\n",
       " '__lt__',\n",
       " '__le__',\n",
       " '__eq__',\n",
       " '__ne__',\n",
       " '__gt__',\n",
       " '__ge__',\n",
       " '__invert__',\n",
       " '__and__',\n",
       " '__rand__',\n",
       " '__or__',\n",
       " '__ror__',\n",
       " '__int__',\n",
       " '__len__',\n",
       " 'implies',\n",
       " 'equiv',\n",
       " 'let',\n",
       " 'exist',\n",
       " 'forall',\n",
       " 'pick',\n",
       " 'count',\n",
       " '_index',\n",
       " 'var',\n",
       " 'level',\n",
       " 'ref',\n",
       " 'low',\n",
       " 'high',\n",
       " 'negated',\n",
       " 'support',\n",
       " 'dag_size',\n",
       " 'bdd',\n",
       " '_ref',\n",
       " '__doc__',\n",
       " '__pyx_vtable__',\n",
       " '__reduce__',\n",
       " '__setstate__',\n",
       " '__getattribute__',\n",
       " '__setattr__',\n",
       " '__delattr__',\n",
       " '__init__',\n",
       " '__reduce_ex__',\n",
       " '__subclasshook__',\n",
       " '__init_subclass__',\n",
       " '__format__',\n",
       " '__sizeof__',\n",
       " '__dir__',\n",
       " '__class__']"
      ]
     },
     "execution_count": 23,
     "metadata": {},
     "output_type": "execute_result"
    }
   ],
   "source": [
    "all_bdd.__dir__()"
   ]
  },
  {
   "cell_type": "code",
   "execution_count": 24,
   "id": "6242ac95-9816-4991-a30c-d01abe34ff77",
   "metadata": {},
   "outputs": [],
   "source": [
    "a = context_id.exist(nexts, all_bdd)"
   ]
  },
  {
   "cell_type": "code",
   "execution_count": 25,
   "id": "bbcc6137-5bf6-4a71-b622-caa7b22c9c90",
   "metadata": {},
   "outputs": [
    {
     "data": {
      "text/plain": [
       "23983097380864.0"
      ]
     },
     "execution_count": 25,
     "metadata": {},
     "output_type": "execute_result"
    }
   ],
   "source": [
    "a.count() * 2 ** len(set(prevs) - context_id.support(a))"
   ]
  },
  {
   "cell_type": "code",
   "execution_count": 26,
   "id": "cfa3e3f6-d417-456c-955b-485eb188a9c5",
   "metadata": {},
   "outputs": [
    {
     "data": {
      "text/plain": [
       "158658239397888"
      ]
     },
     "execution_count": 26,
     "metadata": {},
     "output_type": "execute_result"
    }
   ],
   "source": [
    "context_id.count(all_bdd)"
   ]
  },
  {
   "cell_type": "code",
   "execution_count": 27,
   "id": "42ace1bd-2e03-4040-93c2-5a01225706ec",
   "metadata": {},
   "outputs": [
    {
     "data": {
      "text/plain": [
       "3.303118274748924"
      ]
     },
     "execution_count": 27,
     "metadata": {},
     "output_type": "execute_result"
    }
   ],
   "source": [
    "158211025928192 / 47897475284992.0"
   ]
  },
  {
   "cell_type": "code",
   "execution_count": 28,
   "id": "d0396734-aee6-4e9e-9940-762aecff224e",
   "metadata": {},
   "outputs": [
    {
     "data": {
      "text/plain": [
       "93683974144.0"
      ]
     },
     "execution_count": 28,
     "metadata": {},
     "output_type": "execute_result"
    }
   ],
   "source": [
    "context_id.bdd.count(context_id.exist(nexts, all_bdd), len(prevs))"
   ]
  },
  {
   "cell_type": "code",
   "execution_count": 29,
   "id": "4325d267-8541-4521-b9b9-972894f9db66",
   "metadata": {},
   "outputs": [],
   "source": [
    "from data_types import item_set"
   ]
  },
  {
   "cell_type": "code",
   "execution_count": 30,
   "id": "a6c52276-7bd5-4581-94af-1ff007a58005",
   "metadata": {},
   "outputs": [],
   "source": [
    "def mk_itemset_expr(itemset, when=\"prev\"):\n",
    "    clauses = []\n",
    "    for i in item_mapping:\n",
    "        if i in itemset:\n",
    "            clause = f\"{i}_{when} = 1\"\n",
    "        else:\n",
    "            clause = f\"{i}_{when} = 0\"\n",
    "        clauses.append(clause)\n",
    "    return \" & \".join(clauses)"
   ]
  },
  {
   "cell_type": "code",
   "execution_count": 31,
   "id": "165752dc-57d5-4201-8f7e-42ca30004778",
   "metadata": {},
   "outputs": [],
   "source": [
    "def get_reachable_id(trans_norule, context, start_bdd):\n",
    "    n = 0\n",
    "    covered_p = start_bdd\n",
    "    covered_last_p = context.false\n",
    "    while covered_p != covered_last_p:\n",
    "        covered_last_p = covered_p\n",
    "        fringe_n = context.exist(prevs, covered_p & trans_norule)\n",
    "        covered_p |= context.let(next_to_prev, fringe_n)\n",
    "        print(n, covered_p.dag_size)\n",
    "        n+=1\n",
    "    return covered_p"
   ]
  },
  {
   "cell_type": "code",
   "execution_count": 32,
   "id": "f7a5db85-d0c0-4910-ac7a-e9375123a743",
   "metadata": {},
   "outputs": [],
   "source": [
    "start_bdd = context_id.add_expr(\"node_id_prev = 0 & \" + mk_itemset_expr(item_set.ItemSet()))"
   ]
  },
  {
   "cell_type": "code",
   "execution_count": 34,
   "id": "d3ff3768-3740-4f18-9a34-8705ba90d604",
   "metadata": {},
   "outputs": [],
   "source": [
    "%%capture\n",
    "all_reachable_p = get_reachable_id(all_bdd, context_id, start_bdd)"
   ]
  },
  {
   "cell_type": "code",
   "execution_count": 38,
   "id": "30507184-8b71-43d6-b405-9722eb9a95dc",
   "metadata": {},
   "outputs": [],
   "source": [
    "feasible_trans = all_bdd & all_reachable_p"
   ]
  },
  {
   "cell_type": "code",
   "execution_count": 39,
   "id": "46425fc5-ea1d-4242-bccf-d42e72fa0758",
   "metadata": {},
   "outputs": [],
   "source": [
    "wincon_p = context_id.add_expr(\"node_id_prev = 2 & Mother_Brain_prev = 1\")"
   ]
  },
  {
   "cell_type": "code",
   "execution_count": 40,
   "id": "9f675d24-6cea-41c6-8066-0fcf934e900b",
   "metadata": {},
   "outputs": [],
   "source": [
    "wincon = context_id.add_expr(\"node_id_goal = 2 & Mother_Brain_goal = 1 & node_id_next = 2 & Mother_Brain_next = 1\")"
   ]
  },
  {
   "cell_type": "code",
   "execution_count": 41,
   "id": "e65f27ef-e8be-4b9d-ad21-fbfb3bc16057",
   "metadata": {},
   "outputs": [
    {
     "data": {
      "text/plain": [
       "48891250.0"
      ]
     },
     "execution_count": 41,
     "metadata": {},
     "output_type": "execute_result"
    }
   ],
   "source": [
    "feasible_trans.count()"
   ]
  },
  {
   "cell_type": "code",
   "execution_count": 42,
   "id": "14aac5d2-db41-4d0b-b935-1959c01d1e0d",
   "metadata": {},
   "outputs": [],
   "source": [
    "import json"
   ]
  },
  {
   "cell_type": "code",
   "execution_count": 43,
   "id": "ad826d56-99a2-4021-834b-5f57ec66e0ef",
   "metadata": {},
   "outputs": [],
   "source": [
    "#with open(\"../output/context_id_order.json\", \"r\") as f:\n",
    "#    context_id.bdd.reorder(json.load(f))\n",
    "#context_id.bdd.configure(reordering=False)"
   ]
  },
  {
   "cell_type": "code",
   "execution_count": 50,
   "id": "7cd3efc9-0f7b-4523-9ec8-8a88ab5cd2f5",
   "metadata": {},
   "outputs": [],
   "source": [
    "#wincon = context_id.add_expr(\"node_id_next = node_id_goal & Mother_Brain_next = Mother_Brain_goal\")\n",
    "#wincon = context_id.add_expr(\"node_id_next = node_id_goal & node_id_goal = 1\") # ~1.5s\n",
    "wincon = context_id.add_expr(\"node_id_next = node_id_goal\")"
   ]
  },
  {
   "cell_type": "code",
   "execution_count": 49,
   "id": "6c07a414-b6b1-4e76-9fc6-04592441af4e",
   "metadata": {
    "scrolled": true
   },
   "outputs": [
    {
     "name": "stdout",
     "output_type": "stream",
     "text": [
      "0\n",
      "1\n",
      "2\n",
      "3\n",
      "4\n",
      "5\n",
      "6\n",
      "7\n",
      "8\n",
      "9\n",
      "10\n",
      "11\n",
      "12\n",
      "13\n",
      "14\n",
      "15\n",
      "16\n",
      "17\n",
      "18\n",
      "19\n",
      "20\n",
      "21\n",
      "22\n",
      "23\n",
      "24\n",
      "25\n",
      "26\n",
      "27\n",
      "28\n",
      "29\n",
      "30\n",
      "31\n",
      "32\n",
      "33\n",
      "34\n",
      "35\n",
      "36\n",
      "37\n",
      "38\n",
      "39\n",
      "40\n",
      "41\n",
      "42\n",
      "43\n",
      "44\n",
      "45\n",
      "46\n",
      "47\n",
      "48\n",
      "49\n",
      "50\n",
      "51\n",
      "52\n",
      "53\n",
      "54\n",
      "55\n",
      "56\n",
      "57\n",
      "58\n",
      "59\n",
      "60\n",
      "61\n",
      "62\n",
      "63\n",
      "64\n",
      "65\n",
      "66\n",
      "67\n",
      "68\n",
      "69\n",
      "70\n",
      "71\n",
      "72\n",
      "73\n",
      "74\n",
      "75\n",
      "76\n",
      "77\n",
      "78\n",
      "79\n",
      "80\n",
      "81\n",
      "82\n",
      "83\n",
      "84\n",
      "85\n",
      "86\n",
      "87\n",
      "88\n",
      "89\n",
      "90\n",
      "91\n",
      "92\n",
      "93\n",
      "94\n",
      "95\n",
      "96\n",
      "97\n",
      "98\n",
      "99\n",
      "100\n",
      "101\n",
      "102\n",
      "103\n",
      "104\n",
      "105\n",
      "106\n",
      "107\n",
      "108\n",
      "109\n",
      "110\n",
      "111\n",
      "112\n"
     ]
    },
    {
     "ename": "KeyboardInterrupt",
     "evalue": "",
     "output_type": "error",
     "traceback": [
      "\u001b[0;31m---------------------------------------------------------------------------\u001b[0m",
      "\u001b[0;31mKeyboardInterrupt\u001b[0m                         Traceback (most recent call last)",
      "File \u001b[0;32m<timed exec>:8\u001b[0m\n",
      "File \u001b[0;32m/mnt/c/Users/rmawh/Programming/sm door rando/sm_rando/notebooks/../bdds/node_bdds.py:76\u001b[0m, in \u001b[0;36mmk_policy_id2\u001b[0;34m(trans_pn, context, goal_bdd)\u001b[0m\n\u001b[1;32m     74\u001b[0m     solved_ng \u001b[38;5;241m=\u001b[39m context\u001b[38;5;241m.\u001b[39mlet(prev_to_next, solved_pg)\n\u001b[1;32m     75\u001b[0m     policy_png \u001b[38;5;241m|\u001b[39m\u001b[38;5;241m=\u001b[39m (trans_pn \u001b[38;5;241m&\u001b[39m \u001b[38;5;241m~\u001b[39msolved_pg) \u001b[38;5;241m&\u001b[39m solved_ng\n\u001b[0;32m---> 76\u001b[0m     \u001b[38;5;28;43mprint\u001b[39;49m\u001b[43m(\u001b[49m\u001b[43mn\u001b[49m\u001b[43m)\u001b[49m\n\u001b[1;32m     77\u001b[0m     n \u001b[38;5;241m+\u001b[39m\u001b[38;5;241m=\u001b[39m \u001b[38;5;241m1\u001b[39m\n\u001b[1;32m     78\u001b[0m \u001b[38;5;28;01mreturn\u001b[39;00m policy_png\n",
      "\u001b[0;31mKeyboardInterrupt\u001b[0m: "
     ]
    }
   ],
   "source": [
    "%%time\n",
    "#TODOs\n",
    "# Goal BDD x\n",
    "#   More restrictive goal_bdd using pick w/ transitive closure\n",
    "#   Forward & backward feasibility restrictions\n",
    "# ~covered_prev_goal earlier\n",
    "# Shattergate\n",
    "all_policy = mk_policy_id2(feasible_trans, context_id, wincon)\n",
    "#all_policy = mk_policy_id2(all_bdd, context_id, wincon)"
   ]
  },
  {
   "cell_type": "code",
   "execution_count": 79,
   "id": "52c86843-6882-429c-90e8-6960e9b876c7",
   "metadata": {},
   "outputs": [
    {
     "data": {
      "text/plain": [
       "['node_id', 'next', '0']"
      ]
     },
     "execution_count": 79,
     "metadata": {},
     "output_type": "execute_result"
    }
   ],
   "source": [
    "\"node_id_next_0\".rsplit(\"_\", 2)"
   ]
  },
  {
   "cell_type": "code",
   "execution_count": 80,
   "id": "a4382295-fe86-4b4a-9fa8-8ccd096fca33",
   "metadata": {},
   "outputs": [],
   "source": [
    "all_policy_det = determinize2(all_policy, context_id)"
   ]
  },
  {
   "cell_type": "code",
   "execution_count": 81,
   "id": "0d947d7b-c822-4828-9a9f-0ce0bb944873",
   "metadata": {},
   "outputs": [
    {
     "data": {
      "text/plain": [
       "8593935525.0"
      ]
     },
     "execution_count": 81,
     "metadata": {},
     "output_type": "execute_result"
    }
   ],
   "source": [
    "all_policy.count()"
   ]
  },
  {
   "cell_type": "code",
   "execution_count": 82,
   "id": "a1fe159f-71f1-48da-866b-a7ff69f588c1",
   "metadata": {},
   "outputs": [
    {
     "data": {
      "text/plain": [
       "236455"
      ]
     },
     "execution_count": 82,
     "metadata": {},
     "output_type": "execute_result"
    }
   ],
   "source": [
    "all_policy.dag_size"
   ]
  },
  {
   "cell_type": "code",
   "execution_count": 83,
   "id": "ac99075d-eefd-4727-9296-12154f704616",
   "metadata": {},
   "outputs": [
    {
     "data": {
      "text/plain": [
       "234782"
      ]
     },
     "execution_count": 83,
     "metadata": {},
     "output_type": "execute_result"
    }
   ],
   "source": [
    "all_policy_det.dag_size"
   ]
  },
  {
   "cell_type": "code",
   "execution_count": 52,
   "id": "c7baaf90-5166-40bf-b95e-64a60799177f",
   "metadata": {},
   "outputs": [
    {
     "data": {
      "text/plain": [
       "102"
      ]
     },
     "execution_count": 52,
     "metadata": {},
     "output_type": "execute_result"
    }
   ],
   "source": [
    "len(all_policy.support)"
   ]
  },
  {
   "cell_type": "code",
   "execution_count": 84,
   "id": "065f014f-1584-4725-a355-2f75ef473285",
   "metadata": {},
   "outputs": [],
   "source": [
    "#task_expr = context_id.add_expr(\"Mother_Brain_prev < Mother_Brain_goal & node_id_prev = 2 & node_id_goal = 2\")\n",
    "task_expr = context_id.add_expr(\"node_id_prev = 0 & node_id_goal = 1\")\n",
    "# Concrete task\n",
    "task = context_id.pick(context_id.exist(nexts, all_policy & task_expr))\n",
    "task_bdd = context_id.assign_from(task)"
   ]
  },
  {
   "cell_type": "code",
   "execution_count": 85,
   "id": "aeaf4840-d62b-429d-9516-c92492fc7092",
   "metadata": {},
   "outputs": [],
   "source": [
    "controller_pn = context_id.exist(goals, all_policy_det & task_bdd)"
   ]
  },
  {
   "cell_type": "code",
   "execution_count": 97,
   "id": "1be74397-ecef-45e3-87b8-f0bec0fae2a8",
   "metadata": {
    "scrolled": true
   },
   "outputs": [
    {
     "name": "stdout",
     "output_type": "stream",
     "text": [
      "CPU times: user 55.2 ms, sys: 180 µs, total: 55.4 ms\n",
      "Wall time: 55.2 ms\n"
     ]
    }
   ],
   "source": [
    "%%time\n",
    "edges = get_edges(all_policy_det, task_bdd, context_id)"
   ]
  },
  {
   "cell_type": "code",
   "execution_count": 96,
   "id": "0b5531c0-aa8d-4ab7-aed4-bbd75078d98f",
   "metadata": {},
   "outputs": [
    {
     "name": "stdout",
     "output_type": "stream",
     "text": [
      "CPU times: user 297 ms, sys: 0 ns, total: 297 ms\n",
      "Wall time: 296 ms\n"
     ]
    }
   ],
   "source": [
    "%%time\n",
    "path = get_path_concrete_id(all_policy, task_bdd, context_id)"
   ]
  },
  {
   "cell_type": "code",
   "execution_count": 88,
   "id": "beb8a1b2-7171-41af-9051-91d6406ee6be",
   "metadata": {},
   "outputs": [
    {
     "name": "stdout",
     "output_type": "stream",
     "text": [
      "CPU times: user 298 ms, sys: 0 ns, total: 298 ms\n",
      "Wall time: 297 ms\n"
     ]
    }
   ],
   "source": [
    "%%time\n",
    "path = get_path_concrete_id(all_policy, task_bdd, context_id)"
   ]
  },
  {
   "cell_type": "code",
   "execution_count": 89,
   "id": "a93c5bd7-c761-4e1d-9068-7b32678aa9bb",
   "metadata": {},
   "outputs": [],
   "source": [
    "steps = get_steps_id2(all_policy_det, task_bdd, context_id)"
   ]
  },
  {
   "cell_type": "code",
   "execution_count": 90,
   "id": "f6afd8b7-7e94-4e37-94ba-b2d34703a249",
   "metadata": {},
   "outputs": [
    {
     "data": {
      "text/plain": [
       "8450"
      ]
     },
     "execution_count": 90,
     "metadata": {},
     "output_type": "execute_result"
    }
   ],
   "source": [
    "steps.dag_size"
   ]
  },
  {
   "cell_type": "code",
   "execution_count": 94,
   "id": "38580952-aa42-4b94-893b-88fd0bcde69c",
   "metadata": {},
   "outputs": [
    {
     "name": "stdout",
     "output_type": "stream",
     "text": [
      "CPU times: user 44 µs, sys: 2 µs, total: 46 µs\n",
      "Wall time: 46.7 µs\n"
     ]
    },
    {
     "data": {
      "text/plain": [
       "[(0, 0, 3),\n",
       " (1, 3, 12),\n",
       " (2, 12, 11),\n",
       " (3, 11, 54),\n",
       " (4, 54, 57),\n",
       " (5, 57, 59),\n",
       " (6, 59, 60),\n",
       " (7, 60, 62),\n",
       " (8, 62, 63),\n",
       " (9, 63, 148),\n",
       " (10, 148, 149),\n",
       " (11, 149, 149),\n",
       " (12, 149, 147),\n",
       " (13, 147, 151),\n",
       " (14, 151, 152),\n",
       " (15, 152, 174),\n",
       " (16, 174, 175),\n",
       " (17, 175, 175),\n",
       " (18, 175, 174),\n",
       " (19, 174, 152),\n",
       " (20, 152, 151),\n",
       " (21, 151, 147),\n",
       " (22, 147, 148),\n",
       " (23, 148, 63),\n",
       " (24, 63, 62),\n",
       " (25, 62, 60),\n",
       " (26, 60, 59),\n",
       " (27, 59, 57),\n",
       " (28, 57, 54),\n",
       " (29, 54, 11),\n",
       " (30, 11, 13),\n",
       " (31, 13, 66),\n",
       " (32, 66, 67),\n",
       " (33, 67, 64),\n",
       " (34, 64, 65),\n",
       " (35, 65, 65),\n",
       " (36, 65, 64),\n",
       " (37, 64, 67),\n",
       " (38, 67, 66),\n",
       " (39, 66, 13),\n",
       " (40, 13, 8),\n",
       " (41, 8, 71),\n",
       " (42, 71, 70),\n",
       " (43, 70, 79),\n",
       " (44, 79, 81),\n",
       " (45, 81, 76),\n",
       " (46, 76, 75),\n",
       " (47, 75, 73),\n",
       " (48, 73, 74),\n",
       " (49, 74, 91),\n",
       " (50, 91, 99),\n",
       " (51, 99, 119),\n",
       " (52, 119, 121),\n",
       " (53, 121, 123),\n",
       " (54, 123, 133),\n",
       " (55, 133, 133),\n",
       " (56, 133, 127),\n",
       " (57, 127, 134),\n",
       " (58, 134, 135),\n",
       " (59, 135, 136),\n",
       " (60, 136, 138),\n",
       " (61, 138, 137),\n",
       " (62, 137, 102),\n",
       " (63, 102, 104),\n",
       " (64, 104, 104),\n",
       " (65, 104, 103),\n",
       " (66, 103, 171),\n",
       " (67, 171, 170),\n",
       " (68, 170, 129),\n",
       " (69, 129, 130),\n",
       " (70, 130, 142),\n",
       " (71, 142, 144),\n",
       " (72, 144, 158),\n",
       " (73, 158, 159),\n",
       " (74, 159, 188),\n",
       " (75, 188, 192),\n",
       " (76, 192, 210),\n",
       " (77, 210, 211),\n",
       " (78, 211, 212),\n",
       " (79, 212, 214),\n",
       " (80, 214, 505),\n",
       " (81, 505, 506),\n",
       " (82, 506, 502),\n",
       " (83, 502, 503),\n",
       " (84, 503, 507),\n",
       " (85, 507, 509),\n",
       " (86, 509, 241),\n",
       " (87, 241, 242),\n",
       " (88, 242, 217),\n",
       " (89, 217, 219),\n",
       " (90, 219, 222),\n",
       " (91, 222, 224),\n",
       " (92, 224, 226),\n",
       " (93, 226, 227),\n",
       " (94, 227, 228),\n",
       " (95, 228, 230),\n",
       " (96, 230, 231),\n",
       " (97, 231, 233),\n",
       " (98, 233, 233),\n",
       " (99, 233, 232),\n",
       " (100, 232, 244),\n",
       " (101, 244, 245),\n",
       " (102, 245, 245),\n",
       " (103, 245, 244),\n",
       " (104, 244, 232),\n",
       " (105, 232, 231),\n",
       " (106, 231, 230),\n",
       " (107, 230, 228),\n",
       " (108, 228, 227),\n",
       " (109, 227, 226),\n",
       " (110, 226, 224),\n",
       " (111, 224, 222),\n",
       " (112, 222, 219),\n",
       " (113, 219, 217),\n",
       " (114, 217, 242),\n",
       " (115, 242, 243),\n",
       " (116, 243, 261),\n",
       " (117, 261, 257),\n",
       " (118, 257, 291),\n",
       " (119, 291, 290),\n",
       " (120, 290, 285),\n",
       " (121, 285, 286),\n",
       " (122, 286, 286),\n",
       " (123, 286, 285),\n",
       " (124, 285, 290),\n",
       " (125, 290, 293),\n",
       " (126, 293, 293),\n",
       " (127, 293, 291),\n",
       " (128, 291, 257),\n",
       " (129, 257, 258),\n",
       " (130, 258, 253),\n",
       " (131, 253, 254),\n",
       " (132, 254, 250),\n",
       " (133, 250, 251),\n",
       " (134, 251, 370),\n",
       " (135, 370, 371),\n",
       " (136, 371, 327),\n",
       " (137, 327, 329),\n",
       " (138, 329, 380),\n",
       " (139, 380, 381),\n",
       " (140, 381, 333),\n",
       " (141, 333, 334),\n",
       " (142, 334, 336),\n",
       " (143, 336, 337),\n",
       " (144, 337, 337),\n",
       " (145, 337, 336),\n",
       " (146, 336, 334),\n",
       " (147, 334, 333),\n",
       " (148, 333, 381),\n",
       " (149, 381, 380),\n",
       " (150, 380, 329),\n",
       " (151, 329, 330),\n",
       " (152, 330, 338),\n",
       " (153, 338, 340),\n",
       " (154, 340, 343),\n",
       " (155, 343, 346),\n",
       " (156, 346, 345),\n",
       " (157, 345, 347),\n",
       " (158, 347, 348),\n",
       " (159, 348, 348),\n",
       " (160, 348, 347),\n",
       " (161, 347, 345),\n",
       " (162, 345, 344),\n",
       " (163, 344, 341),\n",
       " (164, 341, 338),\n",
       " (165, 338, 330),\n",
       " (166, 330, 328),\n",
       " (167, 328, 369),\n",
       " (168, 369, 368),\n",
       " (169, 368, 386),\n",
       " (170, 386, 387),\n",
       " (171, 387, 373),\n",
       " (172, 373, 372),\n",
       " (173, 372, 279),\n",
       " (174, 279, 280),\n",
       " (175, 280, 281),\n",
       " (176, 281, 284),\n",
       " (177, 284, 284),\n",
       " (178, 284, 282),\n",
       " (179, 282, 295),\n",
       " (180, 295, 294),\n",
       " (181, 294, 299),\n",
       " (182, 299, 300),\n",
       " (183, 300, 300),\n",
       " (184, 300, 299),\n",
       " (185, 299, 294),\n",
       " (186, 294, 297),\n",
       " (187, 297, 301),\n",
       " (188, 301, 304),\n",
       " (189, 304, 309),\n",
       " (190, 309, 310),\n",
       " (191, 310, 317),\n",
       " (192, 317, 318),\n",
       " (193, 318, 318),\n",
       " (194, 318, 317),\n",
       " (195, 317, 310),\n",
       " (196, 310, 309),\n",
       " (197, 309, 304),\n",
       " (198, 304, 301),\n",
       " (199, 301, 297),\n",
       " (200, 297, 295),\n",
       " (201, 295, 282),\n",
       " (202, 282, 281),\n",
       " (203, 281, 280),\n",
       " (204, 280, 276),\n",
       " (205, 276, 288),\n",
       " (206, 288, 287),\n",
       " (207, 287, 260),\n",
       " (208, 260, 255),\n",
       " (209, 255, 265),\n",
       " (210, 265, 263),\n",
       " (211, 263, 249),\n",
       " (212, 249, 248),\n",
       " (213, 248, 272),\n",
       " (214, 272, 271),\n",
       " (215, 271, 268),\n",
       " (216, 268, 269),\n",
       " (217, 269, 269),\n",
       " (218, 269, 268),\n",
       " (219, 268, 271),\n",
       " (220, 271, 270),\n",
       " (221, 270, 266),\n",
       " (222, 266, 267),\n",
       " (223, 267, 262),\n",
       " (224, 262, 265),\n",
       " (225, 265, 255),\n",
       " (226, 255, 261),\n",
       " (227, 261, 243),\n",
       " (228, 243, 241),\n",
       " (229, 241, 509),\n",
       " (230, 509, 507),\n",
       " (231, 507, 503),\n",
       " (232, 503, 502),\n",
       " (233, 502, 506),\n",
       " (234, 506, 505),\n",
       " (235, 505, 214),\n",
       " (236, 214, 212),\n",
       " (237, 212, 211),\n",
       " (238, 211, 210),\n",
       " (239, 210, 192),\n",
       " (240, 192, 191),\n",
       " (241, 191, 197),\n",
       " (242, 197, 198),\n",
       " (243, 198, 200),\n",
       " (244, 200, 204),\n",
       " (245, 204, 48),\n",
       " (246, 48, 47),\n",
       " (247, 47, 31),\n",
       " (248, 31, 30),\n",
       " (249, 30, 44),\n",
       " (250, 44, 45),\n",
       " (251, 45, 18),\n",
       " (252, 18, 23),\n",
       " (253, 23, 462),\n",
       " (254, 462, 463),\n",
       " (255, 463, 470),\n",
       " (256, 470, 475),\n",
       " (257, 475, 485),\n",
       " (258, 485, 486),\n",
       " (259, 486, 488),\n",
       " (260, 488, 489),\n",
       " (261, 489, 489),\n",
       " (262, 489, 488),\n",
       " (263, 488, 486),\n",
       " (264, 486, 485),\n",
       " (265, 485, 475),\n",
       " (266, 475, 469),\n",
       " (267, 469, 466),\n",
       " (268, 466, 464),\n",
       " (269, 464, 19),\n",
       " (270, 19, 21),\n",
       " (271, 21, 27),\n",
       " (272, 27, 28),\n",
       " (273, 28, 52),\n",
       " (274, 52, 53),\n",
       " (275, 53, 458),\n",
       " (276, 458, 459),\n",
       " (277, 459, 497),\n",
       " (278, 497, 498),\n",
       " (279, 498, 498),\n",
       " (280, 498, 496),\n",
       " (281, 496, 22),\n",
       " (282, 22, 18),\n",
       " (283, 18, 45),\n",
       " (284, 45, 44),\n",
       " (285, 44, 30),\n",
       " (286, 30, 31),\n",
       " (287, 31, 47),\n",
       " (288, 47, 48),\n",
       " (289, 48, 204),\n",
       " (290, 204, 200),\n",
       " (291, 200, 198),\n",
       " (292, 198, 197),\n",
       " (293, 197, 191),\n",
       " (294, 191, 192),\n",
       " (295, 192, 210),\n",
       " (296, 210, 211),\n",
       " (297, 211, 212),\n",
       " (298, 212, 214),\n",
       " (299, 214, 505),\n",
       " (300, 505, 506),\n",
       " (301, 506, 502),\n",
       " (302, 502, 501),\n",
       " (303, 501, 514),\n",
       " (304, 514, 510),\n",
       " (305, 510, 526),\n",
       " (306, 526, 529),\n",
       " (307, 529, 539),\n",
       " (308, 539, 541),\n",
       " (309, 541, 595),\n",
       " (310, 595, 594),\n",
       " (311, 594, 605),\n",
       " (312, 605, 606),\n",
       " (313, 606, 646),\n",
       " (314, 646, 648),\n",
       " (315, 648, 647),\n",
       " (316, 647, 625),\n",
       " (317, 625, 626),\n",
       " (318, 626, 643),\n",
       " (319, 643, 644),\n",
       " (320, 644, 618),\n",
       " (321, 618, 620),\n",
       " (322, 620, 622),\n",
       " (323, 622, 623),\n",
       " (324, 623, 657),\n",
       " (325, 657, 658),\n",
       " (326, 658, 658),\n",
       " (327, 658, 656),\n",
       " (328, 656, 649),\n",
       " (329, 649, 650),\n",
       " (330, 650, 650),\n",
       " (331, 650, 649),\n",
       " (332, 649, 656),\n",
       " (333, 656, 657),\n",
       " (334, 657, 623),\n",
       " (335, 623, 622),\n",
       " (336, 622, 620),\n",
       " (337, 620, 618),\n",
       " (338, 618, 644),\n",
       " (339, 644, 642),\n",
       " (340, 642, 655),\n",
       " (341, 655, 654),\n",
       " (342, 654, 653),\n",
       " (343, 653, 652),\n",
       " (344, 652, 604),\n",
       " (345, 604, 603),\n",
       " (346, 603, 562),\n",
       " (347, 562, 560),\n",
       " (348, 560, 564),\n",
       " (349, 564, 565),\n",
       " (350, 565, 551),\n",
       " (351, 551, 552),\n",
       " (352, 552, 553),\n",
       " (353, 553, 554),\n",
       " (354, 554, 554),\n",
       " (355, 554, 553),\n",
       " (356, 553, 552),\n",
       " (357, 552, 551),\n",
       " (358, 551, 565),\n",
       " (359, 565, 564),\n",
       " (360, 564, 560),\n",
       " (361, 560, 563),\n",
       " (362, 563, 568),\n",
       " (363, 568, 569),\n",
       " (364, 569, 578),\n",
       " (365, 578, 576),\n",
       " (366, 576, 574),\n",
       " (367, 574, 573),\n",
       " (368, 573, 550),\n",
       " (369, 550, 549),\n",
       " (370, 549, 547),\n",
       " (371, 547, 546),\n",
       " (372, 546, 508),\n",
       " (373, 508, 509),\n",
       " (374, 509, 241),\n",
       " (375, 241, 243),\n",
       " (376, 243, 261),\n",
       " (377, 261, 255),\n",
       " (378, 255, 265),\n",
       " (379, 265, 264),\n",
       " (380, 264, 273),\n",
       " (381, 273, 274),\n",
       " (382, 274, 277),\n",
       " (383, 277, 279),\n",
       " (384, 279, 372),\n",
       " (385, 372, 374),\n",
       " (386, 374, 377),\n",
       " (387, 377, 378),\n",
       " (388, 378, 375),\n",
       " (389, 375, 376),\n",
       " (390, 376, 354),\n",
       " (391, 354, 355),\n",
       " (392, 355, 363),\n",
       " (393, 363, 362),\n",
       " (394, 362, 365),\n",
       " (395, 365, 366),\n",
       " (396, 366, 397),\n",
       " (397, 397, 396),\n",
       " (398, 396, 411),\n",
       " (399, 411, 414),\n",
       " (400, 414, 418),\n",
       " (401, 418, 419),\n",
       " (402, 419, 423),\n",
       " (403, 423, 424),\n",
       " (404, 424, 425),\n",
       " (405, 425, 426),\n",
       " (406, 426, 434),\n",
       " (407, 434, 437),\n",
       " (408, 437, 438),\n",
       " (409, 438, 440),\n",
       " (410, 440, 442),\n",
       " (411, 442, 441),\n",
       " (412, 441, 421),\n",
       " (413, 421, 420),\n",
       " (414, 420, 410),\n",
       " (415, 410, 409),\n",
       " (416, 409, 407),\n",
       " (417, 407, 408),\n",
       " (418, 408, 408),\n",
       " (419, 408, 407),\n",
       " (420, 407, 409),\n",
       " (421, 409, 410),\n",
       " (422, 410, 420),\n",
       " (423, 420, 421),\n",
       " (424, 421, 441),\n",
       " (425, 441, 442),\n",
       " (426, 442, 440),\n",
       " (427, 440, 438),\n",
       " (428, 438, 437),\n",
       " (429, 437, 435),\n",
       " (430, 435, 453),\n",
       " (431, 453, 452),\n",
       " (432, 452, 428),\n",
       " (433, 428, 427),\n",
       " (434, 427, 444),\n",
       " (435, 444, 443),\n",
       " (436, 443, 339),\n",
       " (437, 339, 338),\n",
       " (438, 338, 330),\n",
       " (439, 330, 327),\n",
       " (440, 327, 371),\n",
       " (441, 371, 370),\n",
       " (442, 370, 251),\n",
       " (443, 251, 250),\n",
       " (444, 250, 254),\n",
       " (445, 254, 253),\n",
       " (446, 253, 258),\n",
       " (447, 258, 261),\n",
       " (448, 261, 243),\n",
       " (449, 243, 241),\n",
       " (450, 241, 509),\n",
       " (451, 509, 507),\n",
       " (452, 507, 503),\n",
       " (453, 503, 501),\n",
       " (454, 501, 514),\n",
       " (455, 514, 510),\n",
       " (456, 510, 526),\n",
       " (457, 526, 528),\n",
       " (458, 528, 533),\n",
       " (459, 533, 532),\n",
       " (460, 532, 202),\n",
       " (461, 202, 204),\n",
       " (462, 204, 48),\n",
       " (463, 48, 47),\n",
       " (464, 47, 31),\n",
       " (465, 31, 29),\n",
       " (466, 29, 43),\n",
       " (467, 43, 42),\n",
       " (468, 42, 5),\n",
       " (469, 5, 2),\n",
       " (470, 2, 7),\n",
       " (471, 7, 6),\n",
       " (472, 6, 50),\n",
       " (473, 50, 49),\n",
       " (474, 49, 78),\n",
       " (475, 78, 80),\n",
       " (476, 80, 234),\n",
       " (477, 234, 235),\n",
       " (478, 235, 238),\n",
       " (479, 238, 239),\n",
       " (480, 239, 659),\n",
       " (481, 659, 660),\n",
       " (482, 660, 663),\n",
       " (483, 663, 662),\n",
       " (484, 662, 664),\n",
       " (485, 664, 665),\n",
       " (486, 665, 666),\n",
       " (487, 666, 667),\n",
       " (488, 667, 668),\n",
       " (489, 668, 669),\n",
       " (490, 669, 670),\n",
       " (491, 670, 671),\n",
       " (492, 671, 673),\n",
       " (493, 673, 672),\n",
       " (494, 672, 675),\n",
       " (495, 675, 674),\n",
       " (496, 674, 677),\n",
       " (497, 677, 678),\n",
       " (498, 678, 683),\n",
       " (499, 683, 684),\n",
       " (500, 684, 685),\n",
       " (501, 685, 687),\n",
       " (502, 687, 681),\n",
       " (503, 681, 682),\n",
       " (504, 682, 682),\n",
       " (505, 682, 680),\n",
       " (506, 680, 689),\n",
       " (507, 689, 690),\n",
       " (508, 690, 691),\n",
       " (509, 691, 692),\n",
       " (510, 692, 693),\n",
       " (511, 693, 694),\n",
       " (512, 694, 695),\n",
       " (513, 695, 696),\n",
       " (514, 696, 58),\n",
       " (515, 58, 54),\n",
       " (516, 54, 11),\n",
       " (517, 11, 12),\n",
       " (518, 12, 3),\n",
       " (519, 3, 1)]"
      ]
     },
     "execution_count": 94,
     "metadata": {},
     "output_type": "execute_result"
    }
   ],
   "source": [
    "%%time\n",
    "#TODO: redo this notebook in the context of node_bdds.py (remove the code that I already moved)\n",
    "#TODO: replace the existing path advice infrastructure with this data structure\n",
    "#TODO: add the \"end of game\" location walled by MB, then fully determinize path\n",
    "sorted(edges)"
   ]
  },
  {
   "cell_type": "code",
   "execution_count": null,
   "id": "e7c374ab-aecf-4f08-8ffe-4bf85061b906",
   "metadata": {},
   "outputs": [],
   "source": [
    "len(edges)"
   ]
  },
  {
   "cell_type": "code",
   "execution_count": null,
   "id": "63aa51c8-369c-4ca4-98ad-d189b6781eb9",
   "metadata": {},
   "outputs": [],
   "source": [
    "len(path)"
   ]
  },
  {
   "cell_type": "code",
   "execution_count": 99,
   "id": "7b451e0d-353b-4809-8794-8e330a2ac46f",
   "metadata": {},
   "outputs": [],
   "source": [
    "#context_id.bdd.dump(\"../output/node_policy_det.dddmp\", [all_policy_det])"
   ]
  },
  {
   "cell_type": "code",
   "execution_count": 75,
   "id": "625a65ac-faec-4fc6-8566-dcfa48961081",
   "metadata": {},
   "outputs": [
    {
     "data": {
      "text/plain": [
       "1.0"
      ]
     },
     "execution_count": 75,
     "metadata": {},
     "output_type": "execute_result"
    }
   ],
   "source": [
    "context_id.exist(nexts + prevs, all_policy).count"
   ]
  },
  {
   "cell_type": "code",
   "execution_count": 56,
   "id": "50b8ffe4-6aa3-4113-82f6-229f96260ba6",
   "metadata": {},
   "outputs": [],
   "source": [
    "with open(\"../output/context_id_order.json\", \"w\") as f:\n",
    "    json.dump(context_id.bdd.var_levels, f)"
   ]
  },
  {
   "cell_type": "code",
   "execution_count": 43,
   "id": "4b008a37-bb11-4e16-a9b0-15e5ec6797b9",
   "metadata": {},
   "outputs": [],
   "source": [
    "all_policy = context_id.bdd.load(\"../output/policy_id.json\")[0]"
   ]
  },
  {
   "cell_type": "code",
   "execution_count": 44,
   "id": "51117668-3e6a-4d6d-8616-38e9ee9163c2",
   "metadata": {},
   "outputs": [],
   "source": [
    "#context_id.bdd.dump(\"../output/policy_id.dddmp\", [all_policy])"
   ]
  },
  {
   "cell_type": "code",
   "execution_count": 34,
   "id": "ec4ca66c-b093-4476-a7c7-65e279dbb78e",
   "metadata": {},
   "outputs": [],
   "source": [
    "goal_satisfied_id = mk_goal_satisfied_id(context_id)"
   ]
  },
  {
   "cell_type": "code",
   "execution_count": 35,
   "id": "b4c0b776-cc4a-4521-8530-c69a3ec92aa3",
   "metadata": {},
   "outputs": [],
   "source": [
    "rev_node_ids = {v:k for k,v in node_ids.items()}"
   ]
  },
  {
   "cell_type": "code",
   "execution_count": 36,
   "id": "ff7c2d9c-1179-463c-8e0c-ae28e408e262",
   "metadata": {},
   "outputs": [],
   "source": [
    "# task_bdd is built by first creating a task expr, then existing off the nexts, then picking and cubing it.\n",
    "def get_path_concrete_id(policy, task_bdd, context):\n",
    "    # Get a concrete path\n",
    "    current = context.pick(task_bdd)\n",
    "    path = [current]\n",
    "    n = 0\n",
    "    while True:\n",
    "        #print(n, current[\"node_id_prev\"])\n",
    "        #print(n, rev_node_ids[current[\"node_id_prev\"]])\n",
    "        #print(current[\"node_id_prev\"])\n",
    "        #print(current)\n",
    "        n += 1\n",
    "        #current_bdd = context.bdd.cube(current)\n",
    "        current_bdd = context.assign_from(current)\n",
    "        next_temp = context.exist(prevs, current_bdd & policy)\n",
    "        advice = context.let(next_to_prev, next_temp)\n",
    "        #print(advice.count())\n",
    "        current = context.pick(advice)\n",
    "        # Check whether the goal is satisfied in the state given by the advice.\n",
    "        if (next_temp & goal_satisfied_id).pick():\n",
    "            break\n",
    "        path.append(current)\n",
    "    return path\n",
    "\n",
    "# is cube() faster?\n",
    "def get_path_concrete_id2(policy, task_bdd, context):\n",
    "    # Get a concrete path\n",
    "    current = task_bdd.pick()\n",
    "    path = [current]\n",
    "    while True:\n",
    "        #print(current)\n",
    "        current_bdd = context.bdd.cube(current)\n",
    "        next_temp = context.exist(prevs, current_bdd & policy)\n",
    "        advice = context.let(next_to_prev, next_temp)\n",
    "        #print(advice.count())\n",
    "        current = advice.pick()\n",
    "        # Check whether the goal is satisfied in the state given by the advice.\n",
    "        if (next_temp & goal_satisfied_id).pick():\n",
    "            break\n",
    "        path.append(current)\n",
    "    return path\n",
    "\n",
    "def get_first_step(policy, task_dict, context):\n",
    "    # Get a concrete path\n",
    "    task_bdd = context.assign_from(task_dict)\n",
    "    return context.pick(task_bdd & policy)"
   ]
  },
  {
   "cell_type": "code",
   "execution_count": 37,
   "id": "c8e877e3-daf4-4420-9a6e-009d2bc55627",
   "metadata": {},
   "outputs": [],
   "source": [
    "#task_expr = context_id.add_expr(\"Mother_Brain_prev < Mother_Brain_goal & node_id_prev = 2 & node_id_goal = 2\")\n",
    "task_expr = context_id.add_expr(\"M_prev < M_goal & node_id_prev = 2 & node_id_goal = 2\")\n",
    "# Concrete task\n",
    "task = context_id.pick(context_id.exist(nexts, all_policy & task_expr))\n",
    "task_bdd = context_id.assign_from(task)"
   ]
  },
  {
   "cell_type": "code",
   "execution_count": 38,
   "id": "7287bad4-e282-4531-b822-3d5c5405b522",
   "metadata": {},
   "outputs": [],
   "source": [
    "#cc = context_id.exist(prevs, all_bdd & context_id.add_expr(\"node_id_prev = 2\"))\n",
    "#cc = context_id.exist(prevs, all_bdd & task_bdd)\n",
    "t2 = task.copy()\n",
    "t2[\"node_id_prev\"] = node_ids[\"Landing_Site_Ship\"]\n",
    "t2_bdd = context_id.assign_from(t2)\n",
    "cc = context_id.exist(prevs, all_policy & t2_bdd)"
   ]
  },
  {
   "cell_type": "code",
   "execution_count": 39,
   "id": "eefa8d44-b4b7-47b7-895e-e48fd78e0911",
   "metadata": {},
   "outputs": [],
   "source": [
    "nonidns = [k for k in context_id.vars.keys() if k != \"node_id_next\"]"
   ]
  },
  {
   "cell_type": "code",
   "execution_count": 40,
   "id": "f292870b-0c96-434f-9f7c-745c6b5a3bed",
   "metadata": {},
   "outputs": [
    {
     "name": "stdout",
     "output_type": "stream",
     "text": [
      "Landing_Site_L2\n"
     ]
    }
   ],
   "source": [
    "for i in context_id.pick_iter(context_id.exist(nonidns, cc)):\n",
    "    print(rev_node_ids[i[\"node_id_next\"]])"
   ]
  },
  {
   "cell_type": "code",
   "execution_count": null,
   "id": "72c359d1-c3ae-4329-8444-ca176d992c38",
   "metadata": {},
   "outputs": [],
   "source": []
  },
  {
   "cell_type": "code",
   "execution_count": 41,
   "id": "7b4cd93b-2ebf-4606-a803-0c50473323d8",
   "metadata": {},
   "outputs": [],
   "source": [
    "# 1.94s concrete1\n",
    "# 0.233s concrete2"
   ]
  },
  {
   "cell_type": "code",
   "execution_count": 42,
   "id": "ab44e8f7-e6e5-437c-9073-4e0d000269b7",
   "metadata": {},
   "outputs": [
    {
     "name": "stdout",
     "output_type": "stream",
     "text": [
      "CPU times: user 476 ms, sys: 14 µs, total: 476 ms\n",
      "Wall time: 476 ms\n"
     ]
    }
   ],
   "source": [
    "%%time\n",
    "x = get_path_concrete_id2(all_policy, t2_bdd, context_id)"
   ]
  },
  {
   "cell_type": "code",
   "execution_count": 45,
   "id": "f488660f-c8ad-4a5a-b79a-e7f49fede055",
   "metadata": {},
   "outputs": [
    {
     "name": "stdout",
     "output_type": "stream",
     "text": [
      "CPU times: user 486 ms, sys: 32 µs, total: 486 ms\n",
      "Wall time: 486 ms\n"
     ]
    }
   ],
   "source": [
    "%%time\n",
    "x = get_path_concrete_id2(all_policy, task_bdd, context_id)"
   ]
  },
  {
   "cell_type": "code",
   "execution_count": 46,
   "id": "8235f827-dd9a-4d30-b0e6-8bb04e6a98f4",
   "metadata": {},
   "outputs": [
    {
     "data": {
      "text/plain": [
       "567"
      ]
     },
     "execution_count": 46,
     "metadata": {},
     "output_type": "execute_result"
    }
   ],
   "source": [
    "len(x)"
   ]
  },
  {
   "cell_type": "code",
   "execution_count": 1,
   "id": "50d6dac8-9473-4d62-9b48-334b0dc386c4",
   "metadata": {},
   "outputs": [
    {
     "ename": "NameError",
     "evalue": "name 'get_first_step' is not defined",
     "output_type": "error",
     "traceback": [
      "\u001b[0;31m---------------------------------------------------------------------------\u001b[0m",
      "\u001b[0;31mNameError\u001b[0m                                 Traceback (most recent call last)",
      "File \u001b[0;32m<timed exec>:1\u001b[0m\n",
      "\u001b[0;31mNameError\u001b[0m: name 'get_first_step' is not defined"
     ]
    }
   ],
   "source": [
    "%%time\n",
    "step = get_first_step(all_policy, task, context_id)"
   ]
  },
  {
   "cell_type": "code",
   "execution_count": 262,
   "id": "939ff661-c906-45b7-982a-9e0aace9723a",
   "metadata": {},
   "outputs": [
    {
     "name": "stdout",
     "output_type": "stream",
     "text": [
      "CPU times: user 1.89 ms, sys: 103 µs, total: 2 ms\n",
      "Wall time: 2.01 ms\n"
     ]
    },
    {
     "data": {
      "text/plain": [
       "Function (DdNode) with var index: 4, ref count: 2, int repr: 480166083"
      ]
     },
     "execution_count": 262,
     "metadata": {},
     "output_type": "execute_result"
    }
   ],
   "source": [
    "%%time\n",
    "context_id.assign_from(task)\n",
    "#task_bdd & all_policy"
   ]
  },
  {
   "cell_type": "code",
   "execution_count": 236,
   "id": "2c19c08f-2c00-4094-8418-c1fa7506429d",
   "metadata": {},
   "outputs": [
    {
     "data": {
      "text/plain": [
       "2"
      ]
     },
     "execution_count": 236,
     "metadata": {},
     "output_type": "execute_result"
    }
   ],
   "source": [
    "len(x)"
   ]
  },
  {
   "cell_type": "code",
   "execution_count": null,
   "id": "0aa67be5-f7f1-4e12-acab-be638997649c",
   "metadata": {},
   "outputs": [],
   "source": []
  }
 ],
 "metadata": {
  "kernelspec": {
   "display_name": "Python 3 (ipykernel)",
   "language": "python",
   "name": "python3"
  },
  "language_info": {
   "codemirror_mode": {
    "name": "ipython",
    "version": 3
   },
   "file_extension": ".py",
   "mimetype": "text/x-python",
   "name": "python",
   "nbconvert_exporter": "python",
   "pygments_lexer": "ipython3",
   "version": "3.10.12"
  }
 },
 "nbformat": 4,
 "nbformat_minor": 5
}

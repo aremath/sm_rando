{
 "cells": [
  {
   "cell_type": "markdown",
   "id": "bc3bcc15",
   "metadata": {},
   "source": [
    "## Setting up Quickmet"
   ]
  },
  {
   "cell_type": "code",
   "execution_count": 1,
   "id": "9706fbb9-7e64-4964-bbb8-f9fc844a1406",
   "metadata": {},
   "outputs": [
    {
     "name": "stdout",
     "output_type": "stream",
     "text": [
      "%pylab is deprecated, use %matplotlib inline and import the required libraries.\n",
      "Populating the interactive namespace from numpy and matplotlib\n"
     ]
    }
   ],
   "source": [
    "%load_ext autoreload\n",
    "%autoreload 2\n",
    "%pylab inline"
   ]
  },
  {
   "cell_type": "code",
   "execution_count": 137,
   "id": "21953c0a-5da4-4841-9255-7a1ca564e14b",
   "metadata": {},
   "outputs": [],
   "source": [
    "import sys\n",
    "sys.path.append(\"..\")"
   ]
  },
  {
   "cell_type": "code",
   "execution_count": 138,
   "id": "57eda173-fb68-4c33-accd-c5e1e312d608",
   "metadata": {},
   "outputs": [],
   "source": [
    "from rom_tools import rom_manager\n",
    "from rom_tools.address import Address\n",
    "# make_starting_items doesn't work, because quickmet doesn't read from the required locations.\n",
    "#TODO: make a function like this that takes an itemset, etc.\n",
    "from rom_tools.rom_edit import make_starting_items, beam_codes, item_codes"
   ]
  },
  {
   "cell_type": "code",
   "execution_count": 665,
   "id": "bf326b46-2560-4201-96ac-0e7993bb253a",
   "metadata": {},
   "outputs": [],
   "source": [
    "rom = rom_manager.RomManager(\"../../roms/sm_clean.smc\", \"../../roms/sm_quicked.sfc\", mod=False)"
   ]
  },
  {
   "cell_type": "code",
   "execution_count": 666,
   "id": "d29aa31e-fffe-4f17-9199-9bde6c42cea4",
   "metadata": {},
   "outputs": [],
   "source": [
    "rom.apply_ips(\"../patches/sm_quickmet.ips\")"
   ]
  },
  {
   "cell_type": "code",
   "execution_count": 667,
   "id": "67497311-ee91-46bf-b2a1-b0711567d61c",
   "metadata": {},
   "outputs": [
    {
     "name": "stdout",
     "output_type": "stream",
     "text": [
      "0x70\n",
      "0x78\n"
     ]
    }
   ],
   "source": [
    "#room_id = 0x92fd\n",
    "room_id = 0xac5a\n",
    "#samus_x = 0x0070\n",
    "#samus_y = 0x0078\n",
    "samus_x = 0x00100\n",
    "samus_y = 0x0080\n",
    "room_id_address = Address(0x59ad0)\n",
    "samus_x_address = Address(0x59a8a)\n",
    "samus_y_address = Address(0x59a90)\n",
    "# Destination room tile, to make the camera work properly\n",
    "dx_address = Address(0x59ad6)\n",
    "dy_address = Address(0x59ad7)\n",
    "\n",
    "print(hex(int.from_bytes(rom.read_from_new(samus_x_address, 2), byteorder=\"little\")))\n",
    "print(hex(int.from_bytes(rom.read_from_new(samus_y_address, 2), byteorder=\"little\")))"
   ]
  },
  {
   "cell_type": "code",
   "execution_count": 668,
   "id": "c4a625ea-71d8-4bfa-af99-4d732f4dc524",
   "metadata": {},
   "outputs": [],
   "source": [
    "def to_bytes(i):\n",
    "    return i.to_bytes(2, byteorder=\"little\")"
   ]
  },
  {
   "cell_type": "code",
   "execution_count": 669,
   "id": "6b585074",
   "metadata": {},
   "outputs": [
    {
     "data": {
      "text/plain": [
       "(b'\\x00\\x01', b'\\x80\\x00')"
      ]
     },
     "execution_count": 669,
     "metadata": {},
     "output_type": "execute_result"
    }
   ],
   "source": [
    "samus_x_address, samus_y_address\n",
    "to_bytes(samus_x), to_bytes(samus_y)"
   ]
  },
  {
   "cell_type": "code",
   "execution_count": 670,
   "id": "6708405b-3649-4ffb-a256-521d5da71120",
   "metadata": {},
   "outputs": [
    {
     "name": "stdout",
     "output_type": "stream",
     "text": [
      "0x100\n",
      "0x80\n"
     ]
    }
   ],
   "source": [
    "rom.write_to_new(room_id_address, to_bytes(room_id))\n",
    "rom.write_to_new(samus_x_address, to_bytes(samus_x))\n",
    "rom.write_to_new(samus_y_address, to_bytes(samus_y))\n",
    "rom.write_to_new(dx_address, (samus_x // 0x100).to_bytes(1, byteorder=\"little\"))\n",
    "rom.write_to_new(dy_address, (samus_y // 0x100).to_bytes(1, byteorder=\"little\"))\n",
    "\n",
    "print(hex(int.from_bytes(rom.read_from_new(samus_x_address, 2), byteorder=\"little\")))\n",
    "print(hex(int.from_bytes(rom.read_from_new(samus_y_address, 2), byteorder=\"little\")))"
   ]
  },
  {
   "cell_type": "code",
   "execution_count": 671,
   "id": "ce31c8e2-f1cd-4f5a-9874-bcb5a97ced6c",
   "metadata": {},
   "outputs": [],
   "source": [
    "# This doesn't work.\n",
    "#make_starting_items(\"E99\", rom)"
   ]
  },
  {
   "cell_type": "code",
   "execution_count": 672,
   "id": "d7595304-0d02-4d83-a9bf-e7e491698035",
   "metadata": {},
   "outputs": [],
   "source": [
    "rom.save_and_close()"
   ]
  },
  {
   "cell_type": "code",
   "execution_count": 673,
   "id": "db91d45d-62d0-45ba-b8e8-9e97e7f558b3",
   "metadata": {},
   "outputs": [],
   "source": [
    "import retro\n",
    "import gzip"
   ]
  },
  {
   "cell_type": "code",
   "execution_count": 674,
   "id": "c627ebf3-b5c7-4944-9538-cf6d91fff189",
   "metadata": {},
   "outputs": [],
   "source": [
    "if \"emu\" in locals():\n",
    "    del emu"
   ]
  },
  {
   "cell_type": "code",
   "execution_count": 675,
   "id": "84cbc9e0-f113-4518-83af-8e0ff7765501",
   "metadata": {},
   "outputs": [],
   "source": [
    "emu = retro.RetroEmulator(\"../../roms/sm_quicked.sfc\")\n",
    "gamedata = retro.data.GameData()\n",
    "emu.configure_data(gamedata)\n",
    "# Wait until the game loads from SRAM\n",
    "load_wait = 256\n",
    "#load_wait = 300\n",
    "#load_wait = 350\n",
    "total_wait = 416\n",
    "for i in range(load_wait):\n",
    "    emu.step()"
   ]
  },
  {
   "cell_type": "code",
   "execution_count": 676,
   "id": "57830b79-df60-42e3-957b-5a262d3f1a7e",
   "metadata": {},
   "outputs": [
    {
     "name": "stdout",
     "output_type": "stream",
     "text": [
      "99\n",
      "99\n",
      "0\n",
      "0\n"
     ]
    }
   ],
   "source": [
    "# Configure memory\n",
    "mem_offset = emu.get_state().index(gamedata.memory.blocks[0x7E0000])\n",
    "# 09c2, 09c4, samus health\n",
    "state = bytearray(emu.get_state())\n",
    "frombuffer(state, dtype='<u2', count=1, offset=mem_offset+0x09c2)[0] = 99\n",
    "frombuffer(state, dtype='<u2', count=1, offset=mem_offset+0x09c4)[0] = 99\n",
    "# Set X and Y\n",
    "#frombuffer(state, dtype='<u2', count=1, offset=mem_offset+0x0af6)[0] = 0x300\n",
    "#frombuffer(state, dtype='<u2', count=1, offset=mem_offset+0x0afa)[0] = 0x180\n",
    "hacked_state = bytes(state)\n",
    "emu.set_state(hacked_state)\n",
    "emu.step()\n",
    "state = emu.get_state()\n",
    "# Check energy and max energy\n",
    "print(frombuffer(state, dtype='<u2', count=1, offset=mem_offset+0x09c2)[0])\n",
    "print(frombuffer(state, dtype='<u2', count=1, offset=mem_offset+0x09c4)[0])\n",
    "# Check x and y\n",
    "print(frombuffer(state, dtype='<u2', count=1, offset=mem_offset+0x0af6)[0])\n",
    "print(frombuffer(state, dtype='<u2', count=1, offset=mem_offset+0x0afa)[0])"
   ]
  },
  {
   "cell_type": "code",
   "execution_count": 677,
   "id": "8d765ba8-c53b-4a38-85ad-c3864c8120e9",
   "metadata": {},
   "outputs": [
    {
     "name": "stdout",
     "output_type": "stream",
     "text": [
      "0\n",
      "0\n",
      "0\n",
      "0\n",
      "0\n",
      "0\n",
      "0\n",
      "0\n",
      "0\n",
      "0\n",
      "0\n",
      "0\n",
      "0\n",
      "0\n",
      "0\n",
      "0\n",
      "0\n",
      "0\n",
      "0\n",
      "0\n",
      "0\n",
      "0\n",
      "0\n",
      "0\n",
      "0\n",
      "0\n",
      "0\n",
      "0\n",
      "0\n",
      "0\n",
      "0\n",
      "0\n",
      "0\n",
      "0\n",
      "256\n",
      "256\n",
      "256\n",
      "256\n",
      "256\n",
      "256\n",
      "256\n",
      "256\n",
      "256\n",
      "256\n",
      "256\n",
      "256\n",
      "256\n",
      "256\n",
      "256\n",
      "256\n",
      "259\n",
      "7\n",
      "11\n",
      "15\n",
      "19\n",
      "23\n",
      "27\n",
      "31\n",
      "35\n",
      "39\n",
      "43\n",
      "47\n",
      "51\n",
      "55\n",
      "59\n",
      "63\n",
      "67\n",
      "70\n",
      "74\n",
      "78\n",
      "82\n",
      "86\n",
      "90\n",
      "94\n",
      "98\n",
      "102\n",
      "106\n",
      "110\n",
      "114\n",
      "118\n",
      "122\n",
      "126\n",
      "130\n",
      "133\n",
      "137\n",
      "141\n",
      "145\n",
      "149\n",
      "153\n",
      "157\n",
      "161\n",
      "165\n",
      "169\n",
      "173\n",
      "177\n",
      "181\n",
      "185\n",
      "189\n",
      "193\n",
      "196\n",
      "200\n",
      "204\n",
      "208\n",
      "212\n",
      "216\n",
      "220\n",
      "224\n",
      "228\n",
      "232\n",
      "236\n",
      "240\n",
      "244\n",
      "248\n",
      "252\n",
      "256\n",
      "263\n",
      "263\n",
      "263\n",
      "263\n",
      "263\n",
      "263\n",
      "263\n",
      "263\n",
      "263\n",
      "263\n",
      "263\n",
      "263\n",
      "263\n",
      "263\n",
      "263\n",
      "263\n",
      "263\n",
      "263\n",
      "263\n",
      "263\n",
      "263\n",
      "263\n",
      "263\n",
      "263\n",
      "263\n",
      "263\n",
      "263\n",
      "263\n",
      "263\n",
      "263\n",
      "263\n",
      "263\n",
      "263\n",
      "263\n",
      "263\n",
      "263\n",
      "263\n",
      "263\n",
      "263\n",
      "263\n",
      "263\n",
      "263\n",
      "263\n",
      "263\n",
      "263\n",
      "263\n",
      "128\n"
     ]
    }
   ],
   "source": [
    "#screens = []\n",
    "for i in range(total_wait - load_wait):\n",
    "#    if i % 10 == 0:\n",
    "#        screens.append(emu.get_screen())\n",
    "    emu.step()\n",
    "    state = emu.get_state()\n",
    "    #print(i)\n",
    "    s_energy = frombuffer(state, dtype='<u2', count=1, offset=mem_offset+0x09c2)[0]\n",
    "    s_max_energy = frombuffer(state, dtype='<u2', count=1, offset=mem_offset+0x09c4)[0]\n",
    "    samus_x = print(frombuffer(state, dtype='<u2', count=1, offset=mem_offset+0x0af6)[0])\n",
    "    if s_energy == 0:\n",
    "        matshow(emu.get_screen())\n",
    "        break\n",
    "state=emu.get_state()\n",
    "print(frombuffer(state, dtype='<u2', count=1, offset=mem_offset+0x0af6)[0])\n",
    "print(frombuffer(state, dtype='<u2', count=1, offset=mem_offset+0x0afa)[0])"
   ]
  },
  {
   "cell_type": "code",
   "execution_count": 678,
   "id": "b5ac3352",
   "metadata": {},
   "outputs": [
    {
     "data": {
      "text/plain": [
       "(112, 120)"
      ]
     },
     "execution_count": 678,
     "metadata": {},
     "output_type": "execute_result"
    }
   ],
   "source": [
    "0x70, 0x78"
   ]
  },
  {
   "cell_type": "code",
   "execution_count": 679,
   "id": "6e346485-6dc5-4274-9a87-7ef431a12306",
   "metadata": {},
   "outputs": [
    {
     "data": {
      "text/plain": [
       "<matplotlib.image.AxesImage at 0x7fe54c025100>"
      ]
     },
     "execution_count": 679,
     "metadata": {},
     "output_type": "execute_result"
    },
    {
     "data": {
      "image/png": "[encoded data removed]",
      "text/plain": [
       "<Figure size 548.571x480 with 1 Axes>"
      ]
     },
     "metadata": {},
     "output_type": "display_data"
    }
   ],
   "source": [
    "matshow(emu.get_screen())"
   ]
  },
  {
   "cell_type": "code",
   "execution_count": 558,
   "id": "0a122181-8f93-417e-98ee-235eb42112e7",
   "metadata": {},
   "outputs": [
    {
     "data": {
      "text/plain": [
       "<matplotlib.image.AxesImage at 0x7fe54bf51ac0>"
      ]
     },
     "execution_count": 558,
     "metadata": {},
     "output_type": "execute_result"
    },
    {
     "data": {
      "image/png": "[encoded data removed]",
      "text/plain": [
       "<Figure size 548.571x480 with 1 Axes>"
      ]
     },
     "metadata": {},
     "output_type": "display_data"
    }
   ],
   "source": [
    "for i in range(20):\n",
    "    emu.step()\n",
    "matshow(emu.get_screen())"
   ]
  },
  {
   "cell_type": "code",
   "execution_count": 271,
   "id": "085949b4-7f97-403f-ada2-1f27387de464",
   "metadata": {},
   "outputs": [],
   "source": [
    "#for i in screens:\n",
    "#    matshow(i)\n",
    "    \n",
    "# around frame 400 - 410"
   ]
  },
  {
   "cell_type": "code",
   "execution_count": 19,
   "id": "5af299ae-5c4b-45f3-a063-84e2404f21b1",
   "metadata": {},
   "outputs": [],
   "source": [
    "from abstraction_validation import abstractify\n",
    "from world_rando.coord import Coord"
   ]
  },
  {
   "cell_type": "code",
   "execution_count": 21,
   "id": "6fc72ede-a77f-4c45-8931-1969182a45f8",
   "metadata": {},
   "outputs": [],
   "source": [
    "ammo_locs = {\"E\": (0x09c2, 0x09c4), \"M\": (0x09c6, 0x09c8), \"S\": (0x09ca, 0x09cc), \"PB\": (0x09cd, 0x09d0)}\n",
    "ammo_amounts = {\"E\": 100, \"M\": 5, \"S\": 5, \"PB\": 5}"
   ]
  },
  {
   "cell_type": "code",
   "execution_count": 22,
   "id": "83c54403-384e-4faf-8fe2-6d9bed597559",
   "metadata": {},
   "outputs": [],
   "source": [
    "# Regions (in order): Crateria, Brinstar, Norfair, Wrecked_Ship, Maridia, Tourian, Ceres, Debug\n",
    "# Boss_ID -> (Region, Bitmask)\n",
    "boss_info = {\"Kraid\": 0}"
   ]
  },
  {
   "cell_type": "code",
   "execution_count": 23,
   "id": "34e9656a-3362-47f7-b9d7-a3f63e95d57e",
   "metadata": {},
   "outputs": [],
   "source": [
    "def ram_write(state, address, data):\n",
    "    frombuffer(state, dtype='<u2', count=1, offset=address)[0] = data"
   ]
  },
  {
   "cell_type": "code",
   "execution_count": 24,
   "id": "322a41e4-13d4-40fa-a447-137c2e651d81",
   "metadata": {},
   "outputs": [],
   "source": [
    "def make_beams_int(item_set, is_equipped=False):\n",
    "    bitmask = 0\n",
    "    for i in item_set:\n",
    "        if i in beam_codes:\n",
    "            bitmask += beam_codes[i]\n",
    "    # De-equip spazer if plasma beam is equipped. Firing while spazer and plasma are both equipped will crash the game\n",
    "    if is_equipped and \"PLB\" in item_set and \"Spazer\" in item_set:\n",
    "        bitmask -= beam_codes[\"Spazer\"]\n",
    "    return bitmask\n",
    "\n",
    "def make_items_int(item_set):\n",
    "    bitmask = 0\n",
    "    for i in item_set:\n",
    "        if i in item_codes:\n",
    "            bitmask += item_codes[i]\n",
    "    return bitmask"
   ]
  },
  {
   "cell_type": "code",
   "execution_count": 680,
   "id": "8e4a7553-c009-4c66-a67b-6c58f7d600b0",
   "metadata": {},
   "outputs": [],
   "source": [
    "# Goes from SamusState plus additional info to an actual game state.\n",
    "# Won't preserve stuff like pose, unfortunately.\n",
    "# Deletes emulator instance since only one at a time is possible.\n",
    "# Extra_items is of the form {i_type: amount}\n",
    "def reify_state(rom_path, temp_rom_path, samus_state, room_id, room_offset, is_local, extra_items={\"E\": 99}):\n",
    "    # Update the ammo amounts based on the item set\n",
    "    for ammo_item in ammo_locs.keys():\n",
    "        if ammo_item in samus_state.items:\n",
    "            if ammo_item not in extra_items:\n",
    "                extra_items[ammo_item] = ammo_amounts[ammo_item]\n",
    "            else:\n",
    "                extra_items[ammo_item] += ammo_amounts[ammo_item]\n",
    "    # Set up the quickmet ROM\n",
    "    rom = rom_manager.RomManager(rom_path, temp_rom_path, mod=False)\n",
    "    rom.apply_ips(\"../patches/sm_quickmet.ips\")\n",
    "    if is_local:\n",
    "        p = samus_state.position\n",
    "    else:\n",
    "        # Compute the local offset\n",
    "        p = samus_state.position - room_offset\n",
    "    samus_x = p.x * 0x10\n",
    "    samus_y = (p.y + 1) * 0x10 # +1 because the samus Y here is the center, but abstract samus Y is the top.\n",
    "    print(samus_x, samus_y)\n",
    "    rom.write_to_new(room_id_address, to_bytes(room_id))\n",
    "    rom.write_to_new(samus_x_address, to_bytes(samus_x))\n",
    "    rom.write_to_new(samus_y_address, to_bytes(samus_y))\n",
    "    rom.write_to_new(dx_address, (samus_x // 0x100).to_bytes(1, byteorder=\"little\"))\n",
    "    rom.write_to_new(dy_address, (samus_y // 0x100).to_bytes(1, byteorder=\"little\"))\n",
    "    # Set up the emulation\n",
    "    emu = retro.RetroEmulator(temp_rom_path)\n",
    "    gamedata = retro.data.GameData()\n",
    "    emu.configure_data(gamedata)\n",
    "    # Wait for the ROM to write values from SRAM\n",
    "    for i in range(256):\n",
    "        emu.step()\n",
    "    state = bytearray(emu.get_state())\n",
    "    # Set up RAM data (Samus Items, Energy, Missiles, etc.)\n",
    "    mem_offset = emu.get_state().index(gamedata.memory.blocks[0x7E0000])\n",
    "    # Write ammo amounts\n",
    "    for item_type, amount in extra_items.items():\n",
    "        current_addr, max_addr = ammo_locs[item_type]\n",
    "        for address in [current_addr, max_addr]:\n",
    "            ram_write(state, mem_offset + address, amount)\n",
    "    # Write item bitset\n",
    "    # 0x9a2 and 0x9a4 equipped / collected\n",
    "    item_bitmask = make_items_int(samus_state.items)\n",
    "    ram_write(state, mem_offset + 0x09a2, item_bitmask)\n",
    "    ram_write(state, mem_offset + 0x09a4, item_bitmask)\n",
    "    # Write beam bitset\n",
    "    # 0x9a6 and 0x9a8 (make sure to exclusify plasma / spazer)\n",
    "    beams_equipped = make_beams_int(samus_state.items, is_equipped=True)\n",
    "    beams_collected = make_beams_int(samus_state.items)\n",
    "    ram_write(state, mem_offset + 0x09a6, beams_equipped)\n",
    "    ram_write(state, mem_offset + 0x09a8, beams_collected)\n",
    "    # Write bosses\n",
    "    # 0xd820 for event set\n",
    "    # 0x7ed828 + (region_id) for bosses\n",
    "    # 0x7ed828 - 0x7ed82f is 7 single bytes (one per region)\n",
    "    # Wait for gameplay to start\n",
    "    hacked_state = bytes(state)\n",
    "    emu.set_state(hacked_state)\n",
    "    for i in range(156):\n",
    "        emu.step()\n",
    "    # Return the state\n",
    "    end_state = emu.get_state()\n",
    "    end_screen = emu.get_screen()\n",
    "    del emu\n",
    "    return end_state, end_screen"
   ]
  },
  {
   "cell_type": "code",
   "execution_count": 681,
   "id": "515fa5e7",
   "metadata": {},
   "outputs": [],
   "source": [
    "from world_rando.rules import HVelocity, Velocity, VType, SamusPose, SamusState\n",
    "from data_types.item_set import ItemSet"
   ]
  },
  {
   "cell_type": "code",
   "execution_count": 706,
   "id": "981c1a23",
   "metadata": {},
   "outputs": [],
   "source": [
    "# Local SamusState for 0x7965b\n",
    "vh = HVelocity(VType.RUN, 0)\n",
    "v = Velocity(0, vh)\n",
    "itemset = ItemSet([\"MB\", \"GS\", \"SA\", \"B\"])\n",
    "samus_state = SamusState(Coord(92, 7), v, itemset, SamusPose.STAND)"
   ]
  },
  {
   "cell_type": "code",
   "execution_count": 696,
   "id": "8716f318",
   "metadata": {},
   "outputs": [],
   "source": [
    "import gc"
   ]
  },
  {
   "cell_type": "code",
   "execution_count": 697,
   "id": "0e20b445",
   "metadata": {},
   "outputs": [
    {
     "data": {
      "text/plain": [
       "147"
      ]
     },
     "execution_count": 697,
     "metadata": {},
     "output_type": "execute_result"
    }
   ],
   "source": [
    "gc.collect()"
   ]
  },
  {
   "cell_type": "code",
   "execution_count": 698,
   "id": "8c547026",
   "metadata": {},
   "outputs": [
    {
     "name": "stdout",
     "output_type": "stream",
     "text": [
      "1472 128\n"
     ]
    }
   ],
   "source": [
    "g_state, g_image = reify_state(\"../../roms/sm_clean.smc\", \"../../roms/sm_in_gauntlet.sfc\", samus_state, 0x965b, None, True, extra_items={\"E\":599})"
   ]
  },
  {
   "cell_type": "code",
   "execution_count": 770,
   "id": "15f1916c",
   "metadata": {},
   "outputs": [
    {
     "data": {
      "text/plain": [
       "<matplotlib.image.AxesImage at 0x7fe53d8150a0>"
      ]
     },
     "execution_count": 770,
     "metadata": {},
     "output_type": "execute_result"
    },
    {
     "data": {
      "image/png": "[encoded data removed]",
      "text/plain": [
       "<Figure size 548.571x480 with 1 Axes>"
      ]
     },
     "metadata": {},
     "output_type": "display_data"
    }
   ],
   "source": [
    "matshow(g_image)"
   ]
  },
  {
   "cell_type": "code",
   "execution_count": null,
   "id": "36b78cc0-61ab-4b61-936a-700a4af2f678",
   "metadata": {},
   "outputs": [],
   "source": [
    "mem_offset = emu.get_state().index(gamedata.memory.blocks[0x7E0000])"
   ]
  },
  {
   "cell_type": "markdown",
   "id": "934e9c5a",
   "metadata": {},
   "source": [
    "## Setting up Abstract Scenario"
   ]
  },
  {
   "cell_type": "code",
   "execution_count": null,
   "id": "9582f2e0",
   "metadata": {},
   "outputs": [],
   "source": [
    "#TODO: move some of this setup stuff into go_explore.py"
   ]
  },
  {
   "cell_type": "code",
   "execution_count": 700,
   "id": "fa90a43a-79f9-408d-bf1d-04cde1710082",
   "metadata": {},
   "outputs": [],
   "source": [
    "rom_m = rom_manager.RomManager(\"../../roms/sm_clean.smc\", \"../../roms/sm_generate.smc\")\n",
    "obj_names = rom_m.parse()"
   ]
  },
  {
   "cell_type": "code",
   "execution_count": 713,
   "id": "b15c0564-5ffd-46bc-84d4-a929e5cec5ba",
   "metadata": {},
   "outputs": [],
   "source": [
    "from world_rando import parse_rules\n",
    "from world_rando import model_checking"
   ]
  },
  {
   "cell_type": "code",
   "execution_count": 703,
   "id": "076b3c24-b1a2-470d-9e4b-2a1998865468",
   "metadata": {},
   "outputs": [],
   "source": [
    "def room_image(ptr):\n",
    "    room_header = obj_names[f\"room_header_{ptr}\"]\n",
    "    l = parse_rules.make_level_from_room(room_header)\n",
    "    return l, l.to_image()"
   ]
  },
  {
   "cell_type": "code",
   "execution_count": 727,
   "id": "c03efc81",
   "metadata": {},
   "outputs": [
    {
     "data": {
      "image/png": "[encoded data removed]",
      "text/plain": [
       "<PIL.Image.Image image mode=RGB size=96x16>"
      ]
     },
     "execution_count": 727,
     "metadata": {},
     "output_type": "execute_result"
    }
   ],
   "source": [
    "# Gauntlet Back\n",
    "gauntlet_back_lstate, gauntlet_back_image = room_image(\"0x7965b\")\n",
    "# Hack to \"fix\" (19, 5)\n",
    "#TODO: should \"fix\" the movement model instead!\n",
    "gauntlet_back_lstate.level.flags.writeable = True\n",
    "gauntlet_back_lstate.level[Coord(19,5)] = 1\n",
    "gauntlet_back_lstate.level.flags.writeable = False\n",
    "gauntlet_back_image = gauntlet_back_lstate.to_image()\n",
    "gauntlet_back_image"
   ]
  },
  {
   "cell_type": "code",
   "execution_count": 728,
   "id": "eae93361",
   "metadata": {},
   "outputs": [],
   "source": [
    "final_state = SamusState(Coord(0, 7), v, itemset, SamusPose.STAND)"
   ]
  },
  {
   "cell_type": "code",
   "execution_count": 729,
   "id": "f78a0059",
   "metadata": {},
   "outputs": [],
   "source": [
    "rules, tests = parse_rules.parse_rules([\"../encoding/rules/rules.yaml\",\n",
    "                                        \"../encoding/rules/model_checking_tests/model_checking_tests.yaml\"])"
   ]
  },
  {
   "cell_type": "code",
   "execution_count": 730,
   "id": "84168033",
   "metadata": {},
   "outputs": [
    {
     "name": "stdout",
     "output_type": "stream",
     "text": [
      "Search to reach None from c(92,7)\n",
      "Applied 2211 rules\n",
      "Enumerated 2210 states in 2.531115099998715 seconds\n"
     ]
    },
    {
     "name": "stderr",
     "output_type": "stream",
     "text": [
      "100%|██████████████████████████████████████████████████████████████████████████████| 2210/2210 [00:02<00:00, 829.49it/s]\n"
     ]
    },
    {
     "name": "stdout",
     "output_type": "stream",
     "text": [
      "Number of States: 2210\n",
      "Built graph with 9634 edges in 2.7735845999995945 seconds\n"
     ]
    }
   ],
   "source": [
    "initial_states, k = model_checking.make_kripke(samus_state, final_state, gauntlet_back_lstate, rules.values())"
   ]
  },
  {
   "cell_type": "code",
   "execution_count": 731,
   "id": "e8d7eb04",
   "metadata": {},
   "outputs": [],
   "source": [
    "import networkx as nx"
   ]
  },
  {
   "cell_type": "code",
   "execution_count": 732,
   "id": "9f7f9830",
   "metadata": {},
   "outputs": [],
   "source": [
    "# Create forward + backward graph\n",
    "G = nx.Graph()\n",
    "G2 = nx.Graph()\n",
    "for (n1, n2) in k.edges_iter():\n",
    "  G.add_edge(n1, n2)\n",
    "  G2.add_edge(n2, n1)"
   ]
  },
  {
   "cell_type": "code",
   "execution_count": 733,
   "id": "6fb31483",
   "metadata": {},
   "outputs": [],
   "source": [
    "model_states = list(k.states())\n",
    "model_positions = [s.position for s in model_states]"
   ]
  },
  {
   "cell_type": "code",
   "execution_count": 734,
   "id": "64c235f7",
   "metadata": {},
   "outputs": [
    {
     "data": {
      "text/plain": [
       "<matplotlib.image.AxesImage at 0x7fe53d7cfa60>"
      ]
     },
     "execution_count": 734,
     "metadata": {},
     "output_type": "execute_result"
    },
    {
     "data": {
      "image/png": "[encoded data removed]",
      "text/plain": [
       "<Figure size 1000x1000 with 1 Axes>"
      ]
     },
     "metadata": {},
     "output_type": "display_data"
    }
   ],
   "source": [
    "figure(figsize=(10,10))\n",
    "scatter(*array(model_positions).T, alpha=0.1)\n",
    "gca().set_aspect(\"equal\")\n",
    "gca().invert_yaxis()\n",
    "gca().imshow(gauntlet_back_image)\n",
    "# At this point it should be pretty clear that the jumping model is flawed..."
   ]
  },
  {
   "cell_type": "code",
   "execution_count": 735,
   "id": "576c6a9b",
   "metadata": {},
   "outputs": [],
   "source": [
    "def get_distances(G, state):\n",
    "  distances = {state: 0}\n",
    "  for (v, u) in nx.algorithms.traversal.bfs_predecessors(G, state):\n",
    "    distances[v] = distances[u] + 1\n",
    "  return distances"
   ]
  },
  {
   "cell_type": "code",
   "execution_count": 743,
   "id": "e58b1374",
   "metadata": {},
   "outputs": [],
   "source": [
    "source_distances = get_distances(G, samus_state)\n",
    "final_distances = get_distances(G2, final_state)\n",
    "shared_distances = {k: source_distances[k] + final_distances[k] for k in source_distances.keys()}\n",
    "shortest_path_distance = min(shared_distances.values())"
   ]
  },
  {
   "cell_type": "markdown",
   "id": "c42e79e2",
   "metadata": {},
   "source": [
    "## Go Explore"
   ]
  },
  {
   "cell_type": "code",
   "execution_count": 749,
   "id": "f5340461",
   "metadata": {},
   "outputs": [],
   "source": [
    "from abstraction_validation.abstractify import *\n",
    "from abstraction_validation.go_explore import *"
   ]
  },
  {
   "cell_type": "code",
   "execution_count": 750,
   "id": "e88d6d40",
   "metadata": {},
   "outputs": [
    {
     "ename": "RuntimeError",
     "evalue": "Cannot create multiple emulator instances per process, make sure to call env.close() on each environment before creating a new one",
     "output_type": "error",
     "traceback": [
      "\u001b[0;31m---------------------------------------------------------------------------\u001b[0m",
      "\u001b[0;31mRuntimeError\u001b[0m                              Traceback (most recent call last)",
      "Cell \u001b[0;32mIn [750], line 1\u001b[0m\n\u001b[0;32m----> 1\u001b[0m emu \u001b[38;5;241m=\u001b[39m \u001b[43mretro\u001b[49m\u001b[38;5;241;43m.\u001b[39;49m\u001b[43mRetroEmulator\u001b[49m\u001b[43m(\u001b[49m\u001b[38;5;124;43m\"\u001b[39;49m\u001b[38;5;124;43m../../roms/supermetroid.sfc\u001b[39;49m\u001b[38;5;124;43m\"\u001b[39;49m\u001b[43m)\u001b[49m\n\u001b[1;32m      2\u001b[0m gamedata \u001b[38;5;241m=\u001b[39m retro\u001b[38;5;241m.\u001b[39mdata\u001b[38;5;241m.\u001b[39mGameData()\n\u001b[1;32m      3\u001b[0m emu\u001b[38;5;241m.\u001b[39mconfigure_data(gamedata)\n",
      "\u001b[0;31mRuntimeError\u001b[0m: Cannot create multiple emulator instances per process, make sure to call env.close() on each environment before creating a new one"
     ]
    }
   ],
   "source": [
    "emu = retro.RetroEmulator(\"../../roms/supermetroid.sfc\")\n",
    "gamedata = retro.data.GameData()\n",
    "emu.configure_data(gamedata)"
   ]
  },
  {
   "cell_type": "code",
   "execution_count": 751,
   "id": "b8a3650e",
   "metadata": {},
   "outputs": [
    {
     "data": {
      "text/plain": [
       "True"
      ]
     },
     "execution_count": 751,
     "metadata": {},
     "output_type": "execute_result"
    }
   ],
   "source": [
    "emu.set_state(g_state)"
   ]
  },
  {
   "cell_type": "code",
   "execution_count": 753,
   "id": "0274b657",
   "metadata": {},
   "outputs": [],
   "source": [
    "model_states = list(k.states())\n",
    "slop = 4\n",
    "good_model_states = [s for s in model_states if shared_distances[s] <= shortest_path_distance + slop]\n",
    "cell_ok = mk_cell_ok(good_model_states, 2, Coord(0,0))"
   ]
  },
  {
   "cell_type": "code",
   "execution_count": 756,
   "id": "b39661b7",
   "metadata": {},
   "outputs": [],
   "source": [
    "cell_dist = mk_cell_dists(good_model_states, final_distances, Coord(0,0))\n",
    "cell_dist_selector = SoftminSelector(cell_dist, 3)"
   ]
  },
  {
   "cell_type": "code",
   "execution_count": 757,
   "id": "3d3bf393",
   "metadata": {},
   "outputs": [],
   "source": [
    "def end_goal(abstract_state):\n",
    "    return abstract_state.position.x < 5"
   ]
  },
  {
   "cell_type": "code",
   "execution_count": 758,
   "id": "6454abf5",
   "metadata": {},
   "outputs": [],
   "source": [
    "# Use the inputs from the blue brinstar movie\n",
    "# TODO: need to make another movie\n",
    "movie = retro.Movie(\"../abstraction_validation/blue_brinstar.bk2\")\n",
    "movie_start = movie.get_state()\n",
    "emu.set_state(movie_start)\n",
    "emu.step()\n",
    "frames = []\n",
    "rams = []\n",
    "special_rams = []\n",
    "inputs = []\n",
    "while movie.step():\n",
    "    keys = []\n",
    "    for i in range(12):\n",
    "      keys.append(movie.get_key(i, 0))\n",
    "    inputs.append(tuple(keys))\n",
    "    frames.append(emu.get_screen())\n",
    "    rams.append(np.frombuffer(gamedata.memory.blocks[0x7e0000],'uint8'))\n",
    "    special_rams.append(frombuffer(gamedata.memory.blocks[0], dtype=np.uint8))\n",
    "    emu.set_button_mask(keys,0)\n",
    "    emu.step()\n",
    "rams = array(rams)"
   ]
  },
  {
   "cell_type": "code",
   "execution_count": 803,
   "id": "a7179e2b",
   "metadata": {},
   "outputs": [],
   "source": [
    "#TODO: what is wrong with this cell_ok?"
   ]
  },
  {
   "cell_type": "code",
   "execution_count": 804,
   "id": "eb4620da",
   "metadata": {},
   "outputs": [
    {
     "name": "stdout",
     "output_type": "stream",
     "text": [
      "(c(90,7)|V: 0, H: RUN, 0|STAND|ISet(['B', 'SA', 'GS', 'MB', 'E']))\n"
     ]
    },
    {
     "name": "stderr",
     "output_type": "stream",
     "text": [
      "  0%|                                                                                | 7/8000 [00:00<01:54, 69.64step/s]"
     ]
    },
    {
     "name": "stdout",
     "output_type": "stream",
     "text": [
      "(c(90,7)|V: 0, H: RUN, 0|STAND|ISet(['B', 'SA', 'GS', 'MB', 'E']))\n",
      "(c(89,7)|V: 0, H: RUN, 0|STAND|ISet(['B', 'SA', 'GS', 'MB', 'E']))\n",
      "(c(89,7)|V: 0, H: RUN, 0|STAND|ISet(['B', 'SA', 'GS', 'MB', 'E']))\n",
      "(c(89,7)|V: 0, H: RUN, 0|STAND|ISet(['B', 'SA', 'GS', 'MB', 'E']))\n",
      "(c(87,8)|V: 0, H: RUN, 0|STAND|ISet(['B', 'SA', 'GS', 'MB', 'E']))\n",
      "(c(87,9)|V: 0, H: RUN, 0|MORPH|ISet(['B', 'SA', 'GS', 'MB', 'E']))\n",
      "(c(87,9)|V: 0, H: RUN, 0|MORPH|ISet(['B', 'SA', 'GS', 'MB', 'E']))\n",
      "(c(85,8)|V: 0, H: RUN, 0|STAND|ISet(['B', 'SA', 'GS', 'MB', 'E']))\n",
      "(c(84,8)|V: 0, H: RUN, 0|STAND|ISet(['B', 'SA', 'GS', 'MB', 'E']))\n",
      "(c(84,8)|V: 0, H: RUN, 0|STAND|ISet(['B', 'SA', 'GS', 'MB', 'E']))\n",
      "(c(84,8)|V: 0, H: RUN, 0|STAND|ISet(['B', 'SA', 'GS', 'MB', 'E']))\n",
      "(c(84,8)|V: 0, H: RUN, 0|STAND|ISet(['B', 'SA', 'GS', 'MB', 'E']))\n",
      "(c(84,8)|V: 0, H: RUN, 0|STAND|ISet(['B', 'SA', 'GS', 'MB', 'E']))\n"
     ]
    },
    {
     "name": "stderr",
     "output_type": "stream",
     "text": [
      "\r",
      "  0%|▏                                                                              | 14/8000 [00:00<01:57, 68.06step/s]"
     ]
    },
    {
     "name": "stdout",
     "output_type": "stream",
     "text": [
      "(c(84,8)|V: 0, H: RUN, 0|STAND|ISet(['B', 'SA', 'GS', 'MB', 'E']))\n",
      "(c(84,8)|V: 0, H: RUN, 0|STAND|ISet(['B', 'SA', 'GS', 'MB', 'E']))\n"
     ]
    },
    {
     "name": "stderr",
     "output_type": "stream",
     "text": [
      "\r",
      "  0%|▏                                                                              | 22/8000 [00:00<01:54, 69.84step/s]"
     ]
    },
    {
     "name": "stdout",
     "output_type": "stream",
     "text": [
      "(c(84,8)|V: 0, H: RUN, 0|STAND|ISet(['B', 'SA', 'GS', 'MB', 'E']))\n",
      "(c(84,8)|V: 0, H: RUN, 0|STAND|ISet(['B', 'SA', 'GS', 'MB', 'E']))\n",
      "(c(84,8)|V: 0, H: RUN, 0|STAND|ISet(['B', 'SA', 'GS', 'MB', 'E']))\n",
      "(c(84,8)|V: 0, H: RUN, 0|STAND|ISet(['B', 'SA', 'GS', 'MB', 'E']))\n",
      "(c(84,8)|V: 0, H: RUN, 0|STAND|ISet(['B', 'SA', 'GS', 'MB', 'E']))\n",
      "(c(84,8)|V: 0, H: RUN, 0|STAND|ISet(['B', 'SA', 'GS', 'MB', 'E']))\n",
      "(c(84,8)|V: 0, H: RUN, 0|STAND|ISet(['B', 'SA', 'GS', 'MB', 'E']))\n",
      "(c(84,8)|V: 0, H: RUN, 0|STAND|ISet(['B', 'SA', 'GS', 'MB', 'E']))\n",
      "(c(84,8)|V: 0, H: RUN, 0|STAND|ISet(['B', 'SA', 'GS', 'MB', 'E']))\n",
      "(c(84,8)|V: 0, H: RUN, 0|STAND|ISet(['B', 'SA', 'GS', 'MB', 'E']))\n",
      "(c(84,8)|V: 0, H: RUN, 0|STAND|ISet(['B', 'SA', 'GS', 'MB', 'E']))\n",
      "(c(84,8)|V: 0, H: RUN, 0|STAND|ISet(['B', 'SA', 'GS', 'MB', 'E']))\n",
      "(c(84,8)|V: 0, H: RUN, 0|STAND|ISet(['B', 'SA', 'GS', 'MB', 'E']))\n",
      "(c(84,8)|V: 0, H: RUN, 0|STAND|ISet(['B', 'SA', 'GS', 'MB', 'E']))\n",
      "(c(84,8)|V: 0, H: RUN, 0|STAND|ISet(['B', 'SA', 'GS', 'MB', 'E']))\n"
     ]
    },
    {
     "name": "stderr",
     "output_type": "stream",
     "text": [
      "\r",
      "  0%|▎                                                                              | 32/8000 [00:00<01:39, 79.75step/s]"
     ]
    },
    {
     "name": "stdout",
     "output_type": "stream",
     "text": [
      "(c(84,8)|V: 0, H: RUN, 0|STAND|ISet(['B', 'SA', 'GS', 'MB', 'E']))\n",
      "(c(84,8)|V: 0, H: RUN, 0|STAND|ISet(['B', 'SA', 'GS', 'MB', 'E']))\n",
      "(c(84,8)|V: 0, H: RUN, 0|STAND|ISet(['B', 'SA', 'GS', 'MB', 'E']))\n",
      "(c(84,8)|V: 0, H: RUN, 0|STAND|ISet(['B', 'SA', 'GS', 'MB', 'E']))\n"
     ]
    },
    {
     "name": "stderr",
     "output_type": "stream",
     "text": [
      "\r",
      "  1%|▍                                                                              | 41/8000 [00:00<01:36, 82.87step/s]"
     ]
    },
    {
     "name": "stdout",
     "output_type": "stream",
     "text": [
      "(c(84,8)|V: 0, H: RUN, 0|STAND|ISet(['B', 'SA', 'GS', 'MB', 'E']))\n",
      "(c(84,8)|V: 0, H: RUN, 0|STAND|ISet(['B', 'SA', 'GS', 'MB', 'E']))\n",
      "(c(84,8)|V: 0, H: RUN, 0|STAND|ISet(['B', 'SA', 'GS', 'MB', 'E']))\n",
      "(c(84,8)|V: 0, H: RUN, 0|STAND|ISet(['B', 'SA', 'GS', 'MB', 'E']))\n",
      "(c(84,8)|V: 0, H: RUN, 0|STAND|ISet(['B', 'SA', 'GS', 'MB', 'E']))\n",
      "(c(84,8)|V: 0, H: RUN, 0|STAND|ISet(['B', 'SA', 'GS', 'MB', 'E']))\n",
      "(c(84,8)|V: 0, H: RUN, 0|STAND|ISet(['B', 'SA', 'GS', 'MB', 'E']))\n",
      "(c(84,8)|V: 0, H: RUN, 0|STAND|ISet(['B', 'SA', 'GS', 'MB', 'E']))\n",
      "(c(84,8)|V: 0, H: RUN, 0|STAND|ISet(['B', 'SA', 'GS', 'MB', 'E']))\n",
      "(c(84,8)|V: 0, H: RUN, 0|STAND|ISet(['B', 'SA', 'GS', 'MB', 'E']))\n",
      "(c(84,8)|V: 0, H: RUN, 0|STAND|ISet(['B', 'SA', 'GS', 'MB', 'E']))\n",
      "(c(84,8)|V: 0, H: RUN, 0|STAND|ISet(['B', 'SA', 'GS', 'MB', 'E']))\n",
      "(c(84,8)|V: 0, H: RUN, 0|STAND|ISet(['B', 'SA', 'GS', 'MB', 'E']))\n",
      "(c(84,8)|V: 0, H: RUN, 0|STAND|ISet(['B', 'SA', 'GS', 'MB', 'E']))\n",
      "(c(84,8)|V: 0, H: RUN, 0|STAND|ISet(['B', 'SA', 'GS', 'MB', 'E']))\n"
     ]
    },
    {
     "name": "stderr",
     "output_type": "stream",
     "text": [
      "\r",
      "  1%|▍                                                                              | 50/8000 [00:00<01:35, 83.68step/s]"
     ]
    },
    {
     "name": "stdout",
     "output_type": "stream",
     "text": [
      "(c(84,8)|V: 0, H: RUN, 0|STAND|ISet(['B', 'SA', 'GS', 'MB', 'E']))\n",
      "(c(84,8)|V: 0, H: RUN, 0|STAND|ISet(['B', 'SA', 'GS', 'MB', 'E']))\n",
      "(c(84,8)|V: 0, H: RUN, 0|STAND|ISet(['B', 'SA', 'GS', 'MB', 'E']))\n",
      "(c(84,8)|V: 0, H: RUN, 0|STAND|ISet(['B', 'SA', 'GS', 'MB', 'E']))\n"
     ]
    },
    {
     "name": "stderr",
     "output_type": "stream",
     "text": [
      "\r",
      "  1%|▌                                                                              | 59/8000 [00:00<01:44, 75.98step/s]"
     ]
    },
    {
     "name": "stdout",
     "output_type": "stream",
     "text": [
      "(c(84,8)|V: 0, H: RUN, 0|STAND|ISet(['B', 'SA', 'GS', 'MB', 'E']))\n",
      "(c(84,8)|V: 0, H: RUN, 0|STAND|ISet(['B', 'SA', 'GS', 'MB', 'E']))\n",
      "(c(84,8)|V: 0, H: RUN, 0|STAND|ISet(['B', 'SA', 'GS', 'MB', 'E']))\n",
      "(c(84,8)|V: 0, H: RUN, 0|STAND|ISet(['B', 'SA', 'GS', 'MB', 'E']))\n",
      "(c(84,8)|V: 0, H: RUN, 0|STAND|ISet(['B', 'SA', 'GS', 'MB', 'E']))\n",
      "(c(84,8)|V: 0, H: RUN, 0|STAND|ISet(['B', 'SA', 'GS', 'MB', 'E']))\n",
      "(c(84,8)|V: 0, H: RUN, 0|STAND|ISet(['B', 'SA', 'GS', 'MB', 'E']))\n",
      "(c(84,8)|V: 0, H: RUN, 0|STAND|ISet(['B', 'SA', 'GS', 'MB', 'E']))\n",
      "(c(84,8)|V: 0, H: RUN, 0|STAND|ISet(['B', 'SA', 'GS', 'MB', 'E']))\n",
      "(c(84,8)|V: 0, H: RUN, 0|STAND|ISet(['B', 'SA', 'GS', 'MB', 'E']))\n",
      "(c(84,8)|V: 0, H: RUN, 0|STAND|ISet(['B', 'SA', 'GS', 'MB', 'E']))\n",
      "(c(84,8)|V: 0, H: RUN, 0|STAND|ISet(['B', 'SA', 'GS', 'MB', 'E']))\n"
     ]
    },
    {
     "name": "stderr",
     "output_type": "stream",
     "text": [
      "\r",
      "  1%|▋                                                                              | 68/8000 [00:00<01:40, 79.25step/s]"
     ]
    },
    {
     "name": "stdout",
     "output_type": "stream",
     "text": [
      "(c(84,8)|V: 0, H: RUN, 0|STAND|ISet(['B', 'SA', 'GS', 'MB', 'E']))\n",
      "(c(84,8)|V: 0, H: RUN, 0|STAND|ISet(['B', 'SA', 'GS', 'MB', 'E']))\n",
      "(c(84,8)|V: 0, H: RUN, 0|STAND|ISet(['B', 'SA', 'GS', 'MB', 'E']))\n",
      "(c(84,8)|V: 0, H: RUN, 0|STAND|ISet(['B', 'SA', 'GS', 'MB', 'E']))\n",
      "(c(84,8)|V: 0, H: RUN, 0|STAND|ISet(['B', 'SA', 'GS', 'MB', 'E']))\n",
      "(c(84,8)|V: 0, H: RUN, 0|STAND|ISet(['B', 'SA', 'GS', 'MB', 'E']))\n",
      "(c(84,8)|V: 0, H: RUN, 0|STAND|ISet(['B', 'SA', 'GS', 'MB', 'E']))\n"
     ]
    },
    {
     "name": "stderr",
     "output_type": "stream",
     "text": [
      "\r",
      "  1%|▊                                                                              | 78/8000 [00:00<01:33, 84.99step/s]"
     ]
    },
    {
     "name": "stdout",
     "output_type": "stream",
     "text": [
      "(c(84,8)|V: 0, H: RUN, 0|STAND|ISet(['B', 'SA', 'GS', 'MB', 'E']))\n",
      "(c(84,8)|V: 0, H: RUN, 0|STAND|ISet(['B', 'SA', 'GS', 'MB', 'E']))\n",
      "(c(84,8)|V: 0, H: RUN, 0|STAND|ISet(['B', 'SA', 'GS', 'MB', 'E']))\n",
      "(c(84,8)|V: 0, H: RUN, 0|STAND|ISet(['B', 'SA', 'GS', 'MB', 'E']))\n",
      "(c(84,8)|V: 0, H: RUN, 0|STAND|ISet(['B', 'SA', 'GS', 'MB', 'E']))\n",
      "(c(84,8)|V: 0, H: RUN, 0|STAND|ISet(['B', 'SA', 'GS', 'MB', 'E']))\n",
      "(c(84,8)|V: 0, H: RUN, 0|STAND|ISet(['B', 'SA', 'GS', 'MB', 'E']))\n",
      "(c(84,8)|V: 0, H: RUN, 0|STAND|ISet(['B', 'SA', 'GS', 'MB', 'E']))\n",
      "(c(84,8)|V: 0, H: RUN, 0|STAND|ISet(['B', 'SA', 'GS', 'MB', 'E']))\n",
      "(c(84,8)|V: 0, H: RUN, 0|STAND|ISet(['B', 'SA', 'GS', 'MB', 'E']))\n",
      "(c(84,8)|V: 0, H: RUN, 0|STAND|ISet(['B', 'SA', 'GS', 'MB', 'E']))\n",
      "(c(84,8)|V: 0, H: RUN, 0|STAND|ISet(['B', 'SA', 'GS', 'MB', 'E']))\n",
      "(c(84,8)|V: 0, H: RUN, 0|STAND|ISet(['B', 'SA', 'GS', 'MB', 'E']))\n"
     ]
    },
    {
     "name": "stderr",
     "output_type": "stream",
     "text": [
      "\r",
      "  1%|▊                                                                              | 87/8000 [00:01<01:40, 79.07step/s]"
     ]
    },
    {
     "name": "stdout",
     "output_type": "stream",
     "text": [
      "(c(84,8)|V: 0, H: RUN, 0|STAND|ISet(['B', 'SA', 'GS', 'MB', 'E']))\n",
      "(c(84,8)|V: 0, H: RUN, 0|STAND|ISet(['B', 'SA', 'GS', 'MB', 'E']))\n",
      "(c(84,8)|V: 0, H: RUN, 0|STAND|ISet(['B', 'SA', 'GS', 'MB', 'E']))\n"
     ]
    },
    {
     "name": "stderr",
     "output_type": "stream",
     "text": [
      "\r",
      "  1%|▉                                                                              | 96/8000 [00:01<01:42, 77.12step/s]"
     ]
    },
    {
     "name": "stdout",
     "output_type": "stream",
     "text": [
      "(c(84,8)|V: 0, H: RUN, 0|STAND|ISet(['B', 'SA', 'GS', 'MB', 'E']))\n",
      "(c(84,8)|V: 0, H: RUN, 0|STAND|ISet(['B', 'SA', 'GS', 'MB', 'E']))\n",
      "(c(84,8)|V: 0, H: RUN, 0|STAND|ISet(['B', 'SA', 'GS', 'MB', 'E']))\n",
      "(c(84,8)|V: 0, H: RUN, 0|STAND|ISet(['B', 'SA', 'GS', 'MB', 'E']))\n",
      "(c(84,8)|V: 0, H: RUN, 0|STAND|ISet(['B', 'SA', 'GS', 'MB', 'E']))\n",
      "(c(84,8)|V: 0, H: RUN, 0|STAND|ISet(['B', 'SA', 'GS', 'MB', 'E']))\n",
      "(c(84,8)|V: 0, H: RUN, 0|STAND|ISet(['B', 'SA', 'GS', 'MB', 'E']))\n",
      "(c(84,8)|V: 0, H: RUN, 0|STAND|ISet(['B', 'SA', 'GS', 'MB', 'E']))\n",
      "(c(84,8)|V: 0, H: RUN, 0|STAND|ISet(['B', 'SA', 'GS', 'MB', 'E']))\n",
      "(c(84,8)|V: 0, H: RUN, 0|STAND|ISet(['B', 'SA', 'GS', 'MB', 'E']))\n",
      "(c(84,8)|V: 0, H: RUN, 0|STAND|ISet(['B', 'SA', 'GS', 'MB', 'E']))\n",
      "(c(84,8)|V: 0, H: RUN, 0|STAND|ISet(['B', 'SA', 'GS', 'MB', 'E']))\n",
      "(c(84,8)|V: 0, H: RUN, 0|STAND|ISet(['B', 'SA', 'GS', 'MB', 'E']))\n",
      "(c(84,8)|V: 0, H: RUN, 0|STAND|ISet(['B', 'SA', 'GS', 'MB', 'E']))\n",
      "(c(84,8)|V: 0, H: RUN, 0|STAND|ISet(['B', 'SA', 'GS', 'MB', 'E']))\n"
     ]
    },
    {
     "name": "stderr",
     "output_type": "stream",
     "text": [
      "\r",
      "  1%|█                                                                             | 105/8000 [00:01<01:42, 77.31step/s]"
     ]
    },
    {
     "name": "stdout",
     "output_type": "stream",
     "text": [
      "(c(84,8)|V: 0, H: RUN, 0|STAND|ISet(['B', 'SA', 'GS', 'MB', 'E']))\n",
      "(c(84,8)|V: 0, H: RUN, 0|STAND|ISet(['B', 'SA', 'GS', 'MB', 'E']))\n",
      "(c(84,8)|V: 0, H: RUN, 0|STAND|ISet(['B', 'SA', 'GS', 'MB', 'E']))\n"
     ]
    },
    {
     "name": "stderr",
     "output_type": "stream",
     "text": [
      "\r",
      "  1%|█                                                                             | 113/8000 [00:01<01:45, 74.67step/s]"
     ]
    },
    {
     "name": "stdout",
     "output_type": "stream",
     "text": [
      "(c(84,8)|V: 0, H: RUN, 0|STAND|ISet(['B', 'SA', 'GS', 'MB', 'E']))\n",
      "(c(84,8)|V: 0, H: RUN, 0|STAND|ISet(['B', 'SA', 'GS', 'MB', 'E']))\n",
      "(c(84,8)|V: 0, H: RUN, 0|STAND|ISet(['B', 'SA', 'GS', 'MB', 'E']))\n",
      "(c(84,8)|V: 0, H: RUN, 0|STAND|ISet(['B', 'SA', 'GS', 'MB', 'E']))\n",
      "(c(84,8)|V: 0, H: RUN, 0|STAND|ISet(['B', 'SA', 'GS', 'MB', 'E']))\n",
      "(c(84,8)|V: 0, H: RUN, 0|STAND|ISet(['B', 'SA', 'GS', 'MB', 'E']))\n",
      "(c(84,8)|V: 0, H: RUN, 0|STAND|ISet(['B', 'SA', 'GS', 'MB', 'E']))\n",
      "(c(84,8)|V: 0, H: RUN, 0|STAND|ISet(['B', 'SA', 'GS', 'MB', 'E']))\n",
      "(c(84,8)|V: 0, H: RUN, 0|STAND|ISet(['B', 'SA', 'GS', 'MB', 'E']))\n",
      "(c(84,8)|V: 0, H: RUN, 0|STAND|ISet(['B', 'SA', 'GS', 'MB', 'E']))\n",
      "(c(84,8)|V: 0, H: RUN, 0|STAND|ISet(['B', 'SA', 'GS', 'MB', 'E']))\n",
      "(c(84,8)|V: 0, H: RUN, 0|STAND|ISet(['B', 'SA', 'GS', 'MB', 'E']))\n",
      "(c(84,8)|V: 0, H: RUN, 0|STAND|ISet(['B', 'SA', 'GS', 'MB', 'E']))\n",
      "(c(84,8)|V: 0, H: RUN, 0|STAND|ISet(['B', 'SA', 'GS', 'MB', 'E']))\n"
     ]
    },
    {
     "name": "stderr",
     "output_type": "stream",
     "text": [
      "\r",
      "  2%|█▏                                                                            | 122/8000 [00:01<01:41, 77.25step/s]"
     ]
    },
    {
     "name": "stdout",
     "output_type": "stream",
     "text": [
      "(c(84,8)|V: 0, H: RUN, 0|STAND|ISet(['B', 'SA', 'GS', 'MB', 'E']))\n",
      "(c(84,8)|V: 0, H: RUN, 0|STAND|ISet(['B', 'SA', 'GS', 'MB', 'E']))\n",
      "(c(84,8)|V: 0, H: RUN, 0|STAND|ISet(['B', 'SA', 'GS', 'MB', 'E']))\n"
     ]
    },
    {
     "name": "stderr",
     "output_type": "stream",
     "text": [
      "\r",
      "  2%|█▎                                                                            | 130/8000 [00:01<01:57, 67.03step/s]"
     ]
    },
    {
     "name": "stdout",
     "output_type": "stream",
     "text": [
      "(c(84,8)|V: 0, H: RUN, 0|STAND|ISet(['B', 'SA', 'GS', 'MB', 'E']))\n",
      "(c(84,8)|V: 0, H: RUN, 0|STAND|ISet(['B', 'SA', 'GS', 'MB', 'E']))\n",
      "(c(84,8)|V: 0, H: RUN, 0|STAND|ISet(['B', 'SA', 'GS', 'MB', 'E']))\n",
      "(c(84,8)|V: 0, H: RUN, 0|STAND|ISet(['B', 'SA', 'GS', 'MB', 'E']))\n",
      "(c(84,8)|V: 0, H: RUN, 0|STAND|ISet(['B', 'SA', 'GS', 'MB', 'E']))\n",
      "(c(84,8)|V: 0, H: RUN, 0|STAND|ISet(['B', 'SA', 'GS', 'MB', 'E']))\n",
      "(c(84,8)|V: 0, H: RUN, 0|STAND|ISet(['B', 'SA', 'GS', 'MB', 'E']))\n",
      "(c(84,8)|V: 0, H: RUN, 0|STAND|ISet(['B', 'SA', 'GS', 'MB', 'E']))\n",
      "(c(84,8)|V: 0, H: RUN, 0|STAND|ISet(['B', 'SA', 'GS', 'MB', 'E']))\n",
      "(c(84,8)|V: 0, H: RUN, 0|STAND|ISet(['B', 'SA', 'GS', 'MB', 'E']))\n",
      "(c(84,8)|V: 0, H: RUN, 0|STAND|ISet(['B', 'SA', 'GS', 'MB', 'E']))\n"
     ]
    },
    {
     "name": "stderr",
     "output_type": "stream",
     "text": [
      "\r",
      "  2%|█▎                                                                            | 137/8000 [00:01<02:25, 53.98step/s]"
     ]
    },
    {
     "name": "stdout",
     "output_type": "stream",
     "text": [
      "(c(84,8)|V: 0, H: RUN, 0|STAND|ISet(['B', 'SA', 'GS', 'MB', 'E']))\n",
      "(c(84,8)|V: 0, H: RUN, 0|STAND|ISet(['B', 'SA', 'GS', 'MB', 'E']))\n",
      "(c(84,8)|V: 0, H: RUN, 0|STAND|ISet(['B', 'SA', 'GS', 'MB', 'E']))\n",
      "(c(84,8)|V: 0, H: RUN, 0|STAND|ISet(['B', 'SA', 'GS', 'MB', 'E']))\n",
      "(c(84,8)|V: 0, H: RUN, 0|STAND|ISet(['B', 'SA', 'GS', 'MB', 'E']))\n",
      "(c(84,8)|V: 0, H: RUN, 0|STAND|ISet(['B', 'SA', 'GS', 'MB', 'E']))\n",
      "(c(84,8)|V: 0, H: RUN, 0|STAND|ISet(['B', 'SA', 'GS', 'MB', 'E']))\n"
     ]
    },
    {
     "name": "stderr",
     "output_type": "stream",
     "text": [
      "\r",
      "  2%|█▍                                                                            | 145/8000 [00:02<02:14, 58.31step/s]"
     ]
    },
    {
     "name": "stdout",
     "output_type": "stream",
     "text": [
      "(c(84,8)|V: 0, H: RUN, 0|STAND|ISet(['B', 'SA', 'GS', 'MB', 'E']))\n",
      "(c(84,8)|V: 0, H: RUN, 0|STAND|ISet(['B', 'SA', 'GS', 'MB', 'E']))\n",
      "(c(84,8)|V: 0, H: RUN, 0|STAND|ISet(['B', 'SA', 'GS', 'MB', 'E']))\n",
      "(c(84,8)|V: 0, H: RUN, 0|STAND|ISet(['B', 'SA', 'GS', 'MB', 'E']))\n",
      "(c(84,8)|V: 0, H: RUN, 0|STAND|ISet(['B', 'SA', 'GS', 'MB', 'E']))\n"
     ]
    },
    {
     "name": "stderr",
     "output_type": "stream",
     "text": [
      "\r",
      "  2%|█▌                                                                            | 155/8000 [00:02<01:55, 67.67step/s]"
     ]
    },
    {
     "name": "stdout",
     "output_type": "stream",
     "text": [
      "(c(84,8)|V: 0, H: RUN, 0|STAND|ISet(['B', 'SA', 'GS', 'MB', 'E']))\n",
      "(c(84,8)|V: 0, H: RUN, 0|STAND|ISet(['B', 'SA', 'GS', 'MB', 'E']))\n",
      "(c(84,8)|V: 0, H: RUN, 0|STAND|ISet(['B', 'SA', 'GS', 'MB', 'E']))\n",
      "(c(84,8)|V: 0, H: RUN, 0|STAND|ISet(['B', 'SA', 'GS', 'MB', 'E']))\n",
      "(c(84,8)|V: 0, H: RUN, 0|STAND|ISet(['B', 'SA', 'GS', 'MB', 'E']))\n",
      "(c(84,8)|V: 0, H: RUN, 0|STAND|ISet(['B', 'SA', 'GS', 'MB', 'E']))\n",
      "(c(84,8)|V: 0, H: RUN, 0|STAND|ISet(['B', 'SA', 'GS', 'MB', 'E']))\n",
      "(c(84,8)|V: 0, H: RUN, 0|STAND|ISet(['B', 'SA', 'GS', 'MB', 'E']))\n",
      "(c(84,8)|V: 0, H: RUN, 0|STAND|ISet(['B', 'SA', 'GS', 'MB', 'E']))\n",
      "(c(84,8)|V: 0, H: RUN, 0|STAND|ISet(['B', 'SA', 'GS', 'MB', 'E']))\n",
      "(c(84,8)|V: 0, H: RUN, 0|STAND|ISet(['B', 'SA', 'GS', 'MB', 'E']))\n",
      "(c(84,8)|V: 0, H: RUN, 0|STAND|ISet(['B', 'SA', 'GS', 'MB', 'E']))\n",
      "(c(84,8)|V: 0, H: RUN, 0|STAND|ISet(['B', 'SA', 'GS', 'MB', 'E']))\n",
      "(c(84,8)|V: 0, H: RUN, 0|STAND|ISet(['B', 'SA', 'GS', 'MB', 'E']))\n",
      "(c(84,8)|V: 0, H: RUN, 0|STAND|ISet(['B', 'SA', 'GS', 'MB', 'E']))\n",
      "(c(84,8)|V: 0, H: RUN, 0|STAND|ISet(['B', 'SA', 'GS', 'MB', 'E']))\n",
      "(c(84,8)|V: 0, H: RUN, 0|STAND|ISet(['B', 'SA', 'GS', 'MB', 'E']))\n",
      "(c(84,8)|V: 0, H: RUN, 0|STAND|ISet(['B', 'SA', 'GS', 'MB', 'E']))\n"
     ]
    },
    {
     "name": "stderr",
     "output_type": "stream",
     "text": [
      "\r",
      "  2%|█▌                                                                            | 166/8000 [00:02<01:43, 75.52step/s]"
     ]
    },
    {
     "name": "stdout",
     "output_type": "stream",
     "text": [
      "(c(84,8)|V: 0, H: RUN, 0|STAND|ISet(['B', 'SA', 'GS', 'MB', 'E']))\n",
      "(c(84,8)|V: 0, H: RUN, 0|STAND|ISet(['B', 'SA', 'GS', 'MB', 'E']))\n"
     ]
    },
    {
     "name": "stderr",
     "output_type": "stream",
     "text": [
      "\r",
      "  2%|█▋                                                                            | 174/8000 [00:02<01:44, 75.12step/s]"
     ]
    },
    {
     "name": "stdout",
     "output_type": "stream",
     "text": [
      "(c(84,8)|V: 0, H: RUN, 0|STAND|ISet(['B', 'SA', 'GS', 'MB', 'E']))\n",
      "(c(84,8)|V: 0, H: RUN, 0|STAND|ISet(['B', 'SA', 'GS', 'MB', 'E']))\n",
      "(c(84,8)|V: 0, H: RUN, 0|STAND|ISet(['B', 'SA', 'GS', 'MB', 'E']))\n",
      "(c(84,8)|V: 0, H: RUN, 0|STAND|ISet(['B', 'SA', 'GS', 'MB', 'E']))\n",
      "(c(84,8)|V: 0, H: RUN, 0|STAND|ISet(['B', 'SA', 'GS', 'MB', 'E']))\n",
      "(c(84,8)|V: 0, H: RUN, 0|STAND|ISet(['B', 'SA', 'GS', 'MB', 'E']))\n",
      "(c(84,8)|V: 0, H: RUN, 0|STAND|ISet(['B', 'SA', 'GS', 'MB', 'E']))\n",
      "(c(84,8)|V: 0, H: RUN, 0|STAND|ISet(['B', 'SA', 'GS', 'MB', 'E']))\n",
      "(c(84,8)|V: 0, H: RUN, 0|STAND|ISet(['B', 'SA', 'GS', 'MB', 'E']))\n",
      "(c(84,8)|V: 0, H: RUN, 0|STAND|ISet(['B', 'SA', 'GS', 'MB', 'E']))\n",
      "(c(84,8)|V: 0, H: RUN, 0|STAND|ISet(['B', 'SA', 'GS', 'MB', 'E']))\n",
      "(c(84,8)|V: 0, H: RUN, 0|STAND|ISet(['B', 'SA', 'GS', 'MB', 'E']))\n",
      "(c(84,8)|V: 0, H: RUN, 0|STAND|ISet(['B', 'SA', 'GS', 'MB', 'E']))\n",
      "(c(84,8)|V: 0, H: RUN, 0|STAND|ISet(['B', 'SA', 'GS', 'MB', 'E']))\n",
      "(c(84,8)|V: 0, H: RUN, 0|STAND|ISet(['B', 'SA', 'GS', 'MB', 'E']))\n",
      "(c(84,8)|V: 0, H: RUN, 0|STAND|ISet(['B', 'SA', 'GS', 'MB', 'E']))\n"
     ]
    },
    {
     "name": "stderr",
     "output_type": "stream",
     "text": [
      "  2%|█▊                                                                            | 190/8000 [00:02<01:46, 73.00step/s]"
     ]
    },
    {
     "name": "stdout",
     "output_type": "stream",
     "text": [
      "(c(84,8)|V: 0, H: RUN, 0|STAND|ISet(['B', 'SA', 'GS', 'MB', 'E']))\n",
      "(c(84,8)|V: 0, H: RUN, 0|STAND|ISet(['B', 'SA', 'GS', 'MB', 'E']))\n",
      "(c(84,8)|V: 0, H: RUN, 0|STAND|ISet(['B', 'SA', 'GS', 'MB', 'E']))\n",
      "(c(84,8)|V: 0, H: RUN, 0|STAND|ISet(['B', 'SA', 'GS', 'MB', 'E']))\n",
      "(c(84,8)|V: 0, H: RUN, 0|STAND|ISet(['B', 'SA', 'GS', 'MB', 'E']))\n",
      "(c(84,8)|V: 0, H: RUN, 0|STAND|ISet(['B', 'SA', 'GS', 'MB', 'E']))\n",
      "(c(84,8)|V: 0, H: RUN, 0|STAND|ISet(['B', 'SA', 'GS', 'MB', 'E']))\n",
      "(c(84,8)|V: 0, H: RUN, 0|STAND|ISet(['B', 'SA', 'GS', 'MB', 'E']))\n",
      "(c(84,8)|V: 0, H: RUN, 0|STAND|ISet(['B', 'SA', 'GS', 'MB', 'E']))\n",
      "(c(84,8)|V: 0, H: RUN, 0|STAND|ISet(['B', 'SA', 'GS', 'MB', 'E']))\n",
      "(c(84,8)|V: 0, H: RUN, 0|STAND|ISet(['B', 'SA', 'GS', 'MB', 'E']))\n",
      "(c(84,8)|V: 0, H: RUN, 0|STAND|ISet(['B', 'SA', 'GS', 'MB', 'E']))\n",
      "(c(84,8)|V: 0, H: RUN, 0|STAND|ISet(['B', 'SA', 'GS', 'MB', 'E']))\n",
      "(c(84,8)|V: 0, H: RUN, 0|STAND|ISet(['B', 'SA', 'GS', 'MB', 'E']))\n",
      "(c(84,8)|V: 0, H: RUN, 0|STAND|ISet(['B', 'SA', 'GS', 'MB', 'E']))\n"
     ]
    },
    {
     "name": "stderr",
     "output_type": "stream",
     "text": [
      "\r",
      "  2%|█▉                                                                            | 198/8000 [00:02<01:45, 74.07step/s]"
     ]
    },
    {
     "name": "stdout",
     "output_type": "stream",
     "text": [
      "(c(84,8)|V: 0, H: RUN, 0|STAND|ISet(['B', 'SA', 'GS', 'MB', 'E']))\n",
      "(c(84,8)|V: 0, H: RUN, 0|STAND|ISet(['B', 'SA', 'GS', 'MB', 'E']))\n"
     ]
    },
    {
     "name": "stderr",
     "output_type": "stream",
     "text": [
      "\r",
      "  3%|██                                                                            | 206/8000 [00:02<01:50, 70.52step/s]"
     ]
    },
    {
     "name": "stdout",
     "output_type": "stream",
     "text": [
      "(c(84,8)|V: 0, H: RUN, 0|STAND|ISet(['B', 'SA', 'GS', 'MB', 'E']))\n",
      "(c(84,8)|V: 0, H: RUN, 0|STAND|ISet(['B', 'SA', 'GS', 'MB', 'E']))\n",
      "(c(84,8)|V: 0, H: RUN, 0|STAND|ISet(['B', 'SA', 'GS', 'MB', 'E']))\n",
      "(c(84,8)|V: 0, H: RUN, 0|STAND|ISet(['B', 'SA', 'GS', 'MB', 'E']))\n",
      "(c(84,8)|V: 0, H: RUN, 0|STAND|ISet(['B', 'SA', 'GS', 'MB', 'E']))\n",
      "(c(84,8)|V: 0, H: RUN, 0|STAND|ISet(['B', 'SA', 'GS', 'MB', 'E']))\n",
      "(c(84,8)|V: 0, H: RUN, 0|STAND|ISet(['B', 'SA', 'GS', 'MB', 'E']))\n",
      "(c(84,8)|V: 0, H: RUN, 0|STAND|ISet(['B', 'SA', 'GS', 'MB', 'E']))\n",
      "(c(84,8)|V: 0, H: RUN, 0|STAND|ISet(['B', 'SA', 'GS', 'MB', 'E']))\n",
      "(c(84,8)|V: 0, H: RUN, 0|STAND|ISet(['B', 'SA', 'GS', 'MB', 'E']))\n",
      "(c(84,8)|V: 0, H: RUN, 0|STAND|ISet(['B', 'SA', 'GS', 'MB', 'E']))\n",
      "(c(84,8)|V: 0, H: RUN, 0|STAND|ISet(['B', 'SA', 'GS', 'MB', 'E']))\n",
      "(c(84,8)|V: 0, H: RUN, 0|STAND|ISet(['B', 'SA', 'GS', 'MB', 'E']))\n",
      "(c(84,8)|V: 0, H: RUN, 0|STAND|ISet(['B', 'SA', 'GS', 'MB', 'E']))\n"
     ]
    },
    {
     "name": "stderr",
     "output_type": "stream",
     "text": [
      "  3%|██▏                                                                           | 223/8000 [00:03<01:48, 71.49step/s]"
     ]
    },
    {
     "name": "stdout",
     "output_type": "stream",
     "text": [
      "(c(84,8)|V: 0, H: RUN, 0|STAND|ISet(['B', 'SA', 'GS', 'MB', 'E']))\n",
      "(c(84,8)|V: 0, H: RUN, 0|STAND|ISet(['B', 'SA', 'GS', 'MB', 'E']))\n",
      "(c(84,8)|V: 0, H: RUN, 0|STAND|ISet(['B', 'SA', 'GS', 'MB', 'E']))\n",
      "(c(84,8)|V: 0, H: RUN, 0|STAND|ISet(['B', 'SA', 'GS', 'MB', 'E']))\n",
      "(c(84,8)|V: 0, H: RUN, 0|STAND|ISet(['B', 'SA', 'GS', 'MB', 'E']))\n",
      "(c(84,8)|V: 0, H: RUN, 0|STAND|ISet(['B', 'SA', 'GS', 'MB', 'E']))\n",
      "(c(84,8)|V: 0, H: RUN, 0|STAND|ISet(['B', 'SA', 'GS', 'MB', 'E']))\n",
      "(c(84,8)|V: 0, H: RUN, 0|STAND|ISet(['B', 'SA', 'GS', 'MB', 'E']))\n",
      "(c(84,8)|V: 0, H: RUN, 0|STAND|ISet(['B', 'SA', 'GS', 'MB', 'E']))\n",
      "(c(84,8)|V: 0, H: RUN, 0|STAND|ISet(['B', 'SA', 'GS', 'MB', 'E']))\n",
      "(c(84,8)|V: 0, H: RUN, 0|STAND|ISet(['B', 'SA', 'GS', 'MB', 'E']))\n",
      "(c(84,8)|V: 0, H: RUN, 0|STAND|ISet(['B', 'SA', 'GS', 'MB', 'E']))\n",
      "(c(84,8)|V: 0, H: RUN, 0|STAND|ISet(['B', 'SA', 'GS', 'MB', 'E']))\n",
      "(c(84,8)|V: 0, H: RUN, 0|STAND|ISet(['B', 'SA', 'GS', 'MB', 'E']))\n",
      "(c(84,8)|V: 0, H: RUN, 0|STAND|ISet(['B', 'SA', 'GS', 'MB', 'E']))\n",
      "(c(84,8)|V: 0, H: RUN, 0|STAND|ISet(['B', 'SA', 'GS', 'MB', 'E']))\n",
      "(c(84,8)|V: 0, H: RUN, 0|STAND|ISet(['B', 'SA', 'GS', 'MB', 'E']))\n",
      "(c(84,8)|V: 0, H: RUN, 0|STAND|ISet(['B', 'SA', 'GS', 'MB', 'E']))\n",
      "(c(84,8)|V: 0, H: RUN, 0|STAND|ISet(['B', 'SA', 'GS', 'MB', 'E']))\n",
      "(c(84,8)|V: 0, H: RUN, 0|STAND|ISet(['B', 'SA', 'GS', 'MB', 'E']))\n"
     ]
    },
    {
     "name": "stderr",
     "output_type": "stream",
     "text": [
      "  3%|██▎                                                                           | 243/8000 [00:03<01:33, 82.53step/s]"
     ]
    },
    {
     "name": "stdout",
     "output_type": "stream",
     "text": [
      "(c(84,8)|V: 0, H: RUN, 0|STAND|ISet(['B', 'SA', 'GS', 'MB', 'E']))\n",
      "(c(84,8)|V: 0, H: RUN, 0|STAND|ISet(['B', 'SA', 'GS', 'MB', 'E']))\n",
      "(c(84,8)|V: 0, H: RUN, 0|STAND|ISet(['B', 'SA', 'GS', 'MB', 'E']))\n",
      "(c(84,8)|V: 0, H: RUN, 0|STAND|ISet(['B', 'SA', 'GS', 'MB', 'E']))\n",
      "(c(84,8)|V: 0, H: RUN, 0|STAND|ISet(['B', 'SA', 'GS', 'MB', 'E']))\n",
      "(c(84,8)|V: 0, H: RUN, 0|STAND|ISet(['B', 'SA', 'GS', 'MB', 'E']))\n",
      "(c(84,8)|V: 0, H: RUN, 0|STAND|ISet(['B', 'SA', 'GS', 'MB', 'E']))\n",
      "(c(84,8)|V: 0, H: RUN, 0|STAND|ISet(['B', 'SA', 'GS', 'MB', 'E']))\n",
      "(c(84,8)|V: 0, H: RUN, 0|STAND|ISet(['B', 'SA', 'GS', 'MB', 'E']))\n",
      "(c(84,8)|V: 0, H: RUN, 0|STAND|ISet(['B', 'SA', 'GS', 'MB', 'E']))\n",
      "(c(84,8)|V: 0, H: RUN, 0|STAND|ISet(['B', 'SA', 'GS', 'MB', 'E']))\n",
      "(c(84,8)|V: 0, H: RUN, 0|STAND|ISet(['B', 'SA', 'GS', 'MB', 'E']))\n",
      "(c(84,8)|V: 0, H: RUN, 0|STAND|ISet(['B', 'SA', 'GS', 'MB', 'E']))\n",
      "(c(84,8)|V: 0, H: RUN, 0|STAND|ISet(['B', 'SA', 'GS', 'MB', 'E']))\n",
      "(c(84,8)|V: 0, H: RUN, 0|STAND|ISet(['B', 'SA', 'GS', 'MB', 'E']))\n",
      "(c(84,8)|V: 0, H: RUN, 0|STAND|ISet(['B', 'SA', 'GS', 'MB', 'E']))\n"
     ]
    },
    {
     "name": "stderr",
     "output_type": "stream",
     "text": [
      "  3%|██▌                                                                           | 261/8000 [00:03<01:42, 75.57step/s]"
     ]
    },
    {
     "name": "stdout",
     "output_type": "stream",
     "text": [
      "(c(84,8)|V: 0, H: RUN, 0|STAND|ISet(['B', 'SA', 'GS', 'MB', 'E']))\n",
      "(c(84,8)|V: 0, H: RUN, 0|STAND|ISet(['B', 'SA', 'GS', 'MB', 'E']))\n",
      "(c(84,8)|V: 0, H: RUN, 0|STAND|ISet(['B', 'SA', 'GS', 'MB', 'E']))\n",
      "(c(84,8)|V: 0, H: RUN, 0|STAND|ISet(['B', 'SA', 'GS', 'MB', 'E']))\n",
      "(c(84,8)|V: 0, H: RUN, 0|STAND|ISet(['B', 'SA', 'GS', 'MB', 'E']))\n",
      "(c(84,8)|V: 0, H: RUN, 0|STAND|ISet(['B', 'SA', 'GS', 'MB', 'E']))\n",
      "(c(84,8)|V: 0, H: RUN, 0|STAND|ISet(['B', 'SA', 'GS', 'MB', 'E']))\n",
      "(c(84,8)|V: 0, H: RUN, 0|STAND|ISet(['B', 'SA', 'GS', 'MB', 'E']))\n",
      "(c(84,8)|V: 0, H: RUN, 0|STAND|ISet(['B', 'SA', 'GS', 'MB', 'E']))\n",
      "(c(84,8)|V: 0, H: RUN, 0|STAND|ISet(['B', 'SA', 'GS', 'MB', 'E']))\n",
      "(c(84,8)|V: 0, H: RUN, 0|STAND|ISet(['B', 'SA', 'GS', 'MB', 'E']))\n",
      "(c(84,8)|V: 0, H: RUN, 0|STAND|ISet(['B', 'SA', 'GS', 'MB', 'E']))\n",
      "(c(84,8)|V: 0, H: RUN, 0|STAND|ISet(['B', 'SA', 'GS', 'MB', 'E']))\n",
      "(c(84,8)|V: 0, H: RUN, 0|STAND|ISet(['B', 'SA', 'GS', 'MB', 'E']))\n",
      "(c(84,8)|V: 0, H: RUN, 0|STAND|ISet(['B', 'SA', 'GS', 'MB', 'E']))\n",
      "(c(84,8)|V: 0, H: RUN, 0|STAND|ISet(['B', 'SA', 'GS', 'MB', 'E']))\n",
      "(c(84,8)|V: 0, H: RUN, 0|STAND|ISet(['B', 'SA', 'GS', 'MB', 'E']))\n"
     ]
    },
    {
     "name": "stderr",
     "output_type": "stream",
     "text": [
      "  3%|██▋                                                                           | 278/8000 [00:03<01:40, 76.50step/s]"
     ]
    },
    {
     "name": "stdout",
     "output_type": "stream",
     "text": [
      "(c(84,8)|V: 0, H: RUN, 0|STAND|ISet(['B', 'SA', 'GS', 'MB', 'E']))\n",
      "(c(84,8)|V: 0, H: RUN, 0|STAND|ISet(['B', 'SA', 'GS', 'MB', 'E']))\n",
      "(c(84,8)|V: 0, H: RUN, 0|STAND|ISet(['B', 'SA', 'GS', 'MB', 'E']))\n",
      "(c(84,8)|V: 0, H: RUN, 0|STAND|ISet(['B', 'SA', 'GS', 'MB', 'E']))\n",
      "(c(84,8)|V: 0, H: RUN, 0|STAND|ISet(['B', 'SA', 'GS', 'MB', 'E']))\n",
      "(c(84,8)|V: 0, H: RUN, 0|STAND|ISet(['B', 'SA', 'GS', 'MB', 'E']))\n",
      "(c(84,8)|V: 0, H: RUN, 0|STAND|ISet(['B', 'SA', 'GS', 'MB', 'E']))\n",
      "(c(84,8)|V: 0, H: RUN, 0|STAND|ISet(['B', 'SA', 'GS', 'MB', 'E']))\n",
      "(c(84,8)|V: 0, H: RUN, 0|STAND|ISet(['B', 'SA', 'GS', 'MB', 'E']))\n",
      "(c(84,8)|V: 0, H: RUN, 0|STAND|ISet(['B', 'SA', 'GS', 'MB', 'E']))\n",
      "(c(84,8)|V: 0, H: RUN, 0|STAND|ISet(['B', 'SA', 'GS', 'MB', 'E']))\n",
      "(c(84,8)|V: 0, H: RUN, 0|STAND|ISet(['B', 'SA', 'GS', 'MB', 'E']))\n",
      "(c(84,8)|V: 0, H: RUN, 0|STAND|ISet(['B', 'SA', 'GS', 'MB', 'E']))\n",
      "(c(84,8)|V: 0, H: RUN, 0|STAND|ISet(['B', 'SA', 'GS', 'MB', 'E']))\n",
      "(c(84,8)|V: 0, H: RUN, 0|STAND|ISet(['B', 'SA', 'GS', 'MB', 'E']))\n",
      "(c(84,8)|V: 0, H: RUN, 0|STAND|ISet(['B', 'SA', 'GS', 'MB', 'E']))\n",
      "(c(84,8)|V: 0, H: RUN, 0|STAND|ISet(['B', 'SA', 'GS', 'MB', 'E']))\n"
     ]
    },
    {
     "name": "stderr",
     "output_type": "stream",
     "text": [
      "\r",
      "  4%|██▊                                                                           | 286/8000 [00:03<01:44, 73.99step/s]"
     ]
    },
    {
     "name": "stdout",
     "output_type": "stream",
     "text": [
      "(c(84,8)|V: 0, H: RUN, 0|STAND|ISet(['B', 'SA', 'GS', 'MB', 'E']))\n",
      "(c(84,8)|V: 0, H: RUN, 0|STAND|ISet(['B', 'SA', 'GS', 'MB', 'E']))\n",
      "(c(84,8)|V: 0, H: RUN, 0|STAND|ISet(['B', 'SA', 'GS', 'MB', 'E']))\n",
      "(c(84,8)|V: 0, H: RUN, 0|STAND|ISet(['B', 'SA', 'GS', 'MB', 'E']))\n",
      "(c(84,8)|V: 0, H: RUN, 0|STAND|ISet(['B', 'SA', 'GS', 'MB', 'E']))\n",
      "(c(84,8)|V: 0, H: RUN, 0|STAND|ISet(['B', 'SA', 'GS', 'MB', 'E']))\n",
      "(c(84,8)|V: 0, H: RUN, 0|STAND|ISet(['B', 'SA', 'GS', 'MB', 'E']))\n",
      "(c(84,8)|V: 0, H: RUN, 0|STAND|ISet(['B', 'SA', 'GS', 'MB', 'E']))\n",
      "(c(84,8)|V: 0, H: RUN, 0|STAND|ISet(['B', 'SA', 'GS', 'MB', 'E']))\n"
     ]
    },
    {
     "name": "stderr",
     "output_type": "stream",
     "text": [
      "  4%|██▉                                                                           | 303/8000 [00:04<01:59, 64.59step/s]"
     ]
    },
    {
     "name": "stdout",
     "output_type": "stream",
     "text": [
      "(c(84,8)|V: 0, H: RUN, 0|STAND|ISet(['B', 'SA', 'GS', 'MB', 'E']))\n",
      "(c(84,8)|V: 0, H: RUN, 0|STAND|ISet(['B', 'SA', 'GS', 'MB', 'E']))\n",
      "(c(84,8)|V: 0, H: RUN, 0|STAND|ISet(['B', 'SA', 'GS', 'MB', 'E']))\n",
      "(c(84,8)|V: 0, H: RUN, 0|STAND|ISet(['B', 'SA', 'GS', 'MB', 'E']))\n",
      "(c(84,8)|V: 0, H: RUN, 0|STAND|ISet(['B', 'SA', 'GS', 'MB', 'E']))\n",
      "(c(84,8)|V: 0, H: RUN, 0|STAND|ISet(['B', 'SA', 'GS', 'MB', 'E']))\n",
      "(c(84,8)|V: 0, H: RUN, 0|STAND|ISet(['B', 'SA', 'GS', 'MB', 'E']))\n",
      "(c(84,8)|V: 0, H: RUN, 0|STAND|ISet(['B', 'SA', 'GS', 'MB', 'E']))\n",
      "(c(84,8)|V: 0, H: RUN, 0|STAND|ISet(['B', 'SA', 'GS', 'MB', 'E']))\n",
      "(c(84,8)|V: 0, H: RUN, 0|STAND|ISet(['B', 'SA', 'GS', 'MB', 'E']))\n",
      "(c(84,8)|V: 0, H: RUN, 0|STAND|ISet(['B', 'SA', 'GS', 'MB', 'E']))\n",
      "(c(84,8)|V: 0, H: RUN, 0|STAND|ISet(['B', 'SA', 'GS', 'MB', 'E']))\n",
      "(c(84,8)|V: 0, H: RUN, 0|STAND|ISet(['B', 'SA', 'GS', 'MB', 'E']))\n",
      "(c(84,8)|V: 0, H: RUN, 0|STAND|ISet(['B', 'SA', 'GS', 'MB', 'E']))\n"
     ]
    },
    {
     "name": "stderr",
     "output_type": "stream",
     "text": [
      "  4%|██▉                                                                           | 306/8000 [00:04<01:49, 70.50step/s]\n"
     ]
    },
    {
     "ename": "KeyboardInterrupt",
     "evalue": "",
     "output_type": "error",
     "traceback": [
      "\u001b[0;31m---------------------------------------------------------------------------\u001b[0m",
      "\u001b[0;31mKeyboardInterrupt\u001b[0m                         Traceback (most recent call last)",
      "Cell \u001b[0;32mIn [804], line 2\u001b[0m\n\u001b[1;32m      1\u001b[0m \u001b[38;5;66;03m#atlas, graph, _, _, log, n_frames = go_explore(g_state2, list(set(inputs)), emu, gamedata, 400, 20, cell_ok=cell_ok, goal=end_goal, cell_selector=cell_dist_selector, global_pos=False, seed=0)\u001b[39;00m\n\u001b[0;32m----> 2\u001b[0m atlas, graph, _, _, log, n_frames \u001b[38;5;241m=\u001b[39m \u001b[43mgo_explore\u001b[49m\u001b[43m(\u001b[49m\u001b[43mg_state2\u001b[49m\u001b[43m,\u001b[49m\u001b[43m \u001b[49m\u001b[38;5;28;43mlist\u001b[39;49m\u001b[43m(\u001b[49m\u001b[38;5;28;43mset\u001b[39;49m\u001b[43m(\u001b[49m\u001b[43minputs\u001b[49m\u001b[43m)\u001b[49m\u001b[43m)\u001b[49m\u001b[43m,\u001b[49m\u001b[43m \u001b[49m\u001b[43memu\u001b[49m\u001b[43m,\u001b[49m\u001b[43m \u001b[49m\u001b[43mgamedata\u001b[49m\u001b[43m,\u001b[49m\u001b[43m \u001b[49m\u001b[38;5;241;43m8000\u001b[39;49m\u001b[43m,\u001b[49m\u001b[43m \u001b[49m\u001b[38;5;241;43m20\u001b[39;49m\u001b[43m,\u001b[49m\u001b[43m \u001b[49m\u001b[43mgoal\u001b[49m\u001b[38;5;241;43m=\u001b[39;49m\u001b[43mend_goal\u001b[49m\u001b[43m,\u001b[49m\u001b[43m \u001b[49m\u001b[43mcell_selector\u001b[49m\u001b[38;5;241;43m=\u001b[39;49m\u001b[43mcell_dist_selector\u001b[49m\u001b[43m,\u001b[49m\u001b[43m \u001b[49m\u001b[43mglobal_pos\u001b[49m\u001b[38;5;241;43m=\u001b[39;49m\u001b[38;5;28;43;01mFalse\u001b[39;49;00m\u001b[43m,\u001b[49m\u001b[43m \u001b[49m\u001b[43mseed\u001b[49m\u001b[38;5;241;43m=\u001b[39;49m\u001b[38;5;241;43m0\u001b[39;49m\u001b[43m)\u001b[49m\n",
      "File \u001b[0;32m/mnt/d/Ross/Programming/sm door rando/sm_rando/notebooks/../abstraction_validation/go_explore.py:122\u001b[0m, in \u001b[0;36mgo_explore\u001b[0;34m(initial_state, actions, emu, gamedata, n_steps, max_step_size, cell_ok, goal, cell_selector, action_selector, global_pos, seed)\u001b[0m\n\u001b[1;32m    119\u001b[0m n_steps \u001b[38;5;241m=\u001b[39m random\u001b[38;5;241m.\u001b[39mrandint(\u001b[38;5;241m1\u001b[39m, max_step_size)\n\u001b[1;32m    120\u001b[0m \u001b[38;5;28;01mfor\u001b[39;00m _  \u001b[38;5;129;01min\u001b[39;00m \u001b[38;5;28mrange\u001b[39m(n_steps):\n\u001b[1;32m    121\u001b[0m     \u001b[38;5;66;03m#TODO: Check goal in here\u001b[39;00m\n\u001b[0;32m--> 122\u001b[0m     \u001b[43memu\u001b[49m\u001b[38;5;241;43m.\u001b[39;49m\u001b[43mset_button_mask\u001b[49m\u001b[43m(\u001b[49m\u001b[43maction\u001b[49m\u001b[43m,\u001b[49m\u001b[38;5;241;43m0\u001b[39;49m\u001b[43m)\u001b[49m\n\u001b[1;32m    123\u001b[0m     emu\u001b[38;5;241m.\u001b[39mstep()\n\u001b[1;32m    124\u001b[0m     n_frames \u001b[38;5;241m+\u001b[39m\u001b[38;5;241m=\u001b[39m \u001b[38;5;241m1\u001b[39m\n",
      "\u001b[0;31mKeyboardInterrupt\u001b[0m: "
     ]
    }
   ],
   "source": [
    "#atlas, graph, _, _, log, n_frames = go_explore(g_state2, list(set(inputs)), emu, gamedata, 400, 20, cell_ok=cell_ok, goal=end_goal, cell_selector=cell_dist_selector, global_pos=False, seed=0)\n",
    "atlas, graph, _, _, log, n_frames = go_explore(g_state2, list(set(inputs)), emu, gamedata, 8000, 20, goal=end_goal, cell_selector=cell_dist_selector, global_pos=False, seed=0)"
   ]
  },
  {
   "cell_type": "code",
   "execution_count": 800,
   "id": "ab16a8bd",
   "metadata": {},
   "outputs": [
    {
     "data": {
      "text/plain": [
       "dict_keys([(c(90,7)|V: 0, H: RUN, 0|STAND|ISet(['B', 'SA', 'GS', 'MB', 'E'])), (c(89,7)|V: 0, H: RUN, 0|STAND|ISet(['B', 'SA', 'GS', 'MB', 'E'])), (c(87,8)|V: 0, H: RUN, 0|STAND|ISet(['B', 'SA', 'GS', 'MB', 'E'])), (c(87,9)|V: 0, H: RUN, 0|MORPH|ISet(['B', 'SA', 'GS', 'MB', 'E'])), (c(85,8)|V: 0, H: RUN, 0|STAND|ISet(['B', 'SA', 'GS', 'MB', 'E'])), (c(84,8)|V: 0, H: RUN, 0|STAND|ISet(['B', 'SA', 'GS', 'MB', 'E']))])"
      ]
     },
     "execution_count": 800,
     "metadata": {},
     "output_type": "execute_result"
    }
   ],
   "source": [
    "atlas.keys()"
   ]
  },
  {
   "cell_type": "code",
   "execution_count": 802,
   "id": "68a04cec",
   "metadata": {},
   "outputs": [
    {
     "data": {
      "image/png": "[encoded data removed]",
      "text/plain": [
       "<Figure size 1000x1000 with 1 Axes>"
      ]
     },
     "metadata": {},
     "output_type": "display_data"
    }
   ],
   "source": [
    "good_model_positions = [s.position for s in good_model_states]\n",
    "figure(figsize=(10,10))\n",
    "#TODO: the colors are wrong because of stacking\n",
    "scatter(*np.array([a.position for a in atlas.keys()]).T, c=arange(len(atlas.keys())), cmap=\"viridis\")\n",
    "scatter(*array(good_model_positions).T, alpha=0.1)\n",
    "#scatter(*array(model_positions).T, alpha=0.1)\n",
    "gca().set_aspect(\"equal\")\n",
    "gca().invert_yaxis()\n",
    "#gca().imshow(gauntlet_back_image)"
   ]
  },
  {
   "cell_type": "code",
   "execution_count": 767,
   "id": "8e3f7bca",
   "metadata": {},
   "outputs": [
    {
     "data": {
      "text/plain": [
       "25"
      ]
     },
     "execution_count": 767,
     "metadata": {},
     "output_type": "execute_result"
    }
   ],
   "source": [
    "len(list(set(inputs)))"
   ]
  },
  {
   "cell_type": "markdown",
   "id": "e4201eb1",
   "metadata": {},
   "source": [
    "## Debugging"
   ]
  },
  {
   "cell_type": "code",
   "execution_count": null,
   "id": "59a1f11f",
   "metadata": {},
   "outputs": [],
   "source": []
  },
  {
   "cell_type": "code",
   "execution_count": 783,
   "id": "b29dc12c",
   "metadata": {},
   "outputs": [
    {
     "data": {
      "text/plain": [
       "<matplotlib.image.AxesImage at 0x7fe53cc25e20>"
      ]
     },
     "execution_count": 783,
     "metadata": {},
     "output_type": "execute_result"
    },
    {
     "data": {
      "image/png": "[encoded data removed]",
      "text/plain": [
       "<Figure size 548.571x480 with 1 Axes>"
      ]
     },
     "metadata": {},
     "output_type": "display_data"
    }
   ],
   "source": [
    "emu.set_state(g_state)\n",
    "emu.step()\n",
    "matshow(emu.get_screen())"
   ]
  },
  {
   "cell_type": "code",
   "execution_count": 784,
   "id": "2a8867d3",
   "metadata": {},
   "outputs": [],
   "source": [
    "#TODO Put this somewhere in abstraction validation"
   ]
  },
  {
   "cell_type": "code",
   "execution_count": 785,
   "id": "9bf21780",
   "metadata": {},
   "outputs": [],
   "source": [
    "SNES_BUTTON_NAMES = [\"B\", \"Y\", \"SELECT\", \"START\", \"UP\", \"DOWN\", \"LEFT\", \"RIGHT\", \"A\", \"X\", \"L\", \"R\"]\n",
    "locals().update(zip(SNES_BUTTON_NAMES, eye(12)))"
   ]
  },
  {
   "cell_type": "code",
   "execution_count": 791,
   "id": "211fc169",
   "metadata": {},
   "outputs": [
    {
     "data": {
      "image/png": "[encoded data removed]",
      "text/plain": [
       "<Figure size 548.571x480 with 1 Axes>"
      ]
     },
     "metadata": {},
     "output_type": "display_data"
    }
   ],
   "source": [
    "for i in range(10):\n",
    "    emu.set_button_mask(LEFT)\n",
    "    emu.step()\n",
    "matshow(emu.get_screen())\n",
    "g_state2 = emu.get_state()"
   ]
  },
  {
   "cell_type": "code",
   "execution_count": null,
   "id": "dd181bda",
   "metadata": {},
   "outputs": [],
   "source": []
  }
 ],
 "metadata": {
  "kernelspec": {
   "display_name": "p38-env",
   "language": "python",
   "name": "p38-env"
  },
  "language_info": {
   "codemirror_mode": {
    "name": "ipython",
    "version": 3
   },
   "file_extension": ".py",
   "mimetype": "text/x-python",
   "name": "python",
   "nbconvert_exporter": "python",
   "pygments_lexer": "ipython3",
   "version": "3.8.15"
  }
 },
 "nbformat": 4,
 "nbformat_minor": 5
}

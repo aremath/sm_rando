{
 "cells": [
  {
   "cell_type": "code",
   "execution_count": 28,
   "id": "d29d1e00-05fa-4026-bb3f-dc5786bc687e",
   "metadata": {},
   "outputs": [
    {
     "name": "stderr",
     "output_type": "stream",
     "text": [
      "[autoreload of abstraction_validation.sm_paths failed: Traceback (most recent call last):\n",
      "  File \"/home/aremath/.local/lib/python3.9/site-packages/IPython/extensions/autoreload.py\", line 245, in check\n",
      "    superreload(m, reload, self.old_objects)\n",
      "  File \"/home/aremath/.local/lib/python3.9/site-packages/IPython/extensions/autoreload.py\", line 394, in superreload\n",
      "    module = reload(module)\n",
      "  File \"/usr/lib/python3.9/imp.py\", line 314, in reload\n",
      "    return importlib.reload(module)\n",
      "  File \"/usr/lib/python3.9/importlib/__init__.py\", line 169, in reload\n",
      "    _bootstrap._exec(spec, module)\n",
      "  File \"<frozen importlib._bootstrap>\", line 613, in _exec\n",
      "  File \"<frozen importlib._bootstrap_external>\", line 786, in exec_module\n",
      "  File \"<frozen importlib._bootstrap_external>\", line 923, in get_code\n",
      "  File \"<frozen importlib._bootstrap_external>\", line 853, in source_to_code\n",
      "  File \"<frozen importlib._bootstrap>\", line 228, in _call_with_frames_removed\n",
      "  File \"../abstraction_validation/sm_paths.py\", line 310\n",
      "    def get_locations(parsed, room, ignore_locs=[], is_global):\n",
      "                                                             ^\n",
      "SyntaxError: non-default argument follows default argument\n",
      "]\n"
     ]
    },
    {
     "name": "stdout",
     "output_type": "stream",
     "text": [
      "The autoreload extension is already loaded. To reload it, use:\n",
      "  %reload_ext autoreload\n",
      "Populating the interactive namespace from numpy and matplotlib\n"
     ]
    },
    {
     "name": "stderr",
     "output_type": "stream",
     "text": [
      "/home/aremath/.local/lib/python3.9/site-packages/IPython/core/magics/pylab.py:159: UserWarning: pylab import has clobbered these variables: ['f']\n",
      "`%matplotlib` prevents importing * from pylab and numpy\n",
      "  warn(\"pylab import has clobbered these variables: %s\"  % clobbered +\n"
     ]
    }
   ],
   "source": [
    "%load_ext autoreload\n",
    "%autoreload 2\n",
    "%pylab inline"
   ]
  },
  {
   "cell_type": "code",
   "execution_count": 29,
   "id": "e4c731ec-d6af-4285-8430-6c2a6480be3c",
   "metadata": {},
   "outputs": [],
   "source": [
    "import sys\n",
    "sys.path.append(\"..\")"
   ]
  },
  {
   "cell_type": "code",
   "execution_count": 30,
   "id": "2e34b3fc-ca2f-4727-aa4e-c20f5bb8a2ef",
   "metadata": {},
   "outputs": [],
   "source": [
    "from encoding.parse_rooms import parse_rooms, parse_exits, dictify_rooms"
   ]
  },
  {
   "cell_type": "code",
   "execution_count": 31,
   "id": "71be2105-1224-4bb6-8467-b18e61755a35",
   "metadata": {},
   "outputs": [],
   "source": [
    "rooms = parse_rooms(\"../encoding/dsl/rooms_for_alloy.txt\")\n",
    "exits = parse_exits(\"../encoding/dsl/exits_for_alloy.txt\")\n",
    "design = dictify_rooms(rooms, exits)"
   ]
  },
  {
   "cell_type": "code",
   "execution_count": 43,
   "id": "ea9e8c09-0c38-4eb4-a2d1-17614e80d08d",
   "metadata": {},
   "outputs": [],
   "source": [
    "from rom_tools.rom_manager import RomManager\n",
    "from abstraction_validation.sm_paths import *"
   ]
  },
  {
   "cell_type": "code",
   "execution_count": 44,
   "id": "8d7a0057-0ffb-424d-893c-1988ee624e36",
   "metadata": {},
   "outputs": [],
   "source": [
    "rom = RomManager(\"../../roms/sm_clean.sfc\", \"sm_junk.smc\")\n",
    "parsed_rom = rom.parse()"
   ]
  },
  {
   "cell_type": "code",
   "execution_count": 45,
   "id": "e7ff1c61-ca71-4373-a82b-c74b303babd1",
   "metadata": {},
   "outputs": [
    {
     "name": "stdout",
     "output_type": "stream",
     "text": [
      "Landing_Site 0x791f8\n",
      "\t Extra: []\n",
      "\t Missing: ['Landing_Site_Ship']\n",
      "West_Ocean 0x793fe\n",
      "\t Extra: ['West_Ocean_L', 'West_Ocean_R4']\n",
      "\t Missing: ['West_Ocean_R6', 'West_Ocean_L2']\n",
      "Bomb_Torizo 0x79804\n",
      "\t Extra: ['Bomb_Torizo_B']\n",
      "\t Missing: ['Bomb_Torizo_Bombs']\n",
      "Spore_Spawn 0x79dc7\n",
      "\t Extra: []\n",
      "\t Missing: ['Spore_Spawn_Spore_Spawn']\n",
      "Kraid 0x7a59f\n",
      "\t Extra: []\n",
      "\t Missing: ['Kraid_Kraid']\n",
      "Statues 0x7a66a\n",
      "\t Extra: []\n",
      "\t Missing: ['Statues_Statues']\n",
      "Crocomire 0x7a98d\n",
      "\t Extra: []\n",
      "\t Missing: ['Crocomire_Crocomire']\n",
      "Water_Closet 0x7b1e5\n",
      "\t Extra: []\n",
      "\t Missing: ['Water_Closet_Drain']\n",
      "Golden_Torizo 0x7b283\n",
      "\t Extra: []\n",
      "\t Missing: ['Golden_Torizo_Golden_Torizo']\n",
      "Ridley 0x7b32e\n",
      "\t Extra: []\n",
      "\t Missing: ['Ridley_Ridley']\n",
      "Phantoon 0x7cd13\n",
      "\t Extra: []\n",
      "\t Missing: ['Phantoon_Phantoon']\n",
      "West_Sand_Hall 0x7d461\n",
      "\t Extra: []\n",
      "\t Missing: ['West_Sand_Hall_TS']\n",
      "East_Sand_Hall 0x7d4c2\n",
      "\t Extra: []\n",
      "\t Missing: ['East_Sand_Hall_TS']\n",
      "West_Sand_Hole 0x7d4ef\n",
      "\t Extra: []\n",
      "\t Missing: ['West_Sand_Hole_TS']\n",
      "East_Sand_Hole 0x7d51e\n",
      "\t Extra: []\n",
      "\t Missing: ['East_Sand_Hole_TS']\n",
      "West_Sand_Pit 0x7d54d\n",
      "\t Extra: []\n",
      "\t Missing: ['West_Sand_Pit_TS']\n",
      "East_Sand_Pit 0x7d57a\n",
      "\t Extra: []\n",
      "\t Missing: ['East_Sand_Pit_TS']\n",
      "Butterfly_Room 0x7d5ec\n",
      "\t Extra: []\n",
      "\t Missing: ['Butterfly_Room_TS']\n",
      "Botwoon_Energy_Farm 0x7d6fd\n",
      "\t Extra: []\n",
      "\t Missing: ['Botwoon_Energy_Farm_TS1', 'Botwoon_Energy_Farm_TS2']\n",
      "Butterfly_Sand_Pit 0x7d86e\n",
      "\t Extra: []\n",
      "\t Missing: ['Butterfly_Sand_Pit_TS']\n",
      "Botwoon_Energy_Pit 0x7d898\n",
      "\t Extra: []\n",
      "\t Missing: ['Botwoon_Energy_Pit_TS1', 'Botwoon_Energy_Pit_TS2']\n",
      "Shaktool 0x7d8c5\n",
      "\t Extra: []\n",
      "\t Missing: ['Shaktool_Shaktool']\n",
      "Botwoon 0x7d95e\n",
      "\t Extra: []\n",
      "\t Missing: ['Botwoon_Botwoon']\n",
      "Draygon 0x7da60\n",
      "\t Extra: []\n",
      "\t Missing: ['Draygon_Draygon']\n",
      "Mother_Brain 0x7dd58\n",
      "\t Extra: []\n",
      "\t Missing: ['Mother_Brain_L', 'Mother_Brain_Mother_Brain']\n"
     ]
    }
   ],
   "source": [
    "all_posns = all_positions(rooms, parsed_rom, is_global=False)"
   ]
  },
  {
   "cell_type": "code",
   "execution_count": 46,
   "id": "f02a28f9-7746-4f11-b73b-3a13b1c9579b",
   "metadata": {},
   "outputs": [],
   "source": [
    "import omega\n",
    "from omega.symbolic.fol import Context"
   ]
  },
  {
   "cell_type": "code",
   "execution_count": 47,
   "id": "f7e26664-1e41-487c-8e36-6529b4553b4d",
   "metadata": {},
   "outputs": [],
   "source": [
    "#all_posns"
   ]
  },
  {
   "cell_type": "code",
   "execution_count": 48,
   "id": "927d4346-408d-4cac-ab77-7cf9b7422077",
   "metadata": {},
   "outputs": [],
   "source": [
    "#design[\"Rooms\"][\"Botwoon_Energy\"]"
   ]
  },
  {
   "cell_type": "code",
   "execution_count": 49,
   "id": "8b24c45c-5d94-4d9a-8599-2147177c1945",
   "metadata": {},
   "outputs": [],
   "source": [
    "#all_global_positions"
   ]
  },
  {
   "cell_type": "code",
   "execution_count": 50,
   "id": "2aaeae3c-d8b7-4613-b4f9-92f717e7b2b1",
   "metadata": {},
   "outputs": [],
   "source": [
    "#design[\"Items\"], design[\"Bosses\"]"
   ]
  },
  {
   "cell_type": "code",
   "execution_count": 87,
   "id": "12dc7b53-9613-4d53-99be-777ff87f3317",
   "metadata": {},
   "outputs": [],
   "source": [
    "room_addrs = {name: room.mem_address & 0xffff for name, room in rooms.items()}"
   ]
  },
  {
   "cell_type": "code",
   "execution_count": 51,
   "id": "593c2f89-8772-42dc-aacb-6075b1206493",
   "metadata": {},
   "outputs": [],
   "source": [
    "def loc(room_name, node_name, when=\"prev\"):\n",
    "    #TODO: local positions\n",
    "    #TODO: with room_prev and room_next\n",
    "    try:\n",
    "        node_loc = all_posns[f\"{room_name}_{node_name}\"]\n",
    "    except KeyError:\n",
    "        return \"FALSE\"\n",
    "    xx = f\"x_{when} = {int(node_loc.x)}\"\n",
    "    yy = f\"y_{when} = {int(node_loc.y)}\"\n",
    "    #TODO room_id\n",
    "    return \" & \".join([xx, yy])\n",
    "\n",
    "def item_transitions(item_gained=None):\n",
    "    if item_gained is None:\n",
    "        return \"(items_unchanged)\"\n",
    "    clauses = []\n",
    "    for i in design[\"Items\"] | design[\"Bosses\"]:\n",
    "        if i == item_gained:\n",
    "            clause = f\"{i}_prev < {i}_next\"\n",
    "        else:\n",
    "            clause = f\"{i}_prev = {i}_next\"\n",
    "        clauses.append(clause)\n",
    "    return \" & \".join(clauses)\n",
    "\n",
    "def required_itemsets(itemsets):\n",
    "    return \"(\" + \" | \".join([\" & \".join([f\"{item}_prev = 1\" for item in itemset]) for itemset in itemsets]) + \")\"\n"
   ]
  },
  {
   "cell_type": "code",
   "execution_count": 52,
   "id": "475ebc1c-3e2b-4abf-8fc8-baff81c51b2b",
   "metadata": {},
   "outputs": [],
   "source": [
    "from tqdm.notebook import tqdm"
   ]
  },
  {
   "cell_type": "code",
   "execution_count": 89,
   "id": "35d5c659-3221-4256-a737-88c891279a26",
   "metadata": {},
   "outputs": [],
   "source": [
    "items_unchanged_def = \"items_unchanged == \" + \" & \".join([f\"{i}_prev = {i}_next\" for i in design[\"Items\"] | design[\"Bosses\"]])\n",
    "room_unchanged_def = \"room_unchanged == room_id_prev = room_id_next\""
   ]
  },
  {
   "cell_type": "code",
   "execution_count": 90,
   "id": "a80ed9dc-dff8-404a-81a9-2781bd1d8143",
   "metadata": {},
   "outputs": [
    {
     "data": {
      "text/plain": [
       "'items_unchanged == B_prev = B_next & PB_prev = PB_next & SPB_prev = SPB_next & S_prev = S_next & M_prev = M_next & G_prev = G_next & SA_prev = SA_next & V_prev = V_next & GS_prev = GS_next & SB_prev = SB_next & HJ_prev = HJ_next & MB_prev = MB_next & CB_prev = CB_next & WB_prev = WB_next & E_prev = E_next & PLB_prev = PLB_next & IB_prev = IB_next & SJ_prev = SJ_next & Spazer_prev = Spazer_next & RT_prev = RT_next & XR_prev = XR_next & Drain_prev = Drain_next & Shaktool_prev = Shaktool_next & START_prev = START_next & Statues_prev = Statues_next & Kraid_prev = Kraid_next & Phantoon_prev = Phantoon_next & Draygon_prev = Draygon_next & Ridley_prev = Ridley_next & Mother_Brain_prev = Mother_Brain_next & Botwoon_prev = Botwoon_next & Spore_Spawn_prev = Spore_Spawn_next & Golden_Torizo_prev = Golden_Torizo_next & Bomb_Torizo_prev = Bomb_Torizo_next & Crocomire_prev = Crocomire_next'"
      ]
     },
     "execution_count": 90,
     "metadata": {},
     "output_type": "execute_result"
    }
   ],
   "source": [
    "items_unchanged_def"
   ]
  },
  {
   "cell_type": "code",
   "execution_count": 92,
   "id": "b858afb9-8884-434e-8b58-9c54cb610633",
   "metadata": {},
   "outputs": [
    {
     "data": {
      "application/json": {
       "ascii": false,
       "bar_format": null,
       "colour": null,
       "elapsed": 0.01882624626159668,
       "initial": 0,
       "n": 0,
       "ncols": null,
       "nrows": null,
       "postfix": null,
       "prefix": "",
       "rate": null,
       "total": 255,
       "unit": "it",
       "unit_divisor": 1000,
       "unit_scale": false
      },
      "application/vnd.jupyter.widget-view+json": {
       "model_id": "971bb89967114402b21ed77be53d1bcc",
       "version_major": 2,
       "version_minor": 0
      },
      "text/plain": [
       "  0%|          | 0/255 [00:00<?, ?it/s]"
      ]
     },
     "metadata": {},
     "output_type": "display_data"
    }
   ],
   "source": [
    "doors = []\n",
    "for room_name, room in tqdm(design['Rooms'].items()):\n",
    "    links = []\n",
    "    for node_name in room['Nodes']:\n",
    "        links.append(loc(room_name, node_name) + \" & \" + loc(room_name, node_name, when=\"next\") + \" & \" + item_transitions() + \" & room_unchanged\")\n",
    "        if node_name in room['Drops']:\n",
    "            links.append(loc(room_name, node_name) + \" & \" + loc(room_name, node_name, when=\"next\") + \" & \" + item_transitions(room['Drops'][node_name]) + \" & room_unchanged\")\n",
    "    for node_name, door in room['Doors'].items():\n",
    "        a1 = room_addrs[room_name]\n",
    "        a2 = room_addrs[door[\"Room\"]]\n",
    "        doors.append(loc(room_name, node_name) + \" & \" + loc(door['Room'], door['Node'], when=\"next\") + \" & \" + item_transitions() + f\" & room_id_prev = {a1} & room_id_next = {a2}\")\n",
    "    for node_name, edges in room['Edges'].items():\n",
    "        for edge in edges:\n",
    "            other_node_name = edge['Terminal']\n",
    "            links.append(loc(room_name, node_name) + \" & \" + loc(room_name, other_node_name, when=\"next\") + \" & \" + required_itemsets(edge['Requirements']) + \" & \" + item_transitions() + \" & room_unchanged\")\n",
    "    link_str = \" | \".join([\"(\" + l + \")\" for l in links])\n",
    "    fname = f\"../output/tla/{room_name}.tla\"\n",
    "    with open(fname, \"w\") as f:\n",
    "        f.write(f\"LET {items_unchanged_def} IN LET {room_unchanged_def} in {link_str}\")\n",
    "door_fname = f\"../output/tla/doors.tla\"\n",
    "#door_str = \" | \".join(doors)\n",
    "door_str = \" | \".join(doors)\n",
    "with open(door_fname, \"w\") as f:\n",
    "    f.write(f\"LET {items_unchanged_def} IN ({door_str})\")"
   ]
  },
  {
   "cell_type": "code",
   "execution_count": 61,
   "id": "7df11fcb-aeb7-44a1-a90d-cbc514924407",
   "metadata": {},
   "outputs": [],
   "source": [
    "from omega.logic.lexyacc import Parser"
   ]
  },
  {
   "cell_type": "code",
   "execution_count": 62,
   "id": "371c18de-e136-43b3-ae14-6aa1769249b0",
   "metadata": {},
   "outputs": [],
   "source": [
    "p = Parser()"
   ]
  },
  {
   "cell_type": "code",
   "execution_count": 63,
   "id": "001c4a69-6f3c-44ce-9be4-4afa2a555056",
   "metadata": {},
   "outputs": [
    {
     "name": "stdout",
     "output_type": "stream",
     "text": [
      "CPU times: user 68.9 ms, sys: 0 ns, total: 68.9 ms\n",
      "Wall time: 71 ms\n"
     ]
    }
   ],
   "source": [
    "%%time\n",
    "with open(\"../output/tla/doors.tla\") as f:\n",
    "    s = f.read()\n",
    "    p.parse(s)"
   ]
  },
  {
   "cell_type": "code",
   "execution_count": 59,
   "id": "47e76326-14c9-4778-8135-9add7759cb4d",
   "metadata": {},
   "outputs": [
    {
     "data": {
      "text/plain": [
       "Operator('LET', [Binary('==', Terminal('x', 'opname'), Num('7', 'num'))], Var('y', 'var'))"
      ]
     },
     "execution_count": 59,
     "metadata": {},
     "output_type": "execute_result"
    }
   ],
   "source": [
    "p.parse(\"LET x == 7 IN y\")"
   ]
  },
  {
   "cell_type": "code",
   "execution_count": null,
   "id": "c8b7b962-b8f2-4469-8f2c-4a48bf7f8fec",
   "metadata": {},
   "outputs": [],
   "source": []
  },
  {
   "cell_type": "code",
   "execution_count": 71,
   "id": "95f73ed3-6843-47db-89bd-218e289fc240",
   "metadata": {},
   "outputs": [
    {
     "data": {
      "text/plain": [
       "'0x791f8'"
      ]
     },
     "execution_count": 71,
     "metadata": {},
     "output_type": "execute_result"
    }
   ],
   "source": [
    "hex(rooms[\"Landing_Site\"].mem_address)"
   ]
  },
  {
   "cell_type": "code",
   "execution_count": 86,
   "id": "4814855e-69dd-45cd-971a-68c5c453474c",
   "metadata": {},
   "outputs": [
    {
     "data": {
      "text/plain": [
       "'0x91f8'"
      ]
     },
     "execution_count": 86,
     "metadata": {},
     "output_type": "execute_result"
    }
   ],
   "source": [
    "hex(room_addrs[\"Landing_Site\"])"
   ]
  },
  {
   "cell_type": "code",
   "execution_count": null,
   "id": "2c35fbff-3d00-42dc-83c2-bb3976aa096e",
   "metadata": {},
   "outputs": [],
   "source": []
  }
 ],
 "metadata": {
  "kernelspec": {
   "display_name": "Python3.9",
   "language": "python",
   "name": "python3"
  },
  "language_info": {
   "codemirror_mode": {
    "name": "ipython",
    "version": 3
   },
   "file_extension": ".py",
   "mimetype": "text/x-python",
   "name": "python",
   "nbconvert_exporter": "python",
   "pygments_lexer": "ipython3",
   "version": "3.9.2"
  }
 },
 "nbformat": 4,
 "nbformat_minor": 5
}

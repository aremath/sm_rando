{
 "cells": [
  {
   "cell_type": "code",
   "execution_count": 1,
   "id": "d29d1e00-05fa-4026-bb3f-dc5786bc687e",
   "metadata": {},
   "outputs": [
    {
     "name": "stdout",
     "output_type": "stream",
     "text": [
      "Populating the interactive namespace from numpy and matplotlib\n"
     ]
    }
   ],
   "source": [
    "%load_ext autoreload\n",
    "%autoreload 2\n",
    "%pylab inline"
   ]
  },
  {
   "cell_type": "code",
   "execution_count": 2,
   "id": "e4c731ec-d6af-4285-8430-6c2a6480be3c",
   "metadata": {},
   "outputs": [],
   "source": [
    "import sys\n",
    "sys.path.append(\"..\")"
   ]
  },
  {
   "cell_type": "code",
   "execution_count": 4,
   "id": "2e34b3fc-ca2f-4727-aa4e-c20f5bb8a2ef",
   "metadata": {},
   "outputs": [],
   "source": [
    "from encoding.parse_rooms import parse_rooms, parse_exits, dictify_rooms"
   ]
  },
  {
   "cell_type": "code",
   "execution_count": 6,
   "id": "71be2105-1224-4bb6-8467-b18e61755a35",
   "metadata": {},
   "outputs": [],
   "source": [
    "rooms = parse_rooms(\"../encoding/dsl/rooms_for_alloy.txt\")\n",
    "exits = parse_exits(\"../encoding/dsl/exits_for_alloy.txt\")\n",
    "design = dictify_rooms(rooms, exits)"
   ]
  },
  {
   "cell_type": "code",
   "execution_count": 17,
   "id": "ea9e8c09-0c38-4eb4-a2d1-17614e80d08d",
   "metadata": {},
   "outputs": [],
   "source": [
    "from rom_tools.rom_manager import RomManager\n",
    "from abstraction_validation.sm_paths import *"
   ]
  },
  {
   "cell_type": "code",
   "execution_count": 15,
   "id": "8d7a0057-0ffb-424d-893c-1988ee624e36",
   "metadata": {},
   "outputs": [],
   "source": [
    "rom = RomManager(\"../../roms/sm_clean.sfc\", \"sm_junk.smc\")\n",
    "parsed_rom = rom.parse()"
   ]
  },
  {
   "cell_type": "code",
   "execution_count": 18,
   "id": "e7ff1c61-ca71-4373-a82b-c74b303babd1",
   "metadata": {},
   "outputs": [
    {
     "name": "stdout",
     "output_type": "stream",
     "text": [
      "Landing_Site 0x791f8\n",
      "\t Extra: []\n",
      "\t Missing: ['Landing_Site_Ship']\n",
      "West_Ocean 0x793fe\n",
      "\t Extra: ['West_Ocean_L', 'West_Ocean_R4']\n",
      "\t Missing: ['West_Ocean_R6', 'West_Ocean_L2']\n",
      "Bomb_Torizo 0x79804\n",
      "\t Extra: ['Bomb_Torizo_B']\n",
      "\t Missing: ['Bomb_Torizo_Bombs']\n",
      "Spore_Spawn 0x79dc7\n",
      "\t Extra: []\n",
      "\t Missing: ['Spore_Spawn_Spore_Spawn']\n",
      "Kraid 0x7a59f\n",
      "\t Extra: []\n",
      "\t Missing: ['Kraid_Kraid']\n",
      "Statues 0x7a66a\n",
      "\t Extra: []\n",
      "\t Missing: ['Statues_Statues']\n",
      "Crocomire 0x7a98d\n",
      "\t Extra: []\n",
      "\t Missing: ['Crocomire_Crocomire']\n",
      "Water_Closet 0x7b1e5\n",
      "\t Extra: []\n",
      "\t Missing: ['Water_Closet_Drain']\n",
      "Golden_Torizo 0x7b283\n",
      "\t Extra: []\n",
      "\t Missing: ['Golden_Torizo_Golden_Torizo']\n",
      "Ridley 0x7b32e\n",
      "\t Extra: []\n",
      "\t Missing: ['Ridley_Ridley']\n",
      "Phantoon 0x7cd13\n",
      "\t Extra: []\n",
      "\t Missing: ['Phantoon_Phantoon']\n",
      "West_Sand_Hall 0x7d461\n",
      "\t Extra: []\n",
      "\t Missing: ['West_Sand_Hall_TS']\n",
      "East_Sand_Hall 0x7d4c2\n",
      "\t Extra: []\n",
      "\t Missing: ['East_Sand_Hall_TS']\n",
      "West_Sand_Hole 0x7d4ef\n",
      "\t Extra: []\n",
      "\t Missing: ['West_Sand_Hole_TS']\n",
      "East_Sand_Hole 0x7d51e\n",
      "\t Extra: []\n",
      "\t Missing: ['East_Sand_Hole_TS']\n",
      "West_Sand_Pit 0x7d54d\n",
      "\t Extra: []\n",
      "\t Missing: ['West_Sand_Pit_TS']\n",
      "East_Sand_Pit 0x7d57a\n",
      "\t Extra: []\n",
      "\t Missing: ['East_Sand_Pit_TS']\n",
      "Butterfly_Room 0x7d5ec\n",
      "\t Extra: []\n",
      "\t Missing: ['Butterfly_Room_TS']\n",
      "Botwoon_Energy_Farm 0x7d6fd\n",
      "\t Extra: []\n",
      "\t Missing: ['Botwoon_Energy_Farm_TS1', 'Botwoon_Energy_Farm_TS2']\n",
      "Butterfly_Sand_Pit 0x7d86e\n",
      "\t Extra: []\n",
      "\t Missing: ['Butterfly_Sand_Pit_TS']\n",
      "Botwoon_Energy_Pit 0x7d898\n",
      "\t Extra: []\n",
      "\t Missing: ['Botwoon_Energy_Pit_TS1', 'Botwoon_Energy_Pit_TS2']\n",
      "Shaktool 0x7d8c5\n",
      "\t Extra: []\n",
      "\t Missing: ['Shaktool_Shaktool']\n",
      "Botwoon 0x7d95e\n",
      "\t Extra: []\n",
      "\t Missing: ['Botwoon_Botwoon']\n",
      "Draygon 0x7da60\n",
      "\t Extra: []\n",
      "\t Missing: ['Draygon_Draygon']\n",
      "Mother_Brain 0x7dd58\n",
      "\t Extra: []\n",
      "\t Missing: ['Mother_Brain_L', 'Mother_Brain_Mother_Brain']\n"
     ]
    }
   ],
   "source": [
    "all_posns = all_global_positions(rooms, parsed_rom)"
   ]
  },
  {
   "cell_type": "code",
   "execution_count": 11,
   "id": "f02a28f9-7746-4f11-b73b-3a13b1c9579b",
   "metadata": {},
   "outputs": [
    {
     "name": "stderr",
     "output_type": "stream",
     "text": [
      "`omega.symbolic.symbolic` failed to import `dd.cudd`.\n",
      "Will use `dd.autoref`.\n"
     ]
    }
   ],
   "source": [
    "import omega\n",
    "from omega.symbolic.fol import Context"
   ]
  },
  {
   "cell_type": "code",
   "execution_count": 20,
   "id": "f7e26664-1e41-487c-8e36-6529b4553b4d",
   "metadata": {},
   "outputs": [],
   "source": [
    "#all_posns"
   ]
  },
  {
   "cell_type": "code",
   "execution_count": 118,
   "id": "927d4346-408d-4cac-ab77-7cf9b7422077",
   "metadata": {},
   "outputs": [
    {
     "data": {
      "text/plain": [
       "{'Nodes': ['L', 'R', 'E', 'BS1', 'BS2'],\n",
       " 'Drops': {'E': 'E'},\n",
       " 'Edges': {'L': [{'Terminal': 'R',\n",
       "    'Requirements': [['GS', 'SB'],\n",
       "     ['B', 'GS', 'MB'],\n",
       "     ['PB', 'GS', 'MB'],\n",
       "     ['SPB', 'GS', 'MB'],\n",
       "     ['SPB', 'HJ', 'MB']]},\n",
       "   {'Terminal': 'E', 'Requirements': [['GS', 'MB'], ['HJ', 'MB']]},\n",
       "   {'Terminal': 'BS1', 'Requirements': [[]]},\n",
       "   {'Terminal': 'BS2', 'Requirements': [[]]}],\n",
       "  'R': [{'Terminal': 'L',\n",
       "    'Requirements': [['B', 'GS', 'MB'],\n",
       "     ['PB', 'GS', 'MB'],\n",
       "     ['SPB', 'HJ', 'MB'],\n",
       "     ['SPB', 'GS', 'MB']]},\n",
       "   {'Terminal': 'E',\n",
       "    'Requirements': [['B', 'GS', 'MB'],\n",
       "     ['PB', 'GS', 'MB'],\n",
       "     ['SPB', 'HJ', 'MB'],\n",
       "     ['SPB', 'GS', 'MB']]},\n",
       "   {'Terminal': 'BS1',\n",
       "    'Requirements': [['B', 'GS', 'MB'],\n",
       "     ['PB', 'GS', 'MB'],\n",
       "     ['SPB', 'HJ', 'MB'],\n",
       "     ['SPB', 'GS', 'MB']]},\n",
       "   {'Terminal': 'BS2',\n",
       "    'Requirements': [['B', 'GS', 'MB'],\n",
       "     ['PB', 'GS', 'MB'],\n",
       "     ['SPB', 'HJ', 'MB'],\n",
       "     ['SPB', 'GS', 'MB']]}],\n",
       "  'E': [{'Terminal': 'L', 'Requirements': [[]]},\n",
       "   {'Terminal': 'R', 'Requirements': [[]]},\n",
       "   {'Terminal': 'BS1', 'Requirements': [[]]},\n",
       "   {'Terminal': 'BS2', 'Requirements': [[]]}]},\n",
       " 'Doors': {'L': {'Room': 'Botwoon', 'Node': 'R', 'Direction': 'L'},\n",
       "  'R': {'Room': 'Halfie_Climb', 'Node': 'L2', 'Direction': 'R'},\n",
       "  'BS1': {'Room': 'Botwoon_Energy_Pit', 'Node': 'TS1', 'Direction': 'BS'},\n",
       "  'BS2': {'Room': 'Botwoon_Energy_Pit', 'Node': 'TS2', 'Direction': 'BS'}}}"
      ]
     },
     "execution_count": 118,
     "metadata": {},
     "output_type": "execute_result"
    }
   ],
   "source": [
    "design[\"Rooms\"][\"Botwoon_Energy\"]"
   ]
  },
  {
   "cell_type": "code",
   "execution_count": 30,
   "id": "8b24c45c-5d94-4d9a-8599-2147177c1945",
   "metadata": {},
   "outputs": [
    {
     "data": {
      "text/plain": [
       "<function abstraction_validation.sm_paths.all_global_positions(rooms, parsed_rom)>"
      ]
     },
     "execution_count": 30,
     "metadata": {},
     "output_type": "execute_result"
    }
   ],
   "source": [
    "all_global_positions"
   ]
  },
  {
   "cell_type": "code",
   "execution_count": 33,
   "id": "2aaeae3c-d8b7-4613-b4f9-92f717e7b2b1",
   "metadata": {},
   "outputs": [
    {
     "data": {
      "text/plain": [
       "({'B': 'Bombs',\n",
       "  'PB': 'Power_Bombs',\n",
       "  'SPB': 'Spring_Ball',\n",
       "  'S': 'Super_Missiles',\n",
       "  'M': 'Missiles',\n",
       "  'G': 'Grapple_Beam',\n",
       "  'SA': 'Screw_Attack',\n",
       "  'V': 'Varia_Suit',\n",
       "  'GS': 'Gravity_Suit',\n",
       "  'SB': 'Speed_Booster',\n",
       "  'HJ': 'Hi_Jump',\n",
       "  'MB': 'Morph',\n",
       "  'CB': 'Charge_Beam',\n",
       "  'WB': 'Wave_Beam',\n",
       "  'E': 'Energy_Tank',\n",
       "  'PLB': 'Plasma_Beam',\n",
       "  'IB': 'Ice_Beam',\n",
       "  'SJ': 'Space_Jump',\n",
       "  'Spazer': 'Spazer',\n",
       "  'RT': 'Reserve_Tank',\n",
       "  'XR': 'XRay',\n",
       "  'Drain': 'Drain',\n",
       "  'Shaktool': 'Shaktool',\n",
       "  'START': 'START',\n",
       "  'Statues': 'Statues'},\n",
       " {'Kraid': 'Kraid',\n",
       "  'Phantoon': 'Phantoon',\n",
       "  'Draygon': 'Draygon',\n",
       "  'Ridley': 'Ridley',\n",
       "  'Mother_Brain': 'Mother_Brain',\n",
       "  'Botwoon': 'Botwoon',\n",
       "  'Spore_Spawn': 'Spore_Spawn',\n",
       "  'Golden_Torizo': 'Golden_Torizo',\n",
       "  'Bomb_Torizo': 'Bomb_Torizo',\n",
       "  'Crocomire': 'Crocomire'})"
      ]
     },
     "execution_count": 33,
     "metadata": {},
     "output_type": "execute_result"
    }
   ],
   "source": [
    "design[\"Items\"], design[\"Bosses\"]"
   ]
  },
  {
   "cell_type": "code",
   "execution_count": 122,
   "id": "593c2f89-8772-42dc-aacb-6075b1206493",
   "metadata": {},
   "outputs": [],
   "source": [
    "def loc(room_name, node_name, when=\"prev\"):\n",
    "    #TODO: local positions\n",
    "    #TODO: with room_prev and room_next\n",
    "    try:\n",
    "        node_loc = all_posns[f\"{room_name}_{node_name}\"]\n",
    "    except KeyError:\n",
    "        return \"FALSE\"\n",
    "    xx = f\"x_{when} = {int(node_loc.x)}\"\n",
    "    yy = f\"y_{when} = {int(node_loc.y)}\"\n",
    "    #TODO room_id\n",
    "    return \" & \".join([xx, yy])\n",
    "\n",
    "def item_transitions(item_gained=None):\n",
    "    if item_gained is None:\n",
    "        return \"(items_unchanged)\"\n",
    "    clauses = []\n",
    "    for i in design[\"Items\"] | design[\"Bosses\"]:\n",
    "        if i == item_gained:\n",
    "            clause = f\"{i}_prev < {i}_next\"\n",
    "        else:\n",
    "            clause = f\"{i}_prev = {i}_next\"\n",
    "        clauses.append(clause)\n",
    "    return \" & \".join(clauses)\n",
    "\n",
    "def required_itemsets(itemsets):\n",
    "    return \"(\" + \" | \".join([\" & \".join([f\"{item}_prev = 1\" for item in itemset]) for itemset in itemsets]) + \")\"\n"
   ]
  },
  {
   "cell_type": "code",
   "execution_count": 102,
   "id": "475ebc1c-3e2b-4abf-8fc8-baff81c51b2b",
   "metadata": {},
   "outputs": [],
   "source": [
    "from tqdm.notebook import tqdm"
   ]
  },
  {
   "cell_type": "code",
   "execution_count": 125,
   "id": "35d5c659-3221-4256-a737-88c891279a26",
   "metadata": {},
   "outputs": [],
   "source": [
    "items_unchanged_def = \"items_unchanged == \" + \" & \".join([f\"{i}_prev = {i}_next\" for i in design[\"Items\"] | design[\"Bosses\"]])"
   ]
  },
  {
   "cell_type": "code",
   "execution_count": 126,
   "id": "a80ed9dc-dff8-404a-81a9-2781bd1d8143",
   "metadata": {},
   "outputs": [
    {
     "data": {
      "text/plain": [
       "'items_unchanged == B_prev = B_next & PB_prev = PB_next & SPB_prev = SPB_next & S_prev = S_next & M_prev = M_next & G_prev = G_next & SA_prev = SA_next & V_prev = V_next & GS_prev = GS_next & SB_prev = SB_next & HJ_prev = HJ_next & MB_prev = MB_next & CB_prev = CB_next & WB_prev = WB_next & E_prev = E_next & PLB_prev = PLB_next & IB_prev = IB_next & SJ_prev = SJ_next & Spazer_prev = Spazer_next & RT_prev = RT_next & XR_prev = XR_next & Drain_prev = Drain_next & Shaktool_prev = Shaktool_next & START_prev = START_next & Statues_prev = Statues_next & Kraid_prev = Kraid_next & Phantoon_prev = Phantoon_next & Draygon_prev = Draygon_next & Ridley_prev = Ridley_next & Mother_Brain_prev = Mother_Brain_next & Botwoon_prev = Botwoon_next & Spore_Spawn_prev = Spore_Spawn_next & Golden_Torizo_prev = Golden_Torizo_next & Bomb_Torizo_prev = Bomb_Torizo_next & Crocomire_prev = Crocomire_next'"
      ]
     },
     "execution_count": 126,
     "metadata": {},
     "output_type": "execute_result"
    }
   ],
   "source": [
    "items_unchanged_def"
   ]
  },
  {
   "cell_type": "code",
   "execution_count": 129,
   "id": "b858afb9-8884-434e-8b58-9c54cb610633",
   "metadata": {},
   "outputs": [
    {
     "data": {
      "application/json": {
       "ascii": false,
       "bar_format": null,
       "colour": null,
       "elapsed": 0.02029109001159668,
       "initial": 0,
       "n": 0,
       "ncols": null,
       "nrows": null,
       "postfix": null,
       "prefix": "",
       "rate": null,
       "total": 255,
       "unit": "it",
       "unit_divisor": 1000,
       "unit_scale": false
      },
      "application/vnd.jupyter.widget-view+json": {
       "model_id": "ccbd371efb4e40dfa6e2162f1ef5f13e",
       "version_major": 2,
       "version_minor": 0
      },
      "text/plain": [
       "  0%|          | 0/255 [00:00<?, ?it/s]"
      ]
     },
     "metadata": {},
     "output_type": "display_data"
    }
   ],
   "source": [
    "doors = []\n",
    "for room_name, room in tqdm(design['Rooms'].items()):\n",
    "    links = []\n",
    "    for node_name in room['Nodes']:\n",
    "        links.append(loc(room_name, node_name) + \" & \" + loc(room_name, node_name, when=\"next\") + \" & \" + item_transitions())\n",
    "        if node_name in room['Drops']:\n",
    "            links.append(loc(room_name, node_name) + \" & \" + loc(room_name, node_name, when=\"next\") + \" & \" + item_transitions(room['Drops'][node_name]))\n",
    "    for node_name, door in room['Doors'].items():\n",
    "        doors.append(loc(room_name, node_name) + \" & \" + loc(door['Room'], door['Node'], when=\"next\") + \" & \" + item_transitions())\n",
    "    for node_name, edges in room['Edges'].items():\n",
    "        for edge in edges:\n",
    "            other_node_name = edge['Terminal']\n",
    "            links.append(loc(room_name, node_name) + \" & \" + loc(room_name, other_node_name, when=\"next\") + \" & \" + required_itemsets(edge['Requirements']) + \" & \" + item_transitions())\n",
    "    link_str = \" | \".join([\"(\" + l + \")\" for l in links])\n",
    "    fname = f\"../output/tla/{room_name}.tla\"\n",
    "    with open(fname, \"w\") as f:\n",
    "        f.write(f\"LET {items_unchanged_def} IN {link_str}\")\n",
    "door_fname = f\"../output/tla/doors.tla\"\n",
    "door_str = \" | \".join(doors)\n",
    "with open(door_fname, \"w\") as f:\n",
    "    f.write(door_str)"
   ]
  },
  {
   "cell_type": "code",
   "execution_count": 130,
   "id": "7df11fcb-aeb7-44a1-a90d-cbc514924407",
   "metadata": {},
   "outputs": [],
   "source": [
    "from omega.logic.lexyacc import Parser"
   ]
  },
  {
   "cell_type": "code",
   "execution_count": 131,
   "id": "371c18de-e136-43b3-ae14-6aa1769249b0",
   "metadata": {},
   "outputs": [],
   "source": [
    "p = Parser()"
   ]
  },
  {
   "cell_type": "code",
   "execution_count": 132,
   "id": "001c4a69-6f3c-44ce-9be4-4afa2a555056",
   "metadata": {},
   "outputs": [
    {
     "name": "stdout",
     "output_type": "stream",
     "text": [
      "CPU times: user 63.7 ms, sys: 0 ns, total: 63.7 ms\n",
      "Wall time: 66.1 ms\n"
     ]
    }
   ],
   "source": [
    "%%time\n",
    "with open(\"../output/tla/doors.tla\") as f:\n",
    "    s = f.read()\n",
    "    p.parse(s)"
   ]
  },
  {
   "cell_type": "code",
   "execution_count": 128,
   "id": "47e76326-14c9-4778-8135-9add7759cb4d",
   "metadata": {},
   "outputs": [
    {
     "data": {
      "text/plain": [
       "Operator('LET', [Binary('==', Terminal('x', 'opname'), Num('7', 'num'))], Var('y', 'var'))"
      ]
     },
     "execution_count": 128,
     "metadata": {},
     "output_type": "execute_result"
    }
   ],
   "source": [
    "p.parse(\"LET x == 7 IN y\")"
   ]
  },
  {
   "cell_type": "code",
   "execution_count": null,
   "id": "c8b7b962-b8f2-4469-8f2c-4a48bf7f8fec",
   "metadata": {},
   "outputs": [],
   "source": []
  }
 ],
 "metadata": {
  "kernelspec": {
   "display_name": "Python3.9",
   "language": "python",
   "name": "python3"
  },
  "language_info": {
   "codemirror_mode": {
    "name": "ipython",
    "version": 3
   },
   "file_extension": ".py",
   "mimetype": "text/x-python",
   "name": "python",
   "nbconvert_exporter": "python",
   "pygments_lexer": "ipython3",
   "version": "3.9.2"
  }
 },
 "nbformat": 4,
 "nbformat_minor": 5
}

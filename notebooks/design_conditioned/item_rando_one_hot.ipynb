{
 "cells": [
  {
   "cell_type": "code",
   "execution_count": 1,
   "id": "cf1e9351-2b28-404c-8b6a-ade520448b0f",
   "metadata": {},
   "outputs": [
    {
     "name": "stdout",
     "output_type": "stream",
     "text": [
      "%pylab is deprecated, use %matplotlib inline and import the required libraries.\n",
      "Populating the interactive namespace from numpy and matplotlib\n"
     ]
    }
   ],
   "source": [
    "%load_ext autoreload\n",
    "%autoreload 2\n",
    "%pylab inline"
   ]
  },
  {
   "cell_type": "code",
   "execution_count": 2,
   "id": "7b5523ea-23f8-4a73-83c0-44390cb61e83",
   "metadata": {},
   "outputs": [],
   "source": [
    "# Item Rando:\n",
    "# 26 'randomizeable' items\n",
    "# 100 'randomizeable' drop locations\n",
    "# idea 1: location : item_id\n",
    "# ~ 500 bits (locations * log(items))\n",
    "# idea 2: item : location_id\n",
    "# ~ 700 bits (locations * log(locations))\n",
    "# idea 3: location : common_item_id\n",
    "# major_item : location_id\n",
    "# 300 bits + 126 bits"
   ]
  },
  {
   "cell_type": "code",
   "execution_count": 3,
   "id": "c10574f2-728b-4af2-a352-0160187f3fad",
   "metadata": {},
   "outputs": [],
   "source": [
    "# Door Rando:\n",
    "# ~550 doors\n",
    "# idea 1: door: door_id\n",
    "# 550 * log(550) = 5500 bits\n",
    "# idea 2: left_door : right_door_id\n",
    "# top_door : bottom_door_id\n",
    "# 225 * log(225) = 2040\n",
    "# idea 3:\n",
    "# X, Y\n",
    "# overworld is ~ 128 x 128\n",
    "# 14 bits per room * 255 rooms = 3570"
   ]
  },
  {
   "cell_type": "code",
   "execution_count": 4,
   "id": "06f0650f-b0d9-4180-b56b-b8669cc34087",
   "metadata": {},
   "outputs": [],
   "source": [
    "import sys\n",
    "sys.path.append(\"../..\")"
   ]
  },
  {
   "cell_type": "code",
   "execution_count": 5,
   "id": "d1517bbc-da8e-4742-b381-1713532c5a49",
   "metadata": {},
   "outputs": [],
   "source": [
    "from encoding.parse_rooms import parse_rooms, parse_exits, dictify_rooms"
   ]
  },
  {
   "cell_type": "code",
   "execution_count": 6,
   "id": "07524a37-0682-49dc-be8c-41361563f68a",
   "metadata": {},
   "outputs": [],
   "source": [
    "from functools import cache\n",
    "from itertools import combinations"
   ]
  },
  {
   "cell_type": "code",
   "execution_count": 7,
   "id": "07b8f023-afa1-4048-8aab-bddb9e9ace27",
   "metadata": {},
   "outputs": [],
   "source": [
    "rooms = parse_rooms(\"../../encoding/dsl/rooms_for_alloy.txt\")\n",
    "exits = parse_exits(\"../../encoding/dsl/exits_for_alloy.txt\")\n",
    "design = dictify_rooms(rooms, exits)"
   ]
  },
  {
   "cell_type": "code",
   "execution_count": 8,
   "id": "63cfc12d-24ae-48b4-bafd-354f7fd72939",
   "metadata": {},
   "outputs": [],
   "source": [
    "from rom_tools.rom_manager import RomManager\n",
    "from abstraction_validation.sm_paths import *"
   ]
  },
  {
   "cell_type": "code",
   "execution_count": 9,
   "id": "e1970e37-5201-48f9-af14-8d0a9c0beff9",
   "metadata": {},
   "outputs": [],
   "source": [
    "from bdds.bdd_core import *\n",
    "from bdds.node_bdds import *"
   ]
  },
  {
   "cell_type": "code",
   "execution_count": 10,
   "id": "d686007f-c4a9-4b8a-9400-cdc39a78d8ac",
   "metadata": {},
   "outputs": [],
   "source": [
    "from functools import reduce"
   ]
  },
  {
   "cell_type": "code",
   "execution_count": 11,
   "id": "f0a2a9b3-cc0f-4013-8967-e5aed68f5d6d",
   "metadata": {},
   "outputs": [],
   "source": [
    "all_nodes = []\n",
    "for r, room in rooms.items():\n",
    "    for node in room.graph.name_node.keys():\n",
    "        all_nodes.append(node)\n",
    "node_ids = {n:i for i,n in enumerate(all_nodes)}"
   ]
  },
  {
   "cell_type": "code",
   "execution_count": 12,
   "id": "befb2274-6f9b-4a00-b6c7-371cca8ce2bf",
   "metadata": {},
   "outputs": [],
   "source": [
    "# Issue with design translation via chopping off the last _\n",
    "node_ids[\"Spore_Spawn_Spawn\"] = node_ids[\"Spore_Spawn_Spore_Spawn\"]\n",
    "node_ids[\"Golden_Torizo_Torizo\"] = node_ids[\"Golden_Torizo_Golden_Torizo\"]\n",
    "node_ids[\"Mother_Brain_Brain\"] = node_ids[\"Mother_Brain_Mother_Brain\"]"
   ]
  },
  {
   "cell_type": "code",
   "execution_count": 13,
   "id": "cc1db031-03ae-4414-b26d-da31ad8a6523",
   "metadata": {},
   "outputs": [],
   "source": [
    "def loc_id(room_name, node_name, when=\"prev\"):\n",
    "    node_id = node_ids[f\"{room_name}_{node_name}\"]\n",
    "    return f\"node_id_{when} = {node_id}\""
   ]
  },
  {
   "cell_type": "code",
   "execution_count": 14,
   "id": "508fb7fd-a67e-4fc4-8423-a4ca5cbf77e3",
   "metadata": {},
   "outputs": [],
   "source": [
    "major_items = [\"MB\", \"B\", \"SPB\", \"G\", \"SA\", \"V\", \"GS\", \"SB\", \"HJ\", \"CB\", \"WB\", \"PLB\", \"Spazer\", \"XR\", \"IB\", \"SJ\"]\n",
    "minor_items = [\"M\", \"S\", \"PB\", \"E\", \"RT\"]\n",
    "rando_items = [\"B\", \"MB\", \"PB\", \"SPB\", \"S\", \"M\", \"G\", \"SA\", \"V\", \"GS\", \"SB\", \"HJ\", \"CB\", \"WB\", \"E\", \"PLB\", \"Spazer\", \"RT\", \"XR\", \"IB\", \"SJ\"]\n",
    "#TODO: which items are unique?\n",
    "#TODO: one-hot encoding"
   ]
  },
  {
   "cell_type": "code",
   "execution_count": 15,
   "id": "a379ced2-89b3-49a1-b80c-b58e1960e55e",
   "metadata": {},
   "outputs": [
    {
     "data": {
      "text/plain": [
       "True"
      ]
     },
     "execution_count": 15,
     "metadata": {},
     "output_type": "execute_result"
    }
   ],
   "source": [
    "set(rando_items) == set(major_items) | set(minor_items)"
   ]
  },
  {
   "cell_type": "code",
   "execution_count": 16,
   "id": "458e7fd2-b06a-40f8-b794-8b037e67dc6a",
   "metadata": {},
   "outputs": [
    {
     "data": {
      "text/plain": [
       "21"
      ]
     },
     "execution_count": 16,
     "metadata": {},
     "output_type": "execute_result"
    }
   ],
   "source": [
    "len(rando_items)"
   ]
  },
  {
   "cell_type": "code",
   "execution_count": 17,
   "id": "4a6d3ac2-df4f-4be7-bbe7-01f27dadb1e4",
   "metadata": {},
   "outputs": [],
   "source": [
    "context = mk_context_id(node_ids)"
   ]
  },
  {
   "cell_type": "code",
   "execution_count": 18,
   "id": "5cea1272-d66d-4959-803c-c9aca65bc961",
   "metadata": {},
   "outputs": [],
   "source": [
    "def mk_varstr(node, item):\n",
    "    return f\"drop_{node}_{item}\""
   ]
  },
  {
   "cell_type": "code",
   "execution_count": 19,
   "id": "02d6b5df-4c87-4b04-b5dc-47b1a14c6287",
   "metadata": {},
   "outputs": [],
   "source": [
    "#TODO: make this more efficient\n",
    "@cache\n",
    "def item_transitions(item_gained=None):\n",
    "    if item_gained is None:\n",
    "        return \"(items_unchanged)\"\n",
    "    clauses = []\n",
    "    for i in design[\"Items\"] | design[\"Bosses\"]:\n",
    "        if i == item_gained:\n",
    "            clause = f\"{i}_prev < {i}_next\"\n",
    "        else:\n",
    "            clause = f\"{i}_prev = {i}_next\"\n",
    "        clauses.append(clause)\n",
    "    return \" & \".join(clauses)\n",
    "\n",
    "def itemset_to_str(itemset):\n",
    "    if len(itemset) == 0:\n",
    "        return \"TRUE\"\n",
    "    else:\n",
    "        return \" & \".join([f\"{item}_prev = 1\" for item in itemset])\n",
    "\n",
    "def required_itemsets(itemsets):\n",
    "    return \"(\" + \" | \".join([itemset_to_str(itemset) for itemset in itemsets]) + \")\"\n",
    "\n",
    "def rando_transitions(room_name, node_name, family, possible_items):\n",
    "    t = context.false\n",
    "    node = room_name + \"_\" + node_name\n",
    "    for item in possible_items:\n",
    "        drop_name = mk_varstr(node, item)\n",
    "        t |= context.add_expr(f\"{drop_name} = 1\") & context.add_expr(item_transitions(item))\n",
    "    return t"
   ]
  },
  {
   "cell_type": "code",
   "execution_count": 20,
   "id": "40f22e2c-9142-4795-a5a5-344a7aab24eb",
   "metadata": {},
   "outputs": [],
   "source": [
    "major_nodes = []\n",
    "minor_nodes = []\n",
    "for room_name, room in design[\"Rooms\"].items():\n",
    "    for node_name, d in room[\"Drops\"].items():\n",
    "        if d in major_items:\n",
    "            major_nodes.append(room_name + \"_\" + node_name)\n",
    "        if d in minor_items:\n",
    "            minor_nodes.append(room_name + \"_\" + node_name)"
   ]
  },
  {
   "cell_type": "code",
   "execution_count": 21,
   "id": "ed08d94b-44a9-48eb-9a59-b49b563e69a2",
   "metadata": {},
   "outputs": [],
   "source": [
    "assert len(major_nodes) == len(major_items)\n",
    "assert len(minor_nodes) == 100 - len(major_nodes)"
   ]
  },
  {
   "cell_type": "code",
   "execution_count": 22,
   "id": "4e678603-cd04-411e-81c4-6f1db0484b1f",
   "metadata": {},
   "outputs": [],
   "source": [
    "drop_nodes = []\n",
    "for room_name, room in design[\"Rooms\"].items():\n",
    "    for node_name, d in room[\"Drops\"].items():\n",
    "        if d in rando_items:\n",
    "            drop_nodes.append(room_name + \"_\" + node_name)"
   ]
  },
  {
   "cell_type": "code",
   "execution_count": 23,
   "id": "7cb144d8-38b3-41d8-83a8-eba5bcbe0966",
   "metadata": {},
   "outputs": [],
   "source": [
    "assert len(drop_nodes) == 100"
   ]
  },
  {
   "cell_type": "code",
   "execution_count": 24,
   "id": "13c2aedb-d9d9-4779-9c20-e57192d7657e",
   "metadata": {},
   "outputs": [],
   "source": [
    "design_vars = {}\n",
    "for node in major_nodes:\n",
    "    for item in major_items:\n",
    "        design_vars[mk_varstr(node, item)] = (0,1)\n",
    "for node in minor_nodes:\n",
    "    for item in minor_items:\n",
    "        design_vars[mk_varstr(node, item)] = (0,1)"
   ]
  },
  {
   "cell_type": "code",
   "execution_count": 25,
   "id": "3c2cb56f-1783-4c0a-a330-601af2660a90",
   "metadata": {},
   "outputs": [],
   "source": [
    "if len(design_vars) > 0:\n",
    "    context.declare(**design_vars)"
   ]
  },
  {
   "cell_type": "code",
   "execution_count": 26,
   "id": "bc795149-bcfb-4ccc-b0aa-c3878c63cfc3",
   "metadata": {},
   "outputs": [
    {
     "data": {
      "text/plain": [
       "860"
      ]
     },
     "execution_count": 26,
     "metadata": {},
     "output_type": "execute_result"
    }
   ],
   "source": [
    "len(context.bdd.vars)"
   ]
  },
  {
   "cell_type": "code",
   "execution_count": 27,
   "id": "2c3a7d02-2aa1-4bea-97f3-d334483f6dda",
   "metadata": {},
   "outputs": [],
   "source": [
    "n_major_rando = 16\n",
    "n_minor_rando = 0\n",
    "\n",
    "major_rando_nodes = major_nodes[:n_major_rando]\n",
    "minor_rando_nodes = minor_nodes[:n_minor_rando]\n",
    "\n",
    "original_design = context.true\n",
    "for room_name, room in design[\"Rooms\"].items():\n",
    "    for node_name, d in room[\"Drops\"].items():\n",
    "        name = room_name + \"_\" + node_name\n",
    "        if d in major_items:\n",
    "            if name in major_nodes and not(name in major_rando_nodes):\n",
    "                original_design &= context.add_expr(mk_varstr(name, d) + \" = 1\")\n",
    "        if d in minor_items:\n",
    "            if name in minor_nodes and not(name in minor_rando_nodes):\n",
    "                original_design &= context.add_expr(mk_varstr(name, d) + \" = 1\")"
   ]
  },
  {
   "cell_type": "code",
   "execution_count": 28,
   "id": "a4ea6965-ae0a-4636-956d-65d8954aa3d4",
   "metadata": {},
   "outputs": [
    {
     "name": "stderr",
     "output_type": "stream",
     "text": [
      "100%|██████████████████████████████████████████████████████████████████████████████████| 16/16 [00:00<00:00, 147.34it/s]\n",
      "100%|█████████████████████████████████████████████████████████████████████████████████| 84/84 [00:00<00:00, 1025.48it/s]\n",
      "100%|███████████████████████████████████████████████████████████████████████████████████| 16/16 [00:13<00:00,  1.17it/s]\n"
     ]
    }
   ],
   "source": [
    "# Ensure uniqueness\n",
    "\n",
    "# Every item location drops one item\n",
    "drop_uniqueness = context.true\n",
    "for node in tqdm(major_nodes):\n",
    "    drop_uniqueness &= context.add_expr(\" + \".join([mk_varstr(node, item) for item in major_items]) + \" = 1\")\n",
    "for node in tqdm(minor_nodes):\n",
    "    drop_uniqueness &= context.add_expr(\" + \".join([mk_varstr(node, item) for item in minor_items]) + \" = 1\")\n",
    "\n",
    "# Every major item is dropped exactly once\n",
    "major_item_uniqueness = context.true\n",
    "for item in tqdm(major_items):\n",
    "    major_item_uniqueness &= context.add_expr(\" + \".join([mk_varstr(node, item) for node in major_nodes]) + \" = 1\")\n",
    "\n",
    "#uniqueness = context.true\n",
    "#for node, node2 in combinations(major_drop_nodes, 2):\n",
    "#    uniqueness &= context.add_expr(f\"major_drop_{node} != major_drop_{node2}\")\n",
    "# Sum is faster to compute than O(n^2) !=s\n",
    "uniqueness = drop_uniqueness & major_item_uniqueness"
   ]
  },
  {
   "cell_type": "code",
   "execution_count": 29,
   "id": "e015ab29-abfe-4026-9c46-9ced594c7430",
   "metadata": {},
   "outputs": [
    {
     "data": {
      "text/plain": [
       "1901303"
      ]
     },
     "execution_count": 29,
     "metadata": {},
     "output_type": "execute_result"
    }
   ],
   "source": [
    "uniqueness.dag_size"
   ]
  },
  {
   "cell_type": "code",
   "execution_count": 30,
   "id": "9a1db6d5-e780-4c76-bf75-2ae52e0cfcb3",
   "metadata": {},
   "outputs": [],
   "source": [
    "def combine_bdd_group(bdds):\n",
    "    return reduce(lambda x,y: x|y, bdds, context.false)"
   ]
  },
  {
   "cell_type": "code",
   "execution_count": 31,
   "id": "48dad517-68c0-4909-a710-e69de1c30221",
   "metadata": {},
   "outputs": [
    {
     "name": "stderr",
     "output_type": "stream",
     "text": [
      "100%|█████████████████████████████████████████████████████████████████████████████████| 255/255 [00:14<00:00, 17.91it/s]\n"
     ]
    }
   ],
   "source": [
    "# Build individual BDDs\n",
    "room_bdds = []\n",
    "door_bdds = []\n",
    "for room_name, room in tqdm(design['Rooms'].items()):\n",
    "    links = []\n",
    "    for node_name in room['Nodes']:\n",
    "        s = loc_id(room_name, node_name) + \" & \" + loc_id(room_name, node_name, when=\"next\") + \" & \" + item_transitions()\n",
    "        links.append(context.add_expr(s, with_ops=True))\n",
    "        if node_name in room['Drops']:\n",
    "            if room_name + \"_\" + node_name in major_rando_nodes:\n",
    "                s = context.add_expr(loc_id(room_name, node_name) + \" & \" + loc_id(room_name, node_name, when=\"next\")) & rando_transitions(room_name, node_name, \"major\", major_items)\n",
    "            elif room_name + \"_\" + node_name in minor_rando_nodes:\n",
    "                s = context.add_expr(loc_id(room_name, node_name) + \" & \" + loc_id(room_name, node_name, when=\"next\")) & rando_transitions(room_name, node_name, \"minor\", minor_items)\n",
    "            else:\n",
    "                s = context.add_expr(loc_id(room_name, node_name) + \" & \" + loc_id(room_name, node_name, when=\"next\") + \" & \" + item_transitions(room['Drops'][node_name]), with_ops=True)\n",
    "            links.append(s)\n",
    "    for node_name, door in room['Doors'].items():\n",
    "        d = loc_id(room_name, node_name) + \" & \" + loc_id(door['Room'], door['Node'], when=\"next\") + \" & \" + item_transitions()\n",
    "        door_bdds.append(context.add_expr(d, with_ops=True))\n",
    "    for node_name, edges in room['Edges'].items():\n",
    "        for edge in edges:\n",
    "            other_node_name = edge['Terminal']\n",
    "            s = loc_id(room_name, node_name) + \" & \" + loc_id(room_name, other_node_name, when=\"next\") + \" & \" + required_itemsets(edge['Requirements']) + \" & \" + item_transitions()\n",
    "            links.append(context.add_expr(s, with_ops=True))\n",
    "    room_bdd = combine_bdd_group(links)\n",
    "    #print(room_bdd.count())\n",
    "    room_bdds.append(room_bdd)"
   ]
  },
  {
   "cell_type": "code",
   "execution_count": 32,
   "id": "4b23699f-32d7-4576-b58b-276fa84bfc08",
   "metadata": {},
   "outputs": [],
   "source": [
    "doors_bdd = combine_bdd_group(door_bdds)\n",
    "rooms_bdd = combine_bdd_group(room_bdds)\n",
    "all_bdd = doors_bdd | rooms_bdd"
   ]
  },
  {
   "cell_type": "code",
   "execution_count": 33,
   "id": "0db431bb-d11c-475f-8468-ce34463ef982",
   "metadata": {},
   "outputs": [
    {
     "data": {
      "text/plain": [
       "28688"
      ]
     },
     "execution_count": 33,
     "metadata": {},
     "output_type": "execute_result"
    }
   ],
   "source": [
    "all_bdd.dag_size"
   ]
  },
  {
   "cell_type": "code",
   "execution_count": 34,
   "id": "efb66e25-881d-4021-8d1a-51418ed3ac82",
   "metadata": {},
   "outputs": [
    {
     "data": {
      "text/plain": [
       "349.0"
      ]
     },
     "execution_count": 34,
     "metadata": {},
     "output_type": "execute_result"
    }
   ],
   "source": [
    "all_bdd.count()\n",
    "context.exist(prevs, all_bdd).count()"
   ]
  },
  {
   "cell_type": "code",
   "execution_count": 35,
   "id": "79b76e80-b250-422c-b6d0-ffd2b784a272",
   "metadata": {},
   "outputs": [
    {
     "data": {
      "text/plain": [
       "348"
      ]
     },
     "execution_count": 35,
     "metadata": {},
     "output_type": "execute_result"
    }
   ],
   "source": [
    "len(all_bdd.support)"
   ]
  },
  {
   "cell_type": "code",
   "execution_count": 36,
   "id": "d271fef4-81c0-4d02-b88b-4aef0b454e2c",
   "metadata": {},
   "outputs": [],
   "source": [
    "items_unchanged = context.add_expr(\"items_unchanged\", with_ops=True)"
   ]
  },
  {
   "cell_type": "code",
   "execution_count": 37,
   "id": "9d1646d5-fbc5-4c27-856d-d4eee9f09dcc",
   "metadata": {},
   "outputs": [],
   "source": [
    "item_nexts = [k for k in item_vars if k.endswith(\"_next\")]"
   ]
  },
  {
   "cell_type": "code",
   "execution_count": 38,
   "id": "0485e612-4d64-4217-a782-91c26644da18",
   "metadata": {},
   "outputs": [],
   "source": [
    "def get_reachable_nav_steps(trans, context, start_bdd):\n",
    "    n = 0\n",
    "    #trans_local = context.exist(item_nexts + [\"Ceres_Ridley_next\"], all_bdd & ~context.add_expr(\"node_id_prev = node_id_next\"))\n",
    "    trans_local = context.exist(item_nexts, trans & items_unchanged)\n",
    "    #trans_local = trans & items_unchanged\n",
    "    covered = start_bdd\n",
    "    covered_last = context.false\n",
    "    while covered != covered_last:\n",
    "        covered_last = covered\n",
    "        # Inner while loop for no-pickup navigation\n",
    "        covered_local = covered\n",
    "        covered_local_last = context.false\n",
    "        while covered_local != covered_local_last:\n",
    "            covered_local_last = covered_local\n",
    "            fringe_local = context.exist([\"node_id_prev\"], covered_local & trans_local)\n",
    "            covered_local |= context.let({\"node_id_next\": \"node_id_prev\"}, fringe_local)\n",
    "            #print(context.support(covered_local))\n",
    "            #print(\"\\t\", covered_local.dag_size)\n",
    "        covered |= covered_local\n",
    "        # Unrestricted step\n",
    "        fringe = context.exist(prevs, covered & trans)\n",
    "        covered |= context.let(next_to_prev, fringe)\n",
    "        #print(n, covered.dag_size)\n",
    "        print(covered.dag_size)\n",
    "        n+=1\n",
    "    return covered"
   ]
  },
  {
   "cell_type": "code",
   "execution_count": 39,
   "id": "7ef1add4-180f-4318-b787-9cb32e09f785",
   "metadata": {},
   "outputs": [],
   "source": [
    "def get_reachable_id(trans_norule, context, start_bdd):\n",
    "    n = 0\n",
    "    covered_p = start_bdd\n",
    "    covered_last_p = context.false\n",
    "    while covered_p != covered_last_p:\n",
    "        covered_last_p = covered_p\n",
    "        fringe_n = context.exist(prevs, covered_p & trans_norule)\n",
    "        covered_p |= context.let(next_to_prev, fringe_n)\n",
    "        print(n, covered_p.dag_size)\n",
    "        n+=1\n",
    "    return covered_p"
   ]
  },
  {
   "cell_type": "code",
   "execution_count": 40,
   "id": "ee3f1b56-78d3-465d-93c4-b06872f06092",
   "metadata": {},
   "outputs": [],
   "source": [
    "def mk_closure(trans, context, max_steps=float(\"inf\")):\n",
    "    n = 0\n",
    "    closure = trans\n",
    "    closure_last = context.false\n",
    "    while closure != closure_last and n < max_steps:\n",
    "        closure_last = closure\n",
    "        closure_prev_temp = context.let(next_to_temp, closure_last)\n",
    "        closure_temp_next = context.let(prev_to_temp, closure_last)\n",
    "        closure |= context.exist(temps, closure_prev_temp & closure_temp_next)\n",
    "        print(n, closure.dag_size)\n",
    "        n+=1\n",
    "    closure_square = closure\n",
    "    return closure_square"
   ]
  },
  {
   "cell_type": "code",
   "execution_count": 41,
   "id": "b1036b35-b573-4ceb-bf11-cc6b8730c48d",
   "metadata": {},
   "outputs": [],
   "source": [
    "def get_reachable_nav_closure(trans, context, start_bdd):\n",
    "    n = 0\n",
    "    #trans_local = context.exist(item_nexts + [\"Ceres_Ridley_next\"], all_bdd & ~context.add_expr(\"node_id_prev = node_id_next\"))\n",
    "    trans_local = trans & items_unchanged\n",
    "    trans_local = mk_closure(trans_local, context)\n",
    "    trans = trans_local | trans\n",
    "    #trans_local = trans & items_unchanged\n",
    "    covered = start_bdd\n",
    "    covered_last = context.false\n",
    "    while covered != covered_last:\n",
    "        covered_last = covered\n",
    "        fringe = context.exist(prevs, covered & trans)\n",
    "        covered |= context.let(next_to_prev, fringe)\n",
    "        #print(n, covered.dag_size)\n",
    "        n+=1\n",
    "    return covered"
   ]
  },
  {
   "cell_type": "code",
   "execution_count": 42,
   "id": "f45b5f69-38f0-490d-843a-bf153feee15f",
   "metadata": {},
   "outputs": [],
   "source": [
    "from data_types import item_set"
   ]
  },
  {
   "cell_type": "code",
   "execution_count": 43,
   "id": "d1110598-961a-4dba-b068-dad4f294d30c",
   "metadata": {},
   "outputs": [],
   "source": [
    "def mk_itemset_expr(itemset, when=\"prev\"):\n",
    "    clauses = []\n",
    "    for i in item_mapping:\n",
    "        if i in itemset:\n",
    "            clause = f\"{i}_{when} = 1\"\n",
    "        else:\n",
    "            clause = f\"{i}_{when} = 0\"\n",
    "        clauses.append(clause)\n",
    "    return \" & \".join(clauses)"
   ]
  },
  {
   "cell_type": "code",
   "execution_count": 44,
   "id": "4957a273-8288-444b-af8e-e4d804315009",
   "metadata": {},
   "outputs": [],
   "source": [
    "start_bdd = context.add_expr(\"node_id_prev = 0 & \" + mk_itemset_expr(item_set.ItemSet()))"
   ]
  },
  {
   "cell_type": "code",
   "execution_count": 45,
   "id": "c60cff79-d21e-4820-b3c6-8423694f03f0",
   "metadata": {},
   "outputs": [],
   "source": [
    "all_items_bad = context.true\n",
    "for drop in design_vars.keys():\n",
    "    all_items_bad &= context.add_expr(f\"{drop} < 4\")"
   ]
  },
  {
   "cell_type": "code",
   "execution_count": 46,
   "id": "f2bdd334-0c26-4478-84ea-dd0c126485f3",
   "metadata": {},
   "outputs": [
    {
     "data": {
      "text/plain": [
       "{'reordering': False,\n",
       " 'garbage_collection': True,\n",
       " 'max_memory': 18446744073709551615,\n",
       " 'loose_up_to': 6710886,\n",
       " 'max_cache_soft': 31031296,\n",
       " 'max_cache_hard': 4294967295,\n",
       " 'min_hit': 30,\n",
       " 'max_growth': 1.2,\n",
       " 'max_swaps': 2000000,\n",
       " 'max_vars': 1000}"
      ]
     },
     "execution_count": 46,
     "metadata": {},
     "output_type": "execute_result"
    }
   ],
   "source": [
    "context.bdd.configure()"
   ]
  },
  {
   "cell_type": "code",
   "execution_count": 47,
   "id": "a6435eed-e007-4b81-b677-eaba789e5da2",
   "metadata": {},
   "outputs": [
    {
     "name": "stdout",
     "output_type": "stream",
     "text": [
      "1939047\n",
      "1939113\n",
      "1939556\n",
      "1940155\n",
      "1940337\n",
      "2371915\n",
      "3230218\n"
     ]
    },
    {
     "ename": "KeyboardInterrupt",
     "evalue": "",
     "output_type": "error",
     "traceback": [
      "\u001b[0;31m---------------------------------------------------------------------------\u001b[0m",
      "\u001b[0;31mKeyboardInterrupt\u001b[0m                         Traceback (most recent call last)",
      "File \u001b[0;32m<timed exec>:1\u001b[0m\n",
      "Cell \u001b[0;32mIn[38], line 21\u001b[0m, in \u001b[0;36mget_reachable_nav_steps\u001b[0;34m(trans, context, start_bdd)\u001b[0m\n\u001b[1;32m     19\u001b[0m covered \u001b[38;5;241m|\u001b[39m\u001b[38;5;241m=\u001b[39m covered_local\n\u001b[1;32m     20\u001b[0m \u001b[38;5;66;03m# Unrestricted step\u001b[39;00m\n\u001b[0;32m---> 21\u001b[0m fringe \u001b[38;5;241m=\u001b[39m \u001b[43mcontext\u001b[49m\u001b[38;5;241;43m.\u001b[39;49m\u001b[43mexist\u001b[49m\u001b[43m(\u001b[49m\u001b[43mprevs\u001b[49m\u001b[43m,\u001b[49m\u001b[43m \u001b[49m\u001b[43mcovered\u001b[49m\u001b[43m \u001b[49m\u001b[38;5;241;43m&\u001b[39;49m\u001b[43m \u001b[49m\u001b[43mtrans\u001b[49m\u001b[43m)\u001b[49m\n\u001b[1;32m     22\u001b[0m covered \u001b[38;5;241m|\u001b[39m\u001b[38;5;241m=\u001b[39m context\u001b[38;5;241m.\u001b[39mlet(next_to_prev, fringe)\n\u001b[1;32m     23\u001b[0m \u001b[38;5;66;03m#print(n, covered.dag_size)\u001b[39;00m\n",
      "File \u001b[0;32m~/.local/lib/python3.10/site-packages/omega/symbolic/fol.py:203\u001b[0m, in \u001b[0;36mContext.exist\u001b[0;34m(self, qvars, u)\u001b[0m\n\u001b[1;32m    200\u001b[0m     r \u001b[38;5;241m=\u001b[39m \u001b[38;5;28mself\u001b[39m\u001b[38;5;241m.\u001b[39mapply(\u001b[38;5;124m'\u001b[39m\u001b[38;5;124mnot\u001b[39m\u001b[38;5;124m'\u001b[39m, r)\n\u001b[1;32m    201\u001b[0m     \u001b[38;5;28;01mreturn\u001b[39;00m r\n\u001b[0;32m--> 203\u001b[0m \u001b[38;5;28;01mdef\u001b[39;00m \u001b[38;5;21mexist\u001b[39m(\u001b[38;5;28mself\u001b[39m, qvars, u):\n\u001b[1;32m    204\u001b[0m \u001b[38;5;250m    \u001b[39m\u001b[38;5;124;03m\"\"\"Existentially quantify `qvars` in `u`.\"\"\"\u001b[39;00m\n\u001b[1;32m    205\u001b[0m     \u001b[38;5;28;01mif\u001b[39;00m \u001b[38;5;28mlen\u001b[39m(qvars) \u001b[38;5;241m==\u001b[39m \u001b[38;5;241m0\u001b[39m:\n",
      "\u001b[0;31mKeyboardInterrupt\u001b[0m: "
     ]
    }
   ],
   "source": [
    "%%time\n",
    "reachable = get_reachable_nav_steps(all_bdd, context, start_bdd & uniqueness)\n",
    "#reachable = get_reachable_nav_steps(all_bdd_fast, context, start_bdd & uniqueness)\n",
    "#reachable = get_reachable_nav_closure(all_bdd, context, start_bdd)"
   ]
  },
  {
   "cell_type": "code",
   "execution_count": 48,
   "id": "ce73ee5d-d5de-4ea3-9106-717c5879783f",
   "metadata": {},
   "outputs": [
    {
     "ename": "NameError",
     "evalue": "name 'reachable' is not defined",
     "output_type": "error",
     "traceback": [
      "\u001b[0;31m---------------------------------------------------------------------------\u001b[0m",
      "\u001b[0;31mNameError\u001b[0m                                 Traceback (most recent call last)",
      "Cell \u001b[0;32mIn[48], line 1\u001b[0m\n\u001b[0;32m----> 1\u001b[0m \u001b[43mreachable\u001b[49m\u001b[38;5;241m.\u001b[39mdag_size \u001b[38;5;241m-\u001b[39m \u001b[38;5;241m1901303\u001b[39m\n",
      "\u001b[0;31mNameError\u001b[0m: name 'reachable' is not defined"
     ]
    }
   ],
   "source": [
    "reachable.dag_size - 1901303"
   ]
  },
  {
   "cell_type": "code",
   "execution_count": null,
   "id": "b6dddee9-8ad3-4499-878a-c377fb2c1cdc",
   "metadata": {},
   "outputs": [],
   "source": [
    "reachable.count()"
   ]
  },
  {
   "cell_type": "code",
   "execution_count": null,
   "id": "d08f160a-4a23-4dbe-92c7-a49a8b6fe74d",
   "metadata": {},
   "outputs": [],
   "source": [
    "context.support(reachable)"
   ]
  },
  {
   "cell_type": "code",
   "execution_count": null,
   "id": "102870cc-9831-45c7-89e2-847a6ae37669",
   "metadata": {},
   "outputs": [],
   "source": [
    "# add to trans 1.844674407372149e+19\n",
    "# add to start 11939936.0\n",
    "# 11939936.0"
   ]
  },
  {
   "cell_type": "code",
   "execution_count": null,
   "id": "2b29720d-bba3-4260-ab93-056029b60163",
   "metadata": {},
   "outputs": [],
   "source": [
    "drop_nodes"
   ]
  },
  {
   "cell_type": "code",
   "execution_count": null,
   "id": "872f49e3-087a-4993-bfac-983003dbcf98",
   "metadata": {},
   "outputs": [
    {
     "name": "stdout",
     "output_type": "stream",
     "text": [
      "0 115455\n"
     ]
    }
   ],
   "source": [
    "%%time\n",
    "all_bdd_fast = mk_closure(all_bdd, context, 3)"
   ]
  },
  {
   "cell_type": "code",
   "execution_count": null,
   "id": "0bae6384-dd25-4dc8-8a18-0a523dc420c9",
   "metadata": {},
   "outputs": [],
   "source": [
    "#%%time\n",
    "#reachable = get_reachable_id(all_bdd_fast, context, start_bdd)"
   ]
  },
  {
   "cell_type": "code",
   "execution_count": null,
   "id": "2971d3c4-39f8-411d-bfaf-6c9e4eb22def",
   "metadata": {},
   "outputs": [],
   "source": [
    "#TODO: Iterative Squaring"
   ]
  },
  {
   "cell_type": "code",
   "execution_count": null,
   "id": "2d9e9986-365f-403a-84ea-3e4a87ce745e",
   "metadata": {},
   "outputs": [],
   "source": [
    "end_reachable = context.add_expr(\"node_id_prev = 1\")"
   ]
  },
  {
   "cell_type": "code",
   "execution_count": null,
   "id": "e8cd958c-651f-499d-920a-ca65cb8dfa4a",
   "metadata": {},
   "outputs": [],
   "source": [
    "g_wo_s = context.add_expr(\"G_prev = 1 & S_prev = 0\")"
   ]
  },
  {
   "cell_type": "code",
   "execution_count": null,
   "id": "4c9c0d7e-2358-4144-ac6f-22ae3f82b9ff",
   "metadata": {},
   "outputs": [],
   "source": [
    "(end_reachable & reachable).count()"
   ]
  },
  {
   "cell_type": "code",
   "execution_count": null,
   "id": "b28c973b-e374-46ec-a91b-76e3158a819e",
   "metadata": {},
   "outputs": [],
   "source": [
    "#TODO: ensure no invalid node ids"
   ]
  },
  {
   "cell_type": "code",
   "execution_count": null,
   "id": "1b963959-b876-46a2-bc39-e34a207cf76b",
   "metadata": {},
   "outputs": [],
   "source": [
    "get_g_wo_s = context.exist(prevs, reachable & g_wo_s)\n",
    "get_end = context.exist(prevs, reachable & end_reachable)"
   ]
  },
  {
   "cell_type": "code",
   "execution_count": null,
   "id": "97f81992-8264-4263-8168-bfa88a0b2ff1",
   "metadata": {},
   "outputs": [],
   "source": [
    "(get_g_wo_s & get_end).dag_size"
   ]
  },
  {
   "cell_type": "code",
   "execution_count": null,
   "id": "2bd2f459-2f44-4c31-9750-a24f4fd61c70",
   "metadata": {},
   "outputs": [],
   "source": [
    "for sol in context.pick_iter(get_g_wo_s & get_end):\n",
    "    td = {}\n",
    "    for k,v in sol.items():\n",
    "        if v < len(rando_items):\n",
    "            td[k] = rando_items[v]\n",
    "        else:\n",
    "            td[k] = v\n",
    "    print(td)"
   ]
  },
  {
   "cell_type": "code",
   "execution_count": null,
   "id": "d328be21-f036-48e7-b862-2695a5ccc199",
   "metadata": {},
   "outputs": [],
   "source": [
    "# Gaussian distribution over shortest path times\n",
    "# Action n-grams\n",
    "# Major/Minor rando\n",
    "# nx.draw layout"
   ]
  },
  {
   "cell_type": "code",
   "execution_count": null,
   "id": "f29aaccb-67f9-44b8-9cc8-db3b53b8f6e6",
   "metadata": {},
   "outputs": [],
   "source": [
    "#TODO: Region-based or item-collection based cuts\n",
    "# Saturate the space ahead-of-time"
   ]
  }
 ],
 "metadata": {
  "kernelspec": {
   "display_name": "Python 3 (ipykernel)",
   "language": "python",
   "name": "python3"
  },
  "language_info": {
   "codemirror_mode": {
    "name": "ipython",
    "version": 3
   },
   "file_extension": ".py",
   "mimetype": "text/x-python",
   "name": "python",
   "nbconvert_exporter": "python",
   "pygments_lexer": "ipython3",
   "version": "3.10.12"
  }
 },
 "nbformat": 4,
 "nbformat_minor": 5
}

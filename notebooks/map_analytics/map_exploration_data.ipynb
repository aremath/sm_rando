{
 "cells": [
  {
   "cell_type": "code",
   "execution_count": 2,
   "id": "897678cf-9911-4e44-97b9-e2ee846adec4",
   "metadata": {},
   "outputs": [
    {
     "name": "stdout",
     "output_type": "stream",
     "text": [
      "%pylab is deprecated, use %matplotlib inline and import the required libraries.\n",
      "Populating the interactive namespace from numpy and matplotlib\n"
     ]
    }
   ],
   "source": [
    "%load_ext autoreload\n",
    "%autoreload 2\n",
    "%pylab inline"
   ]
  },
  {
   "cell_type": "code",
   "execution_count": 3,
   "id": "9749c9d6-9cc2-4911-9bcf-69e59c9de807",
   "metadata": {},
   "outputs": [],
   "source": [
    "import sys\n",
    "sys.path.append(\"../..\")"
   ]
  },
  {
   "cell_type": "code",
   "execution_count": 5,
   "id": "5f7c61c5-76c5-4e8a-aa2a-3b22f88d58ff",
   "metadata": {},
   "outputs": [],
   "source": [
    "from encoding.parse_rooms import parse_rooms, parse_exits, dictify_rooms"
   ]
  },
  {
   "cell_type": "code",
   "execution_count": 7,
   "id": "3135f565-4565-44a9-8f02-d7f2890d427a",
   "metadata": {},
   "outputs": [],
   "source": [
    "rooms = parse_rooms(\"../../encoding/dsl/rooms_for_alloy.txt\")\n",
    "exits = parse_exits(\"../../encoding/dsl/exits_for_alloy.txt\")\n",
    "design = dictify_rooms(rooms, exits)"
   ]
  },
  {
   "cell_type": "code",
   "execution_count": 9,
   "id": "4ac8afdd-9549-434a-8854-baf212666954",
   "metadata": {},
   "outputs": [],
   "source": [
    "from rom_tools.rom_manager import RomManager\n",
    "from abstraction_validation.sm_paths import *"
   ]
  },
  {
   "cell_type": "code",
   "execution_count": 11,
   "id": "e58c7c7f-0856-4198-a743-e6cae8e8e41f",
   "metadata": {},
   "outputs": [],
   "source": [
    "rom = RomManager(\"../../../roms/sm_clean.sfc\", \"sm_junk.smc\")\n",
    "parsed_rom = rom.parse()"
   ]
  },
  {
   "cell_type": "code",
   "execution_count": 12,
   "id": "25f3238b-bea7-44f0-9336-167f1e46c0b6",
   "metadata": {},
   "outputs": [
    {
     "name": "stdout",
     "output_type": "stream",
     "text": [
      "West_Ocean 0x793fe\n",
      "\t Extra: ['West_Ocean_R4', 'West_Ocean_L']\n",
      "\t Missing: []\n",
      "Bomb_Torizo 0x79804\n",
      "\t Extra: ['Bomb_Torizo_B']\n",
      "\t Missing: []\n"
     ]
    }
   ],
   "source": [
    "all_posns = all_positions(rooms, parsed_rom, is_global=False)"
   ]
  },
  {
   "cell_type": "code",
   "execution_count": 33,
   "id": "94fea877-fbc8-4bc0-a29b-0bb9bfbca4ab",
   "metadata": {},
   "outputs": [],
   "source": [
    "from abstraction_validation.abstractify import area_offsets, area_offset_key"
   ]
  },
  {
   "cell_type": "code",
   "execution_count": 4,
   "id": "0d4271bf-6be4-4a7f-aaf5-9b610fd0f04a",
   "metadata": {},
   "outputs": [],
   "source": [
    "# Load the map data from Super Metroid from ROM"
   ]
  },
  {
   "cell_type": "code",
   "execution_count": 20,
   "id": "aa1b4d53-31e0-4e83-8ef6-0c6434a69fe8",
   "metadata": {},
   "outputs": [],
   "source": [
    "from world_rando.coord import Rect"
   ]
  },
  {
   "cell_type": "code",
   "execution_count": 73,
   "id": "0c5fdf54-2656-406a-8910-d4d821d39784",
   "metadata": {},
   "outputs": [],
   "source": [
    "map_area_offsets = {\n",
    "0: Coord(3, 10),\n",
    "1: Coord(0, 28),\n",
    "2: Coord(31, 48),\n",
    "3: Coord(37, 0),\n",
    "4: Coord(28, 28),\n",
    "5: Coord(0, 11),\n",
    "#Out of bounds\n",
    "6: Coord(0, -10),\n",
    "7: Coord(0, 0),\n",
    "}"
   ]
  },
  {
   "cell_type": "code",
   "execution_count": 88,
   "id": "e5d7e5a5-d317-4def-8d04-a10a28bcb92b",
   "metadata": {},
   "outputs": [],
   "source": [
    "special_offsets = {\n",
    "    \"Crateria_Maridia_Shaft\": Coord(7,0),\n",
    "    \"East_Ocean\": Coord(7,0),\n",
    "    \"Forgotten_Highway\": Coord(7,0),\n",
    "    \"Crab_Maze\": Coord(7,0),\n",
    "    \"Crateria_Power_Door\": Coord(7,0),\n",
    "}"
   ]
  },
  {
   "cell_type": "code",
   "execution_count": 89,
   "id": "0bcd6ea5-3a5f-41b8-8742-c155cd0a5f6d",
   "metadata": {},
   "outputs": [],
   "source": [
    "room_rects = {}\n",
    "room_areas = {}\n",
    "for room in rooms.values():\n",
    "    header = parsed_rom[f\"room_header_{hex(room.mem_address)}\"]\n",
    "    area_offset = map_area_offsets[header.area_index]\n",
    "    if room.name in special_offsets:\n",
    "        area_offset += special_offsets[room.name]\n",
    "    map_pos = Coord(header.map_x, header.map_y)\n",
    "    size = Coord(header.width, header.height)\n",
    "    room_rects[room.name] = Rect(area_offset + map_pos, area_offset + map_pos + size)\n",
    "    room_areas[room.name] = header.area_index"
   ]
  },
  {
   "cell_type": "code",
   "execution_count": 90,
   "id": "589842e3-504b-4290-b8a6-5d46e064427f",
   "metadata": {},
   "outputs": [],
   "source": [
    "import matplotlib.patches"
   ]
  },
  {
   "cell_type": "code",
   "execution_count": 91,
   "id": "34efe1f6-fc1a-4f52-bd2e-7ece49a4fdab",
   "metadata": {},
   "outputs": [
    {
     "data": {
      "text/plain": [
       "{0: c(3,10),\n",
       " 1: c(0,29),\n",
       " 2: c(31,49),\n",
       " 3: c(37,0),\n",
       " 4: c(28,29),\n",
       " 5: c(0,10),\n",
       " 6: c(0,-10),\n",
       " 7: c(0,0)}"
      ]
     },
     "execution_count": 91,
     "metadata": {},
     "output_type": "execute_result"
    }
   ],
   "source": [
    "area_offsets"
   ]
  },
  {
   "cell_type": "code",
   "execution_count": 92,
   "id": "03c2d657-0893-47f2-b9f3-b9b9d4765f9d",
   "metadata": {},
   "outputs": [
    {
     "data": {
      "text/plain": [
       "{0: 'Crateria',\n",
       " 1: 'Brinstar',\n",
       " 2: 'Norfair',\n",
       " 3: 'Wrecked_Ship',\n",
       " 4: 'Maridia',\n",
       " 5: 'Tourian',\n",
       " 6: 'Ceres_Station',\n",
       " 7: 'Debug'}"
      ]
     },
     "execution_count": 92,
     "metadata": {},
     "output_type": "execute_result"
    }
   ],
   "source": [
    "area_offset_key"
   ]
  },
  {
   "cell_type": "code",
   "execution_count": 93,
   "id": "6c119ebc-5f4a-4130-9f3b-9222aaca2e0f",
   "metadata": {},
   "outputs": [],
   "source": [
    "area_colors = {\n",
    "    0 : \"mediumaquamarine\",\n",
    "    1 : \"salmon\",\n",
    "    2 : \"firebrick\",\n",
    "    3 : \"olivedrab\",\n",
    "    4 : \"royalblue\",\n",
    "    5 : \"hotpink\",\n",
    "    6 : \"grey\",\n",
    "    7 : \"yellow\",\n",
    "}"
   ]
  },
  {
   "cell_type": "code",
   "execution_count": 95,
   "id": "5d9d375b-6ac1-4a7a-b77a-fae0c477db7d",
   "metadata": {},
   "outputs": [
    {
     "data": {
      "image/png": "[encoded data removed]",
      "text/plain": [
       "<Figure size 640x480 with 1 Axes>"
      ]
     },
     "metadata": {},
     "output_type": "display_data"
    }
   ],
   "source": [
    "fig, ax = plt.subplots()\n",
    "xlim(4,72)\n",
    "ylim(9,67)\n",
    "plt.gca().set_aspect(\"equal\")\n",
    "plt.gca().invert_yaxis()\n",
    "for room in rooms.values():\n",
    "    rect = room_rects[room.name]\n",
    "    area = room_areas[room.name]\n",
    "    rsize = rect.end - rect.start\n",
    "    r = matplotlib.patches.Rectangle(rect.start, rsize.x, rsize.y, linewidth=1, edgecolor=area_colors[area], facecolor='none')\n",
    "    ax.add_patch(r)\n",
    "plt.show()"
   ]
  },
  {
   "cell_type": "code",
   "execution_count": null,
   "id": "ba414be2-568b-4a37-b6fc-8a418bfb2764",
   "metadata": {},
   "outputs": [],
   "source": [
    "# Parsing the map data?"
   ]
  },
  {
   "cell_type": "code",
   "execution_count": null,
   "id": "ab6a291a-367a-48ac-b5e6-3692d25a4e27",
   "metadata": {},
   "outputs": [],
   "source": [
    "# Since there is a fair amount of region (and even room) overlap, we'll need to define state using both position and region"
   ]
  }
 ],
 "metadata": {
  "kernelspec": {
   "display_name": "Python 3 (ipykernel)",
   "language": "python",
   "name": "python3"
  },
  "language_info": {
   "codemirror_mode": {
    "name": "ipython",
    "version": 3
   },
   "file_extension": ".py",
   "mimetype": "text/x-python",
   "name": "python",
   "nbconvert_exporter": "python",
   "pygments_lexer": "ipython3",
   "version": "3.10.12"
  }
 },
 "nbformat": 4,
 "nbformat_minor": 5
}

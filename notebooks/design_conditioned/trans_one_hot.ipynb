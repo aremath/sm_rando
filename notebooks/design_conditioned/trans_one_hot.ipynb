{
 "cells": [
  {
   "cell_type": "code",
   "execution_count": 1,
   "id": "35c3e384-05ca-424f-bd49-a27ff555258e",
   "metadata": {},
   "outputs": [],
   "source": [
    "import sys\n",
    "sys.path.append(\"../..\")"
   ]
  },
  {
   "cell_type": "code",
   "execution_count": 2,
   "id": "9e168334-044d-48a1-89d9-f045f87984fa",
   "metadata": {},
   "outputs": [],
   "source": [
    "from encoding.parse_rooms import parse_rooms, parse_exits, dictify_rooms"
   ]
  },
  {
   "cell_type": "code",
   "execution_count": 3,
   "id": "70514753-d35b-473a-91af-81ebfa77149a",
   "metadata": {},
   "outputs": [],
   "source": [
    "rooms = parse_rooms(\"../../encoding/dsl/rooms_for_alloy.txt\")\n",
    "exits = parse_exits(\"../../encoding/dsl/exits_for_alloy.txt\")\n",
    "design = dictify_rooms(rooms, exits)"
   ]
  },
  {
   "cell_type": "code",
   "execution_count": 4,
   "id": "5b9eeb60-e740-4492-9da3-f139a7804b2b",
   "metadata": {},
   "outputs": [],
   "source": [
    "from bdds.bdd_core import *\n",
    "from bdds.node_bdds import *"
   ]
  },
  {
   "cell_type": "code",
   "execution_count": 5,
   "id": "d08c514a-dd2b-4a3e-8494-b099d5749845",
   "metadata": {},
   "outputs": [],
   "source": [
    "all_nodes = []\n",
    "for r, room in rooms.items():\n",
    "    for node in room.graph.name_node.keys():\n",
    "        all_nodes.append(node)\n",
    "node_ids = {n:i for i,n in enumerate(all_nodes)}"
   ]
  },
  {
   "cell_type": "code",
   "execution_count": 6,
   "id": "f6cd636c-2877-440d-8c80-144591751666",
   "metadata": {},
   "outputs": [],
   "source": [
    "node_id_rev = {i:n for n,i in node_ids.items()}"
   ]
  },
  {
   "cell_type": "code",
   "execution_count": 7,
   "id": "8de80769-641f-4fd7-9820-86fa79f9dcdb",
   "metadata": {},
   "outputs": [],
   "source": [
    "context = mk_context_id(node_ids)"
   ]
  },
  {
   "cell_type": "code",
   "execution_count": 8,
   "id": "45afcca8-a5e6-4368-8b59-fb186df5f4cf",
   "metadata": {},
   "outputs": [],
   "source": [
    "trans_important = context.bdd.load(\"../../output/important_closure.dddmp\")[0]"
   ]
  },
  {
   "cell_type": "code",
   "execution_count": 9,
   "id": "53625d76-0c00-43bf-b13c-be3c5c89aab5",
   "metadata": {},
   "outputs": [],
   "source": [
    "#from omega.symbolic.fol import Context as OmegaContext"
   ]
  },
  {
   "cell_type": "code",
   "execution_count": 10,
   "id": "094dadac-9a3a-4efe-ba98-82038d353546",
   "metadata": {},
   "outputs": [],
   "source": [
    "item_vars = prevs[1:]"
   ]
  },
  {
   "cell_type": "code",
   "execution_count": 11,
   "id": "c8897f4d-d89c-43e4-bb24-086d7a4e8819",
   "metadata": {},
   "outputs": [],
   "source": [
    "nodes = context.exist(item_vars + nexts, trans_important)"
   ]
  },
  {
   "cell_type": "code",
   "execution_count": 12,
   "id": "d51895ab-f3e8-4c81-ad30-686d4647349a",
   "metadata": {},
   "outputs": [],
   "source": [
    "important_nodes = [node_id_rev[i[\"node_id_prev\"]] for i in context.pick_iter(nodes)]"
   ]
  },
  {
   "cell_type": "code",
   "execution_count": 13,
   "id": "689ed845-aa2a-436b-b1db-f34db652af67",
   "metadata": {},
   "outputs": [],
   "source": [
    "node_vars_prev = { f\"at_{i}_prev\" : (0,1) for i in important_nodes }\n",
    "node_vars_next = { f\"at_{i}_next\" : (0,1) for i in important_nodes }"
   ]
  },
  {
   "cell_type": "code",
   "execution_count": 14,
   "id": "d57410a5-7832-4bf5-9b73-c3d295e20238",
   "metadata": {},
   "outputs": [],
   "source": [
    "context.declare(**node_vars_prev)\n",
    "context.declare(**node_vars_next)"
   ]
  },
  {
   "cell_type": "code",
   "execution_count": 15,
   "id": "fc025ea5-4f3f-4c26-aa1d-5dc35ae2dee3",
   "metadata": {},
   "outputs": [],
   "source": [
    "def static_order_score(name):\n",
    "  var,tense,bit = name.rsplit('_', 2)\n",
    "  return (-int(var==\"node_id\"),-int(var.startswith(\"at\")),-int(bit),var,tense)\n",
    "context.bdd.reorder({v:i for i,v in enumerate(sorted(context.bdd.vars, key=static_order_score))})"
   ]
  },
  {
   "cell_type": "code",
   "execution_count": 16,
   "id": "95e2f0c1-7a13-435f-8338-d207910365ba",
   "metadata": {},
   "outputs": [],
   "source": [
    "binary_to_one_hot = context.true\n",
    "for i in important_nodes:\n",
    "    nid = node_ids[i]\n",
    "    binary_to_one_hot &= context.add_expr(f\"node_id_prev = {nid} <-> at_{i}_prev = 1\")\n",
    "    binary_to_one_hot &= context.add_expr(f\"node_id_next = {nid} <-> at_{i}_next = 1\")"
   ]
  },
  {
   "cell_type": "code",
   "execution_count": 17,
   "id": "f97e5512-ce3a-42e9-b90d-edb75b0177ef",
   "metadata": {},
   "outputs": [
    {
     "data": {
      "text/plain": [
       "(337284, 289590)"
      ]
     },
     "execution_count": 17,
     "metadata": {},
     "output_type": "execute_result"
    }
   ],
   "source": [
    "(trans_important & binary_to_one_hot).dag_size, trans_important.dag_size"
   ]
  },
  {
   "cell_type": "code",
   "execution_count": 18,
   "id": "aedc9dd8-7f06-4989-be82-cc880d560ea3",
   "metadata": {},
   "outputs": [],
   "source": [
    "trans_= context.exist([\"node_id_prev\", \"node_id_next\"], trans_important & binary_to_one_hot)"
   ]
  },
  {
   "cell_type": "code",
   "execution_count": 19,
   "id": "d04a900b-0d37-4c3d-b55a-d85c3a27dab2",
   "metadata": {},
   "outputs": [
    {
     "data": {
      "text/plain": [
       "297968"
      ]
     },
     "execution_count": 19,
     "metadata": {},
     "output_type": "execute_result"
    }
   ],
   "source": [
    "trans_one_hot.dag_size"
   ]
  },
  {
   "cell_type": "code",
   "execution_count": null,
   "id": "cbc55e5a-0507-4b1f-a9ce-942ad95fe5a0",
   "metadata": {},
   "outputs": [],
   "source": [
    "# Uniqueness"
   ]
  }
 ],
 "metadata": {
  "kernelspec": {
   "display_name": "Python 3 (ipykernel)",
   "language": "python",
   "name": "python3"
  },
  "language_info": {
   "codemirror_mode": {
    "name": "ipython",
    "version": 3
   },
   "file_extension": ".py",
   "mimetype": "text/x-python",
   "name": "python",
   "nbconvert_exporter": "python",
   "pygments_lexer": "ipython3",
   "version": "3.10.12"
  }
 },
 "nbformat": 4,
 "nbformat_minor": 5
}

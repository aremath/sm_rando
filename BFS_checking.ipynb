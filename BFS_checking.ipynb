{
 "cells": [
  {
   "cell_type": "code",
   "execution_count": 1,
   "metadata": {},
   "outputs": [],
   "source": [
    "%load_ext autoreload\n",
    "%autoreload 2"
   ]
  },
  {
   "cell_type": "code",
   "execution_count": 1,
   "metadata": {},
   "outputs": [],
   "source": [
    "#from data_types.graph import *\n",
    "#from data_types.item_set import *\n",
    "from encoding.parse_rooms import *"
   ]
  },
  {
   "cell_type": "code",
   "execution_count": 4,
   "metadata": {},
   "outputs": [
    {
     "data": {
      "text/plain": [
       "(261, 708, 2346, 13)"
      ]
     },
     "execution_count": 4,
     "metadata": {},
     "output_type": "execute_result"
    }
   ],
   "source": [
    "rooms = parse_rooms(\"encoding/dsl/rooms.txt\")\n",
    "len(rooms)\n",
    "rooms.pop(\"Kraid2\")\n",
    "rooms.pop(\"Phantoon2\")\n",
    "rooms.pop(\"Draygon2\")\n",
    "rooms.pop(\"Ridley2\")\n",
    "nn = sum([r.graph.nnodes for r in rooms.values()])\n",
    "ee = sum([sum([len(edge[1].items.sets) for edge in r.graph.edges]) for r in rooms.values()])\n",
    "em = max([max([len(edge[1].items.sets) for edge in r.graph.edges] + [0]) for r in rooms.values()])\n",
    "#ridley = rooms[\"Ridley\"]\n",
    "#ridley.graph\n",
    "len(rooms), nn, ee, em"
   ]
  },
  {
   "cell_type": "code",
   "execution_count": 8,
   "metadata": {},
   "outputs": [],
   "source": [
    "wildcards = set([\"a\", \"b\", \"c\", \"d\", \"e\"])\n",
    "wild = BFSItemsState(\"Ridley_L\", wildcards_=wildcards)"
   ]
  },
  {
   "cell_type": "code",
   "execution_count": 17,
   "metadata": {},
   "outputs": [
    {
     "name": "stdout",
     "output_type": "stream",
     "text": [
      "State: Ridley_L\n",
      "\tISet([])\n",
      "\t{'e', 'b', 'a', 'd', 'c'}\n",
      "\n",
      "Need items: ISet(['V', 'Ridley'])\n",
      "Need items: ISet(['S', 'V', 'CB', 'E', 'PLB'])\n",
      "Can cross\n",
      "Items: ISet(['S', 'V', 'CB', 'E', 'PLB']), wildcards: set()\n",
      "State: Ridley_Ridley\n",
      "\tISet(['S', 'V', 'CB', 'E', 'PLB'])\n",
      "\tset()\n",
      "\n",
      "Need items: ISet([])\n",
      "Can cross\n",
      "Items: ISet(['S', 'V', 'CB', 'E', 'PLB']), wildcards: set()\n",
      "Need items: ISet([])\n",
      "Can cross\n",
      "Items: ISet(['S', 'V', 'CB', 'E', 'PLB']), wildcards: set()\n",
      "State: Ridley_L\n",
      "\tISet(['S', 'V', 'CB', 'E', 'PLB'])\n",
      "\tset()\n",
      "\n",
      "Need items: ISet(['Ridley'])\n",
      "Need items: ISet([])\n",
      "Can cross\n",
      "Items: ISet(['S', 'V', 'CB', 'E', 'PLB']), wildcards: set()\n",
      "State: Ridley_R\n",
      "\tISet(['S', 'V', 'CB', 'E', 'PLB'])\n",
      "\tset()\n",
      "\n",
      "Need items: ISet(['Ridley'])\n",
      "Need items: ISet([])\n",
      "Can cross\n",
      "Items: ISet(['S', 'V', 'CB', 'E', 'PLB']), wildcards: set()\n"
     ]
    },
    {
     "data": {
      "text/plain": [
       "defaultdict(<function data_types.graph.ConstraintGraph.BFS_items.<locals>.<lambda>()>,\n",
       "            {'Ridley_L': defaultdict(list,\n",
       "                         {ISet([]): [({'a', 'b', 'c', 'd', 'e'}, {})],\n",
       "                          ISet(['S', 'V', 'CB', 'E', 'PLB']): [(set(),\n",
       "                            {'e': 'S',\n",
       "                             'b': 'V',\n",
       "                             'd': 'CB',\n",
       "                             'a': 'E',\n",
       "                             'c': 'PLB'})]}),\n",
       "             'Ridley_Ridley': defaultdict(list,\n",
       "                         {ISet(['S', 'V', 'CB', 'E', 'PLB']): [(set(),\n",
       "                            {'e': 'S',\n",
       "                             'b': 'V',\n",
       "                             'd': 'CB',\n",
       "                             'a': 'E',\n",
       "                             'c': 'PLB'})]}),\n",
       "             'Ridley_R': defaultdict(list,\n",
       "                         {ISet(['S', 'V', 'CB', 'E', 'PLB']): [(set(),\n",
       "                            {'e': 'S',\n",
       "                             'b': 'V',\n",
       "                             'd': 'CB',\n",
       "                             'a': 'E',\n",
       "                             'c': 'PLB'})]})})"
      ]
     },
     "execution_count": 17,
     "metadata": {},
     "output_type": "execute_result"
    }
   ],
   "source": [
    "finished, _, _ = ridley.graph.BFS_items(wild, fixed_items=ItemSet([\"Ridley\"]))\n",
    "finished"
   ]
  },
  {
   "cell_type": "code",
   "execution_count": null,
   "metadata": {},
   "outputs": [],
   "source": []
  }
 ],
 "metadata": {
  "kernelspec": {
   "display_name": "Python3.9",
   "language": "python",
   "name": "python3"
  },
  "language_info": {
   "codemirror_mode": {
    "name": "ipython",
    "version": 3
   },
   "file_extension": ".py",
   "mimetype": "text/x-python",
   "name": "python",
   "nbconvert_exporter": "python",
   "pygments_lexer": "ipython3",
   "version": "3.9.2"
  }
 },
 "nbformat": 4,
 "nbformat_minor": 4
}

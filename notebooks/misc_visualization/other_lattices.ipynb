{
 "cells": [
  {
   "cell_type": "code",
   "execution_count": 1,
   "id": "4f1ef710-97d9-4616-a7be-bc544d384883",
   "metadata": {},
   "outputs": [],
   "source": [
    "import graphviz"
   ]
  },
  {
   "cell_type": "code",
   "execution_count": 17,
   "id": "eb92dba3-22d6-449d-abf2-9461c00d5337",
   "metadata": {},
   "outputs": [],
   "source": [
    "# Castlevania: Circle of the Moon\n",
    "cotm_graph = graphviz.Graph()"
   ]
  },
  {
   "cell_type": "code",
   "execution_count": 18,
   "id": "7042dca6-3ecc-4bd0-a675-372543d1c206",
   "metadata": {},
   "outputs": [],
   "source": [
    "cotm_keyitems = [\"START\", \"Dash Boots\", \"Double_Jump\", \"Tackle\", \"Kick Boots\", \"Chapel Lever\", \"Heavy Ring\", \"Cleansing\", \"Roc Wing\", \"Last Key\"]\n",
    "for item in cotm_keyitems[1:]:\n",
    "    cotm_graph.node(item, item)"
   ]
  },
  {
   "cell_type": "code",
   "execution_count": 19,
   "id": "147c759f-a49f-4006-90dc-44de22eb7d06",
   "metadata": {},
   "outputs": [],
   "source": [
    "cotm_graph.node(\"START\", \"START\", color=\"blue\", style=\"filled\", shape=\"doubleoctagon\")"
   ]
  },
  {
   "cell_type": "code",
   "execution_count": 20,
   "id": "e3d38749-f3c5-4e9b-a8b6-06bd14edeefb",
   "metadata": {},
   "outputs": [
    {
     "data": {
      "text/plain": [
       "10"
      ]
     },
     "execution_count": 20,
     "metadata": {},
     "output_type": "execute_result"
    }
   ],
   "source": [
    "len(cotm_keyitems)"
   ]
  },
  {
   "cell_type": "code",
   "execution_count": 21,
   "id": "7dc75476-ec90-46c9-8a49-6dc7681e4708",
   "metadata": {},
   "outputs": [],
   "source": [
    "#edges = [(0,1), (1,2), (2,3), (3,4), (4,5), (5,6), (6,7), (7,8), (8,9)]\n",
    "edges = [(0,1), (1,2), (2,3), (3,4), (4,5), (5,6), (6,7), (6,8), (8,9)]\n",
    "for i,j in edges:\n",
    "    cotm_graph.edge(cotm_keyitems[i], cotm_keyitems[j])\n"
   ]
  },
  {
   "cell_type": "code",
   "execution_count": 22,
   "id": "b638f28f-5631-4e13-b2f1-e5cca2ecddae",
   "metadata": {},
   "outputs": [
    {
     "data": {
      "text/plain": [
       "'cotm_graph2.pdf'"
      ]
     },
     "execution_count": 22,
     "metadata": {},
     "output_type": "execute_result"
    }
   ],
   "source": [
    "cotm_graph.render(\"cotm_graph2\")"
   ]
  },
  {
   "cell_type": "code",
   "execution_count": null,
   "id": "1dc0099b-6225-4f5e-b637-fb436eeb2b63",
   "metadata": {},
   "outputs": [],
   "source": []
  }
 ],
 "metadata": {
  "kernelspec": {
   "display_name": "Python 3 (ipykernel)",
   "language": "python",
   "name": "python3"
  },
  "language_info": {
   "codemirror_mode": {
    "name": "ipython",
    "version": 3
   },
   "file_extension": ".py",
   "mimetype": "text/x-python",
   "name": "python",
   "nbconvert_exporter": "python",
   "pygments_lexer": "ipython3",
   "version": "3.10.12"
  }
 },
 "nbformat": 4,
 "nbformat_minor": 5
}

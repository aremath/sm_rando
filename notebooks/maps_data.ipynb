{
 "cells": [
  {
   "cell_type": "code",
   "execution_count": 1,
   "id": "a821c194-e677-404f-ab1c-22a14f50eb74",
   "metadata": {},
   "outputs": [
    {
     "name": "stdout",
     "output_type": "stream",
     "text": [
      "Populating the interactive namespace from numpy and matplotlib\n"
     ]
    }
   ],
   "source": [
    "%load_ext autoreload\n",
    "%autoreload 2\n",
    "%pylab inline"
   ]
  },
  {
   "cell_type": "code",
   "execution_count": 2,
   "id": "32aed5e6-06dc-41b0-85ba-25679bcf0707",
   "metadata": {},
   "outputs": [],
   "source": [
    "import sys\n",
    "sys.path.append(\"..\")"
   ]
  },
  {
   "cell_type": "code",
   "execution_count": 6,
   "id": "8a629430-f87b-4458-8040-dab949b72541",
   "metadata": {},
   "outputs": [],
   "source": [
    "from encoding.parse_rooms import parse_rooms, parse_exits, dictify_rooms"
   ]
  },
  {
   "cell_type": "code",
   "execution_count": 8,
   "id": "488553b4-09a2-48b3-92c9-3aa25348f276",
   "metadata": {},
   "outputs": [],
   "source": [
    "rooms = parse_rooms(\"../encoding/dsl/rooms_for_alloy.txt\")\n",
    "exits = parse_exits(\"../encoding/dsl/exits_for_alloy.txt\")\n",
    "design = dictify_rooms(rooms, exits)"
   ]
  },
  {
   "cell_type": "code",
   "execution_count": 7,
   "id": "3070b695-7f79-4bd9-978c-ec6a57962ca4",
   "metadata": {},
   "outputs": [],
   "source": [
    "from rom_tools.rom_manager import RomManager\n",
    "from abstraction_validation.sm_paths import *"
   ]
  },
  {
   "cell_type": "code",
   "execution_count": 5,
   "id": "e91578a5-6f9d-4138-a19d-64f2c47027e6",
   "metadata": {},
   "outputs": [],
   "source": [
    "rom = RomManager(\"../../roms/sm_clean.sfc\", \"sm_junk.smc\")\n",
    "parsed_rom = rom.parse()"
   ]
  },
  {
   "cell_type": "code",
   "execution_count": 9,
   "id": "ee91f5f5-15af-477e-98fa-863ab9ddfb53",
   "metadata": {},
   "outputs": [
    {
     "name": "stdout",
     "output_type": "stream",
     "text": [
      "Landing_Site 0x791f8\n",
      "\t Extra: []\n",
      "\t Missing: ['Landing_Site_Ship']\n",
      "West_Ocean 0x793fe\n",
      "\t Extra: ['West_Ocean_R4', 'West_Ocean_L']\n",
      "\t Missing: ['West_Ocean_R6', 'West_Ocean_L2']\n",
      "Bomb_Torizo 0x79804\n",
      "\t Extra: ['Bomb_Torizo_B']\n",
      "\t Missing: ['Bomb_Torizo_Bombs']\n",
      "Spore_Spawn 0x79dc7\n",
      "\t Extra: []\n",
      "\t Missing: ['Spore_Spawn_Spore_Spawn']\n",
      "Kraid 0x7a59f\n",
      "\t Extra: []\n",
      "\t Missing: ['Kraid_Kraid']\n",
      "Statues 0x7a66a\n",
      "\t Extra: []\n",
      "\t Missing: ['Statues_Statues']\n",
      "Crocomire 0x7a98d\n",
      "\t Extra: []\n",
      "\t Missing: ['Crocomire_Crocomire']\n",
      "Water_Closet 0x7b1e5\n",
      "\t Extra: []\n",
      "\t Missing: ['Water_Closet_Drain']\n",
      "Golden_Torizo 0x7b283\n",
      "\t Extra: []\n",
      "\t Missing: ['Golden_Torizo_Golden_Torizo']\n",
      "Ridley 0x7b32e\n",
      "\t Extra: []\n",
      "\t Missing: ['Ridley_Ridley']\n",
      "Phantoon 0x7cd13\n",
      "\t Extra: []\n",
      "\t Missing: ['Phantoon_Phantoon']\n",
      "West_Sand_Hall 0x7d461\n",
      "\t Extra: []\n",
      "\t Missing: ['West_Sand_Hall_TS']\n",
      "East_Sand_Hall 0x7d4c2\n",
      "\t Extra: []\n",
      "\t Missing: ['East_Sand_Hall_TS']\n",
      "West_Sand_Hole 0x7d4ef\n",
      "\t Extra: []\n",
      "\t Missing: ['West_Sand_Hole_TS']\n",
      "East_Sand_Hole 0x7d51e\n",
      "\t Extra: []\n",
      "\t Missing: ['East_Sand_Hole_TS']\n",
      "West_Sand_Pit 0x7d54d\n",
      "\t Extra: []\n",
      "\t Missing: ['West_Sand_Pit_TS']\n",
      "East_Sand_Pit 0x7d57a\n",
      "\t Extra: []\n",
      "\t Missing: ['East_Sand_Pit_TS']\n",
      "Butterfly_Room 0x7d5ec\n",
      "\t Extra: []\n",
      "\t Missing: ['Butterfly_Room_TS']\n",
      "Botwoon_Energy_Farm 0x7d6fd\n",
      "\t Extra: []\n",
      "\t Missing: ['Botwoon_Energy_Farm_TS2', 'Botwoon_Energy_Farm_TS1']\n",
      "Butterfly_Sand_Pit 0x7d86e\n",
      "\t Extra: []\n",
      "\t Missing: ['Butterfly_Sand_Pit_TS']\n",
      "Botwoon_Energy_Pit 0x7d898\n",
      "\t Extra: []\n",
      "\t Missing: ['Botwoon_Energy_Pit_TS1', 'Botwoon_Energy_Pit_TS2']\n",
      "Shaktool 0x7d8c5\n",
      "\t Extra: []\n",
      "\t Missing: ['Shaktool_Shaktool']\n",
      "Botwoon 0x7d95e\n",
      "\t Extra: []\n",
      "\t Missing: ['Botwoon_Botwoon']\n",
      "Draygon 0x7da60\n",
      "\t Extra: []\n",
      "\t Missing: ['Draygon_Draygon']\n",
      "Mother_Brain 0x7dd58\n",
      "\t Extra: []\n",
      "\t Missing: ['Mother_Brain_L', 'Mother_Brain_Mother_Brain']\n"
     ]
    }
   ],
   "source": [
    "all_posns = all_positions(rooms, parsed_rom, is_global=False)"
   ]
  },
  {
   "cell_type": "code",
   "execution_count": 10,
   "id": "3b5e61ab-9a9b-426b-b5d2-da07aeba229a",
   "metadata": {},
   "outputs": [],
   "source": [
    "#rooms: [room_name]\n",
    "#room.png\n",
    "#room.json:\n",
    "#{   name: \"aa\",\n",
    "    #region: n,\n",
    "    #mem_address: n,\n",
    "    #map_pos: (x,y) # Local\n",
    "    #map_size: (x,y)\n",
    "#}"
   ]
  },
  {
   "cell_type": "code",
   "execution_count": 11,
   "id": "305a73d4-373c-47e1-a0e3-8d08141497a1",
   "metadata": {},
   "outputs": [],
   "source": [
    "import json"
   ]
  },
  {
   "cell_type": "code",
   "execution_count": 12,
   "id": "1cb20f74-594d-455d-8ee9-c4d2841ea817",
   "metadata": {},
   "outputs": [
    {
     "data": {
      "text/plain": [
       "'\"(1,2)\"'"
      ]
     },
     "execution_count": 12,
     "metadata": {},
     "output_type": "execute_result"
    }
   ],
   "source": [
    "json.dumps(\"(1,2)\")"
   ]
  },
  {
   "cell_type": "code",
   "execution_count": 77,
   "id": "bbe6e9da-4882-4dcd-8741-a53dcfadcdfc",
   "metadata": {},
   "outputs": [],
   "source": [
    "#TODO: items.json?\n",
    "def mk_room_json(room, room_header):\n",
    "    d = {\n",
    "        \"Name\": room.name,\n",
    "        \"Region\": room_header.area_index,\n",
    "        \"Memory_Address\": room.mem_address,\n",
    "        \"Map_Pos\": (room_header.map_x, room_header.map_y),\n",
    "        \"Extent\": (room_header.width, room_header.height),\n",
    "    }\n",
    "    return d"
   ]
  },
  {
   "cell_type": "code",
   "execution_count": 34,
   "id": "0b0a7448-86af-4ad6-900c-1623595f77cc",
   "metadata": {},
   "outputs": [],
   "source": [
    "from rom_tools import graphics\n",
    "from PIL import Image"
   ]
  },
  {
   "cell_type": "code",
   "execution_count": 35,
   "id": "4860bef1-2865-4b43-a691-f69c3968dfae",
   "metadata": {},
   "outputs": [],
   "source": [
    "tileset_table = graphics.get_tileset_table(rom)\n",
    "cre_tile_sheet = graphics.get_cre_tilesheet(rom)\n",
    "cre_tile_table = graphics.get_cre_tile_table(rom)\n",
    "tile_cache = {}\n",
    "\n",
    "def get_tiles(tileset):\n",
    "    if tileset in tile_cache:\n",
    "        sce_tiles, cre_tiles = tile_cache[tileset]\n",
    "    else:\n",
    "        uc_tile_table, uc_tile_sheet, uc_palette = graphics.get_tileset(rom, tileset, tileset_table)\n",
    "        sce_tiles = graphics.tile_images(uc_tile_table, uc_tile_sheet, cre_tile_sheet, uc_palette)\n",
    "        cre_tiles = graphics.tile_images(cre_tile_table, uc_tile_sheet, cre_tile_sheet, uc_palette)\n",
    "        tile_cache[tileset] = (sce_tiles, cre_tiles)\n",
    "    return sce_tiles, cre_tiles"
   ]
  },
  {
   "cell_type": "code",
   "execution_count": 51,
   "id": "70919e11-bfc9-4d03-b2f1-56729a20b0d3",
   "metadata": {},
   "outputs": [],
   "source": [
    "def get_level_image(header):\n",
    "    d_state = header.state_chooser.default\n",
    "    tileset = d_state.tileset\n",
    "    level = d_state.level_data.level_array\n",
    "    layer1 = level.layer1\n",
    "    sce_tiles, cre_tiles = get_tiles(tileset)\n",
    "    # TODO: add this to graphics.py\n",
    "    l_image = Image.new(\"RGBA\", (layer1.shape[0] * 16, layer1.shape[1] * 16), \"black\")\n",
    "    xdim, ydim = layer1.shape\n",
    "    for y in range(ydim):\n",
    "        for x in range(xdim):\n",
    "            tile = layer1[x][y]\n",
    "            tile_image = graphics.get_tile(tile.texture.texture_index, sce_tiles, cre_tiles)\n",
    "            #TODO: flips are parsed backwards?\n",
    "            flips = (tile.texture.hflip, tile.texture.vflip)\n",
    "            tile_image = graphics.apply_flips(tile_image, flips)\n",
    "            # Third argument is the alpha mask\n",
    "            l_image.paste(tile_image, (x * 16, y * 16), tile_image)\n",
    "    return l_image"
   ]
  },
  {
   "cell_type": "code",
   "execution_count": 21,
   "id": "adc7f100-cd9f-45e6-8117-66f65f74c1e9",
   "metadata": {},
   "outputs": [],
   "source": [
    "room_headers = [v for k,v in parsed_rom.items() if k.startswith(\"room_header\")]"
   ]
  },
  {
   "cell_type": "code",
   "execution_count": 82,
   "id": "9e00b157-03cd-403e-a652-0b2d41178e90",
   "metadata": {},
   "outputs": [],
   "source": [
    "def write_room_info(rooms):\n",
    "    all_rooms = {}\n",
    "    for room in rooms:\n",
    "        print(room.name)\n",
    "        header = parsed_rom[f\"room_header_{hex(room.mem_address)}\"]\n",
    "        room_json = mk_room_json(room, header)\n",
    "        #room_image = get_level_image(header)\n",
    "        with open(f\"../output/room_info/{room.name}.json\", \"w\") as f:\n",
    "            json.dump(room_json, f)\n",
    "        all_rooms[room.name] = room_json\n",
    "        #room_image.save(f\"../output/room_info/{room.name}.png\")\n",
    "    with open(\"../output/room_info/all_rooms.json\", \"w\") as f:\n",
    "        json.dump(all_rooms, f)"
   ]
  },
  {
   "cell_type": "code",
   "execution_count": 55,
   "id": "168c8509-4439-4f6c-b5ec-514256f721f4",
   "metadata": {},
   "outputs": [],
   "source": [
    "r = rooms[\"Landing_Site\"]"
   ]
  },
  {
   "cell_type": "code",
   "execution_count": 65,
   "id": "8aac87df-86f8-4c92-a1ad-778c604da447",
   "metadata": {},
   "outputs": [],
   "source": [
    "#TODO: what's up with Kraid??\n",
    "exceptions = [\"Kraid\"]\n",
    "rtp = [r for k,r in rooms.items() if k not in exceptions]"
   ]
  },
  {
   "cell_type": "code",
   "execution_count": 83,
   "id": "7761a589-e9ec-4ec0-b971-9db7ce4be1ac",
   "metadata": {},
   "outputs": [
    {
     "name": "stdout",
     "output_type": "stream",
     "text": [
      "Landing_Site\n",
      "Gauntlet_Entrance\n",
      "Parlor\n",
      "Crateria_Power_Bombs\n",
      "Parlor_Save_Room\n",
      "West_Ocean\n",
      "Bowling_Path\n",
      "Crateria_Kihunters\n",
      "Crateria_Maridia_Shaft\n",
      "East_Ocean\n",
      "Forgotten_Highway\n",
      "Crab_Maze\n",
      "Crateria_Power_Door\n",
      "Crateria_Tube\n",
      "Moat\n",
      "Caterpillar_Elevator\n",
      "Gauntlet\n",
      "Ocean_Ship_Trans\n",
      "Climb_Room\n",
      "Old_Mother_Brain\n",
      "Blue_Brinstar_Elevator\n",
      "Bomb_Torizo\n",
      "BT_Flyway\n",
      "Map_Flyway\n",
      "Terminator_Room\n",
      "Brinstar_Elevator\n",
      "Kago_Room\n",
      "Crateria_Map\n",
      "Green_Pirates_Shaft\n",
      "Crateria_Supers\n",
      "Final_Missile_Bombway\n",
      "Final_Missile\n",
      "Brinstar_Entrance\n",
      "Spore_Spawn_Supers\n",
      "Brinstar_Map_Entrance\n",
      "Early_Supers\n",
      "Brinstar_Reserve\n",
      "Brinstar_Map\n",
      "Brinstar_Firefleas\n",
      "Brinstar_Missile_Refill\n",
      "Dachora_Room\n",
      "Big_Pink\n",
      "PreSpore_Kihunters\n",
      "Spore_Spawn\n",
      "Pink_Power_Bombs\n",
      "Green_Hill_Zone\n",
      "Morph_Ball_Room\n",
      "Construction_Zone\n",
      "Blue_Brinstar_Energy\n",
      "Noob_Bridge\n",
      "Green_Brinstar_Beetoms\n",
      "Green_Brinstar_Energy\n",
      "Etecoon_Supers\n",
      "Brinstar_Refill\n",
      "Spore_Spawn_Farm\n",
      "Waterway_Energy\n",
      "First_Missile\n",
      "Pink_Hoppers\n",
      "Hopper_Energy\n",
      "Pink_Save\n",
      "Blue_Brinstar_Boulders\n",
      "Billy_Mays\n",
      "Green_Entrance_Save\n",
      "Green_Beetom_Save\n",
      "Red_Tower\n",
      "Red_Brinstar_Firefleas\n",
      "XRay\n",
      "Hellway\n",
      "Caterpillar_Room\n",
      "Beta_Power_Bombs\n",
      "Alpha_Power_Bombs\n",
      "Bat_Room\n",
      "Spazer_Troll\n",
      "Spazer\n",
      "Warehouse_Zeelas\n",
      "Warehouse_Energy\n",
      "Warehouse_Kihunters\n",
      "Baby_Kraid\n",
      "Kraid_Eye_Door\n",
      "Statue_Corridor\n",
      "Red_Tower_Refill\n",
      "Kraid_Refill\n",
      "Statues\n",
      "Warehouse_Entrance\n",
      "Varia_Suit\n",
      "Kraid_Save\n",
      "Caterpillar_Save\n",
      "Ice_Beam_Acid\n",
      "Cathedral\n",
      "Cathedral_Entrance\n",
      "Business_Center\n",
      "Ice_Beam_Gate\n",
      "Ice_Beam_Tutorial\n",
      "Ice_Beam\n",
      "Ice_Beam_Snakes\n",
      "Crumble_Shaft\n",
      "Crocomire_Speedway\n",
      "Crocomire\n",
      "Hi_Jump\n",
      "Crocomire_Escape\n",
      "Hi_Jump_Energy\n",
      "Crocomire_Farm\n",
      "PostCroc_Save\n",
      "PostCroc_Power_Bombs\n",
      "PostCroc_Shaft\n",
      "Cosine_Room\n",
      "Grapple_Hardest\n",
      "Grapple_Yump\n",
      "Grapple_Harder\n",
      "Grapple_Hard\n",
      "Grapple\n",
      "Bubble_Reserve\n",
      "Bubble_Missiles\n",
      "Bubble_Mountain\n",
      "Go_Fast\n",
      "Speed_Booster\n",
      "Single_Chamber\n",
      "Double_Chamber\n",
      "Wave_Beam\n",
      "Spiky_Platforms\n",
      "Volcano_Room\n",
      "Kronic_Boost\n",
      "Magdollite_Tunnel\n",
      "Purple_Shaft\n",
      "Lava_Dive\n",
      "Lower_Elevator\n",
      "Upper_Norfair_Farm\n",
      "Rising_Tide\n",
      "Acid_Snakes\n",
      "Spiky_Acid_Snakes\n",
      "Croc_Recharge\n",
      "Purple_Farm\n",
      "Bat_Cave\n",
      "Norfair_Map\n",
      "Bubble_Save\n",
      "Frog_Speedway\n",
      "Red_Pirates_Shaft\n",
      "Business_Save\n",
      "Crocomire_Save\n",
      "Lower_Elevator_Save\n",
      "Water_Closet\n",
      "Main_Hall\n",
      "Golden_Torizo\n",
      "Fast_Rippers\n",
      "Golden_Recharge\n",
      "Ridley\n",
      "Lower_Norfair_Farm\n",
      "Fast_Pillars_Setup\n",
      "Mickey_Mouse\n",
      "Pillars\n",
      "Plowerhouse\n",
      "The_Worst_Room_in_the_Game\n",
      "Amphitheatre\n",
      "Hotarubi\n",
      "Escape_Power_Bombs\n",
      "Red_Kihunter_Shaft\n",
      "Wasteland\n",
      "Metal_Pirates\n",
      "Three_Musketeers\n",
      "Ridley_Energy\n",
      "Screw_Attack\n",
      "Lower_Firefleas\n",
      "Red_Kihunter_Save\n",
      "Bowling_Alley\n",
      "Wrecked_Ship_Entrance\n",
      "Attic\n",
      "Beep_Boop\n",
      "Wrecked_Ship_Main\n",
      "Spiky_Room_of_Death\n",
      "Electric_Room_of_Death\n",
      "Wrecked_Ship_Energy\n",
      "Basement\n",
      "Wrecked_Ship_Map\n",
      "Phantoon\n",
      "Sponge_Bath\n",
      "Wrecked_Ship_Supers\n",
      "Beep_Boop_Supers\n",
      "Gravity\n",
      "Wrecked_Save\n",
      "Glass_Tunnel_Save\n",
      "Glass_Tunnel\n",
      "West_Tunnel\n",
      "East_Tunnel\n",
      "Main_Street\n",
      "Fish_Tank\n",
      "Mama_Turtle\n",
      "Crab_Tunnel\n",
      "Mount_Everest\n",
      "McElligots_Pool\n",
      "Watering_Hole\n",
      "Bug_Room\n",
      "Crab_Shaft\n",
      "Pseudo_Plasma_Spark\n",
      "Crab_Hole\n",
      "Tiny_Crab\n",
      "Plasma_Tutorial\n",
      "Plasma\n",
      "Thread_The_Needle\n",
      "Maridia_Elevator\n",
      "Plasma_Spark\n",
      "Kassiuz\n",
      "Maridia_Map\n",
      "Maridia_First_Save\n",
      "Zip_Tube\n",
      "Grabber_Hole\n",
      "West_Sand_Hall\n",
      "Oasis\n",
      "East_Sand_Hall\n",
      "West_Sand_Hole\n",
      "East_Sand_Hole\n",
      "West_Sand_Pit\n",
      "East_Sand_Pit\n",
      "Aqueduct\n",
      "Butterfly_Room\n",
      "Botwoon_Hallway\n",
      "Pants\n",
      "Pants_Right\n",
      "Spring_Ball\n",
      "Botwoon_Energy_Farm\n",
      "Colosseum\n",
      "Aqueduct_Save\n",
      "The_Precious_Room\n",
      "Botwoon_Energy\n",
      "Draygon_Save\n",
      "Halfie_Refill\n",
      "Butterfly_Sand_Pit\n",
      "Botwoon_Energy_Pit\n",
      "Shaktool\n",
      "Halfie_Climb\n",
      "Botwoon\n",
      "Space_Jump\n",
      "Draygon_Recharge\n",
      "Cactus_Hallway\n",
      "Cactus_Alley\n",
      "Draygon\n",
      "Tourian_Elevator\n",
      "Metroid_1\n",
      "Metroid_2\n",
      "Metroid_3\n",
      "Metroid_4\n",
      "Blue_Hoppers\n",
      "RIP_Torizo\n",
      "Metroid_Skip\n",
      "Seaweed_Room\n",
      "Tourian_Refill\n",
      "Mother_Brain\n",
      "Tourian_Eye_Door\n",
      "Rinka_Shaft\n",
      "Mother_Brain_Save\n",
      "Escape_1\n",
      "Escape_2\n",
      "Escape_3\n",
      "Escape_4\n",
      "Tourian_Save\n"
     ]
    }
   ],
   "source": [
    "write_room_info(rtp)"
   ]
  },
  {
   "cell_type": "code",
   "execution_count": 67,
   "id": "fe2f4daf-d707-4d00-8385-9ffbb71fe55b",
   "metadata": {},
   "outputs": [],
   "source": [
    "from abstraction_validation.abstractify import area_offsets"
   ]
  },
  {
   "cell_type": "code",
   "execution_count": 68,
   "id": "7fa77e79-4a7c-4d75-ba06-1ecfe1424317",
   "metadata": {},
   "outputs": [
    {
     "data": {
      "text/plain": [
       "{0: c(3,10),\n",
       " 1: c(0,29),\n",
       " 2: c(31,49),\n",
       " 3: c(37,0),\n",
       " 4: c(28,29),\n",
       " 5: c(0,10),\n",
       " 6: c(0,-10),\n",
       " 7: c(0,0)}"
      ]
     },
     "execution_count": 68,
     "metadata": {},
     "output_type": "execute_result"
    }
   ],
   "source": [
    "area_offsets"
   ]
  },
  {
   "cell_type": "code",
   "execution_count": 72,
   "id": "33ee4c33-ee96-4e5b-8e6e-16b678078293",
   "metadata": {},
   "outputs": [],
   "source": [
    "lxs = []\n",
    "lys = []\n",
    "rxs = []\n",
    "rys = []\n",
    "for room in rooms.values():\n",
    "    header = parsed_rom[f\"room_header_{hex(room.mem_address)}\"]\n",
    "    offx, offy = area_offsets[header.area_index]\n",
    "    lxs.append(offx + header.map_x)\n",
    "    lys.append(offy + header.map_y)\n",
    "    rxs.append(offx + header.map_x + header.width)\n",
    "    rys.append(offy + header.map_y + header.height)"
   ]
  },
  {
   "cell_type": "code",
   "execution_count": 73,
   "id": "2de01696-17e8-475e-8ec0-d3c9889a8516",
   "metadata": {},
   "outputs": [
    {
     "name": "stdout",
     "output_type": "stream",
     "text": [
      "5 71\n",
      "10 66\n"
     ]
    }
   ],
   "source": [
    "print(min(lxs), max(rxs))\n",
    "print(min(lys), max(lys))"
   ]
  },
  {
   "cell_type": "code",
   "execution_count": 76,
   "id": "a0e19273-6423-4f24-9f41-b19c07a9ed79",
   "metadata": {},
   "outputs": [
    {
     "data": {
      "text/plain": [
       "'16896 pixels wide'"
      ]
     },
     "execution_count": 76,
     "metadata": {},
     "output_type": "execute_result"
    }
   ],
   "source": [
    "# 16 pixels per tile * 16 tiles per maptile * 72 maptiles = \n",
    "f\"{16 * 16 * 72} pixels wide\"\n",
    "f\"{16 * 16 * 66} pixels wide\""
   ]
  },
  {
   "cell_type": "code",
   "execution_count": null,
   "id": "adad0d88-9770-45d7-acba-4fba14681e1d",
   "metadata": {},
   "outputs": [],
   "source": [
    "# +y ^  +y v\n",
    "# +x >  +x >\n",
    "maxy - y"
   ]
  },
  {
   "cell_type": "code",
   "execution_count": null,
   "id": "1bc5e201-1ce0-4c42-8a29-a884a1376ccf",
   "metadata": {},
   "outputs": [],
   "source": [
    "# const ls_info = await fetch(\"/room_info/Landing_Site\").then(res => res.json())"
   ]
  },
  {
   "cell_type": "code",
   "execution_count": null,
   "id": "ba504e2b-5d72-4684-a84e-1ef9fd4b0b31",
   "metadata": {},
   "outputs": [],
   "source": [
    "#TODO: reupload images with alpha\n",
    "#TODO: how to handle overlapping rooms?"
   ]
  },
  {
   "cell_type": "code",
   "execution_count": 97,
   "id": "9bdc4d65-3e86-4dc0-9cd8-618db063d1ca",
   "metadata": {},
   "outputs": [
    {
     "data": {
      "text/plain": [
       "256"
      ]
     },
     "execution_count": 97,
     "metadata": {},
     "output_type": "execute_result"
    }
   ],
   "source": [
    "9216 - 8960"
   ]
  },
  {
   "cell_type": "code",
   "execution_count": 96,
   "id": "9e5cb3d6-a27b-4c46-b6d9-5f2a8ca5009a",
   "metadata": {},
   "outputs": [
    {
     "data": {
      "text/plain": [
       "2.5600000000000023"
      ]
     },
     "execution_count": 96,
     "metadata": {},
     "output_type": "execute_result"
    }
   ],
   "source": [
    "140.8 - 138.24"
   ]
  },
  {
   "cell_type": "code",
   "execution_count": null,
   "id": "d30a455d-638d-47fa-94da-d3bded164c19",
   "metadata": {},
   "outputs": [],
   "source": []
  }
 ],
 "metadata": {
  "kernelspec": {
   "display_name": "Python 3 (ipykernel)",
   "language": "python",
   "name": "python3"
  },
  "language_info": {
   "codemirror_mode": {
    "name": "ipython",
    "version": 3
   },
   "file_extension": ".py",
   "mimetype": "text/x-python",
   "name": "python",
   "nbconvert_exporter": "python",
   "pygments_lexer": "ipython3",
   "version": "3.10.12"
  }
 },
 "nbformat": 4,
 "nbformat_minor": 5
}

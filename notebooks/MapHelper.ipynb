{
 "cells": [
  {
   "cell_type": "code",
   "execution_count": 1,
   "id": "84cc0f85-6494-47d9-88fb-02954bf81b27",
   "metadata": {},
   "outputs": [
    {
     "name": "stdout",
     "output_type": "stream",
     "text": [
      "%pylab is deprecated, use %matplotlib inline and import the required libraries.\n",
      "Populating the interactive namespace from numpy and matplotlib\n"
     ]
    }
   ],
   "source": [
    "%load_ext autoreload\n",
    "%autoreload 2\n",
    "%pylab inline"
   ]
  },
  {
   "cell_type": "code",
   "execution_count": 2,
   "id": "7a20715b-e254-4b95-997f-5bd8d72dc621",
   "metadata": {},
   "outputs": [],
   "source": [
    "import sys\n",
    "sys.path.append(\"..\")"
   ]
  },
  {
   "cell_type": "code",
   "execution_count": 64,
   "id": "b2c29cc8-980f-4643-b25f-1b1076dacffa",
   "metadata": {},
   "outputs": [],
   "source": [
    "import time\n",
    "import json\n",
    "import numpy as np"
   ]
  },
  {
   "cell_type": "code",
   "execution_count": 62,
   "id": "7996cbad-a9e9-4036-b8de-d16463537735",
   "metadata": {},
   "outputs": [],
   "source": [
    "from bdds.node_bdds import MapsInfo\n",
    "from rom_tools.rom_manager import RomManager\n",
    "from abstraction_validation.abstractify import abstractify_pos_global\n",
    "from world_rando.coord import Coord"
   ]
  },
  {
   "cell_type": "code",
   "execution_count": 38,
   "id": "cc794e00-60a4-444e-a934-fea1ac6cdaa8",
   "metadata": {},
   "outputs": [],
   "source": [
    "rom = RomManager(\"../../roms/sm_clean.sfc\", \"sm_junk2.smc\")"
   ]
  },
  {
   "cell_type": "code",
   "execution_count": 39,
   "id": "7319f229-0c06-48fc-8c40-6956fc0eb128",
   "metadata": {},
   "outputs": [
    {
     "name": "stdout",
     "output_type": "stream",
     "text": [
      "Landing_Site 0x791f8\n",
      "\t Extra: []\n",
      "\t Missing: ['Landing_Site_Ship']\n",
      "West_Ocean 0x793fe\n",
      "\t Extra: ['West_Ocean_R4', 'West_Ocean_L']\n",
      "\t Missing: ['West_Ocean_L2', 'West_Ocean_R6']\n",
      "Bomb_Torizo 0x79804\n",
      "\t Extra: ['Bomb_Torizo_B']\n",
      "\t Missing: ['Bomb_Torizo_Bombs']\n",
      "Spore_Spawn 0x79dc7\n",
      "\t Extra: []\n",
      "\t Missing: ['Spore_Spawn_Spore_Spawn']\n",
      "Kraid 0x7a59f\n",
      "\t Extra: []\n",
      "\t Missing: ['Kraid_Kraid']\n",
      "Statues 0x7a66a\n",
      "\t Extra: []\n",
      "\t Missing: ['Statues_Statues']\n",
      "Crocomire 0x7a98d\n",
      "\t Extra: []\n",
      "\t Missing: ['Crocomire_Crocomire']\n",
      "Water_Closet 0x7b1e5\n",
      "\t Extra: []\n",
      "\t Missing: ['Water_Closet_Drain']\n",
      "Golden_Torizo 0x7b283\n",
      "\t Extra: []\n",
      "\t Missing: ['Golden_Torizo_Golden_Torizo']\n",
      "Ridley 0x7b32e\n",
      "\t Extra: []\n",
      "\t Missing: ['Ridley_Ridley']\n",
      "Phantoon 0x7cd13\n",
      "\t Extra: []\n",
      "\t Missing: ['Phantoon_Phantoon']\n",
      "West_Sand_Hall 0x7d461\n",
      "\t Extra: []\n",
      "\t Missing: ['West_Sand_Hall_TS']\n",
      "East_Sand_Hall 0x7d4c2\n",
      "\t Extra: []\n",
      "\t Missing: ['East_Sand_Hall_TS']\n",
      "West_Sand_Hole 0x7d4ef\n",
      "\t Extra: []\n",
      "\t Missing: ['West_Sand_Hole_TS']\n",
      "East_Sand_Hole 0x7d51e\n",
      "\t Extra: []\n",
      "\t Missing: ['East_Sand_Hole_TS']\n",
      "West_Sand_Pit 0x7d54d\n",
      "\t Extra: []\n",
      "\t Missing: ['West_Sand_Pit_TS']\n",
      "East_Sand_Pit 0x7d57a\n",
      "\t Extra: []\n",
      "\t Missing: ['East_Sand_Pit_TS']\n",
      "Butterfly_Room 0x7d5ec\n",
      "\t Extra: []\n",
      "\t Missing: ['Butterfly_Room_TS']\n",
      "Botwoon_Energy_Farm 0x7d6fd\n",
      "\t Extra: []\n",
      "\t Missing: ['Botwoon_Energy_Farm_TS1', 'Botwoon_Energy_Farm_TS2']\n",
      "Butterfly_Sand_Pit 0x7d86e\n",
      "\t Extra: []\n",
      "\t Missing: ['Butterfly_Sand_Pit_TS']\n",
      "Botwoon_Energy_Pit 0x7d898\n",
      "\t Extra: []\n",
      "\t Missing: ['Botwoon_Energy_Pit_TS2', 'Botwoon_Energy_Pit_TS1']\n",
      "Shaktool 0x7d8c5\n",
      "\t Extra: []\n",
      "\t Missing: ['Shaktool_Shaktool']\n",
      "Botwoon 0x7d95e\n",
      "\t Extra: []\n",
      "\t Missing: ['Botwoon_Botwoon']\n",
      "Draygon 0x7da60\n",
      "\t Extra: []\n",
      "\t Missing: ['Draygon_Draygon']\n",
      "Mother_Brain 0x7dd58\n",
      "\t Extra: []\n",
      "\t Missing: ['Mother_Brain_L', 'Mother_Brain_Mother_Brain']\n"
     ]
    }
   ],
   "source": [
    "map_info = MapsInfo(\"../encoding/dsl/rooms_for_alloy.txt\", \\\n",
    "                   \"../encoding/dsl/exits_for_alloy.txt\",\n",
    "                   \"../output/ram_snes9x.bin\",\n",
    "                   rom)"
   ]
  },
  {
   "cell_type": "code",
   "execution_count": 49,
   "id": "a5f839a9-f8a6-4586-ad3c-3c8bee7363fc",
   "metadata": {},
   "outputs": [],
   "source": [
    "posd = {\n",
    "    \"X\": None,\n",
    "    \"Y\": None\n",
    "}"
   ]
  },
  {
   "cell_type": "code",
   "execution_count": 63,
   "id": "10e0ca7d-678d-432f-92da-db0d2e09e453",
   "metadata": {},
   "outputs": [],
   "source": [
    "# The map on the website from bin0al uses a slightly different coordinate system\n",
    "map_area_offsets = {\n",
    "0: Coord(3, 10),\n",
    "1: Coord(0, 28),\n",
    "2: Coord(31, 48),\n",
    "3: Coord(37, 0),\n",
    "4: Coord(28, 28),\n",
    "5: Coord(0, 10),\n",
    "#Out of bounds\n",
    "6: Coord(0, -10),\n",
    "7: Coord(0, 0),\n",
    "}"
   ]
  },
  {
   "cell_type": "code",
   "execution_count": 65,
   "id": "7864d733-2486-4801-86fa-bad5cec16be1",
   "metadata": {},
   "outputs": [],
   "source": [
    "def get_onmap_pos():\n",
    "    ram_data = np.fromfile(\"../output/ram_snes9x.bin\", dtype=\"int16\")\n",
    "    return abstractify_pos_global(ram_data, map_area_offsets)"
   ]
  },
  {
   "cell_type": "code",
   "execution_count": 68,
   "id": "91252089-8668-410c-8b58-a2a5c49ac848",
   "metadata": {},
   "outputs": [],
   "source": [
    "from data_types.constraintgraph import Item, Boss"
   ]
  },
  {
   "cell_type": "code",
   "execution_count": 74,
   "id": "900ed221-7eab-47f1-bb06-b64033be3c3b",
   "metadata": {},
   "outputs": [],
   "source": [
    "item_nodes = set([])\n",
    "for r, room in map_info.rooms.items():\n",
    "    for node in room.graph.name_node.keys():\n",
    "        n = room.graph.name_node[node].data\n",
    "        if isinstance(n, Item) or isinstance(n, Boss):\n",
    "            item_nodes.add(node)"
   ]
  },
  {
   "cell_type": "code",
   "execution_count": 75,
   "id": "3b5662df-d198-47f3-ad74-bd4c3c65c867",
   "metadata": {},
   "outputs": [],
   "source": [
    "from itertools import pairwise"
   ]
  },
  {
   "cell_type": "code",
   "execution_count": 4,
   "id": "09313e37-63f2-4298-96f0-765557c7a1e2",
   "metadata": {},
   "outputs": [],
   "source": [
    "# Yellow: current segment\n",
    "# Green: segment up to the next item\n",
    "# Grey: rest of the lines\n",
    "def generate_lines(state_estimate, policy):\n",
    "    path = map_info.get_path_advice(state_estimate, policy)\n",
    "    if path is None or len(path) == 0:\n",
    "        return None\n",
    "    else:\n",
    "        # Filter down to nodes that we know the location of\n",
    "        #TODO: this has issues if there's an item node with an unknown location (e.g. a boss)\n",
    "        path_locs = [(p, map_info.all_posns[p]) for p in path if p in map_info.all_posns]\n",
    "        out = {\n",
    "            \"next_step\": [],\n",
    "            \"next_item\": [],\n",
    "            \"remaining_path\": [],\n",
    "        }\n",
    "        current = state_estimate[0]\n",
    "        posns = []\n",
    "        if current in map_info.all_posns:\n",
    "            path_locs.insert((current, map_info.all_posns[current]), 0)\n",
    "        which = \"next_step\"\n",
    "        for ((node_a, loc_a), (node_b, loc_b)) in pairwise(path_locs):\n",
    "            out[which].append((loc_a, loc_b))\n",
    "            if which == next_step:\n",
    "                which = \"next_item\"\n",
    "            if which == next_item and node_b in item_nodes:\n",
    "                which = \"remaining_path\"\n",
    "        return out"
   ]
  },
  {
   "cell_type": "code",
   "execution_count": 5,
   "id": "6994b8b3-f23f-4e8d-ba49-7d43c9c0afce",
   "metadata": {},
   "outputs": [
    {
     "ename": "NameError",
     "evalue": "name 'get_onmap_pos' is not defined",
     "output_type": "error",
     "traceback": [
      "\u001b[0;31m---------------------------------------------------------------------------\u001b[0m",
      "\u001b[0;31mNameError\u001b[0m                                 Traceback (most recent call last)",
      "Cell \u001b[0;32mIn[5], line 3\u001b[0m\n\u001b[1;32m      1\u001b[0m \u001b[38;5;28;01mwhile\u001b[39;00m \u001b[38;5;28;01mTrue\u001b[39;00m:\n\u001b[1;32m      2\u001b[0m     \u001b[38;5;66;03m#pos = map_info.read_state().position\u001b[39;00m\n\u001b[0;32m----> 3\u001b[0m     pos \u001b[38;5;241m=\u001b[39m \u001b[43mget_onmap_pos\u001b[49m()\n\u001b[1;32m      4\u001b[0m     posd[\u001b[38;5;124m\"\u001b[39m\u001b[38;5;124mX\u001b[39m\u001b[38;5;124m\"\u001b[39m] \u001b[38;5;241m=\u001b[39m \u001b[38;5;28mint\u001b[39m(pos\u001b[38;5;241m.\u001b[39mx)\n\u001b[1;32m      5\u001b[0m     posd[\u001b[38;5;124m\"\u001b[39m\u001b[38;5;124mY\u001b[39m\u001b[38;5;124m\"\u001b[39m] \u001b[38;5;241m=\u001b[39m \u001b[38;5;28mint\u001b[39m(pos\u001b[38;5;241m.\u001b[39my)\n",
      "\u001b[0;31mNameError\u001b[0m: name 'get_onmap_pos' is not defined"
     ]
    }
   ],
   "source": [
    "while True:\n",
    "    #pos = map_info.read_state().position\n",
    "    pos = get_onmap_pos()\n",
    "    posd[\"X\"] = int(pos.x)\n",
    "    posd[\"Y\"] = int(pos.y)\n",
    "    dstr = json.dumps(posd)\n",
    "    with open(\"player_pos.json\", \"w\") as f:\n",
    "        f.write(dstr)\n",
    "    time.sleep(0.1)"
   ]
  },
  {
   "cell_type": "code",
   "execution_count": 66,
   "id": "5d00f891-d040-4388-80b9-244b2b7f69cf",
   "metadata": {},
   "outputs": [
    {
     "name": "stdout",
     "output_type": "stream",
     "text": [
      "{'X': 468, 'Y': 629}\n",
      "c(468,613)\n"
     ]
    }
   ],
   "source": [
    "print(posd)\n",
    "print(get_onmap_pos())"
   ]
  },
  {
   "cell_type": "code",
   "execution_count": null,
   "id": "5369b6a5-70a8-4e2e-a125-ba71858867d4",
   "metadata": {},
   "outputs": [],
   "source": []
  }
 ],
 "metadata": {
  "kernelspec": {
   "display_name": "Python 3 (ipykernel)",
   "language": "python",
   "name": "python3"
  },
  "language_info": {
   "codemirror_mode": {
    "name": "ipython",
    "version": 3
   },
   "file_extension": ".py",
   "mimetype": "text/x-python",
   "name": "python",
   "nbconvert_exporter": "python",
   "pygments_lexer": "ipython3",
   "version": "3.10.12"
  }
 },
 "nbformat": 4,
 "nbformat_minor": 5
}

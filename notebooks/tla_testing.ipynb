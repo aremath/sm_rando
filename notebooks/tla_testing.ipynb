{
 "cells": [
  {
   "cell_type": "code",
   "execution_count": 1,
   "id": "322a12e7-4579-48fc-99ac-b3c5c76da33a",
   "metadata": {},
   "outputs": [
    {
     "name": "stdout",
     "output_type": "stream",
     "text": [
      "Populating the interactive namespace from numpy and matplotlib\n"
     ]
    }
   ],
   "source": [
    "%load_ext autoreload\n",
    "%autoreload 2\n",
    "%pylab inline"
   ]
  },
  {
   "cell_type": "code",
   "execution_count": 2,
   "id": "b50302c6-0be8-4a00-ad94-2a4cbf14f4dd",
   "metadata": {},
   "outputs": [],
   "source": [
    "import sys\n",
    "sys.path.append(\"..\")"
   ]
  },
  {
   "cell_type": "code",
   "execution_count": 3,
   "id": "00649450-272f-41ed-b632-5a14fea194b8",
   "metadata": {},
   "outputs": [],
   "source": [
    "from rom_tools.rom_manager import RomManager\n",
    "from world_rando.parse_rules import parse_rules, make_level_from_room\n",
    "from world_rando.coord import Coord"
   ]
  },
  {
   "cell_type": "code",
   "execution_count": 4,
   "id": "4e22e534-7382-49e9-beca-1637ca237f10",
   "metadata": {},
   "outputs": [],
   "source": [
    "from data_types.item_set import ItemSet"
   ]
  },
  {
   "cell_type": "code",
   "execution_count": 5,
   "id": "b0f41dd9-4915-4d33-b217-745649174782",
   "metadata": {},
   "outputs": [],
   "source": [
    "manager = RomManager(\"../../roms/sm_clean.smc\", \"../../roms/sm_junk.smc\")\n",
    "obj_names = manager.parse() # slow\n",
    "header = obj_names[\"room_header_0x79e9f\"]\n",
    "level = make_level_from_room(header)"
   ]
  },
  {
   "cell_type": "code",
   "execution_count": 6,
   "id": "bedf4960-8b52-4e62-954a-b9c1bbb92db7",
   "metadata": {},
   "outputs": [
    {
     "data": {
      "image/png": "[encoded data removed]",
      "text/plain": [
       "<Figure size 720x720 with 1 Axes>"
      ]
     },
     "metadata": {
      "needs_background": "light"
     },
     "output_type": "display_data"
    }
   ],
   "source": [
    "figure(figsize=(10,10));\n",
    "scatter(51,40)\n",
    "scatter(50,41)\n",
    "imshow(level.level.T);"
   ]
  },
  {
   "cell_type": "code",
   "execution_count": 7,
   "id": "3485e3f5-60ec-47ea-95a8-512519b19bce",
   "metadata": {},
   "outputs": [],
   "source": [
    "rules, tests = parse_rules([\"../encoding/rules/rules.yaml\"])\n",
    "start_state = tests['TestWalk'][0]\n",
    "start_state.level = level\n",
    "start_state.level.liquid_level = 256\n",
    "start_state.samus.position = Coord(50,41)"
   ]
  },
  {
   "cell_type": "code",
   "execution_count": 8,
   "id": "99051a9f-cbf1-4d7d-81b1-e1a331e2a31b",
   "metadata": {},
   "outputs": [
    {
     "data": {
      "text/plain": [
       "(c(50,41)|V: 0, H: RUN, 0|STAND|ISet([]))"
      ]
     },
     "execution_count": 8,
     "metadata": {},
     "output_type": "execute_result"
    }
   ],
   "source": [
    "start_state.samus"
   ]
  },
  {
   "cell_type": "code",
   "execution_count": 9,
   "id": "e1114a20-a2ec-40a7-84dc-301e680bbe1e",
   "metadata": {},
   "outputs": [
    {
     "name": "stdout",
     "output_type": "stream",
     "text": [
      "Applying Rule: Step\n",
      "(c(50,41)|V: 0, H: RUN, 0|STAND|ISet([]))\n",
      "Collided\n",
      "(c(50,41)|V: 0, H: RUN, 0|STAND|ISet([]))\n",
      "New:\n",
      "(c(50,41)|V: 0, H: RUN, 0|STAND|ISet([]))\n"
     ]
    }
   ],
   "source": [
    "next_state = rules[\"Step\"].apply(start_state, debug=True)[0]"
   ]
  },
  {
   "cell_type": "code",
   "execution_count": 10,
   "id": "68fb3c5e-c4a8-435f-920f-b6d4beb531bd",
   "metadata": {},
   "outputs": [],
   "source": [
    "#TODO: get SearchState.copy() working\n",
    "_, tests2 = parse_rules([\"../encoding/rules/rules.yaml\"])\n",
    "start_state2 = tests2['TestWalk'][0]\n",
    "start_state2.level = level\n",
    "start_state2.level.liquid_level = 256\n",
    "start_state2.samus.position = Coord(50,41)\n",
    "start_state2.samus.items = start_state.samus.items | ItemSet([\"MB\", \"PB\"])"
   ]
  },
  {
   "cell_type": "code",
   "execution_count": 11,
   "id": "25ee4c98-5ff9-4db5-835a-6b160231c91d",
   "metadata": {},
   "outputs": [
    {
     "name": "stdout",
     "output_type": "stream",
     "text": [
      "Applying Rule: Step\n",
      "(c(50,41)|V: 0, H: RUN, 0|STAND|ISet(['PB', 'MB']))\n",
      "New:\n",
      "(c(51,41)|V: 0, H: RUN, 0|STAND|ISet(['PB', 'MB']))\n"
     ]
    }
   ],
   "source": [
    "next_state2 = rules[\"Step\"].apply(start_state2, debug=True)[0]"
   ]
  },
  {
   "cell_type": "code",
   "execution_count": 12,
   "id": "76641039-a3ee-45b7-8d29-c25a85fa29c9",
   "metadata": {},
   "outputs": [
    {
     "data": {
      "text/plain": [
       "world_rando.rules.Velocity"
      ]
     },
     "execution_count": 12,
     "metadata": {},
     "output_type": "execute_result"
    }
   ],
   "source": [
    "type(next_state.samus.velocity)"
   ]
  },
  {
   "cell_type": "code",
   "execution_count": 13,
   "id": "4bfe383e-1cef-4378-9cde-0d6791aa59e1",
   "metadata": {},
   "outputs": [],
   "source": [
    "vf = rules[\"Step\"].state_function.vfunction"
   ]
  },
  {
   "cell_type": "code",
   "execution_count": 14,
   "id": "3a5de9df-c9cf-4fa9-bd1d-19c28df7e937",
   "metadata": {},
   "outputs": [
    {
     "data": {
      "text/plain": [
       "VClauses(domain='((vv_prev >= 0 & vv_prev <= 0 & vh_prev >= 0 & vh_prev <= 0 & (vt_prev = 1)))', vv='vv_next = 0 + 0', vh='vh_next = 0 + 0', vt='vt_next = 1')"
      ]
     },
     "execution_count": 14,
     "metadata": {},
     "output_type": "execute_result"
    }
   ],
   "source": [
    "vf.as_tla()"
   ]
  },
  {
   "cell_type": "code",
   "execution_count": 15,
   "id": "bd298f41-f4f8-4097-a5a8-73932f921ce3",
   "metadata": {},
   "outputs": [
    {
     "data": {
      "text/plain": [
       "'(vv_prev >= 0 & vv_prev <= 0 & vh_prev >= 0 & vh_prev <= 0 & (vt_prev = 1))'"
      ]
     },
     "execution_count": 15,
     "metadata": {},
     "output_type": "execute_result"
    }
   ],
   "source": [
    "vf.domain.as_tla()"
   ]
  },
  {
   "cell_type": "code",
   "execution_count": 16,
   "id": "2f0a5616-3e0d-4d1a-a80e-ac0fbed03061",
   "metadata": {},
   "outputs": [],
   "source": [
    "step = rules[\"Step\"]"
   ]
  },
  {
   "cell_type": "code",
   "execution_count": 17,
   "id": "7235b2ab-8543-4c74-9fd5-c8351d6a9a51",
   "metadata": {},
   "outputs": [
    {
     "data": {
      "text/plain": [
       "SFClauses(pos_prev='(x_prev = 50 & y_prev = 41)', pos_next='(x_next = 51 & y_next = 41)', pose_prev='pose_prev = 0', pose_next='pose_next = 0', item='(B_prev = B_next & PB_prev = PB_next & SPB_prev = SPB_next & S_prev = S_next & M_prev = M_next & G_prev = G_next & SA_prev = SA_next & V_prev = V_next & GS_prev = GS_next & SB_prev = SB_next & HJ_prev = HJ_next & MB_prev = MB_next & CB_prev = CB_next & WB_prev = WB_next & E_prev = E_next & PLB_prev = PLB_next & Spazer_prev = Spazer_next & RT_prev = RT_next & XR_prev = XR_next & IB_prev = IB_next & SJ_prev = SJ_next & Kraid_prev = Kraid_next & Phantoon_prev = Phantoon_next & Draygon_prev = Draygon_next & Ridley_prev = Ridley_next & Botwoon_prev = Botwoon_next & Spore_Spawn_prev = Spore_Spawn_next & Golden_Torizo_prev = Golden_Torizo_next & Bomb_Torizo_prev = Bomb_Torizo_next & Mother_Brain_prev = Mother_Brain_next & Crocomire_prev = Crocomire_next & Ceres_Ridley_prev = Ceres_Ridley_next & Drain_prev = Drain_next & Shaktool_prev = Shaktool_next & START_prev = START_next & Statues_prev = Statues_next)', vel=VClauses(domain='((vv_prev >= 0 & vv_prev <= 0 & vh_prev >= 0 & vh_prev <= 0 & (vt_prev = 1)))', vv='vv_next = 0 + 0', vh='vh_next = 0 + 0', vt='vt_next = 1'))"
      ]
     },
     "execution_count": 17,
     "metadata": {},
     "output_type": "execute_result"
    }
   ],
   "source": [
    "step.state_function.as_tla(start_state.samus.position, level.items)"
   ]
  },
  {
   "cell_type": "code",
   "execution_count": 18,
   "id": "6a4a8c67-a131-4427-a978-6f4b34445d3a",
   "metadata": {},
   "outputs": [
    {
     "data": {
      "text/plain": [
       "60066000"
      ]
     },
     "execution_count": 18,
     "metadata": {},
     "output_type": "execute_result"
    }
   ],
   "source": [
    "213 * 6000 * len(rules)"
   ]
  },
  {
   "cell_type": "code",
   "execution_count": 19,
   "id": "91d3f0a8-f4c6-4f47-9b6f-0fa219e3d6c7",
   "metadata": {},
   "outputs": [],
   "source": [
    "from world_rando.rules import *"
   ]
  },
  {
   "cell_type": "code",
   "execution_count": 20,
   "id": "f330284f-e2aa-41ef-8e7d-5c056e8c7255",
   "metadata": {},
   "outputs": [
    {
     "data": {
      "text/plain": [
       "''"
      ]
     },
     "execution_count": 20,
     "metadata": {},
     "output_type": "execute_result"
    }
   ],
   "source": [
    "tla_tile_clause(level, Coord(0,0), Coord(0,0), AbstractTile.SOLID)"
   ]
  },
  {
   "cell_type": "code",
   "execution_count": 21,
   "id": "e0408b93-982b-424b-93ad-d950dfbe2ae7",
   "metadata": {},
   "outputs": [
    {
     "data": {
      "text/plain": [
       "7"
      ]
     },
     "execution_count": 21,
     "metadata": {},
     "output_type": "execute_result"
    }
   ],
   "source": [
    "get_tile(level, Coord(0,0), Coord(51,41))"
   ]
  },
  {
   "cell_type": "code",
   "execution_count": 22,
   "id": "ace2688c-e9e1-4894-be12-d61f8e41d01e",
   "metadata": {},
   "outputs": [
    {
     "data": {
      "text/plain": [
       "'(PB_prev = 1 & MB_prev = 1)'"
      ]
     },
     "execution_count": 22,
     "metadata": {},
     "output_type": "execute_result"
    }
   ],
   "source": [
    "tla_tile_clause(level, Coord(0,0), Coord(51,41), AbstractTile.AIR)"
   ]
  },
  {
   "cell_type": "code",
   "execution_count": 23,
   "id": "8088f000-617e-488a-ae2b-5dc52fe9a372",
   "metadata": {},
   "outputs": [
    {
     "data": {
      "text/plain": [
       "{<AbstractTile.SOLID: 2>: [(<world_rando.rules.VelocitySet at 0x7fc8a78d34c0>,\n",
       "   ISet([]),\n",
       "   {<SamusPose.STAND: 0>,\n",
       "    <SamusPose.MORPH: 1>,\n",
       "    <SamusPose.JUMP: 2>,\n",
       "    <SamusPose.SPIN: 3>})],\n",
       " <AbstractTile.BLOCK_CRUMBLE: 10>: 'Reciprocal',\n",
       " <AbstractTile.BLOCK_SHOT: 11>: [(<world_rando.rules.VelocitySet at 0x7fc8a78d34c0>,\n",
       "   ISet([]),\n",
       "   {<SamusPose.STAND: 0>,\n",
       "    <SamusPose.MORPH: 1>,\n",
       "    <SamusPose.JUMP: 2>,\n",
       "    <SamusPose.SPIN: 3>})]}"
      ]
     },
     "execution_count": 23,
     "metadata": {},
     "output_type": "execute_result"
    }
   ],
   "source": [
    "block_solid_requirements"
   ]
  },
  {
   "cell_type": "code",
   "execution_count": 24,
   "id": "8f23fbbf-7b07-49ac-a603-e6855f62fdde",
   "metadata": {},
   "outputs": [
    {
     "data": {
      "text/plain": [
       "''"
      ]
     },
     "execution_count": 24,
     "metadata": {},
     "output_type": "execute_result"
    }
   ],
   "source": [
    "p = Coord(50,41)\n",
    "o = Coord(0,0)\n",
    "samus_occupies_air_tla(p, SamusPose.STAND, o, level)"
   ]
  },
  {
   "cell_type": "code",
   "execution_count": 25,
   "id": "ce69a0f0-b43b-43d3-8dd0-6aa55ce07d23",
   "metadata": {},
   "outputs": [],
   "source": [
    "#step.as_tla(start_state.samus.position, level.items)"
   ]
  },
  {
   "cell_type": "code",
   "execution_count": 26,
   "id": "f343d1d0-d634-4bae-9d22-32dd1ba7272d",
   "metadata": {},
   "outputs": [
    {
     "data": {
      "text/plain": [
       "[<world_rando.rules.IntermediateState at 0x7fc88db5f7c0>,\n",
       " <world_rando.rules.IntermediateState at 0x7fc88db5f3d0>]"
      ]
     },
     "execution_count": 26,
     "metadata": {},
     "output_type": "execute_result"
    }
   ],
   "source": [
    "rules[\"Step\"].level_transition.state_list\n",
    "# IntermediateState\n",
    "#  pos: Coord\n",
    "#  walls: [coord]\n",
    "#  airs: [Coord]\n",
    "#  samusfunction: Option(Samusfunction)"
   ]
  },
  {
   "cell_type": "code",
   "execution_count": 27,
   "id": "d3e6571b-5aad-495f-965f-049548a2bf6a",
   "metadata": {},
   "outputs": [],
   "source": [
    "# conflict_ds: Direction -> Clause\n",
    "#   Clause describes necessary prior conditions\n",
    "# collide_outcomes -> [(Clause, Pos, Pose)]\n",
    "#   Clause describes necessary outcomes"
   ]
  },
  {
   "cell_type": "code",
   "execution_count": 28,
   "id": "fc950c4b-0c36-4063-8e10-bd74d2a3aa3d",
   "metadata": {},
   "outputs": [],
   "source": [
    "#item_c"
   ]
  },
  {
   "cell_type": "code",
   "execution_count": 29,
   "id": "dfc3ed06-5b7b-4691-a0e3-771dbeaa3668",
   "metadata": {},
   "outputs": [],
   "source": [
    "fall0 = rules[\"Fall0\"]\n",
    "fall1 = rules[\"Fall1\"]\n",
    "pp = Coord(100,41)"
   ]
  },
  {
   "cell_type": "code",
   "execution_count": 30,
   "id": "d6d2cc5a-1847-40bb-80ee-88c48f8b60d2",
   "metadata": {},
   "outputs": [
    {
     "name": "stdout",
     "output_type": "stream",
     "text": [
      "Iteration 0\n",
      "c(100,41)\n",
      "(x_next = 100 & y_next = 41)\n",
      "Walls: []\n",
      "Airs: [(c(1,0), [c(1,0), c(1,1), c(1,2)]), (c(0,1), [])]\n",
      "['', '']\n",
      "{}\n",
      "Iteration 1\n",
      "c(101,41)\n",
      "(x_next = 101 & y_next = 41)\n",
      "Walls: []\n",
      "Airs: [(c(1,0), []), (c(0,1), [])]\n",
      "['', '', '', '']\n",
      "{}\n",
      "Outcomes:\n",
      "Outcome 0: ((x_next = 101 & y_next = 41) & pose_next = 2 & ((vv_next = vv_prev + 1 | vv_prev = 1 & vv_next = 1) & vh_next = 0 + 0 & vt_next = 1))\n"
     ]
    }
   ],
   "source": [
    "fall0e = fall0.level_transition.as_tla(pp, level, debug=True)"
   ]
  },
  {
   "cell_type": "code",
   "execution_count": 31,
   "id": "163fccef-b42f-48ac-b53c-fddbbaac1e46",
   "metadata": {},
   "outputs": [],
   "source": [
    "sf_clauses = step.state_function.as_tla(p, level.items)\n",
    "pos_prev_c, pos_next_c, pose_prev_c, pose_next_c, item_c, v_clauses = sf_clauses\n",
    "domain_c, vv_c, vh_c, vt_c = v_clauses"
   ]
  },
  {
   "cell_type": "code",
   "execution_count": 32,
   "id": "fba9f0c7-dc1a-409f-993d-6ccfda65a6a6",
   "metadata": {},
   "outputs": [
    {
     "name": "stdout",
     "output_type": "stream",
     "text": [
      "Iteration 0\n",
      "c(50,41)\n",
      "(x_next = 50 & y_next = 41)\n",
      "Walls: [c(0,3)]\n",
      "Airs: [(c(1,0), [c(1,0), c(1,1), c(1,2)]), (c(0,1), [])]\n",
      "['', '']\n",
      "{c(1,0): '(~((PB_prev = 1 & MB_prev = 1)) | ~((PB_prev = 1 & MB_prev = 1)) | ~((PB_prev = 1 & MB_prev = 1)))'}\n",
      "Iteration 1\n",
      "c(51,41)\n",
      "(x_next = 51 & y_next = 41)\n",
      "Walls: [c(0,3)]\n",
      "Airs: [(c(1,0), []), (c(0,1), [])]\n",
      "['', '', '~((~((PB_prev = 1 & MB_prev = 1)) | ~((PB_prev = 1 & MB_prev = 1)) | ~((PB_prev = 1 & MB_prev = 1))))', '((PB_prev = 1 & MB_prev = 1) & (PB_prev = 1 & MB_prev = 1) & (PB_prev = 1 & MB_prev = 1))', '']\n",
      "{}\n",
      "Outcomes:\n",
      "Outcome 0: ((x_next = 50 & y_next = 41) & pose_next = 0 & (vt_next = 1 & vh_next = 0 & vv_next = 0 + 0 & (~((PB_prev = 1 & MB_prev = 1)) | ~((PB_prev = 1 & MB_prev = 1)) | ~((PB_prev = 1 & MB_prev = 1)))))\n",
      "Outcome 1: ((x_next = 51 & y_next = 41) & pose_next = 0 & (vv_next = 0 + 0 & vh_next = 0 + 0 & vt_next = 1) & (~((~((PB_prev = 1 & MB_prev = 1)) | ~((PB_prev = 1 & MB_prev = 1)) | ~((PB_prev = 1 & MB_prev = 1)))) & ((PB_prev = 1 & MB_prev = 1) & (PB_prev = 1 & MB_prev = 1) & (PB_prev = 1 & MB_prev = 1))))\n"
     ]
    }
   ],
   "source": [
    "expr = step.level_transition.as_tla(p, level, debug=True)"
   ]
  },
  {
   "cell_type": "code",
   "execution_count": 33,
   "id": "dd273fd5-23ea-413f-a0e6-39ff7d7c8d09",
   "metadata": {},
   "outputs": [
    {
     "data": {
      "text/plain": [
       "'((x_prev = 50 & y_prev = 41) & pose_prev = 0 & ((vv_prev >= 0 & vv_prev <= 0 & vh_prev >= 0 & vh_prev <= 0 & (vt_prev = 1))) & (B_prev = B_next & PB_prev = PB_next & SPB_prev = SPB_next & S_prev = S_next & M_prev = M_next & G_prev = G_next & SA_prev = SA_next & V_prev = V_next & GS_prev = GS_next & SB_prev = SB_next & HJ_prev = HJ_next & MB_prev = MB_next & CB_prev = CB_next & WB_prev = WB_next & E_prev = E_next & PLB_prev = PLB_next & Spazer_prev = Spazer_next & RT_prev = RT_next & XR_prev = XR_next & IB_prev = IB_next & SJ_prev = SJ_next & Kraid_prev = Kraid_next & Phantoon_prev = Phantoon_next & Draygon_prev = Draygon_next & Ridley_prev = Ridley_next & Botwoon_prev = Botwoon_next & Spore_Spawn_prev = Spore_Spawn_next & Golden_Torizo_prev = Golden_Torizo_next & Bomb_Torizo_prev = Bomb_Torizo_next & Mother_Brain_prev = Mother_Brain_next & Crocomire_prev = Crocomire_next & Ceres_Ridley_prev = Ceres_Ridley_next & Drain_prev = Drain_next & Shaktool_prev = Shaktool_next & START_prev = START_next & Statues_prev = Statues_next)) & (((x_next = 50 & y_next = 41) & pose_next = 0 & (vt_next = 1 & vh_next = 0 & vv_next = 0 + 0 & (~((PB_prev = 1 & MB_prev = 1)) | ~((PB_prev = 1 & MB_prev = 1)) | ~((PB_prev = 1 & MB_prev = 1))))) | ((x_next = 51 & y_next = 41) & pose_next = 0 & (vv_next = 0 + 0 & vh_next = 0 + 0 & vt_next = 1) & (~((~((PB_prev = 1 & MB_prev = 1)) | ~((PB_prev = 1 & MB_prev = 1)) | ~((PB_prev = 1 & MB_prev = 1)))) & ((PB_prev = 1 & MB_prev = 1) & (PB_prev = 1 & MB_prev = 1) & (PB_prev = 1 & MB_prev = 1)))))'"
      ]
     },
     "execution_count": 33,
     "metadata": {},
     "output_type": "execute_result"
    }
   ],
   "source": [
    "expr"
   ]
  },
  {
   "cell_type": "code",
   "execution_count": 34,
   "id": "e4ddec21-d9bd-46c4-9cd5-07c8d80aa538",
   "metadata": {},
   "outputs": [],
   "source": [
    "from data_types.item_set import item_mapping"
   ]
  },
  {
   "cell_type": "code",
   "execution_count": 35,
   "id": "beb9255f-2cdf-4cd8-a19e-096fb1774abc",
   "metadata": {},
   "outputs": [],
   "source": [
    "rule_name_ids = {r:i for i,r in enumerate(rules.keys())}\n",
    "pose_ids = {p:i for i,p in enumerate(SamusPose)}"
   ]
  },
  {
   "cell_type": "code",
   "execution_count": 36,
   "id": "d1ec9372-1df3-4d9d-bee3-816b4990f4ab",
   "metadata": {},
   "outputs": [],
   "source": [
    "def mk_replace(context, before, after):\n",
    "    replace_dict = {}\n",
    "    for k in context.vars.keys():\n",
    "        if k.endswith(before):\n",
    "            replace_dict[k] = k.replace(before, after)\n",
    "    return replace_dict"
   ]
  },
  {
   "cell_type": "code",
   "execution_count": 37,
   "id": "4549e623-6da8-4651-9212-93fde39bcf18",
   "metadata": {},
   "outputs": [],
   "source": [
    "# ITE(tile_reach(x,y),tile_reach(x,y),node_reach(x,y)) \n",
    "# node_reach\n",
    "# TLA for node_reach"
   ]
  },
  {
   "cell_type": "code",
   "execution_count": 38,
   "id": "67118793-5160-42a5-92d7-84765c454bc2",
   "metadata": {},
   "outputs": [
    {
     "name": "stderr",
     "output_type": "stream",
     "text": [
      "`omega.symbolic.symbolic` failed to import `dd.cudd`.\n",
      "Will use `dd.autoref`.\n"
     ]
    }
   ],
   "source": [
    "from omega.symbolic.fol import Context"
   ]
  },
  {
   "cell_type": "code",
   "execution_count": 39,
   "id": "dc7a4857-037d-4d24-8878-578ed9712849",
   "metadata": {},
   "outputs": [],
   "source": [
    "context = Context()\n",
    "context.declare(\n",
    "    rule = (0,len(rules.keys())-1),\n",
    "\n",
    "    x_prev = (0,level.shape[0]-1),\n",
    "    x_next = (0,level.shape[0]-1),\n",
    "\n",
    "    y_prev = (0,level.shape[1]-1),\n",
    "    y_next = (0,level.shape[1]-1),\n",
    "\n",
    "    pose_prev = (0,len(SamusPose)-1),\n",
    "    pose_next = (0,len(SamusPose)-1),\n",
    "    \n",
    "    vt_prev = (0, len(VType)),\n",
    "    vt_next = (0, len(VType)),\n",
    "    \n",
    "    vh_prev = (-30, 30),\n",
    "    vh_next = (-30, 30),\n",
    "    \n",
    "    vv_prev = (-15, 1),\n",
    "    vv_next = (-15, 1),\n",
    ")\n",
    "# Try to get a favorable variable ordering\n",
    "shared_dict = {}\n",
    "for i in item_mapping:\n",
    "  shared_dict[f\"{i}_prev\"] = (0,1)\n",
    "  shared_dict[f\"{i}_next\"] = (0,1)\n",
    "context.declare(**shared_dict)"
   ]
  },
  {
   "cell_type": "code",
   "execution_count": 40,
   "id": "48e35b4c-5979-484b-ab5b-0a91c0184589",
   "metadata": {},
   "outputs": [],
   "source": [
    "def translate_iset(itemset, fstr=\"{}\"):\n",
    "    d = {}\n",
    "    for i in item_mapping:\n",
    "        if i in itemset:\n",
    "            d[fstr.format(i)] = 1\n",
    "        #else:\n",
    "        #  d[fstr.format(i)] = 0\n",
    "    return d"
   ]
  },
  {
   "cell_type": "code",
   "execution_count": 41,
   "id": "eadaa866-6daa-47a6-b371-346872ea5bf3",
   "metadata": {},
   "outputs": [],
   "source": [
    "#context.vars"
   ]
  },
  {
   "cell_type": "code",
   "execution_count": 42,
   "id": "ecd628f9-e0d6-4bc2-8d2b-bd5dc57dbda4",
   "metadata": {},
   "outputs": [],
   "source": [
    "trans_test = context.false"
   ]
  },
  {
   "cell_type": "code",
   "execution_count": 43,
   "id": "55264f58-85c5-46c6-aad7-64027ed949a5",
   "metadata": {},
   "outputs": [],
   "source": [
    "trans_test |= context.add_expr(expr)"
   ]
  },
  {
   "cell_type": "code",
   "execution_count": 44,
   "id": "c8955267-3ac6-4a68-8678-e0d7ec058728",
   "metadata": {},
   "outputs": [
    {
     "data": {
      "text/plain": [
       "68719476736"
      ]
     },
     "execution_count": 44,
     "metadata": {},
     "output_type": "execute_result"
    }
   ],
   "source": [
    "trans_test.count()"
   ]
  },
  {
   "cell_type": "code",
   "execution_count": 45,
   "id": "ee58c4c9-4539-46ef-975b-c28db94cc557",
   "metadata": {},
   "outputs": [],
   "source": [
    "nonxy_vars = list(filter(lambda x: x != \"x_prev\" and x != \"y_prev\", context.vars.keys()))\n",
    "nonxy_vars2 = list(filter(lambda x: x != \"x_next\" and x != \"y_next\", context.vars.keys()))"
   ]
  },
  {
   "cell_type": "code",
   "execution_count": 46,
   "id": "39042da4-93e9-466c-b820-3d75c95dd1e9",
   "metadata": {},
   "outputs": [],
   "source": [
    "posns = context.exist(nonxy_vars2, trans_test)"
   ]
  },
  {
   "cell_type": "code",
   "execution_count": 47,
   "id": "ceb3982e-a6ab-468e-baf2-e38a422c015c",
   "metadata": {},
   "outputs": [],
   "source": [
    "model_posns = [(a[\"x_next\"], -a[\"y_next\"]) for a in context.pick_iter(posns)]"
   ]
  },
  {
   "cell_type": "code",
   "execution_count": 48,
   "id": "90e0f5ee-242b-462f-8ce2-ecb22f47e96f",
   "metadata": {},
   "outputs": [
    {
     "data": {
      "text/plain": [
       "[(50, -41), (51, -41)]"
      ]
     },
     "execution_count": 48,
     "metadata": {},
     "output_type": "execute_result"
    }
   ],
   "source": [
    "model_posns"
   ]
  },
  {
   "cell_type": "code",
   "execution_count": 49,
   "id": "cb037ea3-fab0-42e0-a5ae-5604b9ac74fb",
   "metadata": {},
   "outputs": [],
   "source": [
    "## The big loop"
   ]
  },
  {
   "cell_type": "code",
   "execution_count": 50,
   "id": "e5649d1f-7f05-4a8a-baba-1418b17a4aa4",
   "metadata": {},
   "outputs": [],
   "source": [
    "import itertools"
   ]
  },
  {
   "cell_type": "code",
   "execution_count": 51,
   "id": "7f5fe2d2-7275-4f96-9d3c-c20faffe8a1c",
   "metadata": {},
   "outputs": [],
   "source": [
    "from tqdm.notebook import tqdm"
   ]
  },
  {
   "cell_type": "code",
   "execution_count": 52,
   "id": "4da5afff-0973-4a10-bde5-df7824043d9a",
   "metadata": {
    "tags": []
   },
   "outputs": [
    {
     "data": {
      "application/json": {
       "ascii": false,
       "bar_format": null,
       "colour": null,
       "elapsed": 0.014581680297851562,
       "initial": 0,
       "n": 0,
       "ncols": null,
       "nrows": null,
       "postfix": null,
       "prefix": "",
       "rate": null,
       "total": 6144,
       "unit": "it",
       "unit_divisor": 1000,
       "unit_scale": false
      },
      "application/vnd.jupyter.widget-view+json": {
       "model_id": "801928a85e8d4d80b30acb8f51789a3e",
       "version_major": 2,
       "version_minor": 0
      },
      "text/plain": [
       "  0%|          | 0/6144 [00:00<?, ?it/s]"
      ]
     },
     "metadata": {},
     "output_type": "display_data"
    }
   ],
   "source": [
    "trans = context.false\n",
    "for i,(x,y) in tqdm(enumerate(itertools.product(range(level.shape[0]), range(level.shape[1]))), total=level.shape[0] * level.shape[1]):\n",
    "    c = Coord(x, y)\n",
    "    for name, rule in rules.items():\n",
    "        #print(c, name)\n",
    "        expr = rule.level_transition.as_tla(c, level)\n",
    "        if expr:\n",
    "            #print(c, name)\n",
    "            #print(expr)\n",
    "            #TODO: context.define(items_unchanged)\n",
    "            #TODO: pass context to as_tla and produce a BDD\n",
    "            trans |= context.add_expr(expr)"
   ]
  },
  {
   "cell_type": "code",
   "execution_count": 53,
   "id": "e16ab84e-2957-4244-91bf-de33820553b0",
   "metadata": {},
   "outputs": [
    {
     "data": {
      "text/plain": [
       "('SpinLand_hf', c(127,47))"
      ]
     },
     "execution_count": 53,
     "metadata": {},
     "output_type": "execute_result"
    }
   ],
   "source": [
    "name, c"
   ]
  },
  {
   "cell_type": "code",
   "execution_count": 54,
   "id": "0495d989-3611-467b-b2ee-dc13d4138db6",
   "metadata": {},
   "outputs": [],
   "source": [
    "isl = rules[\"GetItemMorph\"].level_transition.state_list"
   ]
  },
  {
   "cell_type": "code",
   "execution_count": 55,
   "id": "4e8b5fcd-e872-413a-9fb4-f4ff27080f33",
   "metadata": {},
   "outputs": [
    {
     "data": {
      "text/plain": [
       "[c(0,0)]"
      ]
     },
     "execution_count": 55,
     "metadata": {},
     "output_type": "execute_result"
    }
   ],
   "source": [
    "[i.pos for i in isl]"
   ]
  },
  {
   "cell_type": "code",
   "execution_count": 56,
   "id": "f933f63f-10d5-4f14-ba96-1c587f2538e7",
   "metadata": {},
   "outputs": [],
   "source": [
    "expr = rules[\"GetItemMorph\"].level_transition.as_tla(c, level, debug=True)"
   ]
  },
  {
   "cell_type": "code",
   "execution_count": 57,
   "id": "5aab04ef-09ca-42dd-aa2a-9036ce93ff9d",
   "metadata": {},
   "outputs": [
    {
     "data": {
      "text/plain": [
       "2070483474317312"
      ]
     },
     "execution_count": 57,
     "metadata": {},
     "output_type": "execute_result"
    }
   ],
   "source": [
    "trans.count()"
   ]
  },
  {
   "cell_type": "code",
   "execution_count": 58,
   "id": "01f004ba-ad60-46f4-91c2-87023ba6b2b6",
   "metadata": {},
   "outputs": [],
   "source": [
    "posns = context.exist(nonxy_vars, trans)"
   ]
  },
  {
   "cell_type": "code",
   "execution_count": 59,
   "id": "4aed834c-ae35-4a8f-afa5-ad9e7ab64bbd",
   "metadata": {},
   "outputs": [],
   "source": [
    "model_posns = [(a[\"x_prev\"], -a[\"y_prev\"]) for a in context.pick_iter(posns)]"
   ]
  },
  {
   "cell_type": "code",
   "execution_count": 60,
   "id": "98ceeae1-3cc0-40ea-9904-09c40be33598",
   "metadata": {},
   "outputs": [
    {
     "data": {
      "image/png": "[encoded data removed]",
      "text/plain": [
       "<Figure size 720x720 with 1 Axes>"
      ]
     },
     "metadata": {
      "needs_background": "light"
     },
     "output_type": "display_data"
    }
   ],
   "source": [
    "figure(figsize=(10,10))\n",
    "scatter(*array(model_posns).T, alpha=0.2)\n",
    "gca().set_aspect('equal');"
   ]
  },
  {
   "cell_type": "code",
   "execution_count": 61,
   "id": "8412b304-0f65-49e0-9f39-dd04f423ec6b",
   "metadata": {},
   "outputs": [
    {
     "data": {
      "text/plain": [
       "{'Step': 0,\n",
       " 'Step_hf': 1,\n",
       " 'StepUp': 2,\n",
       " 'StepUp_hf': 3,\n",
       " 'StepDown': 4,\n",
       " 'StepDown_hf': 5,\n",
       " 'Morph': 6,\n",
       " 'Unmorph': 7,\n",
       " 'MorphStep': 8,\n",
       " 'MorphStep_hf': 9,\n",
       " 'BombJump': 10,\n",
       " 'MorphFallOff': 11,\n",
       " 'MorphFallOff_hf': 12,\n",
       " 'MorphFall0': 13,\n",
       " 'MorphFall0_hf': 14,\n",
       " 'MorphFall1': 15,\n",
       " 'MorphLand': 16,\n",
       " 'GetItemMorph': 17,\n",
       " 'GetItemMorph_hf': 18,\n",
       " 'GetItem0': 19,\n",
       " 'GetItem0_hf': 20,\n",
       " 'GetItem1': 21,\n",
       " 'GetItem1_hf': 22,\n",
       " 'GetItem2': 23,\n",
       " 'GetItem2_hf': 24,\n",
       " 'GetItem0J': 25,\n",
       " 'GetItem0J_hf': 26,\n",
       " 'GetItem1J': 27,\n",
       " 'GetItem1J_hf': 28,\n",
       " 'GetItem2J': 29,\n",
       " 'GetItem2J_hf': 30,\n",
       " 'Jump': 31,\n",
       " 'Jump_hf': 32,\n",
       " 'JumpRight': 33,\n",
       " 'JumpRight_hf': 34,\n",
       " 'FallOff': 35,\n",
       " 'FallOff_hf': 36,\n",
       " 'Fall0': 37,\n",
       " 'Fall0_hf': 38,\n",
       " 'Fall1': 39,\n",
       " 'SpinFall0': 40,\n",
       " 'SpinFall0_hf': 41,\n",
       " 'SpinFall1': 42,\n",
       " 'Land': 43,\n",
       " 'Land_hf': 44,\n",
       " 'SpinLand': 45,\n",
       " 'SpinLand_hf': 46}"
      ]
     },
     "execution_count": 61,
     "metadata": {},
     "output_type": "execute_result"
    }
   ],
   "source": [
    "rule_name_ids"
   ]
  },
  {
   "cell_type": "code",
   "execution_count": 62,
   "id": "4a087bd4-55ad-403a-8e05-1900869dbaaf",
   "metadata": {},
   "outputs": [],
   "source": [
    "## Composing trans with itself\n",
    "context2 = Context()\n",
    "context2.declare(\n",
    "\n",
    "    x_prev = (0,level.shape[0]-1),\n",
    "    x_next = (0,level.shape[0]-1),\n",
    "    x_temp = (0,level.shape[0]-1),\n",
    "\n",
    "    y_prev = (0,level.shape[1]-1),\n",
    "    y_next = (0,level.shape[1]-1),\n",
    "    y_temp = (0,level.shape[1]-1),\n",
    "\n",
    "    pose_prev = (0,len(SamusPose)-1),\n",
    "    pose_next = (0,len(SamusPose)-1),\n",
    "    pose_temp = (0,len(SamusPose)-1),\n",
    "    \n",
    "    vt_prev = (0, len(VType)),\n",
    "    vt_next = (0, len(VType)),\n",
    "    vt_temp = (0, len(VType)),\n",
    "    \n",
    "    vh_prev = (-30, 30),\n",
    "    vh_next = (-30, 30),\n",
    "    vh_temp = (-30, 30),\n",
    "    \n",
    "    vv_prev = (-15, 1),\n",
    "    vv_next = (-15, 1),\n",
    "    vv_temp = (-15, 1),\n",
    ")\n",
    "# Try to get a favorable variable ordering\n",
    "shared_dict = {}\n",
    "for i in item_mapping:\n",
    "    shared_dict[f\"{i}_prev\"] = (0,1)\n",
    "    shared_dict[f\"{i}_next\"] = (0,1)\n",
    "    shared_dict[f\"{i}_temp\"] = (0,1)\n",
    "context2.declare(**shared_dict)"
   ]
  },
  {
   "cell_type": "code",
   "execution_count": 63,
   "id": "7f142246-baed-441a-8b56-79cfb00b27a9",
   "metadata": {},
   "outputs": [],
   "source": [
    "# Project over \"rule\" since many different rules will be used in the transitive closure\n",
    "trans_norule = context.copy(context.exist([\"rule\"], trans), context2)"
   ]
  },
  {
   "cell_type": "code",
   "execution_count": 64,
   "id": "6a4a9880-94bf-4d03-ab0f-61247019abfd",
   "metadata": {},
   "outputs": [],
   "source": [
    "# Have: trans(prev, next)\n",
    "# Want: trans(temp, next)\n",
    "# Have: closure(prev, next)\n",
    "# Want: closure(prev, temp)\n",
    "prev_to_temp = mk_replace(context2, \"prev\", \"temp\")\n",
    "next_to_temp = mk_replace(context2, \"next\", \"temp\")\n",
    "temps = [k for k in context2.vars.keys() if k.endswith(\"_temp\")]"
   ]
  },
  {
   "cell_type": "code",
   "execution_count": null,
   "id": "800a04a2-87dd-4d95-8ba7-0572cc0d302c",
   "metadata": {},
   "outputs": [
    {
     "name": "stdout",
     "output_type": "stream",
     "text": [
      "0 8941\n",
      "1 24013\n",
      "2 59752\n",
      "3 104883\n",
      "4 133875\n"
     ]
    }
   ],
   "source": [
    "# Iterative squaring\n",
    "n = 0\n",
    "closure = trans_norule\n",
    "closure_last = context2.false\n",
    "while closure != closure_last:\n",
    "    closure_last = closure\n",
    "    closure_prev_temp = context2.let(next_to_temp, closure_last)\n",
    "    closure_temp_next = context2.let(prev_to_temp, closure_last)\n",
    "    closure |= context2.exist(temps, closure_prev_temp & closure_temp_next)\n",
    "    print(n, closure.dag_size)\n",
    "    n+=1\n",
    "closure_square = closure"
   ]
  },
  {
   "cell_type": "code",
   "execution_count": null,
   "id": "ff751634-974f-4e17-b157-24284a6d5935",
   "metadata": {},
   "outputs": [],
   "source": [
    "x_expr = closure & context2.add_expr(\"x_prev = 64 & y_prev = 42 & pose_prev = 0 & MB_prev = 1 & PB_prev = 1\")\n",
    "nexts = [k for k in context2.vars.keys() if k.endswith(\"_next\")]\n",
    "prevs = [k for k in context2.vars.keys() if k.endswith(\"_prev\")]\n",
    "xx = context2.pick(context2.exist(nexts, x_expr), prevs)"
   ]
  },
  {
   "cell_type": "code",
   "execution_count": null,
   "id": "54e1b5e2-9d52-4c83-b518-0a800fd299d6",
   "metadata": {},
   "outputs": [],
   "source": [
    "xx"
   ]
  },
  {
   "cell_type": "code",
   "execution_count": null,
   "id": "3df95cba-659b-4036-a21f-390d6556b7b7",
   "metadata": {},
   "outputs": [],
   "source": [
    "xx_bdd = context2.assign_from(xx)\n",
    "reachable = xx_bdd & closure\n",
    "reachable.count()\n",
    "model_posns = [(a[\"x_next\"], -a[\"y_next\"]) for a in context2.pick_iter(reachable)]"
   ]
  },
  {
   "cell_type": "code",
   "execution_count": null,
   "id": "9901e8c4-abe7-4fab-95ae-adb0f583c53d",
   "metadata": {},
   "outputs": [],
   "source": [
    "figure(figsize=(10,10))\n",
    "scatter(*array(model_posns).T, alpha=0.2)\n",
    "scatter(64,-42)\n",
    "gca().set_aspect('equal');"
   ]
  },
  {
   "cell_type": "code",
   "execution_count": null,
   "id": "7f212df8-cf79-45aa-b6c3-7417d51db131",
   "metadata": {},
   "outputs": [],
   "source": [
    "figure(figsize=(10,10))\n",
    "imshow(level.level.T);\n",
    "scatter(64,42)"
   ]
  },
  {
   "cell_type": "code",
   "execution_count": null,
   "id": "66235f87-b4e9-416f-8dc9-23b748d84e85",
   "metadata": {},
   "outputs": [],
   "source": [
    "#TODO: Debug falling rule"
   ]
  },
  {
   "cell_type": "code",
   "execution_count": null,
   "id": "0d33c5e5-a352-4844-96ce-d167b2b902de",
   "metadata": {},
   "outputs": [],
   "source": [
    "#obj_names[\"room_header_0x79e9f\"].door_list.list[0][1].to_room"
   ]
  },
  {
   "cell_type": "code",
   "execution_count": null,
   "id": "fffaa02b-1d5a-4c1d-8a7f-82651ac5b8c0",
   "metadata": {},
   "outputs": [],
   "source": [
    "header2 = obj_names[\"room_header_0x79f11\"]\n",
    "level2 = make_level_from_room(header2)"
   ]
  },
  {
   "cell_type": "code",
   "execution_count": null,
   "id": "932984b6-bb94-4496-a650-6b80cef87324",
   "metadata": {},
   "outputs": [],
   "source": [
    "figure(figsize=(10,10))\n",
    "imshow(level2.level.T);"
   ]
  },
  {
   "cell_type": "code",
   "execution_count": null,
   "id": "ada76070-d249-40ad-a531-046fd4078b07",
   "metadata": {},
   "outputs": [],
   "source": [
    "fall0 = rules[\"Fall0\"]\n",
    "fall1 = rules[\"Fall1\"]\n",
    "pp = Coord(100,41)"
   ]
  },
  {
   "cell_type": "code",
   "execution_count": null,
   "id": "7298224c-de61-48b9-8d40-58d4ceb6a8da",
   "metadata": {},
   "outputs": [],
   "source": [
    "fall0e = fall0.level_transition.as_tla(pp, level, debug=True)"
   ]
  },
  {
   "cell_type": "code",
   "execution_count": null,
   "id": "687d5174-159f-46cf-84e1-b02b873f3097",
   "metadata": {},
   "outputs": [],
   "source": [
    "fall0e"
   ]
  },
  {
   "cell_type": "code",
   "execution_count": null,
   "id": "05ce86df-c9b2-4038-87f3-eb55e40bb2df",
   "metadata": {},
   "outputs": [],
   "source": [
    "fall1e = fall0.level_transition.as_tla(pp, level, debug=True)"
   ]
  },
  {
   "cell_type": "code",
   "execution_count": null,
   "id": "bfe36038-19c1-4766-84bb-7ad2c91c9bdd",
   "metadata": {},
   "outputs": [],
   "source": [
    "fall1e"
   ]
  },
  {
   "cell_type": "code",
   "execution_count": null,
   "id": "198c2f04-122f-4549-beae-5862274bd57e",
   "metadata": {},
   "outputs": [],
   "source": []
  }
 ],
 "metadata": {
  "kernelspec": {
   "display_name": "Python3.9",
   "language": "python",
   "name": "python3"
  },
  "language_info": {
   "codemirror_mode": {
    "name": "ipython",
    "version": 3
   },
   "file_extension": ".py",
   "mimetype": "text/x-python",
   "name": "python",
   "nbconvert_exporter": "python",
   "pygments_lexer": "ipython3",
   "version": "3.9.2"
  }
 },
 "nbformat": 4,
 "nbformat_minor": 5
}

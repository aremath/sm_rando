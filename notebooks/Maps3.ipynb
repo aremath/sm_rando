{
 "cells": [
  {
   "cell_type": "code",
   "execution_count": 2,
   "id": "d71e1285-b0bd-40d8-af53-53e1a1d768b1",
   "metadata": {},
   "outputs": [
    {
     "name": "stdout",
     "output_type": "stream",
     "text": [
      "%pylab is deprecated, use %matplotlib inline and import the required libraries.\n",
      "Populating the interactive namespace from numpy and matplotlib\n"
     ]
    }
   ],
   "source": [
    "%load_ext autoreload\n",
    "%autoreload 2\n",
    "%pylab inline"
   ]
  },
  {
   "cell_type": "code",
   "execution_count": 3,
   "id": "1de73e85-02a6-4441-b1c8-bd4d22aae7b8",
   "metadata": {},
   "outputs": [],
   "source": [
    "import sys\n",
    "sys.path.append(\"..\")"
   ]
  },
  {
   "cell_type": "code",
   "execution_count": 4,
   "id": "4b2398c3-3108-4234-9e0f-a823dff873fd",
   "metadata": {},
   "outputs": [],
   "source": [
    "from abstraction_validation.abstractify import abstractify_state, abstractify_boss_info\n",
    "from rom_tools.rom_manager import RomManager\n",
    "from encoding.parse_rooms import parse_rooms, parse_exits, dictify_rooms\n",
    "from world_rando.coord import Coord\n",
    "from abstraction_validation.sm_paths import *\n",
    "from data_types.item_set import ItemSet"
   ]
  },
  {
   "cell_type": "code",
   "execution_count": 5,
   "id": "c4756959-0e2b-4a29-89f6-a52147bd0467",
   "metadata": {},
   "outputs": [],
   "source": [
    "def read_state():\n",
    "    ram_data = np.fromfile(\"../../Videogame-Retrieval/ram_snes9x.bin\", dtype=\"int16\")\n",
    "    return abstractify_state(ram_data, global_pos=True)"
   ]
  },
  {
   "cell_type": "code",
   "execution_count": 6,
   "id": "6f036f9b-fc74-47f9-913e-8bcf297e9009",
   "metadata": {},
   "outputs": [],
   "source": [
    "# #ram_data = np.memmap(\"../../Videogame-Retrieval/ram_snes9x.bin\", dtype=\"int16\", mode=\"c\")#.reshape((-1, 0x2000 // 2))\n",
    "# while True:\n",
    "#     ram_data = np.fromfile(\"../../Videogame-Retrieval/ram_snes9x.bin\", dtype=\"int16\")\n",
    "#     #print(ram_data.shape)\n",
    "#     time.sleep(0.1)\n",
    "#     p = abstractify_state(ram_data, global_pos=True).position\n",
    "#     #print(p)\n",
    "#     map_tile = Coord(p.x / 16, p.y / 16)\n",
    "#     #print(map_tile)\n",
    "#     #print(position_transform(map_tile))\n",
    "#     circle.location = position_transform(map_tile)"
   ]
  },
  {
   "cell_type": "code",
   "execution_count": 7,
   "id": "cc1c38ea-8102-4fcf-9b98-5f4f1100dc1f",
   "metadata": {},
   "outputs": [],
   "source": [
    "# Testing Lua injection\n",
    "lua_fn = \"\"\"\n",
    "local px_addr = 0x000AF6\n",
    "local py_addr = 0x000AFA\n",
    "local camx_addr = 0x000911\n",
    "local camy_addr = 0x000915\n",
    "local camx = memory.readword(camx_addr)\n",
    "local camy = memory.readword(camy_addr)\n",
    "local px = memory.readword(px_addr)\n",
    "local py = memory.readword(py_addr)\n",
    "local screen_x = px - camx\n",
    "local screen_y = py - camy\n",
    "local xrad = memory.readbyte(0x7E0AFE)\n",
    "local yrad = memory.readbyte(0x7E0B00)\t\n",
    "gui.box(screen_x + (xrad * -1), screen_y + (yrad * -1), screen_x + xrad, screen_y + yrad,\"#0000FF35\",\"#0000FFFF\")\n",
    "gui.text(screen_x, screen_y, \"{}\", 0xffffffff)\n",
    "gui.text(0, 20, \"{}\", 0xffffffff)\n",
    "\"\"\"\n",
    "ss = \"Hello\""
   ]
  },
  {
   "cell_type": "code",
   "execution_count": 8,
   "id": "80ff0425-cf66-4234-b451-5246758721f3",
   "metadata": {},
   "outputs": [],
   "source": [
    "advice_fn = \"\"\"\n",
    "area_offsets = {\n",
    "    [0] = {[0] = 3, [1] = 10},\n",
    "    [1] = {[0] = 0, [1] = 29},\n",
    "    [2] = {[0] = 31, [1] = 49},\n",
    "    [3] = {[0] = 37, [1] = 0},\n",
    "    [4] = {[0] = 28, [1] = 29},\n",
    "    [5] = {[0] = 0, [1] = 10},\n",
    "    [6] = {[0] = 0, [1] = -10},\n",
    "    [7] = {[0] = 0, [1] = 0}\n",
    "}\n",
    "local px_addr = 0x000AF6\n",
    "local py_addr = 0x000AFA\n",
    "local camx_addr = 0x000911\n",
    "local camy_addr = 0x000915\n",
    "local area_addr = 0x00079F\n",
    "local mapx_addr = 0x0007A1\n",
    "local mapy_addr = 0x0007A3\n",
    "local camx = memory.readword(camx_addr)\n",
    "local camy = memory.readword(camy_addr)\n",
    "local px = memory.readword(px_addr)\n",
    "local py = memory.readword(py_addr)\n",
    "local screen_x = px - camx\n",
    "local screen_y = py - camy\n",
    "local xrad = memory.readbyte(0x7E0AFE)\n",
    "local yrad = memory.readbyte(0x7E0B00)\n",
    "local area = memory.readbyte(area_addr)\n",
    "local mapx = memory.readbyte(mapx_addr)\n",
    "local mapy = memory.readbyte(mapy_addr)\n",
    "local px_global = 16 * area_offsets[area][0] + 16 * mapx + (px / 16)\n",
    "local py_global = 16 * area_offsets[area][1] + 16 * mapy + (py / 16)\n",
    "\"\"\"\n",
    "advice2 = \"\"\"\n",
    "local go_x = {gox}\n",
    "local go_y = {goy}\n",
    "local to_x = go_x - px_global\n",
    "local to_y = go_y - py_global\n",
    "--print(\"hey\")\n",
    "--print(px_global, py_global)\n",
    "--print(go_x, go_y)\n",
    "--print(to_x, to_y)\n",
    "gui.line(screen_x, screen_y, screen_x + (to_x * 16), screen_y + (to_y * 16), 0xffffffff)\n",
    "local dist = math.sqrt((to_x * to_x + to_y * to_y))\n",
    "gui.text(screen_x, screen_y, tostring(math.floor(dist)), 0xffffffff)\n",
    "\"\"\"\n",
    "def mk_advice(x, y):\n",
    "    return advice_fn + advice2.format(gox=x, goy=y)"
   ]
  },
  {
   "cell_type": "code",
   "execution_count": 9,
   "id": "c1fea63b-cfe3-4947-938c-e2dd5c1d8c7c",
   "metadata": {},
   "outputs": [],
   "source": [
    "# while True:\n",
    "#     if ss == \"Hello\":\n",
    "#         ss = \"Goodbye\"\n",
    "#     else:\n",
    "#         ss = \"Hello\"\n",
    "#     f = open(\"../../Videogame-Retrieval/snes9x_bridge.lua\", \"w\")\n",
    "#     f.write(lua_fn.format(ss, ss))\n",
    "#     f.close()\n",
    "#     time.sleep(1)"
   ]
  },
  {
   "cell_type": "code",
   "execution_count": 10,
   "id": "ed49f3f0-66f6-4a22-9e95-582152d0874e",
   "metadata": {},
   "outputs": [
    {
     "name": "stdout",
     "output_type": "stream",
     "text": [
      "Landing_Site 0x791f8\n",
      "\t Extra: []\n",
      "\t Missing: ['Landing_Site_Ship']\n",
      "West_Ocean 0x793fe\n",
      "\t Extra: ['West_Ocean_R4', 'West_Ocean_L']\n",
      "\t Missing: ['West_Ocean_R6', 'West_Ocean_L2']\n",
      "Bomb_Torizo 0x79804\n",
      "\t Extra: ['Bomb_Torizo_B']\n",
      "\t Missing: ['Bomb_Torizo_Bombs']\n",
      "Spore_Spawn 0x79dc7\n",
      "\t Extra: []\n",
      "\t Missing: ['Spore_Spawn_Spore_Spawn']\n",
      "Kraid 0x7a59f\n",
      "\t Extra: []\n",
      "\t Missing: ['Kraid_Kraid']\n",
      "Statues 0x7a66a\n",
      "\t Extra: []\n",
      "\t Missing: ['Statues_Statues']\n",
      "Crocomire 0x7a98d\n",
      "\t Extra: []\n",
      "\t Missing: ['Crocomire_Crocomire']\n",
      "Water_Closet 0x7b1e5\n",
      "\t Extra: []\n",
      "\t Missing: ['Water_Closet_Drain']\n",
      "Golden_Torizo 0x7b283\n",
      "\t Extra: []\n",
      "\t Missing: ['Golden_Torizo_Golden_Torizo']\n",
      "Ridley 0x7b32e\n",
      "\t Extra: []\n",
      "\t Missing: ['Ridley_Ridley']\n",
      "Phantoon 0x7cd13\n",
      "\t Extra: []\n",
      "\t Missing: ['Phantoon_Phantoon']\n",
      "West_Sand_Hall 0x7d461\n",
      "\t Extra: []\n",
      "\t Missing: ['West_Sand_Hall_TS']\n",
      "East_Sand_Hall 0x7d4c2\n",
      "\t Extra: []\n",
      "\t Missing: ['East_Sand_Hall_TS']\n",
      "West_Sand_Hole 0x7d4ef\n",
      "\t Extra: []\n",
      "\t Missing: ['West_Sand_Hole_TS']\n",
      "East_Sand_Hole 0x7d51e\n",
      "\t Extra: []\n",
      "\t Missing: ['East_Sand_Hole_TS']\n",
      "West_Sand_Pit 0x7d54d\n",
      "\t Extra: []\n",
      "\t Missing: ['West_Sand_Pit_TS']\n",
      "East_Sand_Pit 0x7d57a\n",
      "\t Extra: []\n",
      "\t Missing: ['East_Sand_Pit_TS']\n",
      "Butterfly_Room 0x7d5ec\n",
      "\t Extra: []\n",
      "\t Missing: ['Butterfly_Room_TS']\n",
      "Botwoon_Energy_Farm 0x7d6fd\n",
      "\t Extra: []\n",
      "\t Missing: ['Botwoon_Energy_Farm_TS1', 'Botwoon_Energy_Farm_TS2']\n",
      "Butterfly_Sand_Pit 0x7d86e\n",
      "\t Extra: []\n",
      "\t Missing: ['Butterfly_Sand_Pit_TS']\n",
      "Botwoon_Energy_Pit 0x7d898\n",
      "\t Extra: []\n",
      "\t Missing: ['Botwoon_Energy_Pit_TS1', 'Botwoon_Energy_Pit_TS2']\n",
      "Shaktool 0x7d8c5\n",
      "\t Extra: []\n",
      "\t Missing: ['Shaktool_Shaktool']\n",
      "Botwoon 0x7d95e\n",
      "\t Extra: []\n",
      "\t Missing: ['Botwoon_Botwoon']\n",
      "Draygon 0x7da60\n",
      "\t Extra: []\n",
      "\t Missing: ['Draygon_Draygon']\n",
      "Mother_Brain 0x7dd58\n",
      "\t Extra: []\n",
      "\t Missing: ['Mother_Brain_L', 'Mother_Brain_Mother_Brain']\n"
     ]
    }
   ],
   "source": [
    "# Pre-compute node information\n",
    "rom = RomManager(\"../../roms/sm_clean.sfc\", \"sm_junk.smc\")\n",
    "parsed_rom = rom.parse()\n",
    "rooms = parse_rooms(\"../encoding/dsl/rooms_for_alloy.txt\")\n",
    "#rooms = parse_rooms(\"../encoding/dsl/rooms.txt\")\n",
    "exits = parse_exits('../encoding/dsl/exits_for_alloy.txt')\n",
    "#exits = parse_exits('../encoding/dsl/exits.txt')\n",
    "all_posns = all_global_positions(rooms, parsed_rom)\n",
    "world = dictify_rooms(rooms,exits)"
   ]
  },
  {
   "cell_type": "code",
   "execution_count": 11,
   "id": "9224f508-e695-43d5-99ef-acaa14f3e049",
   "metadata": {},
   "outputs": [
    {
     "data": {
      "application/vnd.jupyter.widget-view+json": {
       "model_id": "9a7ffc28c441485893dbfda5eb6541f7",
       "version_major": 2,
       "version_minor": 0
      },
      "text/plain": [
       "  0%|          | 0/1023300 [00:00<?, ?it/s]"
      ]
     },
     "metadata": {},
     "output_type": "display_data"
    }
   ],
   "source": [
    "# From Adam:\n",
    "from collections import namedtuple\n",
    "\n",
    "Supernode = namedtuple('Supernode', ['room', 'node', 'itemset'])\n",
    "\n",
    "initial = Supernode('Landing_Site', 'Ship', frozenset())\n",
    "\n",
    "def generate_links(supernode):\n",
    "  room, node, itemset = supernode\n",
    "  room_spec = world['Rooms'][room]\n",
    "  if node in room_spec['Drops']:\n",
    "    drop = room_spec['Drops'][node]\n",
    "    if drop not in itemset:\n",
    "      yield Supernode(room, node, itemset | frozenset([drop]))\n",
    "      return # Does this mean we are forced to collect an item if available? Yes, but the graph becomes much larger...\n",
    "\n",
    "  if node in room_spec['Doors']:\n",
    "    door = room_spec['Doors'][node]\n",
    "    yield Supernode(door['Room'], door['Node'], itemset)\n",
    "  for e in room_spec['Edges'].get(node, []):\n",
    "    terminal = e['Terminal']\n",
    "    for requirements in map(frozenset,e['Requirements']):\n",
    "      if requirements.issubset(itemset):\n",
    "        yield Supernode(room, terminal, itemset)\n",
    "\n",
    "nodes = set()\n",
    "edges = set()\n",
    "\n",
    "stack = []\n",
    "stack.append(initial)\n",
    "\n",
    "from tqdm.notebook import tqdm\n",
    "\n",
    "with tqdm(total=1_023_300) as progress:\n",
    "  while stack:\n",
    "    u = stack.pop()\n",
    "    if u not in nodes:\n",
    "      progress.update(1)\n",
    "      nodes.add(u)\n",
    "      recent_edges = 0\n",
    "      for v in generate_links(u):\n",
    "        edges.add((u,v))\n",
    "        recent_edges += 1\n",
    "        if v not in nodes:\n",
    "          stack.append(v)\n",
    "      if recent_edges == 0:\n",
    "        #print('dead:', u)\n",
    "        pass"
   ]
  },
  {
   "cell_type": "code",
   "execution_count": 12,
   "id": "4c0f3a7d-5583-4797-ba58-e905593cf795",
   "metadata": {},
   "outputs": [],
   "source": [
    "def supernode_to_abstate(supernode):\n",
    "    room, node, itemset = supernode\n",
    "    nn = f\"{room}_{node}\"\n",
    "    ii = ItemSet()\n",
    "    for i in itemset:\n",
    "        ii = ii.add(i)\n",
    "    return (nn, ii)\n",
    "\n",
    "def abstate_to_supernode(abstate):\n",
    "    nn, ii = abstate\n",
    "    node = nn.split(\"_\")[-1]\n",
    "    room = \"_\".join(nn.split(\"_\")[:-1])\n",
    "    itemset = frozenset()\n",
    "    for i in ii:\n",
    "        itemset |= frozenset([i])\n",
    "    return Supernode(room, node, itemset)"
   ]
  },
  {
   "cell_type": "code",
   "execution_count": 13,
   "id": "5f8f9e82-8ef4-4873-a6a8-68385f9fd7bd",
   "metadata": {},
   "outputs": [
    {
     "data": {
      "text/plain": [
       "(1023300, 3153239)"
      ]
     },
     "execution_count": 13,
     "metadata": {},
     "output_type": "execute_result"
    }
   ],
   "source": [
    "len(nodes), len(edges)"
   ]
  },
  {
   "cell_type": "code",
   "execution_count": 14,
   "id": "6390a6c6-c884-4d0d-abd9-3a5f19e4eee6",
   "metadata": {},
   "outputs": [
    {
     "data": {
      "text/plain": [
       "(1, 384)"
      ]
     },
     "execution_count": 14,
     "metadata": {},
     "output_type": "execute_result"
    }
   ],
   "source": [
    "starts = [n for n in nodes if n.node == 'Ship' and not n.itemset]\n",
    "finishes = [n for n in nodes if n.node == 'Ship' and 'Mother_Brain' in n.itemset]\n",
    "len(starts), len(finishes)"
   ]
  },
  {
   "cell_type": "code",
   "execution_count": 15,
   "id": "832ab740-ab65-4f55-a748-0d55576b32a0",
   "metadata": {},
   "outputs": [],
   "source": [
    "import networkx as nx\n",
    "g = nx.DiGraph(edges)\n",
    "\n",
    "source = \"source\" # a node that connects to starts\n",
    "loop = \"loop\" # a node that allows you to restart on victory\n",
    "sink = \"sink\" # a node that connects from finishes\n",
    "\n",
    "for start in starts:\n",
    "  g.add_edge(source, start)\n",
    "  g.add_edge(loop, start)\n",
    "for finish in finishes:\n",
    "  g.add_edge(finish, sink)\n",
    "  g.add_edge(finish, loop)"
   ]
  },
  {
   "cell_type": "code",
   "execution_count": 16,
   "id": "d33cddba-df48-4fcd-9177-0544236d9c04",
   "metadata": {},
   "outputs": [
    {
     "name": "stdout",
     "output_type": "stream",
     "text": [
      "CPU times: user 1.02 s, sys: 0 ns, total: 1.02 s\n",
      "Wall time: 1.01 s\n"
     ]
    },
    {
     "data": {
      "text/plain": [
       "525"
      ]
     },
     "execution_count": 16,
     "metadata": {},
     "output_type": "execute_result"
    }
   ],
   "source": [
    "%%time\n",
    "path = nx.shortest_path(g,source,sink)\n",
    "len(path)"
   ]
  },
  {
   "cell_type": "code",
   "execution_count": 17,
   "id": "d3e432cc-a5a9-49c2-a8f5-744549c83a55",
   "metadata": {},
   "outputs": [
    {
     "data": {
      "text/plain": [
       "Supernode(room='First_Missile', node='M', itemset=frozenset({'M', 'MB'}))"
      ]
     },
     "execution_count": 17,
     "metadata": {},
     "output_type": "execute_result"
    }
   ],
   "source": [
    "path[19]"
   ]
  },
  {
   "cell_type": "code",
   "execution_count": 18,
   "id": "7a4bb03a-003d-4400-826a-f19de8f7512d",
   "metadata": {},
   "outputs": [],
   "source": [
    "def convert_path(path):\n",
    "    new_path = []\n",
    "    for p in path:\n",
    "        try:\n",
    "            x = supernode_to_abstate(p)\n",
    "            new_path.append(x)\n",
    "        except ValueError:\n",
    "            pass\n",
    "    return new_path"
   ]
  },
  {
   "cell_type": "code",
   "execution_count": 19,
   "id": "f2c49b35-202c-41c9-a865-1a5241835d68",
   "metadata": {},
   "outputs": [],
   "source": [
    "# Return the name of the node that Samus should visit next\n",
    "def get_path_advice(state, annotated_path):\n",
    "    if annotated_path is None:\n",
    "        return None\n",
    "    dist, node = map_state_to_node(state, all_posns)\n",
    "    try:\n",
    "        #print(node, state.items)\n",
    "        i = annotated_path.index((node, state.items))\n",
    "        if i == len(annotated_path) - 1:\n",
    "            return None\n",
    "        return annotated_path[i+1][0]\n",
    "    # Not in list\n",
    "    except ValueError:\n",
    "        return None\n"
   ]
  },
  {
   "cell_type": "code",
   "execution_count": 20,
   "id": "6de7f655-6d65-4995-aa0e-c6e7e88b70cb",
   "metadata": {},
   "outputs": [],
   "source": [
    "all_posns[\"Bomb_Torizo_B\"]\n",
    "all_posns[\"Bomb_Torizo_Bombs\"] = all_posns[\"Bomb_Torizo_B\"]\n",
    "del all_posns[\"Bomb_Torizo_B\"]"
   ]
  },
  {
   "cell_type": "code",
   "execution_count": 21,
   "id": "bf862411-454d-4061-b9e0-0766a6992e2e",
   "metadata": {},
   "outputs": [
    {
     "data": {
      "text/plain": [
       "{'Nodes': ['L', 'Bombs'],\n",
       " 'Drops': {'Bombs': 'B'},\n",
       " 'Edges': {'L': [{'Terminal': 'Bombs', 'Requirements': [[]]}],\n",
       "  'Bombs': [{'Terminal': 'L', 'Requirements': [[]]}]},\n",
       " 'Doors': {'L': {'Room': 'BT_Flyway', 'Node': 'R', 'Direction': 'L'}}}"
      ]
     },
     "execution_count": 21,
     "metadata": {},
     "output_type": "execute_result"
    }
   ],
   "source": [
    "world[\"Rooms\"][\"Bomb_Torizo\"]"
   ]
  },
  {
   "cell_type": "code",
   "execution_count": 22,
   "id": "98c64952-1a10-4269-a3dc-ff0339869100",
   "metadata": {},
   "outputs": [
    {
     "data": {
      "text/plain": [
       "497668"
      ]
     },
     "execution_count": 22,
     "metadata": {},
     "output_type": "execute_result"
    }
   ],
   "source": [
    "rooms[\"Bomb_Torizo\"].mem_address"
   ]
  },
  {
   "cell_type": "code",
   "execution_count": 23,
   "id": "cf568668-ae11-4d99-9f5f-d844084b5871",
   "metadata": {},
   "outputs": [],
   "source": [
    "node_memaddrs = {node : rooms[abstate_to_supernode((node, ItemSet())).room].mem_address for node in all_posns.keys()}"
   ]
  },
  {
   "cell_type": "code",
   "execution_count": 24,
   "id": "a8f96bda-e8f8-46e7-bcc5-1675f426b894",
   "metadata": {},
   "outputs": [
    {
     "data": {
      "text/plain": [
       "Supernode(room='Bomb_Torizo', node='Bombs', itemset=frozenset())"
      ]
     },
     "execution_count": 24,
     "metadata": {},
     "output_type": "execute_result"
    }
   ],
   "source": [
    "abstate_to_supernode((\"Bomb_Torizo_Bombs\", ItemSet()))"
   ]
  },
  {
   "cell_type": "code",
   "execution_count": 25,
   "id": "553561ec-ef36-481c-b1b6-5f4ca9553800",
   "metadata": {},
   "outputs": [
    {
     "data": {
      "text/plain": [
       "c(460,266)"
      ]
     },
     "execution_count": 25,
     "metadata": {},
     "output_type": "execute_result"
    }
   ],
   "source": [
    "all_posns[\"Bomb_Torizo_Bombs\"]"
   ]
  },
  {
   "cell_type": "code",
   "execution_count": 26,
   "id": "bbcc326a-2aca-45e3-8f08-8494c5bcd601",
   "metadata": {},
   "outputs": [
    {
     "data": {
      "text/plain": [
       "'0x79804'"
      ]
     },
     "execution_count": 26,
     "metadata": {},
     "output_type": "execute_result"
    }
   ],
   "source": [
    "hex(node_memaddrs[\"Bomb_Torizo_Bombs\"])"
   ]
  },
  {
   "cell_type": "code",
   "execution_count": 27,
   "id": "b9016288-d764-4e13-95bb-edd559ac0d56",
   "metadata": {},
   "outputs": [
    {
     "data": {
      "text/plain": [
       "[Supernode(room='BT_Flyway', node='L', itemset=frozenset({'B', 'M', 'MB'})),\n",
       " Supernode(room='Parlor', node='R2', itemset=frozenset({'B', 'M', 'MB'})),\n",
       " Supernode(room='Parlor', node='L1', itemset=frozenset({'B', 'M', 'MB'})),\n",
       " Supernode(room='Terminator_Room', node='R', itemset=frozenset({'B', 'M', 'MB'})),\n",
       " Supernode(room='Terminator_Room', node='L', itemset=frozenset({'B', 'M', 'MB'})),\n",
       " Supernode(room='Green_Pirates_Shaft', node='R2', itemset=frozenset({'B', 'M', 'MB'})),\n",
       " Supernode(room='Green_Pirates_Shaft', node='L', itemset=frozenset({'B', 'M', 'MB'})),\n",
       " Supernode(room='Kago_Room', node='R', itemset=frozenset({'B', 'M', 'MB'})),\n",
       " Supernode(room='Kago_Room', node='L', itemset=frozenset({'B', 'M', 'MB'})),\n",
       " Supernode(room='Brinstar_Elevator', node='R', itemset=frozenset({'B', 'M', 'MB'})),\n",
       " Supernode(room='Brinstar_Elevator', node='ET', itemset=frozenset({'B', 'M', 'MB'})),\n",
       " Supernode(room='Brinstar_Entrance', node='EB', itemset=frozenset({'B', 'M', 'MB'})),\n",
       " Supernode(room='Brinstar_Entrance', node='R2', itemset=frozenset({'B', 'M', 'MB'})),\n",
       " Supernode(room='Dachora_Room', node='L1', itemset=frozenset({'B', 'M', 'MB'})),\n",
       " Supernode(room='Dachora_Room', node='R', itemset=frozenset({'B', 'M', 'MB'})),\n",
       " Supernode(room='Big_Pink', node='L2', itemset=frozenset({'B', 'M', 'MB'})),\n",
       " Supernode(room='Big_Pink', node='CB', itemset=frozenset({'B', 'M', 'MB'})),\n",
       " Supernode(room='Big_Pink', node='CB', itemset=frozenset({'B', 'CB', 'M', 'MB'})),\n",
       " Supernode(room='Big_Pink', node='R1', itemset=frozenset({'B', 'CB', 'M', 'MB'})),\n",
       " Supernode(room='PreSpore_Kihunters', node='L', itemset=frozenset({'B', 'CB', 'M', 'MB'})),\n",
       " Supernode(room='PreSpore_Kihunters', node='T', itemset=frozenset({'B', 'CB', 'M', 'MB'})),\n",
       " Supernode(room='Spore_Spawn', node='B', itemset=frozenset({'B', 'CB', 'M', 'MB'})),\n",
       " Supernode(room='Spore_Spawn', node='Spawn', itemset=frozenset({'B', 'CB', 'M', 'MB'})),\n",
       " Supernode(room='Spore_Spawn', node='Spawn', itemset=frozenset({'B', 'M', 'Spore_Spawn', 'MB', 'CB'})),\n",
       " Supernode(room='Spore_Spawn', node='R', itemset=frozenset({'B', 'M', 'Spore_Spawn', 'MB', 'CB'})),\n",
       " Supernode(room='Spore_Spawn_Supers', node='L1', itemset=frozenset({'B', 'M', 'Spore_Spawn', 'MB', 'CB'})),\n",
       " Supernode(room='Spore_Spawn_Supers', node='S', itemset=frozenset({'B', 'M', 'Spore_Spawn', 'MB', 'CB'})),\n",
       " Supernode(room='Spore_Spawn_Supers', node='S', itemset=frozenset({'S', 'B', 'M', 'Spore_Spawn', 'MB', 'CB'})),\n",
       " Supernode(room='Spore_Spawn_Supers', node='L2', itemset=frozenset({'S', 'B', 'M', 'Spore_Spawn', 'MB', 'CB'})),\n",
       " Supernode(room='Spore_Spawn_Farm', node='R', itemset=frozenset({'S', 'B', 'M', 'Spore_Spawn', 'MB', 'CB'})),\n",
       " Supernode(room='Spore_Spawn_Farm', node='L', itemset=frozenset({'S', 'B', 'M', 'Spore_Spawn', 'MB', 'CB'})),\n",
       " Supernode(room='Big_Pink', node='R3', itemset=frozenset({'S', 'B', 'M', 'Spore_Spawn', 'MB', 'CB'})),\n",
       " Supernode(room='Big_Pink', node='R4', itemset=frozenset({'S', 'B', 'M', 'Spore_Spawn', 'MB', 'CB'})),\n",
       " Supernode(room='Green_Hill_Zone', node='L', itemset=frozenset({'S', 'B', 'M', 'Spore_Spawn', 'MB', 'CB'})),\n",
       " Supernode(room='Green_Hill_Zone', node='R2', itemset=frozenset({'S', 'B', 'M', 'Spore_Spawn', 'MB', 'CB'})),\n",
       " Supernode(room='Noob_Bridge', node='L', itemset=frozenset({'S', 'B', 'M', 'Spore_Spawn', 'MB', 'CB'})),\n",
       " Supernode(room='Noob_Bridge', node='R', itemset=frozenset({'S', 'B', 'M', 'Spore_Spawn', 'MB', 'CB'})),\n",
       " Supernode(room='Red_Tower', node='L1', itemset=frozenset({'S', 'B', 'M', 'Spore_Spawn', 'MB', 'CB'})),\n",
       " Supernode(room='Red_Tower', node='R2', itemset=frozenset({'S', 'B', 'M', 'Spore_Spawn', 'MB', 'CB'})),\n",
       " Supernode(room='Bat_Room', node='L', itemset=frozenset({'S', 'B', 'M', 'Spore_Spawn', 'MB', 'CB'}))]"
      ]
     },
     "execution_count": 27,
     "metadata": {},
     "output_type": "execute_result"
    }
   ],
   "source": [
    "path[40:80]"
   ]
  },
  {
   "cell_type": "code",
   "execution_count": 37,
   "id": "9f8a45b2-e11e-4435-adb4-9983c49c5eae",
   "metadata": {},
   "outputs": [],
   "source": [
    "def abstractify_info(ram_data):\n",
    "    abstate = abstractify_state(ram_data, global_pos=True)\n",
    "    abboss = abstractify_boss_info(ram_data, offset=0x2000)\n",
    "    abstate.items = abstate.items | abboss\n",
    "    return abstate"
   ]
  },
  {
   "cell_type": "code",
   "execution_count": 29,
   "id": "61d7427c-4576-42a2-91fd-5498c6e1afee",
   "metadata": {},
   "outputs": [],
   "source": [
    "def estimate_node(ram_data):\n",
    "    abstate = abstractify_info(ram_data)\n",
    "    current_room_a = ram_data.view(\"uint16\")[0x79b // 2] >> 8\n",
    "    current_room_b = (ram_data.view(\"uint16\")[0x79c // 2] & 0x00ff) << 8\n",
    "    current_room = current_room_a | current_room_b\n",
    "    #dist, nearest_node = map_state_to_node(abstate, all_posns)\n",
    "    #print(abstate.position)\n",
    "    #print(dist, nearest_node)\n",
    "    # Find a nearby node in the current room\n",
    "    for node, pos in all_posns.items():\n",
    "        node_memaddr = node_memaddrs[node]\n",
    "        # Gaslighting: You're not \"at\" a node if we don't believe it exists...\n",
    "        # Prevents things like power bomb doors from screwing with things\n",
    "        if node_memaddr & 0xffff == current_room and abstate.position.euclidean(pos) < 5 and abstate_to_supernode((node, abstate.items)) in g:\n",
    "            return node\n",
    "    return None"
   ]
  },
  {
   "cell_type": "code",
   "execution_count": null,
   "id": "42d9d250-56be-40a5-8e08-084cf056a6c0",
   "metadata": {},
   "outputs": [
    {
     "name": "stdout",
     "output_type": "stream",
     "text": [
      "Player got new item: ISet(['B', 'M', 'MB', 'CB', 'E', 'Spore_Spawn'])\n",
      "Player at new node: Spore_Spawn_R\n",
      "Recomputing Path...\n",
      "Current_goal: Spore_Spawn_Supers_L1\n",
      "Player at new node: Spore_Spawn_Supers_L1\n",
      "Current_goal: Spore_Spawn_Supers_S\n",
      "Player at new node: Spore_Spawn_Supers_S\n",
      "Current_goal: Spore_Spawn_Supers_S\n",
      "Player got new item: ISet(['B', 'S', 'M', 'MB', 'CB', 'E', 'Spore_Spawn'])\n",
      "Current_goal: Spore_Spawn_Supers_L2\n",
      "Player at new node: Spore_Spawn_Supers_L2\n",
      "Current_goal: Spore_Spawn_Farm_R\n",
      "Player at new node: Spore_Spawn_Farm_R\n",
      "Current_goal: Spore_Spawn_Farm_L\n",
      "Player at new node: Spore_Spawn_Farm_L\n",
      "Current_goal: Big_Pink_R3\n",
      "Player at new node: Big_Pink_R3\n",
      "Current_goal: Big_Pink_R4\n",
      "Player at new node: Big_Pink_M2\n",
      "Recomputing Path...\n",
      "Current_goal: Big_Pink_R4\n",
      "Player at new node: Big_Pink_R4\n",
      "Current_goal: Green_Hill_Zone_L\n",
      "Player at new node: Green_Hill_Zone_L\n",
      "Current_goal: Green_Hill_Zone_R2\n",
      "Player at new node: Green_Hill_Zone_R2\n",
      "Current_goal: Noob_Bridge_L\n",
      "Player at new node: Noob_Bridge_L\n",
      "Current_goal: Noob_Bridge_R\n",
      "Player at new node: Noob_Bridge_R\n",
      "Current_goal: Red_Tower_L1\n",
      "Player at new node: Red_Tower_L1\n",
      "Current_goal: Red_Tower_R2\n",
      "Player at new node: Red_Tower_R2\n",
      "Current_goal: Bat_Room_L\n",
      "Player at new node: Bat_Room_L\n",
      "Current_goal: Bat_Room_R\n",
      "Player at new node: Bat_Room_R\n",
      "Current_goal: Spazer_Troll_L\n",
      "Player at new node: Spazer_Troll_L\n",
      "Current_goal: Spazer_Troll_R2\n",
      "Player at new node: Spazer_Troll_R1\n",
      "Recomputing Path...\n",
      "Current_goal: Spazer_Troll_R2\n",
      "Player at new node: Spazer_L\n",
      "Recomputing Path...\n",
      "Current_goal: Spazer_Troll_R1\n",
      "Player at new node: Spazer_Spazer\n",
      "Recomputing Path...\n",
      "Current_goal: Spazer_Spazer\n",
      "Player got new item: ISet(['B', 'S', 'M', 'MB', 'CB', 'E', 'Spazer', 'Spore_Spawn'])\n",
      "Current_goal: Spazer_L\n",
      "Player at new node: Spazer_L\n",
      "Current_goal: Spazer_Troll_R1\n",
      "Player at new node: Spazer_Troll_R1\n",
      "Current_goal: Spazer_Troll_R2\n",
      "Player at new node: Spazer_Troll_R2\n",
      "Current_goal: West_Tunnel_L\n",
      "Player at new node: West_Tunnel_L\n",
      "Current_goal: West_Tunnel_R\n",
      "Player at new node: West_Tunnel_R\n",
      "Current_goal: Glass_Tunnel_L\n",
      "Player at new node: Glass_Tunnel_L\n",
      "Current_goal: Glass_Tunnel_R1\n",
      "Player at new node: Glass_Tunnel_R1\n",
      "Current_goal: East_Tunnel_L\n",
      "Player at new node: East_Tunnel_L\n",
      "Current_goal: East_Tunnel_R2\n",
      "Player at new node: East_Tunnel_R2\n",
      "Current_goal: Warehouse_Entrance_L\n",
      "Player at new node: Warehouse_Entrance_L\n",
      "Current_goal: Warehouse_Entrance_R\n",
      "Player at new node: Warehouse_Entrance_R\n",
      "Current_goal: Warehouse_Zeelas_L1\n",
      "Player at new node: Warehouse_Zeelas_L1\n",
      "Current_goal: Warehouse_Zeelas_T\n",
      "Player at new node: Warehouse_Zeelas_T\n",
      "Current_goal: Warehouse_Kihunters_B\n",
      "Player at new node: Warehouse_Kihunters_R2\n",
      "Current_goal: Baby_Kraid_L\n",
      "Player at new node: Baby_Kraid_L\n",
      "Current_goal: Baby_Kraid_R\n",
      "Player at new node: Baby_Kraid_R\n",
      "Current_goal: Kraid_Eye_Door_L\n",
      "Player at new node: Kraid_Eye_Door_L\n",
      "Current_goal: Kraid_Eye_Door_R2\n",
      "Player at new node: Kraid_Eye_Door_R2\n",
      "Current_goal: Kraid_L\n",
      "Player at new node: Kraid_L\n",
      "Current_goal: Kraid_Kraid\n",
      "Player got new item: ISet(['B', 'S', 'M', 'MB', 'CB', 'E', 'Spazer', 'Kraid', 'Spore_Spawn'])\n",
      "Recomputing Path...\n",
      "Current_goal: Kraid_R\n",
      "Player at new node: Kraid_R\n",
      "Current_goal: Varia_Suit_L\n",
      "Player at new node: Varia_Suit_L\n",
      "Current_goal: Varia_Suit_V\n",
      "Player at new node: Varia_Suit_V\n",
      "Current_goal: Varia_Suit_V\n",
      "Player got new item: ISet(['B', 'S', 'M', 'V', 'MB', 'CB', 'E', 'Spazer', 'Kraid', 'Spore_Spawn'])\n",
      "Current_goal: Varia_Suit_L\n",
      "Player at new node: Varia_Suit_L\n",
      "Current_goal: Kraid_R\n",
      "Player at new node: Kraid_R\n",
      "Current_goal: Kraid_L\n",
      "Player at new node: Kraid_L\n",
      "Current_goal: Kraid_Eye_Door_R2\n",
      "Player at new node: Kraid_Eye_Door_R2\n",
      "Current_goal: Kraid_Eye_Door_L\n",
      "Player at new node: Kraid_Eye_Door_L\n",
      "Current_goal: Baby_Kraid_R\n",
      "Player at new node: Baby_Kraid_R\n",
      "Current_goal: Baby_Kraid_L\n",
      "Player at new node: Baby_Kraid_L\n",
      "Current_goal: Warehouse_Kihunters_R2\n",
      "Player at new node: Warehouse_Kihunters_R2\n",
      "Current_goal: Warehouse_Kihunters_B\n",
      "Player at new node: Warehouse_Kihunters_B\n",
      "Current_goal: Warehouse_Zeelas_T\n",
      "Player at new node: Warehouse_Zeelas_T\n",
      "Current_goal: Warehouse_Zeelas_L1\n",
      "Player at new node: Warehouse_Zeelas_L2\n",
      "Recomputing Path...\n",
      "Current_goal: Warehouse_Zeelas_L1\n",
      "Player at new node: Warehouse_Energy_R\n",
      "Recomputing Path...\n",
      "Current_goal: Warehouse_Zeelas_L2\n",
      "Player at new node: Warehouse_Energy_E\n",
      "Recomputing Path...\n",
      "Current_goal: Warehouse_Energy_R\n",
      "Player at new node: Warehouse_Energy_R\n",
      "Current_goal: Warehouse_Zeelas_L2\n",
      "Player at new node: Warehouse_Zeelas_L2\n",
      "Current_goal: Warehouse_Zeelas_L1\n",
      "Player at new node: Warehouse_Zeelas_L1\n",
      "Current_goal: Warehouse_Entrance_R\n",
      "Player at new node: Warehouse_Entrance_R\n",
      "Current_goal: Warehouse_Entrance_ET\n",
      "Player at new node: Warehouse_Entrance_ET\n",
      "Current_goal: Business_Center_EB\n",
      "Player at new node: Business_Center_EB\n",
      "Current_goal: Business_Center_L3\n",
      "Player at new node: Business_Center_L1\n",
      "Recomputing Path...\n",
      "Current_goal: Business_Center_L3\n",
      "Player at new node: Business_Center_L3\n",
      "Current_goal: Hi_Jump_Energy_R\n",
      "Player at new node: Hi_Jump_Energy_R\n",
      "Current_goal: Hi_Jump_Energy_L\n",
      "Player at new node: Hi_Jump_Energy_E\n",
      "Current_goal: Hi_Jump_Energy_L\n",
      "Player at new node: Hi_Jump_Energy_L\n",
      "Current_goal: Hi_Jump_R\n",
      "Player at new node: Hi_Jump_R\n",
      "Current_goal: Hi_Jump_HJ\n",
      "Player at new node: Hi_Jump_HJ\n",
      "Current_goal: Hi_Jump_HJ\n",
      "Player got new item: ISet(['B', 'S', 'M', 'V', 'HJ', 'MB', 'CB', 'E', 'Spazer', 'Kraid', 'Spore_Spawn'])\n",
      "Current_goal: Hi_Jump_R\n",
      "Player at new node: Hi_Jump_R\n",
      "Current_goal: Hi_Jump_Energy_L\n",
      "Player at new node: Hi_Jump_Energy_L\n",
      "Current_goal: Hi_Jump_Energy_R\n",
      "Player at new node: Hi_Jump_Energy_M\n",
      "Recomputing Path...\n",
      "Current_goal: Hi_Jump_Energy_R\n",
      "Player at new node: Hi_Jump_Energy_E\n",
      "Recomputing Path...\n",
      "Current_goal: Hi_Jump_Energy_R\n",
      "Player at new node: Hi_Jump_Energy_R\n",
      "Current_goal: Business_Center_L3\n",
      "Player at new node: Business_Center_L3\n",
      "Current_goal: Business_Center_R1\n",
      "Player at new node: Business_Center_R1\n",
      "Current_goal: Cathedral_Entrance_L\n",
      "Player at new node: Cathedral_Entrance_L\n",
      "Current_goal: Cathedral_Entrance_R\n",
      "Player at new node: Cathedral_Entrance_R\n",
      "Current_goal: Cathedral_L\n",
      "Player at new node: Cathedral_L\n",
      "Current_goal: Cathedral_R\n",
      "Player at new node: Cathedral_R\n",
      "Current_goal: Rising_Tide_L\n",
      "Player at new node: Rising_Tide_L\n",
      "Current_goal: Rising_Tide_R\n",
      "Player at new node: Rising_Tide_R\n",
      "Current_goal: Bubble_Mountain_L3\n",
      "Player at new node: Bubble_Mountain_L3\n",
      "Current_goal: Bubble_Mountain_R1\n",
      "Player at new node: Bubble_Mountain_L2\n",
      "Recomputing Path...\n",
      "Current_goal: Bubble_Mountain_R1\n"
     ]
    }
   ],
   "source": [
    "# X Only update position on door transition\n",
    "# ? Abstraction is room-aware\n",
    "# X Only update position when you're close to the node\n",
    "# Abstractify can handle bosses\n",
    "\n",
    "current_node = \"source\"\n",
    "current_goal = \"sink\"\n",
    "current_path = convert_path(path)\n",
    "current_itemset = ItemSet()\n",
    "update = False\n",
    "while True:\n",
    "    # Check our current node\n",
    "    ram_data = np.fromfile(\"../../Videogame-Retrieval/ram_snes9x.bin\", dtype=\"int16\")\n",
    "    abstate = abstractify_info(ram_data)\n",
    "    # Accurate itemset info\n",
    "    if abstate.items != current_itemset:\n",
    "        current_itemset = abstate.items\n",
    "        print(f\"Player got new item: {current_itemset}\")\n",
    "        update = True\n",
    "    # possibly inaccurate node info\n",
    "    node_estimate = estimate_node(ram_data)\n",
    "    # If the node may have changed\n",
    "    if node_estimate is not None:\n",
    "        if current_node != node_estimate:\n",
    "            print(f\"Player at new node: {node_estimate}\")\n",
    "            current_node = node_estimate\n",
    "            update = True\n",
    "    if update:\n",
    "        update = False\n",
    "        next_node = get_path_advice(abstate, current_path)\n",
    "        if next_node is not None:\n",
    "            print(f\"Current_goal: {next_node}\")\n",
    "        else:\n",
    "            print(\"Recomputing Path...\")\n",
    "            # Compute a new path\n",
    "            #TODO: Use estimate still to avoid e.g. spore_spawn_b\n",
    "            #TODO: what happens inf player got new item but node_estimate is None?\n",
    "            current_supernode = abstate_to_supernode((current_node, abstate.items))\n",
    "            current_path = convert_path(nx.shortest_path(g, current_supernode, current_goal))\n",
    "            next_node = get_path_advice(abstate, current_path)\n",
    "            print(f\"Current_goal: {next_node}\")\n",
    "        # Write out the new advice\n",
    "        if next_node in all_posns:\n",
    "            #print(\"YES\")\n",
    "            next_node_pos = all_posns[next_node]\n",
    "            advice = mk_advice(next_node_pos.x, next_node_pos.y)\n",
    "            f = open(\"../../Videogame-Retrieval/snes9x_bridge.lua\", \"w\")\n",
    "            f.write(advice)\n",
    "            f.close()\n",
    "    # Get the current advice\n",
    "    #     f = open(\"../../Videogame-Retrieval/snes9x_bridge.lua\", \"w\")\n",
    "    #     f.write(lua_fn.format(ss, ss))\n",
    "    #     f.close()\n",
    "    time.sleep(0.1)"
   ]
  },
  {
   "cell_type": "code",
   "execution_count": 158,
   "id": "957930af-74c5-4c95-94e8-7f5c2943ab79",
   "metadata": {},
   "outputs": [
    {
     "ename": "KeyboardInterrupt",
     "evalue": "",
     "output_type": "error",
     "traceback": [
      "\u001b[0;31m---------------------------------------------------------------------------\u001b[0m",
      "\u001b[0;31mKeyboardInterrupt\u001b[0m                         Traceback (most recent call last)",
      "File \u001b[0;32m<timed eval>:1\u001b[0m\n",
      "File \u001b[0;32m~/p38-env/lib/python3.8/site-packages/networkx/algorithms/shortest_paths/generic.py:165\u001b[0m, in \u001b[0;36mshortest_path\u001b[0;34m(G, source, target, weight, method)\u001b[0m\n\u001b[1;32m    162\u001b[0m \u001b[38;5;28;01melse\u001b[39;00m:\n\u001b[1;32m    163\u001b[0m     \u001b[38;5;66;03m# Find shortest source-target path.\u001b[39;00m\n\u001b[1;32m    164\u001b[0m     \u001b[38;5;28;01mif\u001b[39;00m method \u001b[38;5;241m==\u001b[39m \u001b[38;5;124m\"\u001b[39m\u001b[38;5;124munweighted\u001b[39m\u001b[38;5;124m\"\u001b[39m:\n\u001b[0;32m--> 165\u001b[0m         paths \u001b[38;5;241m=\u001b[39m \u001b[43mnx\u001b[49m\u001b[38;5;241;43m.\u001b[39;49m\u001b[43mbidirectional_shortest_path\u001b[49m\u001b[43m(\u001b[49m\u001b[43mG\u001b[49m\u001b[43m,\u001b[49m\u001b[43m \u001b[49m\u001b[43msource\u001b[49m\u001b[43m,\u001b[49m\u001b[43m \u001b[49m\u001b[43mtarget\u001b[49m\u001b[43m)\u001b[49m\n\u001b[1;32m    166\u001b[0m     \u001b[38;5;28;01melif\u001b[39;00m method \u001b[38;5;241m==\u001b[39m \u001b[38;5;124m\"\u001b[39m\u001b[38;5;124mdijkstra\u001b[39m\u001b[38;5;124m\"\u001b[39m:\n\u001b[1;32m    167\u001b[0m         _, paths \u001b[38;5;241m=\u001b[39m nx\u001b[38;5;241m.\u001b[39mbidirectional_dijkstra(G, source, target, weight)\n",
      "File \u001b[0;32m~/p38-env/lib/python3.8/site-packages/networkx/algorithms/shortest_paths/unweighted.py:224\u001b[0m, in \u001b[0;36mbidirectional_shortest_path\u001b[0;34m(G, source, target)\u001b[0m\n\u001b[1;32m    221\u001b[0m     \u001b[38;5;28;01mraise\u001b[39;00m nx\u001b[38;5;241m.\u001b[39mNodeNotFound(msg)\n\u001b[1;32m    223\u001b[0m \u001b[38;5;66;03m# call helper to do the real work\u001b[39;00m\n\u001b[0;32m--> 224\u001b[0m results \u001b[38;5;241m=\u001b[39m \u001b[43m_bidirectional_pred_succ\u001b[49m\u001b[43m(\u001b[49m\u001b[43mG\u001b[49m\u001b[43m,\u001b[49m\u001b[43m \u001b[49m\u001b[43msource\u001b[49m\u001b[43m,\u001b[49m\u001b[43m \u001b[49m\u001b[43mtarget\u001b[49m\u001b[43m)\u001b[49m\n\u001b[1;32m    225\u001b[0m pred, succ, w \u001b[38;5;241m=\u001b[39m results\n\u001b[1;32m    227\u001b[0m \u001b[38;5;66;03m# build path from pred+w+succ\u001b[39;00m\n",
      "File \u001b[0;32m~/p38-env/lib/python3.8/site-packages/networkx/algorithms/shortest_paths/unweighted.py:275\u001b[0m, in \u001b[0;36m_bidirectional_pred_succ\u001b[0;34m(G, source, target)\u001b[0m\n\u001b[1;32m    273\u001b[0m forward_fringe \u001b[38;5;241m=\u001b[39m []\n\u001b[1;32m    274\u001b[0m \u001b[38;5;28;01mfor\u001b[39;00m v \u001b[38;5;129;01min\u001b[39;00m this_level:\n\u001b[0;32m--> 275\u001b[0m     \u001b[38;5;28;01mfor\u001b[39;00m w \u001b[38;5;129;01min\u001b[39;00m \u001b[43mGsucc\u001b[49m\u001b[43m[\u001b[49m\u001b[43mv\u001b[49m\u001b[43m]\u001b[49m:\n\u001b[1;32m    276\u001b[0m         \u001b[38;5;28;01mif\u001b[39;00m w \u001b[38;5;129;01mnot\u001b[39;00m \u001b[38;5;129;01min\u001b[39;00m pred:\n\u001b[1;32m    277\u001b[0m             forward_fringe\u001b[38;5;241m.\u001b[39mappend(w)\n",
      "File \u001b[0;32m~/p38-env/lib/python3.8/site-packages/networkx/classes/coreviews.py:82\u001b[0m, in \u001b[0;36mAdjacencyView.__getitem__\u001b[0;34m(self, name)\u001b[0m\n\u001b[1;32m     81\u001b[0m \u001b[38;5;28;01mdef\u001b[39;00m \u001b[38;5;21m__getitem__\u001b[39m(\u001b[38;5;28mself\u001b[39m, name):\n\u001b[0;32m---> 82\u001b[0m     \u001b[38;5;28;01mreturn\u001b[39;00m AtlasView(\u001b[38;5;28;43mself\u001b[39;49m\u001b[38;5;241;43m.\u001b[39;49m\u001b[43m_atlas\u001b[49m\u001b[43m[\u001b[49m\u001b[43mname\u001b[49m\u001b[43m]\u001b[49m)\n",
      "\u001b[0;31mKeyboardInterrupt\u001b[0m: "
     ]
    }
   ],
   "source": [
    "%%time\n",
    "nx.shortest_path(g, current_supernode, current_goal)"
   ]
  },
  {
   "cell_type": "code",
   "execution_count": 157,
   "id": "c7b055a0-37c2-4f5d-9359-692bbcd10d7b",
   "metadata": {},
   "outputs": [
    {
     "name": "stderr",
     "output_type": "stream",
     "text": [
      "\n",
      "KeyboardInterrupt\n",
      "\n"
     ]
    }
   ],
   "source": [
    "%%time\n",
    "nx.shortest_path(g,source,sink)"
   ]
  },
  {
   "cell_type": "code",
   "execution_count": 53,
   "id": "104ad5cc-e016-4a09-ba53-b0e8fa2c305c",
   "metadata": {},
   "outputs": [],
   "source": [
    "ram_data = np.fromfile(\"../../Videogame-Retrieval/ram_snes9x.bin\", dtype=\"int16\")\n",
    "a = abstractify_info(ram_data)"
   ]
  },
  {
   "cell_type": "code",
   "execution_count": 55,
   "id": "8f6a39b1-3f8b-41dc-8487-71a2dcce9271",
   "metadata": {},
   "outputs": [
    {
     "data": {
      "text/plain": [
       "(c(1111,568)|V: 0, H: RUN, 0|STAND|ISet(['B', 'PB', 'S', 'M', 'V', 'GS', 'SB', 'HJ', 'MB', 'CB', 'WB', 'E', 'Spazer', 'IB', 'Kraid', 'Phantoon', 'Botwoon', 'Spore_Spawn', 'Ceres_Ridley']))"
      ]
     },
     "execution_count": 55,
     "metadata": {},
     "output_type": "execute_result"
    }
   ],
   "source": [
    "a"
   ]
  },
  {
   "cell_type": "code",
   "execution_count": null,
   "id": "151b1fa5-f780-4303-9af1-6cbe222e55b3",
   "metadata": {},
   "outputs": [],
   "source": []
  }
 ],
 "metadata": {
  "kernelspec": {
   "display_name": "p38-env",
   "language": "python",
   "name": "p38-env"
  },
  "language_info": {
   "codemirror_mode": {
    "name": "ipython",
    "version": 3
   },
   "file_extension": ".py",
   "mimetype": "text/x-python",
   "name": "python",
   "nbconvert_exporter": "python",
   "pygments_lexer": "ipython3",
   "version": "3.8.15"
  }
 },
 "nbformat": 4,
 "nbformat_minor": 5
}

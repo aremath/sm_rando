{
 "cells": [
  {
   "cell_type": "code",
   "execution_count": 1,
   "id": "cf1e9351-2b28-404c-8b6a-ade520448b0f",
   "metadata": {},
   "outputs": [
    {
     "name": "stdout",
     "output_type": "stream",
     "text": [
      "%pylab is deprecated, use %matplotlib inline and import the required libraries.\n",
      "Populating the interactive namespace from numpy and matplotlib\n"
     ]
    }
   ],
   "source": [
    "%load_ext autoreload\n",
    "%autoreload 2\n",
    "%pylab inline"
   ]
  },
  {
   "cell_type": "code",
   "execution_count": 2,
   "id": "7b5523ea-23f8-4a73-83c0-44390cb61e83",
   "metadata": {},
   "outputs": [],
   "source": [
    "# Item Rando:\n",
    "# 26 'randomizeable' items\n",
    "# 100 'randomizeable' drop locations\n",
    "# idea 1: location : item_id\n",
    "# ~ 500 bits (locations * log(items))\n",
    "# idea 2: item : location_id\n",
    "# ~ 700 bits (locations * log(locations))\n",
    "# idea 3: location : common_item_id\n",
    "# major_item : location_id\n",
    "# 300 bits + 126 bits"
   ]
  },
  {
   "cell_type": "code",
   "execution_count": 3,
   "id": "c10574f2-728b-4af2-a352-0160187f3fad",
   "metadata": {},
   "outputs": [],
   "source": [
    "# Door Rando:\n",
    "# ~550 doors\n",
    "# idea 1: door: door_id\n",
    "# 550 * log(550) = 5500 bits\n",
    "# idea 2: left_door : right_door_id\n",
    "# top_door : bottom_door_id\n",
    "# 225 * log(225) = 2040\n",
    "# idea 3:\n",
    "# X, Y\n",
    "# overworld is ~ 128 x 128\n",
    "# 14 bits per room * 255 rooms = 3570"
   ]
  },
  {
   "cell_type": "code",
   "execution_count": 4,
   "id": "06f0650f-b0d9-4180-b56b-b8669cc34087",
   "metadata": {},
   "outputs": [],
   "source": [
    "import sys\n",
    "sys.path.append(\"..\")"
   ]
  },
  {
   "cell_type": "code",
   "execution_count": 5,
   "id": "d1517bbc-da8e-4742-b381-1713532c5a49",
   "metadata": {},
   "outputs": [],
   "source": [
    "from encoding.parse_rooms import parse_rooms, parse_exits, dictify_rooms"
   ]
  },
  {
   "cell_type": "code",
   "execution_count": 6,
   "id": "07524a37-0682-49dc-be8c-41361563f68a",
   "metadata": {},
   "outputs": [],
   "source": [
    "from functools import cache"
   ]
  },
  {
   "cell_type": "code",
   "execution_count": 7,
   "id": "07b8f023-afa1-4048-8aab-bddb9e9ace27",
   "metadata": {},
   "outputs": [],
   "source": [
    "rooms = parse_rooms(\"../encoding/dsl/rooms_for_alloy.txt\")\n",
    "exits = parse_exits(\"../encoding/dsl/exits_for_alloy.txt\")\n",
    "design = dictify_rooms(rooms, exits)"
   ]
  },
  {
   "cell_type": "code",
   "execution_count": 8,
   "id": "63cfc12d-24ae-48b4-bafd-354f7fd72939",
   "metadata": {},
   "outputs": [],
   "source": [
    "from rom_tools.rom_manager import RomManager\n",
    "from abstraction_validation.sm_paths import *"
   ]
  },
  {
   "cell_type": "code",
   "execution_count": 9,
   "id": "e1970e37-5201-48f9-af14-8d0a9c0beff9",
   "metadata": {},
   "outputs": [],
   "source": [
    "from bdds.bdd_core import *\n",
    "from bdds.node_bdds import *"
   ]
  },
  {
   "cell_type": "code",
   "execution_count": 10,
   "id": "d686007f-c4a9-4b8a-9400-cdc39a78d8ac",
   "metadata": {},
   "outputs": [],
   "source": [
    "from functools import reduce"
   ]
  },
  {
   "cell_type": "code",
   "execution_count": 11,
   "id": "f0a2a9b3-cc0f-4013-8967-e5aed68f5d6d",
   "metadata": {},
   "outputs": [],
   "source": [
    "all_nodes = []\n",
    "for r, room in rooms.items():\n",
    "    for node in room.graph.name_node.keys():\n",
    "        all_nodes.append(node)\n",
    "node_ids = {n:i for i,n in enumerate(all_nodes)}"
   ]
  },
  {
   "cell_type": "code",
   "execution_count": 12,
   "id": "befb2274-6f9b-4a00-b6c7-371cca8ce2bf",
   "metadata": {},
   "outputs": [],
   "source": [
    "# Issue with design translation via chopping off the last _\n",
    "node_ids[\"Spore_Spawn_Spawn\"] = node_ids[\"Spore_Spawn_Spore_Spawn\"]\n",
    "node_ids[\"Golden_Torizo_Torizo\"] = node_ids[\"Golden_Torizo_Golden_Torizo\"]\n",
    "node_ids[\"Mother_Brain_Brain\"] = node_ids[\"Mother_Brain_Mother_Brain\"]"
   ]
  },
  {
   "cell_type": "code",
   "execution_count": 13,
   "id": "cc1db031-03ae-4414-b26d-da31ad8a6523",
   "metadata": {},
   "outputs": [],
   "source": [
    "def loc_id(room_name, node_name, when=\"prev\"):\n",
    "    node_id = node_ids[f\"{room_name}_{node_name}\"]\n",
    "    return f\"node_id_{when} = {node_id}\""
   ]
  },
  {
   "cell_type": "code",
   "execution_count": 14,
   "id": "508fb7fd-a67e-4fc4-8423-a4ca5cbf77e3",
   "metadata": {},
   "outputs": [],
   "source": [
    "rando_items = [\"B\", \"MB\", \"PB\", \"SPB\", \"S\", \"M\", \"G\", \"SA\", \"V\", \"GS\", \"SB\", \"HJ\", \"CB\", \"WB\", \"E\", \"PLB\", \"Spazer\", \"RT\", \"XR\", \"IB\", \"SJ\"]\n",
    "# TODO: which items are unique?"
   ]
  },
  {
   "cell_type": "code",
   "execution_count": 15,
   "id": "458e7fd2-b06a-40f8-b794-8b037e67dc6a",
   "metadata": {},
   "outputs": [
    {
     "data": {
      "text/plain": [
       "21"
      ]
     },
     "execution_count": 15,
     "metadata": {},
     "output_type": "execute_result"
    }
   ],
   "source": [
    "len(rando_items)"
   ]
  },
  {
   "cell_type": "code",
   "execution_count": 16,
   "id": "4a6d3ac2-df4f-4be7-bbe7-01f27dadb1e4",
   "metadata": {},
   "outputs": [],
   "source": [
    "context_id = mk_context_id(node_ids)"
   ]
  },
  {
   "cell_type": "code",
   "execution_count": 17,
   "id": "02d6b5df-4c87-4b04-b5dc-47b1a14c6287",
   "metadata": {},
   "outputs": [],
   "source": [
    "#TODO: make this more efficient\n",
    "@cache\n",
    "def item_transitions(item_gained=None):\n",
    "    if item_gained is None:\n",
    "        return \"(items_unchanged)\"\n",
    "    clauses = []\n",
    "    for i in design[\"Items\"] | design[\"Bosses\"]:\n",
    "        if i == item_gained:\n",
    "            clause = f\"{i}_prev < {i}_next\"\n",
    "        else:\n",
    "            clause = f\"{i}_prev = {i}_next\"\n",
    "        clauses.append(clause)\n",
    "    return \" & \".join(clauses)\n",
    "\n",
    "def itemset_to_str(itemset):\n",
    "    if len(itemset) == 0:\n",
    "        return \"TRUE\"\n",
    "    else:\n",
    "        return \" & \".join([f\"{item}_prev = 1\" for item in itemset])\n",
    "\n",
    "def required_itemsets(itemsets):\n",
    "    return \"(\" + \" | \".join([itemset_to_str(itemset) for itemset in itemsets]) + \")\"\n",
    "\n",
    "def rando_transitions(room_name, node_name):\n",
    "    t = context_id.false\n",
    "    node_name = room_name + \"_\" + node_name\n",
    "    drop_name = f\"drop_{node_name}\"\n",
    "    for i,item in enumerate(rando_items):\n",
    "        t |= context_id.add_expr(f\"{drop_name} = {i}\") & context_id.add_expr(item_transitions(item))\n",
    "        #t |= context.add_expr(f\"{drop_name} = {i} &\" + item_transitions(item))\n",
    "    return t"
   ]
  },
  {
   "cell_type": "code",
   "execution_count": 18,
   "id": "4e678603-cd04-411e-81c4-6f1db0484b1f",
   "metadata": {},
   "outputs": [],
   "source": [
    "drop_nodes = []\n",
    "for room_name, room in design[\"Rooms\"].items():\n",
    "    for node_name, d in room[\"Drops\"].items():\n",
    "        if d in rando_items:\n",
    "            drop_nodes.append(room_name + \"_\" + node_name)"
   ]
  },
  {
   "cell_type": "code",
   "execution_count": 19,
   "id": "7cb144d8-38b3-41d8-83a8-eba5bcbe0966",
   "metadata": {},
   "outputs": [],
   "source": [
    "assert len(drop_nodes) == 100"
   ]
  },
  {
   "cell_type": "code",
   "execution_count": 20,
   "id": "0662a34f-5bb4-41d9-bff7-26e9abb1d770",
   "metadata": {},
   "outputs": [],
   "source": [
    "major_item_nodes = []\n",
    "for room_name, room in design[\"Rooms\"].items():\n",
    "    for node_name, d in room[\"Drops\"].items():\n",
    "        if d in rando_items:\n",
    "            drop_nodes.append(room_name + \"_\" + node_name)"
   ]
  },
  {
   "cell_type": "code",
   "execution_count": 21,
   "id": "c5e913a9-9c01-452b-8c4d-b76a9af5c63d",
   "metadata": {},
   "outputs": [],
   "source": [
    "#limit design freedom by setting a limited number of locations\n",
    "#drop_nodes = [\"Bomb_Torizo_Bombs\", \"Big_Pink_M2\"]\n",
    "n_randomizeable_drops = 4\n",
    "drop_nodes = drop_nodes[:n_randomizeable_drops]\n",
    "#drop_nodes = []"
   ]
  },
  {
   "cell_type": "code",
   "execution_count": 22,
   "id": "13c2aedb-d9d9-4779-9c20-e57192d7657e",
   "metadata": {},
   "outputs": [],
   "source": [
    "design_vars = {\n",
    "    f\"drop_{node}\": (0,len(rando_items)-1) for node in drop_nodes\n",
    "}"
   ]
  },
  {
   "cell_type": "code",
   "execution_count": 23,
   "id": "3c2cb56f-1783-4c0a-a330-601af2660a90",
   "metadata": {},
   "outputs": [],
   "source": [
    "if len(design_vars) > 0:\n",
    "    context_id.declare(**design_vars)"
   ]
  },
  {
   "cell_type": "code",
   "execution_count": 24,
   "id": "9a1db6d5-e780-4c76-bf75-2ae52e0cfcb3",
   "metadata": {},
   "outputs": [],
   "source": [
    "def combine_bdd_group(bdds):\n",
    "    return reduce(lambda x,y: x|y, bdds, context_id.false)"
   ]
  },
  {
   "cell_type": "code",
   "execution_count": 25,
   "id": "48dad517-68c0-4909-a710-e69de1c30221",
   "metadata": {},
   "outputs": [
    {
     "name": "stderr",
     "output_type": "stream",
     "text": [
      "100%|█████████████████████████████████████████████████████████████████████████████████| 255/255 [00:13<00:00, 18.36it/s]\n"
     ]
    }
   ],
   "source": [
    "# Build individual BDDs\n",
    "room_bdds = []\n",
    "door_bdds = []\n",
    "for room_name, room in tqdm(design['Rooms'].items()):\n",
    "    links = []\n",
    "    for node_name in room['Nodes']:\n",
    "        s = loc_id(room_name, node_name) + \" & \" + loc_id(room_name, node_name, when=\"next\") + \" & \" + item_transitions()\n",
    "        links.append(context_id.add_expr(s, with_ops=True))\n",
    "        if node_name in room['Drops']:\n",
    "            if room_name + \"_\" + node_name in drop_nodes:\n",
    "                s = context_id.add_expr(loc_id(room_name, node_name) + \" & \" + loc_id(room_name, node_name, when=\"next\")) & rando_transitions(room_name, node_name)\n",
    "            else:\n",
    "                s = context_id.add_expr(loc_id(room_name, node_name) + \" & \" + loc_id(room_name, node_name, when=\"next\") + \" & \" + item_transitions(room['Drops'][node_name]), with_ops=True)\n",
    "            links.append(s)\n",
    "    for node_name, door in room['Doors'].items():\n",
    "        d = loc_id(room_name, node_name) + \" & \" + loc_id(door['Room'], door['Node'], when=\"next\") + \" & \" + item_transitions()\n",
    "        door_bdds.append(context_id.add_expr(d, with_ops=True))\n",
    "    for node_name, edges in room['Edges'].items():\n",
    "        for edge in edges:\n",
    "            other_node_name = edge['Terminal']\n",
    "            s = loc_id(room_name, node_name) + \" & \" + loc_id(room_name, other_node_name, when=\"next\") + \" & \" + required_itemsets(edge['Requirements']) + \" & \" + item_transitions()\n",
    "            links.append(context_id.add_expr(s, with_ops=True))\n",
    "    room_bdd = combine_bdd_group(links)\n",
    "    #print(room_bdd.count())\n",
    "    room_bdds.append(room_bdd)"
   ]
  },
  {
   "cell_type": "code",
   "execution_count": 26,
   "id": "4b23699f-32d7-4576-b58b-276fa84bfc08",
   "metadata": {},
   "outputs": [],
   "source": [
    "doors_bdd = combine_bdd_group(door_bdds)\n",
    "rooms_bdd = combine_bdd_group(room_bdds)\n",
    "all_bdd = doors_bdd | rooms_bdd"
   ]
  },
  {
   "cell_type": "code",
   "execution_count": 27,
   "id": "0db431bb-d11c-475f-8468-ce34463ef982",
   "metadata": {},
   "outputs": [
    {
     "data": {
      "text/plain": [
       "20301"
      ]
     },
     "execution_count": 27,
     "metadata": {},
     "output_type": "execute_result"
    }
   ],
   "source": [
    "all_bdd.dag_size"
   ]
  },
  {
   "cell_type": "code",
   "execution_count": 28,
   "id": "efb66e25-881d-4021-8d1a-51418ed3ac82",
   "metadata": {},
   "outputs": [
    {
     "data": {
      "text/plain": [
       "349.0"
      ]
     },
     "execution_count": 28,
     "metadata": {},
     "output_type": "execute_result"
    }
   ],
   "source": [
    "all_bdd.count()\n",
    "context_id.exist(prevs, all_bdd).count()"
   ]
  },
  {
   "cell_type": "code",
   "execution_count": 29,
   "id": "79b76e80-b250-422c-b6d0-ffd2b784a272",
   "metadata": {},
   "outputs": [
    {
     "data": {
      "text/plain": [
       "112"
      ]
     },
     "execution_count": 29,
     "metadata": {},
     "output_type": "execute_result"
    }
   ],
   "source": [
    "len(all_bdd.support)"
   ]
  },
  {
   "cell_type": "code",
   "execution_count": 30,
   "id": "7ef1add4-180f-4318-b787-9cb32e09f785",
   "metadata": {},
   "outputs": [],
   "source": [
    "def get_reachable_id(trans_norule, context, start_bdd):\n",
    "    n = 0\n",
    "    covered_p = start_bdd\n",
    "    covered_last_p = context.false\n",
    "    while covered_p != covered_last_p:\n",
    "        covered_last_p = covered_p\n",
    "        fringe_n = context.exist(prevs, covered_p & trans_norule)\n",
    "        covered_p |= context.let(next_to_prev, fringe_n)\n",
    "        print(n, covered_p.dag_size)\n",
    "        n+=1\n",
    "    return covered_p"
   ]
  },
  {
   "cell_type": "code",
   "execution_count": 31,
   "id": "ee3f1b56-78d3-465d-93c4-b06872f06092",
   "metadata": {},
   "outputs": [],
   "source": [
    "def mk_closure(trans, context, max_steps=float(\"inf\")):\n",
    "    n = 0\n",
    "    closure = trans\n",
    "    closure_last = context.false\n",
    "    while closure != closure_last and n < max_steps:\n",
    "        closure_last = closure\n",
    "        closure_prev_temp = context.let(next_to_temp, closure_last)\n",
    "        closure_temp_next = context.let(prev_to_temp, closure_last)\n",
    "        closure |= context.exist(temps, closure_prev_temp & closure_temp_next)\n",
    "        print(n, closure.dag_size)\n",
    "        n+=1\n",
    "    closure_square = closure\n",
    "    return closure_square"
   ]
  },
  {
   "cell_type": "code",
   "execution_count": 32,
   "id": "f45b5f69-38f0-490d-843a-bf153feee15f",
   "metadata": {},
   "outputs": [],
   "source": [
    "from data_types import item_set"
   ]
  },
  {
   "cell_type": "code",
   "execution_count": 33,
   "id": "d1110598-961a-4dba-b068-dad4f294d30c",
   "metadata": {},
   "outputs": [],
   "source": [
    "def mk_itemset_expr(itemset, when=\"prev\"):\n",
    "    clauses = []\n",
    "    for i in item_mapping:\n",
    "        if i in itemset:\n",
    "            clause = f\"{i}_{when} = 1\"\n",
    "        else:\n",
    "            clause = f\"{i}_{when} = 0\"\n",
    "        clauses.append(clause)\n",
    "    return \" & \".join(clauses)"
   ]
  },
  {
   "cell_type": "code",
   "execution_count": 34,
   "id": "4957a273-8288-444b-af8e-e4d804315009",
   "metadata": {},
   "outputs": [],
   "source": [
    "start_bdd = context_id.add_expr(\"node_id_prev = 0 & \" + mk_itemset_expr(item_set.ItemSet()))"
   ]
  },
  {
   "cell_type": "code",
   "execution_count": 35,
   "id": "c60cff79-d21e-4820-b3c6-8423694f03f0",
   "metadata": {},
   "outputs": [],
   "source": [
    "all_items_bad = context_id.true\n",
    "for drop in design_vars.keys():\n",
    "    all_items_bad &= context_id.add_expr(f\"{drop} < 4\")"
   ]
  },
  {
   "cell_type": "code",
   "execution_count": 36,
   "id": "f2bdd334-0c26-4478-84ea-dd0c126485f3",
   "metadata": {},
   "outputs": [
    {
     "data": {
      "text/plain": [
       "{'reordering': False,\n",
       " 'garbage_collection': True,\n",
       " 'max_memory': 18446744073709551615,\n",
       " 'loose_up_to': 6710886,\n",
       " 'max_cache_soft': 6716416,\n",
       " 'max_cache_hard': 4294967295,\n",
       " 'min_hit': 30,\n",
       " 'max_growth': 1.2,\n",
       " 'max_swaps': 2000000,\n",
       " 'max_vars': 1000}"
      ]
     },
     "execution_count": 36,
     "metadata": {},
     "output_type": "execute_result"
    }
   ],
   "source": [
    "context_id.bdd.configure()"
   ]
  },
  {
   "cell_type": "code",
   "execution_count": 37,
   "id": "4d18c59e-2176-4659-98f6-f40da4bf0bbb",
   "metadata": {},
   "outputs": [
    {
     "data": {
      "text/plain": [
       "64.0"
      ]
     },
     "execution_count": 37,
     "metadata": {},
     "output_type": "execute_result"
    }
   ],
   "source": [
    "log2(18446744073709551615)"
   ]
  },
  {
   "cell_type": "code",
   "execution_count": 38,
   "id": "872f49e3-087a-4993-bfac-983003dbcf98",
   "metadata": {},
   "outputs": [
    {
     "name": "stdout",
     "output_type": "stream",
     "text": [
      "0 40125\n",
      "1 144756\n",
      "2 641828\n",
      "CPU times: user 5.3 s, sys: 56.6 ms, total: 5.36 s\n",
      "Wall time: 5.34 s\n"
     ]
    }
   ],
   "source": [
    "%%time\n",
    "all_bdd_fast = mk_closure(all_bdd, context_id, 3)"
   ]
  },
  {
   "cell_type": "code",
   "execution_count": null,
   "id": "0bae6384-dd25-4dc8-8a18-0a523dc420c9",
   "metadata": {},
   "outputs": [
    {
     "name": "stdout",
     "output_type": "stream",
     "text": [
      "0 60\n",
      "1 109\n",
      "2 149\n",
      "3 146\n",
      "4 120\n",
      "5 155\n",
      "6 168\n",
      "7 232\n",
      "8 358\n",
      "9 349\n",
      "10 444\n",
      "11 480\n",
      "12 622\n",
      "13 748\n",
      "14 868\n",
      "15 756\n",
      "16 801\n",
      "17 803\n",
      "18 909\n",
      "19 1207\n",
      "20 1250\n",
      "21 1483\n",
      "22 1720\n",
      "23 2117\n",
      "24 2616\n",
      "25 3030\n",
      "26 3843\n",
      "27 5145\n",
      "28 8407\n",
      "29 11779\n",
      "30 27695\n",
      "31 42693\n",
      "32 85790\n",
      "33 153107\n",
      "34 243871\n",
      "35 348040\n",
      "36 485502\n",
      "37 607904\n",
      "38 682856\n",
      "39 759656\n",
      "40 851768\n",
      "41 1001711\n",
      "42 1200435\n",
      "43 1466865\n",
      "44 1798421\n",
      "45 2104724\n",
      "46 2400788\n",
      "47 2626458\n",
      "48 2786398\n",
      "49 2944182\n",
      "50 3042159\n",
      "51 3157035\n",
      "52 3253476\n",
      "53 3434676\n",
      "54 3619014\n",
      "55 3709492\n",
      "56 3682242\n",
      "57 3481154\n"
     ]
    }
   ],
   "source": [
    "%%time\n",
    "reachable = get_reachable_id(all_bdd_fast, context_id, start_bdd)"
   ]
  },
  {
   "cell_type": "code",
   "execution_count": null,
   "id": "2971d3c4-39f8-411d-bfaf-6c9e4eb22def",
   "metadata": {},
   "outputs": [],
   "source": [
    "#TODO: Iterative Squaring"
   ]
  },
  {
   "cell_type": "code",
   "execution_count": null,
   "id": "2d9e9986-365f-403a-84ea-3e4a87ce745e",
   "metadata": {},
   "outputs": [],
   "source": [
    "end_reachable = context_id.add_expr(\"node_id_prev = 1\")"
   ]
  },
  {
   "cell_type": "code",
   "execution_count": null,
   "id": "e8cd958c-651f-499d-920a-ca65cb8dfa4a",
   "metadata": {},
   "outputs": [],
   "source": [
    "g_wo_s = context_id.add_expr(\"G_prev = 1 & S_prev = 0\")"
   ]
  },
  {
   "cell_type": "code",
   "execution_count": null,
   "id": "4c9c0d7e-2358-4144-ac6f-22ae3f82b9ff",
   "metadata": {},
   "outputs": [],
   "source": [
    "(end_reachable & reachable).count()"
   ]
  },
  {
   "cell_type": "code",
   "execution_count": null,
   "id": "b28c973b-e374-46ec-a91b-76e3158a819e",
   "metadata": {},
   "outputs": [],
   "source": [
    "#TODO: ensure no invalid node ids"
   ]
  },
  {
   "cell_type": "code",
   "execution_count": null,
   "id": "1b963959-b876-46a2-bc39-e34a207cf76b",
   "metadata": {},
   "outputs": [],
   "source": [
    "get_g_wo_s = context_id.exist(prevs, reachable & g_wo_s)\n",
    "get_end = context_id.exist(prevs, reachable & end_reachable)"
   ]
  },
  {
   "cell_type": "code",
   "execution_count": null,
   "id": "97f81992-8264-4263-8168-bfa88a0b2ff1",
   "metadata": {},
   "outputs": [],
   "source": [
    "(get_g_wo_s & get_end).dag_size"
   ]
  },
  {
   "cell_type": "code",
   "execution_count": null,
   "id": "2bd2f459-2f44-4c31-9750-a24f4fd61c70",
   "metadata": {},
   "outputs": [],
   "source": [
    "for sol in context_id.pick_iter(get_g_wo_s & get_end):\n",
    "    td = {}\n",
    "    for k,v in sol.items():\n",
    "        if v < len(rando_items):\n",
    "            td[k] = rando_items[v]\n",
    "        else:\n",
    "            td[k] = v\n",
    "    print(td)"
   ]
  },
  {
   "cell_type": "code",
   "execution_count": null,
   "id": "d328be21-f036-48e7-b862-2695a5ccc199",
   "metadata": {},
   "outputs": [],
   "source": [
    "# Gaussian distribution over shortest path times\n",
    "# Action n-grams\n",
    "# Major/Minor rando\n",
    "# nx.draw layout"
   ]
  },
  {
   "cell_type": "code",
   "execution_count": null,
   "id": "f29aaccb-67f9-44b8-9cc8-db3b53b8f6e6",
   "metadata": {},
   "outputs": [],
   "source": [
    "#TODO: Region-based or item-collection based cuts\n",
    "# Saturate the space ahead-of-time"
   ]
  }
 ],
 "metadata": {
  "kernelspec": {
   "display_name": "Python 3 (ipykernel)",
   "language": "python",
   "name": "python3"
  },
  "language_info": {
   "codemirror_mode": {
    "name": "ipython",
    "version": 3
   },
   "file_extension": ".py",
   "mimetype": "text/x-python",
   "name": "python",
   "nbconvert_exporter": "python",
   "pygments_lexer": "ipython3",
   "version": "3.10.12"
  }
 },
 "nbformat": 4,
 "nbformat_minor": 5
}

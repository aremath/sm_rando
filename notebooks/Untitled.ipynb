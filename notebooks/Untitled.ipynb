{
 "cells": [
  {
   "cell_type": "code",
   "execution_count": 2,
   "id": "a4507717-ccba-4b9b-94f6-af2e9f025371",
   "metadata": {},
   "outputs": [
    {
     "name": "stdout",
     "output_type": "stream",
     "text": [
      "Populating the interactive namespace from numpy and matplotlib\n"
     ]
    }
   ],
   "source": [
    "%pylab inline"
   ]
  },
  {
   "cell_type": "code",
   "execution_count": 3,
   "id": "95c0705c-09ff-4648-ab0f-b83bf992a815",
   "metadata": {},
   "outputs": [
    {
     "data": {
      "text/plain": [
       "2.536"
      ]
     },
     "execution_count": 3,
     "metadata": {},
     "output_type": "execute_result"
    }
   ],
   "source": [
    "np.mean([2.78, 2.58, 2.41, 2.41, 2.50])"
   ]
  },
  {
   "cell_type": "code",
   "execution_count": 4,
   "id": "ef1f475d-1ffc-4b98-a07e-63e0ed9865b7",
   "metadata": {},
   "outputs": [
    {
     "data": {
      "text/plain": [
       "12.06"
      ]
     },
     "execution_count": 4,
     "metadata": {},
     "output_type": "execute_result"
    }
   ],
   "source": [
    "np.mean([16.5, 11.6, 9.8, 10.8, 11.6])"
   ]
  },
  {
   "cell_type": "code",
   "execution_count": 5,
   "id": "24c57cb3-5161-4d0b-9577-ea90ff84977e",
   "metadata": {},
   "outputs": [
    {
     "data": {
      "text/plain": [
       "81.6"
      ]
     },
     "execution_count": 5,
     "metadata": {},
     "output_type": "execute_result"
    }
   ],
   "source": [
    "np.mean([81, 83, 82, 81, 81])"
   ]
  },
  {
   "cell_type": "code",
   "execution_count": 6,
   "id": "2c0fd55a-af66-430d-9b42-e704cb71add1",
   "metadata": {},
   "outputs": [
    {
     "data": {
      "text/plain": [
       "7.260000000000001"
      ]
     },
     "execution_count": 6,
     "metadata": {},
     "output_type": "execute_result"
    }
   ],
   "source": [
    "np.mean([7.13, 7.21, 6.87, 7.53, 7.56])"
   ]
  },
  {
   "cell_type": "code",
   "execution_count": 7,
   "id": "2df5f0b2-1640-487b-8c79-d30b4a563ff4",
   "metadata": {},
   "outputs": [
    {
     "data": {
      "text/plain": [
       "41.019999999999996"
      ]
     },
     "execution_count": 7,
     "metadata": {},
     "output_type": "execute_result"
    }
   ],
   "source": [
    "np.mean([40.1,\n",
    "40.0,\n",
    "42.5,\n",
    "41.1,\n",
    "41.4])"
   ]
  },
  {
   "cell_type": "code",
   "execution_count": 8,
   "id": "71d914c0-faf5-45df-9ef2-895094e45aad",
   "metadata": {},
   "outputs": [
    {
     "data": {
      "text/plain": [
       "4.178"
      ]
     },
     "execution_count": 8,
     "metadata": {},
     "output_type": "execute_result"
    }
   ],
   "source": [
    "np.mean([6.44,\n",
    "6.5,\n",
    "4.17,\n",
    "2.18,\n",
    "1.6])"
   ]
  },
  {
   "cell_type": "code",
   "execution_count": null,
   "id": "237faead-91ad-4a19-9541-f3af5fe50b01",
   "metadata": {},
   "outputs": [],
   "source": []
  }
 ],
 "metadata": {
  "kernelspec": {
   "display_name": "Python3.9",
   "language": "python",
   "name": "python3"
  },
  "language_info": {
   "codemirror_mode": {
    "name": "ipython",
    "version": 3
   },
   "file_extension": ".py",
   "mimetype": "text/x-python",
   "name": "python",
   "nbconvert_exporter": "python",
   "pygments_lexer": "ipython3",
   "version": "3.9.5"
  }
 },
 "nbformat": 4,
 "nbformat_minor": 5
}

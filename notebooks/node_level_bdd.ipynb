{
 "cells": [
  {
   "cell_type": "code",
   "execution_count": 1,
   "id": "adfd9043-0bb2-4a70-96b2-43fac88ca761",
   "metadata": {},
   "outputs": [
    {
     "name": "stdout",
     "output_type": "stream",
     "text": [
      "%pylab is deprecated, use %matplotlib inline and import the required libraries.\n",
      "Populating the interactive namespace from numpy and matplotlib\n"
     ]
    }
   ],
   "source": [
    "%load_ext autoreload\n",
    "%autoreload 2\n",
    "%pylab inline"
   ]
  },
  {
   "cell_type": "code",
   "execution_count": 2,
   "id": "dd29bc68-0aa7-48dd-bac4-704b5a7cbc4f",
   "metadata": {},
   "outputs": [],
   "source": [
    "import sys\n",
    "sys.path.append(\"..\")"
   ]
  },
  {
   "cell_type": "code",
   "execution_count": 3,
   "id": "bd85b63d-f724-49ac-852b-4c485b79e76e",
   "metadata": {},
   "outputs": [],
   "source": [
    "import functools"
   ]
  },
  {
   "cell_type": "code",
   "execution_count": 4,
   "id": "a610b132-adf6-4338-9d66-dfe1028abb39",
   "metadata": {},
   "outputs": [],
   "source": [
    "from encoding.parse_rooms import parse_rooms, parse_exits, dictify_rooms"
   ]
  },
  {
   "cell_type": "code",
   "execution_count": 5,
   "id": "9fa218e2-8f29-4682-9013-ee90351e6604",
   "metadata": {},
   "outputs": [],
   "source": [
    "rooms = parse_rooms(\"../encoding/dsl/rooms_for_alloy.txt\")\n",
    "exits = parse_exits(\"../encoding/dsl/exits_for_alloy.txt\")\n",
    "design = dictify_rooms(rooms, exits)"
   ]
  },
  {
   "cell_type": "code",
   "execution_count": 6,
   "id": "a09067e6-1a8c-48c0-8199-06caff994f6f",
   "metadata": {},
   "outputs": [
    {
     "data": {
      "text/plain": [
       "255"
      ]
     },
     "execution_count": 6,
     "metadata": {},
     "output_type": "execute_result"
    }
   ],
   "source": [
    "len(design[\"Rooms\"])"
   ]
  },
  {
   "cell_type": "code",
   "execution_count": 7,
   "id": "1b515036-2690-4a17-bf7f-c0373d16f585",
   "metadata": {},
   "outputs": [],
   "source": [
    "from rom_tools.rom_manager import RomManager\n",
    "from abstraction_validation.sm_paths import *"
   ]
  },
  {
   "cell_type": "code",
   "execution_count": 8,
   "id": "b9b2cde6-f057-4c14-b7cb-67d1561b4b3f",
   "metadata": {},
   "outputs": [],
   "source": [
    "from bdds.bdd_core import *"
   ]
  },
  {
   "cell_type": "code",
   "execution_count": 9,
   "id": "d632df36-977a-4ce8-9d55-c59bf1e0e3e2",
   "metadata": {},
   "outputs": [],
   "source": [
    "from functools import reduce"
   ]
  },
  {
   "cell_type": "code",
   "execution_count": 10,
   "id": "e707d395-553b-4bdf-98f9-5994d2ca798b",
   "metadata": {},
   "outputs": [],
   "source": [
    "all_nodes = []\n",
    "for r, room in rooms.items():\n",
    "    for node in room.graph.name_node.keys():\n",
    "        all_nodes.append(node)\n",
    "node_ids = {n:i for i,n in enumerate(all_nodes)}"
   ]
  },
  {
   "cell_type": "code",
   "execution_count": 11,
   "id": "f6b80b60-fe2b-4cbc-a38e-bd0e3caee767",
   "metadata": {
    "scrolled": true
   },
   "outputs": [
    {
     "data": {
      "text/plain": [
       "698"
      ]
     },
     "execution_count": 11,
     "metadata": {},
     "output_type": "execute_result"
    }
   ],
   "source": [
    "len(node_ids)"
   ]
  },
  {
   "cell_type": "code",
   "execution_count": 12,
   "id": "d4b94330-fb28-4950-9438-14a356e7cbed",
   "metadata": {},
   "outputs": [],
   "source": [
    "# Issue with design translation via chopping off the last _\n",
    "node_ids[\"Spore_Spawn_Spawn\"] = node_ids[\"Spore_Spawn_Spore_Spawn\"]\n",
    "node_ids[\"Golden_Torizo_Torizo\"] = node_ids[\"Golden_Torizo_Golden_Torizo\"]\n",
    "node_ids[\"Mother_Brain_Brain\"] = node_ids[\"Mother_Brain_Mother_Brain\"]"
   ]
  },
  {
   "cell_type": "code",
   "execution_count": 13,
   "id": "9a333f34-3d11-480f-9d12-3985be270dcd",
   "metadata": {},
   "outputs": [],
   "source": [
    "def combine_bdd_group(bdds):\n",
    "    return reduce(lambda x,y: x|y, bdds, context_id.false)"
   ]
  },
  {
   "cell_type": "code",
   "execution_count": 14,
   "id": "9156d99d-0627-4ee7-b915-676dba22a1c4",
   "metadata": {},
   "outputs": [],
   "source": [
    "def loc_id(room_name, node_name, when=\"prev\"):\n",
    "    node_id = node_ids[f\"{room_name}_{node_name}\"]\n",
    "    return f\"node_id_{when} = {node_id}\""
   ]
  },
  {
   "cell_type": "code",
   "execution_count": 15,
   "id": "b7d1dd19-e6b0-4145-8b9a-29a909c00b22",
   "metadata": {},
   "outputs": [],
   "source": [
    "@functools.cache\n",
    "def item_transitions(item_gained=None):\n",
    "    if item_gained is None:\n",
    "        return \"(items_unchanged)\"\n",
    "    clauses = []\n",
    "    for i in design[\"Items\"] | design[\"Bosses\"]:\n",
    "        if i == item_gained:\n",
    "            clause = f\"{i}_prev < {i}_next\"\n",
    "        else:\n",
    "            clause = f\"{i}_prev = {i}_next\"\n",
    "        clauses.append(clause)\n",
    "    return \" & \".join(clauses)\n",
    "\n",
    "def itemset_to_str(itemset):\n",
    "    if len(itemset) == 0:\n",
    "        return \"TRUE\"\n",
    "    else:\n",
    "        return \" & \".join([f\"{item}_prev = 1\" for item in itemset])\n",
    "\n",
    "def required_itemsets(itemsets):\n",
    "    return \"(\" + \" | \".join([itemset_to_str(itemset) for itemset in itemsets]) + \")\""
   ]
  },
  {
   "cell_type": "code",
   "execution_count": 16,
   "id": "ee2be20a-9d2b-43e9-949d-0f357ef5779a",
   "metadata": {},
   "outputs": [],
   "source": [
    "from bdds.node_bdds import *"
   ]
  },
  {
   "cell_type": "code",
   "execution_count": 17,
   "id": "bd7018a8-33c5-483f-bd45-7b25fb65503e",
   "metadata": {},
   "outputs": [],
   "source": [
    "context_id = mk_context_id(node_ids)"
   ]
  },
  {
   "cell_type": "code",
   "execution_count": 18,
   "id": "13ea1f42-8d52-4eae-b81d-6ebb76a57e75",
   "metadata": {},
   "outputs": [
    {
     "data": {
      "text/plain": [
       "46.0"
      ]
     },
     "execution_count": 18,
     "metadata": {},
     "output_type": "execute_result"
    }
   ],
   "source": [
    "len(context_id.bdd.vars) / 4"
   ]
  },
  {
   "cell_type": "code",
   "execution_count": 42,
   "id": "9adec1df-8fc1-45a1-a67c-2b034d5e1044",
   "metadata": {},
   "outputs": [
    {
     "name": "stderr",
     "output_type": "stream",
     "text": [
      "100%|█████████████████████████████████████████████████████████████████████████████████| 255/255 [00:11<00:00, 22.36it/s]\n"
     ]
    }
   ],
   "source": [
    "# Build individual BDDs\n",
    "room_bdds = []\n",
    "door_bdds = []\n",
    "for room_name, room in tqdm(design['Rooms'].items()):\n",
    "    links = []\n",
    "    for node_name in room['Nodes']:\n",
    "        s = loc_id(room_name, node_name) + \" & \" + loc_id(room_name, node_name, when=\"next\") + \" & \" + item_transitions()\n",
    "        links.append(context_id.add_expr(s, with_ops=True))\n",
    "        if node_name in room['Drops']:\n",
    "            s = loc_id(room_name, node_name) + \" & \" + loc_id(room_name, node_name, when=\"next\") + \" & \" + item_transitions(room['Drops'][node_name])\n",
    "            links.append(context_id.add_expr(s, with_ops=True))\n",
    "    for node_name, door in room['Doors'].items():\n",
    "        d = loc_id(room_name, node_name) + \" & \" + loc_id(door['Room'], door['Node'], when=\"next\") + \" & \" + item_transitions()\n",
    "        expr = context_id.add_expr(d, with_ops=True)\n",
    "        door_bdds.append(expr)\n",
    "    for node_name, edges in room['Edges'].items():\n",
    "        for edge in edges:\n",
    "            other_node_name = edge['Terminal']\n",
    "            s = loc_id(room_name, node_name) + \" & \" + loc_id(room_name, other_node_name, when=\"next\") + \" & \" + required_itemsets(edge['Requirements']) + \" & \" + item_transitions()\n",
    "            links.append(context_id.add_expr(s, with_ops=True))\n",
    "    room_bdd = combine_bdd_group(links)\n",
    "    #print(room_bdd.count())\n",
    "    room_bdds.append(room_bdd)"
   ]
  },
  {
   "cell_type": "code",
   "execution_count": 20,
   "id": "ada637c4-0bab-4712-8df4-a4e565812f2c",
   "metadata": {},
   "outputs": [],
   "source": [
    "doors_bdd = combine_bdd_group(door_bdds)\n",
    "rooms_bdd = combine_bdd_group(room_bdds)\n",
    "all_bdd = doors_bdd | rooms_bdd"
   ]
  },
  {
   "cell_type": "code",
   "execution_count": 21,
   "id": "893b79d0-5ed8-49fe-8865-ac05cb95406e",
   "metadata": {},
   "outputs": [
    {
     "data": {
      "text/plain": [
       "15347"
      ]
     },
     "execution_count": 21,
     "metadata": {},
     "output_type": "execute_result"
    }
   ],
   "source": [
    "all_bdd.dag_size # 11K"
   ]
  },
  {
   "cell_type": "code",
   "execution_count": 22,
   "id": "6bcdeaf8-668c-4fff-9a4f-311bdfd840e1",
   "metadata": {},
   "outputs": [
    {
     "data": {
      "text/plain": [
       "92"
      ]
     },
     "execution_count": 22,
     "metadata": {},
     "output_type": "execute_result"
    }
   ],
   "source": [
    "len(all_bdd.support)"
   ]
  },
  {
   "cell_type": "code",
   "execution_count": 23,
   "id": "60761457-d517-4a6d-89b3-2e1c9f8885d3",
   "metadata": {},
   "outputs": [],
   "source": [
    "context_id.bdd.dump(\"../output/all_bdd.json\", [all_bdd])"
   ]
  },
  {
   "cell_type": "code",
   "execution_count": 44,
   "id": "f38c86e9-6883-4725-80e3-ad45aedebafa",
   "metadata": {},
   "outputs": [
    {
     "data": {
      "text/plain": [
       "158658239397888.0"
      ]
     },
     "execution_count": 44,
     "metadata": {},
     "output_type": "execute_result"
    }
   ],
   "source": [
    "all_bdd.count()\n",
    "#rooms_bdd.count(), doors_bdd.count()\n",
    "# 158,211,025,928,192"
   ]
  },
  {
   "cell_type": "code",
   "execution_count": 25,
   "id": "422f9d1f-db4c-4c59-921b-369047fd1146",
   "metadata": {},
   "outputs": [
    {
     "data": {
      "text/plain": [
       "['__new__',\n",
       " '__repr__',\n",
       " '__hash__',\n",
       " '__str__',\n",
       " '__lt__',\n",
       " '__le__',\n",
       " '__eq__',\n",
       " '__ne__',\n",
       " '__gt__',\n",
       " '__ge__',\n",
       " '__invert__',\n",
       " '__and__',\n",
       " '__rand__',\n",
       " '__or__',\n",
       " '__ror__',\n",
       " '__int__',\n",
       " '__len__',\n",
       " 'implies',\n",
       " 'equiv',\n",
       " 'let',\n",
       " 'exist',\n",
       " 'forall',\n",
       " 'pick',\n",
       " 'count',\n",
       " '_index',\n",
       " 'var',\n",
       " 'level',\n",
       " 'ref',\n",
       " 'low',\n",
       " 'high',\n",
       " 'negated',\n",
       " 'support',\n",
       " 'dag_size',\n",
       " 'bdd',\n",
       " '_ref',\n",
       " '__doc__',\n",
       " '__pyx_vtable__',\n",
       " '__reduce__',\n",
       " '__setstate__',\n",
       " '__getattribute__',\n",
       " '__setattr__',\n",
       " '__delattr__',\n",
       " '__init__',\n",
       " '__reduce_ex__',\n",
       " '__subclasshook__',\n",
       " '__init_subclass__',\n",
       " '__format__',\n",
       " '__sizeof__',\n",
       " '__dir__',\n",
       " '__class__']"
      ]
     },
     "execution_count": 25,
     "metadata": {},
     "output_type": "execute_result"
    }
   ],
   "source": [
    "all_bdd.__dir__()"
   ]
  },
  {
   "cell_type": "code",
   "execution_count": 26,
   "id": "6242ac95-9816-4991-a30c-d01abe34ff77",
   "metadata": {},
   "outputs": [],
   "source": [
    "a = context_id.exist(nexts, all_bdd)"
   ]
  },
  {
   "cell_type": "code",
   "execution_count": 27,
   "id": "bbcc6137-5bf6-4a71-b622-caa7b22c9c90",
   "metadata": {},
   "outputs": [
    {
     "data": {
      "text/plain": [
       "23983097380864.0"
      ]
     },
     "execution_count": 27,
     "metadata": {},
     "output_type": "execute_result"
    }
   ],
   "source": [
    "a.count() * 2 ** len(set(prevs) - context_id.support(a))"
   ]
  },
  {
   "cell_type": "code",
   "execution_count": 28,
   "id": "cfa3e3f6-d417-456c-955b-485eb188a9c5",
   "metadata": {},
   "outputs": [
    {
     "data": {
      "text/plain": [
       "158658239397888"
      ]
     },
     "execution_count": 28,
     "metadata": {},
     "output_type": "execute_result"
    }
   ],
   "source": [
    "context_id.count(all_bdd)"
   ]
  },
  {
   "cell_type": "code",
   "execution_count": 29,
   "id": "42ace1bd-2e03-4040-93c2-5a01225706ec",
   "metadata": {},
   "outputs": [
    {
     "data": {
      "text/plain": [
       "3.303118274748924"
      ]
     },
     "execution_count": 29,
     "metadata": {},
     "output_type": "execute_result"
    }
   ],
   "source": [
    "158211025928192 / 47897475284992.0"
   ]
  },
  {
   "cell_type": "code",
   "execution_count": 30,
   "id": "d0396734-aee6-4e9e-9940-762aecff224e",
   "metadata": {},
   "outputs": [
    {
     "data": {
      "text/plain": [
       "93683974144.0"
      ]
     },
     "execution_count": 30,
     "metadata": {},
     "output_type": "execute_result"
    }
   ],
   "source": [
    "context_id.bdd.count(context_id.exist(nexts, all_bdd), len(prevs))"
   ]
  },
  {
   "cell_type": "code",
   "execution_count": 31,
   "id": "4325d267-8541-4521-b9b9-972894f9db66",
   "metadata": {},
   "outputs": [],
   "source": [
    "from data_types import item_set"
   ]
  },
  {
   "cell_type": "code",
   "execution_count": 32,
   "id": "a6c52276-7bd5-4581-94af-1ff007a58005",
   "metadata": {},
   "outputs": [],
   "source": [
    "def mk_itemset_expr(itemset, when=\"prev\"):\n",
    "    clauses = []\n",
    "    for i in item_mapping:\n",
    "        if i in itemset:\n",
    "            clause = f\"{i}_{when} = 1\"\n",
    "        else:\n",
    "            clause = f\"{i}_{when} = 0\"\n",
    "        clauses.append(clause)\n",
    "    return \" & \".join(clauses)"
   ]
  },
  {
   "cell_type": "code",
   "execution_count": 33,
   "id": "165752dc-57d5-4201-8f7e-42ca30004778",
   "metadata": {},
   "outputs": [],
   "source": [
    "def get_reachable_id(trans_norule, context, start_bdd):\n",
    "    n = 0\n",
    "    covered_p = start_bdd\n",
    "    covered_last_p = context.false\n",
    "    while covered_p != covered_last_p:\n",
    "        covered_last_p = covered_p\n",
    "        fringe_n = context.exist(prevs, covered_p & trans_norule)\n",
    "        covered_p |= context.let(next_to_prev, fringe_n)\n",
    "        print(n, covered_p.dag_size)\n",
    "        n+=1\n",
    "    return covered_p"
   ]
  },
  {
   "cell_type": "code",
   "execution_count": 34,
   "id": "f7a5db85-d0c0-4910-ac7a-e9375123a743",
   "metadata": {},
   "outputs": [],
   "source": [
    "start_bdd = context_id.add_expr(\"node_id_prev = 0 & \" + mk_itemset_expr(item_set.ItemSet()))"
   ]
  },
  {
   "cell_type": "code",
   "execution_count": 36,
   "id": "69c8c44c-e070-4372-a8d2-be57963a8e71",
   "metadata": {},
   "outputs": [
    {
     "data": {
      "text/plain": [
       "158658239397888.0"
      ]
     },
     "execution_count": 36,
     "metadata": {},
     "output_type": "execute_result"
    }
   ],
   "source": [
    "all_bdd.count()"
   ]
  },
  {
   "cell_type": "code",
   "execution_count": 35,
   "id": "d3ff3768-3740-4f18-9a34-8705ba90d604",
   "metadata": {},
   "outputs": [
    {
     "name": "stdout",
     "output_type": "stream",
     "text": [
      "0 48\n",
      "1 50\n",
      "2 51\n",
      "3 59\n",
      "4 61\n",
      "5 60\n",
      "6 60\n",
      "7 60\n",
      "8 61\n",
      "9 66\n",
      "10 68\n",
      "11 97\n",
      "12 97\n",
      "13 98\n",
      "14 104\n",
      "15 109\n",
      "16 110\n",
      "17 124\n",
      "18 123\n",
      "19 120\n",
      "20 158\n",
      "21 165\n",
      "22 148\n",
      "23 149\n",
      "24 148\n",
      "25 149\n",
      "26 150\n",
      "27 149\n",
      "28 149\n",
      "29 150\n",
      "30 151\n",
      "31 146\n",
      "32 117\n",
      "33 118\n",
      "34 118\n",
      "35 119\n",
      "36 118\n",
      "37 119\n",
      "38 120\n",
      "39 120\n",
      "40 123\n",
      "41 127\n",
      "42 131\n",
      "43 140\n",
      "44 140\n",
      "45 148\n",
      "46 149\n",
      "47 155\n",
      "48 153\n",
      "49 151\n",
      "50 154\n",
      "51 161\n",
      "52 161\n",
      "53 162\n",
      "54 164\n",
      "55 168\n",
      "56 166\n",
      "57 176\n",
      "58 174\n",
      "59 174\n",
      "60 178\n",
      "61 214\n",
      "62 223\n",
      "63 232\n",
      "64 256\n",
      "65 261\n",
      "66 261\n",
      "67 285\n",
      "68 300\n",
      "69 310\n",
      "70 346\n",
      "71 358\n",
      "72 371\n",
      "73 397\n",
      "74 382\n",
      "75 406\n",
      "76 380\n",
      "77 357\n",
      "78 354\n",
      "79 349\n",
      "80 358\n",
      "81 361\n",
      "82 384\n",
      "83 414\n",
      "84 421\n",
      "85 433\n",
      "86 447\n",
      "87 444\n",
      "88 445\n",
      "89 449\n",
      "90 461\n",
      "91 468\n",
      "92 466\n",
      "93 464\n",
      "94 473\n",
      "95 480\n",
      "96 484\n",
      "97 504\n",
      "98 507\n",
      "99 524\n",
      "100 525\n",
      "101 557\n",
      "102 599\n",
      "103 622\n",
      "104 637\n",
      "105 681\n",
      "106 735\n",
      "107 746\n",
      "108 807\n",
      "109 776\n",
      "110 760\n",
      "111 748\n",
      "112 765\n",
      "113 808\n",
      "114 834\n",
      "115 853\n",
      "116 863\n",
      "117 841\n",
      "118 852\n",
      "119 868\n",
      "120 942\n",
      "121 936\n",
      "122 962\n",
      "123 915\n",
      "124 860\n",
      "125 807\n",
      "126 794\n",
      "127 756\n",
      "128 718\n",
      "129 727\n",
      "130 718\n",
      "131 701\n",
      "132 713\n",
      "133 719\n",
      "134 751\n",
      "135 801\n",
      "136 831\n",
      "137 846\n",
      "138 844\n",
      "139 803\n",
      "140 779\n",
      "141 753\n",
      "142 752\n",
      "143 803\n",
      "144 819\n",
      "145 847\n",
      "146 890\n",
      "147 916\n",
      "148 883\n",
      "149 920\n",
      "150 916\n",
      "151 909\n",
      "152 928\n",
      "153 1024\n",
      "154 1027\n",
      "155 1054\n",
      "156 1082\n",
      "157 1167\n",
      "158 1173\n",
      "159 1207\n",
      "160 1270\n",
      "161 1328\n",
      "162 1295\n",
      "163 1289\n",
      "164 1221\n",
      "165 1180\n",
      "166 1217\n",
      "167 1250\n",
      "168 1295\n",
      "169 1359\n",
      "170 1423\n",
      "171 1467\n",
      "172 1497\n",
      "173 1467\n",
      "174 1449\n",
      "175 1483\n",
      "176 1545\n",
      "177 1594\n",
      "178 1650\n",
      "179 1666\n",
      "180 1626\n",
      "181 1629\n",
      "182 1645\n",
      "183 1720\n",
      "184 1812\n",
      "185 1856\n",
      "186 1952\n",
      "187 2001\n",
      "188 2013\n",
      "189 2042\n",
      "190 2087\n",
      "191 2117\n",
      "192 2220\n",
      "193 2297\n",
      "194 2377\n",
      "195 2419\n",
      "196 2490\n",
      "197 2547\n",
      "198 2540\n",
      "199 2616\n",
      "200 2630\n",
      "201 2706\n",
      "202 2744\n",
      "203 2846\n",
      "204 3014\n",
      "205 3048\n",
      "206 2997\n",
      "207 3030\n",
      "208 3002\n",
      "209 3019\n",
      "210 3151\n",
      "211 3289\n",
      "212 3375\n",
      "213 3403\n",
      "214 3482\n",
      "215 3543\n",
      "216 3683\n",
      "217 3835\n",
      "218 3925\n",
      "219 4028\n",
      "220 4197\n",
      "221 4283\n",
      "222 4351\n",
      "223 4375\n",
      "224 4539\n",
      "225 4715\n",
      "226 4829\n",
      "227 4893\n",
      "228 5039\n",
      "229 5126\n",
      "230 5213\n",
      "231 5255\n",
      "232 5300\n",
      "233 5373\n",
      "234 5325\n",
      "235 5406\n",
      "236 5626\n",
      "237 5542\n",
      "238 5579\n",
      "239 5695\n",
      "240 5774\n",
      "241 5722\n",
      "242 5741\n",
      "243 5620\n",
      "244 5669\n",
      "245 5732\n",
      "246 5724\n",
      "247 5658\n",
      "248 5533\n",
      "249 5419\n",
      "250 5449\n",
      "251 5301\n",
      "252 5275\n",
      "253 5264\n",
      "254 5186\n",
      "255 5082\n",
      "256 5157\n",
      "257 5110\n",
      "258 5179\n",
      "259 5170\n",
      "260 4985\n",
      "261 4989\n",
      "262 5086\n",
      "263 5034\n",
      "264 5013\n",
      "265 4958\n",
      "266 4938\n",
      "267 4996\n",
      "268 4879\n",
      "269 4820\n",
      "270 4849\n",
      "271 4982\n",
      "272 5195\n",
      "273 5157\n",
      "274 4982\n",
      "275 4923\n",
      "276 4972\n",
      "277 5060\n",
      "278 5165\n",
      "279 5027\n",
      "280 5063\n",
      "281 5108\n",
      "282 5160\n",
      "283 5216\n",
      "284 5264\n",
      "285 5197\n",
      "286 5298\n",
      "287 5270\n",
      "288 5297\n",
      "289 5384\n",
      "290 5412\n",
      "291 5448\n",
      "292 5593\n",
      "293 5589\n",
      "294 5833\n",
      "295 5944\n",
      "296 5851\n",
      "297 6022\n",
      "298 6088\n",
      "299 6118\n",
      "300 6318\n",
      "301 6180\n",
      "302 6257\n",
      "303 6249\n",
      "304 6325\n",
      "305 6495\n",
      "306 6405\n",
      "307 6511\n",
      "308 6491\n",
      "309 6511\n",
      "310 6607\n",
      "311 6612\n",
      "312 6693\n",
      "313 6739\n",
      "314 6658\n",
      "315 6808\n",
      "316 6780\n",
      "317 6695\n",
      "318 6715\n",
      "319 6750\n",
      "320 6809\n",
      "321 6760\n",
      "322 6630\n",
      "323 6732\n",
      "324 6685\n",
      "325 6610\n",
      "326 6714\n",
      "327 6836\n",
      "328 6909\n",
      "329 6922\n",
      "330 6921\n",
      "331 6898\n",
      "332 6939\n",
      "333 7060\n",
      "334 7218\n",
      "335 7235\n",
      "336 7201\n",
      "337 7261\n",
      "338 7359\n",
      "339 7279\n",
      "340 7299\n",
      "341 7357\n",
      "342 7294\n",
      "343 7276\n",
      "344 7276\n",
      "345 7323\n",
      "346 7353\n",
      "347 7502\n",
      "348 7588\n",
      "349 7603\n",
      "350 7629\n",
      "351 7767\n",
      "352 7927\n",
      "353 8039\n",
      "354 8039\n",
      "355 8240\n",
      "356 8283\n",
      "357 8359\n",
      "358 8573\n",
      "359 8674\n",
      "360 8788\n",
      "361 8927\n",
      "362 9008\n",
      "363 9001\n",
      "364 9064\n",
      "365 9214\n",
      "366 9393\n",
      "367 9467\n",
      "368 9577\n",
      "369 9763\n",
      "370 9878\n",
      "371 10000\n",
      "372 10196\n",
      "373 10406\n",
      "374 10513\n",
      "375 10670\n",
      "376 10928\n",
      "377 11254\n",
      "378 11527\n",
      "379 11790\n",
      "380 12082\n",
      "381 12307\n",
      "382 12752\n",
      "383 13176\n",
      "384 13655\n",
      "385 14045\n",
      "386 14276\n",
      "387 14483\n",
      "388 14673\n",
      "389 14810\n",
      "390 15188\n",
      "391 15204\n",
      "392 15171\n",
      "393 15104\n",
      "394 14996\n",
      "395 15037\n",
      "396 15200\n",
      "397 15209\n",
      "398 15299\n",
      "399 15326\n",
      "400 15377\n",
      "401 15292\n",
      "402 15234\n",
      "403 15135\n",
      "404 15204\n",
      "405 15325\n",
      "406 15401\n",
      "407 15160\n",
      "408 15098\n",
      "409 14995\n",
      "410 14957\n",
      "411 14845\n",
      "412 14888\n",
      "413 14759\n",
      "414 14626\n",
      "415 14522\n",
      "416 14302\n",
      "417 13914\n",
      "418 13696\n",
      "419 13654\n",
      "420 13698\n",
      "421 13618\n",
      "422 13610\n",
      "423 13521\n",
      "424 13525\n",
      "425 13556\n",
      "426 13609\n",
      "427 13741\n",
      "428 13863\n",
      "429 14109\n",
      "430 14293\n",
      "431 14585\n",
      "432 14774\n",
      "433 15221\n",
      "434 15551\n",
      "435 15822\n",
      "436 15951\n",
      "437 16310\n",
      "438 16519\n",
      "439 16886\n",
      "440 17276\n",
      "441 17489\n",
      "442 17628\n",
      "443 18163\n",
      "444 18385\n",
      "445 18638\n",
      "446 18887\n",
      "447 19059\n",
      "448 19169\n",
      "449 19414\n",
      "450 19589\n",
      "451 19825\n",
      "452 20097\n",
      "453 20333\n",
      "454 20437\n",
      "455 20415\n",
      "456 20472\n",
      "457 20559\n",
      "458 20627\n",
      "459 20603\n",
      "460 20609\n",
      "461 20578\n",
      "462 20789\n",
      "463 20938\n",
      "464 20948\n",
      "465 20880\n",
      "466 20813\n",
      "467 20831\n",
      "468 20957\n",
      "469 21161\n",
      "470 21408\n",
      "471 21457\n",
      "472 21544\n",
      "473 21351\n",
      "474 21237\n",
      "475 21129\n",
      "476 21051\n",
      "477 20982\n",
      "478 20998\n",
      "479 21123\n",
      "480 21147\n",
      "481 21193\n",
      "482 21137\n",
      "483 20981\n",
      "484 20941\n",
      "485 21149\n",
      "486 21255\n",
      "487 21412\n",
      "488 21510\n",
      "489 21587\n",
      "490 21732\n",
      "491 22112\n",
      "492 22303\n",
      "493 22611\n",
      "494 22690\n",
      "495 22854\n",
      "496 23090\n",
      "497 23441\n",
      "498 23606\n",
      "499 23803\n",
      "500 23857\n",
      "501 23938\n",
      "502 24182\n",
      "503 24476\n",
      "504 24569\n",
      "505 24650\n",
      "506 24798\n",
      "507 25225\n",
      "508 25544\n",
      "509 25823\n",
      "510 25824\n",
      "511 25851\n",
      "512 25874\n",
      "513 26087\n",
      "514 26198\n",
      "515 26361\n",
      "516 26368\n",
      "517 26301\n",
      "518 26407\n",
      "519 26425\n",
      "520 26356\n",
      "521 26238\n",
      "522 26046\n",
      "523 26063\n",
      "524 25945\n",
      "525 25882\n",
      "526 25955\n",
      "527 25716\n",
      "528 25473\n",
      "529 25372\n",
      "530 25145\n",
      "531 25157\n",
      "532 25400\n",
      "533 25378\n",
      "534 25479\n",
      "535 25461\n",
      "536 25480\n",
      "537 25480\n",
      "538 25419\n",
      "539 25071\n",
      "540 24973\n",
      "541 24917\n",
      "542 24681\n",
      "543 24439\n",
      "544 24176\n",
      "545 23690\n",
      "546 23545\n",
      "547 23378\n",
      "548 23157\n",
      "549 22940\n",
      "550 22594\n",
      "551 22155\n",
      "552 21886\n",
      "553 21475\n",
      "554 21187\n",
      "555 20984\n",
      "556 20678\n",
      "557 20469\n",
      "558 20446\n",
      "559 20403\n",
      "560 20335\n",
      "561 20247\n",
      "562 20187\n",
      "563 20189\n",
      "564 20229\n",
      "565 20296\n",
      "566 20251\n",
      "567 20071\n",
      "568 19974\n",
      "569 19778\n",
      "570 19603\n",
      "571 19517\n",
      "572 19364\n",
      "573 19132\n",
      "574 18975\n",
      "575 18671\n",
      "576 18392\n",
      "577 18031\n",
      "578 17685\n",
      "579 17364\n",
      "580 17022\n",
      "581 16802\n",
      "582 16589\n",
      "583 16259\n",
      "584 15955\n",
      "585 15724\n",
      "586 15492\n",
      "587 15237\n",
      "588 15016\n",
      "589 14834\n",
      "590 14700\n",
      "591 14550\n",
      "592 14493\n",
      "593 14260\n",
      "594 13999\n",
      "595 13730\n",
      "596 13507\n",
      "597 13304\n",
      "598 13163\n",
      "599 12888\n",
      "600 12580\n",
      "601 12246\n",
      "602 11925\n",
      "603 11569\n",
      "604 11237\n",
      "605 10850\n",
      "606 10433\n",
      "607 10107\n",
      "608 9828\n",
      "609 9543\n",
      "610 9189\n",
      "611 8831\n",
      "612 8471\n",
      "613 8146\n",
      "614 7875\n",
      "615 7624\n",
      "616 7391\n",
      "617 7175\n",
      "618 6962\n",
      "619 6764\n",
      "620 6620\n",
      "621 6450\n",
      "622 6242\n",
      "623 6053\n",
      "624 5881\n",
      "625 5763\n",
      "626 5654\n",
      "627 5539\n",
      "628 5391\n",
      "629 5244\n",
      "630 5091\n",
      "631 4976\n",
      "632 4822\n",
      "633 4682\n",
      "634 4519\n",
      "635 4376\n",
      "636 4241\n",
      "637 4124\n",
      "638 3985\n",
      "639 3845\n",
      "640 3663\n",
      "641 3510\n",
      "642 3393\n",
      "643 3285\n",
      "644 3174\n",
      "645 3072\n",
      "646 2977\n",
      "647 2910\n",
      "648 2840\n",
      "649 2777\n",
      "650 2710\n",
      "651 2628\n",
      "652 2545\n",
      "653 2465\n",
      "654 2389\n",
      "655 2334\n",
      "656 2279\n",
      "657 2229\n",
      "658 2152\n",
      "659 2071\n",
      "660 1985\n",
      "661 1914\n",
      "662 1841\n",
      "663 1807\n",
      "664 1783\n",
      "665 1752\n",
      "666 1720\n",
      "667 1690\n",
      "668 1655\n",
      "669 1655\n"
     ]
    }
   ],
   "source": [
    "#%%capture\n",
    "all_reachable_p = get_reachable_id(all_bdd, context_id, start_bdd)"
   ]
  },
  {
   "cell_type": "code",
   "execution_count": 38,
   "id": "30507184-8b71-43d6-b405-9722eb9a95dc",
   "metadata": {},
   "outputs": [],
   "source": [
    "feasible_trans = all_bdd & all_reachable_p"
   ]
  },
  {
   "cell_type": "code",
   "execution_count": 39,
   "id": "46425fc5-ea1d-4242-bccf-d42e72fa0758",
   "metadata": {},
   "outputs": [],
   "source": [
    "wincon_p = context_id.add_expr(\"node_id_prev = 2 & Mother_Brain_prev = 1\")"
   ]
  },
  {
   "cell_type": "code",
   "execution_count": 40,
   "id": "9f675d24-6cea-41c6-8066-0fcf934e900b",
   "metadata": {},
   "outputs": [],
   "source": [
    "wincon = context_id.add_expr(\"node_id_goal = 2 & Mother_Brain_goal = 1 & node_id_next = 2 & Mother_Brain_next = 1\")"
   ]
  },
  {
   "cell_type": "code",
   "execution_count": 41,
   "id": "e65f27ef-e8be-4b9d-ad21-fbfb3bc16057",
   "metadata": {},
   "outputs": [
    {
     "data": {
      "text/plain": [
       "48891250.0"
      ]
     },
     "execution_count": 41,
     "metadata": {},
     "output_type": "execute_result"
    }
   ],
   "source": [
    "feasible_trans.count()"
   ]
  },
  {
   "cell_type": "code",
   "execution_count": 42,
   "id": "14aac5d2-db41-4d0b-b935-1959c01d1e0d",
   "metadata": {},
   "outputs": [],
   "source": [
    "import json"
   ]
  },
  {
   "cell_type": "code",
   "execution_count": 43,
   "id": "ad826d56-99a2-4021-834b-5f57ec66e0ef",
   "metadata": {},
   "outputs": [],
   "source": [
    "#with open(\"../output/context_id_order.json\", \"r\") as f:\n",
    "#    context_id.bdd.reorder(json.load(f))\n",
    "#context_id.bdd.configure(reordering=False)"
   ]
  },
  {
   "cell_type": "code",
   "execution_count": 50,
   "id": "7cd3efc9-0f7b-4523-9ec8-8a88ab5cd2f5",
   "metadata": {},
   "outputs": [],
   "source": [
    "#wincon = context_id.add_expr(\"node_id_next = node_id_goal & Mother_Brain_next = Mother_Brain_goal\")\n",
    "#wincon = context_id.add_expr(\"node_id_next = node_id_goal & node_id_goal = 1\") # ~1.5s\n",
    "wincon = context_id.add_expr(\"node_id_next = node_id_goal\")"
   ]
  },
  {
   "cell_type": "code",
   "execution_count": 49,
   "id": "6c07a414-b6b1-4e76-9fc6-04592441af4e",
   "metadata": {
    "scrolled": true
   },
   "outputs": [
    {
     "name": "stdout",
     "output_type": "stream",
     "text": [
      "0\n",
      "1\n",
      "2\n",
      "3\n",
      "4\n",
      "5\n",
      "6\n",
      "7\n",
      "8\n",
      "9\n",
      "10\n",
      "11\n",
      "12\n",
      "13\n",
      "14\n",
      "15\n",
      "16\n",
      "17\n",
      "18\n",
      "19\n",
      "20\n",
      "21\n",
      "22\n",
      "23\n",
      "24\n",
      "25\n",
      "26\n",
      "27\n",
      "28\n",
      "29\n",
      "30\n",
      "31\n",
      "32\n",
      "33\n",
      "34\n",
      "35\n",
      "36\n",
      "37\n",
      "38\n",
      "39\n",
      "40\n",
      "41\n",
      "42\n",
      "43\n",
      "44\n",
      "45\n",
      "46\n",
      "47\n",
      "48\n",
      "49\n",
      "50\n",
      "51\n",
      "52\n",
      "53\n",
      "54\n",
      "55\n",
      "56\n",
      "57\n",
      "58\n",
      "59\n",
      "60\n",
      "61\n",
      "62\n",
      "63\n",
      "64\n",
      "65\n",
      "66\n",
      "67\n",
      "68\n",
      "69\n",
      "70\n",
      "71\n",
      "72\n",
      "73\n",
      "74\n",
      "75\n",
      "76\n",
      "77\n",
      "78\n",
      "79\n",
      "80\n",
      "81\n",
      "82\n",
      "83\n",
      "84\n",
      "85\n",
      "86\n",
      "87\n",
      "88\n",
      "89\n",
      "90\n",
      "91\n",
      "92\n",
      "93\n",
      "94\n",
      "95\n",
      "96\n",
      "97\n",
      "98\n",
      "99\n",
      "100\n",
      "101\n",
      "102\n",
      "103\n",
      "104\n",
      "105\n",
      "106\n",
      "107\n",
      "108\n",
      "109\n",
      "110\n",
      "111\n",
      "112\n"
     ]
    },
    {
     "ename": "KeyboardInterrupt",
     "evalue": "",
     "output_type": "error",
     "traceback": [
      "\u001b[0;31m---------------------------------------------------------------------------\u001b[0m",
      "\u001b[0;31mKeyboardInterrupt\u001b[0m                         Traceback (most recent call last)",
      "File \u001b[0;32m<timed exec>:8\u001b[0m\n",
      "File \u001b[0;32m/mnt/c/Users/rmawh/Programming/sm door rando/sm_rando/notebooks/../bdds/node_bdds.py:76\u001b[0m, in \u001b[0;36mmk_policy_id2\u001b[0;34m(trans_pn, context, goal_bdd)\u001b[0m\n\u001b[1;32m     74\u001b[0m     solved_ng \u001b[38;5;241m=\u001b[39m context\u001b[38;5;241m.\u001b[39mlet(prev_to_next, solved_pg)\n\u001b[1;32m     75\u001b[0m     policy_png \u001b[38;5;241m|\u001b[39m\u001b[38;5;241m=\u001b[39m (trans_pn \u001b[38;5;241m&\u001b[39m \u001b[38;5;241m~\u001b[39msolved_pg) \u001b[38;5;241m&\u001b[39m solved_ng\n\u001b[0;32m---> 76\u001b[0m     \u001b[38;5;28;43mprint\u001b[39;49m\u001b[43m(\u001b[49m\u001b[43mn\u001b[49m\u001b[43m)\u001b[49m\n\u001b[1;32m     77\u001b[0m     n \u001b[38;5;241m+\u001b[39m\u001b[38;5;241m=\u001b[39m \u001b[38;5;241m1\u001b[39m\n\u001b[1;32m     78\u001b[0m \u001b[38;5;28;01mreturn\u001b[39;00m policy_png\n",
      "\u001b[0;31mKeyboardInterrupt\u001b[0m: "
     ]
    }
   ],
   "source": [
    "%%time\n",
    "#TODOs\n",
    "# Goal BDD x\n",
    "#   More restrictive goal_bdd using pick w/ transitive closure\n",
    "#   Forward & backward feasibility restrictions\n",
    "# ~covered_prev_goal earlier\n",
    "# Shattergate\n",
    "all_policy = mk_policy_id2(feasible_trans, context_id, wincon)\n",
    "#all_policy = mk_policy_id2(all_bdd, context_id, wincon)"
   ]
  },
  {
   "cell_type": "code",
   "execution_count": 79,
   "id": "52c86843-6882-429c-90e8-6960e9b876c7",
   "metadata": {},
   "outputs": [
    {
     "data": {
      "text/plain": [
       "['node_id', 'next', '0']"
      ]
     },
     "execution_count": 79,
     "metadata": {},
     "output_type": "execute_result"
    }
   ],
   "source": [
    "\"node_id_next_0\".rsplit(\"_\", 2)"
   ]
  },
  {
   "cell_type": "code",
   "execution_count": 80,
   "id": "a4382295-fe86-4b4a-9fa8-8ccd096fca33",
   "metadata": {},
   "outputs": [],
   "source": [
    "all_policy_det = determinize2(all_policy, context_id)"
   ]
  },
  {
   "cell_type": "code",
   "execution_count": 81,
   "id": "0d947d7b-c822-4828-9a9f-0ce0bb944873",
   "metadata": {},
   "outputs": [
    {
     "data": {
      "text/plain": [
       "8593935525.0"
      ]
     },
     "execution_count": 81,
     "metadata": {},
     "output_type": "execute_result"
    }
   ],
   "source": [
    "all_policy.count()"
   ]
  },
  {
   "cell_type": "code",
   "execution_count": 82,
   "id": "a1fe159f-71f1-48da-866b-a7ff69f588c1",
   "metadata": {},
   "outputs": [
    {
     "data": {
      "text/plain": [
       "236455"
      ]
     },
     "execution_count": 82,
     "metadata": {},
     "output_type": "execute_result"
    }
   ],
   "source": [
    "all_policy.dag_size"
   ]
  },
  {
   "cell_type": "code",
   "execution_count": 83,
   "id": "ac99075d-eefd-4727-9296-12154f704616",
   "metadata": {},
   "outputs": [
    {
     "data": {
      "text/plain": [
       "234782"
      ]
     },
     "execution_count": 83,
     "metadata": {},
     "output_type": "execute_result"
    }
   ],
   "source": [
    "all_policy_det.dag_size"
   ]
  },
  {
   "cell_type": "code",
   "execution_count": 52,
   "id": "c7baaf90-5166-40bf-b95e-64a60799177f",
   "metadata": {},
   "outputs": [
    {
     "data": {
      "text/plain": [
       "102"
      ]
     },
     "execution_count": 52,
     "metadata": {},
     "output_type": "execute_result"
    }
   ],
   "source": [
    "len(all_policy.support)"
   ]
  },
  {
   "cell_type": "code",
   "execution_count": 84,
   "id": "065f014f-1584-4725-a355-2f75ef473285",
   "metadata": {},
   "outputs": [],
   "source": [
    "#task_expr = context_id.add_expr(\"Mother_Brain_prev < Mother_Brain_goal & node_id_prev = 2 & node_id_goal = 2\")\n",
    "task_expr = context_id.add_expr(\"node_id_prev = 0 & node_id_goal = 1\")\n",
    "# Concrete task\n",
    "task = context_id.pick(context_id.exist(nexts, all_policy & task_expr))\n",
    "task_bdd = context_id.assign_from(task)"
   ]
  },
  {
   "cell_type": "code",
   "execution_count": 85,
   "id": "aeaf4840-d62b-429d-9516-c92492fc7092",
   "metadata": {},
   "outputs": [],
   "source": [
    "controller_pn = context_id.exist(goals, all_policy_det & task_bdd)"
   ]
  },
  {
   "cell_type": "code",
   "execution_count": 97,
   "id": "1be74397-ecef-45e3-87b8-f0bec0fae2a8",
   "metadata": {
    "scrolled": true
   },
   "outputs": [
    {
     "name": "stdout",
     "output_type": "stream",
     "text": [
      "CPU times: user 55.2 ms, sys: 180 µs, total: 55.4 ms\n",
      "Wall time: 55.2 ms\n"
     ]
    }
   ],
   "source": [
    "%%time\n",
    "edges = get_edges(all_policy_det, task_bdd, context_id)"
   ]
  },
  {
   "cell_type": "code",
   "execution_count": 96,
   "id": "0b5531c0-aa8d-4ab7-aed4-bbd75078d98f",
   "metadata": {},
   "outputs": [
    {
     "name": "stdout",
     "output_type": "stream",
     "text": [
      "CPU times: user 297 ms, sys: 0 ns, total: 297 ms\n",
      "Wall time: 296 ms\n"
     ]
    }
   ],
   "source": [
    "%%time\n",
    "path = get_path_concrete_id(all_policy, task_bdd, context_id)"
   ]
  },
  {
   "cell_type": "code",
   "execution_count": 88,
   "id": "beb8a1b2-7171-41af-9051-91d6406ee6be",
   "metadata": {},
   "outputs": [
    {
     "name": "stdout",
     "output_type": "stream",
     "text": [
      "CPU times: user 298 ms, sys: 0 ns, total: 298 ms\n",
      "Wall time: 297 ms\n"
     ]
    }
   ],
   "source": [
    "%%time\n",
    "path = get_path_concrete_id(all_policy, task_bdd, context_id)"
   ]
  },
  {
   "cell_type": "code",
   "execution_count": 89,
   "id": "a93c5bd7-c761-4e1d-9068-7b32678aa9bb",
   "metadata": {},
   "outputs": [],
   "source": [
    "steps = get_steps_id2(all_policy_det, task_bdd, context_id)"
   ]
  },
  {
   "cell_type": "code",
   "execution_count": 90,
   "id": "f6afd8b7-7e94-4e37-94ba-b2d34703a249",
   "metadata": {},
   "outputs": [
    {
     "data": {
      "text/plain": [
       "8450"
      ]
     },
     "execution_count": 90,
     "metadata": {},
     "output_type": "execute_result"
    }
   ],
   "source": [
    "steps.dag_size"
   ]
  },
  {
   "cell_type": "code",
   "execution_count": 94,
   "id": "38580952-aa42-4b94-893b-88fd0bcde69c",
   "metadata": {},
   "outputs": [
    {
     "name": "stdout",
     "output_type": "stream",
     "text": [
      "CPU times: user 44 µs, sys: 2 µs, total: 46 µs\n",
      "Wall time: 46.7 µs\n"
     ]
    },
    {
     "data": {
      "text/plain": [
       "[(0, 0, 3),\n",
       " (1, 3, 12),\n",
       " (2, 12, 11),\n",
       " (3, 11, 54),\n",
       " (4, 54, 57),\n",
       " (5, 57, 59),\n",
       " (6, 59, 60),\n",
       " (7, 60, 62),\n",
       " (8, 62, 63),\n",
       " (9, 63, 148),\n",
       " (10, 148, 149),\n",
       " (11, 149, 149),\n",
       " (12, 149, 147),\n",
       " (13, 147, 151),\n",
       " (14, 151, 152),\n",
       " (15, 152, 174),\n",
       " (16, 174, 175),\n",
       " (17, 175, 175),\n",
       " (18, 175, 174),\n",
       " (19, 174, 152),\n",
       " (20, 152, 151),\n",
       " (21, 151, 147),\n",
       " (22, 147, 148),\n",
       " (23, 148, 63),\n",
       " (24, 63, 62),\n",
       " (25, 62, 60),\n",
       " (26, 60, 59),\n",
       " (27, 59, 57),\n",
       " (28, 57, 54),\n",
       " (29, 54, 11),\n",
       " (30, 11, 13),\n",
       " (31, 13, 66),\n",
       " (32, 66, 67),\n",
       " (33, 67, 64),\n",
       " (34, 64, 65),\n",
       " (35, 65, 65),\n",
       " (36, 65, 64),\n",
       " (37, 64, 67),\n",
       " (38, 67, 66),\n",
       " (39, 66, 13),\n",
       " (40, 13, 8),\n",
       " (41, 8, 71),\n",
       " (42, 71, 70),\n",
       " (43, 70, 79),\n",
       " (44, 79, 81),\n",
       " (45, 81, 76),\n",
       " (46, 76, 75),\n",
       " (47, 75, 73),\n",
       " (48, 73, 74),\n",
       " (49, 74, 91),\n",
       " (50, 91, 99),\n",
       " (51, 99, 119),\n",
       " (52, 119, 121),\n",
       " (53, 121, 123),\n",
       " (54, 123, 133),\n",
       " (55, 133, 133),\n",
       " (56, 133, 127),\n",
       " (57, 127, 134),\n",
       " (58, 134, 135),\n",
       " (59, 135, 136),\n",
       " (60, 136, 138),\n",
       " (61, 138, 137),\n",
       " (62, 137, 102),\n",
       " (63, 102, 104),\n",
       " (64, 104, 104),\n",
       " (65, 104, 103),\n",
       " (66, 103, 171),\n",
       " (67, 171, 170),\n",
       " (68, 170, 129),\n",
       " (69, 129, 130),\n",
       " (70, 130, 142),\n",
       " (71, 142, 144),\n",
       " (72, 144, 158),\n",
       " (73, 158, 159),\n",
       " (74, 159, 188),\n",
       " (75, 188, 192),\n",
       " (76, 192, 210),\n",
       " (77, 210, 211),\n",
       " (78, 211, 212),\n",
       " (79, 212, 214),\n",
       " (80, 214, 505),\n",
       " (81, 505, 506),\n",
       " (82, 506, 502),\n",
       " (83, 502, 503),\n",
       " (84, 503, 507),\n",
       " (85, 507, 509),\n",
       " (86, 509, 241),\n",
       " (87, 241, 242),\n",
       " (88, 242, 217),\n",
       " (89, 217, 219),\n",
       " (90, 219, 222),\n",
       " (91, 222, 224),\n",
       " (92, 224, 226),\n",
       " (93, 226, 227),\n",
       " (94, 227, 228),\n",
       " (95, 228, 230),\n",
       " (96, 230, 231),\n",
       " (97, 231, 233),\n",
       " (98, 233, 233),\n",
       " (99, 233, 232),\n",
       " (100, 232, 244),\n",
       " (101, 244, 245),\n",
       " (102, 245, 245),\n",
       " (103, 245, 244),\n",
       " (104, 244, 232),\n",
       " (105, 232, 231),\n",
       " (106, 231, 230),\n",
       " (107, 230, 228),\n",
       " (108, 228, 227),\n",
       " (109, 227, 226),\n",
       " (110, 226, 224),\n",
       " (111, 224, 222),\n",
       " (112, 222, 219),\n",
       " (113, 219, 217),\n",
       " (114, 217, 242),\n",
       " (115, 242, 243),\n",
       " (116, 243, 261),\n",
       " (117, 261, 257),\n",
       " (118, 257, 291),\n",
       " (119, 291, 290),\n",
       " (120, 290, 285),\n",
       " (121, 285, 286),\n",
       " (122, 286, 286),\n",
       " (123, 286, 285),\n",
       " (124, 285, 290),\n",
       " (125, 290, 293),\n",
       " (126, 293, 293),\n",
       " (127, 293, 291),\n",
       " (128, 291, 257),\n",
       " (129, 257, 258),\n",
       " (130, 258, 253),\n",
       " (131, 253, 254),\n",
       " (132, 254, 250),\n",
       " (133, 250, 251),\n",
       " (134, 251, 370),\n",
       " (135, 370, 371),\n",
       " (136, 371, 327),\n",
       " (137, 327, 329),\n",
       " (138, 329, 380),\n",
       " (139, 380, 381),\n",
       " (140, 381, 333),\n",
       " (141, 333, 334),\n",
       " (142, 334, 336),\n",
       " (143, 336, 337),\n",
       " (144, 337, 337),\n",
       " (145, 337, 336),\n",
       " (146, 336, 334),\n",
       " (147, 334, 333),\n",
       " (148, 333, 381),\n",
       " (149, 381, 380),\n",
       " (150, 380, 329),\n",
       " (151, 329, 330),\n",
       " (152, 330, 338),\n",
       " (153, 338, 340),\n",
       " (154, 340, 343),\n",
       " (155, 343, 346),\n",
       " (156, 346, 345),\n",
       " (157, 345, 347),\n",
       " (158, 347, 348),\n",
       " (159, 348, 348),\n",
       " (160, 348, 347),\n",
       " (161, 347, 345),\n",
       " (162, 345, 344),\n",
       " (163, 344, 341),\n",
       " (164, 341, 338),\n",
       " (165, 338, 330),\n",
       " (166, 330, 328),\n",
       " (167, 328, 369),\n",
       " (168, 369, 368),\n",
       " (169, 368, 386),\n",
       " (170, 386, 387),\n",
       " (171, 387, 373),\n",
       " (172, 373, 372),\n",
       " (173, 372, 279),\n",
       " (174, 279, 280),\n",
       " (175, 280, 281),\n",
       " (176, 281, 284),\n",
       " (177, 284, 284),\n",
       " (178, 284, 282),\n",
       " (179, 282, 295),\n",
       " (180, 295, 294),\n",
       " (181, 294, 299),\n",
       " (182, 299, 300),\n",
       " (183, 300, 300),\n",
       " (184, 300, 299),\n",
       " (185, 299, 294),\n",
       " (186, 294, 297),\n",
       " (187, 297, 301),\n",
       " (188, 301, 304),\n",
       " (189, 304, 309),\n",
       " (190, 309, 310),\n",
       " (191, 310, 317),\n",
       " (192, 317, 318),\n",
       " (193, 318, 318),\n",
       " (194, 318, 317),\n",
       " (195, 317, 310),\n",
       " (196, 310, 309),\n",
       " (197, 309, 304),\n",
       " (198, 304, 301),\n",
       " (199, 301, 297),\n",
       " (200, 297, 295),\n",
       " (201, 295, 282),\n",
       " (202, 282, 281),\n",
       " (203, 281, 280),\n",
       " (204, 280, 276),\n",
       " (205, 276, 288),\n",
       " (206, 288, 287),\n",
       " (207, 287, 260),\n",
       " (208, 260, 255),\n",
       " (209, 255, 265),\n",
       " (210, 265, 263),\n",
       " (211, 263, 249),\n",
       " (212, 249, 248),\n",
       " (213, 248, 272),\n",
       " (214, 272, 271),\n",
       " (215, 271, 268),\n",
       " (216, 268, 269),\n",
       " (217, 269, 269),\n",
       " (218, 269, 268),\n",
       " (219, 268, 271),\n",
       " (220, 271, 270),\n",
       " (221, 270, 266),\n",
       " (222, 266, 267),\n",
       " (223, 267, 262),\n",
       " (224, 262, 265),\n",
       " (225, 265, 255),\n",
       " (226, 255, 261),\n",
       " (227, 261, 243),\n",
       " (228, 243, 241),\n",
       " (229, 241, 509),\n",
       " (230, 509, 507),\n",
       " (231, 507, 503),\n",
       " (232, 503, 502),\n",
       " (233, 502, 506),\n",
       " (234, 506, 505),\n",
       " (235, 505, 214),\n",
       " (236, 214, 212),\n",
       " (237, 212, 211),\n",
       " (238, 211, 210),\n",
       " (239, 210, 192),\n",
       " (240, 192, 191),\n",
       " (241, 191, 197),\n",
       " (242, 197, 198),\n",
       " (243, 198, 200),\n",
       " (244, 200, 204),\n",
       " (245, 204, 48),\n",
       " (246, 48, 47),\n",
       " (247, 47, 31),\n",
       " (248, 31, 30),\n",
       " (249, 30, 44),\n",
       " (250, 44, 45),\n",
       " (251, 45, 18),\n",
       " (252, 18, 23),\n",
       " (253, 23, 462),\n",
       " (254, 462, 463),\n",
       " (255, 463, 470),\n",
       " (256, 470, 475),\n",
       " (257, 475, 485),\n",
       " (258, 485, 486),\n",
       " (259, 486, 488),\n",
       " (260, 488, 489),\n",
       " (261, 489, 489),\n",
       " (262, 489, 488),\n",
       " (263, 488, 486),\n",
       " (264, 486, 485),\n",
       " (265, 485, 475),\n",
       " (266, 475, 469),\n",
       " (267, 469, 466),\n",
       " (268, 466, 464),\n",
       " (269, 464, 19),\n",
       " (270, 19, 21),\n",
       " (271, 21, 27),\n",
       " (272, 27, 28),\n",
       " (273, 28, 52),\n",
       " (274, 52, 53),\n",
       " (275, 53, 458),\n",
       " (276, 458, 459),\n",
       " (277, 459, 497),\n",
       " (278, 497, 498),\n",
       " (279, 498, 498),\n",
       " (280, 498, 496),\n",
       " (281, 496, 22),\n",
       " (282, 22, 18),\n",
       " (283, 18, 45),\n",
       " (284, 45, 44),\n",
       " (285, 44, 30),\n",
       " (286, 30, 31),\n",
       " (287, 31, 47),\n",
       " (288, 47, 48),\n",
       " (289, 48, 204),\n",
       " (290, 204, 200),\n",
       " (291, 200, 198),\n",
       " (292, 198, 197),\n",
       " (293, 197, 191),\n",
       " (294, 191, 192),\n",
       " (295, 192, 210),\n",
       " (296, 210, 211),\n",
       " (297, 211, 212),\n",
       " (298, 212, 214),\n",
       " (299, 214, 505),\n",
       " (300, 505, 506),\n",
       " (301, 506, 502),\n",
       " (302, 502, 501),\n",
       " (303, 501, 514),\n",
       " (304, 514, 510),\n",
       " (305, 510, 526),\n",
       " (306, 526, 529),\n",
       " (307, 529, 539),\n",
       " (308, 539, 541),\n",
       " (309, 541, 595),\n",
       " (310, 595, 594),\n",
       " (311, 594, 605),\n",
       " (312, 605, 606),\n",
       " (313, 606, 646),\n",
       " (314, 646, 648),\n",
       " (315, 648, 647),\n",
       " (316, 647, 625),\n",
       " (317, 625, 626),\n",
       " (318, 626, 643),\n",
       " (319, 643, 644),\n",
       " (320, 644, 618),\n",
       " (321, 618, 620),\n",
       " (322, 620, 622),\n",
       " (323, 622, 623),\n",
       " (324, 623, 657),\n",
       " (325, 657, 658),\n",
       " (326, 658, 658),\n",
       " (327, 658, 656),\n",
       " (328, 656, 649),\n",
       " (329, 649, 650),\n",
       " (330, 650, 650),\n",
       " (331, 650, 649),\n",
       " (332, 649, 656),\n",
       " (333, 656, 657),\n",
       " (334, 657, 623),\n",
       " (335, 623, 622),\n",
       " (336, 622, 620),\n",
       " (337, 620, 618),\n",
       " (338, 618, 644),\n",
       " (339, 644, 642),\n",
       " (340, 642, 655),\n",
       " (341, 655, 654),\n",
       " (342, 654, 653),\n",
       " (343, 653, 652),\n",
       " (344, 652, 604),\n",
       " (345, 604, 603),\n",
       " (346, 603, 562),\n",
       " (347, 562, 560),\n",
       " (348, 560, 564),\n",
       " (349, 564, 565),\n",
       " (350, 565, 551),\n",
       " (351, 551, 552),\n",
       " (352, 552, 553),\n",
       " (353, 553, 554),\n",
       " (354, 554, 554),\n",
       " (355, 554, 553),\n",
       " (356, 553, 552),\n",
       " (357, 552, 551),\n",
       " (358, 551, 565),\n",
       " (359, 565, 564),\n",
       " (360, 564, 560),\n",
       " (361, 560, 563),\n",
       " (362, 563, 568),\n",
       " (363, 568, 569),\n",
       " (364, 569, 578),\n",
       " (365, 578, 576),\n",
       " (366, 576, 574),\n",
       " (367, 574, 573),\n",
       " (368, 573, 550),\n",
       " (369, 550, 549),\n",
       " (370, 549, 547),\n",
       " (371, 547, 546),\n",
       " (372, 546, 508),\n",
       " (373, 508, 509),\n",
       " (374, 509, 241),\n",
       " (375, 241, 243),\n",
       " (376, 243, 261),\n",
       " (377, 261, 255),\n",
       " (378, 255, 265),\n",
       " (379, 265, 264),\n",
       " (380, 264, 273),\n",
       " (381, 273, 274),\n",
       " (382, 274, 277),\n",
       " (383, 277, 279),\n",
       " (384, 279, 372),\n",
       " (385, 372, 374),\n",
       " (386, 374, 377),\n",
       " (387, 377, 378),\n",
       " (388, 378, 375),\n",
       " (389, 375, 376),\n",
       " (390, 376, 354),\n",
       " (391, 354, 355),\n",
       " (392, 355, 363),\n",
       " (393, 363, 362),\n",
       " (394, 362, 365),\n",
       " (395, 365, 366),\n",
       " (396, 366, 397),\n",
       " (397, 397, 396),\n",
       " (398, 396, 411),\n",
       " (399, 411, 414),\n",
       " (400, 414, 418),\n",
       " (401, 418, 419),\n",
       " (402, 419, 423),\n",
       " (403, 423, 424),\n",
       " (404, 424, 425),\n",
       " (405, 425, 426),\n",
       " (406, 426, 434),\n",
       " (407, 434, 437),\n",
       " (408, 437, 438),\n",
       " (409, 438, 440),\n",
       " (410, 440, 442),\n",
       " (411, 442, 441),\n",
       " (412, 441, 421),\n",
       " (413, 421, 420),\n",
       " (414, 420, 410),\n",
       " (415, 410, 409),\n",
       " (416, 409, 407),\n",
       " (417, 407, 408),\n",
       " (418, 408, 408),\n",
       " (419, 408, 407),\n",
       " (420, 407, 409),\n",
       " (421, 409, 410),\n",
       " (422, 410, 420),\n",
       " (423, 420, 421),\n",
       " (424, 421, 441),\n",
       " (425, 441, 442),\n",
       " (426, 442, 440),\n",
       " (427, 440, 438),\n",
       " (428, 438, 437),\n",
       " (429, 437, 435),\n",
       " (430, 435, 453),\n",
       " (431, 453, 452),\n",
       " (432, 452, 428),\n",
       " (433, 428, 427),\n",
       " (434, 427, 444),\n",
       " (435, 444, 443),\n",
       " (436, 443, 339),\n",
       " (437, 339, 338),\n",
       " (438, 338, 330),\n",
       " (439, 330, 327),\n",
       " (440, 327, 371),\n",
       " (441, 371, 370),\n",
       " (442, 370, 251),\n",
       " (443, 251, 250),\n",
       " (444, 250, 254),\n",
       " (445, 254, 253),\n",
       " (446, 253, 258),\n",
       " (447, 258, 261),\n",
       " (448, 261, 243),\n",
       " (449, 243, 241),\n",
       " (450, 241, 509),\n",
       " (451, 509, 507),\n",
       " (452, 507, 503),\n",
       " (453, 503, 501),\n",
       " (454, 501, 514),\n",
       " (455, 514, 510),\n",
       " (456, 510, 526),\n",
       " (457, 526, 528),\n",
       " (458, 528, 533),\n",
       " (459, 533, 532),\n",
       " (460, 532, 202),\n",
       " (461, 202, 204),\n",
       " (462, 204, 48),\n",
       " (463, 48, 47),\n",
       " (464, 47, 31),\n",
       " (465, 31, 29),\n",
       " (466, 29, 43),\n",
       " (467, 43, 42),\n",
       " (468, 42, 5),\n",
       " (469, 5, 2),\n",
       " (470, 2, 7),\n",
       " (471, 7, 6),\n",
       " (472, 6, 50),\n",
       " (473, 50, 49),\n",
       " (474, 49, 78),\n",
       " (475, 78, 80),\n",
       " (476, 80, 234),\n",
       " (477, 234, 235),\n",
       " (478, 235, 238),\n",
       " (479, 238, 239),\n",
       " (480, 239, 659),\n",
       " (481, 659, 660),\n",
       " (482, 660, 663),\n",
       " (483, 663, 662),\n",
       " (484, 662, 664),\n",
       " (485, 664, 665),\n",
       " (486, 665, 666),\n",
       " (487, 666, 667),\n",
       " (488, 667, 668),\n",
       " (489, 668, 669),\n",
       " (490, 669, 670),\n",
       " (491, 670, 671),\n",
       " (492, 671, 673),\n",
       " (493, 673, 672),\n",
       " (494, 672, 675),\n",
       " (495, 675, 674),\n",
       " (496, 674, 677),\n",
       " (497, 677, 678),\n",
       " (498, 678, 683),\n",
       " (499, 683, 684),\n",
       " (500, 684, 685),\n",
       " (501, 685, 687),\n",
       " (502, 687, 681),\n",
       " (503, 681, 682),\n",
       " (504, 682, 682),\n",
       " (505, 682, 680),\n",
       " (506, 680, 689),\n",
       " (507, 689, 690),\n",
       " (508, 690, 691),\n",
       " (509, 691, 692),\n",
       " (510, 692, 693),\n",
       " (511, 693, 694),\n",
       " (512, 694, 695),\n",
       " (513, 695, 696),\n",
       " (514, 696, 58),\n",
       " (515, 58, 54),\n",
       " (516, 54, 11),\n",
       " (517, 11, 12),\n",
       " (518, 12, 3),\n",
       " (519, 3, 1)]"
      ]
     },
     "execution_count": 94,
     "metadata": {},
     "output_type": "execute_result"
    }
   ],
   "source": [
    "%%time\n",
    "#TODO: redo this notebook in the context of node_bdds.py (remove the code that I already moved)\n",
    "#TODO: replace the existing path advice infrastructure with this data structure\n",
    "#TODO: add the \"end of game\" location walled by MB, then fully determinize path\n",
    "sorted(edges)"
   ]
  },
  {
   "cell_type": "code",
   "execution_count": null,
   "id": "e7c374ab-aecf-4f08-8ffe-4bf85061b906",
   "metadata": {},
   "outputs": [],
   "source": [
    "len(edges)"
   ]
  },
  {
   "cell_type": "code",
   "execution_count": null,
   "id": "63aa51c8-369c-4ca4-98ad-d189b6781eb9",
   "metadata": {},
   "outputs": [],
   "source": [
    "len(path)"
   ]
  },
  {
   "cell_type": "code",
   "execution_count": 99,
   "id": "7b451e0d-353b-4809-8794-8e330a2ac46f",
   "metadata": {},
   "outputs": [],
   "source": [
    "#context_id.bdd.dump(\"../output/node_policy_det.dddmp\", [all_policy_det])"
   ]
  },
  {
   "cell_type": "code",
   "execution_count": 75,
   "id": "625a65ac-faec-4fc6-8566-dcfa48961081",
   "metadata": {},
   "outputs": [
    {
     "data": {
      "text/plain": [
       "1.0"
      ]
     },
     "execution_count": 75,
     "metadata": {},
     "output_type": "execute_result"
    }
   ],
   "source": [
    "context_id.exist(nexts + prevs, all_policy).count"
   ]
  },
  {
   "cell_type": "code",
   "execution_count": 56,
   "id": "50b8ffe4-6aa3-4113-82f6-229f96260ba6",
   "metadata": {},
   "outputs": [],
   "source": [
    "with open(\"../output/context_id_order.json\", \"w\") as f:\n",
    "    json.dump(context_id.bdd.var_levels, f)"
   ]
  },
  {
   "cell_type": "code",
   "execution_count": 43,
   "id": "4b008a37-bb11-4e16-a9b0-15e5ec6797b9",
   "metadata": {},
   "outputs": [],
   "source": [
    "all_policy = context_id.bdd.load(\"../output/policy_id.json\")[0]"
   ]
  },
  {
   "cell_type": "code",
   "execution_count": 44,
   "id": "51117668-3e6a-4d6d-8616-38e9ee9163c2",
   "metadata": {},
   "outputs": [],
   "source": [
    "#context_id.bdd.dump(\"../output/policy_id.dddmp\", [all_policy])"
   ]
  },
  {
   "cell_type": "code",
   "execution_count": 34,
   "id": "ec4ca66c-b093-4476-a7c7-65e279dbb78e",
   "metadata": {},
   "outputs": [],
   "source": [
    "goal_satisfied_id = mk_goal_satisfied_id(context_id)"
   ]
  },
  {
   "cell_type": "code",
   "execution_count": 35,
   "id": "b4c0b776-cc4a-4521-8530-c69a3ec92aa3",
   "metadata": {},
   "outputs": [],
   "source": [
    "rev_node_ids = {v:k for k,v in node_ids.items()}"
   ]
  },
  {
   "cell_type": "code",
   "execution_count": 36,
   "id": "ff7c2d9c-1179-463c-8e0c-ae28e408e262",
   "metadata": {},
   "outputs": [],
   "source": [
    "# task_bdd is built by first creating a task expr, then existing off the nexts, then picking and cubing it.\n",
    "def get_path_concrete_id(policy, task_bdd, context):\n",
    "    # Get a concrete path\n",
    "    current = context.pick(task_bdd)\n",
    "    path = [current]\n",
    "    n = 0\n",
    "    while True:\n",
    "        #print(n, current[\"node_id_prev\"])\n",
    "        #print(n, rev_node_ids[current[\"node_id_prev\"]])\n",
    "        #print(current[\"node_id_prev\"])\n",
    "        #print(current)\n",
    "        n += 1\n",
    "        #current_bdd = context.bdd.cube(current)\n",
    "        current_bdd = context.assign_from(current)\n",
    "        next_temp = context.exist(prevs, current_bdd & policy)\n",
    "        advice = context.let(next_to_prev, next_temp)\n",
    "        #print(advice.count())\n",
    "        current = context.pick(advice)\n",
    "        # Check whether the goal is satisfied in the state given by the advice.\n",
    "        if (next_temp & goal_satisfied_id).pick():\n",
    "            break\n",
    "        path.append(current)\n",
    "    return path\n",
    "\n",
    "# is cube() faster?\n",
    "def get_path_concrete_id2(policy, task_bdd, context):\n",
    "    # Get a concrete path\n",
    "    current = task_bdd.pick()\n",
    "    path = [current]\n",
    "    while True:\n",
    "        #print(current)\n",
    "        current_bdd = context.bdd.cube(current)\n",
    "        next_temp = context.exist(prevs, current_bdd & policy)\n",
    "        advice = context.let(next_to_prev, next_temp)\n",
    "        #print(advice.count())\n",
    "        current = advice.pick()\n",
    "        # Check whether the goal is satisfied in the state given by the advice.\n",
    "        if (next_temp & goal_satisfied_id).pick():\n",
    "            break\n",
    "        path.append(current)\n",
    "    return path\n",
    "\n",
    "def get_first_step(policy, task_dict, context):\n",
    "    # Get a concrete path\n",
    "    task_bdd = context.assign_from(task_dict)\n",
    "    return context.pick(task_bdd & policy)"
   ]
  },
  {
   "cell_type": "code",
   "execution_count": 37,
   "id": "c8e877e3-daf4-4420-9a6e-009d2bc55627",
   "metadata": {},
   "outputs": [],
   "source": [
    "#task_expr = context_id.add_expr(\"Mother_Brain_prev < Mother_Brain_goal & node_id_prev = 2 & node_id_goal = 2\")\n",
    "task_expr = context_id.add_expr(\"M_prev < M_goal & node_id_prev = 2 & node_id_goal = 2\")\n",
    "# Concrete task\n",
    "task = context_id.pick(context_id.exist(nexts, all_policy & task_expr))\n",
    "task_bdd = context_id.assign_from(task)"
   ]
  },
  {
   "cell_type": "code",
   "execution_count": 38,
   "id": "7287bad4-e282-4531-b822-3d5c5405b522",
   "metadata": {},
   "outputs": [],
   "source": [
    "#cc = context_id.exist(prevs, all_bdd & context_id.add_expr(\"node_id_prev = 2\"))\n",
    "#cc = context_id.exist(prevs, all_bdd & task_bdd)\n",
    "t2 = task.copy()\n",
    "t2[\"node_id_prev\"] = node_ids[\"Landing_Site_Ship\"]\n",
    "t2_bdd = context_id.assign_from(t2)\n",
    "cc = context_id.exist(prevs, all_policy & t2_bdd)"
   ]
  },
  {
   "cell_type": "code",
   "execution_count": 39,
   "id": "eefa8d44-b4b7-47b7-895e-e48fd78e0911",
   "metadata": {},
   "outputs": [],
   "source": [
    "nonidns = [k for k in context_id.vars.keys() if k != \"node_id_next\"]"
   ]
  },
  {
   "cell_type": "code",
   "execution_count": 40,
   "id": "f292870b-0c96-434f-9f7c-745c6b5a3bed",
   "metadata": {},
   "outputs": [
    {
     "name": "stdout",
     "output_type": "stream",
     "text": [
      "Landing_Site_L2\n"
     ]
    }
   ],
   "source": [
    "for i in context_id.pick_iter(context_id.exist(nonidns, cc)):\n",
    "    print(rev_node_ids[i[\"node_id_next\"]])"
   ]
  },
  {
   "cell_type": "code",
   "execution_count": null,
   "id": "72c359d1-c3ae-4329-8444-ca176d992c38",
   "metadata": {},
   "outputs": [],
   "source": []
  },
  {
   "cell_type": "code",
   "execution_count": 41,
   "id": "7b4cd93b-2ebf-4606-a803-0c50473323d8",
   "metadata": {},
   "outputs": [],
   "source": [
    "# 1.94s concrete1\n",
    "# 0.233s concrete2"
   ]
  },
  {
   "cell_type": "code",
   "execution_count": 42,
   "id": "ab44e8f7-e6e5-437c-9073-4e0d000269b7",
   "metadata": {},
   "outputs": [
    {
     "name": "stdout",
     "output_type": "stream",
     "text": [
      "CPU times: user 476 ms, sys: 14 µs, total: 476 ms\n",
      "Wall time: 476 ms\n"
     ]
    }
   ],
   "source": [
    "%%time\n",
    "x = get_path_concrete_id2(all_policy, t2_bdd, context_id)"
   ]
  },
  {
   "cell_type": "code",
   "execution_count": 45,
   "id": "f488660f-c8ad-4a5a-b79a-e7f49fede055",
   "metadata": {},
   "outputs": [
    {
     "name": "stdout",
     "output_type": "stream",
     "text": [
      "CPU times: user 486 ms, sys: 32 µs, total: 486 ms\n",
      "Wall time: 486 ms\n"
     ]
    }
   ],
   "source": [
    "%%time\n",
    "x = get_path_concrete_id2(all_policy, task_bdd, context_id)"
   ]
  },
  {
   "cell_type": "code",
   "execution_count": 46,
   "id": "8235f827-dd9a-4d30-b0e6-8bb04e6a98f4",
   "metadata": {},
   "outputs": [
    {
     "data": {
      "text/plain": [
       "567"
      ]
     },
     "execution_count": 46,
     "metadata": {},
     "output_type": "execute_result"
    }
   ],
   "source": [
    "len(x)"
   ]
  },
  {
   "cell_type": "code",
   "execution_count": 1,
   "id": "50d6dac8-9473-4d62-9b48-334b0dc386c4",
   "metadata": {},
   "outputs": [
    {
     "ename": "NameError",
     "evalue": "name 'get_first_step' is not defined",
     "output_type": "error",
     "traceback": [
      "\u001b[0;31m---------------------------------------------------------------------------\u001b[0m",
      "\u001b[0;31mNameError\u001b[0m                                 Traceback (most recent call last)",
      "File \u001b[0;32m<timed exec>:1\u001b[0m\n",
      "\u001b[0;31mNameError\u001b[0m: name 'get_first_step' is not defined"
     ]
    }
   ],
   "source": [
    "%%time\n",
    "step = get_first_step(all_policy, task, context_id)"
   ]
  },
  {
   "cell_type": "code",
   "execution_count": 262,
   "id": "939ff661-c906-45b7-982a-9e0aace9723a",
   "metadata": {},
   "outputs": [
    {
     "name": "stdout",
     "output_type": "stream",
     "text": [
      "CPU times: user 1.89 ms, sys: 103 µs, total: 2 ms\n",
      "Wall time: 2.01 ms\n"
     ]
    },
    {
     "data": {
      "text/plain": [
       "Function (DdNode) with var index: 4, ref count: 2, int repr: 480166083"
      ]
     },
     "execution_count": 262,
     "metadata": {},
     "output_type": "execute_result"
    }
   ],
   "source": [
    "%%time\n",
    "context_id.assign_from(task)\n",
    "#task_bdd & all_policy"
   ]
  },
  {
   "cell_type": "code",
   "execution_count": 236,
   "id": "2c19c08f-2c00-4094-8418-c1fa7506429d",
   "metadata": {},
   "outputs": [
    {
     "data": {
      "text/plain": [
       "2"
      ]
     },
     "execution_count": 236,
     "metadata": {},
     "output_type": "execute_result"
    }
   ],
   "source": [
    "len(x)"
   ]
  },
  {
   "cell_type": "code",
   "execution_count": null,
   "id": "0aa67be5-f7f1-4e12-acab-be638997649c",
   "metadata": {},
   "outputs": [],
   "source": []
  }
 ],
 "metadata": {
  "kernelspec": {
   "display_name": "Python 3 (ipykernel)",
   "language": "python",
   "name": "python3"
  },
  "language_info": {
   "codemirror_mode": {
    "name": "ipython",
    "version": 3
   },
   "file_extension": ".py",
   "mimetype": "text/x-python",
   "name": "python",
   "nbconvert_exporter": "python",
   "pygments_lexer": "ipython3",
   "version": "3.10.12"
  }
 },
 "nbformat": 4,
 "nbformat_minor": 5
}

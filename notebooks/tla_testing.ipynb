{
 "cells": [
  {
   "cell_type": "code",
   "execution_count": 1,
   "id": "322a12e7-4579-48fc-99ac-b3c5c76da33a",
   "metadata": {},
   "outputs": [
    {
     "name": "stdout",
     "output_type": "stream",
     "text": [
      "Populating the interactive namespace from numpy and matplotlib\n"
     ]
    }
   ],
   "source": [
    "%load_ext autoreload\n",
    "%autoreload 2\n",
    "%pylab inline"
   ]
  },
  {
   "cell_type": "code",
   "execution_count": 2,
   "id": "b50302c6-0be8-4a00-ad94-2a4cbf14f4dd",
   "metadata": {},
   "outputs": [],
   "source": [
    "import sys\n",
    "sys.path.append(\"..\")"
   ]
  },
  {
   "cell_type": "code",
   "execution_count": 3,
   "id": "00649450-272f-41ed-b632-5a14fea194b8",
   "metadata": {},
   "outputs": [],
   "source": [
    "from rom_tools.rom_manager import RomManager\n",
    "from world_rando.parse_rules import parse_rules, make_level_from_room\n",
    "from world_rando.coord import Coord"
   ]
  },
  {
   "cell_type": "code",
   "execution_count": 4,
   "id": "4e22e534-7382-49e9-beca-1637ca237f10",
   "metadata": {},
   "outputs": [],
   "source": [
    "from data_types.item_set import ItemSet"
   ]
  },
  {
   "cell_type": "code",
   "execution_count": 5,
   "id": "b0f41dd9-4915-4d33-b217-745649174782",
   "metadata": {},
   "outputs": [],
   "source": [
    "manager = RomManager(\"../../roms/sm_clean.smc\", \"../../roms/sm_junk.smc\")\n",
    "obj_names = manager.parse() # slow\n",
    "header = obj_names[\"room_header_0x79e9f\"]\n",
    "level = make_level_from_room(header)"
   ]
  },
  {
   "cell_type": "code",
   "execution_count": 6,
   "id": "bedf4960-8b52-4e62-954a-b9c1bbb92db7",
   "metadata": {},
   "outputs": [
    {
     "data": {
      "image/png": "[encoded data removed]",
      "text/plain": [
       "<Figure size 720x720 with 1 Axes>"
      ]
     },
     "metadata": {
      "needs_background": "light"
     },
     "output_type": "display_data"
    }
   ],
   "source": [
    "figure(figsize=(10,10));\n",
    "scatter(51,40)\n",
    "scatter(50,41)\n",
    "imshow(level.level.T);"
   ]
  },
  {
   "cell_type": "code",
   "execution_count": 7,
   "id": "3485e3f5-60ec-47ea-95a8-512519b19bce",
   "metadata": {},
   "outputs": [],
   "source": [
    "rules, tests = parse_rules([\"../encoding/rules/rules.yaml\"])\n",
    "start_state = tests['TestWalk'][0]\n",
    "start_state.level = level\n",
    "start_state.level.liquid_level = 256\n",
    "start_state.samus.position = Coord(50,41)"
   ]
  },
  {
   "cell_type": "code",
   "execution_count": 8,
   "id": "99051a9f-cbf1-4d7d-81b1-e1a331e2a31b",
   "metadata": {},
   "outputs": [
    {
     "data": {
      "text/plain": [
       "(c(50,41)|V: 0, H: RUN, 0|STAND|ISet([]))"
      ]
     },
     "execution_count": 8,
     "metadata": {},
     "output_type": "execute_result"
    }
   ],
   "source": [
    "start_state.samus"
   ]
  },
  {
   "cell_type": "code",
   "execution_count": 9,
   "id": "e1114a20-a2ec-40a7-84dc-301e680bbe1e",
   "metadata": {},
   "outputs": [
    {
     "name": "stdout",
     "output_type": "stream",
     "text": [
      "Applying Rule: Step\n",
      "(c(50,41)|V: 0, H: RUN, 0|STAND|ISet([]))\n",
      "Collided\n",
      "(c(50,41)|V: 0, H: RUN, 0|STAND|ISet([]))\n",
      "New:\n",
      "(c(50,41)|V: 0, H: RUN, 0|STAND|ISet([]))\n"
     ]
    }
   ],
   "source": [
    "next_state = rules[\"Step\"].apply(start_state, debug=True)[0]"
   ]
  },
  {
   "cell_type": "code",
   "execution_count": 10,
   "id": "68fb3c5e-c4a8-435f-920f-b6d4beb531bd",
   "metadata": {},
   "outputs": [],
   "source": [
    "#TODO: get SearchState.copy() working\n",
    "_, tests2 = parse_rules([\"../encoding/rules/rules.yaml\"])\n",
    "start_state2 = tests2['TestWalk'][0]\n",
    "start_state2.level = level\n",
    "start_state2.level.liquid_level = 256\n",
    "start_state2.samus.position = Coord(50,41)\n",
    "start_state2.samus.items = start_state.samus.items | ItemSet([\"MB\", \"PB\"])"
   ]
  },
  {
   "cell_type": "code",
   "execution_count": 11,
   "id": "25ee4c98-5ff9-4db5-835a-6b160231c91d",
   "metadata": {},
   "outputs": [
    {
     "name": "stdout",
     "output_type": "stream",
     "text": [
      "Applying Rule: Step\n",
      "(c(50,41)|V: 0, H: RUN, 0|STAND|ISet(['PB', 'MB']))\n",
      "New:\n",
      "(c(51,41)|V: 0, H: RUN, 0|STAND|ISet(['PB', 'MB']))\n"
     ]
    }
   ],
   "source": [
    "next_state2 = rules[\"Step\"].apply(start_state2, debug=True)[0]"
   ]
  },
  {
   "cell_type": "code",
   "execution_count": 12,
   "id": "76641039-a3ee-45b7-8d29-c25a85fa29c9",
   "metadata": {},
   "outputs": [
    {
     "data": {
      "text/plain": [
       "world_rando.rules.Velocity"
      ]
     },
     "execution_count": 12,
     "metadata": {},
     "output_type": "execute_result"
    }
   ],
   "source": [
    "type(next_state.samus.velocity)"
   ]
  },
  {
   "cell_type": "code",
   "execution_count": 13,
   "id": "4bfe383e-1cef-4378-9cde-0d6791aa59e1",
   "metadata": {},
   "outputs": [],
   "source": [
    "vf = rules[\"Step\"].state_function.vfunction"
   ]
  },
  {
   "cell_type": "code",
   "execution_count": 14,
   "id": "3a5de9df-c9cf-4fa9-bd1d-19c28df7e937",
   "metadata": {},
   "outputs": [
    {
     "data": {
      "text/plain": [
       "VClauses(domain='((vv_prev >= 0 & vv_prev <= 0 & vh_prev >= 0 & vh_prev <= 0 & (vt_prev = 1)))', vv='vv_next = 0 + 0', vh='vh_next = 0 + 0', vt='vt_next = 1')"
      ]
     },
     "execution_count": 14,
     "metadata": {},
     "output_type": "execute_result"
    }
   ],
   "source": [
    "vf.as_tla()"
   ]
  },
  {
   "cell_type": "code",
   "execution_count": 15,
   "id": "bd298f41-f4f8-4097-a5a8-73932f921ce3",
   "metadata": {},
   "outputs": [
    {
     "data": {
      "text/plain": [
       "'(vv_prev >= 0 & vv_prev <= 0 & vh_prev >= 0 & vh_prev <= 0 & (vt_prev = 1))'"
      ]
     },
     "execution_count": 15,
     "metadata": {},
     "output_type": "execute_result"
    }
   ],
   "source": [
    "vf.domain.as_tla()"
   ]
  },
  {
   "cell_type": "code",
   "execution_count": 16,
   "id": "2f0a5616-3e0d-4d1a-a80e-ac0fbed03061",
   "metadata": {},
   "outputs": [],
   "source": [
    "step = rules[\"Step\"]"
   ]
  },
  {
   "cell_type": "code",
   "execution_count": 17,
   "id": "7235b2ab-8543-4c74-9fd5-c8351d6a9a51",
   "metadata": {},
   "outputs": [
    {
     "data": {
      "text/plain": [
       "SFClauses(pos_prev='(x_prev = 50 & y_prev = 41)', pos_next='(x_next = 51 & y_next = 41)', pose_prev='pose_prev = 0', pose_next='pose_next = 0', item='(B_prev = B_next & PB_prev = PB_next & SPB_prev = SPB_next & S_prev = S_next & M_prev = M_next & G_prev = G_next & SA_prev = SA_next & V_prev = V_next & GS_prev = GS_next & SB_prev = SB_next & HJ_prev = HJ_next & MB_prev = MB_next & CB_prev = CB_next & WB_prev = WB_next & E_prev = E_next & PLB_prev = PLB_next & Spazer_prev = Spazer_next & RT_prev = RT_next & XR_prev = XR_next & IB_prev = IB_next & SJ_prev = SJ_next & Kraid_prev = Kraid_next & Phantoon_prev = Phantoon_next & Draygon_prev = Draygon_next & Ridley_prev = Ridley_next & Botwoon_prev = Botwoon_next & Spore_Spawn_prev = Spore_Spawn_next & Golden_Torizo_prev = Golden_Torizo_next & Bomb_Torizo_prev = Bomb_Torizo_next & Mother_Brain_prev = Mother_Brain_next & Crocomire_prev = Crocomire_next & Ceres_Ridley_prev = Ceres_Ridley_next & Drain_prev = Drain_next & Shaktool_prev = Shaktool_next & START_prev = START_next & Statues_prev = Statues_next)', vel=VClauses(domain='((vv_prev >= 0 & vv_prev <= 0 & vh_prev >= 0 & vh_prev <= 0 & (vt_prev = 1)))', vv='vv_next = 0 + 0', vh='vh_next = 0 + 0', vt='vt_next = 1'))"
      ]
     },
     "execution_count": 17,
     "metadata": {},
     "output_type": "execute_result"
    }
   ],
   "source": [
    "step.state_function.as_tla(start_state.samus.position, level.items)"
   ]
  },
  {
   "cell_type": "code",
   "execution_count": 18,
   "id": "6a4a8c67-a131-4427-a978-6f4b34445d3a",
   "metadata": {},
   "outputs": [
    {
     "data": {
      "text/plain": [
       "60066000"
      ]
     },
     "execution_count": 18,
     "metadata": {},
     "output_type": "execute_result"
    }
   ],
   "source": [
    "213 * 6000 * len(rules)"
   ]
  },
  {
   "cell_type": "code",
   "execution_count": 19,
   "id": "91d3f0a8-f4c6-4f47-9b6f-0fa219e3d6c7",
   "metadata": {},
   "outputs": [],
   "source": [
    "from world_rando.rules import *"
   ]
  },
  {
   "cell_type": "code",
   "execution_count": 20,
   "id": "f330284f-e2aa-41ef-8e7d-5c056e8c7255",
   "metadata": {},
   "outputs": [
    {
     "data": {
      "text/plain": [
       "''"
      ]
     },
     "execution_count": 20,
     "metadata": {},
     "output_type": "execute_result"
    }
   ],
   "source": [
    "tla_tile_clause(level, Coord(0,0), Coord(0,0), AbstractTile.SOLID)"
   ]
  },
  {
   "cell_type": "code",
   "execution_count": 21,
   "id": "e0408b93-982b-424b-93ad-d950dfbe2ae7",
   "metadata": {},
   "outputs": [
    {
     "data": {
      "text/plain": [
       "7"
      ]
     },
     "execution_count": 21,
     "metadata": {},
     "output_type": "execute_result"
    }
   ],
   "source": [
    "get_tile(level, Coord(0,0), Coord(51,41))"
   ]
  },
  {
   "cell_type": "code",
   "execution_count": 22,
   "id": "ace2688c-e9e1-4894-be12-d61f8e41d01e",
   "metadata": {},
   "outputs": [
    {
     "data": {
      "text/plain": [
       "'(PB_prev = 1 & MB_prev = 1)'"
      ]
     },
     "execution_count": 22,
     "metadata": {},
     "output_type": "execute_result"
    }
   ],
   "source": [
    "tla_tile_clause(level, Coord(0,0), Coord(51,41), AbstractTile.AIR)"
   ]
  },
  {
   "cell_type": "code",
   "execution_count": 23,
   "id": "8088f000-617e-488a-ae2b-5dc52fe9a372",
   "metadata": {},
   "outputs": [
    {
     "data": {
      "text/plain": [
       "{<AbstractTile.SOLID: 2>: [(<world_rando.rules.VelocitySet at 0x7f701fae0940>,\n",
       "   ISet([]),\n",
       "   {<SamusPose.STAND: 0>,\n",
       "    <SamusPose.MORPH: 1>,\n",
       "    <SamusPose.JUMP: 2>,\n",
       "    <SamusPose.SPIN: 3>})],\n",
       " <AbstractTile.BLOCK_CRUMBLE: 10>: 'Reciprocal',\n",
       " <AbstractTile.BLOCK_SHOT: 11>: [(<world_rando.rules.VelocitySet at 0x7f701fae0940>,\n",
       "   ISet([]),\n",
       "   {<SamusPose.STAND: 0>,\n",
       "    <SamusPose.MORPH: 1>,\n",
       "    <SamusPose.JUMP: 2>,\n",
       "    <SamusPose.SPIN: 3>})]}"
      ]
     },
     "execution_count": 23,
     "metadata": {},
     "output_type": "execute_result"
    }
   ],
   "source": [
    "block_solid_requirements"
   ]
  },
  {
   "cell_type": "code",
   "execution_count": 24,
   "id": "8f23fbbf-7b07-49ac-a603-e6855f62fdde",
   "metadata": {},
   "outputs": [
    {
     "data": {
      "text/plain": [
       "''"
      ]
     },
     "execution_count": 24,
     "metadata": {},
     "output_type": "execute_result"
    }
   ],
   "source": [
    "p = Coord(50,41)\n",
    "o = Coord(0,0)\n",
    "samus_occupies_air_tla(p, SamusPose.STAND, o, level)"
   ]
  },
  {
   "cell_type": "code",
   "execution_count": 25,
   "id": "ce69a0f0-b43b-43d3-8dd0-6aa55ce07d23",
   "metadata": {},
   "outputs": [],
   "source": [
    "#step.as_tla(start_state.samus.position, level.items)"
   ]
  },
  {
   "cell_type": "code",
   "execution_count": 26,
   "id": "f343d1d0-d634-4bae-9d22-32dd1ba7272d",
   "metadata": {},
   "outputs": [
    {
     "data": {
      "text/plain": [
       "[<world_rando.rules.IntermediateState at 0x7f7005d4e3a0>,\n",
       " <world_rando.rules.IntermediateState at 0x7f7005d4e2b0>]"
      ]
     },
     "execution_count": 26,
     "metadata": {},
     "output_type": "execute_result"
    }
   ],
   "source": [
    "rules[\"Step\"].level_transition.state_list\n",
    "# IntermediateState\n",
    "#  pos: Coord\n",
    "#  walls: [coord]\n",
    "#  airs: [Coord]\n",
    "#  samusfunction: Option(Samusfunction)"
   ]
  },
  {
   "cell_type": "code",
   "execution_count": 27,
   "id": "d3e6571b-5aad-495f-965f-049548a2bf6a",
   "metadata": {},
   "outputs": [],
   "source": [
    "# conflict_ds: Direction -> Clause\n",
    "#   Clause describes necessary prior conditions\n",
    "# collide_outcomes -> [(Clause, Pos, Pose)]\n",
    "#   Clause describes necessary outcomes"
   ]
  },
  {
   "cell_type": "code",
   "execution_count": 28,
   "id": "fc950c4b-0c36-4063-8e10-bd74d2a3aa3d",
   "metadata": {},
   "outputs": [],
   "source": [
    "#item_c"
   ]
  },
  {
   "cell_type": "code",
   "execution_count": 29,
   "id": "dfc3ed06-5b7b-4691-a0e3-771dbeaa3668",
   "metadata": {},
   "outputs": [],
   "source": [
    "fall0 = rules[\"Fall0\"]\n",
    "fall1 = rules[\"Fall1\"]\n",
    "pp = Coord(100,41)"
   ]
  },
  {
   "cell_type": "code",
   "execution_count": 30,
   "id": "d6d2cc5a-1847-40bb-80ee-88c48f8b60d2",
   "metadata": {},
   "outputs": [
    {
     "name": "stdout",
     "output_type": "stream",
     "text": [
      "Iteration 0\n",
      "c(100,41)\n",
      "(x_next = 100 & y_next = 41)\n",
      "Walls: []\n",
      "Airs: [(c(1,0), [c(1,0), c(1,1), c(1,2)]), (c(0,1), [])]\n",
      "['', '']\n",
      "{}\n",
      "Iteration 1\n",
      "c(101,41)\n",
      "(x_next = 101 & y_next = 41)\n",
      "Walls: []\n",
      "Airs: [(c(1,0), []), (c(0,1), [])]\n",
      "['', '', '', '']\n",
      "{}\n",
      "Outcomes:\n",
      "Outcome 0: ((x_next = 101 & y_next = 41) & pose_next = 2 & ((vv_next = vv_prev + 1 | vv_prev = 1 & vv_next = 1) & vh_next = 0 + 0 & vt_next = 1))\n"
     ]
    }
   ],
   "source": [
    "fall0e = fall0.level_transition.as_tla(pp, level, debug=True)"
   ]
  },
  {
   "cell_type": "code",
   "execution_count": 31,
   "id": "163fccef-b42f-48ac-b53c-fddbbaac1e46",
   "metadata": {},
   "outputs": [],
   "source": [
    "sf_clauses = step.state_function.as_tla(p, level.items)\n",
    "pos_prev_c, pos_next_c, pose_prev_c, pose_next_c, item_c, v_clauses = sf_clauses\n",
    "domain_c, vv_c, vh_c, vt_c = v_clauses"
   ]
  },
  {
   "cell_type": "code",
   "execution_count": 32,
   "id": "fba9f0c7-dc1a-409f-993d-6ccfda65a6a6",
   "metadata": {},
   "outputs": [
    {
     "name": "stdout",
     "output_type": "stream",
     "text": [
      "Iteration 0\n",
      "c(50,41)\n",
      "(x_next = 50 & y_next = 41)\n",
      "Walls: [c(0,3)]\n",
      "Airs: [(c(1,0), [c(1,0), c(1,1), c(1,2)]), (c(0,1), [])]\n",
      "['', '']\n",
      "{c(1,0): '(~((PB_prev = 1 & MB_prev = 1)) | ~((PB_prev = 1 & MB_prev = 1)) | ~((PB_prev = 1 & MB_prev = 1)))'}\n",
      "Iteration 1\n",
      "c(51,41)\n",
      "(x_next = 51 & y_next = 41)\n",
      "Walls: [c(0,3)]\n",
      "Airs: [(c(1,0), []), (c(0,1), [])]\n",
      "['', '', '~((~((PB_prev = 1 & MB_prev = 1)) | ~((PB_prev = 1 & MB_prev = 1)) | ~((PB_prev = 1 & MB_prev = 1))))', '((PB_prev = 1 & MB_prev = 1) & (PB_prev = 1 & MB_prev = 1) & (PB_prev = 1 & MB_prev = 1))', '']\n",
      "{}\n",
      "Outcomes:\n",
      "Outcome 0: ((x_next = 50 & y_next = 41) & pose_next = 0 & (vt_next = 1 & vh_next = 0 & vv_next = 0 + 0 & (~((PB_prev = 1 & MB_prev = 1)) | ~((PB_prev = 1 & MB_prev = 1)) | ~((PB_prev = 1 & MB_prev = 1)))))\n",
      "Outcome 1: ((x_next = 51 & y_next = 41) & pose_next = 0 & (vv_next = 0 + 0 & vh_next = 0 + 0 & vt_next = 1) & (~((~((PB_prev = 1 & MB_prev = 1)) | ~((PB_prev = 1 & MB_prev = 1)) | ~((PB_prev = 1 & MB_prev = 1)))) & ((PB_prev = 1 & MB_prev = 1) & (PB_prev = 1 & MB_prev = 1) & (PB_prev = 1 & MB_prev = 1))))\n"
     ]
    }
   ],
   "source": [
    "expr = step.level_transition.as_tla(p, level, debug=True)"
   ]
  },
  {
   "cell_type": "code",
   "execution_count": 33,
   "id": "dd273fd5-23ea-413f-a0e6-39ff7d7c8d09",
   "metadata": {},
   "outputs": [
    {
     "data": {
      "text/plain": [
       "'((x_prev = 50 & y_prev = 41) & pose_prev = 0 & ((vv_prev >= 0 & vv_prev <= 0 & vh_prev >= 0 & vh_prev <= 0 & (vt_prev = 1))) & (B_prev = B_next & PB_prev = PB_next & SPB_prev = SPB_next & S_prev = S_next & M_prev = M_next & G_prev = G_next & SA_prev = SA_next & V_prev = V_next & GS_prev = GS_next & SB_prev = SB_next & HJ_prev = HJ_next & MB_prev = MB_next & CB_prev = CB_next & WB_prev = WB_next & E_prev = E_next & PLB_prev = PLB_next & Spazer_prev = Spazer_next & RT_prev = RT_next & XR_prev = XR_next & IB_prev = IB_next & SJ_prev = SJ_next & Kraid_prev = Kraid_next & Phantoon_prev = Phantoon_next & Draygon_prev = Draygon_next & Ridley_prev = Ridley_next & Botwoon_prev = Botwoon_next & Spore_Spawn_prev = Spore_Spawn_next & Golden_Torizo_prev = Golden_Torizo_next & Bomb_Torizo_prev = Bomb_Torizo_next & Mother_Brain_prev = Mother_Brain_next & Crocomire_prev = Crocomire_next & Ceres_Ridley_prev = Ceres_Ridley_next & Drain_prev = Drain_next & Shaktool_prev = Shaktool_next & START_prev = START_next & Statues_prev = Statues_next)) & (((x_next = 50 & y_next = 41) & pose_next = 0 & (vt_next = 1 & vh_next = 0 & vv_next = 0 + 0 & (~((PB_prev = 1 & MB_prev = 1)) | ~((PB_prev = 1 & MB_prev = 1)) | ~((PB_prev = 1 & MB_prev = 1))))) | ((x_next = 51 & y_next = 41) & pose_next = 0 & (vv_next = 0 + 0 & vh_next = 0 + 0 & vt_next = 1) & (~((~((PB_prev = 1 & MB_prev = 1)) | ~((PB_prev = 1 & MB_prev = 1)) | ~((PB_prev = 1 & MB_prev = 1)))) & ((PB_prev = 1 & MB_prev = 1) & (PB_prev = 1 & MB_prev = 1) & (PB_prev = 1 & MB_prev = 1)))))'"
      ]
     },
     "execution_count": 33,
     "metadata": {},
     "output_type": "execute_result"
    }
   ],
   "source": [
    "expr"
   ]
  },
  {
   "cell_type": "code",
   "execution_count": 34,
   "id": "e4ddec21-d9bd-46c4-9cd5-07c8d80aa538",
   "metadata": {},
   "outputs": [],
   "source": [
    "from data_types.item_set import item_mapping"
   ]
  },
  {
   "cell_type": "code",
   "execution_count": 35,
   "id": "beb9255f-2cdf-4cd8-a19e-096fb1774abc",
   "metadata": {},
   "outputs": [],
   "source": [
    "rule_name_ids = {r:i for i,r in enumerate(rules.keys())}\n",
    "pose_ids = {p:i for i,p in enumerate(SamusPose)}"
   ]
  },
  {
   "cell_type": "code",
   "execution_count": 36,
   "id": "d1ec9372-1df3-4d9d-bee3-816b4990f4ab",
   "metadata": {},
   "outputs": [],
   "source": [
    "def mk_replace(context, before, after):\n",
    "    replace_dict = {}\n",
    "    for k in context.vars.keys():\n",
    "        if k.endswith(before):\n",
    "            replace_dict[k] = k.replace(before, after)\n",
    "    return replace_dict"
   ]
  },
  {
   "cell_type": "code",
   "execution_count": 37,
   "id": "4549e623-6da8-4651-9212-93fde39bcf18",
   "metadata": {},
   "outputs": [],
   "source": [
    "# ITE(tile_reach(x,y),tile_reach(x,y),node_reach(x,y)) \n",
    "# node_reach\n",
    "# TLA for node_reach"
   ]
  },
  {
   "cell_type": "code",
   "execution_count": 38,
   "id": "67118793-5160-42a5-92d7-84765c454bc2",
   "metadata": {},
   "outputs": [
    {
     "name": "stderr",
     "output_type": "stream",
     "text": [
      "`omega.symbolic.symbolic` failed to import `dd.cudd`.\n",
      "Will use `dd.autoref`.\n"
     ]
    }
   ],
   "source": [
    "from omega.symbolic.fol import Context"
   ]
  },
  {
   "cell_type": "code",
   "execution_count": 39,
   "id": "dc7a4857-037d-4d24-8878-578ed9712849",
   "metadata": {},
   "outputs": [],
   "source": [
    "context = Context()\n",
    "context.declare(\n",
    "    room_id_prev = (0,0xffff),\n",
    "    room_id_next = (0,0xffff),\n",
    "    \n",
    "    rule = (0,len(rules.keys())-1),\n",
    "\n",
    "    x_prev = (0,level.shape[0]-1),\n",
    "    x_next = (0,level.shape[0]-1),\n",
    "\n",
    "    y_prev = (0,level.shape[1]-1),\n",
    "    y_next = (0,level.shape[1]-1),\n",
    "\n",
    "    pose_prev = (0,len(SamusPose)-1),\n",
    "    pose_next = (0,len(SamusPose)-1),\n",
    "    \n",
    "    vt_prev = (0, len(VType)),\n",
    "    vt_next = (0, len(VType)),\n",
    "    \n",
    "    vh_prev = (-30, 30),\n",
    "    vh_next = (-30, 30),\n",
    "    \n",
    "    vv_prev = (-15, 1),\n",
    "    vv_next = (-15, 1),\n",
    ")\n",
    "# Try to get a favorable variable ordering\n",
    "shared_dict = {}\n",
    "for i in item_mapping:\n",
    "    shared_dict[f\"{i}_prev\"] = (0,1)\n",
    "    shared_dict[f\"{i}_next\"] = (0,1)\n",
    "context.declare(**shared_dict)"
   ]
  },
  {
   "cell_type": "code",
   "execution_count": 40,
   "id": "48e35b4c-5979-484b-ab5b-0a91c0184589",
   "metadata": {},
   "outputs": [],
   "source": [
    "def translate_iset(itemset, fstr=\"{}\"):\n",
    "    d = {}\n",
    "    for i in item_mapping:\n",
    "        if i in itemset:\n",
    "            d[fstr.format(i)] = 1\n",
    "        #else:\n",
    "        #  d[fstr.format(i)] = 0\n",
    "    return d"
   ]
  },
  {
   "cell_type": "code",
   "execution_count": 41,
   "id": "eadaa866-6daa-47a6-b371-346872ea5bf3",
   "metadata": {},
   "outputs": [],
   "source": [
    "#context.vars"
   ]
  },
  {
   "cell_type": "code",
   "execution_count": 42,
   "id": "ecd628f9-e0d6-4bc2-8d2b-bd5dc57dbda4",
   "metadata": {},
   "outputs": [],
   "source": [
    "trans_test = context.false"
   ]
  },
  {
   "cell_type": "code",
   "execution_count": 43,
   "id": "55264f58-85c5-46c6-aad7-64027ed949a5",
   "metadata": {},
   "outputs": [],
   "source": [
    "trans_test |= context.add_expr(expr)"
   ]
  },
  {
   "cell_type": "code",
   "execution_count": 44,
   "id": "c8955267-3ac6-4a68-8678-e0d7ec058728",
   "metadata": {},
   "outputs": [
    {
     "data": {
      "text/plain": [
       "68719476736"
      ]
     },
     "execution_count": 44,
     "metadata": {},
     "output_type": "execute_result"
    }
   ],
   "source": [
    "trans_test.count()"
   ]
  },
  {
   "cell_type": "code",
   "execution_count": 45,
   "id": "ee58c4c9-4539-46ef-975b-c28db94cc557",
   "metadata": {},
   "outputs": [],
   "source": [
    "all_xys = [\"x_prev\", \"y_prev\", \"x_next\", \"y_next\"]\n",
    "nonxy_vars = list(filter(lambda x: x != \"x_prev\" and x != \"y_prev\", context.vars.keys()))\n",
    "nonxy_vars2 = list(filter(lambda x: x != \"x_next\" and x != \"y_next\", context.vars.keys()))\n",
    "nonxy_vars3 = list(filter(lambda x: x not in all_xys, context.vars.keys()))"
   ]
  },
  {
   "cell_type": "code",
   "execution_count": 46,
   "id": "39042da4-93e9-466c-b820-3d75c95dd1e9",
   "metadata": {},
   "outputs": [],
   "source": [
    "posns = context.exist(nonxy_vars2, trans_test)"
   ]
  },
  {
   "cell_type": "code",
   "execution_count": 47,
   "id": "ceb3982e-a6ab-468e-baf2-e38a422c015c",
   "metadata": {},
   "outputs": [],
   "source": [
    "model_posns = [(a[\"x_next\"], -a[\"y_next\"]) for a in context.pick_iter(posns)]"
   ]
  },
  {
   "cell_type": "code",
   "execution_count": 48,
   "id": "90e0f5ee-242b-462f-8ce2-ecb22f47e96f",
   "metadata": {},
   "outputs": [
    {
     "data": {
      "text/plain": [
       "[(50, -41), (51, -41)]"
      ]
     },
     "execution_count": 48,
     "metadata": {},
     "output_type": "execute_result"
    }
   ],
   "source": [
    "model_posns"
   ]
  },
  {
   "cell_type": "code",
   "execution_count": 49,
   "id": "cb037ea3-fab0-42e0-a5ae-5604b9ac74fb",
   "metadata": {},
   "outputs": [],
   "source": [
    "## The big loop"
   ]
  },
  {
   "cell_type": "code",
   "execution_count": 50,
   "id": "e5649d1f-7f05-4a8a-baba-1418b17a4aa4",
   "metadata": {},
   "outputs": [],
   "source": [
    "import itertools"
   ]
  },
  {
   "cell_type": "code",
   "execution_count": 51,
   "id": "7f5fe2d2-7275-4f96-9d3c-c20faffe8a1c",
   "metadata": {},
   "outputs": [],
   "source": [
    "from tqdm.notebook import tqdm"
   ]
  },
  {
   "cell_type": "code",
   "execution_count": 52,
   "id": "4da5afff-0973-4a10-bde5-df7824043d9a",
   "metadata": {
    "tags": []
   },
   "outputs": [],
   "source": [
    "def mk_trans(room_header):\n",
    "    level = make_level_from_room(room_header)\n",
    "    trans = context.false\n",
    "    addr = int(room_header.old_address) & 0xffff\n",
    "    room_same = context.add_expr(f\"room_id_prev = {addr} & room_id_next = {addr}\")\n",
    "    for i,(x,y) in tqdm(enumerate(itertools.product(range(level.shape[0]), range(level.shape[1]))), total=level.shape[0] * level.shape[1]):\n",
    "        c = Coord(x, y)\n",
    "        for name, rule in rules.items():\n",
    "            #print(c, name)\n",
    "            expr = rule.level_transition.as_tla(c, level)\n",
    "            if expr:\n",
    "                #print(c, name)\n",
    "                #print(expr)\n",
    "                #TODO: context.define(items_unchanged)\n",
    "                #TODO: pass context to as_tla and produce a BDD\n",
    "                expr_bdd = context.add_expr(expr)\n",
    "                #print(f\"Expr: {expr_bdd.count()}\")\n",
    "                #print(f\"Room Same: {room_same.count()}\")\n",
    "                #print(f\"Combined: {(expr_bdd & room_same).count()}\")\n",
    "                trans |= (expr_bdd & room_same)\n",
    "    return trans"
   ]
  },
  {
   "cell_type": "code",
   "execution_count": 53,
   "id": "01e09b6c-6bcb-4570-98f7-ff7fcd58b54d",
   "metadata": {},
   "outputs": [
    {
     "data": {
      "application/json": {
       "ascii": false,
       "bar_format": null,
       "colour": null,
       "elapsed": 0.013495445251464844,
       "initial": 0,
       "n": 0,
       "ncols": null,
       "nrows": null,
       "postfix": null,
       "prefix": "",
       "rate": null,
       "total": 6144,
       "unit": "it",
       "unit_divisor": 1000,
       "unit_scale": false
      },
      "application/vnd.jupyter.widget-view+json": {
       "model_id": "26e27c1ce03e4e24ba131c9d5bd197f2",
       "version_major": 2,
       "version_minor": 0
      },
      "text/plain": [
       "  0%|          | 0/6144 [00:00<?, ?it/s]"
      ]
     },
     "metadata": {},
     "output_type": "display_data"
    },
    {
     "ename": "KeyboardInterrupt",
     "evalue": "",
     "output_type": "error",
     "traceback": [
      "\u001b[0;31m---------------------------------------------------------------------------\u001b[0m",
      "\u001b[0;31mKeyboardInterrupt\u001b[0m                         Traceback (most recent call last)",
      "\u001b[0;32m<ipython-input-53-05d076ec48a6>\u001b[0m in \u001b[0;36m<module>\u001b[0;34m\u001b[0m\n\u001b[0;32m----> 1\u001b[0;31m \u001b[0mtrans\u001b[0m \u001b[0;34m=\u001b[0m \u001b[0mmk_trans\u001b[0m\u001b[0;34m(\u001b[0m\u001b[0mheader\u001b[0m\u001b[0;34m)\u001b[0m\u001b[0;34m\u001b[0m\u001b[0;34m\u001b[0m\u001b[0m\n\u001b[0m",
      "\u001b[0;32m<ipython-input-52-c617e12d14a2>\u001b[0m in \u001b[0;36mmk_trans\u001b[0;34m(room_header)\u001b[0m\n\u001b[1;32m     14\u001b[0m                 \u001b[0;31m#TODO: context.define(items_unchanged)\u001b[0m\u001b[0;34m\u001b[0m\u001b[0;34m\u001b[0m\u001b[0;34m\u001b[0m\u001b[0m\n\u001b[1;32m     15\u001b[0m                 \u001b[0;31m#TODO: pass context to as_tla and produce a BDD\u001b[0m\u001b[0;34m\u001b[0m\u001b[0;34m\u001b[0m\u001b[0;34m\u001b[0m\u001b[0m\n\u001b[0;32m---> 16\u001b[0;31m                 \u001b[0mexpr_bdd\u001b[0m \u001b[0;34m=\u001b[0m \u001b[0mcontext\u001b[0m\u001b[0;34m.\u001b[0m\u001b[0madd_expr\u001b[0m\u001b[0;34m(\u001b[0m\u001b[0mexpr\u001b[0m\u001b[0;34m)\u001b[0m\u001b[0;34m\u001b[0m\u001b[0;34m\u001b[0m\u001b[0m\n\u001b[0m\u001b[1;32m     17\u001b[0m                 \u001b[0;31m#print(f\"Expr: {expr_bdd.count()}\")\u001b[0m\u001b[0;34m\u001b[0m\u001b[0;34m\u001b[0m\u001b[0;34m\u001b[0m\u001b[0m\n\u001b[1;32m     18\u001b[0m                 \u001b[0;31m#print(f\"Room Same: {room_same.count()}\")\u001b[0m\u001b[0;34m\u001b[0m\u001b[0;34m\u001b[0m\u001b[0;34m\u001b[0m\u001b[0m\n",
      "\u001b[0;32m~/.local/lib/python3.9/site-packages/omega/symbolic/fol.py\u001b[0m in \u001b[0;36madd_expr\u001b[0;34m(self, e, with_ops)\u001b[0m\n\u001b[1;32m    318\u001b[0m         \u001b[0ms\u001b[0m \u001b[0;34m=\u001b[0m \u001b[0mbv\u001b[0m\u001b[0;34m.\u001b[0m\u001b[0mbitblast\u001b[0m\u001b[0;34m(\u001b[0m\u001b[0me\u001b[0m\u001b[0;34m,\u001b[0m \u001b[0mvrs\u001b[0m\u001b[0;34m=\u001b[0m\u001b[0mself\u001b[0m\u001b[0;34m.\u001b[0m\u001b[0mvars\u001b[0m\u001b[0;34m,\u001b[0m \u001b[0mdefs\u001b[0m\u001b[0;34m=\u001b[0m\u001b[0mdefs\u001b[0m\u001b[0;34m)\u001b[0m\u001b[0;34m\u001b[0m\u001b[0;34m\u001b[0m\u001b[0m\n\u001b[1;32m    319\u001b[0m         \u001b[0;32massert\u001b[0m \u001b[0mstx\u001b[0m\u001b[0;34m.\u001b[0m\u001b[0misinstance_str\u001b[0m\u001b[0;34m(\u001b[0m\u001b[0ms\u001b[0m\u001b[0;34m)\u001b[0m\u001b[0;34m,\u001b[0m \u001b[0ms\u001b[0m  \u001b[0;31m# was `e` a predicate ?\u001b[0m\u001b[0;34m\u001b[0m\u001b[0;34m\u001b[0m\u001b[0m\n\u001b[0;32m--> 320\u001b[0;31m         \u001b[0;32mreturn\u001b[0m \u001b[0msym_bdd\u001b[0m\u001b[0;34m.\u001b[0m\u001b[0madd_expr\u001b[0m\u001b[0;34m(\u001b[0m\u001b[0ms\u001b[0m\u001b[0;34m,\u001b[0m \u001b[0mself\u001b[0m\u001b[0;34m.\u001b[0m\u001b[0mbdd\u001b[0m\u001b[0;34m)\u001b[0m\u001b[0;34m\u001b[0m\u001b[0;34m\u001b[0m\u001b[0m\n\u001b[0m\u001b[1;32m    321\u001b[0m \u001b[0;34m\u001b[0m\u001b[0m\n\u001b[1;32m    322\u001b[0m     \u001b[0;32mdef\u001b[0m \u001b[0mto_expr\u001b[0m\u001b[0;34m(\u001b[0m\u001b[0mself\u001b[0m\u001b[0;34m,\u001b[0m \u001b[0mu\u001b[0m\u001b[0;34m,\u001b[0m \u001b[0mcare\u001b[0m\u001b[0;34m=\u001b[0m\u001b[0;32mNone\u001b[0m\u001b[0;34m,\u001b[0m \u001b[0;34m**\u001b[0m\u001b[0mkw\u001b[0m\u001b[0;34m)\u001b[0m\u001b[0;34m:\u001b[0m\u001b[0;34m\u001b[0m\u001b[0;34m\u001b[0m\u001b[0m\n",
      "\u001b[0;32m~/.local/lib/python3.9/site-packages/omega/symbolic/bdd.py\u001b[0m in \u001b[0;36madd_expr\u001b[0;34m(e, bdd)\u001b[0m\n\u001b[1;32m    260\u001b[0m     \u001b[0;34m@\u001b[0m\u001b[0mrtype\u001b[0m\u001b[0;34m:\u001b[0m\u001b[0;31m \u001b[0m\u001b[0;31m`\u001b[0m\u001b[0mint\u001b[0m\u001b[0;31m`\u001b[0m\u001b[0;34m\u001b[0m\u001b[0;34m\u001b[0m\u001b[0m\n\u001b[1;32m    261\u001b[0m     \"\"\"\n\u001b[0;32m--> 262\u001b[0;31m     \u001b[0mtree\u001b[0m \u001b[0;34m=\u001b[0m \u001b[0mparser\u001b[0m\u001b[0;34m.\u001b[0m\u001b[0mparse\u001b[0m\u001b[0;34m(\u001b[0m\u001b[0me\u001b[0m\u001b[0;34m)\u001b[0m\u001b[0;34m\u001b[0m\u001b[0;34m\u001b[0m\u001b[0m\n\u001b[0m\u001b[1;32m    263\u001b[0m     \u001b[0mu\u001b[0m \u001b[0;34m=\u001b[0m \u001b[0mtree\u001b[0m\u001b[0;34m.\u001b[0m\u001b[0mflatten\u001b[0m\u001b[0;34m(\u001b[0m\u001b[0mbdd\u001b[0m\u001b[0;34m=\u001b[0m\u001b[0mbdd\u001b[0m\u001b[0;34m)\u001b[0m\u001b[0;34m\u001b[0m\u001b[0;34m\u001b[0m\u001b[0m\n\u001b[1;32m    264\u001b[0m     \u001b[0;32mreturn\u001b[0m \u001b[0mu\u001b[0m\u001b[0;34m\u001b[0m\u001b[0;34m\u001b[0m\u001b[0m\n",
      "\u001b[0;32m~/.local/lib/python3.9/site-packages/omega/symbolic/bdd.py\u001b[0m in \u001b[0;36mparse\u001b[0;34m(self, data)\u001b[0m\n\u001b[1;32m     74\u001b[0m     \u001b[0;32mdef\u001b[0m \u001b[0mparse\u001b[0m\u001b[0;34m(\u001b[0m\u001b[0mself\u001b[0m\u001b[0;34m,\u001b[0m \u001b[0mdata\u001b[0m\u001b[0;34m)\u001b[0m\u001b[0;34m:\u001b[0m\u001b[0;34m\u001b[0m\u001b[0;34m\u001b[0m\u001b[0m\n\u001b[1;32m     75\u001b[0m         \u001b[0mself\u001b[0m\u001b[0;34m.\u001b[0m\u001b[0mlexer\u001b[0m\u001b[0;34m.\u001b[0m\u001b[0mlexer\u001b[0m\u001b[0;34m.\u001b[0m\u001b[0minput\u001b[0m\u001b[0;34m(\u001b[0m\u001b[0mdata\u001b[0m\u001b[0;34m)\u001b[0m\u001b[0;34m\u001b[0m\u001b[0;34m\u001b[0m\u001b[0m\n\u001b[0;32m---> 76\u001b[0;31m         \u001b[0mr\u001b[0m \u001b[0;34m=\u001b[0m \u001b[0mself\u001b[0m\u001b[0;34m.\u001b[0m\u001b[0m_recurse\u001b[0m\u001b[0;34m(\u001b[0m\u001b[0;34m)\u001b[0m\u001b[0;34m\u001b[0m\u001b[0;34m\u001b[0m\u001b[0m\n\u001b[0m\u001b[1;32m     77\u001b[0m         \u001b[0;31m# empty stack ?\u001b[0m\u001b[0;34m\u001b[0m\u001b[0;34m\u001b[0m\u001b[0;34m\u001b[0m\u001b[0m\n\u001b[1;32m     78\u001b[0m         \u001b[0mtok\u001b[0m \u001b[0;34m=\u001b[0m \u001b[0mself\u001b[0m\u001b[0;34m.\u001b[0m\u001b[0mlexer\u001b[0m\u001b[0;34m.\u001b[0m\u001b[0mlexer\u001b[0m\u001b[0;34m.\u001b[0m\u001b[0mtoken\u001b[0m\u001b[0;34m(\u001b[0m\u001b[0;34m)\u001b[0m\u001b[0;34m\u001b[0m\u001b[0;34m\u001b[0m\u001b[0m\n",
      "\u001b[0;32m~/.local/lib/python3.9/site-packages/omega/symbolic/bdd.py\u001b[0m in \u001b[0;36m_recurse\u001b[0;34m(self)\u001b[0m\n\u001b[1;32m    101\u001b[0m             \u001b[0mop\u001b[0m \u001b[0;34m=\u001b[0m \u001b[0mtok\u001b[0m\u001b[0;34m.\u001b[0m\u001b[0mvalue\u001b[0m\u001b[0;34m\u001b[0m\u001b[0;34m\u001b[0m\u001b[0m\n\u001b[1;32m    102\u001b[0m             \u001b[0mx\u001b[0m \u001b[0;34m=\u001b[0m \u001b[0mself\u001b[0m\u001b[0;34m.\u001b[0m\u001b[0m_recurse\u001b[0m\u001b[0;34m(\u001b[0m\u001b[0;34m)\u001b[0m\u001b[0;34m\u001b[0m\u001b[0;34m\u001b[0m\u001b[0m\n\u001b[0;32m--> 103\u001b[0;31m             \u001b[0my\u001b[0m \u001b[0;34m=\u001b[0m \u001b[0mself\u001b[0m\u001b[0;34m.\u001b[0m\u001b[0m_recurse\u001b[0m\u001b[0;34m(\u001b[0m\u001b[0;34m)\u001b[0m\u001b[0;34m\u001b[0m\u001b[0;34m\u001b[0m\u001b[0m\n\u001b[0m\u001b[1;32m    104\u001b[0m             \u001b[0;32mreturn\u001b[0m \u001b[0mself\u001b[0m\u001b[0;34m.\u001b[0m\u001b[0mnodes\u001b[0m\u001b[0;34m.\u001b[0m\u001b[0mOperator\u001b[0m\u001b[0;34m(\u001b[0m\u001b[0mop\u001b[0m\u001b[0;34m,\u001b[0m \u001b[0mx\u001b[0m\u001b[0;34m,\u001b[0m \u001b[0my\u001b[0m\u001b[0;34m)\u001b[0m\u001b[0;34m\u001b[0m\u001b[0;34m\u001b[0m\u001b[0m\n\u001b[1;32m    105\u001b[0m         \u001b[0;32melif\u001b[0m \u001b[0mt\u001b[0m \u001b[0;34m==\u001b[0m \u001b[0;34m'DOLLAR'\u001b[0m\u001b[0;34m:\u001b[0m\u001b[0;34m\u001b[0m\u001b[0;34m\u001b[0m\u001b[0m\n",
      "\u001b[0;32m~/.local/lib/python3.9/site-packages/omega/symbolic/bdd.py\u001b[0m in \u001b[0;36m_recurse\u001b[0;34m(self)\u001b[0m\n\u001b[1;32m    101\u001b[0m             \u001b[0mop\u001b[0m \u001b[0;34m=\u001b[0m \u001b[0mtok\u001b[0m\u001b[0;34m.\u001b[0m\u001b[0mvalue\u001b[0m\u001b[0;34m\u001b[0m\u001b[0;34m\u001b[0m\u001b[0m\n\u001b[1;32m    102\u001b[0m             \u001b[0mx\u001b[0m \u001b[0;34m=\u001b[0m \u001b[0mself\u001b[0m\u001b[0;34m.\u001b[0m\u001b[0m_recurse\u001b[0m\u001b[0;34m(\u001b[0m\u001b[0;34m)\u001b[0m\u001b[0;34m\u001b[0m\u001b[0;34m\u001b[0m\u001b[0m\n\u001b[0;32m--> 103\u001b[0;31m             \u001b[0my\u001b[0m \u001b[0;34m=\u001b[0m \u001b[0mself\u001b[0m\u001b[0;34m.\u001b[0m\u001b[0m_recurse\u001b[0m\u001b[0;34m(\u001b[0m\u001b[0;34m)\u001b[0m\u001b[0;34m\u001b[0m\u001b[0;34m\u001b[0m\u001b[0m\n\u001b[0m\u001b[1;32m    104\u001b[0m             \u001b[0;32mreturn\u001b[0m \u001b[0mself\u001b[0m\u001b[0;34m.\u001b[0m\u001b[0mnodes\u001b[0m\u001b[0;34m.\u001b[0m\u001b[0mOperator\u001b[0m\u001b[0;34m(\u001b[0m\u001b[0mop\u001b[0m\u001b[0;34m,\u001b[0m \u001b[0mx\u001b[0m\u001b[0;34m,\u001b[0m \u001b[0my\u001b[0m\u001b[0;34m)\u001b[0m\u001b[0;34m\u001b[0m\u001b[0;34m\u001b[0m\u001b[0m\n\u001b[1;32m    105\u001b[0m         \u001b[0;32melif\u001b[0m \u001b[0mt\u001b[0m \u001b[0;34m==\u001b[0m \u001b[0;34m'DOLLAR'\u001b[0m\u001b[0;34m:\u001b[0m\u001b[0;34m\u001b[0m\u001b[0;34m\u001b[0m\u001b[0m\n",
      "\u001b[0;32m~/.local/lib/python3.9/site-packages/omega/symbolic/bdd.py\u001b[0m in \u001b[0;36m_recurse\u001b[0;34m(self)\u001b[0m\n\u001b[1;32m    100\u001b[0m         \u001b[0;32melif\u001b[0m \u001b[0mt\u001b[0m \u001b[0;32min\u001b[0m \u001b[0mself\u001b[0m\u001b[0;34m.\u001b[0m\u001b[0m_binary\u001b[0m\u001b[0;34m:\u001b[0m\u001b[0;34m\u001b[0m\u001b[0;34m\u001b[0m\u001b[0m\n\u001b[1;32m    101\u001b[0m             \u001b[0mop\u001b[0m \u001b[0;34m=\u001b[0m \u001b[0mtok\u001b[0m\u001b[0;34m.\u001b[0m\u001b[0mvalue\u001b[0m\u001b[0;34m\u001b[0m\u001b[0;34m\u001b[0m\u001b[0m\n\u001b[0;32m--> 102\u001b[0;31m             \u001b[0mx\u001b[0m \u001b[0;34m=\u001b[0m \u001b[0mself\u001b[0m\u001b[0;34m.\u001b[0m\u001b[0m_recurse\u001b[0m\u001b[0;34m(\u001b[0m\u001b[0;34m)\u001b[0m\u001b[0;34m\u001b[0m\u001b[0;34m\u001b[0m\u001b[0m\n\u001b[0m\u001b[1;32m    103\u001b[0m             \u001b[0my\u001b[0m \u001b[0;34m=\u001b[0m \u001b[0mself\u001b[0m\u001b[0;34m.\u001b[0m\u001b[0m_recurse\u001b[0m\u001b[0;34m(\u001b[0m\u001b[0;34m)\u001b[0m\u001b[0;34m\u001b[0m\u001b[0;34m\u001b[0m\u001b[0m\n\u001b[1;32m    104\u001b[0m             \u001b[0;32mreturn\u001b[0m \u001b[0mself\u001b[0m\u001b[0;34m.\u001b[0m\u001b[0mnodes\u001b[0m\u001b[0;34m.\u001b[0m\u001b[0mOperator\u001b[0m\u001b[0;34m(\u001b[0m\u001b[0mop\u001b[0m\u001b[0;34m,\u001b[0m \u001b[0mx\u001b[0m\u001b[0;34m,\u001b[0m \u001b[0my\u001b[0m\u001b[0;34m)\u001b[0m\u001b[0;34m\u001b[0m\u001b[0;34m\u001b[0m\u001b[0m\n",
      "\u001b[0;32m~/.local/lib/python3.9/site-packages/omega/symbolic/bdd.py\u001b[0m in \u001b[0;36m_recurse\u001b[0;34m(self)\u001b[0m\n\u001b[1;32m    101\u001b[0m             \u001b[0mop\u001b[0m \u001b[0;34m=\u001b[0m \u001b[0mtok\u001b[0m\u001b[0;34m.\u001b[0m\u001b[0mvalue\u001b[0m\u001b[0;34m\u001b[0m\u001b[0;34m\u001b[0m\u001b[0m\n\u001b[1;32m    102\u001b[0m             \u001b[0mx\u001b[0m \u001b[0;34m=\u001b[0m \u001b[0mself\u001b[0m\u001b[0;34m.\u001b[0m\u001b[0m_recurse\u001b[0m\u001b[0;34m(\u001b[0m\u001b[0;34m)\u001b[0m\u001b[0;34m\u001b[0m\u001b[0;34m\u001b[0m\u001b[0m\n\u001b[0;32m--> 103\u001b[0;31m             \u001b[0my\u001b[0m \u001b[0;34m=\u001b[0m \u001b[0mself\u001b[0m\u001b[0;34m.\u001b[0m\u001b[0m_recurse\u001b[0m\u001b[0;34m(\u001b[0m\u001b[0;34m)\u001b[0m\u001b[0;34m\u001b[0m\u001b[0;34m\u001b[0m\u001b[0m\n\u001b[0m\u001b[1;32m    104\u001b[0m             \u001b[0;32mreturn\u001b[0m \u001b[0mself\u001b[0m\u001b[0;34m.\u001b[0m\u001b[0mnodes\u001b[0m\u001b[0;34m.\u001b[0m\u001b[0mOperator\u001b[0m\u001b[0;34m(\u001b[0m\u001b[0mop\u001b[0m\u001b[0;34m,\u001b[0m \u001b[0mx\u001b[0m\u001b[0;34m,\u001b[0m \u001b[0my\u001b[0m\u001b[0;34m)\u001b[0m\u001b[0;34m\u001b[0m\u001b[0;34m\u001b[0m\u001b[0m\n\u001b[1;32m    105\u001b[0m         \u001b[0;32melif\u001b[0m \u001b[0mt\u001b[0m \u001b[0;34m==\u001b[0m \u001b[0;34m'DOLLAR'\u001b[0m\u001b[0;34m:\u001b[0m\u001b[0;34m\u001b[0m\u001b[0;34m\u001b[0m\u001b[0m\n",
      "\u001b[0;32m~/.local/lib/python3.9/site-packages/omega/symbolic/bdd.py\u001b[0m in \u001b[0;36m_recurse\u001b[0;34m(self)\u001b[0m\n\u001b[1;32m    107\u001b[0m             \u001b[0;32massert\u001b[0m \u001b[0mu\u001b[0m\u001b[0;34m.\u001b[0m\u001b[0mtype\u001b[0m \u001b[0;34m==\u001b[0m \u001b[0;34m'num'\u001b[0m\u001b[0;34m,\u001b[0m \u001b[0mu\u001b[0m\u001b[0;34m.\u001b[0m\u001b[0mtype\u001b[0m\u001b[0;34m\u001b[0m\u001b[0;34m\u001b[0m\u001b[0m\n\u001b[1;32m    108\u001b[0m             \u001b[0mn\u001b[0m \u001b[0;34m=\u001b[0m \u001b[0mint\u001b[0m\u001b[0;34m(\u001b[0m\u001b[0mu\u001b[0m\u001b[0;34m.\u001b[0m\u001b[0mvalue\u001b[0m\u001b[0;34m)\u001b[0m\u001b[0;34m\u001b[0m\u001b[0;34m\u001b[0m\u001b[0m\n\u001b[0;32m--> 109\u001b[0;31m             \u001b[0mmem\u001b[0m \u001b[0;34m=\u001b[0m \u001b[0;34m[\u001b[0m\u001b[0mself\u001b[0m\u001b[0;34m.\u001b[0m\u001b[0m_recurse\u001b[0m\u001b[0;34m(\u001b[0m\u001b[0;34m)\u001b[0m \u001b[0;32mfor\u001b[0m \u001b[0mi\u001b[0m \u001b[0;32min\u001b[0m \u001b[0mrange\u001b[0m\u001b[0;34m(\u001b[0m\u001b[0mn\u001b[0m\u001b[0;34m)\u001b[0m\u001b[0;34m]\u001b[0m\u001b[0;34m\u001b[0m\u001b[0;34m\u001b[0m\u001b[0m\n\u001b[0m\u001b[1;32m    110\u001b[0m             \u001b[0;32mreturn\u001b[0m \u001b[0mself\u001b[0m\u001b[0;34m.\u001b[0m\u001b[0mnodes\u001b[0m\u001b[0;34m.\u001b[0m\u001b[0mBuffer\u001b[0m\u001b[0;34m(\u001b[0m\u001b[0mmem\u001b[0m\u001b[0;34m)\u001b[0m\u001b[0;34m\u001b[0m\u001b[0;34m\u001b[0m\u001b[0m\n\u001b[1;32m    111\u001b[0m         \u001b[0;32melif\u001b[0m \u001b[0mt\u001b[0m \u001b[0;34m==\u001b[0m \u001b[0;34m'QUESTION'\u001b[0m\u001b[0;34m:\u001b[0m\u001b[0;34m\u001b[0m\u001b[0;34m\u001b[0m\u001b[0m\n",
      "\u001b[0;32m~/.local/lib/python3.9/site-packages/omega/symbolic/bdd.py\u001b[0m in \u001b[0;36m<listcomp>\u001b[0;34m(.0)\u001b[0m\n\u001b[1;32m    107\u001b[0m             \u001b[0;32massert\u001b[0m \u001b[0mu\u001b[0m\u001b[0;34m.\u001b[0m\u001b[0mtype\u001b[0m \u001b[0;34m==\u001b[0m \u001b[0;34m'num'\u001b[0m\u001b[0;34m,\u001b[0m \u001b[0mu\u001b[0m\u001b[0;34m.\u001b[0m\u001b[0mtype\u001b[0m\u001b[0;34m\u001b[0m\u001b[0;34m\u001b[0m\u001b[0m\n\u001b[1;32m    108\u001b[0m             \u001b[0mn\u001b[0m \u001b[0;34m=\u001b[0m \u001b[0mint\u001b[0m\u001b[0;34m(\u001b[0m\u001b[0mu\u001b[0m\u001b[0;34m.\u001b[0m\u001b[0mvalue\u001b[0m\u001b[0;34m)\u001b[0m\u001b[0;34m\u001b[0m\u001b[0;34m\u001b[0m\u001b[0m\n\u001b[0;32m--> 109\u001b[0;31m             \u001b[0mmem\u001b[0m \u001b[0;34m=\u001b[0m \u001b[0;34m[\u001b[0m\u001b[0mself\u001b[0m\u001b[0;34m.\u001b[0m\u001b[0m_recurse\u001b[0m\u001b[0;34m(\u001b[0m\u001b[0;34m)\u001b[0m \u001b[0;32mfor\u001b[0m \u001b[0mi\u001b[0m \u001b[0;32min\u001b[0m \u001b[0mrange\u001b[0m\u001b[0;34m(\u001b[0m\u001b[0mn\u001b[0m\u001b[0;34m)\u001b[0m\u001b[0;34m]\u001b[0m\u001b[0;34m\u001b[0m\u001b[0;34m\u001b[0m\u001b[0m\n\u001b[0m\u001b[1;32m    110\u001b[0m             \u001b[0;32mreturn\u001b[0m \u001b[0mself\u001b[0m\u001b[0;34m.\u001b[0m\u001b[0mnodes\u001b[0m\u001b[0;34m.\u001b[0m\u001b[0mBuffer\u001b[0m\u001b[0;34m(\u001b[0m\u001b[0mmem\u001b[0m\u001b[0;34m)\u001b[0m\u001b[0;34m\u001b[0m\u001b[0;34m\u001b[0m\u001b[0m\n\u001b[1;32m    111\u001b[0m         \u001b[0;32melif\u001b[0m \u001b[0mt\u001b[0m \u001b[0;34m==\u001b[0m \u001b[0;34m'QUESTION'\u001b[0m\u001b[0;34m:\u001b[0m\u001b[0;34m\u001b[0m\u001b[0;34m\u001b[0m\u001b[0m\n",
      "\u001b[0;32m~/.local/lib/python3.9/site-packages/omega/symbolic/bdd.py\u001b[0m in \u001b[0;36m_recurse\u001b[0;34m(self)\u001b[0m\n\u001b[1;32m     96\u001b[0m         \u001b[0mt\u001b[0m \u001b[0;34m=\u001b[0m \u001b[0mtok\u001b[0m\u001b[0;34m.\u001b[0m\u001b[0mtype\u001b[0m\u001b[0;34m\u001b[0m\u001b[0;34m\u001b[0m\u001b[0m\n\u001b[1;32m     97\u001b[0m         \u001b[0;32mif\u001b[0m \u001b[0mt\u001b[0m \u001b[0;34m==\u001b[0m \u001b[0;34m'NOT'\u001b[0m\u001b[0;34m:\u001b[0m\u001b[0;34m\u001b[0m\u001b[0;34m\u001b[0m\u001b[0m\n\u001b[0;32m---> 98\u001b[0;31m             \u001b[0mx\u001b[0m \u001b[0;34m=\u001b[0m \u001b[0mself\u001b[0m\u001b[0;34m.\u001b[0m\u001b[0m_recurse\u001b[0m\u001b[0;34m(\u001b[0m\u001b[0;34m)\u001b[0m\u001b[0;34m\u001b[0m\u001b[0;34m\u001b[0m\u001b[0m\n\u001b[0m\u001b[1;32m     99\u001b[0m             \u001b[0;32mreturn\u001b[0m \u001b[0mself\u001b[0m\u001b[0;34m.\u001b[0m\u001b[0mnodes\u001b[0m\u001b[0;34m.\u001b[0m\u001b[0mOperator\u001b[0m\u001b[0;34m(\u001b[0m\u001b[0;34m'!'\u001b[0m\u001b[0;34m,\u001b[0m \u001b[0mx\u001b[0m\u001b[0;34m)\u001b[0m\u001b[0;34m\u001b[0m\u001b[0;34m\u001b[0m\u001b[0m\n\u001b[1;32m    100\u001b[0m         \u001b[0;32melif\u001b[0m \u001b[0mt\u001b[0m \u001b[0;32min\u001b[0m \u001b[0mself\u001b[0m\u001b[0;34m.\u001b[0m\u001b[0m_binary\u001b[0m\u001b[0;34m:\u001b[0m\u001b[0;34m\u001b[0m\u001b[0;34m\u001b[0m\u001b[0m\n",
      "\u001b[0;32m~/.local/lib/python3.9/site-packages/omega/symbolic/bdd.py\u001b[0m in \u001b[0;36m_recurse\u001b[0;34m(self)\u001b[0m\n\u001b[1;32m    101\u001b[0m             \u001b[0mop\u001b[0m \u001b[0;34m=\u001b[0m \u001b[0mtok\u001b[0m\u001b[0;34m.\u001b[0m\u001b[0mvalue\u001b[0m\u001b[0;34m\u001b[0m\u001b[0;34m\u001b[0m\u001b[0m\n\u001b[1;32m    102\u001b[0m             \u001b[0mx\u001b[0m \u001b[0;34m=\u001b[0m \u001b[0mself\u001b[0m\u001b[0;34m.\u001b[0m\u001b[0m_recurse\u001b[0m\u001b[0;34m(\u001b[0m\u001b[0;34m)\u001b[0m\u001b[0;34m\u001b[0m\u001b[0;34m\u001b[0m\u001b[0m\n\u001b[0;32m--> 103\u001b[0;31m             \u001b[0my\u001b[0m \u001b[0;34m=\u001b[0m \u001b[0mself\u001b[0m\u001b[0;34m.\u001b[0m\u001b[0m_recurse\u001b[0m\u001b[0;34m(\u001b[0m\u001b[0;34m)\u001b[0m\u001b[0;34m\u001b[0m\u001b[0;34m\u001b[0m\u001b[0m\n\u001b[0m\u001b[1;32m    104\u001b[0m             \u001b[0;32mreturn\u001b[0m \u001b[0mself\u001b[0m\u001b[0;34m.\u001b[0m\u001b[0mnodes\u001b[0m\u001b[0;34m.\u001b[0m\u001b[0mOperator\u001b[0m\u001b[0;34m(\u001b[0m\u001b[0mop\u001b[0m\u001b[0;34m,\u001b[0m \u001b[0mx\u001b[0m\u001b[0;34m,\u001b[0m \u001b[0my\u001b[0m\u001b[0;34m)\u001b[0m\u001b[0;34m\u001b[0m\u001b[0;34m\u001b[0m\u001b[0m\n\u001b[1;32m    105\u001b[0m         \u001b[0;32melif\u001b[0m \u001b[0mt\u001b[0m \u001b[0;34m==\u001b[0m \u001b[0;34m'DOLLAR'\u001b[0m\u001b[0;34m:\u001b[0m\u001b[0;34m\u001b[0m\u001b[0;34m\u001b[0m\u001b[0m\n",
      "\u001b[0;32m~/.local/lib/python3.9/site-packages/omega/symbolic/bdd.py\u001b[0m in \u001b[0;36m_recurse\u001b[0;34m(self)\u001b[0m\n\u001b[1;32m    101\u001b[0m             \u001b[0mop\u001b[0m \u001b[0;34m=\u001b[0m \u001b[0mtok\u001b[0m\u001b[0;34m.\u001b[0m\u001b[0mvalue\u001b[0m\u001b[0;34m\u001b[0m\u001b[0;34m\u001b[0m\u001b[0m\n\u001b[1;32m    102\u001b[0m             \u001b[0mx\u001b[0m \u001b[0;34m=\u001b[0m \u001b[0mself\u001b[0m\u001b[0;34m.\u001b[0m\u001b[0m_recurse\u001b[0m\u001b[0;34m(\u001b[0m\u001b[0;34m)\u001b[0m\u001b[0;34m\u001b[0m\u001b[0;34m\u001b[0m\u001b[0m\n\u001b[0;32m--> 103\u001b[0;31m             \u001b[0my\u001b[0m \u001b[0;34m=\u001b[0m \u001b[0mself\u001b[0m\u001b[0;34m.\u001b[0m\u001b[0m_recurse\u001b[0m\u001b[0;34m(\u001b[0m\u001b[0;34m)\u001b[0m\u001b[0;34m\u001b[0m\u001b[0;34m\u001b[0m\u001b[0m\n\u001b[0m\u001b[1;32m    104\u001b[0m             \u001b[0;32mreturn\u001b[0m \u001b[0mself\u001b[0m\u001b[0;34m.\u001b[0m\u001b[0mnodes\u001b[0m\u001b[0;34m.\u001b[0m\u001b[0mOperator\u001b[0m\u001b[0;34m(\u001b[0m\u001b[0mop\u001b[0m\u001b[0;34m,\u001b[0m \u001b[0mx\u001b[0m\u001b[0;34m,\u001b[0m \u001b[0my\u001b[0m\u001b[0;34m)\u001b[0m\u001b[0;34m\u001b[0m\u001b[0;34m\u001b[0m\u001b[0m\n\u001b[1;32m    105\u001b[0m         \u001b[0;32melif\u001b[0m \u001b[0mt\u001b[0m \u001b[0;34m==\u001b[0m \u001b[0;34m'DOLLAR'\u001b[0m\u001b[0;34m:\u001b[0m\u001b[0;34m\u001b[0m\u001b[0;34m\u001b[0m\u001b[0m\n",
      "\u001b[0;32m~/.local/lib/python3.9/site-packages/omega/symbolic/bdd.py\u001b[0m in \u001b[0;36m_recurse\u001b[0;34m(self)\u001b[0m\n\u001b[1;32m    100\u001b[0m         \u001b[0;32melif\u001b[0m \u001b[0mt\u001b[0m \u001b[0;32min\u001b[0m \u001b[0mself\u001b[0m\u001b[0;34m.\u001b[0m\u001b[0m_binary\u001b[0m\u001b[0;34m:\u001b[0m\u001b[0;34m\u001b[0m\u001b[0;34m\u001b[0m\u001b[0m\n\u001b[1;32m    101\u001b[0m             \u001b[0mop\u001b[0m \u001b[0;34m=\u001b[0m \u001b[0mtok\u001b[0m\u001b[0;34m.\u001b[0m\u001b[0mvalue\u001b[0m\u001b[0;34m\u001b[0m\u001b[0;34m\u001b[0m\u001b[0m\n\u001b[0;32m--> 102\u001b[0;31m             \u001b[0mx\u001b[0m \u001b[0;34m=\u001b[0m \u001b[0mself\u001b[0m\u001b[0;34m.\u001b[0m\u001b[0m_recurse\u001b[0m\u001b[0;34m(\u001b[0m\u001b[0;34m)\u001b[0m\u001b[0;34m\u001b[0m\u001b[0;34m\u001b[0m\u001b[0m\n\u001b[0m\u001b[1;32m    103\u001b[0m             \u001b[0my\u001b[0m \u001b[0;34m=\u001b[0m \u001b[0mself\u001b[0m\u001b[0;34m.\u001b[0m\u001b[0m_recurse\u001b[0m\u001b[0;34m(\u001b[0m\u001b[0;34m)\u001b[0m\u001b[0;34m\u001b[0m\u001b[0;34m\u001b[0m\u001b[0m\n\u001b[1;32m    104\u001b[0m             \u001b[0;32mreturn\u001b[0m \u001b[0mself\u001b[0m\u001b[0;34m.\u001b[0m\u001b[0mnodes\u001b[0m\u001b[0;34m.\u001b[0m\u001b[0mOperator\u001b[0m\u001b[0;34m(\u001b[0m\u001b[0mop\u001b[0m\u001b[0;34m,\u001b[0m \u001b[0mx\u001b[0m\u001b[0;34m,\u001b[0m \u001b[0my\u001b[0m\u001b[0;34m)\u001b[0m\u001b[0;34m\u001b[0m\u001b[0;34m\u001b[0m\u001b[0m\n",
      "\u001b[0;32m~/.local/lib/python3.9/site-packages/omega/symbolic/bdd.py\u001b[0m in \u001b[0;36m_recurse\u001b[0;34m(self)\u001b[0m\n\u001b[1;32m    101\u001b[0m             \u001b[0mop\u001b[0m \u001b[0;34m=\u001b[0m \u001b[0mtok\u001b[0m\u001b[0;34m.\u001b[0m\u001b[0mvalue\u001b[0m\u001b[0;34m\u001b[0m\u001b[0;34m\u001b[0m\u001b[0m\n\u001b[1;32m    102\u001b[0m             \u001b[0mx\u001b[0m \u001b[0;34m=\u001b[0m \u001b[0mself\u001b[0m\u001b[0;34m.\u001b[0m\u001b[0m_recurse\u001b[0m\u001b[0;34m(\u001b[0m\u001b[0;34m)\u001b[0m\u001b[0;34m\u001b[0m\u001b[0;34m\u001b[0m\u001b[0m\n\u001b[0;32m--> 103\u001b[0;31m             \u001b[0my\u001b[0m \u001b[0;34m=\u001b[0m \u001b[0mself\u001b[0m\u001b[0;34m.\u001b[0m\u001b[0m_recurse\u001b[0m\u001b[0;34m(\u001b[0m\u001b[0;34m)\u001b[0m\u001b[0;34m\u001b[0m\u001b[0;34m\u001b[0m\u001b[0m\n\u001b[0m\u001b[1;32m    104\u001b[0m             \u001b[0;32mreturn\u001b[0m \u001b[0mself\u001b[0m\u001b[0;34m.\u001b[0m\u001b[0mnodes\u001b[0m\u001b[0;34m.\u001b[0m\u001b[0mOperator\u001b[0m\u001b[0;34m(\u001b[0m\u001b[0mop\u001b[0m\u001b[0;34m,\u001b[0m \u001b[0mx\u001b[0m\u001b[0;34m,\u001b[0m \u001b[0my\u001b[0m\u001b[0;34m)\u001b[0m\u001b[0;34m\u001b[0m\u001b[0;34m\u001b[0m\u001b[0m\n\u001b[1;32m    105\u001b[0m         \u001b[0;32melif\u001b[0m \u001b[0mt\u001b[0m \u001b[0;34m==\u001b[0m \u001b[0;34m'DOLLAR'\u001b[0m\u001b[0;34m:\u001b[0m\u001b[0;34m\u001b[0m\u001b[0;34m\u001b[0m\u001b[0m\n",
      "\u001b[0;32m~/.local/lib/python3.9/site-packages/omega/symbolic/bdd.py\u001b[0m in \u001b[0;36m_recurse\u001b[0;34m(self)\u001b[0m\n\u001b[1;32m     91\u001b[0m \u001b[0;34m\u001b[0m\u001b[0m\n\u001b[1;32m     92\u001b[0m     \u001b[0;32mdef\u001b[0m \u001b[0m_recurse\u001b[0m\u001b[0;34m(\u001b[0m\u001b[0mself\u001b[0m\u001b[0;34m)\u001b[0m\u001b[0;34m:\u001b[0m\u001b[0;34m\u001b[0m\u001b[0;34m\u001b[0m\u001b[0m\n\u001b[0;32m---> 93\u001b[0;31m         \u001b[0mtok\u001b[0m \u001b[0;34m=\u001b[0m \u001b[0mself\u001b[0m\u001b[0;34m.\u001b[0m\u001b[0mlexer\u001b[0m\u001b[0;34m.\u001b[0m\u001b[0mlexer\u001b[0m\u001b[0;34m.\u001b[0m\u001b[0mtoken\u001b[0m\u001b[0;34m(\u001b[0m\u001b[0;34m)\u001b[0m\u001b[0;34m\u001b[0m\u001b[0;34m\u001b[0m\u001b[0m\n\u001b[0m\u001b[1;32m     94\u001b[0m         \u001b[0;32mif\u001b[0m \u001b[0;32mnot\u001b[0m \u001b[0mtok\u001b[0m\u001b[0;34m:\u001b[0m\u001b[0;34m\u001b[0m\u001b[0;34m\u001b[0m\u001b[0m\n\u001b[1;32m     95\u001b[0m             \u001b[0;32mraise\u001b[0m \u001b[0mException\u001b[0m\u001b[0;34m(\u001b[0m\u001b[0;34m'syntax error: stream ended early'\u001b[0m\u001b[0;34m)\u001b[0m\u001b[0;34m\u001b[0m\u001b[0;34m\u001b[0m\u001b[0m\n",
      "\u001b[0;32m~/.local/lib/python3.9/site-packages/ply/lex.py\u001b[0m in \u001b[0;36mtoken\u001b[0;34m(self)\u001b[0m\n\u001b[1;32m    334\u001b[0m                     \u001b[0;31m# If no token type was set, it's an ignored token\u001b[0m\u001b[0;34m\u001b[0m\u001b[0;34m\u001b[0m\u001b[0;34m\u001b[0m\u001b[0m\n\u001b[1;32m    335\u001b[0m                     \u001b[0;32mif\u001b[0m \u001b[0mtok\u001b[0m\u001b[0;34m.\u001b[0m\u001b[0mtype\u001b[0m\u001b[0;34m:\u001b[0m\u001b[0;34m\u001b[0m\u001b[0;34m\u001b[0m\u001b[0m\n\u001b[0;32m--> 336\u001b[0;31m                         \u001b[0mself\u001b[0m\u001b[0;34m.\u001b[0m\u001b[0mlexpos\u001b[0m \u001b[0;34m=\u001b[0m \u001b[0mm\u001b[0m\u001b[0;34m.\u001b[0m\u001b[0mend\u001b[0m\u001b[0;34m(\u001b[0m\u001b[0;34m)\u001b[0m\u001b[0;34m\u001b[0m\u001b[0;34m\u001b[0m\u001b[0m\n\u001b[0m\u001b[1;32m    337\u001b[0m                         \u001b[0;32mreturn\u001b[0m \u001b[0mtok\u001b[0m\u001b[0;34m\u001b[0m\u001b[0;34m\u001b[0m\u001b[0m\n\u001b[1;32m    338\u001b[0m                     \u001b[0;32melse\u001b[0m\u001b[0;34m:\u001b[0m\u001b[0;34m\u001b[0m\u001b[0;34m\u001b[0m\u001b[0m\n",
      "\u001b[0;31mKeyboardInterrupt\u001b[0m: "
     ]
    }
   ],
   "source": [
    "trans = mk_trans(header)"
   ]
  },
  {
   "cell_type": "code",
   "execution_count": null,
   "id": "78040e13-8ce3-43f8-b032-884217bb8883",
   "metadata": {},
   "outputs": [],
   "source": [
    "trans.count(), trans.dag_size"
   ]
  },
  {
   "cell_type": "code",
   "execution_count": null,
   "id": "01f004ba-ad60-46f4-91c2-87023ba6b2b6",
   "metadata": {},
   "outputs": [],
   "source": [
    "posns = context.exist(nonxy_vars, trans)"
   ]
  },
  {
   "cell_type": "code",
   "execution_count": null,
   "id": "4aed834c-ae35-4a8f-afa5-ad9e7ab64bbd",
   "metadata": {},
   "outputs": [],
   "source": [
    "model_posns = [(a[\"x_prev\"], -a[\"y_prev\"]) for a in context.pick_iter(posns)]"
   ]
  },
  {
   "cell_type": "code",
   "execution_count": null,
   "id": "98ceeae1-3cc0-40ea-9904-09c40be33598",
   "metadata": {},
   "outputs": [],
   "source": [
    "figure(figsize=(10,10))\n",
    "scatter(*array(model_posns).T, alpha=0.2)\n",
    "gca().set_aspect('equal');"
   ]
  },
  {
   "cell_type": "code",
   "execution_count": null,
   "id": "8412b304-0f65-49e0-9f39-dd04f423ec6b",
   "metadata": {},
   "outputs": [],
   "source": [
    "rule_name_ids"
   ]
  },
  {
   "cell_type": "code",
   "execution_count": 54,
   "id": "4a087bd4-55ad-403a-8e05-1900869dbaaf",
   "metadata": {},
   "outputs": [],
   "source": [
    "## Composing trans with itself\n",
    "context2 = Context()\n",
    "context2.declare(\n",
    "    room_id_prev = (0,0xffff),\n",
    "    room_id_next = (0,0xffff),\n",
    "    room_id_temp = (0,0xffff),\n",
    "\n",
    "    x_prev = (0,level.shape[0]-1),\n",
    "    x_next = (0,level.shape[0]-1),\n",
    "    x_temp = (0,level.shape[0]-1),\n",
    "\n",
    "    y_prev = (0,level.shape[1]-1),\n",
    "    y_next = (0,level.shape[1]-1),\n",
    "    y_temp = (0,level.shape[1]-1),\n",
    "\n",
    "    pose_prev = (0,len(SamusPose)-1),\n",
    "    pose_next = (0,len(SamusPose)-1),\n",
    "    pose_temp = (0,len(SamusPose)-1),\n",
    "    \n",
    "    vt_prev = (0, len(VType)),\n",
    "    vt_next = (0, len(VType)),\n",
    "    vt_temp = (0, len(VType)),\n",
    "    \n",
    "    vh_prev = (-30, 30),\n",
    "    vh_next = (-30, 30),\n",
    "    vh_temp = (-30, 30),\n",
    "    \n",
    "    vv_prev = (-15, 1),\n",
    "    vv_next = (-15, 1),\n",
    "    vv_temp = (-15, 1),\n",
    ")\n",
    "# Try to get a favorable variable ordering\n",
    "shared_dict = {}\n",
    "for i in item_mapping:\n",
    "    shared_dict[f\"{i}_prev\"] = (0,1)\n",
    "    shared_dict[f\"{i}_next\"] = (0,1)\n",
    "    shared_dict[f\"{i}_temp\"] = (0,1)\n",
    "context2.declare(**shared_dict)"
   ]
  },
  {
   "cell_type": "code",
   "execution_count": 55,
   "id": "7f142246-baed-441a-8b56-79cfb00b27a9",
   "metadata": {},
   "outputs": [
    {
     "ename": "NameError",
     "evalue": "name 'trans' is not defined",
     "output_type": "error",
     "traceback": [
      "\u001b[0;31m---------------------------------------------------------------------------\u001b[0m",
      "\u001b[0;31mNameError\u001b[0m                                 Traceback (most recent call last)",
      "\u001b[0;32m<ipython-input-55-e3cd21e8e499>\u001b[0m in \u001b[0;36m<module>\u001b[0;34m\u001b[0m\n\u001b[1;32m      1\u001b[0m \u001b[0;31m# Project over \"rule\" since many different rules will be used in the transitive closure\u001b[0m\u001b[0;34m\u001b[0m\u001b[0;34m\u001b[0m\u001b[0;34m\u001b[0m\u001b[0m\n\u001b[0;32m----> 2\u001b[0;31m \u001b[0mtrans_norule\u001b[0m \u001b[0;34m=\u001b[0m \u001b[0mcontext\u001b[0m\u001b[0;34m.\u001b[0m\u001b[0mcopy\u001b[0m\u001b[0;34m(\u001b[0m\u001b[0mcontext\u001b[0m\u001b[0;34m.\u001b[0m\u001b[0mexist\u001b[0m\u001b[0;34m(\u001b[0m\u001b[0;34m[\u001b[0m\u001b[0;34m\"rule\"\u001b[0m\u001b[0;34m]\u001b[0m\u001b[0;34m,\u001b[0m \u001b[0mtrans\u001b[0m\u001b[0;34m)\u001b[0m\u001b[0;34m,\u001b[0m \u001b[0mcontext2\u001b[0m\u001b[0;34m)\u001b[0m\u001b[0;34m\u001b[0m\u001b[0;34m\u001b[0m\u001b[0m\n\u001b[0m",
      "\u001b[0;31mNameError\u001b[0m: name 'trans' is not defined"
     ]
    }
   ],
   "source": [
    "# Project over \"rule\" since many different rules will be used in the transitive closure\n",
    "trans_norule = context.copy(context.exist([\"rule\"], trans), context2)"
   ]
  },
  {
   "cell_type": "code",
   "execution_count": 56,
   "id": "6a4a9880-94bf-4d03-ab0f-61247019abfd",
   "metadata": {},
   "outputs": [],
   "source": [
    "# Have: trans(prev, next)\n",
    "# Want: trans(temp, next)\n",
    "# Have: closure(prev, next)\n",
    "# Want: closure(prev, temp)\n",
    "prev_to_temp = mk_replace(context2, \"prev\", \"temp\")\n",
    "next_to_temp = mk_replace(context2, \"next\", \"temp\")\n",
    "temps = [k for k in context2.vars.keys() if k.endswith(\"_temp\")]"
   ]
  },
  {
   "cell_type": "code",
   "execution_count": 57,
   "id": "800a04a2-87dd-4d95-8ba7-0572cc0d302c",
   "metadata": {},
   "outputs": [],
   "source": [
    "# Iterative squaring\n",
    "def mk_closure(trans_norule):\n",
    "    n = 0\n",
    "    closure = trans_norule\n",
    "    closure_last = context2.false\n",
    "    while closure != closure_last:\n",
    "        closure_last = closure\n",
    "        closure_prev_temp = context2.let(next_to_temp, closure_last)\n",
    "        closure_temp_next = context2.let(prev_to_temp, closure_last)\n",
    "        closure |= context2.exist(temps, closure_prev_temp & closure_temp_next)\n",
    "        print(n, closure.dag_size)\n",
    "        n+=1\n",
    "    closure_square = closure\n",
    "    return closure_square"
   ]
  },
  {
   "cell_type": "code",
   "execution_count": null,
   "id": "9c733847-0e7d-4045-8311-3e6f61207ba8",
   "metadata": {},
   "outputs": [],
   "source": [
    "# mk_closure(trans_norule)"
   ]
  },
  {
   "cell_type": "code",
   "execution_count": null,
   "id": "ff751634-974f-4e17-b157-24284a6d5935",
   "metadata": {},
   "outputs": [],
   "source": [
    "x_expr = closure & context2.add_expr(\"x_prev = 64 & y_prev = 42 & pose_prev = 0 & MB_prev = 1 & PB_prev = 1\")\n",
    "nexts = [k for k in context2.vars.keys() if k.endswith(\"_next\")]\n",
    "prevs = [k for k in context2.vars.keys() if k.endswith(\"_prev\")]\n",
    "xx = context2.pick(context2.exist(nexts, x_expr), prevs)"
   ]
  },
  {
   "cell_type": "code",
   "execution_count": null,
   "id": "54e1b5e2-9d52-4c83-b518-0a800fd299d6",
   "metadata": {},
   "outputs": [],
   "source": [
    "xx"
   ]
  },
  {
   "cell_type": "code",
   "execution_count": null,
   "id": "3df95cba-659b-4036-a21f-390d6556b7b7",
   "metadata": {},
   "outputs": [],
   "source": [
    "xx_bdd = context2.assign_from(xx)\n",
    "reachable = xx_bdd & closure\n",
    "reachable.count()\n",
    "model_posns = [(a[\"x_next\"], -a[\"y_next\"]) for a in context2.pick_iter(reachable)]"
   ]
  },
  {
   "cell_type": "code",
   "execution_count": null,
   "id": "9901e8c4-abe7-4fab-95ae-adb0f583c53d",
   "metadata": {},
   "outputs": [],
   "source": [
    "figure(figsize=(10,10))\n",
    "scatter(*array(model_posns).T, alpha=0.2)\n",
    "scatter(64,-42)\n",
    "gca().set_aspect('equal');"
   ]
  },
  {
   "cell_type": "code",
   "execution_count": null,
   "id": "7f212df8-cf79-45aa-b6c3-7417d51db131",
   "metadata": {},
   "outputs": [],
   "source": [
    "figure(figsize=(10,10))\n",
    "imshow(level.level.T);\n",
    "scatter(64,42)"
   ]
  },
  {
   "cell_type": "code",
   "execution_count": null,
   "id": "66235f87-b4e9-416f-8dc9-23b748d84e85",
   "metadata": {},
   "outputs": [],
   "source": [
    "#TODO: Debug falling rule"
   ]
  },
  {
   "cell_type": "code",
   "execution_count": 58,
   "id": "0d33c5e5-a352-4844-96ce-d167b2b902de",
   "metadata": {},
   "outputs": [],
   "source": [
    "construction_zone = obj_names[\"room_header_0x79e9f\"].door_list.l[1].to_room\n",
    "missiles_room = construction_zone.door_list.l[2].to_room"
   ]
  },
  {
   "cell_type": "code",
   "execution_count": 59,
   "id": "4ca4ae59-c2ef-40d9-bacc-6e82f4956f00",
   "metadata": {},
   "outputs": [
    {
     "data": {
      "text/plain": [
       "<matplotlib.image.AxesImage at 0x7f70042ff490>"
      ]
     },
     "execution_count": 59,
     "metadata": {},
     "output_type": "execute_result"
    },
    {
     "data": {
      "image/png": "[encoded data removed]",
      "text/plain": [
       "<Figure size 432x288 with 1 Axes>"
      ]
     },
     "metadata": {
      "needs_background": "light"
     },
     "output_type": "display_data"
    }
   ],
   "source": [
    "imshow(make_level_from_room(construction_zone).level.T)"
   ]
  },
  {
   "cell_type": "code",
   "execution_count": null,
   "id": "fffaa02b-1d5a-4c1d-8a7f-82651ac5b8c0",
   "metadata": {},
   "outputs": [],
   "source": [
    "imshow(make_level_from_room(missiles_room).level.T)"
   ]
  },
  {
   "cell_type": "code",
   "execution_count": null,
   "id": "ef80ef48-f279-4da0-9f4f-c98805b26ed6",
   "metadata": {
    "tags": []
   },
   "outputs": [],
   "source": [
    "#TODO: declare a context large enough that all possible door transitions work (x_prev and x_next must be within the bounds)\n",
    "with open(\"../output/tla/doors.tla\") as f:\n",
    "    s = f.read()\n",
    "    door_trans = context.add_expr(s)"
   ]
  },
  {
   "cell_type": "code",
   "execution_count": null,
   "id": "ea3e8860-a048-4e5d-8b01-58e8c4e409c4",
   "metadata": {},
   "outputs": [],
   "source": [
    "door_trans.count()"
   ]
  },
  {
   "cell_type": "code",
   "execution_count": null,
   "id": "b07971e2-6353-490c-9c04-c140cd289a01",
   "metadata": {},
   "outputs": [],
   "source": [
    "i = context.pick_iter(context.exist(nonxy_vars3, door_trans))"
   ]
  },
  {
   "cell_type": "code",
   "execution_count": null,
   "id": "5d4e75d3-d54f-42ca-86b9-7cbc6135686a",
   "metadata": {},
   "outputs": [],
   "source": [
    "all_doors = []\n",
    "for j in i:\n",
    "    all_doors.append(j)"
   ]
  },
  {
   "cell_type": "code",
   "execution_count": null,
   "id": "034220e5-5127-4163-af3d-8eb9f57fd7a8",
   "metadata": {},
   "outputs": [],
   "source": [
    "len(all_doors) # (Should be 255, but some doors are past the xy limits)"
   ]
  },
  {
   "cell_type": "code",
   "execution_count": null,
   "id": "6168b7fe-073f-4fba-9ba2-c5e6e0ed96b3",
   "metadata": {},
   "outputs": [],
   "source": [
    "# Displaying the combined graph"
   ]
  },
  {
   "cell_type": "code",
   "execution_count": null,
   "id": "c8c3f80c-847f-4554-94e4-1a74eca5ecaa",
   "metadata": {},
   "outputs": [],
   "source": [
    "compute_rooms = [construction_zone, missiles_room]"
   ]
  },
  {
   "cell_type": "code",
   "execution_count": null,
   "id": "d0f52b9a-f347-461e-b298-40c8c1a10faa",
   "metadata": {},
   "outputs": [],
   "source": [
    "transes = [mk_trans(r) for r in compute_rooms]"
   ]
  },
  {
   "cell_type": "code",
   "execution_count": null,
   "id": "97e9f2ae-7f68-41e4-818b-be54390479e1",
   "metadata": {},
   "outputs": [],
   "source": [
    "norule_transes = [context.copy(context.exist([\"rule\"], trans), context2) for trans in transes]"
   ]
  },
  {
   "cell_type": "code",
   "execution_count": null,
   "id": "74a06cba-3ebd-4c9b-8e73-8b1ba0ae3ff2",
   "metadata": {},
   "outputs": [],
   "source": [
    "closures = [mk_closure(nrt) for nrt in norule_transes]"
   ]
  },
  {
   "cell_type": "code",
   "execution_count": null,
   "id": "3cd29787-f198-4b30-8af7-e97ead61f9ca",
   "metadata": {},
   "outputs": [],
   "source": [
    "construction_trans = transes[0]\n",
    "missiles_trans = transes[1]"
   ]
  },
  {
   "cell_type": "code",
   "execution_count": null,
   "id": "bb4e4117-e56a-41eb-899d-641653c7e3b4",
   "metadata": {},
   "outputs": [],
   "source": [
    "def room_addr_tla(room_header):\n",
    "    return f\"room_id_prev = {int(room_header.old_address) & 0xffff}\"\n",
    "\n",
    "# Restrict door_trans a certain set of rooms\n",
    "def mk_door_trans_for_rooms(door_trans, rooms):\n",
    "    room_restriction = context.add_expr(\" | \".join([room_addr_tla(r) for r in rooms]))\n",
    "    return door_trans & room_restriction"
   ]
  },
  {
   "cell_type": "code",
   "execution_count": null,
   "id": "ecb356d6-d458-491a-aff9-8825b6309611",
   "metadata": {},
   "outputs": [],
   "source": [
    "door_trans2 = mk_door_trans_for_rooms(door_trans, compute_rooms)"
   ]
  },
  {
   "cell_type": "code",
   "execution_count": null,
   "id": "d633bd83-19e5-4f27-ab97-21918b6e4365",
   "metadata": {},
   "outputs": [],
   "source": [
    "all_trans = context.false\n",
    "for trans in transes:\n",
    "    all_trans |= trans\n",
    "all_trans |= door_trans2"
   ]
  },
  {
   "cell_type": "code",
   "execution_count": null,
   "id": "fb254b03-2ae5-4098-93bb-aefdad8ff53a",
   "metadata": {},
   "outputs": [],
   "source": [
    "all_trans.count()"
   ]
  },
  {
   "cell_type": "code",
   "execution_count": null,
   "id": "f11bc96f-6442-41ee-a9f7-e160b98f77a3",
   "metadata": {},
   "outputs": [],
   "source": [
    "from abstraction_validation.abstractify import area_offsets"
   ]
  },
  {
   "cell_type": "code",
   "execution_count": null,
   "id": "5e3ecb36-f8b9-4264-b8bb-0fb29295086f",
   "metadata": {},
   "outputs": [],
   "source": [
    "def get_room_offset(room_header):\n",
    "    area_pos = area_offsets[room_header.area_index]\n",
    "    room_map_pos = Coord(room_header.map_x, room_header.map_y)\n",
    "    return (area_pos + room_map_pos).scale(16)"
   ]
  },
  {
   "cell_type": "code",
   "execution_count": null,
   "id": "fd818e33-2584-46ff-b80d-edbd49275166",
   "metadata": {},
   "outputs": [],
   "source": [
    "offsets = [get_room_offset(r) for r in compute_rooms]"
   ]
  },
  {
   "cell_type": "code",
   "execution_count": null,
   "id": "ed99a3f4-2e29-44c2-8702-af38bbad46c5",
   "metadata": {},
   "outputs": [],
   "source": [
    "addr_offsets = {int(r.old_address) & 0xffff: get_room_offset(r) for r in compute_rooms} "
   ]
  },
  {
   "cell_type": "code",
   "execution_count": null,
   "id": "aa48192d-b826-484d-a177-1605da1a6332",
   "metadata": {},
   "outputs": [],
   "source": [
    "# def get_all_posns(compute_rooms):\n",
    "#     all_posns = []\n",
    "#     for room in compute_rooms:\n",
    "#         offset = get_room_offset(room)\n",
    "#         print(offset)\n",
    "#         print(room_addr_tla(room))\n",
    "#         bb = all_trans & context.add_expr(room_addr_tla(room))\n",
    "#         posns = context.exist(nonxy_vars, bb)\n",
    "#         model_posns = [(a[\"x_prev\"] + offset.x, -a[\"y_prev\"] - offset.y) for a in context.pick_iter(posns)]\n",
    "#         all_posns.extend(model_posns)\n",
    "#     return all_posns\n",
    "\n",
    "keep_vars = [\"x_prev\", \"y_prev\", \"room_id_prev\"]\n",
    "exist_vars = list(filter(lambda x: x not in keep_vars, context.vars.keys()))\n",
    "\n",
    "def get_all_posns(all_trans, addr_offsets):\n",
    "    all_posns = []\n",
    "    posns = context.exist(exist_vars, all_trans)\n",
    "    model_posns = []\n",
    "    for a in context.pick_iter(posns):\n",
    "        offset = addr_offsets[a[\"room_id_prev\"]]\n",
    "        model_posns.append((a[\"x_prev\"] + offset.x, -a[\"y_prev\"] - offset.y))\n",
    "    return model_posns"
   ]
  },
  {
   "cell_type": "code",
   "execution_count": null,
   "id": "f3368afd-1e7b-42e8-b365-d983536cbcc9",
   "metadata": {},
   "outputs": [],
   "source": [
    "pp = get_all_posns(all_trans, addr_offsets)\n",
    "#pp = get_all_posns(construction_trans, addr_offsets)\n",
    "figure(figsize=(10,10))\n",
    "scatter(*array(pp).T)\n",
    "gca().set_aspect('equal');"
   ]
  },
  {
   "cell_type": "code",
   "execution_count": null,
   "id": "874f78f3-a289-4c4b-9520-8a7402749114",
   "metadata": {},
   "outputs": [],
   "source": []
  },
  {
   "cell_type": "code",
   "execution_count": null,
   "id": "ad39a8c5-265b-4c66-a263-1778f6deafea",
   "metadata": {},
   "outputs": [],
   "source": []
  }
 ],
 "metadata": {
  "kernelspec": {
   "display_name": "Python3.9",
   "language": "python",
   "name": "python3"
  },
  "language_info": {
   "codemirror_mode": {
    "name": "ipython",
    "version": 3
   },
   "file_extension": ".py",
   "mimetype": "text/x-python",
   "name": "python",
   "nbconvert_exporter": "python",
   "pygments_lexer": "ipython3",
   "version": "3.9.2"
  }
 },
 "nbformat": 4,
 "nbformat_minor": 5
}

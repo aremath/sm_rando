{
 "cells": [
  {
   "cell_type": "code",
   "execution_count": 1,
   "id": "652276fe-779e-43d5-b8df-af7da7f3af48",
   "metadata": {},
   "outputs": [
    {
     "name": "stdout",
     "output_type": "stream",
     "text": [
      "%pylab is deprecated, use %matplotlib inline and import the required libraries.\n",
      "Populating the interactive namespace from numpy and matplotlib\n"
     ]
    }
   ],
   "source": [
    "%load_ext autoreload\n",
    "%autoreload 2\n",
    "%pylab inline"
   ]
  },
  {
   "cell_type": "code",
   "execution_count": 2,
   "id": "2e25c9a9-273d-48e7-b10c-75f158018c5a",
   "metadata": {},
   "outputs": [],
   "source": [
    "# Item Rando:\n",
    "# 26 'randomizeable' items\n",
    "# 100 'randomizeable' drop locations\n",
    "# idea 1: location : item_id\n",
    "# ~ 500 bits (locations * log(items))\n",
    "# idea 2: item : location_id\n",
    "# ~ 700 bits (locations * log(locations))\n",
    "# idea 3: location : common_item_id\n",
    "# major_item : location_id\n",
    "# 300 bits + 126 bits"
   ]
  },
  {
   "cell_type": "code",
   "execution_count": 3,
   "id": "3b7b83e9-a366-40d5-b795-a0f8eda87234",
   "metadata": {},
   "outputs": [],
   "source": [
    "# Door Rando:\n",
    "# ~550 doors\n",
    "# idea 1: door: door_id\n",
    "# 550 * log(550) = 5500 bits\n",
    "# idea 2: left_door : right_door_id\n",
    "# top_door : bottom_door_id\n",
    "# 225 * log(225) = 2040\n",
    "# idea 3:\n",
    "# X, Y\n",
    "# overworld is ~ 128 x 128\n",
    "# 14 bits per room * 255 rooms = 3570"
   ]
  },
  {
   "cell_type": "code",
   "execution_count": 4,
   "id": "10c76f6a-ba00-4ed3-bcf7-e54f02a0ac1d",
   "metadata": {},
   "outputs": [],
   "source": [
    "import sys\n",
    "sys.path.append(\"../..\")"
   ]
  },
  {
   "cell_type": "code",
   "execution_count": 5,
   "id": "50344397-d052-4305-b397-449326bdb6f3",
   "metadata": {},
   "outputs": [],
   "source": [
    "from encoding.parse_rooms import parse_rooms, parse_exits, dictify_rooms"
   ]
  },
  {
   "cell_type": "code",
   "execution_count": 6,
   "id": "6c89599b-a365-4b29-9526-29f7b4b6e480",
   "metadata": {},
   "outputs": [],
   "source": [
    "from functools import cache\n",
    "from itertools import combinations"
   ]
  },
  {
   "cell_type": "code",
   "execution_count": 7,
   "id": "a0a71659-082e-4c55-b02a-12263024482a",
   "metadata": {},
   "outputs": [],
   "source": [
    "rooms = parse_rooms(\"../../encoding/dsl/rooms_for_alloy.txt\")\n",
    "exits = parse_exits(\"../../encoding/dsl/exits_for_alloy.txt\")\n",
    "design = dictify_rooms(rooms, exits)"
   ]
  },
  {
   "cell_type": "code",
   "execution_count": 8,
   "id": "9bbff8b7-adfd-4d80-80bb-5bc5a5cc482d",
   "metadata": {},
   "outputs": [],
   "source": [
    "from rom_tools.rom_manager import RomManager\n",
    "from abstraction_validation.sm_paths import *"
   ]
  },
  {
   "cell_type": "code",
   "execution_count": 9,
   "id": "47526107-52bd-4589-8a4b-a2fad98dc46f",
   "metadata": {},
   "outputs": [],
   "source": [
    "from bdds.bdd_core import *\n",
    "from bdds.node_bdds import *"
   ]
  },
  {
   "cell_type": "code",
   "execution_count": 10,
   "id": "40f049e7-2035-404a-a957-126bb2ba98bb",
   "metadata": {},
   "outputs": [],
   "source": [
    "from functools import reduce"
   ]
  },
  {
   "cell_type": "code",
   "execution_count": 11,
   "id": "913e8077-b16b-4dd8-835d-31d3a679a812",
   "metadata": {},
   "outputs": [],
   "source": [
    "all_nodes = []\n",
    "for r, room in rooms.items():\n",
    "    for node in room.graph.name_node.keys():\n",
    "        all_nodes.append(node)\n",
    "node_ids = {n:i for i,n in enumerate(all_nodes)}"
   ]
  },
  {
   "cell_type": "code",
   "execution_count": 12,
   "id": "5559b3de-f065-44d6-aa07-62443b32ee9e",
   "metadata": {},
   "outputs": [],
   "source": [
    "# Issue with design translation via chopping off the last _\n",
    "node_ids[\"Spore_Spawn_Spawn\"] = node_ids[\"Spore_Spawn_Spore_Spawn\"]\n",
    "node_ids[\"Golden_Torizo_Torizo\"] = node_ids[\"Golden_Torizo_Golden_Torizo\"]\n",
    "node_ids[\"Mother_Brain_Brain\"] = node_ids[\"Mother_Brain_Mother_Brain\"]"
   ]
  },
  {
   "cell_type": "code",
   "execution_count": 13,
   "id": "e781bd57-0184-43b7-a504-37693737f7ec",
   "metadata": {},
   "outputs": [],
   "source": [
    "major_items = [\"MB\", \"B\", \"SPB\", \"G\", \"SA\", \"V\", \"GS\", \"SB\", \"HJ\", \"CB\", \"WB\", \"PLB\", \"Spazer\", \"XR\", \"IB\", \"SJ\"]\n",
    "minor_items = [\"M\", \"S\", \"PB\", \"E\", \"RT\"]\n",
    "rando_items = [\"B\", \"MB\", \"PB\", \"SPB\", \"S\", \"M\", \"G\", \"SA\", \"V\", \"GS\", \"SB\", \"HJ\", \"CB\", \"WB\", \"E\", \"PLB\", \"Spazer\", \"RT\", \"XR\", \"IB\", \"SJ\"]\n",
    "assert set(rando_items) == set(major_items) | set(minor_items)"
   ]
  },
  {
   "cell_type": "code",
   "execution_count": 14,
   "id": "518c012a-1eaf-455b-8282-200003dafd34",
   "metadata": {},
   "outputs": [],
   "source": [
    "context = mk_context_id(node_ids)"
   ]
  },
  {
   "cell_type": "code",
   "execution_count": 15,
   "id": "584a8a8f-fb4f-4b20-80ff-05726f7ab3bb",
   "metadata": {},
   "outputs": [],
   "source": [
    "from functools import reduce"
   ]
  },
  {
   "cell_type": "code",
   "execution_count": 16,
   "id": "c06e9f7f-7875-4566-bcf1-910d8ff64608",
   "metadata": {},
   "outputs": [],
   "source": [
    "def reduce_and(clauses):\n",
    "    return reduce(lambda x, y: x & y, clauses, context.true)\n",
    "\n",
    "def reduce_or(clauses):\n",
    "    return reduce(lambda x, y: x | y, clauses, context.false)"
   ]
  },
  {
   "cell_type": "code",
   "execution_count": 17,
   "id": "b4326b40-72f9-41d7-93fd-53555a750242",
   "metadata": {},
   "outputs": [],
   "source": [
    "def loc_id(room_name, node_name, when=\"prev\"):\n",
    "    node_id = node_ids[f\"{room_name}_{node_name}\"]\n",
    "    return context.add_expr(f\"node_id_{when} = {node_id}\")\n",
    "\n",
    "@cache\n",
    "def item_transitions(item_gained=None):\n",
    "    if item_gained is None:\n",
    "        return context.add_expr(\"(items_unchanged)\", with_ops = True)\n",
    "    clauses = []\n",
    "    for i in design[\"Items\"] | design[\"Bosses\"]:\n",
    "        if i == item_gained:\n",
    "            clause = context.add_expr(f\"{i}_prev < {i}_next\")\n",
    "        else:\n",
    "            clause = context.add_expr(f\"{i}_prev = {i}_next\")\n",
    "        clauses.append(clause)\n",
    "    return reduce_and(clauses)\n",
    "\n",
    "def itemset_to_bdd(itemset):\n",
    "    if len(itemset) == 0:\n",
    "        return context.true\n",
    "    else:\n",
    "        return reduce_and([context.add_expr(f\"{item}_prev = 1\") for item in itemset])\n",
    "\n",
    "def required_itemsets(itemsets):\n",
    "    return reduce_or([itemset_to_bdd(itemset) for itemset in itemsets])\n",
    "\n",
    "def rando_transitions(room_name, node_name, family, possible_items):\n",
    "    t = context.false\n",
    "    node_name = room_name + \"_\" + node_name\n",
    "    drop_name = f\"{family}_drop_{node_name}\"\n",
    "    for i,item in enumerate(possible_items):\n",
    "        t |= context.add_expr(f\"{drop_name} = {i}\") & item_transitions(item)\n",
    "    return t"
   ]
  },
  {
   "cell_type": "code",
   "execution_count": 18,
   "id": "4e6616e1-98d6-4641-a350-87ecd4b37984",
   "metadata": {},
   "outputs": [],
   "source": [
    "major_nodes = []\n",
    "minor_nodes = []\n",
    "other_drop_nodes = []\n",
    "for room_name, room in design[\"Rooms\"].items():\n",
    "    for node_name, d in room[\"Drops\"].items():\n",
    "        node_str = room_name + \"_\" + node_name\n",
    "        if d in major_items:\n",
    "            major_nodes.append(node_str)\n",
    "        elif d in minor_items:\n",
    "            minor_nodes.append(node_str)\n",
    "        else:\n",
    "            other_drop_nodes.append(node_str)"
   ]
  },
  {
   "cell_type": "code",
   "execution_count": 19,
   "id": "134d7534-d5d2-473c-88cb-23a2a6175edc",
   "metadata": {},
   "outputs": [],
   "source": [
    "assert len(major_nodes) == len(major_items)\n",
    "assert len(minor_nodes) == 100 - len(major_nodes)"
   ]
  },
  {
   "cell_type": "code",
   "execution_count": 20,
   "id": "47af38ea-4846-4bea-9873-c4b5cb7231e2",
   "metadata": {},
   "outputs": [],
   "source": [
    "drop_nodes = []\n",
    "for room_name, room in design[\"Rooms\"].items():\n",
    "    for node_name, d in room[\"Drops\"].items():\n",
    "        if d in rando_items:\n",
    "            drop_nodes.append(room_name + \"_\" + node_name)"
   ]
  },
  {
   "cell_type": "code",
   "execution_count": 21,
   "id": "562e39af-844e-4106-8d1d-925541a408be",
   "metadata": {},
   "outputs": [],
   "source": [
    "assert len(drop_nodes) == 100"
   ]
  },
  {
   "cell_type": "code",
   "execution_count": 22,
   "id": "bf106ed0-ba28-4901-9b5d-417813bff1e0",
   "metadata": {},
   "outputs": [],
   "source": [
    "major_item_nodes = []\n",
    "for room_name, room in design[\"Rooms\"].items():\n",
    "    for node_name, d in room[\"Drops\"].items():\n",
    "        if d in rando_items:\n",
    "            drop_nodes.append(room_name + \"_\" + node_name)"
   ]
  },
  {
   "cell_type": "code",
   "execution_count": 23,
   "id": "bc39b82a-5a28-44f9-82b6-6ebaa16ea741",
   "metadata": {},
   "outputs": [],
   "source": [
    "#limit design freedom by setting a limited number of locations\n",
    "#drop_nodes = [\"Bomb_Torizo_Bombs\", \"Big_Pink_M2\"]\n",
    "n_major_rando = 16\n",
    "n_minor_rando = 0\n",
    "major_drop_nodes = major_nodes[:n_major_rando]\n",
    "minor_drop_nodes = minor_nodes[:n_minor_rando]\n",
    "#drop_nodes = []"
   ]
  },
  {
   "cell_type": "code",
   "execution_count": 24,
   "id": "05998923-6817-495c-8e83-e1f0b26633f4",
   "metadata": {},
   "outputs": [],
   "source": [
    "design_vars = {\n",
    "    **{ f\"major_drop_{node}\": (0,len(major_items)-1) for node in major_drop_nodes },\n",
    "    **{ f\"minor_drop_{node}\": (0,len(minor_items)-1) for node in minor_drop_nodes }\n",
    "}"
   ]
  },
  {
   "cell_type": "code",
   "execution_count": 25,
   "id": "2ea3d531-33c6-4fc5-aad3-115b4dccaa21",
   "metadata": {},
   "outputs": [],
   "source": [
    "if len(design_vars) > 0:\n",
    "    context.declare(**design_vars)"
   ]
  },
  {
   "cell_type": "code",
   "execution_count": 26,
   "id": "e2832cf8-cbd8-4905-8103-bf117a3909ec",
   "metadata": {
    "scrolled": true
   },
   "outputs": [
    {
     "data": {
      "text/plain": [
       "{'node_id_prev': {'type': 'int',\n",
       "  'signed': False,\n",
       "  'width': 10,\n",
       "  'dom': (0, 701),\n",
       "  'bitnames': ['node_id_prev_0',\n",
       "   'node_id_prev_1',\n",
       "   'node_id_prev_2',\n",
       "   'node_id_prev_3',\n",
       "   'node_id_prev_4',\n",
       "   'node_id_prev_5',\n",
       "   'node_id_prev_6',\n",
       "   'node_id_prev_7',\n",
       "   'node_id_prev_8',\n",
       "   'node_id_prev_9']},\n",
       " 'node_id_next': {'type': 'int',\n",
       "  'signed': False,\n",
       "  'width': 10,\n",
       "  'dom': (0, 701),\n",
       "  'bitnames': ['node_id_next_0',\n",
       "   'node_id_next_1',\n",
       "   'node_id_next_2',\n",
       "   'node_id_next_3',\n",
       "   'node_id_next_4',\n",
       "   'node_id_next_5',\n",
       "   'node_id_next_6',\n",
       "   'node_id_next_7',\n",
       "   'node_id_next_8',\n",
       "   'node_id_next_9']},\n",
       " 'node_id_goal': {'type': 'int',\n",
       "  'signed': False,\n",
       "  'width': 10,\n",
       "  'dom': (0, 701),\n",
       "  'bitnames': ['node_id_goal_0',\n",
       "   'node_id_goal_1',\n",
       "   'node_id_goal_2',\n",
       "   'node_id_goal_3',\n",
       "   'node_id_goal_4',\n",
       "   'node_id_goal_5',\n",
       "   'node_id_goal_6',\n",
       "   'node_id_goal_7',\n",
       "   'node_id_goal_8',\n",
       "   'node_id_goal_9']},\n",
       " 'node_id_temp': {'type': 'int',\n",
       "  'signed': False,\n",
       "  'width': 10,\n",
       "  'dom': (0, 701),\n",
       "  'bitnames': ['node_id_temp_0',\n",
       "   'node_id_temp_1',\n",
       "   'node_id_temp_2',\n",
       "   'node_id_temp_3',\n",
       "   'node_id_temp_4',\n",
       "   'node_id_temp_5',\n",
       "   'node_id_temp_6',\n",
       "   'node_id_temp_7',\n",
       "   'node_id_temp_8',\n",
       "   'node_id_temp_9']},\n",
       " 'B_prev': {'type': 'int',\n",
       "  'signed': False,\n",
       "  'width': 1,\n",
       "  'dom': (0, 1),\n",
       "  'bitnames': ['B_prev_0']},\n",
       " 'B_next': {'type': 'int',\n",
       "  'signed': False,\n",
       "  'width': 1,\n",
       "  'dom': (0, 1),\n",
       "  'bitnames': ['B_next_0']},\n",
       " 'B_goal': {'type': 'int',\n",
       "  'signed': False,\n",
       "  'width': 1,\n",
       "  'dom': (0, 1),\n",
       "  'bitnames': ['B_goal_0']},\n",
       " 'B_temp': {'type': 'int',\n",
       "  'signed': False,\n",
       "  'width': 1,\n",
       "  'dom': (0, 1),\n",
       "  'bitnames': ['B_temp_0']},\n",
       " 'PB_prev': {'type': 'int',\n",
       "  'signed': False,\n",
       "  'width': 1,\n",
       "  'dom': (0, 1),\n",
       "  'bitnames': ['PB_prev_0']},\n",
       " 'PB_next': {'type': 'int',\n",
       "  'signed': False,\n",
       "  'width': 1,\n",
       "  'dom': (0, 1),\n",
       "  'bitnames': ['PB_next_0']},\n",
       " 'PB_goal': {'type': 'int',\n",
       "  'signed': False,\n",
       "  'width': 1,\n",
       "  'dom': (0, 1),\n",
       "  'bitnames': ['PB_goal_0']},\n",
       " 'PB_temp': {'type': 'int',\n",
       "  'signed': False,\n",
       "  'width': 1,\n",
       "  'dom': (0, 1),\n",
       "  'bitnames': ['PB_temp_0']},\n",
       " 'SPB_prev': {'type': 'int',\n",
       "  'signed': False,\n",
       "  'width': 1,\n",
       "  'dom': (0, 1),\n",
       "  'bitnames': ['SPB_prev_0']},\n",
       " 'SPB_next': {'type': 'int',\n",
       "  'signed': False,\n",
       "  'width': 1,\n",
       "  'dom': (0, 1),\n",
       "  'bitnames': ['SPB_next_0']},\n",
       " 'SPB_goal': {'type': 'int',\n",
       "  'signed': False,\n",
       "  'width': 1,\n",
       "  'dom': (0, 1),\n",
       "  'bitnames': ['SPB_goal_0']},\n",
       " 'SPB_temp': {'type': 'int',\n",
       "  'signed': False,\n",
       "  'width': 1,\n",
       "  'dom': (0, 1),\n",
       "  'bitnames': ['SPB_temp_0']},\n",
       " 'S_prev': {'type': 'int',\n",
       "  'signed': False,\n",
       "  'width': 1,\n",
       "  'dom': (0, 1),\n",
       "  'bitnames': ['S_prev_0']},\n",
       " 'S_next': {'type': 'int',\n",
       "  'signed': False,\n",
       "  'width': 1,\n",
       "  'dom': (0, 1),\n",
       "  'bitnames': ['S_next_0']},\n",
       " 'S_goal': {'type': 'int',\n",
       "  'signed': False,\n",
       "  'width': 1,\n",
       "  'dom': (0, 1),\n",
       "  'bitnames': ['S_goal_0']},\n",
       " 'S_temp': {'type': 'int',\n",
       "  'signed': False,\n",
       "  'width': 1,\n",
       "  'dom': (0, 1),\n",
       "  'bitnames': ['S_temp_0']},\n",
       " 'M_prev': {'type': 'int',\n",
       "  'signed': False,\n",
       "  'width': 1,\n",
       "  'dom': (0, 1),\n",
       "  'bitnames': ['M_prev_0']},\n",
       " 'M_next': {'type': 'int',\n",
       "  'signed': False,\n",
       "  'width': 1,\n",
       "  'dom': (0, 1),\n",
       "  'bitnames': ['M_next_0']},\n",
       " 'M_goal': {'type': 'int',\n",
       "  'signed': False,\n",
       "  'width': 1,\n",
       "  'dom': (0, 1),\n",
       "  'bitnames': ['M_goal_0']},\n",
       " 'M_temp': {'type': 'int',\n",
       "  'signed': False,\n",
       "  'width': 1,\n",
       "  'dom': (0, 1),\n",
       "  'bitnames': ['M_temp_0']},\n",
       " 'G_prev': {'type': 'int',\n",
       "  'signed': False,\n",
       "  'width': 1,\n",
       "  'dom': (0, 1),\n",
       "  'bitnames': ['G_prev_0']},\n",
       " 'G_next': {'type': 'int',\n",
       "  'signed': False,\n",
       "  'width': 1,\n",
       "  'dom': (0, 1),\n",
       "  'bitnames': ['G_next_0']},\n",
       " 'G_goal': {'type': 'int',\n",
       "  'signed': False,\n",
       "  'width': 1,\n",
       "  'dom': (0, 1),\n",
       "  'bitnames': ['G_goal_0']},\n",
       " 'G_temp': {'type': 'int',\n",
       "  'signed': False,\n",
       "  'width': 1,\n",
       "  'dom': (0, 1),\n",
       "  'bitnames': ['G_temp_0']},\n",
       " 'SA_prev': {'type': 'int',\n",
       "  'signed': False,\n",
       "  'width': 1,\n",
       "  'dom': (0, 1),\n",
       "  'bitnames': ['SA_prev_0']},\n",
       " 'SA_next': {'type': 'int',\n",
       "  'signed': False,\n",
       "  'width': 1,\n",
       "  'dom': (0, 1),\n",
       "  'bitnames': ['SA_next_0']},\n",
       " 'SA_goal': {'type': 'int',\n",
       "  'signed': False,\n",
       "  'width': 1,\n",
       "  'dom': (0, 1),\n",
       "  'bitnames': ['SA_goal_0']},\n",
       " 'SA_temp': {'type': 'int',\n",
       "  'signed': False,\n",
       "  'width': 1,\n",
       "  'dom': (0, 1),\n",
       "  'bitnames': ['SA_temp_0']},\n",
       " 'V_prev': {'type': 'int',\n",
       "  'signed': False,\n",
       "  'width': 1,\n",
       "  'dom': (0, 1),\n",
       "  'bitnames': ['V_prev_0']},\n",
       " 'V_next': {'type': 'int',\n",
       "  'signed': False,\n",
       "  'width': 1,\n",
       "  'dom': (0, 1),\n",
       "  'bitnames': ['V_next_0']},\n",
       " 'V_goal': {'type': 'int',\n",
       "  'signed': False,\n",
       "  'width': 1,\n",
       "  'dom': (0, 1),\n",
       "  'bitnames': ['V_goal_0']},\n",
       " 'V_temp': {'type': 'int',\n",
       "  'signed': False,\n",
       "  'width': 1,\n",
       "  'dom': (0, 1),\n",
       "  'bitnames': ['V_temp_0']},\n",
       " 'GS_prev': {'type': 'int',\n",
       "  'signed': False,\n",
       "  'width': 1,\n",
       "  'dom': (0, 1),\n",
       "  'bitnames': ['GS_prev_0']},\n",
       " 'GS_next': {'type': 'int',\n",
       "  'signed': False,\n",
       "  'width': 1,\n",
       "  'dom': (0, 1),\n",
       "  'bitnames': ['GS_next_0']},\n",
       " 'GS_goal': {'type': 'int',\n",
       "  'signed': False,\n",
       "  'width': 1,\n",
       "  'dom': (0, 1),\n",
       "  'bitnames': ['GS_goal_0']},\n",
       " 'GS_temp': {'type': 'int',\n",
       "  'signed': False,\n",
       "  'width': 1,\n",
       "  'dom': (0, 1),\n",
       "  'bitnames': ['GS_temp_0']},\n",
       " 'SB_prev': {'type': 'int',\n",
       "  'signed': False,\n",
       "  'width': 1,\n",
       "  'dom': (0, 1),\n",
       "  'bitnames': ['SB_prev_0']},\n",
       " 'SB_next': {'type': 'int',\n",
       "  'signed': False,\n",
       "  'width': 1,\n",
       "  'dom': (0, 1),\n",
       "  'bitnames': ['SB_next_0']},\n",
       " 'SB_goal': {'type': 'int',\n",
       "  'signed': False,\n",
       "  'width': 1,\n",
       "  'dom': (0, 1),\n",
       "  'bitnames': ['SB_goal_0']},\n",
       " 'SB_temp': {'type': 'int',\n",
       "  'signed': False,\n",
       "  'width': 1,\n",
       "  'dom': (0, 1),\n",
       "  'bitnames': ['SB_temp_0']},\n",
       " 'HJ_prev': {'type': 'int',\n",
       "  'signed': False,\n",
       "  'width': 1,\n",
       "  'dom': (0, 1),\n",
       "  'bitnames': ['HJ_prev_0']},\n",
       " 'HJ_next': {'type': 'int',\n",
       "  'signed': False,\n",
       "  'width': 1,\n",
       "  'dom': (0, 1),\n",
       "  'bitnames': ['HJ_next_0']},\n",
       " 'HJ_goal': {'type': 'int',\n",
       "  'signed': False,\n",
       "  'width': 1,\n",
       "  'dom': (0, 1),\n",
       "  'bitnames': ['HJ_goal_0']},\n",
       " 'HJ_temp': {'type': 'int',\n",
       "  'signed': False,\n",
       "  'width': 1,\n",
       "  'dom': (0, 1),\n",
       "  'bitnames': ['HJ_temp_0']},\n",
       " 'MB_prev': {'type': 'int',\n",
       "  'signed': False,\n",
       "  'width': 1,\n",
       "  'dom': (0, 1),\n",
       "  'bitnames': ['MB_prev_0']},\n",
       " 'MB_next': {'type': 'int',\n",
       "  'signed': False,\n",
       "  'width': 1,\n",
       "  'dom': (0, 1),\n",
       "  'bitnames': ['MB_next_0']},\n",
       " 'MB_goal': {'type': 'int',\n",
       "  'signed': False,\n",
       "  'width': 1,\n",
       "  'dom': (0, 1),\n",
       "  'bitnames': ['MB_goal_0']},\n",
       " 'MB_temp': {'type': 'int',\n",
       "  'signed': False,\n",
       "  'width': 1,\n",
       "  'dom': (0, 1),\n",
       "  'bitnames': ['MB_temp_0']},\n",
       " 'CB_prev': {'type': 'int',\n",
       "  'signed': False,\n",
       "  'width': 1,\n",
       "  'dom': (0, 1),\n",
       "  'bitnames': ['CB_prev_0']},\n",
       " 'CB_next': {'type': 'int',\n",
       "  'signed': False,\n",
       "  'width': 1,\n",
       "  'dom': (0, 1),\n",
       "  'bitnames': ['CB_next_0']},\n",
       " 'CB_goal': {'type': 'int',\n",
       "  'signed': False,\n",
       "  'width': 1,\n",
       "  'dom': (0, 1),\n",
       "  'bitnames': ['CB_goal_0']},\n",
       " 'CB_temp': {'type': 'int',\n",
       "  'signed': False,\n",
       "  'width': 1,\n",
       "  'dom': (0, 1),\n",
       "  'bitnames': ['CB_temp_0']},\n",
       " 'WB_prev': {'type': 'int',\n",
       "  'signed': False,\n",
       "  'width': 1,\n",
       "  'dom': (0, 1),\n",
       "  'bitnames': ['WB_prev_0']},\n",
       " 'WB_next': {'type': 'int',\n",
       "  'signed': False,\n",
       "  'width': 1,\n",
       "  'dom': (0, 1),\n",
       "  'bitnames': ['WB_next_0']},\n",
       " 'WB_goal': {'type': 'int',\n",
       "  'signed': False,\n",
       "  'width': 1,\n",
       "  'dom': (0, 1),\n",
       "  'bitnames': ['WB_goal_0']},\n",
       " 'WB_temp': {'type': 'int',\n",
       "  'signed': False,\n",
       "  'width': 1,\n",
       "  'dom': (0, 1),\n",
       "  'bitnames': ['WB_temp_0']},\n",
       " 'E_prev': {'type': 'int',\n",
       "  'signed': False,\n",
       "  'width': 1,\n",
       "  'dom': (0, 1),\n",
       "  'bitnames': ['E_prev_0']},\n",
       " 'E_next': {'type': 'int',\n",
       "  'signed': False,\n",
       "  'width': 1,\n",
       "  'dom': (0, 1),\n",
       "  'bitnames': ['E_next_0']},\n",
       " 'E_goal': {'type': 'int',\n",
       "  'signed': False,\n",
       "  'width': 1,\n",
       "  'dom': (0, 1),\n",
       "  'bitnames': ['E_goal_0']},\n",
       " 'E_temp': {'type': 'int',\n",
       "  'signed': False,\n",
       "  'width': 1,\n",
       "  'dom': (0, 1),\n",
       "  'bitnames': ['E_temp_0']},\n",
       " 'PLB_prev': {'type': 'int',\n",
       "  'signed': False,\n",
       "  'width': 1,\n",
       "  'dom': (0, 1),\n",
       "  'bitnames': ['PLB_prev_0']},\n",
       " 'PLB_next': {'type': 'int',\n",
       "  'signed': False,\n",
       "  'width': 1,\n",
       "  'dom': (0, 1),\n",
       "  'bitnames': ['PLB_next_0']},\n",
       " 'PLB_goal': {'type': 'int',\n",
       "  'signed': False,\n",
       "  'width': 1,\n",
       "  'dom': (0, 1),\n",
       "  'bitnames': ['PLB_goal_0']},\n",
       " 'PLB_temp': {'type': 'int',\n",
       "  'signed': False,\n",
       "  'width': 1,\n",
       "  'dom': (0, 1),\n",
       "  'bitnames': ['PLB_temp_0']},\n",
       " 'Spazer_prev': {'type': 'int',\n",
       "  'signed': False,\n",
       "  'width': 1,\n",
       "  'dom': (0, 1),\n",
       "  'bitnames': ['Spazer_prev_0']},\n",
       " 'Spazer_next': {'type': 'int',\n",
       "  'signed': False,\n",
       "  'width': 1,\n",
       "  'dom': (0, 1),\n",
       "  'bitnames': ['Spazer_next_0']},\n",
       " 'Spazer_goal': {'type': 'int',\n",
       "  'signed': False,\n",
       "  'width': 1,\n",
       "  'dom': (0, 1),\n",
       "  'bitnames': ['Spazer_goal_0']},\n",
       " 'Spazer_temp': {'type': 'int',\n",
       "  'signed': False,\n",
       "  'width': 1,\n",
       "  'dom': (0, 1),\n",
       "  'bitnames': ['Spazer_temp_0']},\n",
       " 'RT_prev': {'type': 'int',\n",
       "  'signed': False,\n",
       "  'width': 1,\n",
       "  'dom': (0, 1),\n",
       "  'bitnames': ['RT_prev_0']},\n",
       " 'RT_next': {'type': 'int',\n",
       "  'signed': False,\n",
       "  'width': 1,\n",
       "  'dom': (0, 1),\n",
       "  'bitnames': ['RT_next_0']},\n",
       " 'RT_goal': {'type': 'int',\n",
       "  'signed': False,\n",
       "  'width': 1,\n",
       "  'dom': (0, 1),\n",
       "  'bitnames': ['RT_goal_0']},\n",
       " 'RT_temp': {'type': 'int',\n",
       "  'signed': False,\n",
       "  'width': 1,\n",
       "  'dom': (0, 1),\n",
       "  'bitnames': ['RT_temp_0']},\n",
       " 'XR_prev': {'type': 'int',\n",
       "  'signed': False,\n",
       "  'width': 1,\n",
       "  'dom': (0, 1),\n",
       "  'bitnames': ['XR_prev_0']},\n",
       " 'XR_next': {'type': 'int',\n",
       "  'signed': False,\n",
       "  'width': 1,\n",
       "  'dom': (0, 1),\n",
       "  'bitnames': ['XR_next_0']},\n",
       " 'XR_goal': {'type': 'int',\n",
       "  'signed': False,\n",
       "  'width': 1,\n",
       "  'dom': (0, 1),\n",
       "  'bitnames': ['XR_goal_0']},\n",
       " 'XR_temp': {'type': 'int',\n",
       "  'signed': False,\n",
       "  'width': 1,\n",
       "  'dom': (0, 1),\n",
       "  'bitnames': ['XR_temp_0']},\n",
       " 'IB_prev': {'type': 'int',\n",
       "  'signed': False,\n",
       "  'width': 1,\n",
       "  'dom': (0, 1),\n",
       "  'bitnames': ['IB_prev_0']},\n",
       " 'IB_next': {'type': 'int',\n",
       "  'signed': False,\n",
       "  'width': 1,\n",
       "  'dom': (0, 1),\n",
       "  'bitnames': ['IB_next_0']},\n",
       " 'IB_goal': {'type': 'int',\n",
       "  'signed': False,\n",
       "  'width': 1,\n",
       "  'dom': (0, 1),\n",
       "  'bitnames': ['IB_goal_0']},\n",
       " 'IB_temp': {'type': 'int',\n",
       "  'signed': False,\n",
       "  'width': 1,\n",
       "  'dom': (0, 1),\n",
       "  'bitnames': ['IB_temp_0']},\n",
       " 'SJ_prev': {'type': 'int',\n",
       "  'signed': False,\n",
       "  'width': 1,\n",
       "  'dom': (0, 1),\n",
       "  'bitnames': ['SJ_prev_0']},\n",
       " 'SJ_next': {'type': 'int',\n",
       "  'signed': False,\n",
       "  'width': 1,\n",
       "  'dom': (0, 1),\n",
       "  'bitnames': ['SJ_next_0']},\n",
       " 'SJ_goal': {'type': 'int',\n",
       "  'signed': False,\n",
       "  'width': 1,\n",
       "  'dom': (0, 1),\n",
       "  'bitnames': ['SJ_goal_0']},\n",
       " 'SJ_temp': {'type': 'int',\n",
       "  'signed': False,\n",
       "  'width': 1,\n",
       "  'dom': (0, 1),\n",
       "  'bitnames': ['SJ_temp_0']},\n",
       " 'Kraid_prev': {'type': 'int',\n",
       "  'signed': False,\n",
       "  'width': 1,\n",
       "  'dom': (0, 1),\n",
       "  'bitnames': ['Kraid_prev_0']},\n",
       " 'Kraid_next': {'type': 'int',\n",
       "  'signed': False,\n",
       "  'width': 1,\n",
       "  'dom': (0, 1),\n",
       "  'bitnames': ['Kraid_next_0']},\n",
       " 'Kraid_goal': {'type': 'int',\n",
       "  'signed': False,\n",
       "  'width': 1,\n",
       "  'dom': (0, 1),\n",
       "  'bitnames': ['Kraid_goal_0']},\n",
       " 'Kraid_temp': {'type': 'int',\n",
       "  'signed': False,\n",
       "  'width': 1,\n",
       "  'dom': (0, 1),\n",
       "  'bitnames': ['Kraid_temp_0']},\n",
       " 'Phantoon_prev': {'type': 'int',\n",
       "  'signed': False,\n",
       "  'width': 1,\n",
       "  'dom': (0, 1),\n",
       "  'bitnames': ['Phantoon_prev_0']},\n",
       " 'Phantoon_next': {'type': 'int',\n",
       "  'signed': False,\n",
       "  'width': 1,\n",
       "  'dom': (0, 1),\n",
       "  'bitnames': ['Phantoon_next_0']},\n",
       " 'Phantoon_goal': {'type': 'int',\n",
       "  'signed': False,\n",
       "  'width': 1,\n",
       "  'dom': (0, 1),\n",
       "  'bitnames': ['Phantoon_goal_0']},\n",
       " 'Phantoon_temp': {'type': 'int',\n",
       "  'signed': False,\n",
       "  'width': 1,\n",
       "  'dom': (0, 1),\n",
       "  'bitnames': ['Phantoon_temp_0']},\n",
       " 'Draygon_prev': {'type': 'int',\n",
       "  'signed': False,\n",
       "  'width': 1,\n",
       "  'dom': (0, 1),\n",
       "  'bitnames': ['Draygon_prev_0']},\n",
       " 'Draygon_next': {'type': 'int',\n",
       "  'signed': False,\n",
       "  'width': 1,\n",
       "  'dom': (0, 1),\n",
       "  'bitnames': ['Draygon_next_0']},\n",
       " 'Draygon_goal': {'type': 'int',\n",
       "  'signed': False,\n",
       "  'width': 1,\n",
       "  'dom': (0, 1),\n",
       "  'bitnames': ['Draygon_goal_0']},\n",
       " 'Draygon_temp': {'type': 'int',\n",
       "  'signed': False,\n",
       "  'width': 1,\n",
       "  'dom': (0, 1),\n",
       "  'bitnames': ['Draygon_temp_0']},\n",
       " 'Ridley_prev': {'type': 'int',\n",
       "  'signed': False,\n",
       "  'width': 1,\n",
       "  'dom': (0, 1),\n",
       "  'bitnames': ['Ridley_prev_0']},\n",
       " 'Ridley_next': {'type': 'int',\n",
       "  'signed': False,\n",
       "  'width': 1,\n",
       "  'dom': (0, 1),\n",
       "  'bitnames': ['Ridley_next_0']},\n",
       " 'Ridley_goal': {'type': 'int',\n",
       "  'signed': False,\n",
       "  'width': 1,\n",
       "  'dom': (0, 1),\n",
       "  'bitnames': ['Ridley_goal_0']},\n",
       " 'Ridley_temp': {'type': 'int',\n",
       "  'signed': False,\n",
       "  'width': 1,\n",
       "  'dom': (0, 1),\n",
       "  'bitnames': ['Ridley_temp_0']},\n",
       " 'Botwoon_prev': {'type': 'int',\n",
       "  'signed': False,\n",
       "  'width': 1,\n",
       "  'dom': (0, 1),\n",
       "  'bitnames': ['Botwoon_prev_0']},\n",
       " 'Botwoon_next': {'type': 'int',\n",
       "  'signed': False,\n",
       "  'width': 1,\n",
       "  'dom': (0, 1),\n",
       "  'bitnames': ['Botwoon_next_0']},\n",
       " 'Botwoon_goal': {'type': 'int',\n",
       "  'signed': False,\n",
       "  'width': 1,\n",
       "  'dom': (0, 1),\n",
       "  'bitnames': ['Botwoon_goal_0']},\n",
       " 'Botwoon_temp': {'type': 'int',\n",
       "  'signed': False,\n",
       "  'width': 1,\n",
       "  'dom': (0, 1),\n",
       "  'bitnames': ['Botwoon_temp_0']},\n",
       " 'Spore_Spawn_prev': {'type': 'int',\n",
       "  'signed': False,\n",
       "  'width': 1,\n",
       "  'dom': (0, 1),\n",
       "  'bitnames': ['Spore_Spawn_prev_0']},\n",
       " 'Spore_Spawn_next': {'type': 'int',\n",
       "  'signed': False,\n",
       "  'width': 1,\n",
       "  'dom': (0, 1),\n",
       "  'bitnames': ['Spore_Spawn_next_0']},\n",
       " 'Spore_Spawn_goal': {'type': 'int',\n",
       "  'signed': False,\n",
       "  'width': 1,\n",
       "  'dom': (0, 1),\n",
       "  'bitnames': ['Spore_Spawn_goal_0']},\n",
       " 'Spore_Spawn_temp': {'type': 'int',\n",
       "  'signed': False,\n",
       "  'width': 1,\n",
       "  'dom': (0, 1),\n",
       "  'bitnames': ['Spore_Spawn_temp_0']},\n",
       " 'Golden_Torizo_prev': {'type': 'int',\n",
       "  'signed': False,\n",
       "  'width': 1,\n",
       "  'dom': (0, 1),\n",
       "  'bitnames': ['Golden_Torizo_prev_0']},\n",
       " 'Golden_Torizo_next': {'type': 'int',\n",
       "  'signed': False,\n",
       "  'width': 1,\n",
       "  'dom': (0, 1),\n",
       "  'bitnames': ['Golden_Torizo_next_0']},\n",
       " 'Golden_Torizo_goal': {'type': 'int',\n",
       "  'signed': False,\n",
       "  'width': 1,\n",
       "  'dom': (0, 1),\n",
       "  'bitnames': ['Golden_Torizo_goal_0']},\n",
       " 'Golden_Torizo_temp': {'type': 'int',\n",
       "  'signed': False,\n",
       "  'width': 1,\n",
       "  'dom': (0, 1),\n",
       "  'bitnames': ['Golden_Torizo_temp_0']},\n",
       " 'Bomb_Torizo_prev': {'type': 'int',\n",
       "  'signed': False,\n",
       "  'width': 1,\n",
       "  'dom': (0, 1),\n",
       "  'bitnames': ['Bomb_Torizo_prev_0']},\n",
       " 'Bomb_Torizo_next': {'type': 'int',\n",
       "  'signed': False,\n",
       "  'width': 1,\n",
       "  'dom': (0, 1),\n",
       "  'bitnames': ['Bomb_Torizo_next_0']},\n",
       " 'Bomb_Torizo_goal': {'type': 'int',\n",
       "  'signed': False,\n",
       "  'width': 1,\n",
       "  'dom': (0, 1),\n",
       "  'bitnames': ['Bomb_Torizo_goal_0']},\n",
       " 'Bomb_Torizo_temp': {'type': 'int',\n",
       "  'signed': False,\n",
       "  'width': 1,\n",
       "  'dom': (0, 1),\n",
       "  'bitnames': ['Bomb_Torizo_temp_0']},\n",
       " 'Mother_Brain_prev': {'type': 'int',\n",
       "  'signed': False,\n",
       "  'width': 1,\n",
       "  'dom': (0, 1),\n",
       "  'bitnames': ['Mother_Brain_prev_0']},\n",
       " 'Mother_Brain_next': {'type': 'int',\n",
       "  'signed': False,\n",
       "  'width': 1,\n",
       "  'dom': (0, 1),\n",
       "  'bitnames': ['Mother_Brain_next_0']},\n",
       " 'Mother_Brain_goal': {'type': 'int',\n",
       "  'signed': False,\n",
       "  'width': 1,\n",
       "  'dom': (0, 1),\n",
       "  'bitnames': ['Mother_Brain_goal_0']},\n",
       " 'Mother_Brain_temp': {'type': 'int',\n",
       "  'signed': False,\n",
       "  'width': 1,\n",
       "  'dom': (0, 1),\n",
       "  'bitnames': ['Mother_Brain_temp_0']},\n",
       " 'Crocomire_prev': {'type': 'int',\n",
       "  'signed': False,\n",
       "  'width': 1,\n",
       "  'dom': (0, 1),\n",
       "  'bitnames': ['Crocomire_prev_0']},\n",
       " 'Crocomire_next': {'type': 'int',\n",
       "  'signed': False,\n",
       "  'width': 1,\n",
       "  'dom': (0, 1),\n",
       "  'bitnames': ['Crocomire_next_0']},\n",
       " 'Crocomire_goal': {'type': 'int',\n",
       "  'signed': False,\n",
       "  'width': 1,\n",
       "  'dom': (0, 1),\n",
       "  'bitnames': ['Crocomire_goal_0']},\n",
       " 'Crocomire_temp': {'type': 'int',\n",
       "  'signed': False,\n",
       "  'width': 1,\n",
       "  'dom': (0, 1),\n",
       "  'bitnames': ['Crocomire_temp_0']},\n",
       " 'Ceres_Ridley_prev': {'type': 'int',\n",
       "  'signed': False,\n",
       "  'width': 1,\n",
       "  'dom': (0, 1),\n",
       "  'bitnames': ['Ceres_Ridley_prev_0']},\n",
       " 'Ceres_Ridley_next': {'type': 'int',\n",
       "  'signed': False,\n",
       "  'width': 1,\n",
       "  'dom': (0, 1),\n",
       "  'bitnames': ['Ceres_Ridley_next_0']},\n",
       " 'Ceres_Ridley_goal': {'type': 'int',\n",
       "  'signed': False,\n",
       "  'width': 1,\n",
       "  'dom': (0, 1),\n",
       "  'bitnames': ['Ceres_Ridley_goal_0']},\n",
       " 'Ceres_Ridley_temp': {'type': 'int',\n",
       "  'signed': False,\n",
       "  'width': 1,\n",
       "  'dom': (0, 1),\n",
       "  'bitnames': ['Ceres_Ridley_temp_0']},\n",
       " 'Drain_prev': {'type': 'int',\n",
       "  'signed': False,\n",
       "  'width': 1,\n",
       "  'dom': (0, 1),\n",
       "  'bitnames': ['Drain_prev_0']},\n",
       " 'Drain_next': {'type': 'int',\n",
       "  'signed': False,\n",
       "  'width': 1,\n",
       "  'dom': (0, 1),\n",
       "  'bitnames': ['Drain_next_0']},\n",
       " 'Drain_goal': {'type': 'int',\n",
       "  'signed': False,\n",
       "  'width': 1,\n",
       "  'dom': (0, 1),\n",
       "  'bitnames': ['Drain_goal_0']},\n",
       " 'Drain_temp': {'type': 'int',\n",
       "  'signed': False,\n",
       "  'width': 1,\n",
       "  'dom': (0, 1),\n",
       "  'bitnames': ['Drain_temp_0']},\n",
       " 'Shaktool_prev': {'type': 'int',\n",
       "  'signed': False,\n",
       "  'width': 1,\n",
       "  'dom': (0, 1),\n",
       "  'bitnames': ['Shaktool_prev_0']},\n",
       " 'Shaktool_next': {'type': 'int',\n",
       "  'signed': False,\n",
       "  'width': 1,\n",
       "  'dom': (0, 1),\n",
       "  'bitnames': ['Shaktool_next_0']},\n",
       " 'Shaktool_goal': {'type': 'int',\n",
       "  'signed': False,\n",
       "  'width': 1,\n",
       "  'dom': (0, 1),\n",
       "  'bitnames': ['Shaktool_goal_0']},\n",
       " 'Shaktool_temp': {'type': 'int',\n",
       "  'signed': False,\n",
       "  'width': 1,\n",
       "  'dom': (0, 1),\n",
       "  'bitnames': ['Shaktool_temp_0']},\n",
       " 'START_prev': {'type': 'int',\n",
       "  'signed': False,\n",
       "  'width': 1,\n",
       "  'dom': (0, 1),\n",
       "  'bitnames': ['START_prev_0']},\n",
       " 'START_next': {'type': 'int',\n",
       "  'signed': False,\n",
       "  'width': 1,\n",
       "  'dom': (0, 1),\n",
       "  'bitnames': ['START_next_0']},\n",
       " 'START_goal': {'type': 'int',\n",
       "  'signed': False,\n",
       "  'width': 1,\n",
       "  'dom': (0, 1),\n",
       "  'bitnames': ['START_goal_0']},\n",
       " 'START_temp': {'type': 'int',\n",
       "  'signed': False,\n",
       "  'width': 1,\n",
       "  'dom': (0, 1),\n",
       "  'bitnames': ['START_temp_0']},\n",
       " 'Statues_prev': {'type': 'int',\n",
       "  'signed': False,\n",
       "  'width': 1,\n",
       "  'dom': (0, 1),\n",
       "  'bitnames': ['Statues_prev_0']},\n",
       " 'Statues_next': {'type': 'int',\n",
       "  'signed': False,\n",
       "  'width': 1,\n",
       "  'dom': (0, 1),\n",
       "  'bitnames': ['Statues_next_0']},\n",
       " 'Statues_goal': {'type': 'int',\n",
       "  'signed': False,\n",
       "  'width': 1,\n",
       "  'dom': (0, 1),\n",
       "  'bitnames': ['Statues_goal_0']},\n",
       " 'Statues_temp': {'type': 'int',\n",
       "  'signed': False,\n",
       "  'width': 1,\n",
       "  'dom': (0, 1),\n",
       "  'bitnames': ['Statues_temp_0']},\n",
       " 'major_drop_Bomb_Torizo_Bombs': {'type': 'int',\n",
       "  'signed': False,\n",
       "  'width': 4,\n",
       "  'dom': (0, 15),\n",
       "  'bitnames': ['major_drop_Bomb_Torizo_Bombs_0',\n",
       "   'major_drop_Bomb_Torizo_Bombs_1',\n",
       "   'major_drop_Bomb_Torizo_Bombs_2',\n",
       "   'major_drop_Bomb_Torizo_Bombs_3']},\n",
       " 'major_drop_Big_Pink_CB': {'type': 'int',\n",
       "  'signed': False,\n",
       "  'width': 4,\n",
       "  'dom': (0, 15),\n",
       "  'bitnames': ['major_drop_Big_Pink_CB_0',\n",
       "   'major_drop_Big_Pink_CB_1',\n",
       "   'major_drop_Big_Pink_CB_2',\n",
       "   'major_drop_Big_Pink_CB_3']},\n",
       " 'major_drop_Morph_Ball_Room_MB': {'type': 'int',\n",
       "  'signed': False,\n",
       "  'width': 4,\n",
       "  'dom': (0, 15),\n",
       "  'bitnames': ['major_drop_Morph_Ball_Room_MB_0',\n",
       "   'major_drop_Morph_Ball_Room_MB_1',\n",
       "   'major_drop_Morph_Ball_Room_MB_2',\n",
       "   'major_drop_Morph_Ball_Room_MB_3']},\n",
       " 'major_drop_XRay_XR': {'type': 'int',\n",
       "  'signed': False,\n",
       "  'width': 4,\n",
       "  'dom': (0, 15),\n",
       "  'bitnames': ['major_drop_XRay_XR_0',\n",
       "   'major_drop_XRay_XR_1',\n",
       "   'major_drop_XRay_XR_2',\n",
       "   'major_drop_XRay_XR_3']},\n",
       " 'major_drop_Spazer_Spazer': {'type': 'int',\n",
       "  'signed': False,\n",
       "  'width': 4,\n",
       "  'dom': (0, 15),\n",
       "  'bitnames': ['major_drop_Spazer_Spazer_0',\n",
       "   'major_drop_Spazer_Spazer_1',\n",
       "   'major_drop_Spazer_Spazer_2',\n",
       "   'major_drop_Spazer_Spazer_3']},\n",
       " 'major_drop_Varia_Suit_V': {'type': 'int',\n",
       "  'signed': False,\n",
       "  'width': 4,\n",
       "  'dom': (0, 15),\n",
       "  'bitnames': ['major_drop_Varia_Suit_V_0',\n",
       "   'major_drop_Varia_Suit_V_1',\n",
       "   'major_drop_Varia_Suit_V_2',\n",
       "   'major_drop_Varia_Suit_V_3']},\n",
       " 'major_drop_Ice_Beam_IB': {'type': 'int',\n",
       "  'signed': False,\n",
       "  'width': 4,\n",
       "  'dom': (0, 15),\n",
       "  'bitnames': ['major_drop_Ice_Beam_IB_0',\n",
       "   'major_drop_Ice_Beam_IB_1',\n",
       "   'major_drop_Ice_Beam_IB_2',\n",
       "   'major_drop_Ice_Beam_IB_3']},\n",
       " 'major_drop_Hi_Jump_HJ': {'type': 'int',\n",
       "  'signed': False,\n",
       "  'width': 4,\n",
       "  'dom': (0, 15),\n",
       "  'bitnames': ['major_drop_Hi_Jump_HJ_0',\n",
       "   'major_drop_Hi_Jump_HJ_1',\n",
       "   'major_drop_Hi_Jump_HJ_2',\n",
       "   'major_drop_Hi_Jump_HJ_3']},\n",
       " 'major_drop_Grapple_G': {'type': 'int',\n",
       "  'signed': False,\n",
       "  'width': 4,\n",
       "  'dom': (0, 15),\n",
       "  'bitnames': ['major_drop_Grapple_G_0',\n",
       "   'major_drop_Grapple_G_1',\n",
       "   'major_drop_Grapple_G_2',\n",
       "   'major_drop_Grapple_G_3']},\n",
       " 'major_drop_Speed_Booster_SB': {'type': 'int',\n",
       "  'signed': False,\n",
       "  'width': 4,\n",
       "  'dom': (0, 15),\n",
       "  'bitnames': ['major_drop_Speed_Booster_SB_0',\n",
       "   'major_drop_Speed_Booster_SB_1',\n",
       "   'major_drop_Speed_Booster_SB_2',\n",
       "   'major_drop_Speed_Booster_SB_3']},\n",
       " 'major_drop_Wave_Beam_WB': {'type': 'int',\n",
       "  'signed': False,\n",
       "  'width': 4,\n",
       "  'dom': (0, 15),\n",
       "  'bitnames': ['major_drop_Wave_Beam_WB_0',\n",
       "   'major_drop_Wave_Beam_WB_1',\n",
       "   'major_drop_Wave_Beam_WB_2',\n",
       "   'major_drop_Wave_Beam_WB_3']},\n",
       " 'major_drop_Screw_Attack_SA': {'type': 'int',\n",
       "  'signed': False,\n",
       "  'width': 4,\n",
       "  'dom': (0, 15),\n",
       "  'bitnames': ['major_drop_Screw_Attack_SA_0',\n",
       "   'major_drop_Screw_Attack_SA_1',\n",
       "   'major_drop_Screw_Attack_SA_2',\n",
       "   'major_drop_Screw_Attack_SA_3']},\n",
       " 'major_drop_Gravity_GS': {'type': 'int',\n",
       "  'signed': False,\n",
       "  'width': 4,\n",
       "  'dom': (0, 15),\n",
       "  'bitnames': ['major_drop_Gravity_GS_0',\n",
       "   'major_drop_Gravity_GS_1',\n",
       "   'major_drop_Gravity_GS_2',\n",
       "   'major_drop_Gravity_GS_3']},\n",
       " 'major_drop_Plasma_PLB': {'type': 'int',\n",
       "  'signed': False,\n",
       "  'width': 4,\n",
       "  'dom': (0, 15),\n",
       "  'bitnames': ['major_drop_Plasma_PLB_0',\n",
       "   'major_drop_Plasma_PLB_1',\n",
       "   'major_drop_Plasma_PLB_2',\n",
       "   'major_drop_Plasma_PLB_3']},\n",
       " 'major_drop_Spring_Ball_SPB': {'type': 'int',\n",
       "  'signed': False,\n",
       "  'width': 4,\n",
       "  'dom': (0, 15),\n",
       "  'bitnames': ['major_drop_Spring_Ball_SPB_0',\n",
       "   'major_drop_Spring_Ball_SPB_1',\n",
       "   'major_drop_Spring_Ball_SPB_2',\n",
       "   'major_drop_Spring_Ball_SPB_3']},\n",
       " 'major_drop_Space_Jump_SJ': {'type': 'int',\n",
       "  'signed': False,\n",
       "  'width': 4,\n",
       "  'dom': (0, 15),\n",
       "  'bitnames': ['major_drop_Space_Jump_SJ_0',\n",
       "   'major_drop_Space_Jump_SJ_1',\n",
       "   'major_drop_Space_Jump_SJ_2',\n",
       "   'major_drop_Space_Jump_SJ_3']}}"
      ]
     },
     "execution_count": 26,
     "metadata": {},
     "output_type": "execute_result"
    }
   ],
   "source": [
    "context.vars"
   ]
  },
  {
   "cell_type": "code",
   "execution_count": 27,
   "id": "593bdd24-1725-4282-a281-0e6ada146327",
   "metadata": {},
   "outputs": [],
   "source": [
    "# Design\n",
    "# Item\n",
    "# Location\n",
    "\n",
    "# Mess with the order\n",
    "def static_order_score(name):\n",
    "    var,tense,bit = name.rsplit('_', 2)\n",
    "    bit = int(bit)\n",
    "    is_design = var.startswith(\"major\") or var.startswith(\"minor\")\n",
    "    is_loc = var.startswith(\"node_id\")\n",
    "    return (is_design, not is_loc, var, -bit, tense)\n",
    "\n",
    "context.bdd.configure(reordering=False)\n",
    "order = {v:i for i,v in enumerate(sorted(context.bdd.vars, key=static_order_score))}\n",
    "#context.bdd.reorder()"
   ]
  },
  {
   "cell_type": "code",
   "execution_count": 28,
   "id": "09960830-9b3a-410b-913b-6b27315256a8",
   "metadata": {},
   "outputs": [],
   "source": [
    "context.bdd.reorder(order)"
   ]
  },
  {
   "cell_type": "code",
   "execution_count": 29,
   "id": "16ff7f14-3a70-41f4-89c3-374f8561df18",
   "metadata": {},
   "outputs": [],
   "source": [
    "def var_levels():\n",
    "    return sorted(context.bdd.var_levels.items(), key=lambda x: x[1])"
   ]
  },
  {
   "cell_type": "code",
   "execution_count": 32,
   "id": "0557ecc6-e11f-4214-b517-2683f6ec56d5",
   "metadata": {},
   "outputs": [
    {
     "data": {
      "text/plain": [
       "[('node_id_goal_9', 0),\n",
       " ('node_id_next_9', 1),\n",
       " ('node_id_prev_9', 2),\n",
       " ('node_id_temp_9', 3),\n",
       " ('node_id_goal_8', 4),\n",
       " ('node_id_next_8', 5),\n",
       " ('node_id_prev_8', 6),\n",
       " ('node_id_temp_8', 7),\n",
       " ('node_id_goal_7', 8),\n",
       " ('node_id_next_7', 9),\n",
       " ('node_id_prev_7', 10),\n",
       " ('node_id_temp_7', 11),\n",
       " ('node_id_goal_6', 12),\n",
       " ('node_id_next_6', 13),\n",
       " ('node_id_prev_6', 14),\n",
       " ('node_id_temp_6', 15),\n",
       " ('node_id_goal_5', 16),\n",
       " ('node_id_next_5', 17),\n",
       " ('node_id_prev_5', 18),\n",
       " ('node_id_temp_5', 19),\n",
       " ('node_id_goal_4', 20),\n",
       " ('node_id_next_4', 21),\n",
       " ('node_id_prev_4', 22),\n",
       " ('node_id_temp_4', 23),\n",
       " ('node_id_goal_3', 24),\n",
       " ('node_id_next_3', 25),\n",
       " ('node_id_prev_3', 26),\n",
       " ('node_id_temp_3', 27),\n",
       " ('node_id_goal_2', 28),\n",
       " ('node_id_next_2', 29),\n",
       " ('node_id_prev_2', 30),\n",
       " ('node_id_temp_2', 31),\n",
       " ('node_id_goal_1', 32),\n",
       " ('node_id_next_1', 33),\n",
       " ('node_id_prev_1', 34),\n",
       " ('node_id_temp_1', 35),\n",
       " ('node_id_goal_0', 36),\n",
       " ('node_id_next_0', 37),\n",
       " ('node_id_prev_0', 38),\n",
       " ('node_id_temp_0', 39),\n",
       " ('B_goal_0', 40),\n",
       " ('B_next_0', 41),\n",
       " ('B_prev_0', 42),\n",
       " ('B_temp_0', 43),\n",
       " ('Bomb_Torizo_goal_0', 44),\n",
       " ('Bomb_Torizo_next_0', 45),\n",
       " ('Bomb_Torizo_prev_0', 46),\n",
       " ('Bomb_Torizo_temp_0', 47),\n",
       " ('Botwoon_goal_0', 48),\n",
       " ('Botwoon_next_0', 49),\n",
       " ('Botwoon_prev_0', 50),\n",
       " ('Botwoon_temp_0', 51),\n",
       " ('CB_goal_0', 52),\n",
       " ('CB_next_0', 53),\n",
       " ('CB_prev_0', 54),\n",
       " ('CB_temp_0', 55),\n",
       " ('Ceres_Ridley_goal_0', 56),\n",
       " ('Ceres_Ridley_next_0', 57),\n",
       " ('Ceres_Ridley_prev_0', 58),\n",
       " ('Ceres_Ridley_temp_0', 59),\n",
       " ('Crocomire_goal_0', 60),\n",
       " ('Crocomire_next_0', 61),\n",
       " ('Crocomire_prev_0', 62),\n",
       " ('Crocomire_temp_0', 63),\n",
       " ('Drain_goal_0', 64),\n",
       " ('Drain_next_0', 65),\n",
       " ('Drain_prev_0', 66),\n",
       " ('Drain_temp_0', 67),\n",
       " ('Draygon_goal_0', 68),\n",
       " ('Draygon_next_0', 69),\n",
       " ('Draygon_prev_0', 70),\n",
       " ('Draygon_temp_0', 71),\n",
       " ('E_goal_0', 72),\n",
       " ('E_next_0', 73),\n",
       " ('E_prev_0', 74),\n",
       " ('E_temp_0', 75),\n",
       " ('G_goal_0', 76),\n",
       " ('G_next_0', 77),\n",
       " ('G_prev_0', 78),\n",
       " ('G_temp_0', 79),\n",
       " ('GS_goal_0', 80),\n",
       " ('GS_next_0', 81),\n",
       " ('GS_prev_0', 82),\n",
       " ('GS_temp_0', 83),\n",
       " ('Golden_Torizo_goal_0', 84),\n",
       " ('Golden_Torizo_next_0', 85),\n",
       " ('Golden_Torizo_prev_0', 86),\n",
       " ('Golden_Torizo_temp_0', 87),\n",
       " ('HJ_goal_0', 88),\n",
       " ('HJ_next_0', 89),\n",
       " ('HJ_prev_0', 90),\n",
       " ('HJ_temp_0', 91),\n",
       " ('IB_goal_0', 92),\n",
       " ('IB_next_0', 93),\n",
       " ('IB_prev_0', 94),\n",
       " ('IB_temp_0', 95),\n",
       " ('Kraid_goal_0', 96),\n",
       " ('Kraid_next_0', 97),\n",
       " ('Kraid_prev_0', 98),\n",
       " ('Kraid_temp_0', 99),\n",
       " ('M_goal_0', 100),\n",
       " ('M_next_0', 101),\n",
       " ('M_prev_0', 102),\n",
       " ('M_temp_0', 103),\n",
       " ('MB_goal_0', 104),\n",
       " ('MB_next_0', 105),\n",
       " ('MB_prev_0', 106),\n",
       " ('MB_temp_0', 107),\n",
       " ('Mother_Brain_goal_0', 108),\n",
       " ('Mother_Brain_next_0', 109),\n",
       " ('Mother_Brain_prev_0', 110),\n",
       " ('Mother_Brain_temp_0', 111),\n",
       " ('PB_goal_0', 112),\n",
       " ('PB_next_0', 113),\n",
       " ('PB_prev_0', 114),\n",
       " ('PB_temp_0', 115),\n",
       " ('PLB_goal_0', 116),\n",
       " ('PLB_next_0', 117),\n",
       " ('PLB_prev_0', 118),\n",
       " ('PLB_temp_0', 119),\n",
       " ('Phantoon_goal_0', 120),\n",
       " ('Phantoon_next_0', 121),\n",
       " ('Phantoon_prev_0', 122),\n",
       " ('Phantoon_temp_0', 123),\n",
       " ('RT_goal_0', 124),\n",
       " ('RT_next_0', 125),\n",
       " ('RT_prev_0', 126),\n",
       " ('RT_temp_0', 127),\n",
       " ('Ridley_goal_0', 128),\n",
       " ('Ridley_next_0', 129),\n",
       " ('Ridley_prev_0', 130),\n",
       " ('Ridley_temp_0', 131),\n",
       " ('S_goal_0', 132),\n",
       " ('S_next_0', 133),\n",
       " ('S_prev_0', 134),\n",
       " ('S_temp_0', 135),\n",
       " ('SA_goal_0', 136),\n",
       " ('SA_next_0', 137),\n",
       " ('SA_prev_0', 138),\n",
       " ('SA_temp_0', 139),\n",
       " ('SB_goal_0', 140),\n",
       " ('SB_next_0', 141),\n",
       " ('SB_prev_0', 142),\n",
       " ('SB_temp_0', 143),\n",
       " ('SJ_goal_0', 144),\n",
       " ('SJ_next_0', 145),\n",
       " ('SJ_prev_0', 146),\n",
       " ('SJ_temp_0', 147),\n",
       " ('SPB_goal_0', 148),\n",
       " ('SPB_next_0', 149),\n",
       " ('SPB_prev_0', 150),\n",
       " ('SPB_temp_0', 151),\n",
       " ('START_goal_0', 152),\n",
       " ('START_next_0', 153),\n",
       " ('START_prev_0', 154),\n",
       " ('START_temp_0', 155),\n",
       " ('Shaktool_goal_0', 156),\n",
       " ('Shaktool_next_0', 157),\n",
       " ('Shaktool_prev_0', 158),\n",
       " ('Shaktool_temp_0', 159),\n",
       " ('Spazer_goal_0', 160),\n",
       " ('Spazer_next_0', 161),\n",
       " ('Spazer_prev_0', 162),\n",
       " ('Spazer_temp_0', 163),\n",
       " ('Spore_Spawn_goal_0', 164),\n",
       " ('Spore_Spawn_next_0', 165),\n",
       " ('Spore_Spawn_prev_0', 166),\n",
       " ('Spore_Spawn_temp_0', 167),\n",
       " ('Statues_goal_0', 168),\n",
       " ('Statues_next_0', 169),\n",
       " ('Statues_prev_0', 170),\n",
       " ('Statues_temp_0', 171),\n",
       " ('V_goal_0', 172),\n",
       " ('V_next_0', 173),\n",
       " ('V_prev_0', 174),\n",
       " ('V_temp_0', 175),\n",
       " ('WB_goal_0', 176),\n",
       " ('WB_next_0', 177),\n",
       " ('WB_prev_0', 178),\n",
       " ('WB_temp_0', 179),\n",
       " ('XR_goal_0', 180),\n",
       " ('XR_next_0', 181),\n",
       " ('XR_prev_0', 182),\n",
       " ('XR_temp_0', 183),\n",
       " ('major_drop_Big_Pink_CB_3', 184),\n",
       " ('major_drop_Big_Pink_CB_2', 185),\n",
       " ('major_drop_Big_Pink_CB_1', 186),\n",
       " ('major_drop_Big_Pink_CB_0', 187),\n",
       " ('major_drop_Bomb_Torizo_Bombs_3', 188),\n",
       " ('major_drop_Bomb_Torizo_Bombs_2', 189),\n",
       " ('major_drop_Bomb_Torizo_Bombs_1', 190),\n",
       " ('major_drop_Bomb_Torizo_Bombs_0', 191),\n",
       " ('major_drop_Grapple_G_3', 192),\n",
       " ('major_drop_Grapple_G_2', 193),\n",
       " ('major_drop_Grapple_G_1', 194),\n",
       " ('major_drop_Grapple_G_0', 195),\n",
       " ('major_drop_Gravity_GS_3', 196),\n",
       " ('major_drop_Gravity_GS_2', 197),\n",
       " ('major_drop_Gravity_GS_1', 198),\n",
       " ('major_drop_Gravity_GS_0', 199),\n",
       " ('major_drop_Hi_Jump_HJ_3', 200),\n",
       " ('major_drop_Hi_Jump_HJ_2', 201),\n",
       " ('major_drop_Hi_Jump_HJ_1', 202),\n",
       " ('major_drop_Hi_Jump_HJ_0', 203),\n",
       " ('major_drop_Ice_Beam_IB_3', 204),\n",
       " ('major_drop_Ice_Beam_IB_2', 205),\n",
       " ('major_drop_Ice_Beam_IB_1', 206),\n",
       " ('major_drop_Ice_Beam_IB_0', 207),\n",
       " ('major_drop_Morph_Ball_Room_MB_3', 208),\n",
       " ('major_drop_Morph_Ball_Room_MB_2', 209),\n",
       " ('major_drop_Morph_Ball_Room_MB_1', 210),\n",
       " ('major_drop_Morph_Ball_Room_MB_0', 211),\n",
       " ('major_drop_Plasma_PLB_3', 212),\n",
       " ('major_drop_Plasma_PLB_2', 213),\n",
       " ('major_drop_Plasma_PLB_1', 214),\n",
       " ('major_drop_Plasma_PLB_0', 215),\n",
       " ('major_drop_Screw_Attack_SA_3', 216),\n",
       " ('major_drop_Screw_Attack_SA_2', 217),\n",
       " ('major_drop_Screw_Attack_SA_1', 218),\n",
       " ('major_drop_Screw_Attack_SA_0', 219),\n",
       " ('major_drop_Space_Jump_SJ_3', 220),\n",
       " ('major_drop_Space_Jump_SJ_2', 221),\n",
       " ('major_drop_Space_Jump_SJ_1', 222),\n",
       " ('major_drop_Space_Jump_SJ_0', 223),\n",
       " ('major_drop_Spazer_Spazer_3', 224),\n",
       " ('major_drop_Spazer_Spazer_2', 225),\n",
       " ('major_drop_Spazer_Spazer_1', 226),\n",
       " ('major_drop_Spazer_Spazer_0', 227),\n",
       " ('major_drop_Speed_Booster_SB_3', 228),\n",
       " ('major_drop_Speed_Booster_SB_2', 229),\n",
       " ('major_drop_Speed_Booster_SB_1', 230),\n",
       " ('major_drop_Speed_Booster_SB_0', 231),\n",
       " ('major_drop_Spring_Ball_SPB_3', 232),\n",
       " ('major_drop_Spring_Ball_SPB_2', 233),\n",
       " ('major_drop_Spring_Ball_SPB_1', 234),\n",
       " ('major_drop_Spring_Ball_SPB_0', 235),\n",
       " ('major_drop_Varia_Suit_V_3', 236),\n",
       " ('major_drop_Varia_Suit_V_2', 237),\n",
       " ('major_drop_Varia_Suit_V_1', 238),\n",
       " ('major_drop_Varia_Suit_V_0', 239),\n",
       " ('major_drop_Wave_Beam_WB_3', 240),\n",
       " ('major_drop_Wave_Beam_WB_2', 241),\n",
       " ('major_drop_Wave_Beam_WB_1', 242),\n",
       " ('major_drop_Wave_Beam_WB_0', 243),\n",
       " ('major_drop_XRay_XR_3', 244),\n",
       " ('major_drop_XRay_XR_2', 245),\n",
       " ('major_drop_XRay_XR_1', 246),\n",
       " ('major_drop_XRay_XR_0', 247)]"
      ]
     },
     "execution_count": 32,
     "metadata": {},
     "output_type": "execute_result"
    }
   ],
   "source": [
    "var_levels()"
   ]
  },
  {
   "cell_type": "code",
   "execution_count": 30,
   "id": "08dec845-f866-4eae-82f1-578b74612f4f",
   "metadata": {},
   "outputs": [],
   "source": [
    "# Ensure uniqueness and validity\n",
    "validity = context.true\n",
    "for node in major_drop_nodes:\n",
    "    validity &= context.add_expr(f\"major_drop_{node} < {len(major_items)}\")\n",
    "for node in minor_drop_nodes:\n",
    "    validity &= context.add_expr(f\"minor_drop_{node} < {len(major_items)}\")\n",
    "\n",
    "# Only drop one thing\n",
    "# Sum is faster to compute than O(n^2) !=s\n",
    "uniqueness = context.true\n",
    "for i,item in enumerate(major_items):\n",
    "    uniqueness &= context.add_expr(\" + \".join([f\"ite(major_drop_{node} = {i},1,0)\" for node in major_drop_nodes] + [\"0\"]) + \" <= 1\")\n",
    "\n",
    "valid_design = validity & uniqueness"
   ]
  },
  {
   "cell_type": "code",
   "execution_count": 31,
   "id": "2c32a08a-cd27-4dbe-93ba-ae28b339d0ef",
   "metadata": {},
   "outputs": [],
   "source": [
    "original_design = context.true\n",
    "for room_name, room in design[\"Rooms\"].items():\n",
    "    for node_name, d in room[\"Drops\"].items():\n",
    "        name = room_name + \"_\" + node_name\n",
    "        if d in major_items:\n",
    "            if name in major_drop_nodes:\n",
    "                original_design &= context.add_expr(f\"major_drop_{name} = {major_items.index(d)}\")\n",
    "        if d in minor_items:\n",
    "            if name in minor_drop_nodes:\n",
    "                original_design &= context.add_expr(f\"minor_drop_{name} = {minor_items.index(d)}\")"
   ]
  },
  {
   "cell_type": "code",
   "execution_count": 32,
   "id": "74322bff-60b5-431a-84c0-1553fa783379",
   "metadata": {},
   "outputs": [],
   "source": [
    "edits = []\n",
    "for room_name, room in design[\"Rooms\"].items():\n",
    "    for node_name, d in room[\"Drops\"].items():\n",
    "        name = room_name + \"_\" + node_name\n",
    "        if d in major_items:\n",
    "            if name in major_drop_nodes:\n",
    "                edits.append(f\"ite(major_drop_{name} = {major_items.index(d)},0,1)\")\n",
    "        if d in minor_items:\n",
    "            if name in minor_drop_nodes:\n",
    "                edits.append(f\"ite(minor_drop_{name} = {minor_items.index(d)},0,1)\")\n",
    "all_edits = \" + \".join(edits)"
   ]
  },
  {
   "cell_type": "code",
   "execution_count": 33,
   "id": "0026e7dd-2cc6-4bbb-a91b-0c99960235aa",
   "metadata": {},
   "outputs": [],
   "source": [
    "#TODO: minor items\n",
    "def show_design(pick):\n",
    "    for v,id in pick.items():\n",
    "        print(f\"{v}: {major_items[id]}\")"
   ]
  },
  {
   "cell_type": "code",
   "execution_count": 34,
   "id": "26e48e22-52b4-4b14-9030-e0a2be90c083",
   "metadata": {},
   "outputs": [],
   "source": [
    "from tqdm.notebook import tqdm"
   ]
  },
  {
   "cell_type": "code",
   "execution_count": 35,
   "id": "d1336e16-0a44-4231-b192-0c917b8ddba4",
   "metadata": {},
   "outputs": [
    {
     "data": {
      "application/vnd.jupyter.widget-view+json": {
       "model_id": "06fce3357e404922b2a8b23f52fcd11a",
       "version_major": 2,
       "version_minor": 0
      },
      "text/plain": [
       "  0%|          | 0/255 [00:00<?, ?it/s]"
      ]
     },
     "metadata": {},
     "output_type": "display_data"
    }
   ],
   "source": [
    "# Build individual BDDs\n",
    "room_bdds = []\n",
    "door_bdds = []\n",
    "for room_name, room in tqdm(design['Rooms'].items()):\n",
    "    links = []\n",
    "    for node_name in room['Nodes']:\n",
    "        s = loc_id(room_name, node_name) & loc_id(room_name, node_name, when=\"next\") & item_transitions()\n",
    "        links.append(s)\n",
    "        if node_name in room['Drops']:\n",
    "            if room_name + \"_\" + node_name in major_drop_nodes:\n",
    "                s = loc_id(room_name, node_name) & loc_id(room_name, node_name, when=\"next\") & rando_transitions(room_name, node_name, \"major\", major_items)\n",
    "            elif room_name + \"_\" + node_name in minor_drop_nodes:\n",
    "                s = loc_id(room_name, node_name) & loc_id(room_name, node_name, when=\"next\") & rando_transitions(room_name, node_name, \"minor\", minor_items)\n",
    "            else:\n",
    "                s = loc_id(room_name, node_name) & loc_id(room_name, node_name, when=\"next\") & item_transitions(room['Drops'][node_name])\n",
    "            links.append(s)\n",
    "    for node_name, door in room['Doors'].items():\n",
    "        d = loc_id(room_name, node_name) & loc_id(door['Room'], door['Node'], when=\"next\") & item_transitions()\n",
    "        door_bdds.append(d)\n",
    "    for node_name, edges in room['Edges'].items():\n",
    "        for edge in edges:\n",
    "            other_node_name = edge['Terminal']\n",
    "            s = loc_id(room_name, node_name) & loc_id(room_name, other_node_name, when=\"next\") & required_itemsets(edge['Requirements']) & item_transitions()\n",
    "            links.append(s)\n",
    "    room_bdd = reduce_or(links)\n",
    "    #print(room_bdd.count())\n",
    "    room_bdds.append(room_bdd)"
   ]
  },
  {
   "cell_type": "code",
   "execution_count": 36,
   "id": "3c2d0dfa-1cb4-4da7-83f3-85cb50fd54c5",
   "metadata": {},
   "outputs": [],
   "source": [
    "doors_bdd = reduce_or(door_bdds)\n",
    "rooms_bdd = reduce_or(room_bdds)\n",
    "trans = doors_bdd | rooms_bdd"
   ]
  },
  {
   "cell_type": "code",
   "execution_count": 37,
   "id": "f1525edd-2962-436e-89a9-3754edd5a02e",
   "metadata": {},
   "outputs": [],
   "source": [
    "# Compute the design UNCONDITIONAL item-item reachability transes"
   ]
  },
  {
   "cell_type": "code",
   "execution_count": 38,
   "id": "faee82be-c717-437c-8c0c-67ded1732eb0",
   "metadata": {},
   "outputs": [],
   "source": [
    "items_unchanged = context.add_expr(\"items_unchanged\", with_ops=True)\n",
    "item_nexts = [k for k in item_vars if k.endswith(\"_next\")]\n",
    "item_prevs = [k for k in item_vars if k.endswith(\"_prev\")]"
   ]
  },
  {
   "cell_type": "code",
   "execution_count": 39,
   "id": "a9bc1796-401b-4022-90e7-11d30ffe73e4",
   "metadata": {},
   "outputs": [],
   "source": [
    "# Find items that do not affect reachability:\n",
    "bad_items = [\n",
    "    # 'Implied' items\n",
    "    \"Botwoon\",\n",
    "    \"Spore_Spawn\",\n",
    "    \"Golden_Torizo\",\n",
    "    \"Drain\",\n",
    "    \"Shaktool\",\n",
    "    # Items that don't impact reachability\n",
    "    \"Spazer\",\n",
    "    \"XR\",\n",
    "    \"RT\",\n",
    "    \"Ceres_Ridley\",\n",
    "]\n",
    "nuisances = [f\"{i}_prev\" for i in bad_items] + [f\"{i}_next\" for i in bad_items]\n",
    "#bad_items = []\n",
    "#for i in design[\"Items\"] | design[\"Bosses\"]:\n",
    "#    istr = f\"{i}_prev\"\n",
    "#    i_without = context.add_expr(f\"{istr} = 0\")\n",
    "#    i_with = context.add_expr(f\"{istr} = 1\")\n",
    "#    if context.exist([istr], (trans & i_without)) == context.exist([istr], (trans & i_with)):\n",
    "#        bad_items.append(i)"
   ]
  },
  {
   "cell_type": "code",
   "execution_count": 40,
   "id": "8b02f30e-a28f-4c10-ae55-c639b40209a2",
   "metadata": {},
   "outputs": [],
   "source": [
    "trans = context.exist(nuisances, trans)"
   ]
  },
  {
   "cell_type": "code",
   "execution_count": 41,
   "id": "6d6d2244-8655-471a-abf8-f3907353e12d",
   "metadata": {},
   "outputs": [
    {
     "data": {
      "text/plain": [
       "{'Kraid': 'Kraid',\n",
       " 'Phantoon': 'Phantoon',\n",
       " 'Draygon': 'Draygon',\n",
       " 'Ridley': 'Ridley',\n",
       " 'Mother_Brain': 'Mother_Brain',\n",
       " 'Botwoon': 'Botwoon',\n",
       " 'Spore_Spawn': 'Spore_Spawn',\n",
       " 'Golden_Torizo': 'Golden_Torizo',\n",
       " 'Bomb_Torizo': 'Bomb_Torizo',\n",
       " 'Crocomire': 'Crocomire'}"
      ]
     },
     "execution_count": 41,
     "metadata": {},
     "output_type": "execute_result"
    }
   ],
   "source": [
    "design[\"Bosses\"]"
   ]
  },
  {
   "cell_type": "code",
   "execution_count": 42,
   "id": "d18fcc7d-124a-460e-bbb6-1f235049c3fd",
   "metadata": {},
   "outputs": [],
   "source": [
    "major_items_unchanged = context.true\n",
    "bosses = design[\"Bosses\"]\n",
    "for i in major_items + list(bosses.keys()):\n",
    "    major_items_unchanged &= context.add_expr(f\"{i}_prev = {i}_next\")"
   ]
  },
  {
   "cell_type": "code",
   "execution_count": 43,
   "id": "0e3ebc8c-b584-4831-a730-e6a679fe10ed",
   "metadata": {},
   "outputs": [],
   "source": [
    "#trans_nav = context.exist(item_nexts, trans & items_unchanged)\n",
    "#trans_nav = trans & items_unchanged\n",
    "trans_nav = trans & major_items_unchanged\n",
    "#TODO: use context.forall to find the edges that are NOT design-conditional\n",
    "# Then compute the \"fully unconditional\" trans closure... then do the exact same thing we have been doing\n",
    "#TODO: less general idea:\n",
    "# A more permissive \"items_unchanged\" would allow you to remove minor nodes from the list of important locations"
   ]
  },
  {
   "cell_type": "code",
   "execution_count": 44,
   "id": "1335103a-8895-4c41-ba6d-e43d24cb9afc",
   "metadata": {},
   "outputs": [],
   "source": [
    "# Make sure that trans_nav is not design-conditioned\n",
    "assert not set(design_vars.keys()) & set(context.support(trans_nav))"
   ]
  },
  {
   "cell_type": "code",
   "execution_count": 45,
   "id": "417a98ba-7d70-415f-b7d9-9d781172eced",
   "metadata": {},
   "outputs": [],
   "source": [
    "#important_nodes = major_nodes + minor_nodes + other_drop_nodes + [\"Landing_Site_Ship\", \"Landing_Site_End\"]\n",
    "important_nodes = major_nodes + other_drop_nodes + [\"Landing_Site_Ship\", \"Landing_Site_End\"]\n",
    "important_prev = reduce_or([context.add_expr(f\"node_id_prev = {node_ids[waypoint]}\") for waypoint in important_nodes])"
   ]
  },
  {
   "cell_type": "code",
   "execution_count": 46,
   "id": "b2ef847b-2f2d-4c62-b8eb-8d18fd950b6f",
   "metadata": {},
   "outputs": [
    {
     "data": {
      "text/plain": [
       "30.0"
      ]
     },
     "execution_count": 46,
     "metadata": {},
     "output_type": "execute_result"
    }
   ],
   "source": [
    "important_prev.count()"
   ]
  },
  {
   "cell_type": "code",
   "execution_count": 47,
   "id": "6faead1b-4fe0-4b7b-a7f8-c281bf9bb956",
   "metadata": {},
   "outputs": [],
   "source": [
    "# trans_pn -> trans_tn\n",
    "# closure_pn\n",
    "# closure_pt & trans_tn = ?_ptn"
   ]
  },
  {
   "cell_type": "code",
   "execution_count": 48,
   "id": "56cfe63e-bc15-4d48-967e-fcf18dd4ca22",
   "metadata": {},
   "outputs": [],
   "source": [
    "def find_closure_sbfs(trans, start_bdd):\n",
    "    n = 0\n",
    "    closure = start_bdd & trans\n",
    "    closure_last = context.false\n",
    "    trans_tn = context.let(prev_to_temp, trans)\n",
    "    while closure != closure_last:\n",
    "        closure_last = closure\n",
    "        closure |= context.exist(temps, context.let(next_to_temp, closure) & trans_tn)\n",
    "        print(n, closure.dag_size)\n",
    "        n += 1\n",
    "    return closure"
   ]
  },
  {
   "cell_type": "code",
   "execution_count": 49,
   "id": "c1d95c6f-c547-4fec-ae41-e7d4d1ff94f4",
   "metadata": {
    "scrolled": true
   },
   "outputs": [
    {
     "name": "stdout",
     "output_type": "stream",
     "text": [
      "CPU times: user 1 µs, sys: 1 µs, total: 2 µs\n",
      "Wall time: 3.1 µs\n"
     ]
    }
   ],
   "source": [
    "%%time\n",
    "# Restrict endpoints to only important nodes\n",
    "#trans_important = find_closure_sbfs(trans_nav, important_prev) & context.let(prev_to_next, important_prev)"
   ]
  },
  {
   "cell_type": "code",
   "execution_count": 50,
   "id": "103605a9-4899-4969-8ccd-c749105bedfe",
   "metadata": {},
   "outputs": [],
   "source": [
    "#context.bdd.dump(\"../../output/important_closure.dddmp\", [trans_important])"
   ]
  },
  {
   "cell_type": "code",
   "execution_count": 51,
   "id": "6e89ec34-836e-4907-8429-7deac0b30fa2",
   "metadata": {},
   "outputs": [],
   "source": [
    "trans_important = context.bdd.load(\"../../output/important_closure.dddmp\")[0]"
   ]
  },
  {
   "cell_type": "code",
   "execution_count": 52,
   "id": "e8f0f93e-f3d4-4b1e-8a81-d91be8555a0b",
   "metadata": {},
   "outputs": [
    {
     "name": "stdout",
     "output_type": "stream",
     "text": [
      "289590\n"
     ]
    }
   ],
   "source": [
    "print(trans_important.dag_size)"
   ]
  },
  {
   "cell_type": "code",
   "execution_count": 53,
   "id": "7a64bb52-06cc-4b09-b1af-294c86920357",
   "metadata": {},
   "outputs": [],
   "source": [
    "#trans_item = trans & ~items_unchanged\n",
    "trans_item = trans & ~major_items_unchanged"
   ]
  },
  {
   "cell_type": "code",
   "execution_count": 54,
   "id": "157afb71-f8c7-4f70-85a2-6d049d6b458b",
   "metadata": {},
   "outputs": [],
   "source": [
    "teleport_trans = trans_item | trans_important"
   ]
  },
  {
   "cell_type": "code",
   "execution_count": 55,
   "id": "9775d060-c10e-4f83-a478-aa90f432ed6f",
   "metadata": {},
   "outputs": [
    {
     "data": {
      "text/plain": [
       "327752"
      ]
     },
     "execution_count": 55,
     "metadata": {},
     "output_type": "execute_result"
    }
   ],
   "source": [
    "teleport_trans.dag_size"
   ]
  },
  {
   "cell_type": "code",
   "execution_count": 56,
   "id": "d3f6577e-8a29-48f2-8567-fee2292e6493",
   "metadata": {},
   "outputs": [],
   "source": [
    "def find_reachable_sbfs(trans, start_bdd):\n",
    "    n = 0\n",
    "    reachable = start_bdd\n",
    "    reachable_last = context.false\n",
    "    while reachable != reachable_last:\n",
    "        reachable_last = reachable\n",
    "        reachable |= context.let(next_to_prev, context.exist(prevs, reachable & trans))\n",
    "        print(n, reachable.dag_size)\n",
    "        n += 1\n",
    "    return reachable"
   ]
  },
  {
   "cell_type": "code",
   "execution_count": 57,
   "id": "7d3affaa-464e-4095-8f90-53f9bb939958",
   "metadata": {},
   "outputs": [],
   "source": [
    "from data_types import item_set"
   ]
  },
  {
   "cell_type": "code",
   "execution_count": 58,
   "id": "1d0db9ad-8ac9-4e9a-a120-911c0e1a417f",
   "metadata": {},
   "outputs": [],
   "source": [
    "def mk_itemset_expr(itemset, when=\"prev\"):\n",
    "    clauses = []\n",
    "    for i in item_mapping:\n",
    "        if i in itemset:\n",
    "            clause = context.add_expr(f\"{i}_{when} = 1\")\n",
    "        else:\n",
    "            clause = context.add_expr(f\"{i}_{when} = 0\")\n",
    "        clauses.append(clause)\n",
    "    return reduce_and(clauses)"
   ]
  },
  {
   "cell_type": "code",
   "execution_count": 59,
   "id": "d8a83cad-6913-47d1-95db-f4b53f5f997b",
   "metadata": {},
   "outputs": [],
   "source": [
    "def find_reachable_special(start_bdd):\n",
    "    n = 0\n",
    "    reachable = start_bdd\n",
    "    reachable_last = context.false\n",
    "    while reachable != reachable_last:\n",
    "        reachable_last = reachable\n",
    "        # one teleport step\n",
    "        reachable |= context.let(next_to_prev, context.exist(prevs, reachable & trans_important))\n",
    "        # one item step\n",
    "        reachable |= context.let(next_to_prev, context.exist(prevs, reachable & trans_item))\n",
    "        print(n, reachable.dag_size)\n",
    "        n += 1\n",
    "    return reachable"
   ]
  },
  {
   "cell_type": "code",
   "execution_count": 60,
   "id": "186f32e1-9498-43eb-ba2c-3bec885d8d6b",
   "metadata": {},
   "outputs": [],
   "source": [
    "item_next_to_prev = {k:v for k,v in next_to_prev.items() if k != \"node_id_next\"}"
   ]
  },
  {
   "cell_type": "code",
   "execution_count": 61,
   "id": "a0aece0b-2591-42bb-a505-ee421876f47c",
   "metadata": {},
   "outputs": [],
   "source": [
    "# TODO: derive these sets using forall\n",
    "trans_majors = major_items + list(bosses.keys())\n",
    "trans_minors = [\"node_id\"] + minor_items\n",
    "minor_nexts = [f\"{i}_next\" for i in trans_minors]\n",
    "minor_prevs = [f\"{i}_prev\" for i in trans_minors]\n",
    "major_nexts = [f\"{i}_next\" for i in trans_majors]\n",
    "major_prevs = [f\"{i}_prev\" for i in trans_majors]\n",
    "minor_ntp = {f\"{i}_next\" : f\"{i}_prev\" for i in trans_minors}\n",
    "major_ntp = {f\"{i}_next\" : f\"{i}_prev\" for i in trans_majors}\n",
    "assert set(major_nexts) & set(minor_nexts) == set()\n",
    "#assert set(major_nexts) | set(minor_nexts) == set(item_nexts + [\"node_id_next\"])"
   ]
  },
  {
   "cell_type": "code",
   "execution_count": 62,
   "id": "df772a22-c973-41cb-9cd6-91ef2cb82ff5",
   "metadata": {},
   "outputs": [],
   "source": [
    "def find_reachable_special2(start_bdd):\n",
    "    n = 0\n",
    "    # Record the intermediate swell\n",
    "    iswell = 0\n",
    "    #trans_important_partial = context.exist(item_nexts, trans_important)\n",
    "    #trans_item_partial = context.exist([\"node_id_next\"], trans_item)\n",
    "    trans_important_partial = context.exist(major_nexts, trans_important)\n",
    "    trans_item_partial = context.exist(minor_nexts, trans_item)\n",
    "    reachable = start_bdd\n",
    "    reachable_last = context.false\n",
    "    while reachable != reachable_last:\n",
    "        reachable_last = reachable\n",
    "        # one teleport step\n",
    "        #reachable |= context.let({\"node_id_next\": \"node_id_prev\"}, context.exist([\"node_id_prev\"], reachable & trans_important_partial))\n",
    "        reachable |= context.let(minor_ntp, context.exist(minor_prevs, reachable & trans_important_partial))\n",
    "        # one item step\n",
    "        #reachable |= context.let(item_next_to_prev, context.exist(item_prevs, reachable & trans_item_partial))\n",
    "        reachable |= context.let(major_ntp, context.exist(major_prevs, reachable & trans_item_partial))\n",
    "        dag_size = reachable.dag_size\n",
    "        print(n, dag_size)\n",
    "        if dag_size > iswell:\n",
    "            iswell = dag_size\n",
    "        n += 1\n",
    "    return reachable, iswell"
   ]
  },
  {
   "cell_type": "code",
   "execution_count": 63,
   "id": "ad6bc0a7-ea2b-4125-8892-022992363640",
   "metadata": {},
   "outputs": [],
   "source": [
    "def find_reachable_special_hints(start_bdd, hints=[]):\n",
    "    reachable = start_bdd\n",
    "    hints.append(context.true)\n",
    "    for h,hint in enumerate(hints):\n",
    "        n = 0\n",
    "        trans_important_partial = context.exist(major_nexts, trans_important & hint)\n",
    "        trans_item_partial = context.exist(minor_nexts, trans_item & hint)\n",
    "        reachable_last = context.false\n",
    "        while reachable != reachable_last:\n",
    "            reachable_last = reachable\n",
    "            # one teleport step\n",
    "            reachable |= context.let(minor_ntp, context.exist(minor_prevs, reachable & trans_important_partial))\n",
    "            # one item step\n",
    "            reachable |= context.let(major_ntp, context.exist(major_prevs, reachable & trans_item_partial))\n",
    "            print(h, n, reachable.dag_size)\n",
    "            n += 1\n",
    "    return reachable"
   ]
  },
  {
   "cell_type": "code",
   "execution_count": 64,
   "id": "e35d48e1-3a3f-479a-933e-fe80187e865a",
   "metadata": {},
   "outputs": [],
   "source": [
    "#TODO: figure out a principled stopping condition\n",
    "def find_completable_bidirectional(start_bdd, end_bdd, max_iterations):\n",
    "    reachable_forward = start_bdd\n",
    "    reachable_backward = end_bdd\n",
    "    for t in range(max_iterations):\n",
    "        reachable_forward |= context.let(next_to_prev, context.exist(prevs, reachable_forward & teleport_trans))\n",
    "        reachable_backward |= context.let(prev_to_next, context.exist(nexts, reachable_backward & teleport_trans))\n",
    "        print(t, reachable_forward.dag_size, reachable_backward.dag_size)\n",
    "    return reachable_forward & context.let(next_to_prev, reachable_backward)"
   ]
  },
  {
   "cell_type": "code",
   "execution_count": 65,
   "id": "5e72d29d-f308-4234-9443-36beb2c5a02d",
   "metadata": {},
   "outputs": [],
   "source": [
    "# Set of all prevs without node_id_prev -- these are \"item state\"\n",
    "item_vars = prevs[1:]"
   ]
  },
  {
   "cell_type": "code",
   "execution_count": 75,
   "id": "97aa7262-0b7b-4146-b27a-7a6ca3e33825",
   "metadata": {},
   "outputs": [],
   "source": [
    "def find_reachable_rounding(start_bdd):\n",
    "    n = 0\n",
    "    # Record the intermediate swell\n",
    "    iswell = 0\n",
    "    #trans_important_partial = context.exist(item_nexts, trans_important)\n",
    "    #trans_item_partial = context.exist([\"node_id_next\"], trans_item)\n",
    "    trans_important_partial = context.exist(major_nexts, trans_important)\n",
    "    trans_item_partial = context.exist(minor_nexts, trans_item)\n",
    "    reachable = start_bdd\n",
    "    reachable_last = context.false\n",
    "    while reachable != reachable_last:\n",
    "        reachable_last = reachable\n",
    "        # one teleport step\n",
    "        #reachable |= context.let({\"node_id_next\": \"node_id_prev\"}, context.exist([\"node_id_prev\"], reachable & trans_important_partial))\n",
    "        reachable |= context.let(minor_ntp, context.exist(minor_prevs, reachable & trans_important_partial))\n",
    "        # one item step\n",
    "        #reachable |= context.let(item_next_to_prev, context.exist(item_prevs, reachable & trans_item_partial))\n",
    "        reachable |= context.let(major_ntp, context.exist(major_prevs, reachable & trans_item_partial))\n",
    "        locs = context.exist(item_vars, reachable)\n",
    "        isets = context.exist([\"node_id_prev\"], reachable)\n",
    "        reachable |= locs & isets\n",
    "        dag_size = reachable.dag_size\n",
    "        print(n, dag_size)\n",
    "        if dag_size > iswell:\n",
    "            iswell = dag_size\n",
    "        n += 1\n",
    "    return reachable, iswell"
   ]
  },
  {
   "cell_type": "code",
   "execution_count": 76,
   "id": "dae110ce-5840-405f-acf1-017980ef942e",
   "metadata": {},
   "outputs": [],
   "source": [
    "start_bdd = context.add_expr(\"node_id_prev = 0\") & mk_itemset_expr(item_set.ItemSet())"
   ]
  },
  {
   "cell_type": "code",
   "execution_count": 77,
   "id": "3ce61283-ce02-43b4-bfa6-2509172b7e44",
   "metadata": {},
   "outputs": [],
   "source": [
    "end_bdd = context.add_expr(\"node_id_next = 1\")"
   ]
  },
  {
   "cell_type": "code",
   "execution_count": 78,
   "id": "dbe68789-a4c7-4357-8515-a55f3e567b8b",
   "metadata": {},
   "outputs": [],
   "source": [
    "trans_important_partial = context.exist(major_nexts, trans_important)\n",
    "trans_item_partial = context.exist(minor_nexts, trans_item)"
   ]
  },
  {
   "cell_type": "code",
   "execution_count": 79,
   "id": "2231f17e-11f7-4b01-b05b-57d1986ce9c6",
   "metadata": {},
   "outputs": [],
   "source": [
    "s2 = start_bdd & trans_important_partial\n",
    "#s2 = context.exist(minor_nexts, start_bdd & trans_important_partial)\n",
    "#s2 = context.let(minor_ntp, context.exist(minor_nexts, start_bdd & trans_important_partial))"
   ]
  },
  {
   "cell_type": "code",
   "execution_count": 80,
   "id": "9aa62271-f2a0-40f9-a9d8-8e1c6ba7907c",
   "metadata": {},
   "outputs": [],
   "source": [
    "max_distance = 6\n",
    "edit_distance = context.add_expr(all_edits + f\" <= {max_distance}\")\n",
    "edit_distance_equal = context.add_expr(all_edits + f\" = {max_distance}\")"
   ]
  },
  {
   "cell_type": "code",
   "execution_count": 81,
   "id": "a20b3759-4daf-4467-98d6-330abc09aee1",
   "metadata": {},
   "outputs": [],
   "source": [
    "# Check whether highest edit distance is always the worst case by sweeping over eD in a more restricted context\n",
    "# e.g. only randomizing the first n items\n",
    "n_restricted = 0\n",
    "n_un = len(major_drop_nodes) - n_restricted\n",
    "restricted_nodes = major_drop_nodes[n_un:]\n",
    "design_restriction = context.true\n",
    "for room_name, room in design[\"Rooms\"].items():\n",
    "    for node_name, d in room[\"Drops\"].items():\n",
    "        name = room_name + \"_\" + node_name\n",
    "        if d in major_items:\n",
    "            if name in restricted_nodes:\n",
    "                design_restriction &= context.add_expr(f\"major_drop_{name} = {major_items.index(d)}\")"
   ]
  },
  {
   "cell_type": "code",
   "execution_count": 82,
   "id": "1fe9ec6d-adbf-4b94-97f0-15374e91302e",
   "metadata": {},
   "outputs": [
    {
     "data": {
      "text/plain": [
       "[]"
      ]
     },
     "execution_count": 82,
     "metadata": {},
     "output_type": "execute_result"
    }
   ],
   "source": [
    "major_drop_nodes[n_un:]"
   ]
  },
  {
   "cell_type": "code",
   "execution_count": 83,
   "id": "2e2dd2ad-dc7c-4dd4-a984-bb776af5a31f",
   "metadata": {},
   "outputs": [],
   "source": [
    "import time"
   ]
  },
  {
   "cell_type": "code",
   "execution_count": 87,
   "id": "668a12bd-3801-4889-97d2-6b3ac80af09d",
   "metadata": {
    "scrolled": true
   },
   "outputs": [
    {
     "name": "stdout",
     "output_type": "stream",
     "text": [
      "0 154273\n",
      "1 155344\n",
      "2 237008\n",
      "3 335926\n",
      "4 435727\n",
      "5 482277\n",
      "6 573534\n",
      "7 717080\n",
      "8 793875\n",
      "9 849960\n",
      "10 960814\n",
      "11 1103421\n",
      "12 1271782\n",
      "13 1442510\n",
      "14 1518625\n",
      "15 1495354\n",
      "16 1421997\n",
      "17 1319537\n",
      "18 1220132\n",
      "19 1142188\n",
      "20 1103621\n",
      "21 1103621\n"
     ]
    }
   ],
   "source": [
    "times = []\n",
    "dag_sizes = []\n",
    "swells = []\n",
    "#for ed in tqdm(range(n_un)):\n",
    "#for ed in tqdm(range(5)):\n",
    "for ed in [5]:\n",
    "    edit_distance = context.add_expr(all_edits + f\" <= {ed}\")\n",
    "    tick = time.time()\n",
    "    reachable, iswell = find_reachable_special2(start_bdd & valid_design & edit_distance & design_restriction)\n",
    "    tock = time.time()\n",
    "    times.append(tock - tick)\n",
    "    dag_sizes.append(reachable.dag_size)\n",
    "    swells.append(iswell)"
   ]
  },
  {
   "cell_type": "code",
   "execution_count": 98,
   "id": "c3d4fe76-9570-4afb-b48e-328e96b2bb07",
   "metadata": {},
   "outputs": [],
   "source": [
    "reachable = context.exist(nexts, reachable)"
   ]
  },
  {
   "cell_type": "code",
   "execution_count": 99,
   "id": "7f12ff32-2b15-4144-bf23-86918d044790",
   "metadata": {},
   "outputs": [
    {
     "data": {
      "text/plain": [
       "1097097"
      ]
     },
     "execution_count": 99,
     "metadata": {},
     "output_type": "execute_result"
    }
   ],
   "source": [
    "reachable.dag_size"
   ]
  },
  {
   "cell_type": "code",
   "execution_count": 90,
   "id": "a885db21-0ca3-45d2-a369-77c7f007aa6a",
   "metadata": {},
   "outputs": [],
   "source": [
    "locs = context.exist(item_vars, reachable)\n",
    "isets = context.exist([\"node_id_prev\"], reachable)\n",
    "reachable2 = locs & isets"
   ]
  },
  {
   "cell_type": "code",
   "execution_count": 100,
   "id": "69842f81-e793-4268-bc28-e86caaf9f412",
   "metadata": {},
   "outputs": [],
   "source": [
    "reachable2 = context.exist(nexts, reachable2)"
   ]
  },
  {
   "cell_type": "code",
   "execution_count": 101,
   "id": "a3531d31-761e-40c2-8017-58ab6fcdda71",
   "metadata": {},
   "outputs": [
    {
     "data": {
      "text/plain": [
       "1421115"
      ]
     },
     "execution_count": 101,
     "metadata": {},
     "output_type": "execute_result"
    }
   ],
   "source": [
    "reachable2.dag_size"
   ]
  },
  {
   "cell_type": "code",
   "execution_count": 76,
   "id": "b4b3f80b-aaed-4c29-a760-80854949e37b",
   "metadata": {},
   "outputs": [
    {
     "data": {
      "text/plain": [
       "([0.07629084587097168,\n",
       "  0.0180971622467041,\n",
       "  0.5115005970001221,\n",
       "  1.3466131687164307,\n",
       "  4.538495779037476],\n",
       " [816, 816, 14256, 48083, 277541])"
      ]
     },
     "execution_count": 76,
     "metadata": {},
     "output_type": "execute_result"
    }
   ],
   "source": [
    "times, dag_sizes"
   ]
  },
  {
   "cell_type": "code",
   "execution_count": 78,
   "id": "b87b00f6-e28d-4e42-b325-1466aa216e5e",
   "metadata": {},
   "outputs": [
    {
     "data": {
      "text/plain": [
       "[<matplotlib.lines.Line2D at 0x7f66645bceb0>]"
      ]
     },
     "execution_count": 78,
     "metadata": {},
     "output_type": "execute_result"
    },
    {
     "data": {
      "image/png": "[encoded data removed]",
      "text/plain": [
       "<Figure size 640x480 with 1 Axes>"
      ]
     },
     "metadata": {},
     "output_type": "display_data"
    }
   ],
   "source": [
    "plot(times)"
   ]
  },
  {
   "cell_type": "code",
   "execution_count": 114,
   "id": "2a8b4e61-751f-4c37-9d53-ab44599eecd3",
   "metadata": {},
   "outputs": [
    {
     "data": {
      "text/plain": [
       "[<matplotlib.lines.Line2D at 0x7f96e63e9d50>]"
      ]
     },
     "execution_count": 114,
     "metadata": {},
     "output_type": "execute_result"
    },
    {
     "data": {
      "image/png": "[encoded data removed]",
      "text/plain": [
       "<Figure size 640x480 with 1 Axes>"
      ]
     },
     "metadata": {},
     "output_type": "display_data"
    }
   ],
   "source": [
    "plot(swells)\n",
    "plot(dag_sizes)"
   ]
  },
  {
   "cell_type": "code",
   "execution_count": 77,
   "id": "f2dd44f7-b49b-4755-aa2a-9142bd081250",
   "metadata": {
    "scrolled": true
   },
   "outputs": [
    {
     "name": "stdout",
     "output_type": "stream",
     "text": [
      "0 4622\n",
      "1 4750\n",
      "2 6189\n",
      "3 8039\n",
      "4 8952\n",
      "5 9821\n",
      "6 9443\n",
      "7 9395\n",
      "8 9567\n",
      "9 9627\n",
      "10 9671\n",
      "11 9790\n",
      "12 10098\n",
      "13 10359\n",
      "14 10525\n",
      "15 10475\n",
      "16 10328\n",
      "17 10220\n",
      "18 9837\n",
      "19 9248\n",
      "20 9184\n",
      "21 9184\n",
      "CPU times: user 49.5 ms, sys: 0 ns, total: 49.5 ms\n",
      "Wall time: 49.1 ms\n"
     ]
    }
   ],
   "source": [
    "%%time\n",
    "#reachable = find_reachable_sbfs(teleport_trans, start_bdd)\n",
    "reachable, swell = find_reachable_special2(start_bdd & valid_design & edit_distance)\n",
    "#reachable = find_completable_bidirectional(start_bdd, end_bdd, 17)"
   ]
  },
  {
   "cell_type": "code",
   "execution_count": 124,
   "id": "f554e94e-f96d-4536-bdee-7474ac53936a",
   "metadata": {},
   "outputs": [],
   "source": [
    "n = 5\n",
    "hints = [context.add_expr(f\"node_id_prev < ({(i+1) * len(node_ids) // n })\") for i in range(n-1)]"
   ]
  },
  {
   "cell_type": "code",
   "execution_count": 125,
   "id": "484a1578-8f11-4f91-a869-d85fe2977d2c",
   "metadata": {},
   "outputs": [],
   "source": [
    "# Edit distance hints - ???\n",
    "#hints = [context.add_expr(all_edits + f\" <= {i}\") for i in range(max_distance)]"
   ]
  },
  {
   "cell_type": "code",
   "execution_count": 139,
   "id": "805f3013-e899-4aa0-a435-580a027ef8d7",
   "metadata": {},
   "outputs": [],
   "source": [
    "# Item count hints - Probably not very good since we already break apart major item collection\n",
    "#TODO: this bitwidth thing is a hack\n",
    "omega.logic.bitvector.ALU_BITWIDTH=42\n",
    "item_plus = \" + \".join(item_prevs)\n",
    "hints = [context.add_expr(f\"{item_plus} < {i}\") for i in [3,5,8,10]]"
   ]
  },
  {
   "cell_type": "code",
   "execution_count": 140,
   "id": "be90e733-79a8-47af-a9db-99b2f3fa51dc",
   "metadata": {},
   "outputs": [],
   "source": [
    "#TODO: region-based search\n",
    "#TODO: Dag-size restriction"
   ]
  },
  {
   "cell_type": "code",
   "execution_count": 141,
   "id": "5178dba9-b1fd-4f04-bee6-9d0bc4074aaf",
   "metadata": {},
   "outputs": [
    {
     "name": "stdout",
     "output_type": "stream",
     "text": [
      "0 0 253199\n",
      "0 1 253632\n",
      "0 2 253632\n",
      "1 0 341666\n",
      "1 1 342718\n",
      "1 2 342718\n",
      "2 0 387589\n",
      "2 1 511989\n",
      "2 2 628727\n",
      "2 3 628727\n",
      "3 0 837875\n",
      "3 1 1095781\n",
      "3 2 1095781\n",
      "4 0 1118626\n",
      "4 1 1444157\n",
      "4 2 1976103\n",
      "4 3 2832551\n",
      "4 4 3949709\n",
      "4 5 5071963\n",
      "4 6 5821103\n",
      "4 7 5963718\n",
      "4 8 5596948\n",
      "4 9 5014795\n",
      "4 10 4514951\n",
      "4 11 4172760\n",
      "4 12 4026118\n",
      "4 13 4016113\n",
      "4 14 4016113\n",
      "CPU times: user 1min 55s, sys: 581 ms, total: 1min 56s\n",
      "Wall time: 1min 55s\n"
     ]
    }
   ],
   "source": [
    "%%time\n",
    "reachable2 = find_reachable_special_hints(start_bdd & valid_design & edit_distance, hints)"
   ]
  },
  {
   "cell_type": "code",
   "execution_count": 83,
   "id": "5d858942-40c7-42de-ae66-2b4fd9674f1b",
   "metadata": {},
   "outputs": [],
   "source": [
    "end_reachable = context.add_expr(\"node_id_prev = 1\")"
   ]
  },
  {
   "cell_type": "code",
   "execution_count": 84,
   "id": "5ecdc9ff-d112-4641-bb2d-6e84cc8930bc",
   "metadata": {},
   "outputs": [],
   "source": [
    "designs = context.exist(nexts + prevs, reachable)"
   ]
  },
  {
   "cell_type": "code",
   "execution_count": 85,
   "id": "d31e955a-521a-4fb9-afc8-8a87dbb362e7",
   "metadata": {},
   "outputs": [
    {
     "data": {
      "text/plain": [
       "38243"
      ]
     },
     "execution_count": 85,
     "metadata": {},
     "output_type": "execute_result"
    }
   ],
   "source": [
    "designs.dag_size"
   ]
  },
  {
   "cell_type": "code",
   "execution_count": 86,
   "id": "edf9537b-6b2c-4ba5-a4f4-d4039fb57716",
   "metadata": {},
   "outputs": [
    {
     "data": {
      "text/plain": [
       "17621.0"
      ]
     },
     "execution_count": 86,
     "metadata": {},
     "output_type": "execute_result"
    }
   ],
   "source": [
    "designs.count()"
   ]
  },
  {
   "cell_type": "code",
   "execution_count": 87,
   "id": "76e76526-6033-4d6c-a818-0c3cdcc0cefe",
   "metadata": {},
   "outputs": [],
   "source": [
    "good_designs = context.exist(nexts + prevs, reachable & end_reachable)"
   ]
  },
  {
   "cell_type": "code",
   "execution_count": 88,
   "id": "4f8b7ebb-998c-4b46-88ff-f1aebe3650c5",
   "metadata": {},
   "outputs": [
    {
     "data": {
      "text/plain": [
       "2365.0"
      ]
     },
     "execution_count": 88,
     "metadata": {},
     "output_type": "execute_result"
    }
   ],
   "source": [
    "good_designs.count()"
   ]
  },
  {
   "cell_type": "code",
   "execution_count": 92,
   "id": "804bf766-bbab-4526-a55c-413ee13f1f23",
   "metadata": {},
   "outputs": [
    {
     "data": {
      "text/plain": [
       "0.3186465496953691"
      ]
     },
     "execution_count": 92,
     "metadata": {},
     "output_type": "execute_result"
    }
   ],
   "source": [
    "good_designs.dag_size / designs.dag_size"
   ]
  },
  {
   "cell_type": "code",
   "execution_count": 89,
   "id": "97401db0-9be2-4b26-8628-f5b0f0d9374a",
   "metadata": {},
   "outputs": [
    {
     "data": {
      "text/plain": [
       "0.13421485727257249"
      ]
     },
     "execution_count": 89,
     "metadata": {},
     "output_type": "execute_result"
    }
   ],
   "source": [
    "good_designs.count() / designs.count()"
   ]
  },
  {
   "cell_type": "code",
   "execution_count": 71,
   "id": "f35dab25-75bc-4613-a77d-0dbf0f6fd78c",
   "metadata": {},
   "outputs": [
    {
     "data": {
      "text/plain": [
       "{'major_drop_Big_Pink_CB',\n",
       " 'major_drop_Bomb_Torizo_Bombs',\n",
       " 'major_drop_Grapple_G',\n",
       " 'major_drop_Gravity_GS',\n",
       " 'major_drop_Hi_Jump_HJ',\n",
       " 'major_drop_Ice_Beam_IB',\n",
       " 'major_drop_Morph_Ball_Room_MB',\n",
       " 'major_drop_Plasma_PLB',\n",
       " 'major_drop_Screw_Attack_SA',\n",
       " 'major_drop_Space_Jump_SJ',\n",
       " 'major_drop_Spazer_Spazer',\n",
       " 'major_drop_Speed_Booster_SB',\n",
       " 'major_drop_Spring_Ball_SPB',\n",
       " 'major_drop_Varia_Suit_V',\n",
       " 'major_drop_Wave_Beam_WB',\n",
       " 'major_drop_XRay_XR'}"
      ]
     },
     "execution_count": 71,
     "metadata": {},
     "output_type": "execute_result"
    }
   ],
   "source": [
    "context.support(good_designs)"
   ]
  },
  {
   "cell_type": "code",
   "execution_count": 95,
   "id": "34d449f7-87be-49c1-95bc-ef1718a114cc",
   "metadata": {},
   "outputs": [],
   "source": [
    "#TODO: \"separable trans\"\n",
    "#TODO: git push\n",
    "#TODO: n_restricted = 1\n",
    "#TODO: does restricting/unrestricting space jump make a big difference in compute time?\n",
    "#TODO: colab pro\n",
    "#TODO: try a transpose representation where each item says what location it is at.\n",
    "#TODO: Look at nexts in reachable support\n",
    "#TODO: one-hot location"
   ]
  }
 ],
 "metadata": {
  "kernelspec": {
   "display_name": "Python 3 (ipykernel)",
   "language": "python",
   "name": "python3"
  },
  "language_info": {
   "codemirror_mode": {
    "name": "ipython",
    "version": 3
   },
   "file_extension": ".py",
   "mimetype": "text/x-python",
   "name": "python",
   "nbconvert_exporter": "python",
   "pygments_lexer": "ipython3",
   "version": "3.10.12"
  }
 },
 "nbformat": 4,
 "nbformat_minor": 5
}

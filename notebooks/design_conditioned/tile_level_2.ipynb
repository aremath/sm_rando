{
 "cells": [
  {
   "cell_type": "code",
   "execution_count": 1,
   "id": "d98fef55-133d-475f-b54f-3ce703ca23ce",
   "metadata": {},
   "outputs": [
    {
     "name": "stdout",
     "output_type": "stream",
     "text": [
      "%pylab is deprecated, use %matplotlib inline and import the required libraries.\n",
      "Populating the interactive namespace from numpy and matplotlib\n"
     ]
    }
   ],
   "source": [
    "%load_ext autoreload\n",
    "%autoreload 2\n",
    "%pylab inline"
   ]
  },
  {
   "cell_type": "code",
   "execution_count": 2,
   "id": "538dd521-5aed-47f6-9817-7abf80f3987c",
   "metadata": {},
   "outputs": [],
   "source": [
    "import sys\n",
    "sys.path.append(\"../..\")"
   ]
  },
  {
   "cell_type": "code",
   "execution_count": 64,
   "id": "df8f2052-637c-4342-a5e4-feea97479b8e",
   "metadata": {},
   "outputs": [],
   "source": [
    "from rom_tools.rom_manager import RomManager\n",
    "from world_rando import parse_rules\n",
    "from world_rando.coord import Coord"
   ]
  },
  {
   "cell_type": "code",
   "execution_count": 4,
   "id": "e671c8fe-de72-4d9b-9bcc-385c701e0fb4",
   "metadata": {},
   "outputs": [],
   "source": [
    "manager = RomManager(\"../../../roms/sm_clean.smc\", \"../../../roms/sm_junk.smc\")\n",
    "obj_names = manager.parse() # slow"
   ]
  },
  {
   "cell_type": "code",
   "execution_count": 5,
   "id": "bb76b71f-2c07-4455-8c6b-726dedfad351",
   "metadata": {},
   "outputs": [],
   "source": [
    "header = obj_names[\"room_header_0x7a107\"]\n",
    "#level = make_level_from_room(header)"
   ]
  },
  {
   "cell_type": "code",
   "execution_count": 65,
   "id": "4cbb8b0d-2f8e-4468-a837-c19c3fe14900",
   "metadata": {},
   "outputs": [],
   "source": [
    "rules, tests = parse_rules.parse_rules([\"../../encoding/rules/rules.yaml\",\n",
    "                                        \"../../encoding/rules/model_checking_tests/model_checking_tests.yaml\"])"
   ]
  },
  {
   "cell_type": "code",
   "execution_count": 7,
   "id": "7a3f2da1-8f07-4898-b8a2-efb4b4727c6a",
   "metadata": {},
   "outputs": [],
   "source": [
    "mcz2 = tests[\"ModifiedConstructionZone2\"]\n",
    "samus_0 = mcz2[0].samus\n",
    "samus_f = mcz2[1]\n",
    "level = mcz2[0].level"
   ]
  },
  {
   "cell_type": "code",
   "execution_count": 8,
   "id": "c5ec79aa-e64b-48d2-8a3c-76614cb63196",
   "metadata": {},
   "outputs": [
    {
     "data": {
      "text/plain": [
       "<matplotlib.collections.PathCollection at 0x778fde519db0>"
      ]
     },
     "execution_count": 8,
     "metadata": {},
     "output_type": "execute_result"
    },
    {
     "data": {
      "image/png": "[encoded data removed]",
      "text/plain": [
       "<Figure size 1440x480 with 1 Axes>"
      ]
     },
     "metadata": {},
     "output_type": "display_data"
    }
   ],
   "source": [
    "matshow(level.level.T)\n",
    "scatter([85,86,87,85,86,87],[23,23,23,24,24,24])\n",
    "scatter(14, 10)\n",
    "scatter(95, 7)\n",
    "scatter(39,9)\n",
    "scatter(13,9)"
   ]
  },
  {
   "cell_type": "code",
   "execution_count": 9,
   "id": "a5531b0b-629c-412c-b360-f480eb7c50a1",
   "metadata": {},
   "outputs": [],
   "source": [
    "from bdds.bdd_core import *"
   ]
  },
  {
   "cell_type": "code",
   "execution_count": 10,
   "id": "e38313a1-fcfb-42f9-8168-eaefa483a4fc",
   "metadata": {},
   "outputs": [],
   "source": [
    "context = mk_context()"
   ]
  },
  {
   "cell_type": "code",
   "execution_count": 11,
   "id": "ab315aec-3904-4cf5-8ca7-614dcd59ad51",
   "metadata": {},
   "outputs": [],
   "source": [
    "# First, build the normal trans"
   ]
  },
  {
   "cell_type": "code",
   "execution_count": 13,
   "id": "a6916848-c9a3-4da4-90bb-479ce6d52dd3",
   "metadata": {},
   "outputs": [
    {
     "name": "stderr",
     "output_type": "stream",
     "text": [
      "100%|███████████████████████████████████████████████████████████████████████████████| 3072/3072 [01:16<00:00, 40.16it/s]\n"
     ]
    }
   ],
   "source": [
    "non_design_trans = mk_trans(header, context, level)"
   ]
  },
  {
   "cell_type": "code",
   "execution_count": 14,
   "id": "12359a99-e11c-44c7-9ccb-fb8791369592",
   "metadata": {},
   "outputs": [],
   "source": [
    "non_design_trans = context.exist([\"rule\"], non_design_trans)"
   ]
  },
  {
   "cell_type": "code",
   "execution_count": 15,
   "id": "3bee3c0f-22bd-4b49-9b3d-da67d441087c",
   "metadata": {},
   "outputs": [
    {
     "data": {
      "text/plain": [
       "2396557391429632.0"
      ]
     },
     "execution_count": 15,
     "metadata": {},
     "output_type": "execute_result"
    }
   ],
   "source": [
    "non_design_trans.count()"
   ]
  },
  {
   "cell_type": "code",
   "execution_count": 16,
   "id": "8df41f08-99f5-42cc-b1cd-cc74938a4a15",
   "metadata": {},
   "outputs": [
    {
     "name": "stdout",
     "output_type": "stream",
     "text": [
      "0 5454\n",
      "1 14126\n",
      "2 41451\n",
      "3 62602\n",
      "4 70314\n",
      "5 69935\n",
      "6 81512\n",
      "7 48957\n",
      "8 31083\n",
      "9 31083\n"
     ]
    }
   ],
   "source": [
    "non_design_closure = mk_closure(non_design_trans, context)"
   ]
  },
  {
   "cell_type": "code",
   "execution_count": 17,
   "id": "131d344f-8216-412d-ba14-5c67ec23d796",
   "metadata": {},
   "outputs": [
    {
     "data": {
      "text/plain": [
       "4.1568526325031895e+18"
      ]
     },
     "execution_count": 17,
     "metadata": {},
     "output_type": "execute_result"
    }
   ],
   "source": [
    "non_design_closure.count()"
   ]
  },
  {
   "cell_type": "code",
   "execution_count": 18,
   "id": "2634d240-69ad-4766-a53c-97c09e97122a",
   "metadata": {},
   "outputs": [],
   "source": [
    "# Show that there is a softlock"
   ]
  },
  {
   "cell_type": "code",
   "execution_count": 19,
   "id": "af139feb-05e1-46a6-ab19-3d2e7c4bb1af",
   "metadata": {},
   "outputs": [
    {
     "data": {
      "text/plain": [
       "((c(39,9)|V: 0, H: RUN, 0|STAND|ISet([])),\n",
       " (c(95,7)|V: 0, H: RUN, 0|STAND|ISet(['M', 'MB'])))"
      ]
     },
     "execution_count": 19,
     "metadata": {},
     "output_type": "execute_result"
    }
   ],
   "source": [
    "samus_0, samus_f"
   ]
  },
  {
   "cell_type": "code",
   "execution_count": 20,
   "id": "0903bbac-0b63-4653-9cff-cc91cc6333ca",
   "metadata": {},
   "outputs": [],
   "source": [
    "items_prev = set(prevs) - set([\"x_prev\", \"y_prev\", \"pose_prev\", \"vt_prev\", \"vh_prev\", \"vv_prev\", \"room_id_prev\"])"
   ]
  },
  {
   "cell_type": "code",
   "execution_count": 21,
   "id": "8d05e573-5e6e-4172-8332-c8b06f1ebcd4",
   "metadata": {},
   "outputs": [],
   "source": [
    "no_items_prev = context.true\n",
    "for i in items_prev:\n",
    "    no_items_prev &= context.add_expr(f\"{i} = 0\")"
   ]
  },
  {
   "cell_type": "code",
   "execution_count": 22,
   "id": "4a8d154f-b3e3-4d58-aa28-06246e71aefa",
   "metadata": {},
   "outputs": [],
   "source": [
    "from data_types.item_set import item_mapping"
   ]
  },
  {
   "cell_type": "code",
   "execution_count": 23,
   "id": "9fc886ce-9bb3-443d-aef6-5649bf599fbe",
   "metadata": {},
   "outputs": [],
   "source": [
    "from functools import reduce"
   ]
  },
  {
   "cell_type": "code",
   "execution_count": 24,
   "id": "36f8450b-0902-4fb8-89c6-f6112f009f12",
   "metadata": {},
   "outputs": [],
   "source": [
    "def reduce_and(context, clauses):\n",
    "    return reduce(lambda x, y: x & y, clauses, context.true)\n",
    "\n",
    "def mk_itemset_expr(context, itemset, when=\"prev\"):\n",
    "    clauses = []\n",
    "    for i in item_mapping:\n",
    "        if i in itemset:\n",
    "            clause = context.add_expr(f\"{i}_{when} = 1\")\n",
    "        else:\n",
    "            clause = context.add_expr(f\"{i}_{when} = 0\")\n",
    "        clauses.append(clause)\n",
    "    return reduce_and(context, clauses)"
   ]
  },
  {
   "cell_type": "code",
   "execution_count": 25,
   "id": "5cc16831-ff35-4174-90e9-89d6c524afcb",
   "metadata": {},
   "outputs": [],
   "source": [
    "samus_0_bdd = context.add_expr(\"x_prev = 39 & y_prev = 9 & pose_prev = 0\") & mk_itemset_expr(context, samus_0.items, \"prev\")"
   ]
  },
  {
   "cell_type": "code",
   "execution_count": 26,
   "id": "c5ccd9f4-63cb-481c-8fc1-94457536c91c",
   "metadata": {},
   "outputs": [],
   "source": [
    "samus_f_bdd = context.add_expr(\"x_next = 95 & y_next = 7 & pose_next = 0\") & mk_itemset_expr(context, samus_f.items, \"next\")"
   ]
  },
  {
   "cell_type": "code",
   "execution_count": 27,
   "id": "d8a62b2a-e9f4-4a73-9542-afd715b6b47f",
   "metadata": {},
   "outputs": [],
   "source": [
    "reach_goal = non_design_closure & samus_f_bdd"
   ]
  },
  {
   "cell_type": "code",
   "execution_count": 28,
   "id": "12422e10-2539-48e8-b903-4eb3a95ad3ee",
   "metadata": {},
   "outputs": [
    {
     "data": {
      "text/plain": [
       "59404.0"
      ]
     },
     "execution_count": 28,
     "metadata": {},
     "output_type": "execute_result"
    }
   ],
   "source": [
    "reach_goal.count()"
   ]
  },
  {
   "cell_type": "code",
   "execution_count": 29,
   "id": "a9f7197f-1076-4aa4-a96a-d1910fb0cf7f",
   "metadata": {},
   "outputs": [],
   "source": [
    "reachable = samus_0_bdd & non_design_closure"
   ]
  },
  {
   "cell_type": "code",
   "execution_count": 30,
   "id": "80ceaf45-c7bb-4d6b-8d11-dce5f0a9a3cf",
   "metadata": {},
   "outputs": [
    {
     "data": {
      "text/plain": [
       "7188.0"
      ]
     },
     "execution_count": 30,
     "metadata": {},
     "output_type": "execute_result"
    }
   ],
   "source": [
    "reachable.count()"
   ]
  },
  {
   "cell_type": "code",
   "execution_count": 31,
   "id": "f3b4ff76-0e1d-4fbf-908f-d84d9004cd26",
   "metadata": {},
   "outputs": [],
   "source": [
    "reachable_pt = context.let(next_to_temp, reachable)"
   ]
  },
  {
   "cell_type": "code",
   "execution_count": 32,
   "id": "d94a4bf4-19d2-43c9-a3bf-cd5663a297cc",
   "metadata": {},
   "outputs": [],
   "source": [
    "reach_goal_tn = context.let(prev_to_temp, reach_goal)"
   ]
  },
  {
   "cell_type": "code",
   "execution_count": 33,
   "id": "6b85cdc4-4563-48ff-9253-03caa5aec9a1",
   "metadata": {},
   "outputs": [],
   "source": [
    "non_softlocks = context.exist(prevs + nexts, reachable_pt & reach_goal_tn)"
   ]
  },
  {
   "cell_type": "code",
   "execution_count": 34,
   "id": "742a6cf7-e937-40d8-8570-652840ba3739",
   "metadata": {},
   "outputs": [
    {
     "data": {
      "text/plain": [
       "4708"
      ]
     },
     "execution_count": 34,
     "metadata": {},
     "output_type": "execute_result"
    }
   ],
   "source": [
    "context.count(non_softlocks)"
   ]
  },
  {
   "cell_type": "code",
   "execution_count": 35,
   "id": "59e54d1e-393f-45eb-8a62-e6e2926a7301",
   "metadata": {},
   "outputs": [],
   "source": [
    "# These are the softlock states! Reachable states that cannot reach the goal"
   ]
  },
  {
   "cell_type": "code",
   "execution_count": 36,
   "id": "e33dda16-ff1a-4acb-ab9d-49f7fff22156",
   "metadata": {},
   "outputs": [],
   "source": [
    "softlocks2 = context.exist(prevs, reachable_pt & ~non_softlocks)"
   ]
  },
  {
   "cell_type": "code",
   "execution_count": 37,
   "id": "56b0bacc-4aaa-4c5d-8a44-48c4b17f564a",
   "metadata": {},
   "outputs": [],
   "source": [
    "# Seems high..."
   ]
  },
  {
   "cell_type": "code",
   "execution_count": 38,
   "id": "0ef08a15-5eb4-448d-8b3f-bfc0ae19fb98",
   "metadata": {},
   "outputs": [
    {
     "data": {
      "text/plain": [
       "2480"
      ]
     },
     "execution_count": 38,
     "metadata": {},
     "output_type": "execute_result"
    }
   ],
   "source": [
    "context.count(softlocks2)"
   ]
  },
  {
   "cell_type": "code",
   "execution_count": 39,
   "id": "53727a80-3875-49d3-a8c6-278d80955729",
   "metadata": {},
   "outputs": [],
   "source": [
    "# Not sure why this definition doesn't work\n",
    "softlocks = context.exist(prevs + nexts, reachable_pt & ~reach_goal_tn)"
   ]
  },
  {
   "cell_type": "code",
   "execution_count": 40,
   "id": "b1055843-c2fc-49c8-a65b-40e7a2f30561",
   "metadata": {},
   "outputs": [
    {
     "data": {
      "text/plain": [
       "7188"
      ]
     },
     "execution_count": 40,
     "metadata": {},
     "output_type": "execute_result"
    }
   ],
   "source": [
    "context.count(softlocks)"
   ]
  },
  {
   "cell_type": "code",
   "execution_count": 41,
   "id": "f08c8d7a-82c2-4686-8b2e-2fd520591442",
   "metadata": {},
   "outputs": [
    {
     "data": {
      "text/plain": [
       "4708.0"
      ]
     },
     "execution_count": 41,
     "metadata": {},
     "output_type": "execute_result"
    }
   ],
   "source": [
    "(softlocks & non_softlocks).count()"
   ]
  },
  {
   "cell_type": "code",
   "execution_count": 42,
   "id": "a346b37b-a8dd-4ebf-90d4-91f210c7f3ed",
   "metadata": {},
   "outputs": [
    {
     "name": "stdout",
     "output_type": "stream",
     "text": [
      "13 9\n",
      "13 10\n",
      "13 11\n",
      "13 12\n",
      "13 13\n",
      "13 14\n",
      "13 15\n",
      "13 15\n",
      "13 16\n",
      "13 17\n",
      "13 18\n",
      "13 19\n",
      "13 20\n",
      "13 21\n",
      "13 22\n",
      "13 22\n",
      "13 22\n",
      "13 10\n",
      "13 11\n",
      "13 10\n",
      "13 11\n"
     ]
    }
   ],
   "source": [
    "n = 0\n",
    "for s in context.pick_iter(softlocks2):\n",
    "    print(s[\"x_temp\"], s[\"y_temp\"])\n",
    "    n+=1\n",
    "    if n > 20:\n",
    "        break\n",
    "#context.pick(softlocks2)"
   ]
  },
  {
   "cell_type": "code",
   "execution_count": null,
   "id": "470094fe-4bed-4373-9cc0-6c2e3e4eb7bb",
   "metadata": {},
   "outputs": [],
   "source": [
    "# Actual design_conditioned"
   ]
  },
  {
   "cell_type": "code",
   "execution_count": 43,
   "id": "611f39e6-493d-43d3-9e8e-6758707316b0",
   "metadata": {},
   "outputs": [],
   "source": [
    "# Add variables to the context\n",
    "new_vs = {}\n",
    "for x in range(85,88):\n",
    "    for y in range(23,26):\n",
    "        new_vs[f\"is_solid_{x}_{y}\"] = (0,1)\n",
    "context.declare(**new_vs)"
   ]
  },
  {
   "cell_type": "code",
   "execution_count": 44,
   "id": "2c984b7a-e17f-49f8-a61f-74a674d0ec06",
   "metadata": {},
   "outputs": [],
   "source": [
    "level2 = level.copy()"
   ]
  },
  {
   "cell_type": "code",
   "execution_count": 45,
   "id": "adbecef5-410b-44cb-9ff4-de059847a8f1",
   "metadata": {},
   "outputs": [],
   "source": [
    "# Edit to add unknowns\n",
    "level2.level.flags.writeable = True\n",
    "for x in range(85,88):\n",
    "    for y in range(23,26):\n",
    "        level2.level[x,y] = AbstractTile.UNKNOWN"
   ]
  },
  {
   "cell_type": "code",
   "execution_count": 46,
   "id": "aa0adadb-ebc1-4252-ab78-4ccda6a25435",
   "metadata": {},
   "outputs": [
    {
     "data": {
      "text/plain": [
       "<matplotlib.image.AxesImage at 0x778fdb3bfcd0>"
      ]
     },
     "execution_count": 46,
     "metadata": {},
     "output_type": "execute_result"
    },
    {
     "data": {
      "image/png": "[encoded data removed]",
      "text/plain": [
       "<Figure size 1440x480 with 1 Axes>"
      ]
     },
     "metadata": {},
     "output_type": "display_data"
    }
   ],
   "source": [
    "matshow(level2.level.T)"
   ]
  },
  {
   "cell_type": "code",
   "execution_count": 114,
   "id": "8d06b486-35c3-4bf3-8c8f-730482774735",
   "metadata": {},
   "outputs": [
    {
     "name": "stderr",
     "output_type": "stream",
     "text": [
      "100%|███████████████████████████████████████████████████████████████████████████████| 3072/3072 [01:18<00:00, 38.89it/s]"
     ]
    },
    {
     "name": "stdout",
     "output_type": "stream",
     "text": [
      "CPU times: user 1min 18s, sys: 196 ms, total: 1min 19s\n",
      "Wall time: 1min 18s\n"
     ]
    },
    {
     "name": "stderr",
     "output_type": "stream",
     "text": [
      "\n"
     ]
    }
   ],
   "source": [
    "%%time\n",
    "design_trans = mk_trans(header, context, level2)"
   ]
  },
  {
   "cell_type": "code",
   "execution_count": 115,
   "id": "f7dbee07-08bd-43c1-a856-1d7500f0b002",
   "metadata": {},
   "outputs": [],
   "source": [
    "design_trans = context.exist([\"rule\"], design_trans)"
   ]
  },
  {
   "cell_type": "code",
   "execution_count": 116,
   "id": "b52de4a0-6385-40fc-834d-f6ee1595c071",
   "metadata": {},
   "outputs": [
    {
     "data": {
      "text/plain": [
       "1.2242334236027126e+18"
      ]
     },
     "execution_count": 116,
     "metadata": {},
     "output_type": "execute_result"
    }
   ],
   "source": [
    "design_trans.count()"
   ]
  },
  {
   "cell_type": "code",
   "execution_count": 117,
   "id": "4f08e1c3-9b32-4da0-975f-2f61e49de69c",
   "metadata": {},
   "outputs": [
    {
     "name": "stdout",
     "output_type": "stream",
     "text": [
      "0 58465\n",
      "1 120420\n",
      "2 229694\n",
      "3 277037\n",
      "4 289852\n",
      "5 387410\n",
      "6 418290\n",
      "7 318264\n",
      "8 198495\n",
      "9 198495\n",
      "CPU times: user 1min 31s, sys: 797 ms, total: 1min 31s\n",
      "Wall time: 1min 31s\n"
     ]
    }
   ],
   "source": [
    "%%time\n",
    "design_closure = mk_closure(design_trans, context)"
   ]
  },
  {
   "cell_type": "code",
   "execution_count": 51,
   "id": "346f78f5-5778-44b0-b17f-d81a0bb12bee",
   "metadata": {},
   "outputs": [
    {
     "data": {
      "text/plain": [
       "1.3638650158012495e+21"
      ]
     },
     "execution_count": 51,
     "metadata": {},
     "output_type": "execute_result"
    }
   ],
   "source": [
    "design_closure.count()"
   ]
  },
  {
   "cell_type": "code",
   "execution_count": 52,
   "id": "099b0ce4-b0a2-476b-8ff0-36b6edfae427",
   "metadata": {},
   "outputs": [],
   "source": [
    "d_reach_goal = design_closure & samus_f_bdd"
   ]
  },
  {
   "cell_type": "code",
   "execution_count": 53,
   "id": "93e5ab0d-fb26-4ed9-9e94-da3f1b94862e",
   "metadata": {},
   "outputs": [],
   "source": [
    "d_reachable = samus_0_bdd & design_closure"
   ]
  },
  {
   "cell_type": "code",
   "execution_count": 54,
   "id": "182ee989-e3e6-4b9d-ac8b-9790d6a86d1d",
   "metadata": {},
   "outputs": [],
   "source": [
    "d_reachable_pt = context.let(next_to_temp, d_reachable)"
   ]
  },
  {
   "cell_type": "code",
   "execution_count": 55,
   "id": "762c147a-2719-4a7e-babb-e06052b3ae23",
   "metadata": {},
   "outputs": [],
   "source": [
    "d_reach_goal_tn = context.let(prev_to_temp, d_reach_goal)"
   ]
  },
  {
   "cell_type": "code",
   "execution_count": 56,
   "id": "7253f5c3-b36d-410c-a13c-9c50af385862",
   "metadata": {},
   "outputs": [],
   "source": [
    "d_non_softlocks = context.exist(prevs + nexts, d_reachable_pt & d_reach_goal_tn)"
   ]
  },
  {
   "cell_type": "code",
   "execution_count": 57,
   "id": "5774c572-2b81-4fe3-9e08-57bd72d4fb2a",
   "metadata": {},
   "outputs": [],
   "source": [
    "d_softlocks2 = context.exist(prevs, d_reachable_pt & ~non_softlocks)"
   ]
  },
  {
   "cell_type": "code",
   "execution_count": 58,
   "id": "22c2ba87-2a04-42d9-84d5-019c5e904b08",
   "metadata": {},
   "outputs": [
    {
     "data": {
      "text/plain": [
       "631498"
      ]
     },
     "execution_count": 58,
     "metadata": {},
     "output_type": "execute_result"
    }
   ],
   "source": [
    "context.count(d_softlocks2)"
   ]
  },
  {
   "cell_type": "code",
   "execution_count": 59,
   "id": "fea5fb11-5975-438e-be4c-5a849c7c83ec",
   "metadata": {},
   "outputs": [],
   "source": [
    "good_designs = context.forall(temps, d_non_softlocks)"
   ]
  },
  {
   "cell_type": "code",
   "execution_count": 60,
   "id": "805d04b3-dc6d-47e0-8d3e-834603c00a9f",
   "metadata": {},
   "outputs": [],
   "source": [
    "context.pick(good_designs)"
   ]
  },
  {
   "cell_type": "code",
   "execution_count": 61,
   "id": "3abd4ff2-cffc-4b94-83f8-d164f98ddafd",
   "metadata": {},
   "outputs": [],
   "source": [
    "# Check the \"good\" design"
   ]
  },
  {
   "cell_type": "code",
   "execution_count": 66,
   "id": "aefde76d-f89c-4f13-a155-72869dd00c82",
   "metadata": {},
   "outputs": [],
   "source": [
    "mcz1 = tests[\"ModifiedConstructionZone1\"]"
   ]
  },
  {
   "cell_type": "code",
   "execution_count": 67,
   "id": "46880e28-e879-4341-a5e4-720f8c16a2ed",
   "metadata": {},
   "outputs": [],
   "source": [
    "mcz_level = mcz1[0].level"
   ]
  },
  {
   "cell_type": "code",
   "execution_count": 68,
   "id": "e085a3e9-d860-4f34-923d-2edbeb16bf11",
   "metadata": {},
   "outputs": [
    {
     "data": {
      "text/plain": [
       "<matplotlib.collections.PathCollection at 0x778fdb386650>"
      ]
     },
     "execution_count": 68,
     "metadata": {},
     "output_type": "execute_result"
    },
    {
     "data": {
      "image/png": "[encoded data removed]",
      "text/plain": [
       "<Figure size 1440x480 with 1 Axes>"
      ]
     },
     "metadata": {},
     "output_type": "display_data"
    }
   ],
   "source": [
    "matshow(mcz1[0].level.level.T)\n",
    "scatter(13,13)\n",
    "scatter(87,24)"
   ]
  },
  {
   "cell_type": "code",
   "execution_count": 69,
   "id": "4d7118d9-a736-4794-8b5e-1dad472aa377",
   "metadata": {},
   "outputs": [
    {
     "name": "stderr",
     "output_type": "stream",
     "text": [
      "100%|███████████████████████████████████████████████████████████████████████████████| 3072/3072 [01:20<00:00, 38.06it/s]\n"
     ]
    }
   ],
   "source": [
    "mcz_trans = mk_trans(header, context, mcz_level)"
   ]
  },
  {
   "cell_type": "code",
   "execution_count": 70,
   "id": "62d60ead-5455-421e-b3bc-dc9f38033d82",
   "metadata": {},
   "outputs": [],
   "source": [
    "mcz_trans = context.exist([\"rule\"], mcz_trans)"
   ]
  },
  {
   "cell_type": "code",
   "execution_count": 71,
   "id": "91227d61-f0b5-4d45-a587-fc0e438d1582",
   "metadata": {},
   "outputs": [
    {
     "name": "stdout",
     "output_type": "stream",
     "text": [
      "0 30650\n",
      "1 41262\n",
      "2 53692\n",
      "3 61318\n",
      "4 57524\n",
      "5 65695\n",
      "6 72362\n",
      "7 49297\n",
      "8 30986\n",
      "9 30986\n"
     ]
    }
   ],
   "source": [
    "mcz_closure = mk_closure(mcz_trans, context)"
   ]
  },
  {
   "cell_type": "code",
   "execution_count": 72,
   "id": "e4dd9212-f89e-4ed7-8642-598434c96535",
   "metadata": {},
   "outputs": [],
   "source": [
    "mcz_reach_goal = mcz_closure & samus_f_bdd"
   ]
  },
  {
   "cell_type": "code",
   "execution_count": 73,
   "id": "df52924f-96e1-4168-af62-e42c78e6a26d",
   "metadata": {},
   "outputs": [],
   "source": [
    "mcz_reachable = samus_0_bdd & mcz_closure"
   ]
  },
  {
   "cell_type": "code",
   "execution_count": 74,
   "id": "18710284-c293-4205-9c05-1f0045a099a2",
   "metadata": {},
   "outputs": [],
   "source": [
    "mcz_reachable_pt = context.let(next_to_temp, mcz_reachable)"
   ]
  },
  {
   "cell_type": "code",
   "execution_count": 75,
   "id": "c8522510-ba57-4fe1-924f-d9a341cd84fe",
   "metadata": {},
   "outputs": [],
   "source": [
    "mcz_reach_goal_tn = context.let(prev_to_temp, mcz_reach_goal)"
   ]
  },
  {
   "cell_type": "code",
   "execution_count": 76,
   "id": "68ed2fab-a6c1-447b-83f7-08590d3ab943",
   "metadata": {},
   "outputs": [],
   "source": [
    "mcz_non_softlocks = context.exist(prevs + nexts, mcz_reachable_pt & mcz_reach_goal_tn)"
   ]
  },
  {
   "cell_type": "code",
   "execution_count": 77,
   "id": "7ea23c62-3c89-40b3-b18c-709457d98926",
   "metadata": {},
   "outputs": [],
   "source": [
    "mcz_softlocks2 = context.exist(prevs, mcz_reachable_pt & ~mcz_non_softlocks)"
   ]
  },
  {
   "cell_type": "code",
   "execution_count": 78,
   "id": "a07fcc6a-9546-4064-902f-86d2d10b9a30",
   "metadata": {},
   "outputs": [
    {
     "data": {
      "text/plain": [
       "1895"
      ]
     },
     "execution_count": 78,
     "metadata": {},
     "output_type": "execute_result"
    }
   ],
   "source": [
    "context.count(mcz_softlocks2)"
   ]
  },
  {
   "cell_type": "code",
   "execution_count": 79,
   "id": "508d0e72-673e-42ef-87c9-83027e0ac35f",
   "metadata": {},
   "outputs": [],
   "source": [
    "#TODO: what is causing this to be considered a softlock state?"
   ]
  },
  {
   "cell_type": "code",
   "execution_count": 80,
   "id": "d27da7b5-0afd-4178-be11-e7dc07341d8d",
   "metadata": {},
   "outputs": [
    {
     "data": {
      "text/plain": [
       "{'room_id_temp': 41223,\n",
       " 'x_temp': 13,\n",
       " 'y_temp': 10,\n",
       " 'pose_temp': 2,\n",
       " 'vt_temp': 1,\n",
       " 'vh_temp': 0,\n",
       " 'vv_temp': 2,\n",
       " 'B_temp': 0,\n",
       " 'PB_temp': 0,\n",
       " 'SPB_temp': 0,\n",
       " 'S_temp': 0,\n",
       " 'M_temp': 1,\n",
       " 'G_temp': 0,\n",
       " 'SA_temp': 0,\n",
       " 'V_temp': 0,\n",
       " 'GS_temp': 0,\n",
       " 'SB_temp': 0,\n",
       " 'HJ_temp': 0,\n",
       " 'MB_temp': 1,\n",
       " 'CB_temp': 0,\n",
       " 'WB_temp': 0,\n",
       " 'E_temp': 0,\n",
       " 'PLB_temp': 0,\n",
       " 'Spazer_temp': 0,\n",
       " 'RT_temp': 0,\n",
       " 'XR_temp': 0,\n",
       " 'IB_temp': 0,\n",
       " 'SJ_temp': 0,\n",
       " 'Kraid_temp': 0,\n",
       " 'Phantoon_temp': 0,\n",
       " 'Draygon_temp': 0,\n",
       " 'Ridley_temp': 0,\n",
       " 'Botwoon_temp': 0,\n",
       " 'Spore_Spawn_temp': 0,\n",
       " 'Golden_Torizo_temp': 0,\n",
       " 'Bomb_Torizo_temp': 0,\n",
       " 'Mother_Brain_temp': 0,\n",
       " 'Crocomire_temp': 0,\n",
       " 'Ceres_Ridley_temp': 0,\n",
       " 'Drain_temp': 0,\n",
       " 'Shaktool_temp': 0,\n",
       " 'START_temp': 0,\n",
       " 'Statues_temp': 0}"
      ]
     },
     "execution_count": 80,
     "metadata": {},
     "output_type": "execute_result"
    }
   ],
   "source": [
    "context.pick(mcz_softlocks2)"
   ]
  },
  {
   "cell_type": "code",
   "execution_count": 81,
   "id": "4d70980d-0305-4fdc-a5da-ca3bfa01587c",
   "metadata": {},
   "outputs": [],
   "source": [
    "real_softlocks = softlocks2 & ~mcz_softlocks2"
   ]
  },
  {
   "cell_type": "code",
   "execution_count": 82,
   "id": "7ae553c9-1908-4883-b838-9b6617cdfd22",
   "metadata": {},
   "outputs": [
    {
     "data": {
      "text/plain": [
       "585"
      ]
     },
     "execution_count": 82,
     "metadata": {},
     "output_type": "execute_result"
    }
   ],
   "source": [
    "context.count(real_softlocks)"
   ]
  },
  {
   "cell_type": "code",
   "execution_count": 83,
   "id": "022dd223-bae5-427f-a0c6-75c15281f03e",
   "metadata": {},
   "outputs": [
    {
     "data": {
      "text/plain": [
       "585"
      ]
     },
     "execution_count": 83,
     "metadata": {},
     "output_type": "execute_result"
    }
   ],
   "source": [
    "# Make sure they all do not have the morph ball\n",
    "context.count(real_softlocks & context.add_expr(\"MB_prev = 0\"))"
   ]
  },
  {
   "cell_type": "code",
   "execution_count": 84,
   "id": "29e6781b-616a-4601-aece-18bddfd7a01c",
   "metadata": {},
   "outputs": [],
   "source": [
    "# Now find designs where the real softlocks are not reachable"
   ]
  },
  {
   "cell_type": "code",
   "execution_count": 85,
   "id": "f1a5f814-212e-4f70-86d8-1b3f7e24d4e4",
   "metadata": {},
   "outputs": [],
   "source": [
    "good_trans = d_reachable_pt & ~real_softlocks"
   ]
  },
  {
   "cell_type": "code",
   "execution_count": 86,
   "id": "8a39e96e-158b-4984-b141-f1fd2ccb3ea9",
   "metadata": {},
   "outputs": [],
   "source": [
    "good_designs = context.exist(prevs + temps, good_trans)"
   ]
  },
  {
   "cell_type": "code",
   "execution_count": 87,
   "id": "f8fa27d6-cce3-413e-9b67-abab29f11186",
   "metadata": {},
   "outputs": [
    {
     "data": {
      "text/plain": [
       "1"
      ]
     },
     "execution_count": 87,
     "metadata": {},
     "output_type": "execute_result"
    }
   ],
   "source": [
    "context.count(good_designs)"
   ]
  },
  {
   "cell_type": "code",
   "execution_count": 88,
   "id": "749dd0de-0396-4599-88be-7a116227d40a",
   "metadata": {},
   "outputs": [
    {
     "data": {
      "text/plain": [
       "{}"
      ]
     },
     "execution_count": 88,
     "metadata": {},
     "output_type": "execute_result"
    }
   ],
   "source": [
    "context.pick(good_designs)"
   ]
  },
  {
   "cell_type": "code",
   "execution_count": 89,
   "id": "9d09a0a3-b7c9-4418-b746-88d952354005",
   "metadata": {},
   "outputs": [],
   "source": [
    "# Sanity check"
   ]
  },
  {
   "cell_type": "code",
   "execution_count": 90,
   "id": "d1302bea-7af9-4af5-b85a-a1ab0f45ef66",
   "metadata": {},
   "outputs": [],
   "source": [
    "all_solid = context.true\n",
    "for x in range(85,88):\n",
    "    for y in range(23,25):\n",
    "        all_solid &= context.add_expr(f\"is_solid_{x}_{y} = 1\")"
   ]
  },
  {
   "cell_type": "code",
   "execution_count": 91,
   "id": "55521ded-db60-4aca-ab92-e39902cb2517",
   "metadata": {},
   "outputs": [],
   "source": [
    "design_vars = list(new_vs.keys())"
   ]
  },
  {
   "cell_type": "code",
   "execution_count": 92,
   "id": "213602da-23be-4745-a626-e0b46fddd8d6",
   "metadata": {},
   "outputs": [
    {
     "data": {
      "text/plain": [
       "True"
      ]
     },
     "execution_count": 92,
     "metadata": {},
     "output_type": "execute_result"
    }
   ],
   "source": [
    "context.exist(design_vars, d_reachable & all_solid) == mcz_reachable"
   ]
  },
  {
   "cell_type": "code",
   "execution_count": 93,
   "id": "939b506e-6144-4432-8373-4b18358a7973",
   "metadata": {},
   "outputs": [],
   "source": [
    "# Find designs that cannot reach the real_softlocks"
   ]
  },
  {
   "cell_type": "code",
   "execution_count": 94,
   "id": "c5b6f5b3-503e-45bc-a69b-a2a4e53360a3",
   "metadata": {},
   "outputs": [
    {
     "data": {
      "text/plain": [
       "0"
      ]
     },
     "execution_count": 94,
     "metadata": {},
     "output_type": "execute_result"
    }
   ],
   "source": [
    "# all_solid cannot reach the real softlocks\n",
    "context.count(d_reachable_pt & all_solid & real_softlocks)"
   ]
  },
  {
   "cell_type": "code",
   "execution_count": 95,
   "id": "ab26f09d-46c9-4ffb-9973-3fe64b148314",
   "metadata": {},
   "outputs": [],
   "source": [
    "bad_designs = context.exist(prevs + temps, d_reachable_pt & real_softlocks)"
   ]
  },
  {
   "cell_type": "code",
   "execution_count": 104,
   "id": "ba95f4b1-dffa-48e5-a713-3a0cf59554e2",
   "metadata": {},
   "outputs": [
    {
     "data": {
      "text/plain": [
       "511"
      ]
     },
     "execution_count": 104,
     "metadata": {},
     "output_type": "execute_result"
    }
   ],
   "source": [
    "context.count(~bad_designs, care_vars = design_vars)"
   ]
  },
  {
   "cell_type": "code",
   "execution_count": 97,
   "id": "6e639435-6ce1-4c9e-bf0e-6b0ad253f558",
   "metadata": {},
   "outputs": [],
   "source": [
    "# Good designs are not bad!"
   ]
  },
  {
   "cell_type": "code",
   "execution_count": 99,
   "id": "5e2ad50c-56a3-4919-aaa6-a5f638d53159",
   "metadata": {},
   "outputs": [],
   "source": [
    "start_to_end = context.exist(prevs + nexts, design_closure & samus_0_bdd & samus_f_bdd)"
   ]
  },
  {
   "cell_type": "code",
   "execution_count": 100,
   "id": "837c791c-3635-4f26-8335-d95d7b7f4973",
   "metadata": {},
   "outputs": [
    {
     "data": {
      "text/plain": [
       "{'is_solid_85_23': 0,\n",
       " 'is_solid_85_24': 0,\n",
       " 'is_solid_85_25': 0,\n",
       " 'is_solid_86_23': 0,\n",
       " 'is_solid_86_24': 0,\n",
       " 'is_solid_86_25': 0,\n",
       " 'is_solid_87_23': 0,\n",
       " 'is_solid_87_24': 1,\n",
       " 'is_solid_87_25': 0}"
      ]
     },
     "execution_count": 100,
     "metadata": {},
     "output_type": "execute_result"
    }
   ],
   "source": [
    "context.pick(~bad_designs & start_to_end)"
   ]
  },
  {
   "cell_type": "code",
   "execution_count": 107,
   "id": "2b653659-8395-4c93-8ad6-8f4b6f4c5b04",
   "metadata": {},
   "outputs": [
    {
     "data": {
      "text/plain": [
       "1"
      ]
     },
     "execution_count": 107,
     "metadata": {},
     "output_type": "execute_result"
    }
   ],
   "source": [
    "context.count(bad_designs)"
   ]
  },
  {
   "cell_type": "code",
   "execution_count": 105,
   "id": "969326b0-11cd-4e01-8684-8fbce6684016",
   "metadata": {},
   "outputs": [
    {
     "data": {
      "text/plain": [
       "63"
      ]
     },
     "execution_count": 105,
     "metadata": {},
     "output_type": "execute_result"
    }
   ],
   "source": [
    "context.count(~bad_designs & start_to_end, care_vars = design_vars)"
   ]
  },
  {
   "cell_type": "code",
   "execution_count": 103,
   "id": "82205a38-b31f-4944-baf4-f41f8a595d3f",
   "metadata": {},
   "outputs": [
    {
     "data": {
      "text/plain": [
       "448"
      ]
     },
     "execution_count": 103,
     "metadata": {},
     "output_type": "execute_result"
    }
   ],
   "source": [
    "context.count(~start_to_end, care_vars=design_vars)"
   ]
  },
  {
   "cell_type": "code",
   "execution_count": null,
   "id": "85cc07cb-b167-4a13-a901-d656748d5bf1",
   "metadata": {},
   "outputs": [],
   "source": []
  }
 ],
 "metadata": {
  "kernelspec": {
   "display_name": "Python 3 (ipykernel)",
   "language": "python",
   "name": "python3"
  },
  "language_info": {
   "codemirror_mode": {
    "name": "ipython",
    "version": 3
   },
   "file_extension": ".py",
   "mimetype": "text/x-python",
   "name": "python",
   "nbconvert_exporter": "python",
   "pygments_lexer": "ipython3",
   "version": "3.10.12"
  }
 },
 "nbformat": 4,
 "nbformat_minor": 5
}

{
 "cells": [
  {
   "cell_type": "code",
   "execution_count": 1,
   "id": "e9e0e82a-e9d5-4f78-9c74-564a13ac5682",
   "metadata": {},
   "outputs": [],
   "source": [
    "# samus_movement.dot from PJBoy's website: https://patrickjohnston.org/ASM/ROM%20data/Super%20Metroid/"
   ]
  },
  {
   "cell_type": "code",
   "execution_count": 25,
   "id": "c66ddcf1-47a3-404b-a2b5-c373462bce20",
   "metadata": {},
   "outputs": [],
   "source": [
    "import graphviz\n",
    "import json"
   ]
  },
  {
   "cell_type": "code",
   "execution_count": 26,
   "id": "cce1ffd7-e477-494a-9124-9fb45e95addc",
   "metadata": {},
   "outputs": [],
   "source": [
    "dot = graphviz.Source.from_file(\"samus_movement.dot\")"
   ]
  },
  {
   "cell_type": "code",
   "execution_count": 27,
   "id": "04c03b8d-6766-4116-addd-4cb4d1715e97",
   "metadata": {},
   "outputs": [
    {
     "data": {
      "text/plain": [
       "'samus_movement.pdf'"
      ]
     },
     "execution_count": 27,
     "metadata": {},
     "output_type": "execute_result"
    }
   ],
   "source": [
    "dot.render(\"samus_movement\")"
   ]
  },
  {
   "cell_type": "code",
   "execution_count": 28,
   "id": "79cb9e6a-0f38-49b0-8eee-e7797a91fda7",
   "metadata": {},
   "outputs": [],
   "source": [
    "import pydot"
   ]
  },
  {
   "cell_type": "code",
   "execution_count": 33,
   "id": "d62b6ee6-5f9c-402f-8d2f-9c8fb177d374",
   "metadata": {},
   "outputs": [],
   "source": [
    "g = pydot.graph_from_dot_file(\"samus_movement.dot\")[0]"
   ]
  },
  {
   "cell_type": "code",
   "execution_count": 41,
   "id": "ae0fe2e6-42d7-44d5-937d-efc6f67aa98a",
   "metadata": {},
   "outputs": [
    {
     "data": {
      "text/plain": [
       "['_A337',\n",
       " '_A337_switch',\n",
       " '_EEE7',\n",
       " '_A32D',\n",
       " '_A383',\n",
       " '_A3E5',\n",
       " '_A42E',\n",
       " '_A436',\n",
       " '_A521',\n",
       " '_A573',\n",
       " '_A58D',\n",
       " '_A5CA',\n",
       " '_A5FC',\n",
       " '_A607',\n",
       " '_A60F',\n",
       " '_A61C',\n",
       " '_A67C',\n",
       " '_A694',\n",
       " '_A69F',\n",
       " '_A6F1',\n",
       " '_A703',\n",
       " '_A734',\n",
       " '_A75F',\n",
       " '_A780',\n",
       " '_A790',\n",
       " '_A7AD',\n",
       " '_A7CA',\n",
       " '_A7D2',\n",
       " '_A7DA',\n",
       " '_8E64',\n",
       " '_8FB3',\n",
       " '_9040',\n",
       " '_9168',\n",
       " '_919F',\n",
       " '_91D1',\n",
       " '_923F',\n",
       " '_92B8',\n",
       " '_92C7',\n",
       " '_9348',\n",
       " '_98BC',\n",
       " '_DE53']"
      ]
     },
     "execution_count": 41,
     "metadata": {},
     "output_type": "execute_result"
    }
   ],
   "source": [
    "[n.get_name() for n in g.get_nodes()]"
   ]
  },
  {
   "cell_type": "code",
   "execution_count": 51,
   "id": "8ac2de05-cb21-4632-8392-cf6175a68254",
   "metadata": {},
   "outputs": [],
   "source": [
    "def get_label(node):\n",
    "    if node == \"_A337_switch\":\n",
    "        return \"switch [Samus movement type]\"\n",
    "    else:\n",
    "        return \"\""
   ]
  },
  {
   "cell_type": "code",
   "execution_count": 57,
   "id": "d6208900-7950-4915-8b30-46ee46fa1c3a",
   "metadata": {},
   "outputs": [],
   "source": [
    "dot2 = graphviz.Digraph()\n",
    "seen_nodes = set()\n",
    "for edge in g.get_edges():\n",
    "    a, b = edge.get_source(), edge.get_destination()\n",
    "    if a not in seen_nodes:\n",
    "        dot2.node(a, get_label(a)) \n",
    "        seen_nodes.add(a)\n",
    "    if b not in seen_nodes:\n",
    "        dot2.node(b, get_label(b))\n",
    "        seen_nodes.add(b)\n",
    "    dot2.edge(a, b)"
   ]
  },
  {
   "cell_type": "code",
   "execution_count": 58,
   "id": "eff16306-a6a1-44ef-aada-0346d8c9a06a",
   "metadata": {},
   "outputs": [
    {
     "data": {
      "text/plain": [
       "'samus_movement_blank.pdf'"
      ]
     },
     "execution_count": 58,
     "metadata": {},
     "output_type": "execute_result"
    }
   ],
   "source": [
    "dot2.render(\"samus_movement_blank\")"
   ]
  },
  {
   "cell_type": "code",
   "execution_count": 37,
   "id": "88d337d6-a8b3-4e25-8410-af485127003a",
   "metadata": {},
   "outputs": [
    {
     "data": {
      "text/plain": [
       "41"
      ]
     },
     "execution_count": 37,
     "metadata": {},
     "output_type": "execute_result"
    }
   ],
   "source": [
    "len(g.get_nodes())"
   ]
  },
  {
   "cell_type": "code",
   "execution_count": null,
   "id": "7266566e-a782-4e3f-a07c-76939ba04a1d",
   "metadata": {},
   "outputs": [],
   "source": []
  }
 ],
 "metadata": {
  "kernelspec": {
   "display_name": "Python 3 (ipykernel)",
   "language": "python",
   "name": "python3"
  },
  "language_info": {
   "codemirror_mode": {
    "name": "ipython",
    "version": 3
   },
   "file_extension": ".py",
   "mimetype": "text/x-python",
   "name": "python",
   "nbconvert_exporter": "python",
   "pygments_lexer": "ipython3",
   "version": "3.10.12"
  }
 },
 "nbformat": 4,
 "nbformat_minor": 5
}

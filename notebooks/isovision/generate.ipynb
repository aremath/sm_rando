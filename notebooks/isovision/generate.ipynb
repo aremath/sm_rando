{
 "cells": [
  {
   "cell_type": "code",
   "execution_count": 3,
   "id": "a2ee9c8d-7668-4dad-b29b-aab875d1b5ed",
   "metadata": {},
   "outputs": [],
   "source": [
    "# Genetic algorithm for generating tile grids based on distribution-matching of isovists\n",
    "# Begin by calculating the opennness histogram for a given image\n",
    "# Create an initial population of random tile grids\n",
    "# Optimize the population to minimize distribution distance of opennesss to the given image\n",
    "# - Earth-mover distance? KL divergence (may not be good since the distribution support may not match)\n",
    "# Mutation: change X% of the pixels randomly (10%?)\n",
    "# Crossover: select pixels randomly from image A or image B, one-point crossover, two-point crossover\n",
    "\n",
    "# OR use the isovists to inform WFC\n",
    "# This is a pretty cool idea\n",
    "# Asssuming that uncollapsed tiles follow the training distribution\n",
    "# Each \"raster line\" contributes a histogram of possible lengths when it travels through partially unconstrained space\n",
    "# Select (for example) one raster line per tile to track.\n",
    "# After each tile is collapsed, update the histogram\n",
    "\n",
    "# OR select a ray, and determine its length from the distribution of rays\n",
    "# Conditional (?) on the direction of ray\n",
    "# Select the ray based on the entropy of the ray\n",
    "# Select the length of the ray based on the the current distribution?"
   ]
  },
  {
   "cell_type": "code",
   "execution_count": 4,
   "id": "6a8d7cd0-beb4-401b-bfa7-f17d57c6ef4b",
   "metadata": {},
   "outputs": [
    {
     "name": "stdout",
     "output_type": "stream",
     "text": [
      "%pylab is deprecated, use %matplotlib inline and import the required libraries.\n",
      "Populating the interactive namespace from numpy and matplotlib\n"
     ]
    }
   ],
   "source": [
    "%load_ext autoreload\n",
    "%autoreload 2\n",
    "%pylab inline"
   ]
  },
  {
   "cell_type": "code",
   "execution_count": 36,
   "id": "84af61a2-9863-4954-b327-12287f96ae50",
   "metadata": {},
   "outputs": [],
   "source": [
    "import sys\n",
    "sys.path.append(\"../..\")"
   ]
  },
  {
   "cell_type": "code",
   "execution_count": 5,
   "id": "40ec7ed2-ee2c-43d2-a682-51a1459f1b5b",
   "metadata": {},
   "outputs": [],
   "source": [
    "# What do we mean by \"distribution of isovists\"?\n",
    "# - Per-pixel openness values * Simplest to implement + has a little bit of joint distribution encoded here\n",
    "# - Per-ray ray lengths\n",
    "# - Per-ray-direction openness values\n",
    "# - Distribution of pairwise visible sets"
   ]
  },
  {
   "cell_type": "code",
   "execution_count": 6,
   "id": "d0b0f998-9473-4c1e-a3b1-4e95f1b7d0d7",
   "metadata": {},
   "outputs": [],
   "source": [
    "#TODOs:\n",
    "# Implement mutation + crossover\n",
    "# Implement base maps\n",
    "# Implement isovist histogram analysis\n",
    "# Implement distribution distance on histograms"
   ]
  },
  {
   "cell_type": "code",
   "execution_count": 7,
   "id": "d50f4879-d935-42dc-ab65-3327b176fdba",
   "metadata": {},
   "outputs": [],
   "source": [
    "# u, v, u_w, v_w\n",
    "from scipy.stats import wasserstein_distance"
   ]
  },
  {
   "cell_type": "code",
   "execution_count": 8,
   "id": "80aa5dfe-bc5e-42ee-aa4b-aaa04a119b64",
   "metadata": {},
   "outputs": [],
   "source": [
    "import time"
   ]
  },
  {
   "cell_type": "code",
   "execution_count": 25,
   "id": "33613190-74b5-46f5-a88b-bacb7be89cb6",
   "metadata": {},
   "outputs": [],
   "source": [
    "from IPython.display import display, clear_output"
   ]
  },
  {
   "cell_type": "code",
   "execution_count": 27,
   "id": "0f894fd5-95f4-448a-88c6-dc6da71413f7",
   "metadata": {},
   "outputs": [
    {
     "data": {
      "image/png": "[encoded data removed]",
      "text/plain": [
       "<Figure size 640x480 with 1 Axes>"
      ]
     },
     "metadata": {},
     "output_type": "display_data"
    }
   ],
   "source": [
    "# Live Plotting Proof of Concept\n",
    "xs = []\n",
    "ys = []\n",
    "fig = figure()\n",
    "ax = fig.add_subplot(1,1,1)\n",
    "for i in range(10):\n",
    "    xs.append(i)\n",
    "    ys.append(i * i)\n",
    "    ax.cla()\n",
    "    ax.plot(xs, ys)\n",
    "    display(fig)\n",
    "    clear_output(wait=True)\n",
    "    time.sleep(0.5)"
   ]
  },
  {
   "cell_type": "code",
   "execution_count": 37,
   "id": "295b5863-076d-459e-8e06-be3c4fc9103c",
   "metadata": {},
   "outputs": [],
   "source": [
    "from world_rando.isovision import *"
   ]
  },
  {
   "cell_type": "code",
   "execution_count": 62,
   "id": "db340927-62e6-42ea-8499-1b589d6372e0",
   "metadata": {},
   "outputs": [],
   "source": [
    "WIDTH = 16\n",
    "HEIGHT = 16"
   ]
  },
  {
   "cell_type": "code",
   "execution_count": 65,
   "id": "1615e651-ac05-4988-820d-180a95fd7f00",
   "metadata": {},
   "outputs": [],
   "source": [
    "import random"
   ]
  },
  {
   "cell_type": "code",
   "execution_count": 66,
   "id": "ca77dca4-74b7-4925-932a-0efa1dbbce37",
   "metadata": {},
   "outputs": [],
   "source": [
    "random.seed(0)"
   ]
  },
  {
   "cell_type": "code",
   "execution_count": 73,
   "id": "255592ab-b201-4155-84fa-ea4e1bfa672c",
   "metadata": {},
   "outputs": [],
   "source": [
    "def mk_random_ind():\n",
    "    z = np.zeros((WIDTH, HEIGHT), dtype=uint8)\n",
    "    for i in iter2d(z):\n",
    "        z[i] = random.randint(0,1)\n",
    "    return z"
   ]
  },
  {
   "cell_type": "code",
   "execution_count": 74,
   "id": "7fcd16c6-810f-4120-a2a5-5a6bcc2d9726",
   "metadata": {},
   "outputs": [
    {
     "data": {
      "text/plain": [
       "<matplotlib.image.AxesImage at 0x7f9c4a21e950>"
      ]
     },
     "execution_count": 74,
     "metadata": {},
     "output_type": "execute_result"
    },
    {
     "data": {
      "image/png": "[encoded data removed]",
      "text/plain": [
       "<Figure size 480x480 with 1 Axes>"
      ]
     },
     "metadata": {},
     "output_type": "display_data"
    }
   ],
   "source": [
    "matshow(mk_random_ind())"
   ]
  },
  {
   "cell_type": "code",
   "execution_count": 69,
   "id": "dd26dd5f-dc51-4e32-b997-da4a2862beec",
   "metadata": {},
   "outputs": [],
   "source": [
    "target = np.zeros((WIDTH, HEIGHT), dtype=uint8)\n",
    "center = Coord(WIDTH / 2, HEIGHT / 2)\n",
    "for i in iter2d(target):\n",
    "    if i.euclidean(center) < (WIDTH * 3 / 8) and i.euclidean(center) > (WIDTH * 1 / 8):\n",
    "        target[i] = 0\n",
    "    else:\n",
    "        target[i] = 1"
   ]
  },
  {
   "cell_type": "code",
   "execution_count": 70,
   "id": "0cfed06c-daf8-4b77-ac5a-3c70d9496915",
   "metadata": {},
   "outputs": [
    {
     "data": {
      "text/plain": [
       "<matplotlib.image.AxesImage at 0x7f9c4a3a2f80>"
      ]
     },
     "execution_count": 70,
     "metadata": {},
     "output_type": "execute_result"
    },
    {
     "data": {
      "image/png": "[encoded data removed]",
      "text/plain": [
       "<Figure size 480x480 with 1 Axes>"
      ]
     },
     "metadata": {},
     "output_type": "display_data"
    }
   ],
   "source": [
    "matshow(target)"
   ]
  },
  {
   "cell_type": "code",
   "execution_count": 111,
   "id": "e64bbafa-a4ce-46a5-bfd7-6639f2bb35f6",
   "metadata": {},
   "outputs": [],
   "source": [
    "#TODO: is it better to fix the total number of changes?\n",
    "#TODO: try to maintain or push towards the same solid/air ratio as the target?\n",
    "def mutate(ind):\n",
    "    out = zeros_like(ind)\n",
    "    for i in iter2d(ind):\n",
    "        if random.random() < 0.2:\n",
    "            if ind[i] == 1:\n",
    "                out[i] = 0\n",
    "            else:\n",
    "                out[i] = 1\n",
    "        else:\n",
    "            out[i] = ind[i]\n",
    "    return out\n",
    "\n",
    "def linear_index(pt):\n",
    "    return pt.y * WIDTH + pt.x\n",
    "\n",
    "#TODO crossover across a random line\n",
    "def one_point_crossover(ind1, ind2):\n",
    "    cross = random.randint(0, WIDTH * HEIGHT)\n",
    "    out = np.zeros_like(ind1)\n",
    "    for i in iter2d(out):\n",
    "        if linear_index(i) < cross:\n",
    "            out[i] = ind1[i]\n",
    "        else:\n",
    "            out[i] = ind2[i]\n",
    "    return out"
   ]
  },
  {
   "cell_type": "code",
   "execution_count": 118,
   "id": "a0d3bbe9-ff53-434d-aa2e-951929f5e7e4",
   "metadata": {},
   "outputs": [],
   "source": [
    "from collections import namedtuple"
   ]
  },
  {
   "cell_type": "code",
   "execution_count": null,
   "id": "56e2d8d7-2f34-4e79-81e7-7118dc784772",
   "metadata": {},
   "outputs": [],
   "source": [
    "#TODO: speed up openness calculation by adjusting step size based on a precomputed distance map\n",
    "def eval_individual():\n",
    "    pass"
   ]
  },
  {
   "cell_type": "code",
   "execution_count": 121,
   "id": "3eed2cd0-aa4a-4101-9752-3d59296e1215",
   "metadata": {},
   "outputs": [],
   "source": [
    "Ind = namedtuple(\"Ind\", (\"data\", \"eval\"))\n",
    "\n",
    "def eval(i):\n",
    "    if i.eval is None:\n",
    "        i.eval = eval_individual(i.data)\n",
    "    return i.eval\n",
    "\n",
    "class GeneticAlg(object):\n",
    "\n",
    "    def __init__(self, pop_size, mut_rate, mut, cross):\n",
    "        self.pop = [Ind(mk_random_ind(), None) for _ in range(pop_size)]\n",
    "        self.pop_size = pop_size\n",
    "        self.mut_rate = mut_rate\n",
    "        self.mut = mut\n",
    "        self.cross = cross\n",
    "\n",
    "    def mk_new_ind(self):\n",
    "        p1, p2 = random.choices(self.pop, 2)\n",
    "        child = cross(p1, p2)\n",
    "        if random.random() < mut_rate:\n",
    "            child = mut(child)\n",
    "        return child\n",
    "\n",
    "    def rebuild(self):\n",
    "        n_to_make = self.pop_size - len(self.pop)\n",
    "        children = []\n",
    "        for _ in range(n_to_make):\n",
    "            child = self.mk_new_ind()\n",
    "            children.append(child)\n",
    "        self.pop = self.pop + children\n",
    "\n",
    "    def eval_mean(self):\n",
    "        return np.mean([eval(i) for i in pop])\n",
    "\n",
    "    def mk_new_pop(self):\n",
    "        sorted_pop = sorted(self.pop, key = lambda x: eval(x))\n",
    "        # Keep the best half\n",
    "        self.pop = sorted_pop[pop_size / 2]\n",
    "        self.rebuild()\n",
    "        "
   ]
  },
  {
   "cell_type": "code",
   "execution_count": null,
   "id": "92f89989-a18f-4296-a0b1-279bfc72ba70",
   "metadata": {},
   "outputs": [],
   "source": []
  }
 ],
 "metadata": {
  "kernelspec": {
   "display_name": "Python 3 (ipykernel)",
   "language": "python",
   "name": "python3"
  },
  "language_info": {
   "codemirror_mode": {
    "name": "ipython",
    "version": 3
   },
   "file_extension": ".py",
   "mimetype": "text/x-python",
   "name": "python",
   "nbconvert_exporter": "python",
   "pygments_lexer": "ipython3",
   "version": "3.10.12"
  }
 },
 "nbformat": 4,
 "nbformat_minor": 5
}

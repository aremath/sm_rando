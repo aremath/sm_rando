{
 "cells": [
  {
   "cell_type": "code",
   "execution_count": 1,
   "id": "652276fe-779e-43d5-b8df-af7da7f3af48",
   "metadata": {},
   "outputs": [
    {
     "name": "stdout",
     "output_type": "stream",
     "text": [
      "%pylab is deprecated, use %matplotlib inline and import the required libraries.\n",
      "Populating the interactive namespace from numpy and matplotlib\n"
     ]
    }
   ],
   "source": [
    "%load_ext autoreload\n",
    "%autoreload 2\n",
    "%pylab inline"
   ]
  },
  {
   "cell_type": "code",
   "execution_count": 2,
   "id": "2e25c9a9-273d-48e7-b10c-75f158018c5a",
   "metadata": {},
   "outputs": [],
   "source": [
    "# Item Rando:\n",
    "# 26 'randomizeable' items\n",
    "# 100 'randomizeable' drop locations\n",
    "# idea 1: location : item_id\n",
    "# ~ 500 bits (locations * log(items))\n",
    "# idea 2: item : location_id\n",
    "# ~ 700 bits (locations * log(locations))\n",
    "# idea 3: location : common_item_id\n",
    "# major_item : location_id\n",
    "# 300 bits + 126 bits"
   ]
  },
  {
   "cell_type": "code",
   "execution_count": 3,
   "id": "3b7b83e9-a366-40d5-b795-a0f8eda87234",
   "metadata": {},
   "outputs": [],
   "source": [
    "# Door Rando:\n",
    "# ~550 doors\n",
    "# idea 1: door: door_id\n",
    "# 550 * log(550) = 5500 bits\n",
    "# idea 2: left_door : right_door_id\n",
    "# top_door : bottom_door_id\n",
    "# 225 * log(225) = 2040\n",
    "# idea 3:\n",
    "# X, Y\n",
    "# overworld is ~ 128 x 128\n",
    "# 14 bits per room * 255 rooms = 3570"
   ]
  },
  {
   "cell_type": "code",
   "execution_count": 4,
   "id": "10c76f6a-ba00-4ed3-bcf7-e54f02a0ac1d",
   "metadata": {},
   "outputs": [],
   "source": [
    "import sys\n",
    "sys.path.append(\"../..\")"
   ]
  },
  {
   "cell_type": "code",
   "execution_count": 5,
   "id": "50344397-d052-4305-b397-449326bdb6f3",
   "metadata": {},
   "outputs": [],
   "source": [
    "from encoding.parse_rooms import parse_rooms, parse_exits, dictify_rooms"
   ]
  },
  {
   "cell_type": "code",
   "execution_count": 6,
   "id": "6c89599b-a365-4b29-9526-29f7b4b6e480",
   "metadata": {},
   "outputs": [],
   "source": [
    "from functools import cache\n",
    "from itertools import combinations"
   ]
  },
  {
   "cell_type": "code",
   "execution_count": 7,
   "id": "9bbff8b7-adfd-4d80-80bb-5bc5a5cc482d",
   "metadata": {},
   "outputs": [],
   "source": [
    "from rom_tools.rom_manager import RomManager\n",
    "from abstraction_validation.sm_paths import *"
   ]
  },
  {
   "cell_type": "code",
   "execution_count": 8,
   "id": "47526107-52bd-4589-8a4b-a2fad98dc46f",
   "metadata": {},
   "outputs": [],
   "source": [
    "from bdds.bdd_core import *\n",
    "from bdds.node_bdds import *\n",
    "from bdds.design_conditioned import *"
   ]
  },
  {
   "cell_type": "code",
   "execution_count": 9,
   "id": "40f049e7-2035-404a-a957-126bb2ba98bb",
   "metadata": {},
   "outputs": [],
   "source": [
    "from functools import reduce"
   ]
  },
  {
   "cell_type": "code",
   "execution_count": 10,
   "id": "17073a95-4031-44a3-8974-4c6eb0fea351",
   "metadata": {},
   "outputs": [],
   "source": [
    "helper = DesignInfo(\"../../encoding/dsl/rooms_for_alloy.txt\", \"../../encoding/dsl/exits_for_alloy.txt\", \"../../output/important_closure.dddmp\")"
   ]
  },
  {
   "cell_type": "code",
   "execution_count": 11,
   "id": "6c1a7f15-814c-4d42-92dd-9a9449b52640",
   "metadata": {},
   "outputs": [],
   "source": [
    "context = helper.context"
   ]
  },
  {
   "cell_type": "code",
   "execution_count": 12,
   "id": "eec413f5-85b0-4681-a5f6-221492b5e33e",
   "metadata": {},
   "outputs": [],
   "source": [
    "#TODO: still need this?\n",
    "next_to_prev = mk_replace(context, \"next\", \"prev\")\n",
    "nexts = [k for k in context.vars.keys() if k.endswith(\"_next\")]\n",
    "prevs = [k for k in context.vars.keys() if k.endswith(\"_prev\")]"
   ]
  },
  {
   "cell_type": "code",
   "execution_count": 13,
   "id": "03a60d53-7138-4187-a611-6ee8d39d802e",
   "metadata": {},
   "outputs": [
    {
     "data": {
      "text/plain": [
       "(337284, 289590)"
      ]
     },
     "execution_count": 13,
     "metadata": {},
     "output_type": "execute_result"
    }
   ],
   "source": [
    "(helper.trans_important & helper.binary_to_one_hot).dag_size, helper.trans_important.dag_size"
   ]
  },
  {
   "cell_type": "code",
   "execution_count": 14,
   "id": "ccd5c335-37c3-4ecb-bafd-b5d1a757a587",
   "metadata": {},
   "outputs": [],
   "source": [
    "trans_one_hot = helper.context.exist([\"node_id_prev\", \"node_id_next\"], helper.trans_important & helper.binary_to_one_hot)"
   ]
  },
  {
   "cell_type": "code",
   "execution_count": 15,
   "id": "402cbfe8-9722-4495-ab2a-52181a27fe06",
   "metadata": {},
   "outputs": [
    {
     "data": {
      "text/plain": [
       "297968"
      ]
     },
     "execution_count": 15,
     "metadata": {},
     "output_type": "execute_result"
    }
   ],
   "source": [
    "trans_one_hot.dag_size"
   ]
  },
  {
   "cell_type": "code",
   "execution_count": 16,
   "id": "aad03753-2519-4316-9e3a-2c29449058f1",
   "metadata": {},
   "outputs": [],
   "source": [
    "helper.binary_to_one_hot = mk_binary_to_one_hot(helper.context, helper.important_nodes, helper.node_ids)"
   ]
  },
  {
   "cell_type": "code",
   "execution_count": 17,
   "id": "32b039f4-4da2-4e7e-8801-dfdfaf4e9569",
   "metadata": {},
   "outputs": [
    {
     "data": {
      "text/plain": [
       "26884"
      ]
     },
     "execution_count": 17,
     "metadata": {},
     "output_type": "execute_result"
    }
   ],
   "source": [
    "helper.binary_to_one_hot.dag_size"
   ]
  },
  {
   "cell_type": "code",
   "execution_count": 18,
   "id": "08436e5e-6405-49a4-9959-7364bb4d943c",
   "metadata": {},
   "outputs": [
    {
     "data": {
      "text/plain": [
       "900.0"
      ]
     },
     "execution_count": 18,
     "metadata": {},
     "output_type": "execute_result"
    }
   ],
   "source": [
    "helper.binary_to_one_hot.count() # Should be 30^2 = 900"
   ]
  },
  {
   "cell_type": "code",
   "execution_count": 19,
   "id": "7ee2b870-4015-4bbd-9f29-16fb1484ddad",
   "metadata": {},
   "outputs": [],
   "source": [
    "#TODO: still need this\n",
    "def mk_one_hot(trans):\n",
    "    return context.exist([\"node_id_prev\", \"node_id_next\"], trans & helper.binary_to_one_hot)"
   ]
  },
  {
   "cell_type": "code",
   "execution_count": 20,
   "id": "26e48e22-52b4-4b14-9030-e0a2be90c083",
   "metadata": {},
   "outputs": [],
   "source": [
    "from tqdm.notebook import tqdm"
   ]
  },
  {
   "cell_type": "code",
   "execution_count": 21,
   "id": "f1525edd-2962-436e-89a9-3754edd5a02e",
   "metadata": {},
   "outputs": [],
   "source": [
    "# Compute the design UNCONDITIONAL item-item reachability transes"
   ]
  },
  {
   "cell_type": "code",
   "execution_count": 22,
   "id": "faee82be-c717-437c-8c0c-67ded1732eb0",
   "metadata": {},
   "outputs": [],
   "source": [
    "items_unchanged = context.add_expr(\"items_unchanged\", with_ops=True)\n",
    "item_nexts = [k for k in item_vars if k.endswith(\"_next\")]\n",
    "item_prevs = [k for k in item_vars if k.endswith(\"_prev\")]"
   ]
  },
  {
   "cell_type": "code",
   "execution_count": 23,
   "id": "a9bc1796-401b-4022-90e7-11d30ffe73e4",
   "metadata": {},
   "outputs": [],
   "source": [
    "#TODO: proposed method for deriving nuisance variables\n",
    "#bad_items = []\n",
    "#for i in design[\"Items\"] | design[\"Bosses\"]:\n",
    "#    istr = f\"{i}_prev\"\n",
    "#    i_without = context.add_expr(f\"{istr} = 0\")\n",
    "#    i_with = context.add_expr(f\"{istr} = 1\")\n",
    "#    if context.exist([istr], (trans & i_without)) == context.exist([istr], (trans & i_with)):\n",
    "#        bad_items.append(i)"
   ]
  },
  {
   "cell_type": "code",
   "execution_count": 24,
   "id": "103605a9-4899-4969-8ccd-c749105bedfe",
   "metadata": {},
   "outputs": [],
   "source": [
    "#context.bdd.dump(\"../../output/important_closure.dddmp\", [trans_important])"
   ]
  },
  {
   "cell_type": "code",
   "execution_count": 25,
   "id": "0d974175-a270-45c4-8569-22ffd83a35f4",
   "metadata": {},
   "outputs": [],
   "source": [
    "trans_item, trans_important, teleport_trans = helper.trans_item, helper.trans_important, helper.teleport_trans"
   ]
  },
  {
   "cell_type": "code",
   "execution_count": 26,
   "id": "4149e998-768b-47a7-9b9e-38bfb12e4233",
   "metadata": {},
   "outputs": [],
   "source": [
    "teleport_one_hot = mk_one_hot(teleport_trans)"
   ]
  },
  {
   "cell_type": "code",
   "execution_count": 27,
   "id": "9775d060-c10e-4f83-a478-aa90f432ed6f",
   "metadata": {},
   "outputs": [
    {
     "data": {
      "text/plain": [
       "(28036, 289590, 327752)"
      ]
     },
     "execution_count": 27,
     "metadata": {},
     "output_type": "execute_result"
    }
   ],
   "source": [
    "trans_item.dag_size, trans_important.dag_size, teleport_trans.dag_size"
   ]
  },
  {
   "cell_type": "code",
   "execution_count": 28,
   "id": "7d3affaa-464e-4095-8f90-53f9bb939958",
   "metadata": {},
   "outputs": [],
   "source": [
    "from data_types import item_set"
   ]
  },
  {
   "cell_type": "code",
   "execution_count": 29,
   "id": "d8a83cad-6913-47d1-95db-f4b53f5f997b",
   "metadata": {},
   "outputs": [],
   "source": [
    "def find_reachable_special(start_bdd):\n",
    "    n = 0\n",
    "    reachable = start_bdd\n",
    "    reachable_last = context.false\n",
    "    while reachable != reachable_last:\n",
    "        reachable_last = reachable\n",
    "        # one teleport step\n",
    "        reachable |= context.let(next_to_prev, context.exist(prevs, reachable & trans_important))\n",
    "        # one item step\n",
    "        reachable |= context.let(next_to_prev, context.exist(prevs, reachable & trans_item))\n",
    "        print(n, reachable.dag_size)\n",
    "        n += 1\n",
    "    return reachable"
   ]
  },
  {
   "cell_type": "code",
   "execution_count": 30,
   "id": "186f32e1-9498-43eb-ba2c-3bec885d8d6b",
   "metadata": {},
   "outputs": [],
   "source": [
    "item_next_to_prev = {k:v for k,v in next_to_prev.items() if k != \"node_id_next\"}"
   ]
  },
  {
   "cell_type": "code",
   "execution_count": 31,
   "id": "a0aece0b-2591-42bb-a505-ee421876f47c",
   "metadata": {},
   "outputs": [],
   "source": [
    "# TODO: derive these sets using forall\n",
    "trans_majors = major_items + list(helper.design[\"Bosses\"].keys())\n",
    "trans_minors = [\"node_id\"] + minor_items\n",
    "minor_nexts = [f\"{i}_next\" for i in trans_minors]\n",
    "minor_prevs = [f\"{i}_prev\" for i in trans_minors]\n",
    "major_nexts = [f\"{i}_next\" for i in trans_majors]\n",
    "major_prevs = [f\"{i}_prev\" for i in trans_majors]\n",
    "minor_ntp = {f\"{i}_next\" : f\"{i}_prev\" for i in trans_minors}\n",
    "major_ntp = {f\"{i}_next\" : f\"{i}_prev\" for i in trans_majors}\n",
    "assert set(major_nexts) & set(minor_nexts) == set()\n",
    "#assert set(major_nexts) | set(minor_nexts) == set(item_nexts + [\"node_id_next\"])"
   ]
  },
  {
   "cell_type": "code",
   "execution_count": 32,
   "id": "df772a22-c973-41cb-9cd6-91ef2cb82ff5",
   "metadata": {},
   "outputs": [],
   "source": [
    "def find_reachable_special2(start_bdd):\n",
    "    n = 0\n",
    "    # Record the intermediate swell\n",
    "    iswell = 0\n",
    "    #trans_important_partial = context.exist(item_nexts, trans_important)\n",
    "    #trans_item_partial = context.exist([\"node_id_next\"], trans_item)\n",
    "    trans_important_partial = context.exist(major_nexts, trans_important)\n",
    "    trans_item_partial = context.exist(minor_nexts, trans_item)\n",
    "    reachable = start_bdd\n",
    "    reachable_last = context.false\n",
    "    while reachable != reachable_last:\n",
    "        reachable_last = reachable\n",
    "        # one teleport step\n",
    "        #reachable |= context.let({\"node_id_next\": \"node_id_prev\"}, context.exist([\"node_id_prev\"], reachable & trans_important_partial))\n",
    "        reachable |= context.let(minor_ntp, context.exist(minor_prevs, reachable & trans_important_partial))\n",
    "        # one item step\n",
    "        #reachable |= context.let(item_next_to_prev, context.exist(item_prevs, reachable & trans_item_partial))\n",
    "        reachable |= context.let(major_ntp, context.exist(major_prevs, reachable & trans_item_partial))\n",
    "        dag_size = reachable.dag_size\n",
    "        print(n, dag_size)\n",
    "        if dag_size > iswell:\n",
    "            iswell = dag_size\n",
    "        n += 1\n",
    "    return reachable, iswell"
   ]
  },
  {
   "cell_type": "code",
   "execution_count": 33,
   "id": "ad6bc0a7-ea2b-4125-8892-022992363640",
   "metadata": {},
   "outputs": [],
   "source": [
    "def find_reachable_special_hints(start_bdd, hints=[]):\n",
    "    reachable = start_bdd\n",
    "    hints.append(context.true)\n",
    "    for h,hint in enumerate(hints):\n",
    "        n = 0\n",
    "        trans_important_partial = context.exist(major_nexts, trans_important & hint)\n",
    "        trans_item_partial = context.exist(minor_nexts, trans_item & hint)\n",
    "        reachable_last = context.false\n",
    "        while reachable != reachable_last:\n",
    "            reachable_last = reachable\n",
    "            # one teleport step\n",
    "            reachable |= context.let(minor_ntp, context.exist(minor_prevs, reachable & trans_important_partial))\n",
    "            # one item step\n",
    "            reachable |= context.let(major_ntp, context.exist(major_prevs, reachable & trans_item_partial))\n",
    "            print(h, n, reachable.dag_size)\n",
    "            n += 1\n",
    "    return reachable"
   ]
  },
  {
   "cell_type": "code",
   "execution_count": 34,
   "id": "ee5442d6-6872-4215-b988-e63f2bd6fdda",
   "metadata": {},
   "outputs": [],
   "source": [
    "def get_item_vars(var_list):\n",
    "    return list(filter(lambda x: (not x.startswith(\"at\")) and (not x.startswith(\"node_id\")), var_list))"
   ]
  },
  {
   "cell_type": "code",
   "execution_count": 35,
   "id": "aaadc67b-5d7d-41e8-b1ab-3cccff6cd90a",
   "metadata": {},
   "outputs": [],
   "source": [
    "def get_ats(var_list):\n",
    "    return list(filter(lambda x: x.startswith(\"at\"), var_list))"
   ]
  },
  {
   "cell_type": "code",
   "execution_count": 36,
   "id": "5e72d29d-f308-4234-9443-36beb2c5a02d",
   "metadata": {},
   "outputs": [],
   "source": [
    "# Set of all prevs without node_id_prev -- these are \"item state\"\n",
    "item_vars_p = get_item_vars(prevs)\n",
    "item_vars_pn = get_item_vars(prevs) + get_item_vars(nexts)\n",
    "loc_vars_p = get_ats(prevs)\n",
    "loc_vars_pn = get_ats(prevs) + get_ats(nexts)"
   ]
  },
  {
   "cell_type": "code",
   "execution_count": 37,
   "id": "823e6150-6105-4661-915f-d7ea222841b9",
   "metadata": {},
   "outputs": [],
   "source": [
    "def find_reachable_cartesian(start_bdd):\n",
    "    n = 0\n",
    "    # Record the intermediate swell\n",
    "    iswell = 0\n",
    "    reachable_locs = context.exist(item_vars_p + nexts, start_bdd)\n",
    "    reachable_items = context.exist([\"node_id_prev\"] + nexts, start_bdd)\n",
    "    reachable_locs_last = context.false\n",
    "    reachable_items_last = context.false\n",
    "    while reachable_items != reachable_items_last or reachable_locs != reachable_locs_last:\n",
    "        reachable_items_last = reachable_items\n",
    "        reachable_locs_last = reachable_locs\n",
    "        reachable_locs = context.let(next_to_prev, context.exist(prevs, reachable_locs & context.exist(item_vars_pn, reachable_items & teleport_trans)))\n",
    "        reachable_items = context.let(next_to_prev, context.exist(prevs, reachable_items & context.exist([\"node_id_prev\", \"node_id_next\"], reachable_locs & teleport_trans)))\n",
    "        dag_size = reachable_locs.dag_size + reachable_items.dag_size\n",
    "        if dag_size > iswell:\n",
    "            iswell = dag_size\n",
    "        print(n, dag_size, reachable_locs.dag_size, reachable_items.dag_size)\n",
    "        n += 1\n",
    "    return reachable_locs & reachable_items, iswell"
   ]
  },
  {
   "cell_type": "code",
   "execution_count": 38,
   "id": "21c6d4b6-93a0-46de-b6c7-474f5e1bbde0",
   "metadata": {},
   "outputs": [],
   "source": [
    "def find_reachable_cartesian_one_hot(start_bdd):\n",
    "    n = 0\n",
    "    # Record the intermediate swell\n",
    "    iswell = 0\n",
    "    reachable_locs = context.exist(item_vars_p + nexts, start_bdd)\n",
    "    reachable_items = context.exist(loc_vars_p + nexts, start_bdd)\n",
    "    reachable_locs_last = context.false\n",
    "    reachable_items_last = context.false\n",
    "    while reachable_items != reachable_items_last or reachable_locs != reachable_locs_last:\n",
    "        reachable_items_last = reachable_items\n",
    "        reachable_locs_last = reachable_locs\n",
    "        reachable_locs = context.let(next_to_prev, context.exist(prevs, reachable_locs & context.exist(item_vars_pn, reachable_items & teleport_one_hot)))\n",
    "        reachable_items = context.let(next_to_prev, context.exist(prevs, reachable_items & context.exist(loc_vars_pn, reachable_locs & teleport_one_hot)))\n",
    "        #reachable_locs = context.let(next_to_prev, context.exist(prevs, reachable_locs & context.exist(item_vars_pn, reachable_items & trans)))\n",
    "        #reachable_items = context.let(next_to_prev, context.exist(prevs, reachable_items & context.exist([\"node_id_prev\", \"node_id_next\"], reachable_locs & trans)))\n",
    "        dag_size = reachable_locs.dag_size + reachable_items.dag_size\n",
    "        if dag_size > iswell:\n",
    "            iswell = dag_size\n",
    "        print(n, dag_size, reachable_locs.dag_size, reachable_items.dag_size)\n",
    "        n += 1\n",
    "    return reachable_locs & reachable_items, iswell"
   ]
  },
  {
   "cell_type": "code",
   "execution_count": 39,
   "id": "97aa7262-0b7b-4146-b27a-7a6ca3e33825",
   "metadata": {},
   "outputs": [],
   "source": [
    "def find_reachable_rounding(start_bdd):\n",
    "    n = 0\n",
    "    # Record the intermediate swell\n",
    "    iswell = 0\n",
    "    #trans_important_partial = context.exist(item_nexts, trans_important)\n",
    "    #trans_item_partial = context.exist([\"node_id_next\"], trans_item)\n",
    "    trans_important_partial = context.exist(major_nexts, trans_important)\n",
    "    trans_item_partial = context.exist(minor_nexts, trans_item)\n",
    "    reachable = start_bdd\n",
    "    reachable_last = context.false\n",
    "    while reachable != reachable_last:\n",
    "        reachable_last = reachable\n",
    "        # one teleport step\n",
    "        #reachable |= context.let({\"node_id_next\": \"node_id_prev\"}, context.exist([\"node_id_prev\"], reachable & trans_important_partial))\n",
    "        reachable |= context.let(minor_ntp, context.exist(minor_prevs, reachable & trans_important_partial))\n",
    "        # one item step\n",
    "        #reachable |= context.let(item_next_to_prev, context.exist(item_prevs, reachable & trans_item_partial))\n",
    "        reachable |= context.let(major_ntp, context.exist(major_prevs, reachable & trans_item_partial))\n",
    "        locs = context.exist(item_vars, reachable)\n",
    "        isets = context.exist([\"node_id_prev\"], reachable)\n",
    "        reachable |= locs & isets\n",
    "        dag_size = reachable.dag_size\n",
    "        print(n, dag_size)\n",
    "        if dag_size > iswell:\n",
    "            iswell = dag_size\n",
    "        n += 1\n",
    "    return reachable, iswell"
   ]
  },
  {
   "cell_type": "code",
   "execution_count": 40,
   "id": "dae110ce-5840-405f-acf1-017980ef942e",
   "metadata": {},
   "outputs": [],
   "source": [
    "start_bdd = context.add_expr(\"node_id_prev = 0 & at_Landing_Site_Ship_prev = 1\") & helper.mk_itemset_expr(item_set.ItemSet())"
   ]
  },
  {
   "cell_type": "code",
   "execution_count": 41,
   "id": "dbe68789-a4c7-4357-8515-a55f3e567b8b",
   "metadata": {},
   "outputs": [],
   "source": [
    "trans_important_partial = context.exist(major_nexts, trans_important)\n",
    "trans_item_partial = context.exist(minor_nexts, trans_item)"
   ]
  },
  {
   "cell_type": "code",
   "execution_count": 42,
   "id": "2231f17e-11f7-4b01-b05b-57d1986ce9c6",
   "metadata": {},
   "outputs": [],
   "source": [
    "s2 = start_bdd & trans_important_partial\n",
    "#s2 = context.exist(minor_nexts, start_bdd & trans_important_partial)\n",
    "#s2 = context.let(minor_ntp, context.exist(minor_nexts, start_bdd & trans_important_partial))"
   ]
  },
  {
   "cell_type": "code",
   "execution_count": 43,
   "id": "9aa62271-f2a0-40f9-a9d8-8e1c6ba7907c",
   "metadata": {},
   "outputs": [],
   "source": [
    "max_distance = 5\n",
    "edit_distance = helper.mk_edit_distance(max_distance)\n",
    "edit_distance_equal = helper.mk_edit_distance(max_distance, \"=\")"
   ]
  },
  {
   "cell_type": "code",
   "execution_count": 48,
   "id": "a20b3759-4daf-4467-98d6-330abc09aee1",
   "metadata": {},
   "outputs": [],
   "source": [
    "# Check whether highest edit distance is always the worst case by sweeping over eD in a more restricted context\n",
    "# e.g. only randomizing the first n items\n",
    "n_restricted = 1\n",
    "n_un = len(helper.major_drop_nodes) - n_restricted\n",
    "restricted_nodes = helper.major_drop_nodes[n_un:]\n",
    "design_restriction = context.true\n",
    "for room_name, room in helper.design[\"Rooms\"].items():\n",
    "    for node_name, d in room[\"Drops\"].items():\n",
    "        name = room_name + \"_\" + node_name\n",
    "        if d in major_items:\n",
    "            if name in restricted_nodes:\n",
    "                design_restriction &= context.add_expr(f\"major_drop_{name} = {major_items.index(d)}\")"
   ]
  },
  {
   "cell_type": "code",
   "execution_count": 49,
   "id": "2e2dd2ad-dc7c-4dd4-a984-bb776af5a31f",
   "metadata": {},
   "outputs": [],
   "source": [
    "import time"
   ]
  },
  {
   "cell_type": "code",
   "execution_count": 50,
   "id": "15dadd83-ea5d-4676-902e-768561267a94",
   "metadata": {},
   "outputs": [],
   "source": [
    "# Compatible with both one-hot and multi-hot nodes\n",
    "end_reachable = context.add_expr(\"node_id_prev = 1 & at_Landing_Site_End_prev = 1\")"
   ]
  },
  {
   "cell_type": "code",
   "execution_count": 51,
   "id": "e0a50bb1-a917-4e99-9748-37380119043b",
   "metadata": {},
   "outputs": [],
   "source": [
    "#reachable, iswell = find_reachable_cartesian(start_bdd & helper.valid_design & edit_distance & design_restriction)\n",
    "#reachable, iswell = find_reachable_special2(start_bdd & helper.valid_design & edit_distance & design_restriction)"
   ]
  },
  {
   "cell_type": "code",
   "execution_count": 55,
   "id": "4d2ddaf4-f3ac-40bc-873f-265a0dc04f77",
   "metadata": {},
   "outputs": [],
   "source": [
    "def print_sol(sol):\n",
    "    for k,v in sol.items():\n",
    "        if v == 1:\n",
    "            print(k)"
   ]
  },
  {
   "cell_type": "code",
   "execution_count": 60,
   "id": "2dd8c52f-5427-4195-8a15-54bd9d569620",
   "metadata": {},
   "outputs": [
    {
     "name": "stdout",
     "output_type": "stream",
     "text": [
      "0 1010962\n",
      "1 1011891\n",
      "2 1410139\n",
      "3 1941194\n",
      "4 3600055\n",
      "5 6361910\n",
      "6 9975773\n",
      "7 14928585\n",
      "8 18336375\n",
      "9 22651147\n",
      "10 29308017\n",
      "11 37425047\n",
      "12 45264720\n",
      "13 52480380\n",
      "14 57267867\n",
      "15 56231480\n",
      "16 49902410\n",
      "17 43784412\n",
      "18 39360309\n",
      "19 35621199\n",
      "20 33808238\n",
      "21 33808238\n",
      "CPU times: user 52min, sys: 14.2 s, total: 52min 14s\n",
      "Wall time: 52min 2s\n"
     ]
    }
   ],
   "source": [
    "# Compute all randomizations without changing space jump\n",
    "%%time\n",
    "reachable, iswell = find_reachable_special2(start_bdd & helper.valid_design & design_restriction)"
   ]
  },
  {
   "cell_type": "code",
   "execution_count": 58,
   "id": "668a12bd-3801-4889-97d2-6b3ac80af09d",
   "metadata": {
    "scrolled": true
   },
   "outputs": [
    {
     "ename": "NameError",
     "evalue": "name 'valid_design' is not defined",
     "output_type": "error",
     "traceback": [
      "\u001b[0;31m---------------------------------------------------------------------------\u001b[0m",
      "\u001b[0;31mNameError\u001b[0m                                 Traceback (most recent call last)",
      "Cell \u001b[0;32mIn[58], line 14\u001b[0m\n\u001b[1;32m      8\u001b[0m \u001b[38;5;66;03m#tick = time.time()\u001b[39;00m\n\u001b[1;32m      9\u001b[0m \u001b[38;5;66;03m#reachable, iswell = find_reachable_cartesian(start_bdd & valid_design & edit_distance & design_restriction)\u001b[39;00m\n\u001b[1;32m     10\u001b[0m \u001b[38;5;66;03m#good_designs = context.exist(nexts + prevs, reachable & end_reachable)\u001b[39;00m\n\u001b[1;32m     11\u001b[0m \u001b[38;5;66;03m#tock = time.time()\u001b[39;00m\n\u001b[1;32m     12\u001b[0m \u001b[38;5;66;03m#times.append(tock - tick)\u001b[39;00m\n\u001b[1;32m     13\u001b[0m tick \u001b[38;5;241m=\u001b[39m time\u001b[38;5;241m.\u001b[39mtime()\n\u001b[0;32m---> 14\u001b[0m reachable, iswell \u001b[38;5;241m=\u001b[39m find_reachable_special2(start_bdd \u001b[38;5;241m&\u001b[39m \u001b[43mvalid_design\u001b[49m \u001b[38;5;241m&\u001b[39m edit_distance \u001b[38;5;241m&\u001b[39m design_restriction \u001b[38;5;241m&\u001b[39m good_designs)\n\u001b[1;32m     15\u001b[0m \u001b[38;5;66;03m#reachable = find_reachable_sbfs(teleport_trans, start_bdd & valid_design & edit_distance & design_restriction)\u001b[39;00m\n\u001b[1;32m     16\u001b[0m tock \u001b[38;5;241m=\u001b[39m time\u001b[38;5;241m.\u001b[39mtime()\n",
      "\u001b[0;31mNameError\u001b[0m: name 'valid_design' is not defined"
     ]
    }
   ],
   "source": [
    "times = []\n",
    "dag_sizes = []\n",
    "swells = []\n",
    "#for ed in tqdm(range(n_un)):\n",
    "#for ed in tqdm(range(7)):\n",
    "for ed in [16]:\n",
    "    edit_distance = helper.mk_edit_distance(ed)\n",
    "    #tick = time.time()\n",
    "    #reachable, iswell = find_reachable_cartesian(start_bdd & valid_design & edit_distance & design_restriction)\n",
    "    #good_designs = context.exist(nexts + prevs, reachable & end_reachable)\n",
    "    #tock = time.time()\n",
    "    #times.append(tock - tick)\n",
    "    tick = time.time()\n",
    "    #reachable, iswell = find_reachable_special2(start_bdd & helper.valid_design & edit_distance & design_restriction & good_designs)\n",
    "    reachable = find_reachable_sbfs(teleport_trans, start_bdd & valid_design & edit_distance & design_restriction)\n",
    "    tock = time.time()\n",
    "    times.append(tock - tick)\n",
    "    dag_sizes.append(reachable.dag_size)\n",
    "    swells.append(iswell)"
   ]
  },
  {
   "cell_type": "code",
   "execution_count": 50,
   "id": "c3d4fe76-9570-4afb-b48e-328e96b2bb07",
   "metadata": {},
   "outputs": [],
   "source": [
    "reachable = context.exist(nexts, reachable)"
   ]
  },
  {
   "cell_type": "code",
   "execution_count": 51,
   "id": "7f12ff32-2b15-4144-bf23-86918d044790",
   "metadata": {},
   "outputs": [
    {
     "data": {
      "text/plain": [
       "90820"
      ]
     },
     "execution_count": 51,
     "metadata": {},
     "output_type": "execute_result"
    }
   ],
   "source": [
    "reachable.dag_size"
   ]
  },
  {
   "cell_type": "code",
   "execution_count": 52,
   "id": "c2ac9ff6-4702-41f1-ae23-295942aceaf6",
   "metadata": {},
   "outputs": [],
   "source": [
    "# ED7 approx: 464586"
   ]
  },
  {
   "cell_type": "code",
   "execution_count": 53,
   "id": "e6bda891-232c-48ca-a5f8-295296836051",
   "metadata": {},
   "outputs": [
    {
     "data": {
      "text/plain": [
       "1795"
      ]
     },
     "execution_count": 53,
     "metadata": {},
     "output_type": "execute_result"
    }
   ],
   "source": [
    "context.exist(helper.design_vars.keys(), reachable).dag_size"
   ]
  },
  {
   "cell_type": "code",
   "execution_count": 229,
   "id": "a885db21-0ca3-45d2-a369-77c7f007aa6a",
   "metadata": {},
   "outputs": [],
   "source": [
    "locs = context.exist(item_vars, reachable)\n",
    "isets = context.exist([\"node_id_prev\"], reachable)\n",
    "reachable2 = locs & isets"
   ]
  },
  {
   "cell_type": "code",
   "execution_count": 230,
   "id": "69842f81-e793-4268-bc28-e86caaf9f412",
   "metadata": {},
   "outputs": [],
   "source": [
    "reachable2 = context.exist(nexts, reachable2)"
   ]
  },
  {
   "cell_type": "code",
   "execution_count": 231,
   "id": "a3531d31-761e-40c2-8017-58ab6fcdda71",
   "metadata": {},
   "outputs": [
    {
     "data": {
      "text/plain": [
       "1421115"
      ]
     },
     "execution_count": 231,
     "metadata": {},
     "output_type": "execute_result"
    }
   ],
   "source": [
    "reachable2.dag_size"
   ]
  },
  {
   "cell_type": "code",
   "execution_count": 232,
   "id": "b4b3f80b-aaed-4c29-a760-80854949e37b",
   "metadata": {},
   "outputs": [
    {
     "data": {
      "text/plain": [
       "([47.85365891456604, 18.167444467544556], [1103621])"
      ]
     },
     "execution_count": 232,
     "metadata": {},
     "output_type": "execute_result"
    }
   ],
   "source": [
    "# ED5 no guidance - 17.29345679283142s, 1103621 nodes\n",
    "# ED5 cartesian guidance - 61.511017084121704s + 16.377620220184326s, 1103621\n",
    "# ED5 oracle guidance - 11.944308042526245s, 657292 nodes\n",
    "# ED6 no guidance - 298.0612139701843s, 4122055 nodes\n",
    "# ED6 oracle guidance - 180.4730052947998s, 2629628 nodes\n",
    "times, dag_sizes"
   ]
  },
  {
   "cell_type": "code",
   "execution_count": 234,
   "id": "b87b00f6-e28d-4e42-b325-1466aa216e5e",
   "metadata": {},
   "outputs": [
    {
     "data": {
      "text/plain": [
       "[<matplotlib.lines.Line2D at 0x7f7460cba260>]"
      ]
     },
     "execution_count": 234,
     "metadata": {},
     "output_type": "execute_result"
    },
    {
     "data": {
      "image/png": "[encoded data removed]",
      "text/plain": [
       "<Figure size 640x480 with 1 Axes>"
      ]
     },
     "metadata": {},
     "output_type": "display_data"
    }
   ],
   "source": [
    "xlabel(\"Edit Distance Radius\")\n",
    "xlim(0,16)\n",
    "ylabel(\"Time (s)\")\n",
    "plot(times)"
   ]
  },
  {
   "cell_type": "code",
   "execution_count": 235,
   "id": "2a8b4e61-751f-4c37-9d53-ab44599eecd3",
   "metadata": {},
   "outputs": [
    {
     "data": {
      "text/plain": [
       "[<matplotlib.lines.Line2D at 0x7f746103b250>]"
      ]
     },
     "execution_count": 235,
     "metadata": {},
     "output_type": "execute_result"
    },
    {
     "data": {
      "image/png": "[encoded data removed]",
      "text/plain": [
       "<Figure size 640x480 with 1 Axes>"
      ]
     },
     "metadata": {},
     "output_type": "display_data"
    }
   ],
   "source": [
    "plot(swells)\n",
    "plot(dag_sizes)"
   ]
  },
  {
   "cell_type": "code",
   "execution_count": 236,
   "id": "484a1578-8f11-4f91-a869-d85fe2977d2c",
   "metadata": {},
   "outputs": [],
   "source": [
    "# Edit distance hints - ???\n",
    "#hints = [context.add_expr(all_edits + f\" <= {i}\") for i in range(max_distance)]"
   ]
  },
  {
   "cell_type": "code",
   "execution_count": 61,
   "id": "5ecdc9ff-d112-4641-bb2d-6e84cc8930bc",
   "metadata": {},
   "outputs": [],
   "source": [
    "designs = context.exist(nexts + prevs, reachable)"
   ]
  },
  {
   "cell_type": "code",
   "execution_count": 62,
   "id": "d31e955a-521a-4fb9-afc8-8a87dbb362e7",
   "metadata": {},
   "outputs": [
    {
     "data": {
      "text/plain": [
       "351416"
      ]
     },
     "execution_count": 62,
     "metadata": {},
     "output_type": "execute_result"
    }
   ],
   "source": [
    "designs.dag_size"
   ]
  },
  {
   "cell_type": "code",
   "execution_count": 63,
   "id": "edf9537b-6b2c-4ba5-a4f4-d4039fb57716",
   "metadata": {},
   "outputs": [
    {
     "data": {
      "text/plain": [
       "1307674368000.0"
      ]
     },
     "execution_count": 63,
     "metadata": {},
     "output_type": "execute_result"
    }
   ],
   "source": [
    "designs.count()"
   ]
  },
  {
   "cell_type": "code",
   "execution_count": 64,
   "id": "983f84b9-edfd-4433-bbbe-106db09a5dae",
   "metadata": {},
   "outputs": [],
   "source": [
    "good_designs = context.exist(nexts + prevs, reachable & end_reachable)"
   ]
  },
  {
   "cell_type": "code",
   "execution_count": 74,
   "id": "9d441531-3dc0-424a-9d6c-f246200e79e6",
   "metadata": {},
   "outputs": [
    {
     "data": {
      "text/plain": [
       "33791040.0"
      ]
     },
     "execution_count": 74,
     "metadata": {},
     "output_type": "execute_result"
    }
   ],
   "source": [
    "good_designs.count()"
   ]
  },
  {
   "cell_type": "code",
   "execution_count": 65,
   "id": "63510603-ddb4-40e7-a23b-37acec0bf994",
   "metadata": {},
   "outputs": [],
   "source": [
    "#show_design(context.pick(good_designs))"
   ]
  },
  {
   "cell_type": "code",
   "execution_count": 66,
   "id": "76e76526-6033-4d6c-a818-0c3cdcc0cefe",
   "metadata": {},
   "outputs": [],
   "source": [
    "#good_designs2 = context.exist(nexts + prevs, reachable & end_reachable)"
   ]
  },
  {
   "cell_type": "code",
   "execution_count": 67,
   "id": "cd7334f7-ee72-4bf2-af61-dd70c2165629",
   "metadata": {},
   "outputs": [],
   "source": [
    "#approx_designs = good_designs & ~good_designs2"
   ]
  },
  {
   "cell_type": "code",
   "execution_count": 68,
   "id": "f37b20af-712b-43c9-9db2-30d006b62d31",
   "metadata": {},
   "outputs": [],
   "source": [
    "#approx_designs.count()"
   ]
  },
  {
   "cell_type": "code",
   "execution_count": 69,
   "id": "d6fb4d8d-0c9c-46c9-9454-6193e0bebaae",
   "metadata": {},
   "outputs": [],
   "source": [
    "#show_design(context.pick(approx_designs))"
   ]
  },
  {
   "cell_type": "code",
   "execution_count": 70,
   "id": "4f8b7ebb-998c-4b46-88ff-f1aebe3650c5",
   "metadata": {},
   "outputs": [],
   "source": [
    "#context.count(good_designs), context.count(good_designs2)"
   ]
  },
  {
   "cell_type": "code",
   "execution_count": 71,
   "id": "7f8dc1f1-78c0-4622-97b0-1cb5b61ba4d4",
   "metadata": {},
   "outputs": [
    {
     "data": {
      "text/plain": [
       "621970"
      ]
     },
     "execution_count": 71,
     "metadata": {},
     "output_type": "execute_result"
    }
   ],
   "source": [
    "good_designs.dag_size"
   ]
  },
  {
   "cell_type": "code",
   "execution_count": 76,
   "id": "e4bf1454-a2c3-4975-ba31-7554c5d786a3",
   "metadata": {},
   "outputs": [
    {
     "data": {
      "text/plain": [
       "0.018396995430521992"
      ]
     },
     "execution_count": 76,
     "metadata": {},
     "output_type": "execute_result"
    }
   ],
   "source": [
    "good_designs.dag_size / reachable.dag_size"
   ]
  },
  {
   "cell_type": "code",
   "execution_count": 72,
   "id": "804bf766-bbab-4526-a55c-413ee13f1f23",
   "metadata": {},
   "outputs": [
    {
     "data": {
      "text/plain": [
       "1.7698966467093131"
      ]
     },
     "execution_count": 72,
     "metadata": {},
     "output_type": "execute_result"
    }
   ],
   "source": [
    "good_designs.dag_size / designs.dag_size"
   ]
  },
  {
   "cell_type": "code",
   "execution_count": 73,
   "id": "97401db0-9be2-4b26-8628-f5b0f0d9374a",
   "metadata": {},
   "outputs": [
    {
     "data": {
      "text/plain": [
       "2.584056155484727e-05"
      ]
     },
     "execution_count": 73,
     "metadata": {},
     "output_type": "execute_result"
    }
   ],
   "source": [
    "good_designs.count() / designs.count()"
   ]
  },
  {
   "cell_type": "code",
   "execution_count": 77,
   "id": "d23817d5-b2f7-42d9-93a2-dbc6093ffe27",
   "metadata": {},
   "outputs": [
    {
     "data": {
      "text/plain": [
       "38698.84939913066"
      ]
     },
     "execution_count": 77,
     "metadata": {},
     "output_type": "execute_result"
    }
   ],
   "source": [
    "designs.count() / good_designs.count()"
   ]
  },
  {
   "cell_type": "code",
   "execution_count": 75,
   "id": "db0523d8-b1ff-4414-9e5f-c5a92f066c1f",
   "metadata": {},
   "outputs": [],
   "source": [
    "context.bdd.dump(\"../../output/good_designs_without_space_jump.dddmp\", [good_designs])"
   ]
  },
  {
   "cell_type": "code",
   "execution_count": 95,
   "id": "34d449f7-87be-49c1-95bc-ef1718a114cc",
   "metadata": {},
   "outputs": [],
   "source": [
    "#TODO: \"separable trans\"\n",
    "#TODO: git push\n",
    "#TODO: n_restricted = 1\n",
    "#TODO: does restricting/unrestricting space jump make a big difference in compute time?\n",
    "#TODO: colab pro\n",
    "#TODO: try a transpose representation where each item says what location it is at.\n",
    "#TODO: Look at nexts in reachable support (this is probably a bug)\n",
    "#TODO: one-hot location in conjunction with separability\n",
    "\n",
    "#TODO: just check how much restricting the design space based on the abstraction helps (e.g. for ED 7)\n",
    "#TODO: use context.forall to find the edges that are NOT design-conditional\n",
    "# Then compute the \"fully unconditional\" trans closure... then do the exact same thing we have been doing"
   ]
  },
  {
   "cell_type": "code",
   "execution_count": 39,
   "id": "593bdd24-1725-4282-a281-0e6ada146327",
   "metadata": {},
   "outputs": [],
   "source": [
    "# Design\n",
    "# Item\n",
    "# Location\n",
    "\n",
    "# Mess with the order\n",
    "#def static_order_score(name):\n",
    "#    var,tense,bit = name.rsplit('_', 2)\n",
    "#    bit = int(bit)\n",
    "#    is_design = var.startswith(\"major\") or var.startswith(\"minor\")\n",
    "#    is_loc = var.startswith(\"node_id\")\n",
    "#    return (is_design, not is_loc, var, -bit, tense)\n",
    "\n",
    "#context.bdd.configure(reordering=False)\n",
    "#order = {v:i for i,v in enumerate(sorted(context.bdd.vars, key=static_order_score))}\n",
    "#context.bdd.reorder()"
   ]
  },
  {
   "cell_type": "code",
   "execution_count": 40,
   "id": "2c32a08a-cd27-4dbe-93ba-ae28b339d0ef",
   "metadata": {},
   "outputs": [],
   "source": [
    "# original_design = context.true\n",
    "# for room_name, room in design[\"Rooms\"].items():\n",
    "#     for node_name, d in room[\"Drops\"].items():\n",
    "#         name = room_name + \"_\" + node_name\n",
    "#         if d in major_items:\n",
    "#             if name in major_drop_nodes:\n",
    "#                 original_design &= context.add_expr(f\"major_drop_{name} = {major_items.index(d)}\")\n",
    "#         if d in minor_items:\n",
    "#             if name in minor_drop_nodes:\n",
    "#                 original_design &= context.add_expr(f\"minor_drop_{name} = {minor_items.index(d)}\")"
   ]
  },
  {
   "cell_type": "code",
   "execution_count": null,
   "id": "e1555d25-db2f-4f58-9c98-90628180f9d0",
   "metadata": {},
   "outputs": [],
   "source": []
  }
 ],
 "metadata": {
  "kernelspec": {
   "display_name": "Python 3 (ipykernel)",
   "language": "python",
   "name": "python3"
  },
  "language_info": {
   "codemirror_mode": {
    "name": "ipython",
    "version": 3
   },
   "file_extension": ".py",
   "mimetype": "text/x-python",
   "name": "python",
   "nbconvert_exporter": "python",
   "pygments_lexer": "ipython3",
   "version": "3.10.12"
  }
 },
 "nbformat": 4,
 "nbformat_minor": 5
}

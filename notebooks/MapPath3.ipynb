{
 "cells": [
  {
   "cell_type": "code",
   "execution_count": 1,
   "id": "28156f09-df9c-48e7-80ea-9187f8332caf",
   "metadata": {},
   "outputs": [
    {
     "name": "stdout",
     "output_type": "stream",
     "text": [
      "%pylab is deprecated, use %matplotlib inline and import the required libraries.\n",
      "Populating the interactive namespace from numpy and matplotlib\n"
     ]
    }
   ],
   "source": [
    "%load_ext autoreload\n",
    "%autoreload 2\n",
    "%pylab inline"
   ]
  },
  {
   "cell_type": "code",
   "execution_count": 2,
   "id": "dc282d4f-9c44-40dd-8fa6-50c8fa72df9e",
   "metadata": {},
   "outputs": [],
   "source": [
    "import sys\n",
    "sys.path.append(\"..\")"
   ]
  },
  {
   "cell_type": "code",
   "execution_count": 3,
   "id": "19f1da59-111a-4c85-a4db-189f2c9ba5c5",
   "metadata": {},
   "outputs": [
    {
     "name": "stdout",
     "output_type": "stream",
     "text": [
      "Parsing ROM...\n",
      "Building Dicts...\n",
      "West_Ocean 0x793fe\n",
      "\t Extra: ['West_Ocean_L', 'West_Ocean_R4']\n",
      "\t Missing: []\n",
      "Bomb_Torizo 0x79804\n",
      "\t Extra: ['Bomb_Torizo_B']\n",
      "\t Missing: []\n",
      "West_Ocean 0x793fe\n",
      "\t Extra: ['West_Ocean_L', 'West_Ocean_R4']\n",
      "\t Missing: []\n",
      "Bomb_Torizo 0x79804\n",
      "\t Extra: ['Bomb_Torizo_B']\n",
      "\t Missing: []\n"
     ]
    }
   ],
   "source": [
    "from advice_server import mk_advice"
   ]
  },
  {
   "cell_type": "code",
   "execution_count": null,
   "id": "bd5834c2-1b5d-47e0-b5f2-a7fab50db85b",
   "metadata": {},
   "outputs": [],
   "source": []
  }
 ],
 "metadata": {
  "kernelspec": {
   "display_name": "Python 3 (ipykernel)",
   "language": "python",
   "name": "python3"
  },
  "language_info": {
   "codemirror_mode": {
    "name": "ipython",
    "version": 3
   },
   "file_extension": ".py",
   "mimetype": "text/x-python",
   "name": "python",
   "nbconvert_exporter": "python",
   "pygments_lexer": "ipython3",
   "version": "3.10.12"
  }
 },
 "nbformat": 4,
 "nbformat_minor": 5
}

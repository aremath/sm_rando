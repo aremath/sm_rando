{
 "cells": [
  {
   "cell_type": "code",
   "execution_count": 5,
   "id": "d800b8a7-1d21-466e-a195-bca825430ad5",
   "metadata": {},
   "outputs": [
    {
     "name": "stdout",
     "output_type": "stream",
     "text": [
      "%pylab is deprecated, use %matplotlib inline and import the required libraries.\n",
      "Populating the interactive namespace from numpy and matplotlib\n"
     ]
    }
   ],
   "source": [
    "%load_ext autoreload\n",
    "%autoreload 2\n",
    "%pylab inline\n",
    "%matplotlib inline"
   ]
  },
  {
   "cell_type": "code",
   "execution_count": 6,
   "id": "838ca2a2-9341-499b-a47c-25baf7babdaf",
   "metadata": {},
   "outputs": [],
   "source": [
    "# Gross\n",
    "import sys\n",
    "sys.path.append(\"../..\")"
   ]
  },
  {
   "cell_type": "code",
   "execution_count": 139,
   "id": "1aac93f1-3345-4e66-8c75-c33dd938f1d9",
   "metadata": {},
   "outputs": [],
   "source": [
    "import networkx as nx"
   ]
  },
  {
   "cell_type": "code",
   "execution_count": 140,
   "id": "2b230ade-65ad-48c3-b52e-78034d97fbf3",
   "metadata": {},
   "outputs": [],
   "source": [
    "from encoding import parse_rooms"
   ]
  },
  {
   "cell_type": "code",
   "execution_count": 141,
   "id": "6f4d5383-c4fb-4993-a95c-92872d3e1658",
   "metadata": {},
   "outputs": [],
   "source": [
    "exits = parse_rooms.parse_exits(\"../../encoding/dsl/exits.txt\")"
   ]
  },
  {
   "cell_type": "code",
   "execution_count": 142,
   "id": "18168f04-78df-4876-aeac-f4139e55fbd4",
   "metadata": {},
   "outputs": [],
   "source": [
    "rooms = parse_rooms.parse_rooms(\"../../encoding/dsl/rooms.txt\")"
   ]
  },
  {
   "cell_type": "code",
   "execution_count": 143,
   "id": "000e75ee-f6d0-4e4b-a3d2-93e8a5f22eac",
   "metadata": {},
   "outputs": [],
   "source": [
    "tot = 0\n",
    "for r in rooms.values():\n",
    "    tot += r.graph.nnodes"
   ]
  },
  {
   "cell_type": "code",
   "execution_count": 144,
   "id": "856492ad-53ca-4b2d-9df7-9d07ce53d3a1",
   "metadata": {},
   "outputs": [
    {
     "data": {
      "text/plain": [
       "719"
      ]
     },
     "execution_count": 144,
     "metadata": {},
     "output_type": "execute_result"
    }
   ],
   "source": [
    "tot"
   ]
  },
  {
   "cell_type": "code",
   "execution_count": 145,
   "id": "370c872a-8b1d-4542-b079-a7bf45c6c7c3",
   "metadata": {},
   "outputs": [],
   "source": [
    "from door_rando import spoiler_graph"
   ]
  },
  {
   "cell_type": "code",
   "execution_count": 146,
   "id": "5ac2e6df-df6e-4657-8e11-8ba647556f14",
   "metadata": {},
   "outputs": [],
   "source": [
    "#spoiler_graph.make_spoiler_graph(exits.items(), \"base\")"
   ]
  },
  {
   "cell_type": "code",
   "execution_count": 154,
   "id": "4455fdca-4907-4d84-9eba-8fc1ff0b5865",
   "metadata": {},
   "outputs": [
    {
     "data": {
      "text/plain": [
       "('Landing_Site_L1',\n",
       " <data_types.constraintgraph.ConstraintEdge at 0x76f2e88b9090>)"
      ]
     },
     "execution_count": 154,
     "metadata": {},
     "output_type": "execute_result"
    }
   ],
   "source": [
    "rooms[\"Landing_Site\"].graph.edges.__next__()"
   ]
  },
  {
   "cell_type": "code",
   "execution_count": 170,
   "id": "f3ccf7be-a3af-409a-afa6-2dc9ba84315d",
   "metadata": {},
   "outputs": [],
   "source": [
    "del rooms[\"Kraid2\"]\n",
    "del rooms[\"Phantoon2\"]\n",
    "del rooms[\"Draygon2\"]\n",
    "del rooms[\"Ridley2\"]"
   ]
  },
  {
   "cell_type": "code",
   "execution_count": 171,
   "id": "2d5f1c04-45b0-48ce-8fdb-080c8740f219",
   "metadata": {},
   "outputs": [],
   "source": [
    "full_graph = nx.Graph()\n",
    "# Add within-room edges\n",
    "for room in rooms.values():\n",
    "    for t1, e in room.graph.edges:\n",
    "        t2 = e.terminal\n",
    "        full_graph.add_edge(t1, t2)\n",
    "# Add between-room edges\n",
    "for e1, e2 in exits.items():\n",
    "    full_graph.add_edge(e1, e2)"
   ]
  },
  {
   "cell_type": "code",
   "execution_count": 172,
   "id": "707aff2e-5946-48e5-8f0b-ec8e159a9fb9",
   "metadata": {},
   "outputs": [
    {
     "data": {
      "text/plain": [
       "['Spore Spawn', 'Botwoon', 'Crocomire', 'Bomb Torizo', 'Golden Torizo']"
      ]
     },
     "execution_count": 172,
     "metadata": {},
     "output_type": "execute_result"
    }
   ],
   "source": [
    "spoiler_graph.miniboss_rooms"
   ]
  },
  {
   "cell_type": "code",
   "execution_count": 173,
   "id": "7a301075-cbeb-48c4-adb9-e05a77e224e5",
   "metadata": {},
   "outputs": [],
   "source": [
    "boss_nodes = [\"Ridley_Ridley\", \"Kraid_Kraid\", \"Draygon_Draygon\", \"Mother_Brain_Mother_Brain\", \"Phantoon_Phantoon\"]\n",
    "miniboss_nodes = [\"Spore_Spawn_Spore_Spawn\", \"Botwoon_Botwoon\", \"Crocomire_Crocomire\", \"Bomb_Torizo_Bombs\", \"Golden_Torizo_Golden_Torizo\"]"
   ]
  },
  {
   "cell_type": "code",
   "execution_count": 189,
   "id": "afa7f832-662d-42f2-8c4d-2f065ae01098",
   "metadata": {},
   "outputs": [],
   "source": [
    "def make_spoiler_graph_full(nxg, spoiler_filename):\n",
    "    # make a set of all the rooms\n",
    "    rooms = set()\n",
    "    for a,b in nxg.edges():\n",
    "        rooms.add(a)\n",
    "        rooms.add(b)\n",
    "    dot = graphviz.Graph()\n",
    "    for room_name in rooms:\n",
    "        #node_label = room_name\n",
    "        node_label = \"\"\n",
    "        d = {}\n",
    "        if room_name == \"Landing_Site_L2\":\n",
    "            d = {\"color\": \"blue\", \"style\": \"filled\", \"shape\": \"doubleoctagon\"}\n",
    "        elif room_name in boss_nodes:\n",
    "            d = {\"color\": \"red\", \"style\": \"filled\", \"shape\": \"diamond\"}\n",
    "        elif room_name in miniboss_nodes:\n",
    "            d = {\"color\": \"green\", \"style\": \"filled\", \"shape\": \"triangle\"}\n",
    "        elif room_name == \"Statues_ET\":\n",
    "            d = {\"color\": \"yellow\", \"style\": \"filled\"}\n",
    "        elif room_name == \"Escape_4_R\":\n",
    "            d = {\"color\": \"purple\", \"style\": \"filled\"}\n",
    "        dot.node(room_name, node_label, **d)\n",
    "    for a, b in nxg.edges():\n",
    "        dot.edge(a, b)\n",
    "    dot.render(spoiler_filename + \".graph\")"
   ]
  },
  {
   "cell_type": "code",
   "execution_count": 190,
   "id": "8f47ba78-499b-43a5-96fd-1c7a0194626b",
   "metadata": {},
   "outputs": [],
   "source": [
    "make_spoiler_graph_full(full_graph, \"base_full\")"
   ]
  },
  {
   "cell_type": "code",
   "execution_count": 14,
   "id": "5ca6823c-9d7d-4ff5-a903-e70a529c1e7c",
   "metadata": {},
   "outputs": [],
   "source": [
    "# Get the node histogram"
   ]
  },
  {
   "cell_type": "code",
   "execution_count": 15,
   "id": "7540bc6a-9c99-46c4-ab10-7f694e3936de",
   "metadata": {},
   "outputs": [],
   "source": [
    "import json"
   ]
  },
  {
   "cell_type": "code",
   "execution_count": 16,
   "id": "6e0077c4-6b53-47e1-8a0c-d780bbdeb8bf",
   "metadata": {},
   "outputs": [],
   "source": [
    "import graphviz"
   ]
  },
  {
   "cell_type": "code",
   "execution_count": 197,
   "id": "1dbf8e98-7c13-47d2-96e9-f9276e69f6d5",
   "metadata": {},
   "outputs": [],
   "source": [
    "#dotpath = \"./base.graph\"\n",
    "dotpath = \"../../../roms/rando_rom.smc.graph\""
   ]
  },
  {
   "cell_type": "code",
   "execution_count": 198,
   "id": "c7f90b86-51fb-4349-abb5-f3e9c52b3b1b",
   "metadata": {},
   "outputs": [],
   "source": [
    "dot = graphviz.Source.from_file(dotpath)"
   ]
  },
  {
   "cell_type": "code",
   "execution_count": 199,
   "id": "e15c5f87-30b4-46dd-ac94-6e99556f4c35",
   "metadata": {},
   "outputs": [],
   "source": [
    "json_string = dot.pipe(\"json\").decode()"
   ]
  },
  {
   "cell_type": "code",
   "execution_count": 200,
   "id": "e8721cce-7857-4c27-9278-10e36192d720",
   "metadata": {},
   "outputs": [],
   "source": [
    "json_dict = json.loads(json_string)"
   ]
  },
  {
   "cell_type": "code",
   "execution_count": 201,
   "id": "b5b421d4-dd18-4f7d-b725-2bf364aebf56",
   "metadata": {},
   "outputs": [],
   "source": [
    "def parse_posn(p):\n",
    "    a, b = p.split(\",\")\n",
    "    return (float(a), float(b))"
   ]
  },
  {
   "cell_type": "code",
   "execution_count": 202,
   "id": "b10db9a0-a850-40bb-a178-f1650b06454d",
   "metadata": {},
   "outputs": [],
   "source": [
    "#for obj in json_dict[\"objects\"]:\n",
    "#    print(obj[\"name\"], obj[\"pos\"])\n",
    "obj_posns = {}\n",
    "for obj in json_dict[\"objects\"]:\n",
    "    obj_posns[obj[\"name\"]] = parse_posn(obj[\"pos\"])"
   ]
  },
  {
   "cell_type": "code",
   "execution_count": 203,
   "id": "e656dcf7-97f5-487f-bb31-b0e5a7e198a1",
   "metadata": {},
   "outputs": [
    {
     "data": {
      "text/plain": [
       "(3445.0, 1068.0)"
      ]
     },
     "execution_count": 203,
     "metadata": {},
     "output_type": "execute_result"
    }
   ],
   "source": [
    "obj_posns[\"Pillars\"]"
   ]
  },
  {
   "cell_type": "code",
   "execution_count": 204,
   "id": "a6a53618-ab3e-48f7-8128-546d16eddbfa",
   "metadata": {},
   "outputs": [
    {
     "data": {
      "text/plain": [
       "234"
      ]
     },
     "execution_count": 204,
     "metadata": {},
     "output_type": "execute_result"
    }
   ],
   "source": [
    "len(obj_posns)"
   ]
  },
  {
   "cell_type": "code",
   "execution_count": 205,
   "id": "b1176791-f47f-4833-a882-b14caff0eeec",
   "metadata": {},
   "outputs": [
    {
     "data": {
      "text/plain": [
       "[[1221.98, 2145.61], [1242.04, 2130.66], [1271.54, 2108.66], [1291.7, 2093.63]]"
      ]
     },
     "execution_count": 205,
     "metadata": {},
     "output_type": "execute_result"
    }
   ],
   "source": [
    "json_dict[\"edges\"][0][\"_draw_\"][1][\"points\"]"
   ]
  },
  {
   "cell_type": "code",
   "execution_count": 206,
   "id": "9544603a-2a10-4080-afeb-aa3f9696f750",
   "metadata": {},
   "outputs": [],
   "source": [
    "import pydot"
   ]
  },
  {
   "cell_type": "code",
   "execution_count": 207,
   "id": "c1a82424-9b09-4623-b472-efa634d3745f",
   "metadata": {},
   "outputs": [],
   "source": [
    "g = pydot.graph_from_dot_file(dotpath)[0]"
   ]
  },
  {
   "cell_type": "code",
   "execution_count": 208,
   "id": "dfe110c7-0ffd-4704-8d37-e9b7ddcdd557",
   "metadata": {},
   "outputs": [],
   "source": [
    "def parse_node(n_str):\n",
    "    if n_str[0] == '\"':\n",
    "        return n_str[1:-1]\n",
    "    else:\n",
    "        return n_str"
   ]
  },
  {
   "cell_type": "code",
   "execution_count": 209,
   "id": "642c312a-9fce-428c-a8d7-e748b89b6d65",
   "metadata": {
    "scrolled": true
   },
   "outputs": [],
   "source": [
    "done_edges = set()\n",
    "edges = []\n",
    "for e in g.get_edges():\n",
    "    s = parse_node(e.get_source())\n",
    "    d = parse_node(e.get_destination())\n",
    "    ## No need to include duplicate edges for the statistics\n",
    "    if (s,d) in done_edges:\n",
    "        continue\n",
    "    done_edges.add((s,d))\n",
    "    done_edges.add((d,s))\n",
    "    edges.append((s, d))\n",
    "    assert s in obj_posns, s\n",
    "    assert d in obj_posns, d"
   ]
  },
  {
   "cell_type": "code",
   "execution_count": 210,
   "id": "6538c1f8-da29-4e23-a70f-01cfdcdab302",
   "metadata": {},
   "outputs": [
    {
     "data": {
      "text/plain": [
       "268"
      ]
     },
     "execution_count": 210,
     "metadata": {},
     "output_type": "execute_result"
    }
   ],
   "source": [
    "len(edges)"
   ]
  },
  {
   "cell_type": "code",
   "execution_count": 211,
   "id": "f35a60fd-b114-4536-ab0b-32b802011105",
   "metadata": {},
   "outputs": [
    {
     "data": {
      "text/plain": [
       "234"
      ]
     },
     "execution_count": 211,
     "metadata": {},
     "output_type": "execute_result"
    }
   ],
   "source": [
    "len(set(e[0] for e in done_edges))"
   ]
  },
  {
   "cell_type": "code",
   "execution_count": 212,
   "id": "9e7449f2-4d01-4b27-b260-eef8786d7f2a",
   "metadata": {},
   "outputs": [
    {
     "data": {
      "text/plain": [
       "174"
      ]
     },
     "execution_count": 212,
     "metadata": {},
     "output_type": "execute_result"
    }
   ],
   "source": [
    "len(set([e[0] for e in edges]))"
   ]
  },
  {
   "cell_type": "code",
   "execution_count": 213,
   "id": "75c16c98-353f-4488-9761-6f77bd52052b",
   "metadata": {},
   "outputs": [],
   "source": [
    "def euc(p0, p1):\n",
    "    return ((p0[0] - p1[0])**2 + (p0[1] - p1[1])**2)**0.5"
   ]
  },
  {
   "cell_type": "code",
   "execution_count": 214,
   "id": "317a0b5f-fed6-42e2-b701-05344c970d67",
   "metadata": {},
   "outputs": [],
   "source": [
    "# Distance Histogram\n",
    "dists = []\n",
    "for e0, e1 in edges:\n",
    "    p0 = obj_posns[e0]\n",
    "    p1 = obj_posns[e1]\n",
    "    dists.append(euc(p0, p1))"
   ]
  },
  {
   "cell_type": "code",
   "execution_count": 215,
   "id": "42e21a6a-702a-42d0-b635-4f24f8a151f0",
   "metadata": {},
   "outputs": [
    {
     "data": {
      "text/plain": [
       "268"
      ]
     },
     "execution_count": 215,
     "metadata": {},
     "output_type": "execute_result"
    }
   ],
   "source": [
    "len(edges)"
   ]
  },
  {
   "cell_type": "code",
   "execution_count": 216,
   "id": "1fa3c031-592f-4e41-936f-9ad70aa9e1d9",
   "metadata": {},
   "outputs": [
    {
     "data": {
      "text/plain": [
       "343.3565977206133"
      ]
     },
     "execution_count": 216,
     "metadata": {},
     "output_type": "execute_result"
    }
   ],
   "source": [
    "# Average\n",
    "sum(dists) / len(dists)\n",
    "# Original: 272.31127241296633\n",
    "# New: 343.3565977206133"
   ]
  },
  {
   "cell_type": "code",
   "execution_count": 217,
   "id": "1fa61d9c-de13-44f3-8d65-9a167ae85100",
   "metadata": {},
   "outputs": [
    {
     "data": {
      "text/plain": [
       "(array([100.,  33.,  35.,  19.,   5.,  11.,   8.,   7.,   6.,   6.,   6.,\n",
       "          4.,   3.,   1.,   1.,   1.,   1.,   4.,   3.,   1.,   3.,   2.,\n",
       "          1.,   0.,   0.,   1.,   1.,   1.,   0.,   0.,   0.,   2.,   0.,\n",
       "          0.,   0.,   1.,   0.,   0.,   0.,   1.]),\n",
       " array([  87.        ,  142.90706479,  198.81412958,  254.72119436,\n",
       "         310.62825915,  366.53532394,  422.44238873,  478.34945351,\n",
       "         534.2565183 ,  590.16358309,  646.07064788,  701.97771266,\n",
       "         757.88477745,  813.79184224,  869.69890703,  925.60597182,\n",
       "         981.5130366 , 1037.42010139, 1093.32716618, 1149.23423097,\n",
       "        1205.14129575, 1261.04836054, 1316.95542533, 1372.86249012,\n",
       "        1428.7695549 , 1484.67661969, 1540.58368448, 1596.49074927,\n",
       "        1652.39781405, 1708.30487884, 1764.21194363, 1820.11900842,\n",
       "        1876.02607321, 1931.93313799, 1987.84020278, 2043.74726757,\n",
       "        2099.65433236, 2155.56139714, 2211.46846193, 2267.37552672,\n",
       "        2323.28259151]),\n",
       " <BarContainer object of 40 artists>)"
      ]
     },
     "execution_count": 217,
     "metadata": {},
     "output_type": "execute_result"
    },
    {
     "data": {
      "image/png": "[encoded data removed]",
      "text/plain": [
       "<Figure size 640x480 with 1 Axes>"
      ]
     },
     "metadata": {},
     "output_type": "display_data"
    }
   ],
   "source": [
    "plt.ylabel(\"Number of Edges\")\n",
    "plt.xlabel(\"Edge Length (units)\")\n",
    "plt.title(\"Histogram of Edge Lengths for Original Super Metroid Layout\")\n",
    "plt.ylim(0, 175)\n",
    "plt.xlim(0, 3500)\n",
    "plt.hist(dists, bins=40)"
   ]
  },
  {
   "cell_type": "code",
   "execution_count": 218,
   "id": "7d5a2bd5-80bb-4487-86c7-3c541cc6c043",
   "metadata": {},
   "outputs": [],
   "source": [
    "# Rebuild the graphs"
   ]
  },
  {
   "cell_type": "code",
   "execution_count": 239,
   "id": "eb668b98-012f-4b0a-a3dc-676882783f49",
   "metadata": {},
   "outputs": [
    {
     "data": {
      "text/plain": [
       "['Spore_Spawn_Spore_Spawn',\n",
       " 'Botwoon_Botwoon',\n",
       " 'Crocomire_Crocomire',\n",
       " 'Bomb_Torizo_Bombs',\n",
       " 'Golden_Torizo_Golden_Torizo']"
      ]
     },
     "execution_count": 239,
     "metadata": {},
     "output_type": "execute_result"
    }
   ],
   "source": [
    "miniboss_nodes"
   ]
  },
  {
   "cell_type": "code",
   "execution_count": 240,
   "id": "a1cb0529-79ce-4ffc-aefd-75b58eabd1d5",
   "metadata": {},
   "outputs": [],
   "source": [
    "boss_rooms = [\"Kraid\", \"Ridley\", \"Mother Brain\", \"Draygon\", \"Phantoon\"]\n",
    "miniboss_rooms = [\"Spore_Spawn\", \"Botwoon\", \"Golden Torizo\", \"Crocomire\", \"Bomb Torizo\"]"
   ]
  },
  {
   "cell_type": "code",
   "execution_count": 249,
   "id": "983bb1b0-29ef-4d38-92f7-8863c3d4b45d",
   "metadata": {},
   "outputs": [],
   "source": [
    "def make_spoiler_nx(nxg, spoiler_filename):\n",
    "    # make a set of all the rooms\n",
    "    rooms = set()\n",
    "    for a,b in nxg.edges():\n",
    "        rooms.add(a)\n",
    "        rooms.add(b)\n",
    "    dot = graphviz.Graph()\n",
    "    for room_name in rooms:\n",
    "        #print(room_name)\n",
    "        node_label = \"\"\n",
    "        d = {}\n",
    "        if room_name == \"Landing Site\":\n",
    "            d = {\"color\": \"blue\", \"style\": \"filled\", \"shape\": \"doubleoctagon\"}\n",
    "        elif room_name in boss_rooms:\n",
    "            d = {\"color\": \"red\", \"style\": \"filled\", \"shape\": \"diamond\"}\n",
    "        elif room_name in miniboss_rooms:\n",
    "            d = {\"color\": \"green\", \"style\": \"filled\", \"shape\": \"triangle\"}\n",
    "        elif room_name == \"Statues\":\n",
    "            d = {\"color\": \"yellow\", \"style\": \"filled\"}\n",
    "        elif room_name == \"Escape 4\":\n",
    "            d = {\"color\": \"purple\", \"style\": \"filled\"}\n",
    "        dot.node(room_name, node_label, **d)\n",
    "    for a, b in nxg.edges():\n",
    "        dot.edge(a, b)\n",
    "    dot.render(spoiler_filename + \".graph\")"
   ]
  },
  {
   "cell_type": "code",
   "execution_count": 250,
   "id": "28e83b2f-4aff-475e-a10f-50f2c04a277f",
   "metadata": {},
   "outputs": [],
   "source": [
    "# Compute average shortest path length"
   ]
  },
  {
   "cell_type": "code",
   "execution_count": 251,
   "id": "61317839-481d-41b0-bb22-96c409d63558",
   "metadata": {},
   "outputs": [],
   "source": [
    "def convert_pydot_to_nx(pydot):\n",
    "    g = nx.Graph()\n",
    "    for edge in pydot.get_edges():\n",
    "        s,d = (parse_node(edge.get_source()), parse_node(edge.get_destination()))\n",
    "        #print(s,d)\n",
    "        g.add_edge(s,d)\n",
    "    return g"
   ]
  },
  {
   "cell_type": "code",
   "execution_count": 252,
   "id": "5a303bb6-1bf0-4f57-8ee3-9dcca3b74314",
   "metadata": {},
   "outputs": [],
   "source": [
    "# Remove Ceres Station and Tourian, then create an edge linking Statues to Escape 4\n",
    "tourian = [\"Tourian Elevator\", \"Tourian Save\", \"Metroid 1\", \"Metroid 2\", \"Metroid 3\", \"Metroid 4\", \"Blue Hoppers\", \"RIP Torizo\", \"Metroid Skip\", \"Seaweed Room\", \"Tourian Refill\", \"Tourian Eye Door\", \"Rinka Shaft\", \"Mother Brain Save\", \"Mother Brain\", \"Escape 1\", \"Escape 2\", \"Escape 3\"]\n",
    "ceres = [\"Ceres Entrance\", \"Ceres 1\", \"Ceres 2\", \"Ceres 3\", \"Ceres 4\", \"Ceres Ridley\"]\n",
    "def fixup_graph(g):\n",
    "    for r in tourian + ceres:\n",
    "        if r in g:\n",
    "            g.remove_node(r)\n",
    "            print(\"removed\")\n",
    "    g.add_edge(\"Statues\", \"Escape 4\")"
   ]
  },
  {
   "cell_type": "code",
   "execution_count": 253,
   "id": "1bbdedf0-1d0f-4ea0-9eb0-f6d7159e24cd",
   "metadata": {},
   "outputs": [],
   "source": [
    "nxg = convert_pydot_to_nx(g)\n",
    "fixup_graph(nxg)"
   ]
  },
  {
   "cell_type": "code",
   "execution_count": 254,
   "id": "6f11f41e-5f51-414b-963d-382b138c100c",
   "metadata": {},
   "outputs": [
    {
     "data": {
      "text/plain": [
       "7.839697736693445"
      ]
     },
     "execution_count": 254,
     "metadata": {},
     "output_type": "execute_result"
    }
   ],
   "source": [
    "# 12.66 (Original)\n",
    "# 7.84 (Randomized)\n",
    "nx.average_shortest_path_length(nxg)"
   ]
  },
  {
   "cell_type": "code",
   "execution_count": 255,
   "id": "caa569ed-a2fa-4e2f-a488-646c6ec2b4fc",
   "metadata": {},
   "outputs": [],
   "source": [
    "# Redraw the graph\n",
    "make_spoiler_nx(nxg, \"rando_nx\")"
   ]
  },
  {
   "cell_type": "code",
   "execution_count": null,
   "id": "74ebe58a-e811-4cda-a716-f1ca95fce11b",
   "metadata": {},
   "outputs": [],
   "source": []
  }
 ],
 "metadata": {
  "kernelspec": {
   "display_name": "Python 3 (ipykernel)",
   "language": "python",
   "name": "python3"
  },
  "language_info": {
   "codemirror_mode": {
    "name": "ipython",
    "version": 3
   },
   "file_extension": ".py",
   "mimetype": "text/x-python",
   "name": "python",
   "nbconvert_exporter": "python",
   "pygments_lexer": "ipython3",
   "version": "3.10.12"
  }
 },
 "nbformat": 4,
 "nbformat_minor": 5
}

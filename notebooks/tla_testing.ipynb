{
 "cells": [
  {
   "cell_type": "code",
   "execution_count": 2,
   "id": "322a12e7-4579-48fc-99ac-b3c5c76da33a",
   "metadata": {},
   "outputs": [
    {
     "name": "stdout",
     "output_type": "stream",
     "text": [
      "The autoreload extension is already loaded. To reload it, use:\n",
      "  %reload_ext autoreload\n",
      "%pylab is deprecated, use %matplotlib inline and import the required libraries.\n",
      "Populating the interactive namespace from numpy and matplotlib\n"
     ]
    }
   ],
   "source": [
    "%load_ext autoreload\n",
    "%autoreload 2\n",
    "%pylab inline"
   ]
  },
  {
   "cell_type": "code",
   "execution_count": 3,
   "id": "b50302c6-0be8-4a00-ad94-2a4cbf14f4dd",
   "metadata": {},
   "outputs": [],
   "source": [
    "import sys\n",
    "sys.path.append(\"..\")"
   ]
  },
  {
   "cell_type": "code",
   "execution_count": 5,
   "id": "00649450-272f-41ed-b632-5a14fea194b8",
   "metadata": {},
   "outputs": [],
   "source": [
    "from rom_tools.rom_manager import RomManager\n",
    "from world_rando.parse_rules import parse_rules, make_level_from_room\n",
    "from world_rando.coord import Coord"
   ]
  },
  {
   "cell_type": "code",
   "execution_count": 6,
   "id": "4e22e534-7382-49e9-beca-1637ca237f10",
   "metadata": {},
   "outputs": [],
   "source": [
    "from data_types.item_set import ItemSet"
   ]
  },
  {
   "cell_type": "code",
   "execution_count": 7,
   "id": "b0f41dd9-4915-4d33-b217-745649174782",
   "metadata": {},
   "outputs": [],
   "source": [
    "manager = RomManager(\"../../roms/sm_clean.smc\", \"../../roms/sm_junk.smc\")\n",
    "obj_names = manager.parse() # slow\n",
    "header = obj_names[\"room_header_0x79e9f\"]\n",
    "level = make_level_from_room(header)"
   ]
  },
  {
   "cell_type": "code",
   "execution_count": 8,
   "id": "bedf4960-8b52-4e62-954a-b9c1bbb92db7",
   "metadata": {},
   "outputs": [
    {
     "data": {
      "image/png": "[encoded data removed]",
      "text/plain": [
       "<Figure size 1000x1000 with 1 Axes>"
      ]
     },
     "metadata": {},
     "output_type": "display_data"
    }
   ],
   "source": [
    "figure(figsize=(10,10));\n",
    "scatter(51,40)\n",
    "scatter(50,41)\n",
    "imshow(level.level.T);"
   ]
  },
  {
   "cell_type": "code",
   "execution_count": 9,
   "id": "3485e3f5-60ec-47ea-95a8-512519b19bce",
   "metadata": {},
   "outputs": [],
   "source": [
    "rules, tests = parse_rules([\"../encoding/rules/rules.yaml\"])\n",
    "start_state = tests['TestWalk'][0]\n",
    "start_state.level = level\n",
    "start_state.level.liquid_level = 256\n",
    "start_state.samus.position = Coord(50,41)"
   ]
  },
  {
   "cell_type": "code",
   "execution_count": 10,
   "id": "99051a9f-cbf1-4d7d-81b1-e1a331e2a31b",
   "metadata": {},
   "outputs": [
    {
     "data": {
      "text/plain": [
       "(c(50,41)|V: 0, H: RUN, 0|STAND|ISet([]))"
      ]
     },
     "execution_count": 10,
     "metadata": {},
     "output_type": "execute_result"
    }
   ],
   "source": [
    "start_state.samus"
   ]
  },
  {
   "cell_type": "code",
   "execution_count": 11,
   "id": "e1114a20-a2ec-40a7-84dc-301e680bbe1e",
   "metadata": {},
   "outputs": [
    {
     "name": "stdout",
     "output_type": "stream",
     "text": [
      "Applying Rule: Step\n",
      "(c(50,41)|V: 0, H: RUN, 0|STAND|ISet([]))\n",
      "Collided\n",
      "(c(50,41)|V: 0, H: RUN, 0|STAND|ISet([]))\n",
      "New:\n",
      "(c(50,41)|V: 0, H: RUN, 0|STAND|ISet([]))\n"
     ]
    }
   ],
   "source": [
    "next_state = rules[\"Step\"].apply(start_state, debug=True)[0]"
   ]
  },
  {
   "cell_type": "code",
   "execution_count": 12,
   "id": "68fb3c5e-c4a8-435f-920f-b6d4beb531bd",
   "metadata": {},
   "outputs": [],
   "source": [
    "#TODO: get SearchState.copy() working\n",
    "_, tests2 = parse_rules([\"../encoding/rules/rules.yaml\"])\n",
    "start_state2 = tests2['TestWalk'][0]\n",
    "start_state2.level = level\n",
    "start_state2.level.liquid_level = 256\n",
    "start_state2.samus.position = Coord(50,41)\n",
    "start_state2.samus.items = start_state.samus.items | ItemSet([\"MB\", \"PB\"])"
   ]
  },
  {
   "cell_type": "code",
   "execution_count": 13,
   "id": "25ee4c98-5ff9-4db5-835a-6b160231c91d",
   "metadata": {},
   "outputs": [
    {
     "name": "stdout",
     "output_type": "stream",
     "text": [
      "Applying Rule: Step\n",
      "(c(50,41)|V: 0, H: RUN, 0|STAND|ISet(['PB', 'MB']))\n",
      "New:\n",
      "(c(51,41)|V: 0, H: RUN, 0|STAND|ISet(['PB', 'MB']))\n"
     ]
    }
   ],
   "source": [
    "next_state2 = rules[\"Step\"].apply(start_state2, debug=True)[0]"
   ]
  },
  {
   "cell_type": "code",
   "execution_count": 14,
   "id": "76641039-a3ee-45b7-8d29-c25a85fa29c9",
   "metadata": {},
   "outputs": [
    {
     "data": {
      "text/plain": [
       "world_rando.rules.Velocity"
      ]
     },
     "execution_count": 14,
     "metadata": {},
     "output_type": "execute_result"
    }
   ],
   "source": [
    "type(next_state.samus.velocity)"
   ]
  },
  {
   "cell_type": "code",
   "execution_count": 15,
   "id": "4bfe383e-1cef-4378-9cde-0d6791aa59e1",
   "metadata": {},
   "outputs": [],
   "source": [
    "vf = rules[\"Step\"].state_function.vfunction"
   ]
  },
  {
   "cell_type": "code",
   "execution_count": 16,
   "id": "3a5de9df-c9cf-4fa9-bd1d-19c28df7e937",
   "metadata": {},
   "outputs": [
    {
     "data": {
      "text/plain": [
       "VClauses(domain='((vv_prev >= 0 & vv_prev <= 0 & vh_prev >= 0 & vh_prev <= 0 & (vt_prev = 1)))', vv='vv_next = 0 + 0', vh='vh_next = 0 + 0', vt='vt_next = 1')"
      ]
     },
     "execution_count": 16,
     "metadata": {},
     "output_type": "execute_result"
    }
   ],
   "source": [
    "vf.as_tla()"
   ]
  },
  {
   "cell_type": "code",
   "execution_count": 17,
   "id": "bd298f41-f4f8-4097-a5a8-73932f921ce3",
   "metadata": {},
   "outputs": [
    {
     "data": {
      "text/plain": [
       "'(vv_prev >= 0 & vv_prev <= 0 & vh_prev >= 0 & vh_prev <= 0 & (vt_prev = 1))'"
      ]
     },
     "execution_count": 17,
     "metadata": {},
     "output_type": "execute_result"
    }
   ],
   "source": [
    "vf.domain.as_tla()"
   ]
  },
  {
   "cell_type": "code",
   "execution_count": 18,
   "id": "2f0a5616-3e0d-4d1a-a80e-ac0fbed03061",
   "metadata": {},
   "outputs": [],
   "source": [
    "step = rules[\"Step\"]"
   ]
  },
  {
   "cell_type": "code",
   "execution_count": 19,
   "id": "7235b2ab-8543-4c74-9fd5-c8351d6a9a51",
   "metadata": {},
   "outputs": [
    {
     "data": {
      "text/plain": [
       "SFClauses(pos_prev='(x_prev = 50 & y_prev = 41)', pos_next='(x_next = 51 & y_next = 41)', pose_prev='pose_prev = 0', pose_next='pose_next = 0', item='items_unchanged', vel=VClauses(domain='((vv_prev >= 0 & vv_prev <= 0 & vh_prev >= 0 & vh_prev <= 0 & (vt_prev = 1)))', vv='vv_next = 0 + 0', vh='vh_next = 0 + 0', vt='vt_next = 1'))"
      ]
     },
     "execution_count": 19,
     "metadata": {},
     "output_type": "execute_result"
    }
   ],
   "source": [
    "step.state_function.as_tla(start_state.samus.position, level.items)"
   ]
  },
  {
   "cell_type": "code",
   "execution_count": 20,
   "id": "6a4a8c67-a131-4427-a978-6f4b34445d3a",
   "metadata": {},
   "outputs": [
    {
     "data": {
      "text/plain": [
       "60066000"
      ]
     },
     "execution_count": 20,
     "metadata": {},
     "output_type": "execute_result"
    }
   ],
   "source": [
    "213 * 6000 * len(rules)"
   ]
  },
  {
   "cell_type": "code",
   "execution_count": 21,
   "id": "91d3f0a8-f4c6-4f47-9b6f-0fa219e3d6c7",
   "metadata": {},
   "outputs": [],
   "source": [
    "from world_rando.rules import *"
   ]
  },
  {
   "cell_type": "code",
   "execution_count": 22,
   "id": "f330284f-e2aa-41ef-8e7d-5c056e8c7255",
   "metadata": {},
   "outputs": [
    {
     "data": {
      "text/plain": [
       "''"
      ]
     },
     "execution_count": 22,
     "metadata": {},
     "output_type": "execute_result"
    }
   ],
   "source": [
    "tla_tile_clause(level, Coord(0,0), Coord(0,0), AbstractTile.SOLID)"
   ]
  },
  {
   "cell_type": "code",
   "execution_count": 23,
   "id": "e0408b93-982b-424b-93ad-d950dfbe2ae7",
   "metadata": {},
   "outputs": [
    {
     "data": {
      "text/plain": [
       "7"
      ]
     },
     "execution_count": 23,
     "metadata": {},
     "output_type": "execute_result"
    }
   ],
   "source": [
    "get_tile(level, Coord(0,0), Coord(51,41))"
   ]
  },
  {
   "cell_type": "code",
   "execution_count": 24,
   "id": "ace2688c-e9e1-4894-be12-d61f8e41d01e",
   "metadata": {},
   "outputs": [
    {
     "data": {
      "text/plain": [
       "'(PB_prev = 1 & MB_prev = 1)'"
      ]
     },
     "execution_count": 24,
     "metadata": {},
     "output_type": "execute_result"
    }
   ],
   "source": [
    "tla_tile_clause(level, Coord(0,0), Coord(51,41), AbstractTile.AIR)"
   ]
  },
  {
   "cell_type": "code",
   "execution_count": 25,
   "id": "8088f000-617e-488a-ae2b-5dc52fe9a372",
   "metadata": {},
   "outputs": [
    {
     "data": {
      "text/plain": [
       "{<AbstractTile.SOLID: 2>: [(<world_rando.rules.VelocitySet at 0x7f3a4d331d80>,\n",
       "   ISet([]),\n",
       "   {<SamusPose.STAND: 0>,\n",
       "    <SamusPose.MORPH: 1>,\n",
       "    <SamusPose.JUMP: 2>,\n",
       "    <SamusPose.SPIN: 3>})],\n",
       " <AbstractTile.BLOCK_CRUMBLE: 10>: 'Reciprocal',\n",
       " <AbstractTile.BLOCK_SHOT: 11>: [(<world_rando.rules.VelocitySet at 0x7f3a4d331d80>,\n",
       "   ISet([]),\n",
       "   {<SamusPose.STAND: 0>,\n",
       "    <SamusPose.MORPH: 1>,\n",
       "    <SamusPose.JUMP: 2>,\n",
       "    <SamusPose.SPIN: 3>})]}"
      ]
     },
     "execution_count": 25,
     "metadata": {},
     "output_type": "execute_result"
    }
   ],
   "source": [
    "block_solid_requirements"
   ]
  },
  {
   "cell_type": "code",
   "execution_count": 26,
   "id": "8f23fbbf-7b07-49ac-a603-e6855f62fdde",
   "metadata": {},
   "outputs": [
    {
     "data": {
      "text/plain": [
       "''"
      ]
     },
     "execution_count": 26,
     "metadata": {},
     "output_type": "execute_result"
    }
   ],
   "source": [
    "p = Coord(50,41)\n",
    "o = Coord(0,0)\n",
    "samus_occupies_air_tla(p, SamusPose.STAND, o, level)"
   ]
  },
  {
   "cell_type": "code",
   "execution_count": 27,
   "id": "ce69a0f0-b43b-43d3-8dd0-6aa55ce07d23",
   "metadata": {},
   "outputs": [],
   "source": [
    "#step.as_tla(start_state.samus.position, level.items)"
   ]
  },
  {
   "cell_type": "code",
   "execution_count": 28,
   "id": "f343d1d0-d634-4bae-9d22-32dd1ba7272d",
   "metadata": {},
   "outputs": [
    {
     "data": {
      "text/plain": [
       "[<world_rando.rules.IntermediateState at 0x7f3a3f1cc700>,\n",
       " <world_rando.rules.IntermediateState at 0x7f3a3f1cc430>]"
      ]
     },
     "execution_count": 28,
     "metadata": {},
     "output_type": "execute_result"
    }
   ],
   "source": [
    "rules[\"Step\"].level_transition.state_list\n",
    "# IntermediateState\n",
    "#  pos: Coord\n",
    "#  walls: [coord]\n",
    "#  airs: [Coord]\n",
    "#  samusfunction: Option(Samusfunction)"
   ]
  },
  {
   "cell_type": "code",
   "execution_count": 29,
   "id": "d3e6571b-5aad-495f-965f-049548a2bf6a",
   "metadata": {},
   "outputs": [],
   "source": [
    "# conflict_ds: Direction -> Clause\n",
    "#   Clause describes necessary prior conditions\n",
    "# collide_outcomes -> [(Clause, Pos, Pose)]\n",
    "#   Clause describes necessary outcomes"
   ]
  },
  {
   "cell_type": "code",
   "execution_count": 30,
   "id": "fc950c4b-0c36-4063-8e10-bd74d2a3aa3d",
   "metadata": {},
   "outputs": [],
   "source": [
    "#item_c"
   ]
  },
  {
   "cell_type": "code",
   "execution_count": 31,
   "id": "dfc3ed06-5b7b-4691-a0e3-771dbeaa3668",
   "metadata": {},
   "outputs": [],
   "source": [
    "fall0 = rules[\"Fall0\"]\n",
    "fall1 = rules[\"Fall1\"]\n",
    "pp = Coord(100,41)"
   ]
  },
  {
   "cell_type": "code",
   "execution_count": 32,
   "id": "d6d2cc5a-1847-40bb-80ee-88c48f8b60d2",
   "metadata": {},
   "outputs": [
    {
     "name": "stdout",
     "output_type": "stream",
     "text": [
      "Iteration 0\n",
      "c(100,41)\n",
      "(x_next = 100 & y_next = 41)\n",
      "Walls: []\n",
      "Airs: [(c(1,0), [c(1,0), c(1,1), c(1,2)]), (c(0,1), [])]\n",
      "['', '']\n",
      "{}\n",
      "Iteration 1\n",
      "c(101,41)\n",
      "(x_next = 101 & y_next = 41)\n",
      "Walls: []\n",
      "Airs: [(c(1,0), []), (c(0,1), [])]\n",
      "['', '', '', '']\n",
      "{}\n",
      "Outcomes:\n",
      "Outcome 0: ((x_next = 101 & y_next = 41) & pose_next = 2 & ((vv_next = vv_prev + 1 | vv_prev = 1 & vv_next = 1) & vh_next = 0 + 0 & vt_next = 1))\n"
     ]
    }
   ],
   "source": [
    "fall0e = fall0.level_transition.as_tla(pp, level, debug=True)"
   ]
  },
  {
   "cell_type": "code",
   "execution_count": 33,
   "id": "163fccef-b42f-48ac-b53c-fddbbaac1e46",
   "metadata": {},
   "outputs": [],
   "source": [
    "sf_clauses = step.state_function.as_tla(p, level.items)\n",
    "pos_prev_c, pos_next_c, pose_prev_c, pose_next_c, item_c, v_clauses = sf_clauses\n",
    "domain_c, vv_c, vh_c, vt_c = v_clauses"
   ]
  },
  {
   "cell_type": "code",
   "execution_count": 34,
   "id": "fba9f0c7-dc1a-409f-993d-6ccfda65a6a6",
   "metadata": {},
   "outputs": [
    {
     "name": "stdout",
     "output_type": "stream",
     "text": [
      "Iteration 0\n",
      "c(50,41)\n",
      "(x_next = 50 & y_next = 41)\n",
      "Walls: [c(0,3)]\n",
      "Airs: [(c(1,0), [c(1,0), c(1,1), c(1,2)]), (c(0,1), [])]\n",
      "['', '']\n",
      "{c(1,0): '(~((PB_prev = 1 & MB_prev = 1)) | ~((PB_prev = 1 & MB_prev = 1)) | ~((PB_prev = 1 & MB_prev = 1)))'}\n",
      "Iteration 1\n",
      "c(51,41)\n",
      "(x_next = 51 & y_next = 41)\n",
      "Walls: [c(0,3)]\n",
      "Airs: [(c(1,0), []), (c(0,1), [])]\n",
      "['', '', '~((~((PB_prev = 1 & MB_prev = 1)) | ~((PB_prev = 1 & MB_prev = 1)) | ~((PB_prev = 1 & MB_prev = 1))))', '((PB_prev = 1 & MB_prev = 1) & (PB_prev = 1 & MB_prev = 1) & (PB_prev = 1 & MB_prev = 1))', '']\n",
      "{}\n",
      "Outcomes:\n",
      "Outcome 0: ((x_next = 50 & y_next = 41) & pose_next = 0 & (vt_next = 1 & vh_next = 0 & vv_next = 0 + 0 & (~((PB_prev = 1 & MB_prev = 1)) | ~((PB_prev = 1 & MB_prev = 1)) | ~((PB_prev = 1 & MB_prev = 1)))))\n",
      "Outcome 1: ((x_next = 51 & y_next = 41) & pose_next = 0 & (vv_next = 0 + 0 & vh_next = 0 + 0 & vt_next = 1) & (~((~((PB_prev = 1 & MB_prev = 1)) | ~((PB_prev = 1 & MB_prev = 1)) | ~((PB_prev = 1 & MB_prev = 1)))) & ((PB_prev = 1 & MB_prev = 1) & (PB_prev = 1 & MB_prev = 1) & (PB_prev = 1 & MB_prev = 1))))\n"
     ]
    }
   ],
   "source": [
    "expr = step.level_transition.as_tla(p, level, debug=True)"
   ]
  },
  {
   "cell_type": "code",
   "execution_count": 35,
   "id": "dd273fd5-23ea-413f-a0e6-39ff7d7c8d09",
   "metadata": {},
   "outputs": [
    {
     "data": {
      "text/plain": [
       "'((x_prev = 50 & y_prev = 41) & pose_prev = 0 & ((vv_prev >= 0 & vv_prev <= 0 & vh_prev >= 0 & vh_prev <= 0 & (vt_prev = 1))) & items_unchanged) & (((x_next = 50 & y_next = 41) & pose_next = 0 & (vt_next = 1 & vh_next = 0 & vv_next = 0 + 0 & (~((PB_prev = 1 & MB_prev = 1)) | ~((PB_prev = 1 & MB_prev = 1)) | ~((PB_prev = 1 & MB_prev = 1))))) | ((x_next = 51 & y_next = 41) & pose_next = 0 & (vv_next = 0 + 0 & vh_next = 0 + 0 & vt_next = 1) & (~((~((PB_prev = 1 & MB_prev = 1)) | ~((PB_prev = 1 & MB_prev = 1)) | ~((PB_prev = 1 & MB_prev = 1)))) & ((PB_prev = 1 & MB_prev = 1) & (PB_prev = 1 & MB_prev = 1) & (PB_prev = 1 & MB_prev = 1)))))'"
      ]
     },
     "execution_count": 35,
     "metadata": {},
     "output_type": "execute_result"
    }
   ],
   "source": [
    "expr"
   ]
  },
  {
   "cell_type": "code",
   "execution_count": 36,
   "id": "e4ddec21-d9bd-46c4-9cd5-07c8d80aa538",
   "metadata": {},
   "outputs": [],
   "source": [
    "from data_types.item_set import item_mapping"
   ]
  },
  {
   "cell_type": "code",
   "execution_count": 37,
   "id": "beb9255f-2cdf-4cd8-a19e-096fb1774abc",
   "metadata": {},
   "outputs": [],
   "source": [
    "rule_name_ids = {r:i for i,r in enumerate(rules.keys())}\n",
    "pose_ids = {p:i for i,p in enumerate(SamusPose)}"
   ]
  },
  {
   "cell_type": "code",
   "execution_count": 38,
   "id": "d1ec9372-1df3-4d9d-bee3-816b4990f4ab",
   "metadata": {},
   "outputs": [],
   "source": [
    "def mk_replace(context, before, after):\n",
    "    replace_dict = {}\n",
    "    for k in context.vars.keys():\n",
    "        if k.endswith(before):\n",
    "            replace_dict[k] = k.replace(before, after)\n",
    "    return replace_dict"
   ]
  },
  {
   "cell_type": "code",
   "execution_count": 39,
   "id": "4549e623-6da8-4651-9212-93fde39bcf18",
   "metadata": {},
   "outputs": [],
   "source": [
    "# ITE(tile_reach(x,y),tile_reach(x,y),node_reach(x,y)) \n",
    "# node_reach\n",
    "# TLA for node_reach"
   ]
  },
  {
   "cell_type": "code",
   "execution_count": 41,
   "id": "67118793-5160-42a5-92d7-84765c454bc2",
   "metadata": {},
   "outputs": [],
   "source": [
    "from omega.symbolic.fol import Context"
   ]
  },
  {
   "cell_type": "code",
   "execution_count": 42,
   "id": "dc7a4857-037d-4d24-8878-578ed9712849",
   "metadata": {},
   "outputs": [],
   "source": [
    "context = Context()\n",
    "context.declare(\n",
    "    room_id_prev = (0,0xffff),\n",
    "    room_id_next = (0,0xffff),\n",
    "    \n",
    "    rule = (0,len(rules.keys())-1),\n",
    "\n",
    "    x_prev = (0,level.shape[0]-1),\n",
    "    x_next = (0,level.shape[0]-1),\n",
    "\n",
    "    y_prev = (0,level.shape[1]-1),\n",
    "    y_next = (0,level.shape[1]-1),\n",
    "\n",
    "    pose_prev = (0,len(SamusPose)-1),\n",
    "    pose_next = (0,len(SamusPose)-1),\n",
    "    \n",
    "    vt_prev = (0, len(VType)),\n",
    "    vt_next = (0, len(VType)),\n",
    "    \n",
    "    vh_prev = (-30, 30),\n",
    "    vh_next = (-30, 30),\n",
    "    \n",
    "    vv_prev = (-15, 1),\n",
    "    vv_next = (-15, 1),\n",
    ")\n",
    "# Try to get a favorable variable ordering\n",
    "shared_dict = {}\n",
    "for i in item_mapping:\n",
    "    shared_dict[f\"{i}_prev\"] = (0,1)\n",
    "    shared_dict[f\"{i}_next\"] = (0,1)\n",
    "context.declare(**shared_dict)"
   ]
  },
  {
   "cell_type": "code",
   "execution_count": 43,
   "id": "48e35b4c-5979-484b-ab5b-0a91c0184589",
   "metadata": {},
   "outputs": [],
   "source": [
    "def translate_iset(itemset, fstr=\"{}\"):\n",
    "    d = {}\n",
    "    for i in item_mapping:\n",
    "        if i in itemset:\n",
    "            d[fstr.format(i)] = 1\n",
    "        #else:\n",
    "        #  d[fstr.format(i)] = 0\n",
    "    return d"
   ]
  },
  {
   "cell_type": "code",
   "execution_count": 44,
   "id": "eadaa866-6daa-47a6-b371-346872ea5bf3",
   "metadata": {},
   "outputs": [],
   "source": [
    "#context.vars"
   ]
  },
  {
   "cell_type": "code",
   "execution_count": 45,
   "id": "ecd628f9-e0d6-4bc2-8d2b-bd5dc57dbda4",
   "metadata": {},
   "outputs": [],
   "source": [
    "trans_test = context.false"
   ]
  },
  {
   "cell_type": "code",
   "execution_count": 48,
   "id": "55264f58-85c5-46c6-aad7-64027ed949a5",
   "metadata": {},
   "outputs": [
    {
     "ename": "AssertionError",
     "evalue": "\"items_unchanged\" neither var nor operator",
     "output_type": "error",
     "traceback": [
      "\u001b[0;31m---------------------------------------------------------------------------\u001b[0m",
      "\u001b[0;31mAssertionError\u001b[0m                            Traceback (most recent call last)",
      "Cell \u001b[0;32mIn[48], line 1\u001b[0m\n\u001b[0;32m----> 1\u001b[0m trans_test \u001b[38;5;241m|\u001b[39m\u001b[38;5;241m=\u001b[39m \u001b[43mcontext\u001b[49m\u001b[38;5;241;43m.\u001b[39;49m\u001b[43madd_expr\u001b[49m\u001b[43m(\u001b[49m\u001b[43mexpr\u001b[49m\u001b[43m)\u001b[49m\n",
      "File \u001b[0;32m~/p310-env/lib/python3.10/site-packages/omega/symbolic/fol.py:318\u001b[0m, in \u001b[0;36mContext.add_expr\u001b[0;34m(self, e, with_ops)\u001b[0m\n\u001b[1;32m    316\u001b[0m \u001b[38;5;28;01melse\u001b[39;00m:\n\u001b[1;32m    317\u001b[0m     defs \u001b[38;5;241m=\u001b[39m \u001b[38;5;28;01mNone\u001b[39;00m\n\u001b[0;32m--> 318\u001b[0m s \u001b[38;5;241m=\u001b[39m \u001b[43mbv\u001b[49m\u001b[38;5;241;43m.\u001b[39;49m\u001b[43mbitblast\u001b[49m\u001b[43m(\u001b[49m\u001b[43me\u001b[49m\u001b[43m,\u001b[49m\u001b[43m \u001b[49m\u001b[43mvrs\u001b[49m\u001b[38;5;241;43m=\u001b[39;49m\u001b[38;5;28;43mself\u001b[39;49m\u001b[38;5;241;43m.\u001b[39;49m\u001b[43mvars\u001b[49m\u001b[43m,\u001b[49m\u001b[43m \u001b[49m\u001b[43mdefs\u001b[49m\u001b[38;5;241;43m=\u001b[39;49m\u001b[43mdefs\u001b[49m\u001b[43m)\u001b[49m\n\u001b[1;32m    319\u001b[0m \u001b[38;5;28;01massert\u001b[39;00m stx\u001b[38;5;241m.\u001b[39misinstance_str(s), s  \u001b[38;5;66;03m# was `e` a predicate ?\u001b[39;00m\n\u001b[1;32m    320\u001b[0m \u001b[38;5;28;01mreturn\u001b[39;00m sym_bdd\u001b[38;5;241m.\u001b[39madd_expr(s, \u001b[38;5;28mself\u001b[39m\u001b[38;5;241m.\u001b[39mbdd)\n",
      "File \u001b[0;32m~/p310-env/lib/python3.10/site-packages/omega/logic/bitvector.py:48\u001b[0m, in \u001b[0;36mbitblast\u001b[0;34m(f, vrs, defs)\u001b[0m\n\u001b[1;32m     46\u001b[0m tree \u001b[38;5;241m=\u001b[39m _parser\u001b[38;5;241m.\u001b[39mparse(f)\n\u001b[1;32m     47\u001b[0m defs \u001b[38;5;241m=\u001b[39m {k: _parser\u001b[38;5;241m.\u001b[39mparse(v) \u001b[38;5;28;01mfor\u001b[39;00m k, v \u001b[38;5;129;01min\u001b[39;00m defs\u001b[38;5;241m.\u001b[39mitems()}\n\u001b[0;32m---> 48\u001b[0m \u001b[38;5;28;01mreturn\u001b[39;00m \u001b[43mtree\u001b[49m\u001b[38;5;241;43m.\u001b[39;49m\u001b[43mflatten\u001b[49m\u001b[43m(\u001b[49m\u001b[43mt\u001b[49m\u001b[38;5;241;43m=\u001b[39;49m\u001b[43mvrs\u001b[49m\u001b[43m,\u001b[49m\u001b[43m \u001b[49m\u001b[43mdefs\u001b[49m\u001b[38;5;241;43m=\u001b[39;49m\u001b[43mdefs\u001b[49m\u001b[43m)\u001b[49m\n",
      "File \u001b[0;32m~/p310-env/lib/python3.10/site-packages/omega/logic/bitvector.py:514\u001b[0m, in \u001b[0;36mNodes.Binary.flatten\u001b[0;34m(self, *arg, **kw)\u001b[0m\n\u001b[1;32m    512\u001b[0m     defs[name] \u001b[38;5;241m=\u001b[39m y\n\u001b[1;32m    513\u001b[0m     \u001b[38;5;28;01mreturn\u001b[39;00m\n\u001b[0;32m--> 514\u001b[0m x \u001b[38;5;241m=\u001b[39m \u001b[43mx\u001b[49m\u001b[38;5;241;43m.\u001b[39;49m\u001b[43mflatten\u001b[49m\u001b[43m(\u001b[49m\u001b[38;5;241;43m*\u001b[39;49m\u001b[43marg\u001b[49m\u001b[43m,\u001b[49m\u001b[43m \u001b[49m\u001b[38;5;241;43m*\u001b[39;49m\u001b[38;5;241;43m*\u001b[39;49m\u001b[43mkw\u001b[49m\u001b[43m)\u001b[49m\n\u001b[1;32m    515\u001b[0m y \u001b[38;5;241m=\u001b[39m y\u001b[38;5;241m.\u001b[39mflatten(\u001b[38;5;241m*\u001b[39marg, \u001b[38;5;241m*\u001b[39m\u001b[38;5;241m*\u001b[39mkw)\n\u001b[1;32m    516\u001b[0m \u001b[38;5;28;01mif\u001b[39;00m op \u001b[38;5;241m==\u001b[39m \u001b[38;5;124m'\u001b[39m\u001b[38;5;124m..\u001b[39m\u001b[38;5;124m'\u001b[39m:\n",
      "File \u001b[0;32m~/p310-env/lib/python3.10/site-packages/omega/logic/bitvector.py:515\u001b[0m, in \u001b[0;36mNodes.Binary.flatten\u001b[0;34m(self, *arg, **kw)\u001b[0m\n\u001b[1;32m    513\u001b[0m     \u001b[38;5;28;01mreturn\u001b[39;00m\n\u001b[1;32m    514\u001b[0m x \u001b[38;5;241m=\u001b[39m x\u001b[38;5;241m.\u001b[39mflatten(\u001b[38;5;241m*\u001b[39marg, \u001b[38;5;241m*\u001b[39m\u001b[38;5;241m*\u001b[39mkw)\n\u001b[0;32m--> 515\u001b[0m y \u001b[38;5;241m=\u001b[39m \u001b[43my\u001b[49m\u001b[38;5;241;43m.\u001b[39;49m\u001b[43mflatten\u001b[49m\u001b[43m(\u001b[49m\u001b[38;5;241;43m*\u001b[39;49m\u001b[43marg\u001b[49m\u001b[43m,\u001b[49m\u001b[43m \u001b[49m\u001b[38;5;241;43m*\u001b[39;49m\u001b[38;5;241;43m*\u001b[39;49m\u001b[43mkw\u001b[49m\u001b[43m)\u001b[49m\n\u001b[1;32m    516\u001b[0m \u001b[38;5;28;01mif\u001b[39;00m op \u001b[38;5;241m==\u001b[39m \u001b[38;5;124m'\u001b[39m\u001b[38;5;124m..\u001b[39m\u001b[38;5;124m'\u001b[39m:\n\u001b[1;32m    517\u001b[0m     \u001b[38;5;28;01mreturn\u001b[39;00m (x, y)\n",
      "File \u001b[0;32m~/p310-env/lib/python3.10/site-packages/omega/logic/bitvector.py:555\u001b[0m, in \u001b[0;36mNodes.Var.flatten\u001b[0;34m(self, prime, mem, t, defs, *arg, **kw)\u001b[0m\n\u001b[1;32m    552\u001b[0m         \u001b[38;5;28;01massert\u001b[39;00m mem \u001b[38;5;129;01mis\u001b[39;00m \u001b[38;5;28;01mNone\u001b[39;00m, mem\n\u001b[1;32m    553\u001b[0m     \u001b[38;5;28;01mreturn\u001b[39;00m \u001b[38;5;124m'\u001b[39m\u001b[38;5;132;01m{v}\u001b[39;00m\u001b[38;5;132;01m{prime}\u001b[39;00m\u001b[38;5;124m'\u001b[39m\u001b[38;5;241m.\u001b[39mformat(\n\u001b[1;32m    554\u001b[0m         v\u001b[38;5;241m=\u001b[39mname, prime\u001b[38;5;241m=\u001b[39mstx\u001b[38;5;241m.\u001b[39mPRIME \u001b[38;5;28;01mif\u001b[39;00m prime \u001b[38;5;28;01melse\u001b[39;00m \u001b[38;5;124m'\u001b[39m\u001b[38;5;124m'\u001b[39m)\n\u001b[0;32m--> 555\u001b[0m \u001b[38;5;28;01massert\u001b[39;00m name \u001b[38;5;129;01min\u001b[39;00m t, (\n\u001b[1;32m    556\u001b[0m     \u001b[38;5;124m'\u001b[39m\u001b[38;5;124m\"\u001b[39m\u001b[38;5;132;01m{name}\u001b[39;00m\u001b[38;5;124m\"\u001b[39m\u001b[38;5;124m neither var nor operator\u001b[39m\u001b[38;5;124m'\u001b[39m\u001b[38;5;241m.\u001b[39mformat(\n\u001b[1;32m    557\u001b[0m         name\u001b[38;5;241m=\u001b[39mname))\n\u001b[1;32m    558\u001b[0m \u001b[38;5;66;03m# arithmetic context\u001b[39;00m\n\u001b[1;32m    559\u001b[0m \u001b[38;5;66;03m# must be integer variable\u001b[39;00m\n\u001b[1;32m    560\u001b[0m \u001b[38;5;66;03m# a refinement occurs here automatically\u001b[39;00m\n\u001b[1;32m    561\u001b[0m bits \u001b[38;5;241m=\u001b[39m var_to_twos_complement(name, t)\n",
      "\u001b[0;31mAssertionError\u001b[0m: \"items_unchanged\" neither var nor operator"
     ]
    }
   ],
   "source": [
    "trans_test |= context.add_expr(expr)"
   ]
  },
  {
   "cell_type": "code",
   "execution_count": 49,
   "id": "c8955267-3ac6-4a68-8678-e0d7ec058728",
   "metadata": {},
   "outputs": [
    {
     "data": {
      "text/plain": [
       "0.0"
      ]
     },
     "execution_count": 49,
     "metadata": {},
     "output_type": "execute_result"
    }
   ],
   "source": [
    "trans_test.count()"
   ]
  },
  {
   "cell_type": "code",
   "execution_count": 50,
   "id": "ee58c4c9-4539-46ef-975b-c28db94cc557",
   "metadata": {},
   "outputs": [],
   "source": [
    "all_xys = [\"x_prev\", \"y_prev\", \"x_next\", \"y_next\"]\n",
    "nonxy_vars = list(filter(lambda x: x != \"x_prev\" and x != \"y_prev\", context.vars.keys()))\n",
    "nonxy_vars2 = list(filter(lambda x: x != \"x_next\" and x != \"y_next\", context.vars.keys()))\n",
    "nonxy_vars3 = list(filter(lambda x: x not in all_xys, context.vars.keys()))"
   ]
  },
  {
   "cell_type": "code",
   "execution_count": 51,
   "id": "39042da4-93e9-466c-b820-3d75c95dd1e9",
   "metadata": {},
   "outputs": [],
   "source": [
    "posns = context.exist(nonxy_vars2, trans_test)"
   ]
  },
  {
   "cell_type": "code",
   "execution_count": 52,
   "id": "ceb3982e-a6ab-468e-baf2-e38a422c015c",
   "metadata": {},
   "outputs": [],
   "source": [
    "model_posns = [(a[\"x_next\"], -a[\"y_next\"]) for a in context.pick_iter(posns)]"
   ]
  },
  {
   "cell_type": "code",
   "execution_count": 53,
   "id": "725f155e-7e98-4e9b-98a8-d80e527df4cd",
   "metadata": {},
   "outputs": [],
   "source": [
    "context.define(mk_items_unchanged())"
   ]
  },
  {
   "cell_type": "code",
   "execution_count": 54,
   "id": "90e0f5ee-242b-462f-8ce2-ecb22f47e96f",
   "metadata": {},
   "outputs": [
    {
     "data": {
      "text/plain": [
       "[]"
      ]
     },
     "execution_count": 54,
     "metadata": {},
     "output_type": "execute_result"
    }
   ],
   "source": [
    "model_posns"
   ]
  },
  {
   "cell_type": "code",
   "execution_count": 55,
   "id": "cb037ea3-fab0-42e0-a5ae-5604b9ac74fb",
   "metadata": {},
   "outputs": [],
   "source": [
    "## The big loop"
   ]
  },
  {
   "cell_type": "code",
   "execution_count": 56,
   "id": "e5649d1f-7f05-4a8a-baba-1418b17a4aa4",
   "metadata": {},
   "outputs": [],
   "source": [
    "import itertools"
   ]
  },
  {
   "cell_type": "code",
   "execution_count": 58,
   "id": "7f5fe2d2-7275-4f96-9d3c-c20faffe8a1c",
   "metadata": {},
   "outputs": [],
   "source": [
    "from tqdm.notebook import tqdm"
   ]
  },
  {
   "cell_type": "code",
   "execution_count": 59,
   "id": "4da5afff-0973-4a10-bde5-df7824043d9a",
   "metadata": {
    "tags": []
   },
   "outputs": [],
   "source": [
    "def mk_trans(room_header):\n",
    "    level = make_level_from_room(room_header)\n",
    "    trans = context.false\n",
    "    addr = int(room_header.old_address) & 0xffff\n",
    "    room_same = context.add_expr(f\"room_id_prev = {addr} & room_id_next = {addr}\")\n",
    "    for i,(x,y) in tqdm(enumerate(itertools.product(range(level.shape[0]), range(level.shape[1]))), total=level.shape[0] * level.shape[1]):\n",
    "        c = Coord(x, y)\n",
    "        for name, rule in rules.items():\n",
    "            #print(c, name)\n",
    "            expr = rule.level_transition.as_tla(c, level)\n",
    "            if expr:\n",
    "                #print(c, name)\n",
    "                #print(expr)\n",
    "                #TODO: context.define(items_unchanged)\n",
    "                #TODO: pass context to as_tla and produce a BDD\n",
    "                expr_bdd = context.add_expr(expr, with_ops=True)\n",
    "                #print(f\"Expr: {expr_bdd.count()}\")\n",
    "                #print(f\"Room Same: {room_same.count()}\")\n",
    "                #print(f\"Combined: {(expr_bdd & room_same).count()}\")\n",
    "                trans |= (expr_bdd & room_same)\n",
    "    return trans"
   ]
  },
  {
   "cell_type": "code",
   "execution_count": 60,
   "id": "01e09b6c-6bcb-4570-98f7-ff7fcd58b54d",
   "metadata": {},
   "outputs": [
    {
     "data": {
      "application/vnd.jupyter.widget-view+json": {
       "model_id": "491bdc6c7f6a4ddaa2d95aaf82f3f674",
       "version_major": 2,
       "version_minor": 0
      },
      "text/plain": [
       "  0%|          | 0/6144 [00:00<?, ?it/s]"
      ]
     },
     "metadata": {},
     "output_type": "display_data"
    }
   ],
   "source": [
    "trans = mk_trans(header)"
   ]
  },
  {
   "cell_type": "code",
   "execution_count": 62,
   "id": "78040e13-8ce3-43f8-b032-884217bb8883",
   "metadata": {},
   "outputs": [
    {
     "data": {
      "text/plain": [
       "(2070483474317312.0, 2969)"
      ]
     },
     "execution_count": 62,
     "metadata": {},
     "output_type": "execute_result"
    }
   ],
   "source": [
    "trans.count(), trans.dag_size"
   ]
  },
  {
   "cell_type": "code",
   "execution_count": 63,
   "id": "01f004ba-ad60-46f4-91c2-87023ba6b2b6",
   "metadata": {},
   "outputs": [],
   "source": [
    "posns = context.exist(nonxy_vars, trans)"
   ]
  },
  {
   "cell_type": "code",
   "execution_count": 64,
   "id": "4aed834c-ae35-4a8f-afa5-ad9e7ab64bbd",
   "metadata": {},
   "outputs": [],
   "source": [
    "model_posns = [(a[\"x_prev\"], -a[\"y_prev\"]) for a in context.pick_iter(posns)]"
   ]
  },
  {
   "cell_type": "code",
   "execution_count": 65,
   "id": "98ceeae1-3cc0-40ea-9904-09c40be33598",
   "metadata": {},
   "outputs": [
    {
     "data": {
      "image/png": "[encoded data removed]",
      "text/plain": [
       "<Figure size 1000x1000 with 1 Axes>"
      ]
     },
     "metadata": {},
     "output_type": "display_data"
    }
   ],
   "source": [
    "figure(figsize=(10,10))\n",
    "scatter(*array(model_posns).T, alpha=0.2)\n",
    "gca().set_aspect('equal');"
   ]
  },
  {
   "cell_type": "code",
   "execution_count": 66,
   "id": "8412b304-0f65-49e0-9f39-dd04f423ec6b",
   "metadata": {},
   "outputs": [
    {
     "data": {
      "text/plain": [
       "{'Step': 0,\n",
       " 'Step_hf': 1,\n",
       " 'StepUp': 2,\n",
       " 'StepUp_hf': 3,\n",
       " 'StepDown': 4,\n",
       " 'StepDown_hf': 5,\n",
       " 'Morph': 6,\n",
       " 'Unmorph': 7,\n",
       " 'MorphStep': 8,\n",
       " 'MorphStep_hf': 9,\n",
       " 'BombJump': 10,\n",
       " 'MorphFallOff': 11,\n",
       " 'MorphFallOff_hf': 12,\n",
       " 'MorphFall0': 13,\n",
       " 'MorphFall0_hf': 14,\n",
       " 'MorphFall1': 15,\n",
       " 'MorphLand': 16,\n",
       " 'GetItemMorph': 17,\n",
       " 'GetItemMorph_hf': 18,\n",
       " 'GetItem0': 19,\n",
       " 'GetItem0_hf': 20,\n",
       " 'GetItem1': 21,\n",
       " 'GetItem1_hf': 22,\n",
       " 'GetItem2': 23,\n",
       " 'GetItem2_hf': 24,\n",
       " 'GetItem0J': 25,\n",
       " 'GetItem0J_hf': 26,\n",
       " 'GetItem1J': 27,\n",
       " 'GetItem1J_hf': 28,\n",
       " 'GetItem2J': 29,\n",
       " 'GetItem2J_hf': 30,\n",
       " 'Jump': 31,\n",
       " 'Jump_hf': 32,\n",
       " 'JumpRight': 33,\n",
       " 'JumpRight_hf': 34,\n",
       " 'FallOff': 35,\n",
       " 'FallOff_hf': 36,\n",
       " 'Fall0': 37,\n",
       " 'Fall0_hf': 38,\n",
       " 'Fall1': 39,\n",
       " 'SpinFall0': 40,\n",
       " 'SpinFall0_hf': 41,\n",
       " 'SpinFall1': 42,\n",
       " 'Land': 43,\n",
       " 'Land_hf': 44,\n",
       " 'SpinLand': 45,\n",
       " 'SpinLand_hf': 46}"
      ]
     },
     "execution_count": 66,
     "metadata": {},
     "output_type": "execute_result"
    }
   ],
   "source": [
    "rule_name_ids"
   ]
  },
  {
   "cell_type": "code",
   "execution_count": 67,
   "id": "4a087bd4-55ad-403a-8e05-1900869dbaaf",
   "metadata": {},
   "outputs": [],
   "source": [
    "## Composing trans with itself\n",
    "context2 = Context()\n",
    "context2.declare(\n",
    "    room_id_prev = (0,0xffff),\n",
    "    room_id_next = (0,0xffff),\n",
    "    room_id_temp = (0,0xffff),\n",
    "\n",
    "    x_prev = (0,level.shape[0]-1),\n",
    "    x_next = (0,level.shape[0]-1),\n",
    "    x_temp = (0,level.shape[0]-1),\n",
    "\n",
    "    y_prev = (0,level.shape[1]-1),\n",
    "    y_next = (0,level.shape[1]-1),\n",
    "    y_temp = (0,level.shape[1]-1),\n",
    "\n",
    "    pose_prev = (0,len(SamusPose)-1),\n",
    "    pose_next = (0,len(SamusPose)-1),\n",
    "    pose_temp = (0,len(SamusPose)-1),\n",
    "    \n",
    "    vt_prev = (0, len(VType)),\n",
    "    vt_next = (0, len(VType)),\n",
    "    vt_temp = (0, len(VType)),\n",
    "    \n",
    "    vh_prev = (-30, 30),\n",
    "    vh_next = (-30, 30),\n",
    "    vh_temp = (-30, 30),\n",
    "    \n",
    "    vv_prev = (-15, 1),\n",
    "    vv_next = (-15, 1),\n",
    "    vv_temp = (-15, 1),\n",
    ")\n",
    "# Try to get a favorable variable ordering\n",
    "shared_dict = {}\n",
    "for i in item_mapping:\n",
    "    shared_dict[f\"{i}_prev\"] = (0,1)\n",
    "    shared_dict[f\"{i}_next\"] = (0,1)\n",
    "    shared_dict[f\"{i}_temp\"] = (0,1)\n",
    "context2.declare(**shared_dict)"
   ]
  },
  {
   "cell_type": "code",
   "execution_count": 68,
   "id": "7f142246-baed-441a-8b56-79cfb00b27a9",
   "metadata": {},
   "outputs": [],
   "source": [
    "# Project over \"rule\" since many different rules will be used in the transitive closure\n",
    "trans_norule = context.copy(context.exist([\"rule\"], trans), context2)"
   ]
  },
  {
   "cell_type": "code",
   "execution_count": 69,
   "id": "6a4a9880-94bf-4d03-ab0f-61247019abfd",
   "metadata": {},
   "outputs": [],
   "source": [
    "# Have: trans(prev, next)\n",
    "# Want: trans(temp, next)\n",
    "# Have: closure(prev, next)\n",
    "# Want: closure(prev, temp)\n",
    "prev_to_temp = mk_replace(context2, \"prev\", \"temp\")\n",
    "next_to_temp = mk_replace(context2, \"next\", \"temp\")\n",
    "temps = [k for k in context2.vars.keys() if k.endswith(\"_temp\")]"
   ]
  },
  {
   "cell_type": "code",
   "execution_count": 70,
   "id": "800a04a2-87dd-4d95-8ba7-0572cc0d302c",
   "metadata": {},
   "outputs": [],
   "source": [
    "# Iterative squaring\n",
    "def mk_closure(trans_norule):\n",
    "    n = 0\n",
    "    closure = trans_norule\n",
    "    closure_last = context2.false\n",
    "    while closure != closure_last:\n",
    "        closure_last = closure\n",
    "        closure_prev_temp = context2.let(next_to_temp, closure_last)\n",
    "        closure_temp_next = context2.let(prev_to_temp, closure_last)\n",
    "        closure |= context2.exist(temps, closure_prev_temp & closure_temp_next)\n",
    "        print(n, closure.dag_size)\n",
    "        n+=1\n",
    "    closure_square = closure\n",
    "    return closure_square"
   ]
  },
  {
   "cell_type": "code",
   "execution_count": 76,
   "id": "9c733847-0e7d-4045-8311-3e6f61207ba8",
   "metadata": {},
   "outputs": [
    {
     "name": "stdout",
     "output_type": "stream",
     "text": [
      "0 24092\n",
      "1 33340\n",
      "2 42158\n",
      "3 44505\n",
      "4 44290\n",
      "5 44981\n",
      "6 31518\n",
      "7 26507\n",
      "8 26507\n"
     ]
    }
   ],
   "source": [
    "closure = mk_closure(trans_norule)"
   ]
  },
  {
   "cell_type": "code",
   "execution_count": 77,
   "id": "ff751634-974f-4e17-b157-24284a6d5935",
   "metadata": {},
   "outputs": [],
   "source": [
    "x_expr = closure & context2.add_expr(\"x_prev = 64 & y_prev = 42 & pose_prev = 0 & MB_prev = 1 & PB_prev = 1\")\n",
    "nexts = [k for k in context2.vars.keys() if k.endswith(\"_next\")]\n",
    "prevs = [k for k in context2.vars.keys() if k.endswith(\"_prev\")]\n",
    "xx = context2.pick(context2.exist(nexts, x_expr), prevs)"
   ]
  },
  {
   "cell_type": "code",
   "execution_count": 78,
   "id": "54e1b5e2-9d52-4c83-b518-0a800fd299d6",
   "metadata": {},
   "outputs": [
    {
     "data": {
      "text/plain": [
       "{'room_id_prev': 40607,\n",
       " 'x_prev': 64,\n",
       " 'y_prev': 42,\n",
       " 'pose_prev': 0,\n",
       " 'vt_prev': 1,\n",
       " 'vh_prev': 0,\n",
       " 'vv_prev': 0,\n",
       " 'B_prev': 0,\n",
       " 'PB_prev': 1,\n",
       " 'SPB_prev': 0,\n",
       " 'S_prev': 0,\n",
       " 'M_prev': 0,\n",
       " 'G_prev': 0,\n",
       " 'SA_prev': 0,\n",
       " 'V_prev': 0,\n",
       " 'GS_prev': 0,\n",
       " 'SB_prev': 0,\n",
       " 'HJ_prev': 0,\n",
       " 'MB_prev': 1,\n",
       " 'CB_prev': 0,\n",
       " 'WB_prev': 0,\n",
       " 'E_prev': 0,\n",
       " 'PLB_prev': 0,\n",
       " 'Spazer_prev': 0,\n",
       " 'RT_prev': 0,\n",
       " 'XR_prev': 0,\n",
       " 'IB_prev': 0,\n",
       " 'SJ_prev': 0,\n",
       " 'Kraid_prev': 0,\n",
       " 'Phantoon_prev': 0,\n",
       " 'Draygon_prev': 0,\n",
       " 'Ridley_prev': 0,\n",
       " 'Botwoon_prev': 0,\n",
       " 'Spore_Spawn_prev': 0,\n",
       " 'Golden_Torizo_prev': 0,\n",
       " 'Bomb_Torizo_prev': 0,\n",
       " 'Mother_Brain_prev': 0,\n",
       " 'Crocomire_prev': 0,\n",
       " 'Ceres_Ridley_prev': 0,\n",
       " 'Drain_prev': 0,\n",
       " 'Shaktool_prev': 0,\n",
       " 'START_prev': 0,\n",
       " 'Statues_prev': 0}"
      ]
     },
     "execution_count": 78,
     "metadata": {},
     "output_type": "execute_result"
    }
   ],
   "source": [
    "xx"
   ]
  },
  {
   "cell_type": "code",
   "execution_count": 79,
   "id": "3df95cba-659b-4036-a21f-390d6556b7b7",
   "metadata": {},
   "outputs": [],
   "source": [
    "xx_bdd = context2.assign_from(xx)\n",
    "reachable = xx_bdd & closure\n",
    "reachable.count()\n",
    "model_posns = [(a[\"x_next\"], -a[\"y_next\"]) for a in context2.pick_iter(reachable)]"
   ]
  },
  {
   "cell_type": "code",
   "execution_count": 80,
   "id": "9901e8c4-abe7-4fab-95ae-adb0f583c53d",
   "metadata": {},
   "outputs": [
    {
     "data": {
      "image/png": "[encoded data removed]",
      "text/plain": [
       "<Figure size 1000x1000 with 1 Axes>"
      ]
     },
     "metadata": {},
     "output_type": "display_data"
    }
   ],
   "source": [
    "figure(figsize=(10,10))\n",
    "scatter(*array(model_posns).T, alpha=0.2)\n",
    "scatter(64,-42)\n",
    "gca().set_aspect('equal');"
   ]
  },
  {
   "cell_type": "code",
   "execution_count": 81,
   "id": "7f212df8-cf79-45aa-b6c3-7417d51db131",
   "metadata": {},
   "outputs": [
    {
     "data": {
      "text/plain": [
       "<matplotlib.collections.PathCollection at 0x7f3a3c2ff610>"
      ]
     },
     "execution_count": 81,
     "metadata": {},
     "output_type": "execute_result"
    },
    {
     "data": {
      "image/png": "[encoded data removed]",
      "text/plain": [
       "<Figure size 1000x1000 with 1 Axes>"
      ]
     },
     "metadata": {},
     "output_type": "display_data"
    }
   ],
   "source": [
    "figure(figsize=(10,10))\n",
    "imshow(level.level.T);\n",
    "scatter(64,42)"
   ]
  },
  {
   "cell_type": "code",
   "execution_count": 82,
   "id": "66235f87-b4e9-416f-8dc9-23b748d84e85",
   "metadata": {},
   "outputs": [],
   "source": [
    "#TODO: Debug falling rule"
   ]
  },
  {
   "cell_type": "code",
   "execution_count": 83,
   "id": "0d33c5e5-a352-4844-96ce-d167b2b902de",
   "metadata": {},
   "outputs": [],
   "source": [
    "construction_zone = obj_names[\"room_header_0x79e9f\"].door_list.l[1].to_room\n",
    "missiles_room = construction_zone.door_list.l[2].to_room"
   ]
  },
  {
   "cell_type": "code",
   "execution_count": 84,
   "id": "4ca4ae59-c2ef-40d9-bacc-6e82f4956f00",
   "metadata": {},
   "outputs": [
    {
     "data": {
      "text/plain": [
       "<matplotlib.image.AxesImage at 0x7f3a3c2b7430>"
      ]
     },
     "execution_count": 84,
     "metadata": {},
     "output_type": "execute_result"
    },
    {
     "data": {
      "image/png": "[encoded data removed]",
      "text/plain": [
       "<Figure size 640x480 with 1 Axes>"
      ]
     },
     "metadata": {},
     "output_type": "display_data"
    }
   ],
   "source": [
    "imshow(make_level_from_room(construction_zone).level.T)"
   ]
  },
  {
   "cell_type": "code",
   "execution_count": 85,
   "id": "fffaa02b-1d5a-4c1d-8a7f-82651ac5b8c0",
   "metadata": {},
   "outputs": [
    {
     "data": {
      "text/plain": [
       "<matplotlib.image.AxesImage at 0x7f3a3c15a890>"
      ]
     },
     "execution_count": 85,
     "metadata": {},
     "output_type": "execute_result"
    },
    {
     "data": {
      "image/png": "[encoded data removed]",
      "text/plain": [
       "<Figure size 640x480 with 1 Axes>"
      ]
     },
     "metadata": {},
     "output_type": "display_data"
    }
   ],
   "source": [
    "imshow(make_level_from_room(missiles_room).level.T)"
   ]
  },
  {
   "cell_type": "code",
   "execution_count": 86,
   "id": "2b38e437-31ac-4359-8b35-9ee9d15b39f5",
   "metadata": {},
   "outputs": [
    {
     "data": {
      "text/plain": [
       "3000"
      ]
     },
     "execution_count": 86,
     "metadata": {},
     "output_type": "execute_result"
    }
   ],
   "source": [
    "sys.getrecursionlimit()"
   ]
  },
  {
   "cell_type": "code",
   "execution_count": 87,
   "id": "ef80ef48-f279-4da0-9f4f-c98805b26ed6",
   "metadata": {
    "tags": []
   },
   "outputs": [],
   "source": [
    "#TODO: declare a context large enough that all possible door transitions work (x_prev and x_next must be within the bounds)\n",
    "with open(\"../output/tla/doors.tla\") as f:\n",
    "    s = f.read()\n",
    "    door_trans = context.add_expr(s)"
   ]
  },
  {
   "cell_type": "code",
   "execution_count": 88,
   "id": "ea3e8860-a048-4e5d-8b01-58e8c4e409c4",
   "metadata": {},
   "outputs": [
    {
     "data": {
      "text/plain": [
       "15049565405184.0"
      ]
     },
     "execution_count": 88,
     "metadata": {},
     "output_type": "execute_result"
    }
   ],
   "source": [
    "door_trans.count()"
   ]
  },
  {
   "cell_type": "code",
   "execution_count": 89,
   "id": "b07971e2-6353-490c-9c04-c140cd289a01",
   "metadata": {},
   "outputs": [],
   "source": [
    "i = context.pick_iter(context.exist(nonxy_vars3, door_trans))"
   ]
  },
  {
   "cell_type": "code",
   "execution_count": 90,
   "id": "5d4e75d3-d54f-42ca-86b9-7cbc6135686a",
   "metadata": {},
   "outputs": [],
   "source": [
    "all_doors = []\n",
    "for j in i:\n",
    "    all_doors.append(j)"
   ]
  },
  {
   "cell_type": "code",
   "execution_count": 91,
   "id": "034220e5-5127-4163-af3d-8eb9f57fd7a8",
   "metadata": {},
   "outputs": [
    {
     "data": {
      "text/plain": [
       "171"
      ]
     },
     "execution_count": 91,
     "metadata": {},
     "output_type": "execute_result"
    }
   ],
   "source": [
    "len(all_doors) # (Should be 255, but some doors are past the xy limits)"
   ]
  },
  {
   "cell_type": "code",
   "execution_count": 92,
   "id": "6168b7fe-073f-4fba-9ba2-c5e6e0ed96b3",
   "metadata": {},
   "outputs": [],
   "source": [
    "# Displaying the combined graph\n",
    "# 6144 3:31\n",
    "# 512 0:51\n",
    "# 256 0:20\n",
    "# 6912 282"
   ]
  },
  {
   "cell_type": "code",
   "execution_count": 147,
   "id": "c8c3f80c-847f-4554-94e4-1a74eca5ecaa",
   "metadata": {},
   "outputs": [],
   "source": [
    "compute_rooms = [construction_zone, missiles_room]"
   ]
  },
  {
   "cell_type": "code",
   "execution_count": 163,
   "id": "d0f52b9a-f347-461e-b298-40c8c1a10faa",
   "metadata": {},
   "outputs": [
    {
     "data": {
      "application/vnd.jupyter.widget-view+json": {
       "model_id": "1135549f099749f5881567b52df5a5fe",
       "version_major": 2,
       "version_minor": 0
      },
      "text/plain": [
       "  0%|          | 0/512 [00:00<?, ?it/s]"
      ]
     },
     "metadata": {},
     "output_type": "display_data"
    },
    {
     "data": {
      "application/vnd.jupyter.widget-view+json": {
       "model_id": "41c3ba7ec97f4f19af3127288968f3d6",
       "version_major": 2,
       "version_minor": 0
      },
      "text/plain": [
       "  0%|          | 0/256 [00:00<?, ?it/s]"
      ]
     },
     "metadata": {},
     "output_type": "display_data"
    }
   ],
   "source": [
    "transes = [mk_trans(r) for r in compute_rooms]"
   ]
  },
  {
   "cell_type": "code",
   "execution_count": 174,
   "id": "97e9f2ae-7f68-41e4-818b-be54390479e1",
   "metadata": {},
   "outputs": [],
   "source": [
    "norule_transes = [context.copy(context.exist([\"rule\"], trans), context_policy) for trans in transes]"
   ]
  },
  {
   "cell_type": "code",
   "execution_count": 175,
   "id": "9204a3bd-2b1c-4fcd-9ea4-bf61349c5124",
   "metadata": {},
   "outputs": [
    {
     "name": "stdout",
     "output_type": "stream",
     "text": [
      "0 2121 7050 4585\n",
      "1 3895 9034 8372\n",
      "2 6047 11290 12693\n",
      "3 8478 13812 17815\n",
      "4 11096 16598 23292\n",
      "5 13940 19575 28987\n",
      "6 16660 22414 35269\n",
      "7 19176 25063 41488\n",
      "8 21301 27312 47158\n",
      "9 23335 29390 52274\n",
      "10 25363 31462 57072\n",
      "11 27255 33366 61981\n",
      "12 28798 34926 66447\n",
      "13 29908 36058 70518\n",
      "14 30776 36934 73898\n",
      "15 31349 37504 76404\n",
      "16 31508 37698 78254\n",
      "17 31295 37523 79433\n",
      "18 30926 37145 80081\n",
      "19 30237 36459 80423\n",
      "20 29265 35474 80190\n",
      "21 28125 34319 79331\n",
      "22 26708 32865 77949\n",
      "23 25085 31205 76229\n",
      "24 23382 29485 73908\n",
      "25 21708 27785 71770\n",
      "26 20007 26071 69472\n",
      "27 18430 24487 67244\n",
      "28 17092 23152 65184\n",
      "29 15948 22011 63459\n",
      "30 15004 21069 62113\n",
      "31 14141 20207 60861\n",
      "32 13434 19500 59910\n",
      "33 12908 18974 59125\n",
      "34 12441 18507 58439\n",
      "35 12025 18091 57764\n",
      "36 11619 17685 57070\n",
      "37 11263 17329 56423\n",
      "38 10949 17015 55838\n",
      "39 10753 16819 55495\n",
      "40 10709 16775 55439\n",
      "41 10709 16775 55439\n",
      "0 1256 6119 2497\n",
      "1 1917 6865 3858\n",
      "2 2580 7598 5445\n",
      "3 3250 8305 7182\n",
      "4 3881 9059 8889\n",
      "5 4461 9715 10564\n",
      "6 5068 10360 12231\n",
      "7 5606 10955 13907\n",
      "8 6086 11495 15369\n",
      "9 6505 11910 16610\n",
      "10 6859 12328 17689\n",
      "11 7125 12598 18563\n",
      "12 7287 12782 19151\n",
      "13 7322 12816 19526\n",
      "14 7332 12843 19811\n",
      "15 7276 12779 19862\n",
      "16 7077 12571 19766\n",
      "17 6776 12236 19416\n",
      "18 6432 11867 18822\n",
      "19 6009 11408 18170\n",
      "20 5538 10904 17455\n",
      "21 5040 10372 16591\n",
      "22 4563 9863 15739\n",
      "23 4115 9390 14853\n",
      "24 3713 8950 14073\n",
      "25 3324 8528 13269\n",
      "26 3014 8222 12578\n",
      "27 2759 7960 12033\n",
      "28 2551 7740 11633\n",
      "29 2433 7618 11357\n",
      "30 2331 7515 11097\n",
      "31 2254 7440 10916\n",
      "32 2254 7440 10916\n"
     ]
    }
   ],
   "source": [
    "policies = [mk_policy(nrt) for nrt in norule_transes]"
   ]
  },
  {
   "cell_type": "code",
   "execution_count": 179,
   "id": "5f170710-2a0a-4dc5-b96c-336677231d9c",
   "metadata": {},
   "outputs": [],
   "source": [
    "goal_to_next = mk_replace(context_policy, \"goal\", \"next\")"
   ]
  },
  {
   "cell_type": "code",
   "execution_count": 180,
   "id": "be7815c9-6edd-42fe-b844-f1380993394f",
   "metadata": {},
   "outputs": [],
   "source": [
    "room_summary_transes = [context_policy.let(goal_to_next, context_policy.exist(nexts, p)) for p in policies]"
   ]
  },
  {
   "cell_type": "code",
   "execution_count": 184,
   "id": "94c16012-4dd8-415d-ac81-c967bec4e4f2",
   "metadata": {},
   "outputs": [],
   "source": [
    "door_trans2 = mk_door_trans_for_rooms(door_trans, compute_rooms)\n",
    "door_trans2 = context2.copy(door_trans2, context_policy)"
   ]
  },
  {
   "cell_type": "code",
   "execution_count": 182,
   "id": "c3a57aa1-b8f3-4eef-891f-b58140f87614",
   "metadata": {},
   "outputs": [],
   "source": [
    "all_trans = context_policy.false\n",
    "for trans in room_summary_transes:\n",
    "    all_trans |= trans\n",
    "all_trans |= door_trans2"
   ]
  },
  {
   "cell_type": "code",
   "execution_count": 186,
   "id": "ff52f194-76e4-467f-9019-e1404531379e",
   "metadata": {},
   "outputs": [
    {
     "name": "stdout",
     "output_type": "stream",
     "text": [
      "0 15086 19973 57976\n",
      "1 16568 23369 66241\n",
      "2 23527 30486 91797\n",
      "3 27795 35002 117547\n",
      "4 27685 34900 128948\n",
      "5 26973 34190 129516\n",
      "6 26974 34201 129619\n",
      "7 26974 34201 129619\n"
     ]
    }
   ],
   "source": [
    "global_policy = mk_policy(all_trans)"
   ]
  },
  {
   "cell_type": "code",
   "execution_count": null,
   "id": "7156fab7-826b-4ecb-b8ea-112e4d39a3b6",
   "metadata": {},
   "outputs": [],
   "source": [
    "## Find a path"
   ]
  },
  {
   "cell_type": "code",
   "execution_count": 250,
   "id": "0bd1e118-941d-4abc-99af-3f51afd9cff8",
   "metadata": {},
   "outputs": [],
   "source": [
    "task_expr = context_policy.add_expr(\"M_prev < M_goal & room_id_prev = 40721 & room_id_goal = 40721 & x_prev = 12\")\n",
    "# Concrete task\n",
    "task = context_policy.exist(nexts, global_policy & task_expr).pick()\n",
    "task_bdd = context_policy.bdd.cube(task)"
   ]
  },
  {
   "cell_type": "code",
   "execution_count": 251,
   "id": "f4e66298-5dd8-4543-8b10-e8cf37449eb6",
   "metadata": {},
   "outputs": [],
   "source": [
    "# Get a symbolic path (all optimal solutions at once)\n",
    "path = task_bdd\n",
    "for i in range(50):\n",
    "    # Path(prev, goal)\n",
    "    # path(next, goal) = exists prev st. path(prev, goal) & policy(prev, next, goal)\n",
    "    #follow_policy = context_policy.exist(prevs, path & policy)\n",
    "    follow_policy = context_policy.exist(prevs, path & global_policy)\n",
    "    path |= context_policy.let(next_to_prev, follow_policy)"
   ]
  },
  {
   "cell_type": "code",
   "execution_count": 252,
   "id": "a0987349-72b2-4dcc-a1d0-715baf4e6d6f",
   "metadata": {},
   "outputs": [
    {
     "data": {
      "text/plain": [
       "66.0"
      ]
     },
     "execution_count": 252,
     "metadata": {},
     "output_type": "execute_result"
    }
   ],
   "source": [
    "path.count()"
   ]
  },
  {
   "cell_type": "code",
   "execution_count": 253,
   "id": "9ed9bb22-25c2-4cc9-86c4-d3a75aefbbb6",
   "metadata": {},
   "outputs": [
    {
     "name": "stdout",
     "output_type": "stream",
     "text": [
      "\n",
      "{'room_id_prev': 40721, 'x_prev': 12, 'y_prev': 8, 'M_prev': 0}\n",
      "{'room_id_next': 40721, 'x_next': 0, 'y_next': 23, 'M_next': 0}\n",
      "\n",
      "{'room_id_prev': 40721, 'x_prev': 0, 'y_prev': 23, 'M_prev': 0}\n",
      "{'room_id_next': 41223, 'x_next': 15, 'y_next': 7, 'M_next': 0}\n",
      "\n",
      "{'room_id_prev': 41223, 'x_prev': 15, 'y_prev': 7, 'M_prev': 0}\n",
      "{'room_id_next': 41223, 'x_next': 15, 'y_next': 7, 'M_next': 1}\n",
      "\n",
      "{'room_id_prev': 41223, 'x_prev': 15, 'y_prev': 7, 'M_prev': 1}\n",
      "{'room_id_next': 40721, 'x_next': 0, 'y_next': 23, 'M_next': 1}\n"
     ]
    }
   ],
   "source": [
    "keep_vars = [\"x_prev\", \"y_prev\", \"room_id_prev\", \"x_next\", \"y_next\", \"room_id_next\", \"M_prev\", \"M_next\"]\n",
    "exist_vars = list(filter(lambda x: x not in keep_vars, context_policy.vars.keys()))\n",
    "current_state = context_policy.exist(goals, task_bdd)\n",
    "goal_bdd = context_policy.exist(prevs, task_bdd)\n",
    "while True:\n",
    "    next_state_bdd = context_policy.assign_from(context_policy.pick(context_policy.exist(prevs, current_state & global_policy & goal_bdd)))\n",
    "    print()\n",
    "    print(context_policy.pick(context_policy.exist(exist_vars, current_state)))\n",
    "    print(context_policy.pick(context_policy.exist(exist_vars, next_state_bdd)))\n",
    "    current_state = context_policy.let(next_to_prev, next_state_bdd)\n",
    "    if (goal_satisfied & next_state_bdd).count() > 0:\n",
    "        break\n",
    "    #TODO Find the within-room path for each step\n",
    "    #TODO Combine tile-level within-rooms with global policy\n",
    "    # Granularity var\n",
    "    # Granularity = 0 & global_policy\n",
    "    # Granularity = 1 & [local_policy]\n",
    "    # low-level paths with Granularity = 1 & all_policy & current_state & next_state_bdd"
   ]
  },
  {
   "cell_type": "code",
   "execution_count": 224,
   "id": "d9308f96-a628-44f3-9712-84eaed963ab0",
   "metadata": {},
   "outputs": [
    {
     "ename": "KeyError",
     "evalue": "'room_id_next'",
     "output_type": "error",
     "traceback": [
      "\u001b[0;31m---------------------------------------------------------------------------\u001b[0m",
      "\u001b[0;31mKeyError\u001b[0m                                  Traceback (most recent call last)",
      "Cell \u001b[0;32mIn[224], line 1\u001b[0m\n\u001b[0;32m----> 1\u001b[0m pp \u001b[38;5;241m=\u001b[39m \u001b[43mget_all_posns\u001b[49m\u001b[43m(\u001b[49m\u001b[43mpath\u001b[49m\u001b[43m,\u001b[49m\u001b[43m \u001b[49m\u001b[43maddr_offsets\u001b[49m\u001b[43m)\u001b[49m\n\u001b[1;32m      2\u001b[0m \u001b[38;5;66;03m#pp = get_all_posns(construction_trans, addr_offsets)\u001b[39;00m\n\u001b[1;32m      3\u001b[0m figure(figsize\u001b[38;5;241m=\u001b[39m(\u001b[38;5;241m10\u001b[39m,\u001b[38;5;241m10\u001b[39m))\n",
      "Cell \u001b[0;32mIn[223], line 24\u001b[0m, in \u001b[0;36mget_all_posns\u001b[0;34m(all_trans, addr_offsets)\u001b[0m\n\u001b[1;32m     22\u001b[0m     offset \u001b[38;5;241m=\u001b[39m addr_offsets[a[\u001b[38;5;124m\"\u001b[39m\u001b[38;5;124mroom_id_prev\u001b[39m\u001b[38;5;124m\"\u001b[39m]]\n\u001b[1;32m     23\u001b[0m     model_posns\u001b[38;5;241m.\u001b[39mappend((a[\u001b[38;5;124m\"\u001b[39m\u001b[38;5;124mx_prev\u001b[39m\u001b[38;5;124m\"\u001b[39m] \u001b[38;5;241m+\u001b[39m offset\u001b[38;5;241m.\u001b[39mx, \u001b[38;5;241m-\u001b[39ma[\u001b[38;5;124m\"\u001b[39m\u001b[38;5;124my_prev\u001b[39m\u001b[38;5;124m\"\u001b[39m] \u001b[38;5;241m-\u001b[39m offset\u001b[38;5;241m.\u001b[39my))\n\u001b[0;32m---> 24\u001b[0m     offset \u001b[38;5;241m=\u001b[39m addr_offsets[\u001b[43ma\u001b[49m\u001b[43m[\u001b[49m\u001b[38;5;124;43m\"\u001b[39;49m\u001b[38;5;124;43mroom_id_next\u001b[39;49m\u001b[38;5;124;43m\"\u001b[39;49m\u001b[43m]\u001b[49m]\n\u001b[1;32m     25\u001b[0m     model_posns\u001b[38;5;241m.\u001b[39mappend((a[\u001b[38;5;124m\"\u001b[39m\u001b[38;5;124mx_next\u001b[39m\u001b[38;5;124m\"\u001b[39m] \u001b[38;5;241m+\u001b[39m offset\u001b[38;5;241m.\u001b[39mx, \u001b[38;5;241m-\u001b[39ma[\u001b[38;5;124m\"\u001b[39m\u001b[38;5;124my_next\u001b[39m\u001b[38;5;124m\"\u001b[39m] \u001b[38;5;241m-\u001b[39m offset\u001b[38;5;241m.\u001b[39my))\n\u001b[1;32m     26\u001b[0m \u001b[38;5;28;01mreturn\u001b[39;00m model_posns\n",
      "\u001b[0;31mKeyError\u001b[0m: 'room_id_next'"
     ]
    }
   ],
   "source": [
    "pp = get_all_posns(path, addr_offsets)\n",
    "#pp = get_all_posns(construction_trans, addr_offsets)\n",
    "figure(figsize=(10,10))\n",
    "scatter(*array(pp).T)\n",
    "gca().set_aspect('equal');"
   ]
  },
  {
   "cell_type": "code",
   "execution_count": 216,
   "id": "aedeb2e8-ac15-45be-8030-b521afd9b7d9",
   "metadata": {},
   "outputs": [
    {
     "data": {
      "text/plain": [
       "[(463, -647), (464, -647)]"
      ]
     },
     "execution_count": 216,
     "metadata": {},
     "output_type": "execute_result"
    }
   ],
   "source": [
    "pp"
   ]
  },
  {
   "cell_type": "code",
   "execution_count": 166,
   "id": "74a06cba-3ebd-4c9b-8e73-8b1ba0ae3ff2",
   "metadata": {},
   "outputs": [],
   "source": [
    "#closures = [mk_closure(nrt) for nrt in norule_transes]"
   ]
  },
  {
   "cell_type": "code",
   "execution_count": null,
   "id": "3cd29787-f198-4b30-8af7-e97ead61f9ca",
   "metadata": {},
   "outputs": [],
   "source": [
    "construction_trans = transes[0]\n",
    "missiles_trans = transes[1]"
   ]
  },
  {
   "cell_type": "code",
   "execution_count": 151,
   "id": "bb4e4117-e56a-41eb-899d-641653c7e3b4",
   "metadata": {},
   "outputs": [],
   "source": [
    "def room_addr_tla(room_header):\n",
    "    return f\"room_id_prev = {int(room_header.old_address) & 0xffff}\"\n",
    "\n",
    "# Restrict door_trans a certain set of rooms\n",
    "def mk_door_trans_for_rooms(door_trans, rooms):\n",
    "    room_restriction = context.add_expr(\" | \".join([room_addr_tla(r) for r in rooms]))\n",
    "    return door_trans & room_restriction"
   ]
  },
  {
   "cell_type": "code",
   "execution_count": 152,
   "id": "ecb356d6-d458-491a-aff9-8825b6309611",
   "metadata": {},
   "outputs": [],
   "source": [
    "door_trans2 = mk_door_trans_for_rooms(door_trans, compute_rooms)"
   ]
  },
  {
   "cell_type": "code",
   "execution_count": 154,
   "id": "d633bd83-19e5-4f27-ab97-21918b6e4365",
   "metadata": {},
   "outputs": [],
   "source": [
    "all_trans = context.false\n",
    "for trans in transes:\n",
    "    all_trans |= trans\n",
    "all_trans |= door_trans2"
   ]
  },
  {
   "cell_type": "code",
   "execution_count": 155,
   "id": "fb254b03-2ae5-4098-93bb-aefdad8ff53a",
   "metadata": {},
   "outputs": [
    {
     "data": {
      "text/plain": [
       "5.902967936313385e+20"
      ]
     },
     "execution_count": 155,
     "metadata": {},
     "output_type": "execute_result"
    }
   ],
   "source": [
    "all_trans.count()"
   ]
  },
  {
   "cell_type": "code",
   "execution_count": 156,
   "id": "f11bc96f-6442-41ee-a9f7-e160b98f77a3",
   "metadata": {},
   "outputs": [],
   "source": [
    "from abstraction_validation.abstractify import area_offsets"
   ]
  },
  {
   "cell_type": "code",
   "execution_count": 157,
   "id": "5e3ecb36-f8b9-4264-b8bb-0fb29295086f",
   "metadata": {},
   "outputs": [],
   "source": [
    "def get_room_offset(room_header):\n",
    "    area_pos = area_offsets[room_header.area_index]\n",
    "    room_map_pos = Coord(room_header.map_x, room_header.map_y)\n",
    "    return (area_pos + room_map_pos).scale(16)"
   ]
  },
  {
   "cell_type": "code",
   "execution_count": 158,
   "id": "fd818e33-2584-46ff-b80d-edbd49275166",
   "metadata": {},
   "outputs": [],
   "source": [
    "offsets = [get_room_offset(r) for r in compute_rooms]"
   ]
  },
  {
   "cell_type": "code",
   "execution_count": 159,
   "id": "ed99a3f4-2e29-44c2-8702-af38bbad46c5",
   "metadata": {},
   "outputs": [],
   "source": [
    "addr_offsets = {int(r.old_address) & 0xffff: get_room_offset(r) for r in compute_rooms} "
   ]
  },
  {
   "cell_type": "code",
   "execution_count": 223,
   "id": "aa48192d-b826-484d-a177-1605da1a6332",
   "metadata": {},
   "outputs": [],
   "source": [
    "# def get_all_posns(compute_rooms):\n",
    "#     all_posns = []\n",
    "#     for room in compute_rooms:\n",
    "#         offset = get_room_offset(room)\n",
    "#         print(offset)\n",
    "#         print(room_addr_tla(room))\n",
    "#         bb = all_trans & context.add_expr(room_addr_tla(room))\n",
    "#         posns = context.exist(nonxy_vars, bb)\n",
    "#         model_posns = [(a[\"x_prev\"] + offset.x, -a[\"y_prev\"] - offset.y) for a in context.pick_iter(posns)]\n",
    "#         all_posns.extend(model_posns)\n",
    "#     return all_posns\n",
    "\n",
    "keep_vars = [\"x_prev\", \"y_prev\", \"room_id_prev\", \"x_next\", \"y_next\", \"room_id_next\"]\n",
    "exist_vars = list(filter(lambda x: x not in keep_vars, context_policy.vars.keys()))\n",
    "\n",
    "def get_all_posns(all_trans, addr_offsets):\n",
    "    all_posns = []\n",
    "    #context = all_trans.manager\n",
    "    posns = context_policy.exist(exist_vars, all_trans)\n",
    "    model_posns = []\n",
    "    for a in context_policy.pick_iter(posns):\n",
    "        offset = addr_offsets[a[\"room_id_prev\"]]\n",
    "        model_posns.append((a[\"x_prev\"] + offset.x, -a[\"y_prev\"] - offset.y))\n",
    "        offset = addr_offsets[a[\"room_id_next\"]]\n",
    "        model_posns.append((a[\"x_next\"] + offset.x, -a[\"y_next\"] - offset.y))\n",
    "    return model_posns"
   ]
  },
  {
   "cell_type": "code",
   "execution_count": 161,
   "id": "f3368afd-1e7b-42e8-b365-d983536cbcc9",
   "metadata": {},
   "outputs": [
    {
     "data": {
      "image/png": "[encoded data removed]",
      "text/plain": [
       "<Figure size 1000x1000 with 1 Axes>"
      ]
     },
     "metadata": {},
     "output_type": "display_data"
    }
   ],
   "source": [
    "pp = get_all_posns(all_trans, addr_offsets)\n",
    "#pp = get_all_posns(construction_trans, addr_offsets)\n",
    "figure(figsize=(10,10))\n",
    "scatter(*array(pp).T)\n",
    "gca().set_aspect('equal');"
   ]
  },
  {
   "cell_type": "code",
   "execution_count": 86,
   "id": "a9048473-3074-4faf-b9ac-5d8a8071ef4c",
   "metadata": {},
   "outputs": [
    {
     "data": {
      "text/plain": [
       "{'x_text': '( x_prev = 7 )', 'x_text2': '( x_prev = 7 )'}"
      ]
     },
     "execution_count": 86,
     "metadata": {},
     "output_type": "execute_result"
    }
   ],
   "source": [
    "context.op"
   ]
  },
  {
   "cell_type": "code",
   "execution_count": 87,
   "id": "4d7b7420-029b-46d7-baea-febb2b13c563",
   "metadata": {},
   "outputs": [
    {
     "data": {
      "text/plain": [
       "<dd.autoref.Function at 0x7f70043cadf0>"
      ]
     },
     "execution_count": 87,
     "metadata": {},
     "output_type": "execute_result"
    }
   ],
   "source": [
    "context.add_expr(\"x_text\", with_ops=True)"
   ]
  },
  {
   "cell_type": "code",
   "execution_count": 94,
   "id": "45fe8e38-0df5-45fc-b838-b82f4311e422",
   "metadata": {},
   "outputs": [],
   "source": [
    "## Policies"
   ]
  },
  {
   "cell_type": "code",
   "execution_count": 98,
   "id": "51c4caa0-36ea-4dc7-848f-30a7cba4d1d7",
   "metadata": {},
   "outputs": [],
   "source": [
    "## Composing trans with itself\n",
    "context_policy = Context()\n",
    "context_policy.declare(\n",
    "    room_id_prev = (0,0xffff),\n",
    "    room_id_next = (0,0xffff),\n",
    "    room_id_goal = (0,0xffff),\n",
    "\n",
    "    x_prev = (0,level.shape[0]-1),\n",
    "    x_next = (0,level.shape[0]-1),\n",
    "    x_goal = (0,level.shape[0]-1),\n",
    "\n",
    "    y_prev = (0,level.shape[1]-1),\n",
    "    y_next = (0,level.shape[1]-1),\n",
    "    y_goal = (0,level.shape[1]-1),\n",
    "\n",
    "    pose_prev = (0,len(SamusPose)-1),\n",
    "    pose_next = (0,len(SamusPose)-1),\n",
    "    pose_goal = (0,len(SamusPose)-1),\n",
    "    \n",
    "    vt_prev = (0, len(VType)),\n",
    "    vt_next = (0, len(VType)),\n",
    "    vt_goal = (0, len(VType)),\n",
    "    \n",
    "    vh_prev = (-30, 30),\n",
    "    vh_next = (-30, 30),\n",
    "    vh_goal = (-30, 30),\n",
    "    \n",
    "    vv_prev = (-15, 1),\n",
    "    vv_next = (-15, 1),\n",
    "    vv_goal = (-15, 1),\n",
    ")\n",
    "# Try to get a favorable variable ordering\n",
    "shared_dict = {}\n",
    "for i in item_mapping:\n",
    "    shared_dict[f\"{i}_prev\"] = (0,1)\n",
    "    shared_dict[f\"{i}_next\"] = (0,1)\n",
    "    shared_dict[f\"{i}_goal\"] = (0,1)\n",
    "context_policy.declare(**shared_dict)"
   ]
  },
  {
   "cell_type": "code",
   "execution_count": 99,
   "id": "e7a04518-06ab-487e-a794-4d18bf91413c",
   "metadata": {},
   "outputs": [],
   "source": [
    "# Project over \"rule\" since many different rules will be used in the transitive closure\n",
    "trans_policy = context.copy(context.exist([\"rule\"], trans), context_policy)"
   ]
  },
  {
   "cell_type": "code",
   "execution_count": 100,
   "id": "a44261ff-748d-41c2-aad5-a971546d977a",
   "metadata": {},
   "outputs": [],
   "source": [
    "nexts = [k for k in context_policy.vars.keys() if k.endswith(\"_next\")]\n",
    "prevs = [k for k in context_policy.vars.keys() if k.endswith(\"_prev\")]\n",
    "goals = [k for k in context_policy.vars.keys() if k.endswith(\"_goal\")]"
   ]
  },
  {
   "cell_type": "code",
   "execution_count": 101,
   "id": "0af25400-24fd-4a5f-97b6-94ae10fcc914",
   "metadata": {},
   "outputs": [],
   "source": [
    "goal_satisfied = context_policy.true\n",
    "for v1, v2 in zip(nexts, goals):\n",
    "    sat = context_policy.add_expr(f\"{v1} = {v2}\")\n",
    "    #print(sat.dag_size)\n",
    "    #print(goal_satisfied.dag_size)\n",
    "    goal_satisfied &= sat"
   ]
  },
  {
   "cell_type": "code",
   "execution_count": 172,
   "id": "758296dc-3e3f-4f13-9857-cd25a9e528ce",
   "metadata": {},
   "outputs": [],
   "source": [
    "# covered = goal_satisfied\n",
    "# while covered keeps changing:\n",
    "#   covered |= exist prev s.t. covered(next, goal) and trans(prev, next)\n",
    "def mk_policy(trans_norule):\n",
    "    prev_to_next = mk_replace(context_policy, \"prev\", \"next\")\n",
    "    next_to_prev = mk_replace(context_policy, \"next\", \"prev\")\n",
    "    n = 0\n",
    "    # prev, next, goal\n",
    "    policy = context_policy.false\n",
    "    covered = goal_satisfied\n",
    "    covered_last = context_policy.false\n",
    "    while covered != covered_last:\n",
    "        # States with edges into a covered state\n",
    "        covered_last = covered\n",
    "        covered_temp = context_policy.exist(nexts, trans_norule & covered)\n",
    "        covered_temp = context_policy.let(prev_to_next, covered_temp)\n",
    "        # policy(prev, next, goal) = trans(prev, next) & covered(next, goal) & ~covered(prev, goal)\n",
    "        covered_prev_goal = context_policy.let(next_to_prev, covered)\n",
    "        policy |= trans_norule & covered & ~covered_prev_goal\n",
    "        # Find a state in covered that the fringe state transitions to\n",
    "        covered |= covered_temp\n",
    "        print(n, covered_temp.dag_size, covered.dag_size, policy.dag_size)\n",
    "        n += 1\n",
    "    return policy"
   ]
  },
  {
   "cell_type": "code",
   "execution_count": 104,
   "id": "55957f3f-d538-46b1-85a9-5c0307074d69",
   "metadata": {},
   "outputs": [
    {
     "name": "stdout",
     "output_type": "stream",
     "text": [
      "0 2481 3141 4083\n",
      "1 4403 5119 8682\n",
      "2 6810 7536 14858\n",
      "3 10172 10958 23688\n",
      "4 13598 14719 31162\n",
      "5 17610 18838 41711\n",
      "6 21118 23205 51865\n",
      "7 25112 27289 62871\n",
      "8 29165 31413 74122\n",
      "9 32790 36026 68944\n",
      "10 36368 39636 77153\n",
      "11 39593 42858 85137\n",
      "12 42569 45833 92636\n",
      "13 45192 48460 99664\n",
      "14 47588 50857 106341\n",
      "15 49779 53033 112514\n",
      "16 51776 55021 118188\n",
      "17 53661 56905 123072\n",
      "18 55403 58653 127458\n",
      "19 49642 56153 110498\n",
      "20 50630 57136 113036\n",
      "21 51497 57996 115384\n",
      "22 52424 58922 117711\n",
      "23 53289 59793 119929\n",
      "24 54221 60736 122156\n",
      "25 55078 61598 124306\n",
      "26 55680 62208 125900\n",
      "27 56323 62854 127328\n",
      "28 56942 63460 128874\n",
      "29 57623 64138 130513\n",
      "30 58261 64760 132098\n",
      "31 58890 65389 133594\n",
      "32 59566 66069 135099\n",
      "33 60214 66720 136563\n",
      "34 60782 67287 137787\n",
      "35 61164 67671 138743\n",
      "36 61495 68026 139544\n",
      "37 61887 68463 140500\n",
      "38 62220 68836 141331\n",
      "39 62525 69178 142360\n",
      "40 62885 69539 143429\n",
      "41 63254 69923 144416\n",
      "42 63664 70352 145435\n",
      "43 63803 70496 146252\n",
      "44 63759 70473 146998\n",
      "45 63745 70483 147575\n",
      "46 63599 70354 148130\n",
      "47 63486 70218 148436\n",
      "48 63378 70070 148543\n",
      "49 63240 69933 148546\n",
      "50 62964 69652 148547\n",
      "51 62882 69576 148786\n",
      "52 62844 69545 149212\n",
      "53 62945 69675 149894\n",
      "54 63063 69799 150427\n",
      "55 62964 69710 150740\n",
      "56 62763 69515 150694\n",
      "57 62755 69503 150735\n",
      "58 62635 69352 150761\n",
      "59 62447 69126 150704\n",
      "60 62252 68888 150497\n",
      "61 61902 68523 150128\n",
      "62 61490 68106 149648\n",
      "63 61021 67658 149101\n",
      "64 60590 67241 148622\n",
      "65 60138 66813 148284\n",
      "66 59608 66297 147615\n",
      "67 59116 65836 147063\n",
      "68 58596 65324 146475\n",
      "69 58170 64909 145922\n",
      "70 57790 64528 145321\n",
      "71 57430 64193 144741\n",
      "72 57059 63812 144156\n",
      "73 56705 63480 143704\n",
      "74 56433 63184 143293\n",
      "75 56102 62878 142988\n",
      "76 55934 62682 142797\n",
      "77 55755 62524 142724\n",
      "78 55503 62246 142544\n",
      "79 55132 61899 142283\n",
      "80 54780 61521 141979\n",
      "81 54297 61063 141344\n",
      "82 53866 60602 140652\n",
      "83 53298 60060 139905\n",
      "84 52799 59535 139206\n",
      "85 52263 59025 138448\n",
      "86 51756 58492 137677\n",
      "87 51217 57976 136804\n",
      "88 50709 57442 135956\n",
      "89 50062 56821 134990\n",
      "90 49415 56162 134087\n",
      "91 48889 55652 133219\n",
      "92 48340 55082 132351\n",
      "93 47882 54644 131595\n",
      "94 47395 54129 130876\n",
      "95 46931 53676 130026\n",
      "96 46482 53201 129326\n",
      "97 45979 52715 128558\n",
      "98 45578 52293 127900\n",
      "99 45213 51943 127273\n",
      "100 44799 51510 126426\n",
      "101 44278 51001 125572\n",
      "102 43825 50537 124658\n",
      "103 43358 50071 123843\n",
      "104 42768 49461 122924\n",
      "105 42066 48773 121693\n",
      "106 41486 48188 120603\n",
      "107 41011 47722 119804\n",
      "108 40519 47207 119031\n",
      "109 40068 46768 118210\n",
      "110 39645 46332 117378\n",
      "111 39170 45865 116597\n",
      "112 38755 45426 115925\n",
      "113 38421 45114 115309\n",
      "114 38233 44911 115027\n",
      "115 37931 44612 114658\n",
      "116 37684 44333 114374\n",
      "117 37333 43983 113874\n",
      "118 37033 43661 113346\n",
      "119 36619 43235 112809\n",
      "120 36273 42844 112234\n",
      "121 35904 42487 111687\n",
      "122 35535 42076 111120\n",
      "123 35269 41818 110734\n",
      "124 35098 41611 110500\n",
      "125 34801 41311 110118\n",
      "126 34471 40967 109710\n",
      "127 34159 40637 109248\n",
      "128 33758 40244 108647\n",
      "129 33428 39906 107971\n",
      "130 33120 39609 107250\n",
      "131 32826 39299 106607\n",
      "132 32401 38863 105821\n",
      "133 31953 38410 105030\n",
      "134 31477 37934 104214\n",
      "135 30951 37418 103411\n",
      "136 30359 36845 102483\n",
      "137 29847 36353 101620\n",
      "138 29318 35807 100703\n",
      "139 28755 35225 99638\n",
      "140 28228 34689 98695\n",
      "141 27799 34262 97923\n",
      "142 27388 33852 97159\n",
      "143 26927 33394 96397\n",
      "144 26402 32869 95446\n",
      "145 25919 32386 94493\n",
      "146 25465 31932 93649\n",
      "147 25029 31496 92854\n",
      "148 24546 31013 92017\n",
      "149 24121 30588 91236\n",
      "150 23800 30267 90655\n",
      "151 23530 29997 90158\n",
      "152 23264 29731 89712\n",
      "153 23028 29495 89289\n",
      "154 22820 29287 88881\n",
      "155 22605 29072 88469\n",
      "156 22401 28868 88086\n",
      "157 22214 28681 87745\n",
      "158 22021 28488 87438\n",
      "159 21866 28333 87158\n",
      "160 21735 28202 86941\n",
      "161 21666 28133 86809\n",
      "162 21626 28093 86723\n",
      "163 21606 28073 86676\n",
      "164 21606 28073 86676\n"
     ]
    }
   ],
   "source": [
    "policy = mk_policy(trans_policy)"
   ]
  },
  {
   "cell_type": "code",
   "execution_count": 105,
   "id": "523dcd56-875f-4659-bead-b5961636eda4",
   "metadata": {},
   "outputs": [],
   "source": [
    "nonxy_vars = list(filter(lambda x: x != \"x_next\" and x != \"y_next\", context_policy.vars.keys()))"
   ]
  },
  {
   "cell_type": "code",
   "execution_count": null,
   "id": "8571d9ad-b376-438a-a8e1-f9524ccba1a1",
   "metadata": {},
   "outputs": [],
   "source": [
    "policy_posns = context_policy.exist(nonxy_vars, trans_policy)"
   ]
  },
  {
   "cell_type": "code",
   "execution_count": 132,
   "id": "c316e9d5-85fb-4b66-8690-8c5e0954c30e",
   "metadata": {},
   "outputs": [],
   "source": [
    "policy_posns = [(a[\"x_next\"], -a[\"y_next\"]) for a in context_policy.pick_iter(policy_posns)]"
   ]
  },
  {
   "cell_type": "code",
   "execution_count": 145,
   "id": "d30d0a26-fd82-4565-b290-c588a5de2866",
   "metadata": {},
   "outputs": [],
   "source": [
    "## Determinizing Policy"
   ]
  },
  {
   "cell_type": "code",
   "execution_count": 107,
   "id": "c51adc44-07c1-46c5-91cf-3cd5f6ac7cb7",
   "metadata": {},
   "outputs": [],
   "source": [
    "from omega.symbolic.functions import make_functions"
   ]
  },
  {
   "cell_type": "code",
   "execution_count": 114,
   "id": "c311dbd1-14c2-4cb3-9c99-867c6c207b00",
   "metadata": {},
   "outputs": [],
   "source": [
    "bits = context_policy.exist(prevs + goals, policy).support"
   ]
  },
  {
   "cell_type": "code",
   "execution_count": 117,
   "id": "8ad0f83b-29cd-4ec8-aa34-ba1b355aa7dd",
   "metadata": {},
   "outputs": [],
   "source": [
    "fns = make_functions(policy, bits, policy.bdd)\n",
    "deterministic_policy = context_policy.bdd.add_expr(f\"&\".join([f\"({k} <-> {v['function']})\" for k,v in fns.items()]))"
   ]
  },
  {
   "cell_type": "code",
   "execution_count": 125,
   "id": "2ed65b6e-de14-4aee-af7f-5ea91f52a692",
   "metadata": {},
   "outputs": [],
   "source": [
    "start_expr = context_policy.add_expr(\"x_prev = 64 & y_prev = 42 & MB_prev = 0 & pose_prev = 0\")"
   ]
  },
  {
   "cell_type": "code",
   "execution_count": 126,
   "id": "d5a098e4-82da-48f6-9a66-3aeb335e5749",
   "metadata": {},
   "outputs": [],
   "source": [
    "goal_expr = context_policy.add_expr(\"x_goal = 125 & y_goal = 39 & pose_goal = 0\")"
   ]
  },
  {
   "cell_type": "code",
   "execution_count": 127,
   "id": "d4651ac4-3484-488a-bcdc-f8d46efb062a",
   "metadata": {},
   "outputs": [],
   "source": [
    "# Concrete task\n",
    "task = context_policy.exist(nexts, start_expr & policy & goal_expr).pick()"
   ]
  },
  {
   "cell_type": "code",
   "execution_count": 128,
   "id": "1af17464-7577-4600-bc54-924e9b8f1f90",
   "metadata": {},
   "outputs": [],
   "source": [
    "task_bdd = context_policy.bdd.cube(task)"
   ]
  },
  {
   "cell_type": "code",
   "execution_count": 142,
   "id": "d286a23b-a480-4b57-b44d-dbae6d3af6eb",
   "metadata": {},
   "outputs": [],
   "source": [
    "# Get a symbolic path (all optimal solutions at once)\n",
    "path = task_bdd\n",
    "for i in range(50):\n",
    "    # Path(prev, goal)\n",
    "    # path(next, goal) = exists prev st. path(prev, goal) & policy(prev, next, goal)\n",
    "    #follow_policy = context_policy.exist(prevs, path & policy)\n",
    "    follow_policy = context_policy.exist(prevs, path & deterministic_policy)\n",
    "    path |= context_policy.let(next_to_prev, follow_policy)"
   ]
  },
  {
   "cell_type": "code",
   "execution_count": 143,
   "id": "f5d3454e-d36d-4473-ad46-274f8168bef7",
   "metadata": {},
   "outputs": [],
   "source": [
    "nonxy_vars = list(filter(lambda x: x != \"x_prev\" and x != \"y_prev\", context_policy.vars.keys()))\n",
    "path_posns = context_policy.exist(nonxy_vars, path)\n",
    "path_posns = [(a[\"x_prev\"], -a[\"y_prev\"]) for a in context_policy.pick_iter(path_posns)]"
   ]
  },
  {
   "cell_type": "code",
   "execution_count": 144,
   "id": "c622f4ab-00c7-45c0-a251-71586a297494",
   "metadata": {},
   "outputs": [
    {
     "data": {
      "image/png": "[encoded data removed]",
      "text/plain": [
       "<Figure size 1000x1000 with 1 Axes>"
      ]
     },
     "metadata": {},
     "output_type": "display_data"
    }
   ],
   "source": [
    "figure(figsize=(10,10))\n",
    "scatter(*array(policy_posns).T, alpha=0.2)\n",
    "scatter(*array(path_posns).T, alpha=0.2, c=\"green\")\n",
    "scatter(64,-42)\n",
    "scatter(125,-39)\n",
    "gca().set_aspect('equal');"
   ]
  },
  {
   "cell_type": "code",
   "execution_count": 146,
   "id": "def3ff94-5bcb-4aeb-940f-6171f8723dca",
   "metadata": {},
   "outputs": [],
   "source": [
    "## Multi-Room Policies"
   ]
  },
  {
   "cell_type": "code",
   "execution_count": null,
   "id": "207e84c6-7523-4dac-81ef-6f5cacd4f63f",
   "metadata": {},
   "outputs": [],
   "source": [
    "# Get a concrete path\n",
    "current = task_bdd.pick()\n",
    "path = [current]\n",
    "while True:\n",
    "    #print(current)\n",
    "    current_bdd = context_policy.bdd.cube(current)\n",
    "    next_temp = context_policy.exist(prevs, current_bdd & policy)\n",
    "    advice = context_policy.let(next_to_prev, next_temp)\n",
    "    #print(advice.count())\n",
    "    current = advice.pick()\n",
    "    # Check whether the goal is satisfied in the state given by the advice.\n",
    "    if (next_temp & goal_satisfied).pick():\n",
    "    break\n",
    "    path.append(current)"
   ]
  }
 ],
 "metadata": {
  "kernelspec": {
   "display_name": "Python 3 (ipykernel)",
   "language": "python",
   "name": "python3"
  },
  "language_info": {
   "codemirror_mode": {
    "name": "ipython",
    "version": 3
   },
   "file_extension": ".py",
   "mimetype": "text/x-python",
   "name": "python",
   "nbconvert_exporter": "python",
   "pygments_lexer": "ipython3",
   "version": "3.10.12"
  }
 },
 "nbformat": 4,
 "nbformat_minor": 5
}

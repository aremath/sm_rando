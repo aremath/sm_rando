{
 "cells": [
  {
   "cell_type": "code",
   "execution_count": 3,
   "id": "d71e1285-b0bd-40d8-af53-53e1a1d768b1",
   "metadata": {},
   "outputs": [
    {
     "name": "stdout",
     "output_type": "stream",
     "text": [
      "%pylab is deprecated, use %matplotlib inline and import the required libraries.\n",
      "Populating the interactive namespace from numpy and matplotlib\n"
     ]
    }
   ],
   "source": [
    "%load_ext autoreload\n",
    "%autoreload 2\n",
    "%pylab inline"
   ]
  },
  {
   "cell_type": "code",
   "execution_count": 4,
   "id": "1de73e85-02a6-4441-b1c8-bd4d22aae7b8",
   "metadata": {},
   "outputs": [],
   "source": [
    "import sys\n",
    "sys.path.append(\"..\")"
   ]
  },
  {
   "cell_type": "code",
   "execution_count": 5,
   "id": "5e43f5ad-3c6d-4fbe-a91b-48d852534bb4",
   "metadata": {},
   "outputs": [],
   "source": [
    "import time"
   ]
  },
  {
   "cell_type": "code",
   "execution_count": 6,
   "id": "4b2398c3-3108-4234-9e0f-a823dff873fd",
   "metadata": {},
   "outputs": [],
   "source": [
    "from abstraction_validation.abstractify import abstractify_state, abstractify_boss_info\n",
    "from rom_tools.rom_manager import RomManager\n",
    "from encoding.parse_rooms import parse_rooms, parse_exits, dictify_rooms\n",
    "from world_rando.coord import Coord\n",
    "from abstraction_validation.sm_paths import *\n",
    "from data_types.item_set import ItemSet"
   ]
  },
  {
   "cell_type": "code",
   "execution_count": 7,
   "id": "cc1c38ea-8102-4fcf-9b98-5f4f1100dc1f",
   "metadata": {},
   "outputs": [],
   "source": [
    "# Testing Lua injection\n",
    "lua_fn = \"\"\"\n",
    "local px_addr = 0x000AF6\n",
    "local py_addr = 0x000AFA\n",
    "local camx_addr = 0x000911\n",
    "local camy_addr = 0x000915\n",
    "local camx = memory.readword(camx_addr)\n",
    "local camy = memory.readword(camy_addr)\n",
    "local px = memory.readword(px_addr)\n",
    "local py = memory.readword(py_addr)\n",
    "local screen_x = px - camx\n",
    "local screen_y = py - camy\n",
    "local xrad = memory.readbyte(0x7E0AFE)\n",
    "local yrad = memory.readbyte(0x7E0B00)\t\n",
    "gui.box(screen_x + (xrad * -1), screen_y + (yrad * -1), screen_x + xrad, screen_y + yrad,\"#0000FF35\",\"#0000FFFF\")\n",
    "gui.text(screen_x, screen_y, \"{}\", 0xffffffff)\n",
    "gui.text(0, 20, \"{}\", 0xffffffff)\n",
    "\"\"\"\n",
    "ss = \"Hello\""
   ]
  },
  {
   "cell_type": "code",
   "execution_count": 8,
   "id": "80ff0425-cf66-4234-b451-5246758721f3",
   "metadata": {},
   "outputs": [],
   "source": [
    "advice_fn = \"\"\"\n",
    "area_offsets = {\n",
    "    [0] = {[0] = 3, [1] = 10},\n",
    "    [1] = {[0] = 0, [1] = 29},\n",
    "    [2] = {[0] = 31, [1] = 49},\n",
    "    [3] = {[0] = 37, [1] = 0},\n",
    "    [4] = {[0] = 28, [1] = 29},\n",
    "    [5] = {[0] = 0, [1] = 10},\n",
    "    [6] = {[0] = 0, [1] = -10},\n",
    "    [7] = {[0] = 0, [1] = 0}\n",
    "}\n",
    "local px_addr = 0x000AF6\n",
    "local py_addr = 0x000AFA\n",
    "local camx_addr = 0x000911\n",
    "local camy_addr = 0x000915\n",
    "local area_addr = 0x00079F\n",
    "local mapx_addr = 0x0007A1\n",
    "local mapy_addr = 0x0007A3\n",
    "local camx = memory.readword(camx_addr)\n",
    "local camy = memory.readword(camy_addr)\n",
    "local px = memory.readword(px_addr)\n",
    "local py = memory.readword(py_addr)\n",
    "local screen_x = px - camx\n",
    "local screen_y = py - camy\n",
    "local xrad = memory.readbyte(0x7E0AFE)\n",
    "local yrad = memory.readbyte(0x7E0B00)\n",
    "local area = memory.readbyte(area_addr)\n",
    "local mapx = memory.readbyte(mapx_addr)\n",
    "local mapy = memory.readbyte(mapy_addr)\n",
    "local px_global = 16 * area_offsets[area][0] + 16 * mapx + (px / 16)\n",
    "local py_global = 16 * area_offsets[area][1] + 16 * mapy + (py / 16)\n",
    "\"\"\"\n",
    "advice2 = \"\"\"\n",
    "local go_x = {gox}\n",
    "local go_y = {goy}\n",
    "local to_x = go_x - px_global\n",
    "local to_y = go_y - py_global\n",
    "--print(\"hey\")\n",
    "--print(px_global, py_global)\n",
    "--print(go_x, go_y)\n",
    "--print(to_x, to_y)\n",
    "gui.line(screen_x, screen_y, screen_x + (to_x * 16), screen_y + (to_y * 16), 0xffffffff)\n",
    "local dist = math.sqrt((to_x * to_x + to_y * to_y))\n",
    "gui.text(screen_x, screen_y, tostring(math.floor(dist)), 0xffffffff)\n",
    "\"\"\"\n",
    "def mk_advice(x, y):\n",
    "    return advice_fn + advice2.format(gox=x, goy=y)"
   ]
  },
  {
   "cell_type": "code",
   "execution_count": 9,
   "id": "c1fea63b-cfe3-4947-938c-e2dd5c1d8c7c",
   "metadata": {},
   "outputs": [],
   "source": [
    "# while True:\n",
    "#     if ss == \"Hello\":\n",
    "#         ss = \"Goodbye\"\n",
    "#     else:\n",
    "#         ss = \"Hello\"\n",
    "#     f = open(\"../../Videogame-Retrieval/snes9x_bridge.lua\", \"w\")\n",
    "#     f.write(lua_fn.format(ss, ss))\n",
    "#     f.close()\n",
    "#     time.sleep(1)"
   ]
  },
  {
   "cell_type": "code",
   "execution_count": 10,
   "id": "ed49f3f0-66f6-4a22-9e95-582152d0874e",
   "metadata": {},
   "outputs": [
    {
     "name": "stdout",
     "output_type": "stream",
     "text": [
      "Landing_Site 0x791f8\n",
      "\t Extra: []\n",
      "\t Missing: ['Landing_Site_Ship']\n",
      "West_Ocean 0x793fe\n",
      "\t Extra: ['West_Ocean_R4', 'West_Ocean_L']\n",
      "\t Missing: ['West_Ocean_R6', 'West_Ocean_L2']\n",
      "Bomb_Torizo 0x79804\n",
      "\t Extra: ['Bomb_Torizo_B']\n",
      "\t Missing: ['Bomb_Torizo_Bombs']\n",
      "Spore_Spawn 0x79dc7\n",
      "\t Extra: []\n",
      "\t Missing: ['Spore_Spawn_Spore_Spawn']\n",
      "Kraid 0x7a59f\n",
      "\t Extra: []\n",
      "\t Missing: ['Kraid_Kraid']\n",
      "Statues 0x7a66a\n",
      "\t Extra: []\n",
      "\t Missing: ['Statues_Statues']\n",
      "Crocomire 0x7a98d\n",
      "\t Extra: []\n",
      "\t Missing: ['Crocomire_Crocomire']\n",
      "Water_Closet 0x7b1e5\n",
      "\t Extra: []\n",
      "\t Missing: ['Water_Closet_Drain']\n",
      "Golden_Torizo 0x7b283\n",
      "\t Extra: []\n",
      "\t Missing: ['Golden_Torizo_Golden_Torizo']\n",
      "Ridley 0x7b32e\n",
      "\t Extra: []\n",
      "\t Missing: ['Ridley_Ridley']\n",
      "Phantoon 0x7cd13\n",
      "\t Extra: []\n",
      "\t Missing: ['Phantoon_Phantoon']\n",
      "West_Sand_Hall 0x7d461\n",
      "\t Extra: []\n",
      "\t Missing: ['West_Sand_Hall_TS']\n",
      "East_Sand_Hall 0x7d4c2\n",
      "\t Extra: []\n",
      "\t Missing: ['East_Sand_Hall_TS']\n",
      "West_Sand_Hole 0x7d4ef\n",
      "\t Extra: []\n",
      "\t Missing: ['West_Sand_Hole_TS']\n",
      "East_Sand_Hole 0x7d51e\n",
      "\t Extra: []\n",
      "\t Missing: ['East_Sand_Hole_TS']\n",
      "West_Sand_Pit 0x7d54d\n",
      "\t Extra: []\n",
      "\t Missing: ['West_Sand_Pit_TS']\n",
      "East_Sand_Pit 0x7d57a\n",
      "\t Extra: []\n",
      "\t Missing: ['East_Sand_Pit_TS']\n",
      "Butterfly_Room 0x7d5ec\n",
      "\t Extra: []\n",
      "\t Missing: ['Butterfly_Room_TS']\n",
      "Botwoon_Energy_Farm 0x7d6fd\n",
      "\t Extra: []\n",
      "\t Missing: ['Botwoon_Energy_Farm_TS1', 'Botwoon_Energy_Farm_TS2']\n",
      "Butterfly_Sand_Pit 0x7d86e\n",
      "\t Extra: []\n",
      "\t Missing: ['Butterfly_Sand_Pit_TS']\n",
      "Botwoon_Energy_Pit 0x7d898\n",
      "\t Extra: []\n",
      "\t Missing: ['Botwoon_Energy_Pit_TS1', 'Botwoon_Energy_Pit_TS2']\n",
      "Shaktool 0x7d8c5\n",
      "\t Extra: []\n",
      "\t Missing: ['Shaktool_Shaktool']\n",
      "Botwoon 0x7d95e\n",
      "\t Extra: []\n",
      "\t Missing: ['Botwoon_Botwoon']\n",
      "Draygon 0x7da60\n",
      "\t Extra: []\n",
      "\t Missing: ['Draygon_Draygon']\n",
      "Mother_Brain 0x7dd58\n",
      "\t Extra: []\n",
      "\t Missing: ['Mother_Brain_L', 'Mother_Brain_Mother_Brain']\n"
     ]
    }
   ],
   "source": [
    "# Pre-compute node information\n",
    "rom = RomManager(\"../../roms/sm_clean.sfc\", \"sm_junk.smc\")\n",
    "parsed_rom = rom.parse()\n",
    "rooms = parse_rooms(\"../encoding/dsl/rooms_for_alloy.txt\")\n",
    "#rooms = parse_rooms(\"../encoding/dsl/rooms.txt\")\n",
    "exits = parse_exits('../encoding/dsl/exits_for_alloy.txt')\n",
    "#exits = parse_exits('../encoding/dsl/exits.txt')\n",
    "all_posns = all_global_positions(rooms, parsed_rom)\n",
    "world = dictify_rooms(rooms,exits)"
   ]
  },
  {
   "cell_type": "code",
   "execution_count": null,
   "id": "17c09d99-2185-4c03-ba27-d93c5bf3b3b5",
   "metadata": {},
   "outputs": [],
   "source": [
    "import pickle"
   ]
  },
  {
   "cell_type": "code",
   "execution_count": 2,
   "id": "78e7b036-fa60-4352-8156-f853b4642179",
   "metadata": {},
   "outputs": [
    {
     "ename": "ModuleNotFoundError",
     "evalue": "No module named 'encoding'",
     "output_type": "error",
     "traceback": [
      "\u001b[0;31m---------------------------------------------------------------------------\u001b[0m",
      "\u001b[0;31mModuleNotFoundError\u001b[0m                       Traceback (most recent call last)",
      "Cell \u001b[0;32mIn[2], line 2\u001b[0m\n\u001b[1;32m      1\u001b[0m \u001b[38;5;28;01mfrom\u001b[39;00m \u001b[38;5;21;01momega\u001b[39;00m\u001b[38;5;21;01m.\u001b[39;00m\u001b[38;5;21;01msymbolic\u001b[39;00m\u001b[38;5;21;01m.\u001b[39;00m\u001b[38;5;21;01mfol\u001b[39;00m \u001b[38;5;28;01mimport\u001b[39;00m Context \u001b[38;5;28;01mas\u001b[39;00m OmegaContext\n\u001b[0;32m----> 2\u001b[0m \u001b[38;5;28;01mfrom\u001b[39;00m \u001b[38;5;21;01mencoding\u001b[39;00m\u001b[38;5;21;01m.\u001b[39;00m\u001b[38;5;21;01mparse_rooms\u001b[39;00m \u001b[38;5;28;01mimport\u001b[39;00m parse_rooms, parse_exits, dictify_rooms\n\u001b[1;32m      3\u001b[0m \u001b[38;5;28;01mfrom\u001b[39;00m \u001b[38;5;21;01mabstraction_validation\u001b[39;00m\u001b[38;5;21;01m.\u001b[39;00m\u001b[38;5;21;01msm_paths\u001b[39;00m \u001b[38;5;28;01mimport\u001b[39;00m \u001b[38;5;241m*\u001b[39m\n\u001b[1;32m      4\u001b[0m \u001b[38;5;28;01mfrom\u001b[39;00m \u001b[38;5;21;01mbdds\u001b[39;00m\u001b[38;5;21;01m.\u001b[39;00m\u001b[38;5;21;01mbdd_core\u001b[39;00m \u001b[38;5;28;01mimport\u001b[39;00m \u001b[38;5;241m*\u001b[39m\n",
      "\u001b[0;31mModuleNotFoundError\u001b[0m: No module named 'encoding'"
     ]
    }
   ],
   "source": [
    "from omega.symbolic.fol import Context as OmegaContext\n",
    "from encoding.parse_rooms import parse_rooms, parse_exits, dictify_rooms\n",
    "from abstraction_validation.sm_paths import *\n",
    "from bdds.bdd_core import *"
   ]
  },
  {
   "cell_type": "code",
   "execution_count": 1,
   "id": "d9507699-6470-46d1-84c4-38a500721e0a",
   "metadata": {},
   "outputs": [
    {
     "ename": "NameError",
     "evalue": "name 'parse_rooms' is not defined",
     "output_type": "error",
     "traceback": [
      "\u001b[0;31m---------------------------------------------------------------------------\u001b[0m",
      "\u001b[0;31mNameError\u001b[0m                                 Traceback (most recent call last)",
      "Cell \u001b[0;32mIn[1], line 1\u001b[0m\n\u001b[0;32m----> 1\u001b[0m rooms \u001b[38;5;241m=\u001b[39m \u001b[43mparse_rooms\u001b[49m(\u001b[38;5;124m\"\u001b[39m\u001b[38;5;124m../encoding/dsl/rooms_for_alloy.txt\u001b[39m\u001b[38;5;124m\"\u001b[39m)\n\u001b[1;32m      2\u001b[0m exits \u001b[38;5;241m=\u001b[39m parse_exits(\u001b[38;5;124m\"\u001b[39m\u001b[38;5;124m../encoding/dsl/exits_for_alloy.txt\u001b[39m\u001b[38;5;124m\"\u001b[39m)\n\u001b[1;32m      3\u001b[0m design \u001b[38;5;241m=\u001b[39m dictify_rooms(rooms, exits)\n",
      "\u001b[0;31mNameError\u001b[0m: name 'parse_rooms' is not defined"
     ]
    }
   ],
   "source": [
    "rooms = parse_rooms(\"../encoding/dsl/rooms_for_alloy.txt\")\n",
    "exits = parse_exits(\"../encoding/dsl/exits_for_alloy.txt\")\n",
    "design = dictify_rooms(rooms, exits)"
   ]
  },
  {
   "cell_type": "code",
   "execution_count": 29,
   "id": "353f6e47-b4ba-46bf-aaa2-dd716eb197b4",
   "metadata": {},
   "outputs": [],
   "source": [
    "all_nodes = []\n",
    "for r, room in rooms.items():\n",
    "    for node in room.graph.name_node.keys():\n",
    "        all_nodes.append(node)\n",
    "node_ids = {n:i for i,n in enumerate(all_nodes)}"
   ]
  },
  {
   "cell_type": "code",
   "execution_count": 30,
   "id": "1ac94284-5683-4f40-91e8-4ecd8adbd4fc",
   "metadata": {},
   "outputs": [],
   "source": [
    "# Issue with design translation via chopping off the last _\n",
    "node_ids[\"Spore_Spawn_Spawn\"] = node_ids[\"Spore_Spawn_Spore_Spawn\"]\n",
    "node_ids[\"Golden_Torizo_Torizo\"] = node_ids[\"Golden_Torizo_Golden_Torizo\"]\n",
    "node_ids[\"Mother_Brain_Brain\"] = node_ids[\"Mother_Brain_Mother_Brain\"]"
   ]
  },
  {
   "cell_type": "code",
   "execution_count": 62,
   "id": "92d6595c-334f-4b7e-b5fa-4d7002af4a83",
   "metadata": {},
   "outputs": [],
   "source": [
    "#TODO: get rid of this\n",
    "Supernode = namedtuple('Supernode', ['room', 'node', 'itemset'])\n",
    "\n",
    "def supernode_to_abstate(supernode):\n",
    "    room, node, itemset = supernode\n",
    "    nn = f\"{room}_{node}\"\n",
    "    ii = ItemSet()\n",
    "    for i in itemset:\n",
    "        ii = ii.add(i)\n",
    "    return (nn, ii)\n",
    "\n",
    "def abstate_to_supernode(abstate):\n",
    "    nn, ii = abstate\n",
    "    node = nn.split(\"_\")[-1]\n",
    "    room = \"_\".join(nn.split(\"_\")[:-1])\n",
    "    itemset = frozenset()\n",
    "    for i in ii:\n",
    "        itemset |= frozenset([i])\n",
    "    return Supernode(room, node, itemset)"
   ]
  },
  {
   "cell_type": "code",
   "execution_count": 36,
   "id": "95b85933-176d-4cda-8c1e-8b59fa5b4215",
   "metadata": {},
   "outputs": [],
   "source": [
    "def loc_id(room_name, node_name, when=\"prev\"):\n",
    "    node_id = node_ids[f\"{room_name}_{node_name}\"]\n",
    "    return f\"node_id_{when} = {node_id}\"\n",
    "    \n",
    "def item_transitions(item_gained=None):\n",
    "    if item_gained is None:\n",
    "        return \"(items_unchanged)\"\n",
    "    clauses = []\n",
    "    for i in design[\"Items\"] | design[\"Bosses\"]:\n",
    "        if i == item_gained:\n",
    "            clause = f\"{i}_prev < {i}_next\"\n",
    "        else:\n",
    "            clause = f\"{i}_prev = {i}_next\"\n",
    "        clauses.append(clause)\n",
    "    return \" & \".join(clauses)\n",
    "\n",
    "\n",
    "def itemset_to_str(itemset):\n",
    "    if len(itemset) == 0:\n",
    "        return \"TRUE\"\n",
    "    else:\n",
    "        return \" & \".join([f\"{item}_prev = 1\" for item in itemset])\n",
    "\n",
    "def required_itemsets(itemsets):\n",
    "    return \"(\" + \" | \".join([itemset_to_str(itemset) for itemset in itemsets]) + \")\""
   ]
  },
  {
   "cell_type": "code",
   "execution_count": 31,
   "id": "5e329ce4-4e1a-47f8-a170-79942aa661a2",
   "metadata": {},
   "outputs": [],
   "source": [
    "# Only encode node_id and items\n",
    "def mk_context_id():\n",
    "    context = OmegaContext()\n",
    "    context.declare(\n",
    "        node_id_prev = (0,len(node_ids)),\n",
    "        node_id_next = (0,len(node_ids)),\n",
    "        node_id_goal = (0,len(node_ids)),\n",
    "        node_id_temp = (0,len(node_ids)),\n",
    "    )\n",
    "    # Try to get a favorable variable ordering\n",
    "    shared_dict = {}\n",
    "    for i in item_mapping:\n",
    "        shared_dict[f\"{i}_prev\"] = (0,1)\n",
    "        shared_dict[f\"{i}_next\"] = (0,1)\n",
    "        shared_dict[f\"{i}_goal\"] = (0,1)\n",
    "        shared_dict[f\"{i}_temp\"] = (0,1)\n",
    "    context.declare(**shared_dict)\n",
    "    context.define(mk_items_unchanged())\n",
    "    return context"
   ]
  },
  {
   "cell_type": "code",
   "execution_count": 32,
   "id": "0b9e8c7d-2c05-4042-9f63-0fe913082b41",
   "metadata": {},
   "outputs": [],
   "source": [
    "context_id = mk_context_id()"
   ]
  },
  {
   "cell_type": "code",
   "execution_count": 46,
   "id": "a669cf74-5d13-4734-a4d5-ca13e67c6d9e",
   "metadata": {},
   "outputs": [],
   "source": [
    "test = context_id.add_expr(\"node_id_prev=2\")\n",
    "context_id.bdd.dump(\"../output/test_bdd.json\", [test])\n",
    "test2 = context_id.bdd.load(\"../output/test_bdd.json\")[0]"
   ]
  },
  {
   "cell_type": "code",
   "execution_count": 48,
   "id": "8dd68c64-3f75-4066-bd52-883d7303195e",
   "metadata": {},
   "outputs": [],
   "source": [
    "policy_id = context_id.bdd.load(\"../output/policy_id.json\")[0]"
   ]
  },
  {
   "cell_type": "code",
   "execution_count": 49,
   "id": "54352ed3-e899-4d01-8ca1-cc3877a40aaf",
   "metadata": {},
   "outputs": [],
   "source": [
    "node_ids_rev = {i:n for n,i in node_ids.items()}"
   ]
  },
  {
   "cell_type": "code",
   "execution_count": 50,
   "id": "2afebe2c-502b-4574-97a9-1528850e2db5",
   "metadata": {},
   "outputs": [
    {
     "data": {
      "text/plain": [
       "2"
      ]
     },
     "execution_count": 50,
     "metadata": {},
     "output_type": "execute_result"
    }
   ],
   "source": [
    "node_ids[\"Landing_Site_L2\"]"
   ]
  },
  {
   "cell_type": "code",
   "execution_count": 84,
   "id": "7663766f-ab90-498d-9514-775df8fa8021",
   "metadata": {},
   "outputs": [],
   "source": [
    "# Have to refine some stuff from bdd_core for the new context\n",
    "prev_to_temp = mk_replace(context_id, \"prev\", \"temp\")\n",
    "next_to_temp = mk_replace(context_id, \"next\", \"temp\")\n",
    "goal_to_next = mk_replace(context_id, \"goal\", \"next\")\n",
    "prev_to_next = mk_replace(context_id, \"prev\", \"next\")\n",
    "next_to_prev = mk_replace(context_id, \"next\", \"prev\")\n",
    "temps = [k for k in context_id.vars.keys() if k.endswith(\"_temp\")]\n",
    "nexts = [k for k in context_id.vars.keys() if k.endswith(\"_next\")]\n",
    "prevs = [k for k in context_id.vars.keys() if k.endswith(\"_prev\")]\n",
    "goals = [k for k in context_id.vars.keys() if k.endswith(\"_goal\")]"
   ]
  },
  {
   "cell_type": "code",
   "execution_count": 87,
   "id": "f2c49b35-202c-41c9-a865-1a5241835d68",
   "metadata": {},
   "outputs": [],
   "source": [
    "def get_first_step(policy, task_dict, context):\n",
    "    # Get a concrete path\n",
    "    task_bdd = context.assign_from(task_dict)\n",
    "    return context.pick(task_bdd & policy)\n",
    "\n",
    "# Return the name of the node that Samus should visit next\n",
    "def get_path_advice(state, current):\n",
    "    # Translate the state to BDD land\n",
    "    print(state, current_node)\n",
    "    current_nid = context_id.add_expr(loc_id(current.room, current.node))\n",
    "    current_items = context_id.add_expr(itemset_to_str(state.items))\n",
    "    task_expr = context_id.add_expr(\"Mother_Brain_goal = 1 & node_id_goal = 2\") & current_nid & current_items\n",
    "    # Concrete task\n",
    "    task = context_id.pick(context_id.exist(nexts, policy_id & task_expr))\n",
    "    next = get_first_step(policy_id, task, context_id)\n",
    "    return node_ids_rev[next[\"node_id_next\"]]\n",
    "    "
   ]
  },
  {
   "cell_type": "code",
   "execution_count": 56,
   "id": "6de7f655-6d65-4995-aa0e-c6e7e88b70cb",
   "metadata": {},
   "outputs": [],
   "source": [
    "all_posns[\"Bomb_Torizo_B\"]\n",
    "all_posns[\"Bomb_Torizo_Bombs\"] = all_posns[\"Bomb_Torizo_B\"]\n",
    "del all_posns[\"Bomb_Torizo_B\"]"
   ]
  },
  {
   "cell_type": "code",
   "execution_count": 57,
   "id": "bf862411-454d-4061-b9e0-0766a6992e2e",
   "metadata": {},
   "outputs": [
    {
     "data": {
      "text/plain": [
       "{'Nodes': ['L', 'Bombs'],\n",
       " 'Drops': {'Bombs': 'B'},\n",
       " 'Edges': {'L': [{'Terminal': 'Bombs', 'Requirements': [[]]}],\n",
       "  'Bombs': [{'Terminal': 'L', 'Requirements': [[]]}]},\n",
       " 'Doors': {'L': {'Room': 'BT_Flyway', 'Node': 'R', 'Direction': 'L'}}}"
      ]
     },
     "execution_count": 57,
     "metadata": {},
     "output_type": "execute_result"
    }
   ],
   "source": [
    "world[\"Rooms\"][\"Bomb_Torizo\"]"
   ]
  },
  {
   "cell_type": "code",
   "execution_count": 58,
   "id": "98c64952-1a10-4269-a3dc-ff0339869100",
   "metadata": {},
   "outputs": [
    {
     "data": {
      "text/plain": [
       "497668"
      ]
     },
     "execution_count": 58,
     "metadata": {},
     "output_type": "execute_result"
    }
   ],
   "source": [
    "rooms[\"Bomb_Torizo\"].mem_address"
   ]
  },
  {
   "cell_type": "code",
   "execution_count": 63,
   "id": "cf568668-ae11-4d99-9f5f-d844084b5871",
   "metadata": {},
   "outputs": [],
   "source": [
    "node_memaddrs = {node : rooms[abstate_to_supernode((node, ItemSet())).room].mem_address for node in all_posns.keys()}"
   ]
  },
  {
   "cell_type": "code",
   "execution_count": 64,
   "id": "a8f96bda-e8f8-46e7-bcc5-1675f426b894",
   "metadata": {},
   "outputs": [
    {
     "data": {
      "text/plain": [
       "Supernode(room='Bomb_Torizo', node='Bombs', itemset=frozenset())"
      ]
     },
     "execution_count": 64,
     "metadata": {},
     "output_type": "execute_result"
    }
   ],
   "source": [
    "abstate_to_supernode((\"Bomb_Torizo_Bombs\", ItemSet()))"
   ]
  },
  {
   "cell_type": "code",
   "execution_count": 65,
   "id": "553561ec-ef36-481c-b1b6-5f4ca9553800",
   "metadata": {},
   "outputs": [
    {
     "data": {
      "text/plain": [
       "c(460,266)"
      ]
     },
     "execution_count": 65,
     "metadata": {},
     "output_type": "execute_result"
    }
   ],
   "source": [
    "all_posns[\"Bomb_Torizo_Bombs\"]"
   ]
  },
  {
   "cell_type": "code",
   "execution_count": 66,
   "id": "bbcc326a-2aca-45e3-8f08-8494c5bcd601",
   "metadata": {},
   "outputs": [
    {
     "data": {
      "text/plain": [
       "'0x79804'"
      ]
     },
     "execution_count": 66,
     "metadata": {},
     "output_type": "execute_result"
    }
   ],
   "source": [
    "hex(node_memaddrs[\"Bomb_Torizo_Bombs\"])"
   ]
  },
  {
   "cell_type": "code",
   "execution_count": 67,
   "id": "9f8a45b2-e11e-4435-adb4-9983c49c5eae",
   "metadata": {},
   "outputs": [],
   "source": [
    "def abstractify_info(ram_data):\n",
    "    abstate = abstractify_state(ram_data, global_pos=True)\n",
    "    abboss = abstractify_boss_info(ram_data, offset=0x2000)\n",
    "    abstate.items = abstate.items | abboss\n",
    "    return abstate"
   ]
  },
  {
   "cell_type": "code",
   "execution_count": 72,
   "id": "61d7427c-4576-42a2-91fd-5498c6e1afee",
   "metadata": {},
   "outputs": [],
   "source": [
    "def estimate_node(ram_data):\n",
    "    abstate = abstractify_info(ram_data)\n",
    "    current_room_a = ram_data.view(\"uint16\")[0x79b // 2] >> 8\n",
    "    current_room_b = (ram_data.view(\"uint16\")[0x79c // 2] & 0x00ff) << 8\n",
    "    current_room = current_room_a | current_room_b\n",
    "    #dist, nearest_node = map_state_to_node(abstate, all_posns)\n",
    "    #print(abstate.position)\n",
    "    #print(dist, nearest_node)\n",
    "    # Find a nearby node in the current room\n",
    "    for node, pos in all_posns.items():\n",
    "        node_memaddr = node_memaddrs[node]\n",
    "        # Gaslighting: You're not \"at\" a node if we don't believe it exists...\n",
    "        # Prevents things like power bomb doors from screwing with things\n",
    "        if node_memaddr & 0xffff == current_room and abstate.position.euclidean(pos) < 5:\n",
    "            return node\n",
    "    return None"
   ]
  },
  {
   "cell_type": "code",
   "execution_count": 94,
   "id": "42d9d250-56be-40a5-8e08-084cf056a6c0",
   "metadata": {},
   "outputs": [
    {
     "name": "stdout",
     "output_type": "stream",
     "text": [
      "Player at new node: Parlor_R1\n",
      "(c(412,231)|V: 0, H: RUN, 0|STAND|ISet([])) Parlor_R1\n",
      "Current_goal: Parlor_B\n",
      "Player at new node: Parlor_R3\n",
      "(c(364,277)|V: 0, H: RUN, 0|JUMP|ISet([])) Parlor_R3\n",
      "Current_goal: Parlor_R2\n",
      "Player at new node: Parlor_B\n",
      "(c(359,299)|V: 0, H: RUN, 0|MORPH|ISet([])) Parlor_B\n",
      "Current_goal: Climb_Room_T\n",
      "Player at new node: Climb_Room_T\n",
      "(c(359,308)|V: 0, H: RUN, 0|JUMP|ISet([])) Climb_Room_T\n",
      "Current_goal: Climb_Room_R3\n",
      "Player at new node: Parlor_L3\n",
      "(c(356,280)|V: 0, H: RUN, 0|SPIN|ISet([])) Parlor_L3\n",
      "Current_goal: Parlor_B\n",
      "Player at new node: Parlor_R3\n",
      "(c(363,280)|V: 0, H: RUN, 0|SPIN|ISet([])) Parlor_R3\n",
      "Current_goal: Parlor_R2\n",
      "Player at new node: Parlor_B\n",
      "(c(362,299)|V: 0, H: RUN, 0|JUMP|ISet([])) Parlor_B\n",
      "Current_goal: Climb_Room_T\n",
      "Player at new node: Climb_Room_T\n",
      "(c(361,308)|V: 0, H: RUN, 0|JUMP|ISet([])) Climb_Room_T\n",
      "Current_goal: Climb_Room_R3\n",
      "Player at new node: Climb_Room_R3\n",
      "(c(365,437)|V: 0, H: RUN, 0|JUMP|ISet([])) Climb_Room_R3\n",
      "Current_goal: Old_Mother_Brain_L\n",
      "Player at new node: Old_Mother_Brain_L\n",
      "(c(370,439)|V: 0, H: RUN, 0|STAND|ISet([])) Old_Mother_Brain_L\n",
      "Current_goal: Old_Mother_Brain_R\n",
      "Player at new node: Old_Mother_Brain_R\n",
      "(c(411,441)|V: 0, H: RUN, 0|SPIN|ISet([])) Old_Mother_Brain_R\n",
      "Current_goal: Blue_Brinstar_Elevator_L\n",
      "Player at new node: Blue_Brinstar_Elevator_L\n",
      "(c(418,439)|V: 0, H: RUN, 0|STAND|ISet([])) Blue_Brinstar_Elevator_L\n",
      "Current_goal: Blue_Brinstar_Elevator_ET\n",
      "Player at new node: Blue_Brinstar_Elevator_ET\n",
      "(c(423,443)|V: 0, H: RUN, 0|STAND|ISet([])) Blue_Brinstar_Elevator_ET\n",
      "Current_goal: Morph_Ball_Room_EB\n",
      "Player at new node: Morph_Ball_Room_EB\n",
      "(c(423,591)|V: 0, H: RUN, 0|STAND|ISet([])) Morph_Ball_Room_EB\n",
      "Current_goal: Morph_Ball_Room_MB\n",
      "Player at new node: Morph_Ball_Room_MB\n",
      "(c(409,634)|V: 0, H: RUN, 0|STAND|ISet([])) Morph_Ball_Room_MB\n",
      "Current_goal: Morph_Ball_Room_MB\n",
      "Player got new item: ISet(['MB'])\n",
      "(c(404,630)|V: 0, H: RUN, 0|JUMP|ISet(['MB'])) Morph_Ball_Room_MB\n",
      "Current_goal: Morph_Ball_Room_R\n",
      "Player at new node: Morph_Ball_Room_R\n",
      "(c(459,630)|V: 0, H: RUN, 0|SPIN|ISet(['MB'])) Morph_Ball_Room_R\n",
      "Current_goal: Construction_Zone_L1\n",
      "Player at new node: Construction_Zone_L1\n",
      "(c(467,631)|V: 0, H: RUN, 0|STAND|ISet(['MB'])) Construction_Zone_L1\n",
      "Current_goal: Construction_Zone_L2\n",
      "Player at new node: Construction_Zone_L2\n",
      "(c(468,649)|V: 0, H: RUN, 0|MORPH|ISet(['MB'])) Construction_Zone_L2\n",
      "Current_goal: First_Missile_R\n",
      "Player at new node: First_Missile_R\n",
      "(c(460,647)|V: 0, H: RUN, 0|STAND|ISet(['MB'])) First_Missile_R\n",
      "Current_goal: First_Missile_M\n",
      "Player at new node: First_Missile_M\n",
      "(c(456,645)|V: 0, H: RUN, 0|JUMP|ISet(['MB'])) First_Missile_M\n",
      "Current_goal: First_Missile_M\n",
      "Player got new item: ISet(['M', 'MB'])\n",
      "(c(453,647)|V: 0, H: RUN, 0|STAND|ISet(['M', 'MB'])) First_Missile_M\n",
      "Current_goal: First_Missile_R\n",
      "Player at new node: First_Missile_R\n",
      "(c(459,647)|V: 0, H: RUN, 0|STAND|ISet(['M', 'MB'])) First_Missile_R\n",
      "Current_goal: Construction_Zone_L2\n",
      "Player at new node: Construction_Zone_L2\n",
      "(c(466,647)|V: 0, H: RUN, 0|STAND|ISet(['M', 'MB'])) Construction_Zone_L2\n",
      "Current_goal: Construction_Zone_L1\n",
      "Player at new node: Construction_Zone_R\n",
      "(c(475,633)|V: 0, H: RUN, 0|MORPH|ISet(['M', 'MB'])) Construction_Zone_R\n",
      "Current_goal: Construction_Zone_L1\n",
      "Player at new node: Construction_Zone_L1\n",
      "(c(467,629)|V: 0, H: RUN, 0|SPIN|ISet(['M', 'MB'])) Construction_Zone_L1\n",
      "Current_goal: Morph_Ball_Room_R\n",
      "Player at new node: Morph_Ball_Room_R\n",
      "(c(459,631)|V: 0, H: RUN, 0|STAND|ISet(['M', 'MB'])) Morph_Ball_Room_R\n",
      "Current_goal: Morph_Ball_Room_EB\n",
      "Player at new node: Morph_Ball_Room_EB\n",
      "(c(423,590)|V: 0, H: RUN, 0|STAND|ISet(['M', 'MB'])) Morph_Ball_Room_EB\n",
      "Current_goal: Blue_Brinstar_Elevator_ET\n",
      "Player at new node: Blue_Brinstar_Elevator_ET\n",
      "(c(423,443)|V: 0, H: RUN, 0|STAND|ISet(['M', 'MB'])) Blue_Brinstar_Elevator_ET\n",
      "Current_goal: Blue_Brinstar_Elevator_L\n",
      "Player at new node: Blue_Brinstar_Elevator_L\n",
      "(c(419,439)|V: 0, H: RUN, 0|STAND|ISet(['M', 'MB'])) Blue_Brinstar_Elevator_L\n",
      "Current_goal: Old_Mother_Brain_R\n",
      "Player at new node: Old_Mother_Brain_R\n",
      "(c(411,439)|V: 0, H: RUN, 0|STAND|ISet(['M', 'MB'])) Old_Mother_Brain_R\n",
      "Current_goal: Old_Mother_Brain_L\n",
      "Player at new node: Old_Mother_Brain_L\n",
      "(c(372,439)|V: 0, H: RUN, 0|STAND|ISet(['M', 'MB'])) Old_Mother_Brain_L\n",
      "Current_goal: Climb_Room_R3\n",
      "Player at new node: Climb_Room_R3\n",
      "(c(364,439)|V: 0, H: RUN, 0|STAND|ISet(['M', 'MB'])) Climb_Room_R3\n",
      "Current_goal: Climb_Room_T\n",
      "Player at new node: Climb_Room_T\n",
      "(c(361,308)|V: 0, H: RUN, 0|STAND|ISet(['M', 'MB'])) Climb_Room_T\n",
      "Current_goal: Parlor_B\n",
      "Player at new node: Parlor_B\n",
      "(c(357,299)|V: 0, H: RUN, 0|MORPH|ISet(['M', 'MB'])) Parlor_B\n",
      "Current_goal: Parlor_R2\n",
      "Player at new node: Parlor_R3\n",
      "(c(363,281)|V: 0, H: RUN, 0|SPIN|ISet(['M', 'MB'])) Parlor_R3\n",
      "Current_goal: Parlor_R2\n",
      "Player at new node: Parlor_B\n",
      "(c(359,299)|V: 0, H: RUN, 0|JUMP|ISet(['M', 'MB'])) Parlor_B\n",
      "Current_goal: Parlor_R2\n",
      "Player at new node: Climb_Room_T\n",
      "(c(359,308)|V: 0, H: RUN, 0|JUMP|ISet(['M', 'MB'])) Climb_Room_T\n",
      "Current_goal: Parlor_B\n",
      "Player at new node: Parlor_B\n",
      "(c(359,299)|V: 0, H: RUN, 0|MORPH|ISet(['M', 'MB'])) Parlor_B\n",
      "Current_goal: Parlor_R2\n",
      "Player at new node: Parlor_L3\n",
      "(c(356,280)|V: 0, H: RUN, 0|SPIN|ISet(['M', 'MB'])) Parlor_L3\n",
      "Current_goal: Parlor_R2\n",
      "Player at new node: Parlor_R3\n",
      "(c(363,277)|V: 0, H: RUN, 0|JUMP|ISet(['M', 'MB'])) Parlor_R3\n",
      "Current_goal: Parlor_R2\n",
      "Player at new node: Parlor_R2\n",
      "(c(395,263)|V: 0, H: RUN, 0|STAND|ISet(['M', 'MB'])) Parlor_R2\n",
      "Current_goal: BT_Flyway_L\n",
      "Player at new node: BT_Flyway_L\n",
      "(c(402,263)|V: 0, H: RUN, 0|STAND|ISet(['M', 'MB'])) BT_Flyway_L\n",
      "Current_goal: BT_Flyway_R\n",
      "Player at new node: BT_Flyway_R\n",
      "(c(443,266)|V: 0, H: RUN, 0|STAND|ISet(['M', 'MB'])) BT_Flyway_R\n",
      "Current_goal: Bomb_Torizo_L\n",
      "Player at new node: Bomb_Torizo_L\n",
      "(c(450,263)|V: 0, H: RUN, 0|JUMP|ISet(['M', 'MB'])) Bomb_Torizo_L\n",
      "Current_goal: Bomb_Torizo_Bombs\n",
      "Player at new node: Bomb_Torizo_Bombs\n",
      "(c(457,266)|V: 0, H: RUN, 0|STAND|ISet(['M', 'MB'])) Bomb_Torizo_Bombs\n",
      "Current_goal: Bomb_Torizo_Bombs\n",
      "Player got new item: ISet(['B', 'M', 'MB'])\n",
      "(c(459,266)|V: 0, H: RUN, 0|STAND|ISet(['B', 'M', 'MB'])) Bomb_Torizo_Bombs\n",
      "Current_goal: Bomb_Torizo_L\n",
      "Player at new node: Bomb_Torizo_L\n",
      "(c(452,266)|V: 0, H: RUN, 0|STAND|ISet(['B', 'M', 'MB'])) Bomb_Torizo_L\n",
      "Current_goal: BT_Flyway_R\n",
      "Player at new node: Bomb_Torizo_Bombs\n",
      "(c(456,266)|V: 0, H: RUN, 0|STAND|ISet(['B', 'M', 'MB'])) Bomb_Torizo_Bombs\n",
      "Current_goal: Bomb_Torizo_L\n",
      "Player at new node: Bomb_Torizo_L\n",
      "(c(452,266)|V: 0, H: RUN, 0|STAND|ISet(['B', 'M', 'MB'])) Bomb_Torizo_L\n",
      "Current_goal: BT_Flyway_R\n",
      "Player at new node: BT_Flyway_R\n",
      "(c(444,263)|V: 0, H: RUN, 0|STAND|ISet(['B', 'M', 'MB'])) BT_Flyway_R\n",
      "Current_goal: BT_Flyway_L\n",
      "Player at new node: BT_Flyway_L\n",
      "(c(404,262)|V: 0, H: RUN, 0|JUMP|ISet(['B', 'M', 'MB'])) BT_Flyway_L\n",
      "Current_goal: Parlor_R2\n",
      "Player at new node: Parlor_L1\n",
      "(c(340,231)|V: 0, H: RUN, 0|STAND|ISet(['B', 'M', 'MB'])) Parlor_L1\n",
      "Current_goal: Terminator_Room_R\n",
      "Player got new item: ISet(['B', 'M', 'MB', 'E'])\n",
      "Player at new node: Terminator_Room_E\n",
      "(c(247,264)|V: 0, H: RUN, 0|STAND|ISet(['B', 'M', 'MB', 'E'])) Terminator_Room_E\n",
      "Current_goal: Terminator_Room_L\n",
      "Player at new node: Terminator_Room_L\n",
      "(c(243,263)|V: 0, H: RUN, 0|STAND|ISet(['B', 'M', 'MB', 'E'])) Terminator_Room_L\n",
      "Current_goal: Green_Pirates_Shaft_R2\n",
      "Player at new node: Green_Pirates_Shaft_R3\n",
      "(c(237,295)|V: 0, H: RUN, 0|STAND|ISet(['B', 'M', 'MB', 'E'])) Green_Pirates_Shaft_R3\n",
      "Current_goal: Green_Pirates_Shaft_L\n",
      "Player at new node: Green_Pirates_Shaft_L\n",
      "(c(225,295)|V: 0, H: RUN, 0|STAND|ISet(['B', 'M', 'MB', 'E'])) Green_Pirates_Shaft_L\n",
      "Current_goal: Kago_Room_R\n",
      "Player at new node: Kago_Room_R\n",
      "(c(220,295)|V: 0, H: RUN, 0|STAND|ISet(['B', 'M', 'MB', 'E'])) Kago_Room_R\n",
      "Current_goal: Kago_Room_L\n",
      "Player at new node: Kago_Room_L\n",
      "(c(161,295)|V: 0, H: RUN, 0|STAND|ISet(['B', 'M', 'MB', 'E'])) Kago_Room_L\n",
      "Current_goal: Brinstar_Elevator_R\n",
      "Player at new node: Brinstar_Elevator_ET\n",
      "(c(151,300)|V: 0, H: RUN, 0|STAND|ISet(['B', 'M', 'MB', 'E'])) Brinstar_Elevator_ET\n",
      "Current_goal: Brinstar_Entrance_EB\n",
      "Player at new node: Brinstar_Entrance_EB\n",
      "(c(151,467)|V: 0, H: RUN, 0|STAND|ISet(['B', 'M', 'MB', 'E'])) Brinstar_Entrance_EB\n",
      "Current_goal: Brinstar_Entrance_R2\n",
      "Player at new node: Brinstar_Entrance_R1\n",
      "(c(155,534)|V: 0, H: RUN, 0|JUMP|ISet(['B', 'M', 'MB', 'E'])) Brinstar_Entrance_R1\n",
      "Current_goal: Brinstar_Entrance_R2\n",
      "Player at new node: Early_Supers_L\n",
      "(c(163,533)|V: 0, H: RUN, 0|SPIN|ISet(['B', 'M', 'MB', 'E'])) Early_Supers_L\n",
      "Current_goal: Brinstar_Entrance_R1\n",
      "Player at new node: Early_Supers_R\n",
      "(c(203,534)|V: 0, H: RUN, 0|MORPH|ISet(['B', 'M', 'MB', 'E'])) Early_Supers_R\n",
      "Current_goal: Early_Supers_L\n",
      "Player at new node: Early_Supers_S\n",
      "(c(168,517)|V: 0, H: RUN, 0|STAND|ISet(['B', 'M', 'MB', 'E'])) Early_Supers_S\n",
      "Current_goal: Early_Supers_L\n",
      "Player got new item: ISet(['B', 'S', 'M', 'MB', 'E'])\n",
      "(c(164,516)|V: 0, H: RUN, 0|SPIN|ISet(['B', 'S', 'M', 'MB', 'E'])) Early_Supers_S\n",
      "Current_goal: Early_Supers_L\n",
      "Player at new node: Early_Supers_L\n",
      "(c(163,533)|V: 0, H: RUN, 0|JUMP|ISet(['B', 'S', 'M', 'MB', 'E'])) Early_Supers_L\n",
      "Current_goal: Brinstar_Entrance_R1\n",
      "Player at new node: Brinstar_Entrance_R1\n",
      "(c(155,535)|V: 0, H: RUN, 0|STAND|ISet(['B', 'S', 'M', 'MB', 'E'])) Brinstar_Entrance_R1\n",
      "Current_goal: Brinstar_Entrance_R2\n",
      "Player at new node: Brinstar_Entrance_R2\n",
      "(c(155,567)|V: 0, H: RUN, 0|STAND|ISet(['B', 'S', 'M', 'MB', 'E'])) Brinstar_Entrance_R2\n",
      "Current_goal: Dachora_Room_L1\n",
      "Player at new node: Dachora_Room_L1\n",
      "(c(162,567)|V: 0, H: RUN, 0|STAND|ISet(['B', 'S', 'M', 'MB', 'E'])) Dachora_Room_L1\n",
      "Current_goal: Dachora_Room_R\n",
      "Player at new node: Dachora_Room_R\n",
      "(c(268,567)|V: 0, H: RUN, 0|STAND|ISet(['B', 'S', 'M', 'MB', 'E'])) Dachora_Room_R\n",
      "Current_goal: Big_Pink_L2\n",
      "Player at new node: Big_Pink_L2\n",
      "(c(274,567)|V: 0, H: RUN, 0|STAND|ISet(['B', 'S', 'M', 'MB', 'E'])) Big_Pink_L2\n",
      "Current_goal: Big_Pink_R4\n",
      "Player at new node: Big_Pink_R2\n",
      "(c(299,600)|V: 0, H: RUN, 0|MORPH|ISet(['B', 'S', 'M', 'MB', 'E'])) Big_Pink_R2\n",
      "Current_goal: Big_Pink_R4\n",
      "Player at new node: Big_Pink_M2\n",
      "(c(278,630)|V: 0, H: RUN, 0|SPIN|ISet(['B', 'S', 'M', 'MB', 'E'])) Big_Pink_M2\n",
      "Current_goal: Big_Pink_R4\n",
      "Player at new node: Big_Pink_R4\n",
      "(c(300,631)|V: 0, H: RUN, 0|STAND|ISet(['B', 'S', 'M', 'MB', 'E'])) Big_Pink_R4\n",
      "Current_goal: Green_Hill_Zone_L\n",
      "Player at new node: Green_Hill_Zone_L\n",
      "(c(307,631)|V: 0, H: RUN, 0|STAND|ISet(['B', 'S', 'M', 'MB', 'E'])) Green_Hill_Zone_L\n",
      "Current_goal: Green_Hill_Zone_R2\n",
      "Player at new node: Green_Hill_Zone_R2\n",
      "(c(427,678)|V: 0, H: RUN, 0|JUMP|ISet(['B', 'S', 'M', 'MB', 'E'])) Green_Hill_Zone_R2\n",
      "Current_goal: Noob_Bridge_L\n",
      "Player at new node: Noob_Bridge_L\n",
      "(c(434,679)|V: 0, H: RUN, 0|JUMP|ISet(['B', 'S', 'M', 'MB', 'E'])) Noob_Bridge_L\n",
      "Current_goal: Noob_Bridge_R\n",
      "Player at new node: Noob_Bridge_R\n",
      "(c(523,678)|V: 0, H: RUN, 0|SPIN|ISet(['B', 'S', 'M', 'MB', 'E'])) Noob_Bridge_R\n",
      "Current_goal: Red_Tower_L1\n",
      "Player at new node: Red_Tower_L1\n",
      "(c(530,679)|V: 0, H: RUN, 0|STAND|ISet(['B', 'S', 'M', 'MB', 'E'])) Red_Tower_L1\n",
      "Current_goal: Red_Tower_R2\n",
      "Player at new node: Red_Tower_R2\n",
      "(c(540,756)|V: 0, H: RUN, 0|MORPH|ISet(['B', 'S', 'M', 'MB', 'E'])) Red_Tower_R2\n",
      "Current_goal: Bat_Room_L\n",
      "Player at new node: Bat_Room_L\n",
      "(c(546,759)|V: 0, H: RUN, 0|JUMP|ISet(['B', 'S', 'M', 'MB', 'E'])) Bat_Room_L\n",
      "Current_goal: Bat_Room_R\n",
      "Player at new node: Bat_Room_R\n",
      "(c(571,759)|V: 0, H: RUN, 0|JUMP|ISet(['B', 'S', 'M', 'MB', 'E'])) Bat_Room_R\n",
      "Current_goal: Spazer_Troll_L\n",
      "Player at new node: Spazer_Troll_L\n",
      "(c(578,759)|V: 0, H: RUN, 0|SPIN|ISet(['B', 'S', 'M', 'MB', 'E'])) Spazer_Troll_L\n",
      "Current_goal: Spazer_Troll_R2\n",
      "Player at new node: Spazer_Troll_R2\n",
      "(c(603,760)|V: 0, H: RUN, 0|SPIN|ISet(['B', 'S', 'M', 'MB', 'E'])) Spazer_Troll_R2\n",
      "Current_goal: West_Tunnel_L\n",
      "Player at new node: West_Tunnel_L\n",
      "(c(611,759)|V: 0, H: RUN, 0|STAND|ISet(['B', 'S', 'M', 'MB', 'E'])) West_Tunnel_L\n",
      "Current_goal: West_Tunnel_R\n",
      "Player at new node: West_Tunnel_R\n",
      "(c(619,759)|V: 0, H: RUN, 0|STAND|ISet(['B', 'S', 'M', 'MB', 'E'])) West_Tunnel_R\n",
      "Current_goal: Glass_Tunnel_L\n",
      "Player at new node: Glass_Tunnel_L\n",
      "(c(627,759)|V: 0, H: RUN, 0|STAND|ISet(['B', 'S', 'M', 'MB', 'E'])) Glass_Tunnel_L\n",
      "Current_goal: Glass_Tunnel_R1\n",
      "Player at new node: Glass_Tunnel_R1\n",
      "(c(635,759)|V: 0, H: RUN, 0|STAND|ISet(['B', 'S', 'M', 'MB', 'E'])) Glass_Tunnel_R1\n",
      "Current_goal: East_Tunnel_L\n",
      "Player at new node: East_Tunnel_L\n",
      "(c(643,759)|V: 0, H: RUN, 0|STAND|ISet(['B', 'S', 'M', 'MB', 'E'])) East_Tunnel_L\n",
      "Current_goal: East_Tunnel_R2\n",
      "Player at new node: East_Tunnel_R2\n",
      "(c(652,759)|V: 0, H: RUN, 0|STAND|ISet(['B', 'S', 'M', 'MB', 'E'])) East_Tunnel_R2\n",
      "Current_goal: Warehouse_Entrance_L\n",
      "Player at new node: Warehouse_Entrance_L\n",
      "(c(659,759)|V: 0, H: RUN, 0|STAND|ISet(['B', 'S', 'M', 'MB', 'E'])) Warehouse_Entrance_L\n",
      "Current_goal: Warehouse_Entrance_R\n",
      "Player at new node: Warehouse_Entrance_R\n",
      "(c(699,759)|V: 0, H: RUN, 0|JUMP|ISet(['B', 'S', 'M', 'MB', 'E'])) Warehouse_Entrance_R\n",
      "Current_goal: Warehouse_Zeelas_L1\n",
      "Player at new node: Warehouse_Zeelas_L1\n",
      "(c(706,759)|V: 0, H: RUN, 0|JUMP|ISet(['B', 'S', 'M', 'MB', 'E'])) Warehouse_Zeelas_L1\n",
      "Current_goal: Warehouse_Zeelas_T\n",
      "Player at new node: Warehouse_Zeelas_L2\n",
      "(c(708,773)|V: 0, H: RUN, 0|MORPH|ISet(['B', 'S', 'M', 'MB', 'E'])) Warehouse_Zeelas_L2\n",
      "Current_goal: Warehouse_Zeelas_T\n",
      "Player at new node: Warehouse_Zeelas_T\n",
      "(c(727,771)|V: 0, H: RUN, 0|JUMP|ISet(['B', 'S', 'M', 'MB', 'E'])) Warehouse_Zeelas_T\n",
      "Current_goal: Warehouse_Kihunters_B\n",
      "Player at new node: Warehouse_Kihunters_B\n",
      "(c(726,763)|V: 0, H: RUN, 0|MORPH|ISet(['B', 'S', 'M', 'MB', 'E'])) Warehouse_Kihunters_B\n",
      "Current_goal: Warehouse_Kihunters_R2\n",
      "Player at new node: Warehouse_Kihunters_R2\n",
      "(c(747,775)|V: 0, H: RUN, 0|STAND|ISet(['B', 'S', 'M', 'MB', 'E'])) Warehouse_Kihunters_R2\n",
      "Current_goal: Baby_Kraid_L\n",
      "Player at new node: Baby_Kraid_L\n",
      "(c(755,775)|V: 0, H: RUN, 0|STAND|ISet(['B', 'S', 'M', 'MB', 'E'])) Baby_Kraid_L\n",
      "Current_goal: Baby_Kraid_R\n"
     ]
    },
    {
     "ename": "KeyboardInterrupt",
     "evalue": "",
     "output_type": "error",
     "traceback": [
      "\u001b[0;31m---------------------------------------------------------------------------\u001b[0m",
      "\u001b[0;31mKeyboardInterrupt\u001b[0m                         Traceback (most recent call last)",
      "Cell \u001b[0;32mIn[94], line 46\u001b[0m\n\u001b[1;32m     41\u001b[0m         f\u001b[38;5;241m.\u001b[39mclose()\n\u001b[1;32m     42\u001b[0m \u001b[38;5;66;03m# Get the current advice\u001b[39;00m\n\u001b[1;32m     43\u001b[0m \u001b[38;5;66;03m#     f = open(\"../../Videogame-Retrieval/snes9x_bridge.lua\", \"w\")\u001b[39;00m\n\u001b[1;32m     44\u001b[0m \u001b[38;5;66;03m#     f.write(lua_fn.format(ss, ss))\u001b[39;00m\n\u001b[1;32m     45\u001b[0m \u001b[38;5;66;03m#     f.close()\u001b[39;00m\n\u001b[0;32m---> 46\u001b[0m \u001b[43mtime\u001b[49m\u001b[38;5;241;43m.\u001b[39;49m\u001b[43msleep\u001b[49m\u001b[43m(\u001b[49m\u001b[38;5;241;43m0.1\u001b[39;49m\u001b[43m)\u001b[49m\n",
      "\u001b[0;31mKeyboardInterrupt\u001b[0m: "
     ]
    }
   ],
   "source": [
    "# X Only update position on door transition\n",
    "# ? Abstraction is room-aware\n",
    "# X Only update position when you're close to the node\n",
    "# Abstractify can handle bosses\n",
    "\n",
    "current_node = \"Landing_Site_L2\"\n",
    "current_goal = \"Landing_Site_L2\"\n",
    "current_itemset = ItemSet()\n",
    "update = False\n",
    "while True:\n",
    "    # Check our current node\n",
    "    ram_data = np.fromfile(\"../output/ram_snes9x.bin\", dtype=\"int16\")\n",
    "    abstate = abstractify_info(ram_data)\n",
    "    # Accurate itemset info\n",
    "    if abstate.items != current_itemset:\n",
    "        current_itemset = abstate.items\n",
    "        print(f\"Player got new item: {current_itemset}\")\n",
    "        update = True\n",
    "    # possibly inaccurate node info\n",
    "    node_estimate = estimate_node(ram_data)\n",
    "    # If the node may have changed\n",
    "    if node_estimate is not None:\n",
    "        if current_node != node_estimate:\n",
    "            print(f\"Player at new node: {node_estimate}\")\n",
    "            current_node = node_estimate\n",
    "            update = True\n",
    "    if update:\n",
    "        update = False\n",
    "        next_node = get_path_advice(abstate, abstate_to_supernode((current_node, ItemSet())))\n",
    "        if next_node is not None:\n",
    "            print(f\"Current_goal: {next_node}\")\n",
    "        else:\n",
    "            print(\"Unknown Location\")\n",
    "        # Write out the new advice\n",
    "        if next_node in all_posns:\n",
    "            #print(\"YES\")\n",
    "            next_node_pos = all_posns[next_node]\n",
    "            advice = mk_advice(next_node_pos.x, next_node_pos.y)\n",
    "            f = open(\"../output/snes9x_bridge.lua\", \"w\")\n",
    "            f.write(advice)\n",
    "            f.close()\n",
    "    # Get the current advice\n",
    "    #     f = open(\"../../Videogame-Retrieval/snes9x_bridge.lua\", \"w\")\n",
    "    #     f.write(lua_fn.format(ss, ss))\n",
    "    #     f.close()\n",
    "    time.sleep(0.1)\n",
    "\n",
    "#TODO: debug the node position thing where it guesses current state from game RAM - explicit constraints on what items you don't have\n",
    "#TODO: Add node names - Go from A to B + inference time to the UI\n",
    "#TODO: Path file JSON? -> show on some kind of map\n",
    "#TOOD: bio-64 and bio-128 / 1024?"
   ]
  },
  {
   "cell_type": "code",
   "execution_count": 158,
   "id": "957930af-74c5-4c95-94e8-7f5c2943ab79",
   "metadata": {},
   "outputs": [
    {
     "ename": "KeyboardInterrupt",
     "evalue": "",
     "output_type": "error",
     "traceback": [
      "\u001b[0;31m---------------------------------------------------------------------------\u001b[0m",
      "\u001b[0;31mKeyboardInterrupt\u001b[0m                         Traceback (most recent call last)",
      "File \u001b[0;32m<timed eval>:1\u001b[0m\n",
      "File \u001b[0;32m~/p38-env/lib/python3.8/site-packages/networkx/algorithms/shortest_paths/generic.py:165\u001b[0m, in \u001b[0;36mshortest_path\u001b[0;34m(G, source, target, weight, method)\u001b[0m\n\u001b[1;32m    162\u001b[0m \u001b[38;5;28;01melse\u001b[39;00m:\n\u001b[1;32m    163\u001b[0m     \u001b[38;5;66;03m# Find shortest source-target path.\u001b[39;00m\n\u001b[1;32m    164\u001b[0m     \u001b[38;5;28;01mif\u001b[39;00m method \u001b[38;5;241m==\u001b[39m \u001b[38;5;124m\"\u001b[39m\u001b[38;5;124munweighted\u001b[39m\u001b[38;5;124m\"\u001b[39m:\n\u001b[0;32m--> 165\u001b[0m         paths \u001b[38;5;241m=\u001b[39m \u001b[43mnx\u001b[49m\u001b[38;5;241;43m.\u001b[39;49m\u001b[43mbidirectional_shortest_path\u001b[49m\u001b[43m(\u001b[49m\u001b[43mG\u001b[49m\u001b[43m,\u001b[49m\u001b[43m \u001b[49m\u001b[43msource\u001b[49m\u001b[43m,\u001b[49m\u001b[43m \u001b[49m\u001b[43mtarget\u001b[49m\u001b[43m)\u001b[49m\n\u001b[1;32m    166\u001b[0m     \u001b[38;5;28;01melif\u001b[39;00m method \u001b[38;5;241m==\u001b[39m \u001b[38;5;124m\"\u001b[39m\u001b[38;5;124mdijkstra\u001b[39m\u001b[38;5;124m\"\u001b[39m:\n\u001b[1;32m    167\u001b[0m         _, paths \u001b[38;5;241m=\u001b[39m nx\u001b[38;5;241m.\u001b[39mbidirectional_dijkstra(G, source, target, weight)\n",
      "File \u001b[0;32m~/p38-env/lib/python3.8/site-packages/networkx/algorithms/shortest_paths/unweighted.py:224\u001b[0m, in \u001b[0;36mbidirectional_shortest_path\u001b[0;34m(G, source, target)\u001b[0m\n\u001b[1;32m    221\u001b[0m     \u001b[38;5;28;01mraise\u001b[39;00m nx\u001b[38;5;241m.\u001b[39mNodeNotFound(msg)\n\u001b[1;32m    223\u001b[0m \u001b[38;5;66;03m# call helper to do the real work\u001b[39;00m\n\u001b[0;32m--> 224\u001b[0m results \u001b[38;5;241m=\u001b[39m \u001b[43m_bidirectional_pred_succ\u001b[49m\u001b[43m(\u001b[49m\u001b[43mG\u001b[49m\u001b[43m,\u001b[49m\u001b[43m \u001b[49m\u001b[43msource\u001b[49m\u001b[43m,\u001b[49m\u001b[43m \u001b[49m\u001b[43mtarget\u001b[49m\u001b[43m)\u001b[49m\n\u001b[1;32m    225\u001b[0m pred, succ, w \u001b[38;5;241m=\u001b[39m results\n\u001b[1;32m    227\u001b[0m \u001b[38;5;66;03m# build path from pred+w+succ\u001b[39;00m\n",
      "File \u001b[0;32m~/p38-env/lib/python3.8/site-packages/networkx/algorithms/shortest_paths/unweighted.py:275\u001b[0m, in \u001b[0;36m_bidirectional_pred_succ\u001b[0;34m(G, source, target)\u001b[0m\n\u001b[1;32m    273\u001b[0m forward_fringe \u001b[38;5;241m=\u001b[39m []\n\u001b[1;32m    274\u001b[0m \u001b[38;5;28;01mfor\u001b[39;00m v \u001b[38;5;129;01min\u001b[39;00m this_level:\n\u001b[0;32m--> 275\u001b[0m     \u001b[38;5;28;01mfor\u001b[39;00m w \u001b[38;5;129;01min\u001b[39;00m \u001b[43mGsucc\u001b[49m\u001b[43m[\u001b[49m\u001b[43mv\u001b[49m\u001b[43m]\u001b[49m:\n\u001b[1;32m    276\u001b[0m         \u001b[38;5;28;01mif\u001b[39;00m w \u001b[38;5;129;01mnot\u001b[39;00m \u001b[38;5;129;01min\u001b[39;00m pred:\n\u001b[1;32m    277\u001b[0m             forward_fringe\u001b[38;5;241m.\u001b[39mappend(w)\n",
      "File \u001b[0;32m~/p38-env/lib/python3.8/site-packages/networkx/classes/coreviews.py:82\u001b[0m, in \u001b[0;36mAdjacencyView.__getitem__\u001b[0;34m(self, name)\u001b[0m\n\u001b[1;32m     81\u001b[0m \u001b[38;5;28;01mdef\u001b[39;00m \u001b[38;5;21m__getitem__\u001b[39m(\u001b[38;5;28mself\u001b[39m, name):\n\u001b[0;32m---> 82\u001b[0m     \u001b[38;5;28;01mreturn\u001b[39;00m AtlasView(\u001b[38;5;28;43mself\u001b[39;49m\u001b[38;5;241;43m.\u001b[39;49m\u001b[43m_atlas\u001b[49m\u001b[43m[\u001b[49m\u001b[43mname\u001b[49m\u001b[43m]\u001b[49m)\n",
      "\u001b[0;31mKeyboardInterrupt\u001b[0m: "
     ]
    }
   ],
   "source": [
    "%%time\n",
    "nx.shortest_path(g, current_supernode, current_goal)"
   ]
  },
  {
   "cell_type": "code",
   "execution_count": 157,
   "id": "c7b055a0-37c2-4f5d-9359-692bbcd10d7b",
   "metadata": {},
   "outputs": [
    {
     "name": "stderr",
     "output_type": "stream",
     "text": [
      "\n",
      "KeyboardInterrupt\n",
      "\n"
     ]
    }
   ],
   "source": [
    "%%time\n",
    "nx.shortest_path(g,source,sink)"
   ]
  },
  {
   "cell_type": "code",
   "execution_count": 53,
   "id": "104ad5cc-e016-4a09-ba53-b0e8fa2c305c",
   "metadata": {},
   "outputs": [],
   "source": [
    "ram_data = np.fromfile(\"../../Videogame-Retrieval/ram_snes9x.bin\", dtype=\"int16\")\n",
    "a = abstractify_info(ram_data)"
   ]
  },
  {
   "cell_type": "code",
   "execution_count": 55,
   "id": "8f6a39b1-3f8b-41dc-8487-71a2dcce9271",
   "metadata": {},
   "outputs": [
    {
     "data": {
      "text/plain": [
       "(c(1111,568)|V: 0, H: RUN, 0|STAND|ISet(['B', 'PB', 'S', 'M', 'V', 'GS', 'SB', 'HJ', 'MB', 'CB', 'WB', 'E', 'Spazer', 'IB', 'Kraid', 'Phantoon', 'Botwoon', 'Spore_Spawn', 'Ceres_Ridley']))"
      ]
     },
     "execution_count": 55,
     "metadata": {},
     "output_type": "execute_result"
    }
   ],
   "source": [
    "a"
   ]
  },
  {
   "cell_type": "code",
   "execution_count": null,
   "id": "151b1fa5-f780-4303-9af1-6cbe222e55b3",
   "metadata": {},
   "outputs": [],
   "source": []
  }
 ],
 "metadata": {
  "kernelspec": {
   "display_name": "Python 3 (ipykernel)",
   "language": "python",
   "name": "python3"
  },
  "language_info": {
   "codemirror_mode": {
    "name": "ipython",
    "version": 3
   },
   "file_extension": ".py",
   "mimetype": "text/x-python",
   "name": "python",
   "nbconvert_exporter": "python",
   "pygments_lexer": "ipython3",
   "version": "3.10.12"
  }
 },
 "nbformat": 4,
 "nbformat_minor": 5
}
